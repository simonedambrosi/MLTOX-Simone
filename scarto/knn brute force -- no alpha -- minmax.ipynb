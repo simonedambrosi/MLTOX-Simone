{
 "cells": [
  {
   "cell_type": "code",
   "execution_count": 1,
   "metadata": {},
   "outputs": [
    {
     "data": {
      "text/plain": [
       "<matplotlib.axes._subplots.AxesSubplot at 0x1cc70ac8048>"
      ]
     },
     "execution_count": 1,
     "metadata": {},
     "output_type": "execute_result"
    },
    {
     "data": {
      "image/png": "[encoded data removed]",
      "text/plain": [
       "<Figure size 432x288 with 1 Axes>"
      ]
     },
     "metadata": {
      "needs_background": "light"
     },
     "output_type": "display_data"
    }
   ],
   "source": [
    "import pandas as pd\n",
    "import numpy as np\n",
    "\n",
    "db = pd.read_csv('lc_db_processed.csv').drop(columns = ['Unnamed: 0', 'fish'])\n",
    "\n",
    "a = pd.Series(np.where(db['conc1_mean'].values > 1, 0, 1))\n",
    "a.value_counts().plot.bar()"
   ]
  },
  {
   "cell_type": "markdown",
   "metadata": {},
   "source": [
    "categorical -> one hot\n",
    "\n",
    "numerical -> [0,1]\n",
    "\n",
    "pubchem -> one hot"
   ]
  },
  {
   "cell_type": "code",
   "execution_count": 7,
   "metadata": {},
   "outputs": [],
   "source": [
    "import pandas as pd\n",
    "import numpy as np\n",
    "from sklearn.preprocessing import OneHotEncoder\n",
    "from sklearn.model_selection import train_test_split\n",
    "import matplotlib.pyplot as plt\n",
    "from sklearn.preprocessing import MinMaxScaler\n",
    "\n",
    "# carico i dati\n",
    "db = pd.read_csv('lc_db_processed.csv').drop(columns = ['Unnamed: 0', 'fish'])\n",
    "\n",
    "# trasformo i pubchem in dataset\n",
    "pub = pd.DataFrame(pd.DataFrame(db['pubchem2d'].values).apply(lambda x: x.str.replace('', ' ').str.strip().str.split(' '),\n",
    "                                                        axis = 1)[0].to_list(),\n",
    "                   columns = ['pub'+ str(i) for i in range(1,882)])\n",
    "\n",
    "# tolgo dal dataset info inutili\n",
    "db.drop(columns = ['test_cas', 'smiles', 'pubchem2d'], inplace = True)\n",
    "\n",
    "# unisco al dataset i pub\n",
    "db = pd.concat([db,pub], axis = 1)\n",
    "\n",
    "# one hot encoding di categoriche\n",
    "categorical = ['obs_duration_mean', 'conc1_type', 'exposure_type', 'control_type', 'media_type',\n",
    "               'application_freq_unit', 'species', 'class', 'tax_order', 'family', 'genus']\n",
    "\n",
    "ohe = OneHotEncoder(sparse = False)\n",
    "ohe.fit(db[categorical])\n",
    "cat_df = pd.DataFrame(ohe.transform(db[categorical]), columns = ohe.get_feature_names(categorical))\n",
    "# unisco al dataset (senza variabili categoriche) le categoriche-one-hot\n",
    "finaldb = pd.concat([db.drop(columns =categorical), cat_df], axis = 1)\n",
    "finaldb\n",
    "\n",
    "#trasformo in variabile dicotomica la target \n",
    "finaldb['conc1_mean'] = np.where(finaldb['conc1_mean'].values > 1, 0, 1)\n",
    "\n",
    "# mi preparo\n",
    "X = finaldb.drop(columns = 'conc1_mean')\n",
    "y = finaldb['conc1_mean'].values"
   ]
  },
  {
   "cell_type": "markdown",
   "metadata": {},
   "source": [
    "## K=1\n",
    "Variabili numeriche come sempre"
   ]
  },
  {
   "cell_type": "code",
   "execution_count": 2,
   "metadata": {},
   "outputs": [
    {
     "name": "stdout",
     "output_type": "stream",
     "text": [
      "0.5938973195965355\n",
      "0.3993330432580045\n",
      "0.714327089585016\n"
     ]
    }
   ],
   "source": [
    "from sklearn.model_selection import KFold\n",
    "from sklearn.neighbors import KNeighborsClassifier\n",
    "from sklearn.metrics import recall_score, precision_score, accuracy_score, f1_score\n",
    "from sklearn.metrics import confusion_matrix\n",
    "\n",
    "numerical = ['atom_number', 'bonds_number','Mol', 'MorganDensity', 'LogP',\n",
    "            'alone_atom_number', 'doubleBond', 'tripleBond', 'ring_number', 'oh_count', 'MeltingPoint', 'WaterSolubility']\n",
    "\n",
    "kf = KFold(n_splits=5, shuffle=True, random_state = 5645)\n",
    "accs = []\n",
    "sens = []\n",
    "specs = []\n",
    "for train_index, test_index in kf.split(X):\n",
    "    X_train = X.iloc[train_index]\n",
    "    X_test = X.iloc[test_index]\n",
    "    y_train = y[train_index]\n",
    "    y_test = y[test_index]\n",
    "    \n",
    "    minmax = MinMaxScaler()\n",
    "    minmax.fit(X_train[numerical])\n",
    "    new_train = X_train.copy()\n",
    "    new_train.loc[:, numerical] = minmax.transform(X_train[numerical])\n",
    "    \n",
    "    knn = KNeighborsClassifier(n_neighbors = 1, n_jobs = -1)\n",
    "    knn.fit(new_train, y_train)\n",
    "    y_pred = knn.predict(X_test)\n",
    "\n",
    "    tn, fp, fn, tp = confusion_matrix(y_test, y_pred).ravel()\n",
    "    \n",
    "    accs.append(accuracy_score(y_test, y_pred))\n",
    "    sens.append(recall_score(y_test, y_pred))\n",
    "    specs.append(tn/(tn+fp))\n",
    "    \n",
    "    \n",
    "print('Accuracy:', np.mean(accs), 'se:', sem(accs))\n",
    "print('Sensitivity:', np.mean(sens), 'se:', sem(sens))\n",
    "print('Specificity:', np.mean(specs), 'se:', sem(specs))"
   ]
  },
  {
   "cell_type": "code",
   "execution_count": 8,
   "metadata": {},
   "outputs": [
    {
     "name": "stdout",
     "output_type": "stream",
     "text": [
      "Accuracy: 0.9140995701851014 se: 0.0014541868036512522\n",
      "Sensitivity: 0.885716811157683 se: 0.0034567513587959926\n",
      "Specificity: 0.9317999922521742 se: 0.002626326772853722\n"
     ]
    }
   ],
   "source": [
    "from scipy.stats import sem\n",
    "from sklearn.model_selection import KFold\n",
    "from sklearn.neighbors import KNeighborsClassifier\n",
    "from sklearn.metrics import recall_score, precision_score, accuracy_score, f1_score\n",
    "from sklearn.metrics import confusion_matrix\n",
    "\n",
    "\n",
    "kf = KFold(n_splits=5, shuffle=True, random_state = 5645)\n",
    "accs = []\n",
    "sens = []\n",
    "specs = []\n",
    "for train_index, test_index in kf.split(X):\n",
    "    X_train = X.iloc[train_index]\n",
    "    X_test = X.iloc[test_index]\n",
    "    y_train = y[train_index]\n",
    "    y_test = y[test_index]\n",
    "    \n",
    "    knn = KNeighborsClassifier(n_neighbors = 1, n_jobs = -1)\n",
    "    knn.fit(X_train, y_train)\n",
    "    y_pred = knn.predict(X_test)\n",
    "\n",
    "    tn, fp, fn, tp = confusion_matrix(y_test, y_pred).ravel()\n",
    "    \n",
    "    accs.append(accuracy_score(y_test, y_pred))\n",
    "    sens.append(recall_score(y_test, y_pred))\n",
    "    specs.append(tn/(tn+fp))\n",
    "    \n",
    "print('Accuracy:', np.mean(accs), 'se:', sem(accs))\n",
    "print('Sensitivity:', np.mean(sens), 'se:', sem(sens))\n",
    "print('Specificity:', np.mean(specs), 'se:', sem(specs))"
   ]
  },
  {
   "cell_type": "code",
   "execution_count": 7,
   "metadata": {},
   "outputs": [
    {
     "name": "stdout",
     "output_type": "stream",
     "text": [
      "0.014432575148331798\n",
      "0.019167806527597777\n",
      "0.034493783504758166\n"
     ]
    }
   ],
   "source": [
    "from scipy.stats import sem\n",
    "\n",
    "print(sem(accs))\n",
    "print(sem(sens))\n",
    "print(sem(specs))"
   ]
  },
  {
   "cell_type": "markdown",
   "metadata": {},
   "source": [
    "Variabili numeriche diverse"
   ]
  },
  {
   "cell_type": "code",
   "execution_count": 3,
   "metadata": {},
   "outputs": [
    {
     "name": "stdout",
     "output_type": "stream",
     "text": [
      "0.6108390246009633\n",
      "0.4224568941053294\n",
      "0.7274521866685096\n"
     ]
    }
   ],
   "source": [
    "from sklearn.model_selection import KFold\n",
    "from sklearn.neighbors import KNeighborsClassifier\n",
    "from sklearn.metrics import recall_score, precision_score, accuracy_score, f1_score\n",
    "from sklearn.metrics import confusion_matrix\n",
    "\n",
    "numerical = ['atom_number', 'bonds_number','Mol', 'MorganDensity', 'LogP',\n",
    "             'MeltingPoint', 'WaterSolubility']\n",
    "\n",
    "kf = KFold(n_splits=5, shuffle=True, random_state = 5645)\n",
    "accs = []\n",
    "sens = []\n",
    "specs = []\n",
    "for train_index, test_index in kf.split(X):\n",
    "    X_train = X.iloc[train_index]\n",
    "    X_test = X.iloc[test_index]\n",
    "    y_train = y[train_index]\n",
    "    y_test = y[test_index]\n",
    "    \n",
    "    minmax = MinMaxScaler()\n",
    "    minmax.fit(X_train[numerical])\n",
    "    new_train = X_train.copy()\n",
    "    new_train.loc[:, numerical] = minmax.transform(X_train[numerical])\n",
    "    \n",
    "    knn = KNeighborsClassifier(n_neighbors = 1, n_jobs = -1)\n",
    "    knn.fit(new_train, y_train)\n",
    "    y_pred = knn.predict(X_test)\n",
    "\n",
    "    tn, fp, fn, tp = confusion_matrix(y_test, y_pred).ravel()\n",
    "    \n",
    "    accs.append(accuracy_score(y_test, y_pred))\n",
    "    sens.append(recall_score(y_test, y_pred))\n",
    "    specs.append(tn/(tn+fp))\n",
    "    \n",
    "    \n",
    "print(np.mean(accs))\n",
    "print(np.mean(sens))\n",
    "print(np.mean(specs))"
   ]
  },
  {
   "cell_type": "code",
   "execution_count": 4,
   "metadata": {},
   "outputs": [
    {
     "name": "stdout",
     "output_type": "stream",
     "text": [
      "0.014036950243169113\n",
      "0.017236099541730308\n",
      "0.032730661874701125\n"
     ]
    }
   ],
   "source": [
    "from scipy.stats import sem\n",
    "\n",
    "print(sem(accs))\n",
    "print(sem(sens))\n",
    "print(sem(specs))"
   ]
  },
  {
   "cell_type": "markdown",
   "metadata": {},
   "source": [
    "## K = 3"
   ]
  },
  {
   "cell_type": "code",
   "execution_count": 2,
   "metadata": {},
   "outputs": [
    {
     "name": "stdout",
     "output_type": "stream",
     "text": [
      "0.6682233556417448\n",
      "0.3742240860580821\n",
      "0.8508364720926946\n",
      "0.004430696045334543\n",
      "0.005100562523308714\n",
      "0.0036637687891276317\n"
     ]
    }
   ],
   "source": [
    "from sklearn.model_selection import KFold\n",
    "from sklearn.neighbors import KNeighborsClassifier\n",
    "from sklearn.metrics import recall_score, precision_score, accuracy_score, f1_score\n",
    "from sklearn.metrics import confusion_matrix\n",
    "\n",
    "numerical = ['atom_number', 'bonds_number','Mol', 'MorganDensity', 'LogP',\n",
    "             'MeltingPoint', 'WaterSolubility']\n",
    "\n",
    "kf = KFold(n_splits=5, shuffle=True, random_state = 5645)\n",
    "accs = []\n",
    "sens = []\n",
    "specs = []\n",
    "for train_index, test_index in kf.split(X):\n",
    "    X_train = X.iloc[train_index]\n",
    "    X_test = X.iloc[test_index]\n",
    "    y_train = y[train_index]\n",
    "    y_test = y[test_index]\n",
    "    \n",
    "    minmax = MinMaxScaler()\n",
    "    minmax.fit(X_train[numerical])\n",
    "    new_train = X_train.copy()\n",
    "    new_train.loc[:, numerical] = minmax.transform(X_train[numerical])\n",
    "    \n",
    "    knn = KNeighborsClassifier(n_neighbors = 3, n_jobs = -1)\n",
    "    knn.fit(new_train, y_train)\n",
    "    y_pred = knn.predict(X_test)\n",
    "\n",
    "    tn, fp, fn, tp = confusion_matrix(y_test, y_pred).ravel()\n",
    "    \n",
    "    accs.append(accuracy_score(y_test, y_pred))\n",
    "    sens.append(recall_score(y_test, y_pred))\n",
    "    specs.append(tn/(tn+fp))\n",
    "    \n",
    "    \n",
    "print(np.mean(accs))\n",
    "print(np.mean(sens))\n",
    "print(np.mean(specs))\n",
    "\n",
    "from scipy.stats import sem\n",
    "\n",
    "print(sem(accs))\n",
    "print(sem(sens))\n",
    "print(sem(specs))"
   ]
  },
  {
   "cell_type": "markdown",
   "metadata": {},
   "source": [
    "## K = 5"
   ]
  },
  {
   "cell_type": "code",
   "execution_count": 3,
   "metadata": {},
   "outputs": [
    {
     "name": "stdout",
     "output_type": "stream",
     "text": [
      "0.6989273202444977\n",
      "0.42819432162716764\n",
      "0.8668655140363761\n",
      "0.004782215420670961\n",
      "0.020761105032693284\n",
      "0.00869143678320931\n"
     ]
    }
   ],
   "source": [
    "from sklearn.model_selection import KFold\n",
    "from sklearn.neighbors import KNeighborsClassifier\n",
    "from sklearn.metrics import recall_score, precision_score, accuracy_score, f1_score\n",
    "from sklearn.metrics import confusion_matrix\n",
    "\n",
    "numerical = ['atom_number', 'bonds_number','Mol', 'MorganDensity', 'LogP',\n",
    "             'MeltingPoint', 'WaterSolubility']\n",
    "\n",
    "kf = KFold(n_splits=5, shuffle=True, random_state = 5645)\n",
    "accs = []\n",
    "sens = []\n",
    "specs = []\n",
    "for train_index, test_index in kf.split(X):\n",
    "    X_train = X.iloc[train_index]\n",
    "    X_test = X.iloc[test_index]\n",
    "    y_train = y[train_index]\n",
    "    y_test = y[test_index]\n",
    "    \n",
    "    minmax = MinMaxScaler()\n",
    "    minmax.fit(X_train[numerical])\n",
    "    new_train = X_train.copy()\n",
    "    new_train.loc[:, numerical] = minmax.transform(X_train[numerical])\n",
    "    \n",
    "    knn = KNeighborsClassifier(n_neighbors = 5, n_jobs = -1)\n",
    "    knn.fit(new_train, y_train)\n",
    "    y_pred = knn.predict(X_test)\n",
    "\n",
    "    tn, fp, fn, tp = confusion_matrix(y_test, y_pred).ravel()\n",
    "    \n",
    "    accs.append(accuracy_score(y_test, y_pred))\n",
    "    sens.append(recall_score(y_test, y_pred))\n",
    "    specs.append(tn/(tn+fp))\n",
    "    \n",
    "    \n",
    "print(np.mean(accs))\n",
    "print(np.mean(sens))\n",
    "print(np.mean(specs))\n",
    "\n",
    "from scipy.stats import sem\n",
    "\n",
    "print(sem(accs))\n",
    "print(sem(sens))\n",
    "print(sem(specs))"
   ]
  },
  {
   "cell_type": "markdown",
   "metadata": {},
   "source": [
    "## K = 7"
   ]
  },
  {
   "cell_type": "code",
   "execution_count": 7,
   "metadata": {},
   "outputs": [
    {
     "name": "stdout",
     "output_type": "stream",
     "text": [
      "0.7114473438179783\n",
      "0.45418123932532534\n",
      "0.871189262651207\n",
      "0.005002252732787177\n",
      "0.008067802423811941\n",
      "0.008844240742927875\n"
     ]
    }
   ],
   "source": [
    "from sklearn.model_selection import KFold\n",
    "from sklearn.neighbors import KNeighborsClassifier\n",
    "from sklearn.metrics import recall_score, precision_score, accuracy_score, f1_score\n",
    "from sklearn.metrics import confusion_matrix\n",
    "\n",
    "numerical = ['atom_number', 'bonds_number','Mol', 'MorganDensity', 'LogP',\n",
    "             'MeltingPoint', 'WaterSolubility']\n",
    "\n",
    "kf = KFold(n_splits=5, shuffle=True, random_state = 5645)\n",
    "accs = []\n",
    "sens = []\n",
    "specs = []\n",
    "for train_index, test_index in kf.split(X):\n",
    "    X_train = X.iloc[train_index]\n",
    "    X_test = X.iloc[test_index]\n",
    "    y_train = y[train_index]\n",
    "    y_test = y[test_index]\n",
    "    \n",
    "    minmax = MinMaxScaler()\n",
    "    minmax.fit(X_train[numerical])\n",
    "    new_train = X_train.copy()\n",
    "    new_train.loc[:, numerical] = minmax.transform(X_train[numerical])\n",
    "    \n",
    "    knn = KNeighborsClassifier(n_neighbors = 7, n_jobs = -1)\n",
    "    knn.fit(new_train, y_train)\n",
    "    y_pred = knn.predict(X_test)\n",
    "\n",
    "    tn, fp, fn, tp = confusion_matrix(y_test, y_pred).ravel()\n",
    "    \n",
    "    accs.append(accuracy_score(y_test, y_pred))\n",
    "    sens.append(recall_score(y_test, y_pred))\n",
    "    specs.append(tn/(tn+fp))\n",
    "    \n",
    "    \n",
    "print(np.mean(accs))\n",
    "print(np.mean(sens))\n",
    "print(np.mean(specs))\n",
    "\n",
    "from scipy.stats import sem\n",
    "\n",
    "print(sem(accs))\n",
    "print(sem(sens))\n",
    "print(sem(specs))"
   ]
  },
  {
   "cell_type": "markdown",
   "metadata": {},
   "source": [
    "## K = 11"
   ]
  },
  {
   "cell_type": "code",
   "execution_count": 8,
   "metadata": {},
   "outputs": [
    {
     "name": "stdout",
     "output_type": "stream",
     "text": [
      "0.7219792220134343\n",
      "0.45734824337123764\n",
      "0.8863189129468905\n",
      "0.002702892519725604\n",
      "0.008840261625626582\n",
      "0.003765702021480223\n"
     ]
    }
   ],
   "source": [
    "from sklearn.model_selection import KFold\n",
    "from sklearn.neighbors import KNeighborsClassifier\n",
    "from sklearn.metrics import recall_score, precision_score, accuracy_score, f1_score\n",
    "from sklearn.metrics import confusion_matrix\n",
    "\n",
    "numerical = ['atom_number', 'bonds_number','Mol', 'MorganDensity', 'LogP',\n",
    "             'MeltingPoint', 'WaterSolubility']\n",
    "\n",
    "kf = KFold(n_splits=5, shuffle=True, random_state = 5645)\n",
    "accs = []\n",
    "sens = []\n",
    "specs = []\n",
    "for train_index, test_index in kf.split(X):\n",
    "    X_train = X.iloc[train_index]\n",
    "    X_test = X.iloc[test_index]\n",
    "    y_train = y[train_index]\n",
    "    y_test = y[test_index]\n",
    "    \n",
    "    minmax = MinMaxScaler()\n",
    "    minmax.fit(X_train[numerical])\n",
    "    new_train = X_train.copy()\n",
    "    new_train.loc[:, numerical] = minmax.transform(X_train[numerical])\n",
    "    \n",
    "    knn = KNeighborsClassifier(n_neighbors = 11, n_jobs = -1)\n",
    "    knn.fit(new_train, y_train)\n",
    "    y_pred = knn.predict(X_test)\n",
    "\n",
    "    tn, fp, fn, tp = confusion_matrix(y_test, y_pred).ravel()\n",
    "    \n",
    "    accs.append(accuracy_score(y_test, y_pred))\n",
    "    sens.append(recall_score(y_test, y_pred))\n",
    "    specs.append(tn/(tn+fp))\n",
    "    \n",
    "    \n",
    "print(np.mean(accs))\n",
    "print(np.mean(sens))\n",
    "print(np.mean(specs))\n",
    "\n",
    "from scipy.stats import sem\n",
    "\n",
    "print(sem(accs))\n",
    "print(sem(sens))\n",
    "print(sem(specs))"
   ]
  },
  {
   "cell_type": "markdown",
   "metadata": {},
   "source": [
    "## K = 13"
   ]
  },
  {
   "cell_type": "code",
   "execution_count": 9,
   "metadata": {},
   "outputs": [
    {
     "name": "stdout",
     "output_type": "stream",
     "text": [
      "0.7220289361387009\n",
      "0.4588996370256761\n",
      "0.8855312498335348\n",
      "0.0031508722993767203\n",
      "0.01035989057534245\n",
      "0.004232593216254714\n"
     ]
    }
   ],
   "source": [
    "from sklearn.model_selection import KFold\n",
    "from sklearn.neighbors import KNeighborsClassifier\n",
    "from sklearn.metrics import recall_score, precision_score, accuracy_score, f1_score\n",
    "from sklearn.metrics import confusion_matrix\n",
    "\n",
    "numerical = ['atom_number', 'bonds_number','Mol', 'MorganDensity', 'LogP',\n",
    "             'MeltingPoint', 'WaterSolubility']\n",
    "\n",
    "kf = KFold(n_splits=5, shuffle=True, random_state = 5645)\n",
    "accs = []\n",
    "sens = []\n",
    "specs = []\n",
    "for train_index, test_index in kf.split(X):\n",
    "    X_train = X.iloc[train_index]\n",
    "    X_test = X.iloc[test_index]\n",
    "    y_train = y[train_index]\n",
    "    y_test = y[test_index]\n",
    "    \n",
    "    minmax = MinMaxScaler()\n",
    "    minmax.fit(X_train[numerical])\n",
    "    new_train = X_train.copy()\n",
    "    new_train.loc[:, numerical] = minmax.transform(X_train[numerical])\n",
    "    \n",
    "    knn = KNeighborsClassifier(n_neighbors = 13, n_jobs = -1)\n",
    "    knn.fit(new_train, y_train)\n",
    "    y_pred = knn.predict(X_test)\n",
    "\n",
    "    tn, fp, fn, tp = confusion_matrix(y_test, y_pred).ravel()\n",
    "    \n",
    "    accs.append(accuracy_score(y_test, y_pred))\n",
    "    sens.append(recall_score(y_test, y_pred))\n",
    "    specs.append(tn/(tn+fp))\n",
    "    \n",
    "    \n",
    "print(np.mean(accs))\n",
    "print(np.mean(sens))\n",
    "print(np.mean(specs))\n",
    "\n",
    "from scipy.stats import sem\n",
    "\n",
    "print(sem(accs))\n",
    "print(sem(sens))\n",
    "print(sem(specs))"
   ]
  },
  {
   "cell_type": "code",
   "execution_count": 10,
   "metadata": {},
   "outputs": [
    {
     "name": "stdout",
     "output_type": "stream",
     "text": [
      "0.779114698558747\n",
      "0.5588291776680715\n",
      "0.9153250765008387\n",
      "0.01007263275107703\n",
      "0.02733774680768341\n",
      "0.002743203820490297\n"
     ]
    }
   ],
   "source": [
    "from sklearn.model_selection import KFold\n",
    "from sklearn.neighbors import KNeighborsClassifier\n",
    "from sklearn.metrics import recall_score, precision_score, accuracy_score, f1_score\n",
    "from sklearn.metrics import confusion_matrix\n",
    "\n",
    "numerical = ['atom_number', 'bonds_number','Mol', 'MorganDensity', 'LogP',\n",
    "             'MeltingPoint', 'WaterSolubility']\n",
    "\n",
    "kf = KFold(n_splits=5, shuffle=True, random_state = 5645)\n",
    "accs = []\n",
    "sens = []\n",
    "specs = []\n",
    "for train_index, test_index in kf.split(X):\n",
    "    X_train = X.iloc[train_index]\n",
    "    X_test = X.iloc[test_index]\n",
    "    y_train = y[train_index]\n",
    "    y_test = y[test_index]\n",
    "    \n",
    "    minmax = MinMaxScaler()\n",
    "    minmax.fit(X_train[numerical])\n",
    "    new_train = X_train.copy()\n",
    "    new_train.loc[:, numerical] = minmax.transform(X_train[numerical])\n",
    "    \n",
    "    knn = KNeighborsClassifier(n_neighbors = 31, n_jobs = -1)\n",
    "    knn.fit(new_train, y_train)\n",
    "    y_pred = knn.predict(X_test)\n",
    "\n",
    "    tn, fp, fn, tp = confusion_matrix(y_test, y_pred).ravel()\n",
    "    \n",
    "    accs.append(accuracy_score(y_test, y_pred))\n",
    "    sens.append(recall_score(y_test, y_pred))\n",
    "    specs.append(tn/(tn+fp))\n",
    "    \n",
    "    \n",
    "print(np.mean(accs))\n",
    "print(np.mean(sens))\n",
    "print(np.mean(specs))\n",
    "\n",
    "from scipy.stats import sem\n",
    "\n",
    "print(sem(accs))\n",
    "print(sem(sens))\n",
    "print(sem(specs))"
   ]
  },
  {
   "cell_type": "markdown",
   "metadata": {},
   "source": [
    "## K=51"
   ]
  },
  {
   "cell_type": "code",
   "execution_count": 11,
   "metadata": {},
   "outputs": [
    {
     "name": "stdout",
     "output_type": "stream",
     "text": [
      "0.8186606313619856\n",
      "0.667748028743989\n",
      "0.9122116401704083\n",
      "0.0017335847771682115\n",
      "0.0058100077991638495\n",
      "0.0017243762638647982\n"
     ]
    }
   ],
   "source": [
    "from sklearn.model_selection import KFold\n",
    "from sklearn.neighbors import KNeighborsClassifier\n",
    "from sklearn.metrics import recall_score, precision_score, accuracy_score, f1_score\n",
    "from sklearn.metrics import confusion_matrix\n",
    "\n",
    "numerical = ['atom_number', 'bonds_number','Mol', 'MorganDensity', 'LogP',\n",
    "             'MeltingPoint', 'WaterSolubility']\n",
    "\n",
    "kf = KFold(n_splits=5, shuffle=True, random_state = 5645)\n",
    "accs = []\n",
    "sens = []\n",
    "specs = []\n",
    "for train_index, test_index in kf.split(X):\n",
    "    X_train = X.iloc[train_index]\n",
    "    X_test = X.iloc[test_index]\n",
    "    y_train = y[train_index]\n",
    "    y_test = y[test_index]\n",
    "    \n",
    "    minmax = MinMaxScaler()\n",
    "    minmax.fit(X_train[numerical])\n",
    "    new_train = X_train.copy()\n",
    "    new_train.loc[:, numerical] = minmax.transform(X_train[numerical])\n",
    "    \n",
    "    knn = KNeighborsClassifier(n_neighbors = 51, n_jobs = -1)\n",
    "    knn.fit(new_train, y_train)\n",
    "    y_pred = knn.predict(X_test)\n",
    "\n",
    "    tn, fp, fn, tp = confusion_matrix(y_test, y_pred).ravel()\n",
    "    \n",
    "    accs.append(accuracy_score(y_test, y_pred))\n",
    "    sens.append(recall_score(y_test, y_pred))\n",
    "    specs.append(tn/(tn+fp))\n",
    "    \n",
    "    \n",
    "print(np.mean(accs))\n",
    "print(np.mean(sens))\n",
    "print(np.mean(specs))\n",
    "\n",
    "from scipy.stats import sem\n",
    "\n",
    "print(sem(accs))\n",
    "print(sem(sens))\n",
    "print(sem(specs))"
   ]
  }
 ],
 "metadata": {
  "kernelspec": {
   "display_name": "Python 3",
   "language": "python",
   "name": "python3"
  },
  "language_info": {
   "codemirror_mode": {
    "name": "ipython",
    "version": 3
   },
   "file_extension": ".py",
   "mimetype": "text/x-python",
   "name": "python",
   "nbconvert_exporter": "python",
   "pygments_lexer": "ipython3",
   "version": "3.7.7"
  }
 },
 "nbformat": 4,
 "nbformat_minor": 4
}
