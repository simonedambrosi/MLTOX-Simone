{
 "cells": [
  {
   "cell_type": "code",
   "execution_count": 1,
   "metadata": {},
   "outputs": [],
   "source": [
    "from helper_knn import *\n",
    "\n",
    "X_try, _, _, y_train, y_test, _ = load_data_knn('lc_db_processed.csv', 'binary')\n",
    "\n",
    "# _, X_train, _, y_train, _, _ = load_data_knn('lc_db_processed.csv', 'binary')\n",
    "\n",
    "# del _"
   ]
  },
  {
   "cell_type": "markdown",
   "metadata": {},
   "source": [
    "### K = 1, Euclidea NON normalizzata su training\n",
    "\n",
    "### alpha_categoriche = 1, alpha_pubchem = 1"
   ]
  },
  {
   "cell_type": "code",
   "execution_count": 17,
   "metadata": {
    "collapsed": true
   },
   "outputs": [
    {
     "name": "stdout",
     "output_type": "stream",
     "text": [
      "Basic Matrix... Wed Feb  3 18:54:35 2021\n",
      "Adding pubchem2d Wed Feb  3 18:55:00 2021\n",
      "End distance matrix... Wed Feb  3 19:01:50 2021\n",
      "Accuracy: \t 0.89189208035965, se: 0.0022381999691642195\n",
      "    RMSE: \t\t 0.3287265060484927, se: 0.0034206673873847307\n",
      "    Sensitivity: \t 0.912116755180844, se: 0.0022966698480233337\n",
      "    Precision: \t 0.9125935782558908, se: 0.0022136875764682735\n",
      "    Specificity: \t 0.8592209217273634, se: 0.004089782919160314\n"
     ]
    }
   ],
   "source": [
    "cv_binary_knn(X_try, np.concatenate([y_train, y_test]), 1, 1, 1, 60)"
   ]
  },
  {
   "cell_type": "markdown",
   "metadata": {},
   "source": [
    "### K = 1, Euclidea normalizzata su massimo del training\n",
    "\n",
    "### alpha_categoriche = 1, alpha_pubchem = 1\n",
    "\n",
    "\n"
   ]
  },
  {
   "cell_type": "code",
   "execution_count": 2,
   "metadata": {
    "collapsed": true
   },
   "outputs": [
    {
     "name": "stdout",
     "output_type": "stream",
     "text": [
      "Cat + Pub Matrix... Wed Feb  3 19:55:04 2021\n",
      "Euclidean Matrix... Wed Feb  3 20:02:15 2021\n",
      "Adding normalized euclidean matrix... Wed Feb  3 20:02:30 2021\n",
      "Adding normalized euclidean matrix... Wed Feb  3 20:03:35 2021\n",
      "Adding normalized euclidean matrix... Wed Feb  3 20:05:45 2021\n",
      "Adding normalized euclidean matrix... Wed Feb  3 20:08:38 2021\n",
      "Adding normalized euclidean matrix... Wed Feb  3 20:10:47 2021\n",
      "Wed Feb  3 20:13:31 2021\n",
      "Accuracy: \t 0.8798690375910618, se: 0.0016712129313605827\n",
      "RMSE: \t 0.34656569282711924, se: 0.002407434536856464\n",
      "Sensitivity: \t 0.9031968859158057, se: 0.001180506942489426\n",
      "Precision: \t 0.9021953109228097, se: 0.0024051874806844333\n",
      "Specificity: \t 0.8422710940245007, se: 0.003944545828529199\n"
     ]
    }
   ],
   "source": [
    "cv_binary_knn_new(X_try, np.concatenate([y_train, y_test]), 1, 1, 1, 60)"
   ]
  },
  {
   "cell_type": "markdown",
   "metadata": {},
   "source": [
    "### K = 1, Euclidea normalizzata su massimo del training\n",
    "\n",
    "### alpha_categoriche = 0, alpha_pubchem = 0\n",
    "(ho modificato il codice leggermente e poi l'ho rimesso a posto)"
   ]
  },
  {
   "cell_type": "code",
   "execution_count": 3,
   "metadata": {
    "collapsed": true
   },
   "outputs": [
    {
     "name": "stdout",
     "output_type": "stream",
     "text": [
      "Cat + Pub Matrix... Fri Feb  5 11:51:10 2021\n",
      "Euclidean Matrix... Fri Feb  5 11:51:10 2021\n",
      "Adding normalized euclidean matrix... Fri Feb  5 11:51:21 2021\n",
      "Adding normalized euclidean matrix... Fri Feb  5 11:51:53 2021\n",
      "Adding normalized euclidean matrix... Fri Feb  5 11:52:45 2021\n",
      "Adding normalized euclidean matrix... Fri Feb  5 11:53:25 2021\n",
      "Adding normalized euclidean matrix... Fri Feb  5 11:54:08 2021\n",
      "Fri Feb  5 11:54:42 2021\n",
      "Accuracy: \t 0.8388319155304187, se: 0.0041696320809869155\n",
      "RMSE: \t \t 0.4013228863404585, se: 0.005196762668832194\n",
      "Sensitivity: \t 0.8793868806605747, se: 0.007647866405784868\n",
      "Precision: \t 0.8623534436471363, se: 0.006880813406730887\n",
      "Specificity: \t 0.7735116702615266, se: 0.01317757208605535\n"
     ]
    }
   ],
   "source": [
    "cv_binary_knn_new(X_try, np.concatenate([y_train, y_test]), a_ham = 0, a_pub = 0, k = 1, leaf_size = 10)"
   ]
  },
  {
   "cell_type": "markdown",
   "metadata": {},
   "source": [
    "# Tuning alphas\n",
    "### K = 1, Euclidea normalizzata su massimo del training\n",
    "\n",
    "Step 1: Alpha Categoriche"
   ]
  },
  {
   "cell_type": "code",
   "execution_count": 4,
   "metadata": {
    "collapsed": true
   },
   "outputs": [
    {
     "name": "stdout",
     "output_type": "stream",
     "text": [
      "START... Thu Feb  4 15:19:03 2021\n",
      "Computing Euclidean Matrix ...\n",
      "Computin Categorical Matrix...\n",
      "Alpha = 0.001\n",
      "Start CV...\n",
      "New best params found! alpha:0.001, k:1, leaf:10,\n",
      "                                                    acc:  0.9004820170559882, st.error:  0.0014341178795560861,\n",
      "                                                    rmse: 0.31543186213970237, st.error:  0.0022761420810042663\n",
      "Alpha = 0.001333521432163324\n",
      "Start CV...\n",
      "Alpha = 0.0017782794100389228\n",
      "Start CV...\n",
      "Alpha = 0.0023713737056616554\n",
      "Start CV...\n",
      "Alpha = 0.0031622776601683794\n",
      "Start CV...\n",
      "New best params found! alpha:0.0031622776601683794, k:1, leaf:10,\n",
      "                                                    acc:  0.9005561735261403, st.error:  0.0013337861140975103,\n",
      "                                                    rmse: 0.31531879330613927, st.error:  0.002114536699851424\n",
      "Alpha = 0.004216965034285823\n",
      "Start CV...\n",
      "Alpha = 0.005623413251903491\n",
      "Start CV...\n",
      "New best params found! alpha:0.005623413251903491, k:1, leaf:10,\n",
      "                                                    acc:  0.9007044864664442, st.error:  0.001231979809109106,\n",
      "                                                    rmse: 0.3150876586087071, st.error:  0.001954541252997534\n",
      "Alpha = 0.007498942093324558\n",
      "Start CV...\n",
      "New best params found! alpha:0.007498942093324558, k:1, leaf:10,\n",
      "                                                    acc:  0.9008527994067481, st.error:  0.0011404194660162932,\n",
      "                                                    rmse: 0.3148556565077502, st.error:  0.0018108118569699488\n",
      "Alpha = 0.01\n",
      "Start CV...\n",
      "New best params found! alpha:0.01, k:1, leaf:10,\n",
      "                                                    acc:  0.9008527994067483, st.error:  0.001122191023390551,\n",
      "                                                    rmse: 0.3148563185617486, st.error:  0.0017818007039545212\n",
      "Alpha = 0.01333521432163324\n",
      "Start CV...\n",
      "New best params found! alpha:0.01333521432163324, k:1, leaf:10,\n",
      "                                                    acc:  0.9010752688172043, st.error:  0.0011980344398519408,\n",
      "                                                    rmse: 0.3144999728362971, st.error:  0.0019038296118669448\n",
      "Alpha = 0.01778279410038923\n",
      "Start CV...\n",
      "Alpha = 0.023713737056616554\n",
      "Start CV...\n",
      "New best params found! alpha:0.023713737056616554, k:1, leaf:10,\n",
      "                                                    acc:  0.9014460511679644, st.error:  0.0014040857418436419,\n",
      "                                                    rmse: 0.31390127210913765, st.error:  0.0022327225701324047\n",
      "Alpha = 0.03162277660168379\n",
      "Start CV...\n",
      "Alpha = 0.042169650342858224\n",
      "Start CV...\n",
      "Alpha = 0.05623413251903491\n",
      "Start CV...\n",
      "New best params found! alpha:0.05623413251903491, k:1, leaf:10,\n",
      "                                                    acc:  0.9021134593993325, st.error:  0.0016289123200955576,\n",
      "                                                    rmse: 0.31282457582247697, st.error:  0.0026136833279283987\n",
      "Alpha = 0.07498942093324558\n",
      "Start CV...\n",
      "New best params found! alpha:0.07498942093324558, k:1, leaf:10,\n",
      "                                                    acc:  0.9027067111605487, st.error:  0.0014766264554497489,\n",
      "                                                    rmse: 0.3118824907777128, st.error:  0.002377014184915046\n",
      "Alpha = 0.1\n",
      "Start CV...\n",
      "Alpha = 0.1333521432163324\n",
      "Start CV...\n",
      "Alpha = 0.1778279410038923\n",
      "Start CV...\n",
      "Alpha = 0.23713737056616552\n",
      "Start CV...\n",
      "Alpha = 0.31622776601683794\n",
      "Start CV...\n",
      "Alpha = 0.4216965034285822\n",
      "Start CV...\n",
      "Alpha = 0.5623413251903491\n",
      "Start CV...\n",
      "Alpha = 0.7498942093324559\n",
      "Start CV...\n",
      "Alpha = 1.0\n",
      "Start CV...\n",
      "Alpha = 31.622776601683793\n",
      "Start CV...\n",
      "Alpha = 4216.965034285822\n",
      "Start CV...\n",
      "Alpha = 562341.3251903491\n",
      "Start CV...\n",
      "Alpha = 74989420.93324558\n",
      "Start CV...\n",
      "Alpha = 10000000000.0\n",
      "Start CV...\n",
      "Thu Feb  4 17:41:09 2021\n"
     ]
    }
   ],
   "source": [
    "c = [0,0]\n",
    "ham = np.concatenate([np.logspace(-3,0,25), np.linspace(1.5,10,5)])\n",
    "\n",
    "best_al_categor, best_leaf = cv_params_norm_new(X_train, y_train, k = 1, sequence_ham = ham, choice = c)"
   ]
  },
  {
   "cell_type": "code",
   "execution_count": 6,
   "metadata": {
    "collapsed": true
   },
   "outputs": [
    {
     "name": "stdout",
     "output_type": "stream",
     "text": [
      "Cat + Pub Matrix... Thu Feb  4 17:42:19 2021\n",
      "Euclidean Matrix... Thu Feb  4 17:49:30 2021\n",
      "Adding normalized euclidean matrix... Thu Feb  4 17:49:46 2021\n",
      "Adding normalized euclidean matrix... Thu Feb  4 17:50:33 2021\n",
      "Adding normalized euclidean matrix... Thu Feb  4 17:52:20 2021\n",
      "Adding normalized euclidean matrix... Thu Feb  4 17:53:18 2021\n",
      "Adding normalized euclidean matrix... Thu Feb  4 17:54:31 2021\n",
      "Thu Feb  4 17:55:36 2021\n",
      "Accuracy: \t 0.9170308275710986, se: 0.002103609518709948\n",
      "RMSE: \t t 0.2879491130211217, se: 0.0036905534561519097\n",
      "Sensitivity: \t 0.9326620115613095, se: 0.0028256328407335026\n",
      "Precision: \t 0.9328663787476934, se: 0.001833603802479729\n",
      "Specificity: \t 0.8917210346555192, se: 0.004195377015022948\n"
     ]
    }
   ],
   "source": [
    "a_ham = 0.07498942093324558\n",
    "leaf = 10\n",
    "cv_binary_knn_new(X_try, np.concatenate([y_train, y_test]), a_ham = a_ham, a_pub = 0, k = 1, leaf_size = leaf)"
   ]
  },
  {
   "cell_type": "markdown",
   "metadata": {},
   "source": [
    "Step 2: Alpha Pubchem"
   ]
  },
  {
   "cell_type": "code",
   "execution_count": 2,
   "metadata": {
    "collapsed": true
   },
   "outputs": [
    {
     "name": "stdout",
     "output_type": "stream",
     "text": [
      "START... Thu Feb  4 18:30:43 2021\n",
      "Computing Euclidean Matrix...\n",
      "Computing Categorical Matrix...\n",
      "Computing PubChem Matrix...\n",
      "Alpha = 0.001\n",
      "Start CV... Thu Feb  4 18:33:44 2021\n",
      "New best params found! alpha:0.001, k:1, leaf:10,\n",
      "                                                    acc:  0.9027808676307008, st.error:  0.001535056844233171,\n",
      "                                                    rmse: 0.31176058494937303, st.error:  0.002473360129660767\n",
      "Alpha = 0.001333521432163324\n",
      "Start CV... Thu Feb  4 18:39:27 2021\n",
      "Alpha = 0.0017782794100389228\n",
      "Start CV... Thu Feb  4 18:45:07 2021\n",
      "New best params found! alpha:0.0017782794100389228, k:1, leaf:10,\n",
      "                                                    acc:  0.9028550241008528, st.error:  0.0015152255648277619,\n",
      "                                                    rmse: 0.3116426313735764, st.error:  0.002441629051491504\n",
      "Alpha = 0.0023713737056616554\n",
      "Start CV... Thu Feb  4 18:50:56 2021\n",
      "New best params found! alpha:0.0023713737056616554, k:1, leaf:10,\n",
      "                                                    acc:  0.9029291805710049, st.error:  0.0015748432021946784,\n",
      "                                                    rmse: 0.311520480507654, st.error:  0.0025401600970961784\n",
      "Alpha = 0.0031622776601683794\n",
      "Start CV... Thu Feb  4 18:56:40 2021\n",
      "Alpha = 0.004216965034285823\n",
      "Start CV... Thu Feb  4 19:02:21 2021\n",
      "Alpha = 0.005623413251903491\n",
      "Start CV... Thu Feb  4 19:08:03 2021\n",
      "New best params found! alpha:0.005623413251903491, k:1, leaf:10,\n",
      "                                                    acc:  0.903003337041157, st.error:  0.0016356503522516003,\n",
      "                                                    rmse: 0.3113980831205637, st.error:  0.0026408704853526452\n",
      "Alpha = 0.007498942093324558\n",
      "Start CV... Thu Feb  4 19:13:44 2021\n",
      "Alpha = 0.01\n",
      "Start CV... Thu Feb  4 19:19:25 2021\n",
      "New best params found! alpha:0.01, k:1, leaf:10,\n",
      "                                                    acc:  0.9031516499814609, st.error:  0.001720845589302518,\n",
      "                                                    rmse: 0.31115497177129053, st.error:  0.0027808973617577505\n",
      "Alpha = 0.01333521432163324\n",
      "Start CV... Thu Feb  4 19:25:05 2021\n",
      "Alpha = 0.01778279410038923\n",
      "Start CV... Thu Feb  4 19:30:46 2021\n",
      "Alpha = 0.023713737056616554\n",
      "Start CV... Thu Feb  4 19:36:28 2021\n",
      "Alpha = 0.03162277660168379\n",
      "Start CV... Thu Feb  4 19:42:09 2021\n",
      "Alpha = 0.042169650342858224\n",
      "Start CV... Thu Feb  4 19:47:52 2021\n",
      "New best params found! alpha:0.042169650342858224, k:1, leaf:10,\n",
      "                                                    acc:  0.903448275862069, st.error:  0.001826267757660324,\n",
      "                                                    rmse: 0.3106713733482734, st.error:  0.002958966028393521\n",
      "Alpha = 0.05623413251903491\n",
      "Start CV... Thu Feb  4 19:53:33 2021\n",
      "Alpha = 0.07498942093324558\n",
      "Start CV... Thu Feb  4 19:59:25 2021\n",
      "Alpha = 0.1\n",
      "Start CV... Thu Feb  4 20:06:01 2021\n",
      "Alpha = 0.1333521432163324\n",
      "Start CV... Thu Feb  4 20:11:44 2021\n",
      "Alpha = 0.1778279410038923\n",
      "Start CV... Thu Feb  4 20:17:24 2021\n",
      "Alpha = 0.23713737056616552\n",
      "Start CV... Thu Feb  4 20:23:06 2021\n",
      "Alpha = 0.31622776601683794\n",
      "Start CV... Thu Feb  4 20:28:45 2021\n",
      "New best params found! alpha:0.31622776601683794, k:1, leaf:10,\n",
      "                                                    acc:  0.9035224323322211, st.error:  0.001570472271749894,\n",
      "                                                    rmse: 0.31056698162746, st.error:  0.002535625691417978\n",
      "Alpha = 0.4216965034285822\n",
      "Start CV... Thu Feb  4 20:34:31 2021\n",
      "New best params found! alpha:0.4216965034285822, k:1, leaf:10,\n",
      "                                                    acc:  0.9036707452725251, st.error:  0.0017485837779090188,\n",
      "                                                    rmse: 0.31031810349738176, st.error:  0.0028253039333522275\n",
      "Alpha = 0.5623413251903491\n",
      "Start CV... Thu Feb  4 20:40:16 2021\n",
      "New best params found! alpha:0.5623413251903491, k:1, leaf:10,\n",
      "                                                    acc:  0.9043381535038932, st.error:  0.001603392533217615,\n",
      "                                                    rmse: 0.309248949438955, st.error:  0.00259488761844648\n",
      "Alpha = 0.7498942093324559\n",
      "Start CV... Thu Feb  4 20:46:02 2021\n",
      "Alpha = 1.0\n",
      "Start CV... Thu Feb  4 20:51:46 2021\n",
      "Alpha = 1.5\n",
      "Start CV... Thu Feb  4 20:57:31 2021\n",
      "Alpha = 3.625\n",
      "Start CV... Thu Feb  4 21:03:16 2021\n",
      "Alpha = 5.75\n",
      "Start CV... Thu Feb  4 21:09:01 2021\n",
      "Alpha = 7.875\n",
      "Start CV... Thu Feb  4 21:14:46 2021\n",
      "Alpha = 10.0\n",
      "Start CV... Thu Feb  4 21:20:32 2021\n",
      "Thu Feb  4 21:26:17 2021\n"
     ]
    }
   ],
   "source": [
    "c = [0,1]\n",
    "a_ham = 0.07498942093324558\n",
    "pub = np.concatenate([np.logspace(-3,0,25), np.linspace(1.5,10,5)])\n",
    "\n",
    "best_al_pub, best_leaf = cv_params_norm_new(X_train, y_train, k = 1, a_ham = a_ham, sequence_pub = pub, choice = c)"
   ]
  },
  {
   "cell_type": "code",
   "execution_count": 4,
   "metadata": {},
   "outputs": [
    {
     "name": "stdout",
     "output_type": "stream",
     "text": [
      "Cat + Pub Matrix... Thu Feb  4 21:36:37 2021\n",
      "Euclidean Matrix... Thu Feb  4 21:43:05 2021\n",
      "Adding normalized euclidean matrix... Thu Feb  4 21:43:18 2021\n",
      "Adding normalized euclidean matrix... Thu Feb  4 21:44:18 2021\n",
      "Adding normalized euclidean matrix... Thu Feb  4 21:46:20 2021\n",
      "Adding normalized euclidean matrix... Thu Feb  4 21:48:59 2021\n",
      "Adding normalized euclidean matrix... Thu Feb  4 21:51:46 2021\n",
      "Thu Feb  4 21:53:20 2021\n",
      "Accuracy: \t 0.916931386978429, se: 0.0021227865410524925\n",
      "RMSE: \t \t 0.28812025525117724, se: 0.0037192585137183353\n",
      "Sensitivity: \t 0.9324986320509121, se: 0.0031822862506635883\n",
      "Precision: \t 0.932875165245885, se: 0.002057175078406537\n",
      "Specificity: \t 0.8916950277373955, se: 0.00482516222122016\n"
     ]
    }
   ],
   "source": [
    "a_ham = 0.07498942093324558\n",
    "a_pub = 0.5623413251903491\n",
    "leaf = 10\n",
    "cv_binary_knn_new(X_try, np.concatenate([y_train, y_test]), a_ham = a_ham, a_pub = a_pub, k = 1, leaf_size = leaf)"
   ]
  },
  {
   "cell_type": "markdown",
   "metadata": {},
   "source": [
    "Step 3: Alpha Categoriche"
   ]
  },
  {
   "cell_type": "code",
   "execution_count": 2,
   "metadata": {
    "collapsed": true
   },
   "outputs": [
    {
     "name": "stdout",
     "output_type": "stream",
     "text": [
      "START... Thu Feb  4 22:06:09 2021\n",
      "Computing Euclidean Matrix...\n",
      "Computing Categorical Matrix...\n",
      "Computing PubChem Matrix...\n",
      "Alpha = 0.01\n",
      "Start CV... Thu Feb  4 22:09:05 2021\n",
      "New best params found! alpha:0.01, k:1, leaf:10,\n",
      "                                                    acc:  0.9015202076381165, st.error:  0.0021702648315405177,\n",
      "                                                    rmse: 0.3137387257092928, st.error:  0.003457034574339076\n",
      "Alpha = 0.01438449888287663\n",
      "Start CV... Thu Feb  4 22:15:04 2021\n",
      "Alpha = 0.0206913808111479\n",
      "Start CV... Thu Feb  4 22:20:43 2021\n",
      "New best params found! alpha:0.0206913808111479, k:1, leaf:10,\n",
      "                                                    acc:  0.9024100852799407, st.error:  0.001810390154354265,\n",
      "                                                    rmse: 0.3123399444281175, st.error:  0.002901458025707272\n",
      "Alpha = 0.029763514416313176\n",
      "Start CV... Thu Feb  4 22:26:22 2021\n",
      "New best params found! alpha:0.029763514416313176, k:1, leaf:10,\n",
      "                                                    acc:  0.9024842417500928, st.error:  0.0016828781190819783,\n",
      "                                                    rmse: 0.3122286547377884, st.error:  0.002693761799892501\n",
      "Alpha = 0.04281332398719394\n",
      "Start CV... Thu Feb  4 22:32:01 2021\n",
      "New best params found! alpha:0.04281332398719394, k:1, leaf:10,\n",
      "                                                    acc:  0.9028550241008528, st.error:  0.0014691592700154913,\n",
      "                                                    rmse: 0.31164517875800096, st.error:  0.0023589434097091412\n",
      "Alpha = 0.06158482110660264\n",
      "Start CV... Thu Feb  4 22:37:40 2021\n",
      "New best params found! alpha:0.06158482110660264, k:1, leaf:10,\n",
      "                                                    acc:  0.9041898405635891, st.error:  0.0017375416409136045,\n",
      "                                                    rmse: 0.3094810657140571, st.error:  0.0028120011069658127\n",
      "Alpha = 0.08858667904100823\n",
      "Start CV... Thu Feb  4 22:43:23 2021\n",
      "New best params found! alpha:0.08858667904100823, k:1, leaf:10,\n",
      "                                                    acc:  0.9043381535038932, st.error:  0.0018240079905448797,\n",
      "                                                    rmse: 0.309236045604943, st.error:  0.0029544286556113\n",
      "Alpha = 0.12742749857031335\n",
      "Start CV... Thu Feb  4 22:49:16 2021\n",
      "Alpha = 0.18329807108324356\n",
      "Start CV... Thu Feb  4 22:54:52 2021\n",
      "Alpha = 0.26366508987303583\n",
      "Start CV... Thu Feb  4 23:00:30 2021\n",
      "Alpha = 0.37926901907322497\n",
      "Start CV... Thu Feb  4 23:06:10 2021\n",
      "Alpha = 0.5455594781168517\n",
      "Start CV... Thu Feb  4 23:11:49 2021\n",
      "Alpha = 0.7847599703514611\n",
      "Start CV... Thu Feb  4 23:17:27 2021\n",
      "Alpha = 1.1288378916846884\n",
      "Start CV... Thu Feb  4 23:23:06 2021\n",
      "Alpha = 1.623776739188721\n",
      "Start CV... Thu Feb  4 23:28:44 2021\n",
      "Alpha = 2.3357214690901213\n",
      "Start CV... Thu Feb  4 23:34:21 2021\n",
      "Alpha = 3.359818286283781\n",
      "Start CV... Thu Feb  4 23:39:58 2021\n",
      "Alpha = 4.832930238571752\n",
      "Start CV... Thu Feb  4 23:45:35 2021\n",
      "Alpha = 6.951927961775605\n",
      "Start CV... Thu Feb  4 23:51:12 2021\n",
      "Alpha = 10.0\n",
      "Start CV... Thu Feb  4 23:56:52 2021\n",
      "Fri Feb  5 00:02:32 2021\n"
     ]
    }
   ],
   "source": [
    "c = [1,0]\n",
    "a_pub = 0.5623413251903491\n",
    "ham = np.logspace(-2,1,20)\n",
    "\n",
    "best_al_categor, best_leaf = cv_params_norm_new(X_train, y_train, k = 1, a_pub = a_pub, sequence_ham = ham, choice = c)"
   ]
  },
  {
   "cell_type": "code",
   "execution_count": 3,
   "metadata": {
    "collapsed": true
   },
   "outputs": [
    {
     "name": "stdout",
     "output_type": "stream",
     "text": [
      "Cat + Pub Matrix... Fri Feb  5 09:04:39 2021\n",
      "Euclidean Matrix... Fri Feb  5 09:11:10 2021\n",
      "Adding normalized euclidean matrix... Fri Feb  5 09:11:24 2021\n",
      "Adding normalized euclidean matrix... Fri Feb  5 09:12:26 2021\n",
      "Adding normalized euclidean matrix... Fri Feb  5 09:14:26 2021\n",
      "Adding normalized euclidean matrix... Fri Feb  5 09:17:40 2021\n",
      "Adding normalized euclidean matrix... Fri Feb  5 09:19:32 2021\n",
      "Fri Feb  5 09:21:09 2021\n",
      "Accuracy: \t 0.9174282320198216, se: 0.001981181127133442\n",
      "RMSE: \t \t 0.2872687257583461, se: 0.0034802004739183942\n",
      "Sensitivity: \t 0.9329006826438689, se: 0.0030117747732270124\n",
      "Precision: \t 0.9332732877978968, se: 0.001975673222664105\n",
      "Specificity: \t 0.8923525648212906, se: 0.004627898263557789\n"
     ]
    }
   ],
   "source": [
    "a_ham = 0.08858667904100823\n",
    "a_pub = 0.5623413251903491\n",
    "leaf = 10\n",
    "cv_binary_knn_new(X_try, np.concatenate([y_train, y_test]), a_ham = a_ham, a_pub = a_pub, k = 1, leaf_size = leaf)"
   ]
  },
  {
   "cell_type": "markdown",
   "metadata": {},
   "source": [
    "Step 4: Alpha Pubchem"
   ]
  },
  {
   "cell_type": "code",
   "execution_count": 2,
   "metadata": {
    "collapsed": true
   },
   "outputs": [
    {
     "name": "stdout",
     "output_type": "stream",
     "text": [
      "START... Fri Feb  5 00:07:50 2021\n",
      "Computing Euclidean Matrix...\n",
      "Computing Categorical Matrix...\n",
      "Computing PubChem Matrix...\n",
      "Alpha = 0.1\n",
      "Start CV... Fri Feb  5 00:10:51 2021\n",
      "New best params found! alpha:0.1, k:1, leaf:10,\n",
      "                                                    acc:  0.9029291805710049, st.error:  0.0016804255385427767,\n",
      "                                                    rmse: 0.31151456850933995, st.error:  0.0027153745337867245\n",
      "Alpha = 0.12742749857031338\n",
      "Start CV... Fri Feb  5 00:16:30 2021\n",
      "New best params found! alpha:0.12742749857031338, k:1, leaf:10,\n",
      "                                                    acc:  0.9030774935113088, st.error:  0.00158874937231208,\n",
      "                                                    rmse: 0.31128134303656296, st.error:  0.0025706013909568243\n",
      "Alpha = 0.16237767391887217\n",
      "Start CV... Fri Feb  5 00:22:08 2021\n",
      "New best params found! alpha:0.16237767391887217, k:1, leaf:10,\n",
      "                                                    acc:  0.903225806451613, st.error:  0.0016705792103921095,\n",
      "                                                    rmse: 0.31103870061003314, st.error:  0.0026981600772223073\n",
      "Alpha = 0.20691380811147897\n",
      "Start CV... Fri Feb  5 00:27:47 2021\n",
      "New best params found! alpha:0.20691380811147897, k:1, leaf:10,\n",
      "                                                    acc:  0.903448275862069, st.error:  0.0014099483382893142,\n",
      "                                                    rmse: 0.31069438937238136, st.error:  0.002275991567102293\n",
      "Alpha = 0.26366508987303583\n",
      "Start CV... Fri Feb  5 00:33:34 2021\n",
      "Alpha = 0.33598182862837817\n",
      "Start CV... Fri Feb  5 00:39:16 2021\n",
      "New best params found! alpha:0.33598182862837817, k:1, leaf:10,\n",
      "                                                    acc:  0.9036707452725249, st.error:  0.001574843202194681,\n",
      "                                                    rmse: 0.3103278189935028, st.error:  0.0025445768907003353\n",
      "Alpha = 0.42813323987193935\n",
      "Start CV... Fri Feb  5 00:45:00 2021\n",
      "Alpha = 0.5455594781168519\n",
      "Start CV... Fri Feb  5 00:50:48 2021\n",
      "New best params found! alpha:0.5455594781168519, k:1, leaf:10,\n",
      "                                                    acc:  0.9044864664441974, st.error:  0.0018487135131357714,\n",
      "                                                    rmse: 0.30899463524879334, st.error:  0.0029936993531374054\n",
      "Alpha = 0.6951927961775606\n",
      "Start CV... Fri Feb  5 00:56:33 2021\n",
      "New best params found! alpha:0.6951927961775606, k:1, leaf:10,\n",
      "                                                    acc:  0.9048572487949574, st.error:  0.001841261997469057,\n",
      "                                                    rmse: 0.3083943649962553, st.error:  0.0029860862177403147\n",
      "Alpha = 0.8858667904100825\n",
      "Start CV... Fri Feb  5 01:02:20 2021\n",
      "Alpha = 1.1288378916846888\n",
      "Start CV... Fri Feb  5 01:08:08 2021\n",
      "Alpha = 1.438449888287663\n",
      "Start CV... Fri Feb  5 01:13:54 2021\n",
      "Alpha = 1.8329807108324356\n",
      "Start CV... Fri Feb  5 01:19:42 2021\n",
      "Alpha = 2.3357214690901213\n",
      "Start CV... Fri Feb  5 01:25:26 2021\n",
      "Alpha = 2.9763514416313175\n",
      "Start CV... Fri Feb  5 01:31:09 2021\n",
      "Alpha = 3.79269019073225\n",
      "Start CV... Fri Feb  5 01:36:51 2021\n",
      "Alpha = 4.832930238571752\n",
      "Start CV... Fri Feb  5 01:42:33 2021\n",
      "Alpha = 6.158482110660261\n",
      "Start CV... Fri Feb  5 01:48:14 2021\n",
      "Alpha = 7.847599703514611\n",
      "Start CV... Fri Feb  5 01:53:56 2021\n",
      "Alpha = 10.0\n",
      "Start CV... Fri Feb  5 01:59:38 2021\n",
      "Fri Feb  5 02:05:19 2021\n"
     ]
    }
   ],
   "source": [
    "c = [0,1]\n",
    "a_ham = 0.08858667904100823\n",
    "pub = np.logspace(-1,1,20)\n",
    "\n",
    "best_al_pub, best_leaf = cv_params_norm_new(X_train, y_train, k = 1, a_ham = a_ham, sequence_pub = pub, choice = c)"
   ]
  },
  {
   "cell_type": "code",
   "execution_count": 2,
   "metadata": {
    "collapsed": true
   },
   "outputs": [
    {
     "name": "stdout",
     "output_type": "stream",
     "text": [
      "Cat + Pub Matrix... Fri Feb  5 08:37:19 2021\n",
      "Euclidean Matrix... Fri Feb  5 08:45:14 2021\n",
      "Adding normalized euclidean matrix... Fri Feb  5 08:45:30 2021\n",
      "Adding normalized euclidean matrix... Fri Feb  5 08:46:45 2021\n",
      "Adding normalized euclidean matrix... Fri Feb  5 08:49:11 2021\n",
      "Adding normalized euclidean matrix... Fri Feb  5 08:51:18 2021\n",
      "Adding normalized euclidean matrix... Fri Feb  5 08:53:14 2021\n",
      "Fri Feb  5 08:54:37 2021\n",
      "Accuracy: \t 0.9172791760389766, se: 0.0020310978131364787\n",
      "RMSE: \t \t 0.28752348805772077, se: 0.0035730860661776134\n",
      "Sensitivity: \t 0.932740067669004, se: 0.003038860452696247\n",
      "Precision: \t 0.9331925438806344, se: 0.0020843034120155866\n",
      "Specificity: \t 0.8922155904917926, se: 0.004848331989529165\n"
     ]
    }
   ],
   "source": [
    "a_ham = 0.08858667904100823\n",
    "a_pub = 0.6951927961775606\n",
    "leaf = 10\n",
    "cv_binary_knn_new(X_try, np.concatenate([y_train, y_test]), a_ham = a_ham, a_pub = a_pub, k = 1, leaf_size = leaf)"
   ]
  }
 ],
 "metadata": {
  "kernelspec": {
   "display_name": "Python 3",
   "language": "python",
   "name": "python3"
  },
  "language_info": {
   "codemirror_mode": {
    "name": "ipython",
    "version": 3
   },
   "file_extension": ".py",
   "mimetype": "text/x-python",
   "name": "python",
   "nbconvert_exporter": "python",
   "pygments_lexer": "ipython3",
   "version": "3.7.7"
  }
 },
 "nbformat": 4,
 "nbformat_minor": 4
}
