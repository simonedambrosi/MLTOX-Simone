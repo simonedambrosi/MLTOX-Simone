{
 "cells": [
  {
   "cell_type": "code",
   "execution_count": 9,
   "metadata": {},
   "outputs": [
    {
     "name": "stdout",
     "output_type": "stream",
     "text": [
      "Index(['test_cas', 'species', 'conc1_type', 'exposure_type',\n",
      "       'obs_duration_mean', 'conc1_mean', 'atom_number', 'alone_atom_number',\n",
      "       'bonds_number', 'doubleBond', 'tripleBond', 'ring_number', 'Mol',\n",
      "       'MorganDensity', 'LogP', 'class', 'tax_order', 'family', 'genus'],\n",
      "      dtype='object')\n",
      "(23332, 19)\n"
     ]
    },
    {
     "data": {
      "text/html": [
       "<div>\n",
       "<style scoped>\n",
       "    .dataframe tbody tr th:only-of-type {\n",
       "        vertical-align: middle;\n",
       "    }\n",
       "\n",
       "    .dataframe tbody tr th {\n",
       "        vertical-align: top;\n",
       "    }\n",
       "\n",
       "    .dataframe thead th {\n",
       "        text-align: right;\n",
       "    }\n",
       "</style>\n",
       "<table border=\"1\" class=\"dataframe\">\n",
       "  <thead>\n",
       "    <tr style=\"text-align: right;\">\n",
       "      <th></th>\n",
       "      <th>test_cas</th>\n",
       "      <th>species</th>\n",
       "      <th>conc1_type</th>\n",
       "      <th>exposure_type</th>\n",
       "      <th>obs_duration_mean</th>\n",
       "      <th>conc1_mean</th>\n",
       "      <th>atom_number</th>\n",
       "      <th>alone_atom_number</th>\n",
       "      <th>bonds_number</th>\n",
       "      <th>doubleBond</th>\n",
       "      <th>tripleBond</th>\n",
       "      <th>ring_number</th>\n",
       "      <th>Mol</th>\n",
       "      <th>MorganDensity</th>\n",
       "      <th>LogP</th>\n",
       "      <th>class</th>\n",
       "      <th>tax_order</th>\n",
       "      <th>family</th>\n",
       "      <th>genus</th>\n",
       "    </tr>\n",
       "  </thead>\n",
       "  <tbody>\n",
       "    <tr>\n",
       "      <th>0</th>\n",
       "      <td>100-00-5</td>\n",
       "      <td>rerio</td>\n",
       "      <td>F</td>\n",
       "      <td>F</td>\n",
       "      <td>48.0</td>\n",
       "      <td>15.0</td>\n",
       "      <td>0.317908</td>\n",
       "      <td>2</td>\n",
       "      <td>0.488106</td>\n",
       "      <td>1</td>\n",
       "      <td>0</td>\n",
       "      <td>1.0</td>\n",
       "      <td>0.535725</td>\n",
       "      <td>1.300</td>\n",
       "      <td>2.2482</td>\n",
       "      <td>Actinopterygii</td>\n",
       "      <td>Cypriniformes</td>\n",
       "      <td>Cyprinidae</td>\n",
       "      <td>Danio</td>\n",
       "    </tr>\n",
       "    <tr>\n",
       "      <th>1</th>\n",
       "      <td>100-00-5</td>\n",
       "      <td>rerio</td>\n",
       "      <td>F</td>\n",
       "      <td>F</td>\n",
       "      <td>96.0</td>\n",
       "      <td>15.0</td>\n",
       "      <td>0.317908</td>\n",
       "      <td>2</td>\n",
       "      <td>0.488106</td>\n",
       "      <td>1</td>\n",
       "      <td>0</td>\n",
       "      <td>1.0</td>\n",
       "      <td>0.535725</td>\n",
       "      <td>1.300</td>\n",
       "      <td>2.2482</td>\n",
       "      <td>Actinopterygii</td>\n",
       "      <td>Cypriniformes</td>\n",
       "      <td>Cyprinidae</td>\n",
       "      <td>Danio</td>\n",
       "    </tr>\n",
       "    <tr>\n",
       "      <th>2</th>\n",
       "      <td>100-01-6</td>\n",
       "      <td>rerio</td>\n",
       "      <td>F</td>\n",
       "      <td>S</td>\n",
       "      <td>96.0</td>\n",
       "      <td>87.6</td>\n",
       "      <td>0.317908</td>\n",
       "      <td>2</td>\n",
       "      <td>0.488106</td>\n",
       "      <td>1</td>\n",
       "      <td>0</td>\n",
       "      <td>1.0</td>\n",
       "      <td>0.510371</td>\n",
       "      <td>1.300</td>\n",
       "      <td>1.1770</td>\n",
       "      <td>Actinopterygii</td>\n",
       "      <td>Cypriniformes</td>\n",
       "      <td>Cyprinidae</td>\n",
       "      <td>Danio</td>\n",
       "    </tr>\n",
       "    <tr>\n",
       "      <th>3</th>\n",
       "      <td>100-02-7</td>\n",
       "      <td>rerio</td>\n",
       "      <td>F</td>\n",
       "      <td>AQUA</td>\n",
       "      <td>48.0</td>\n",
       "      <td>26.5</td>\n",
       "      <td>0.317908</td>\n",
       "      <td>2</td>\n",
       "      <td>0.488106</td>\n",
       "      <td>1</td>\n",
       "      <td>0</td>\n",
       "      <td>1.0</td>\n",
       "      <td>0.511738</td>\n",
       "      <td>1.300</td>\n",
       "      <td>1.3004</td>\n",
       "      <td>Actinopterygii</td>\n",
       "      <td>Cypriniformes</td>\n",
       "      <td>Cyprinidae</td>\n",
       "      <td>Danio</td>\n",
       "    </tr>\n",
       "    <tr>\n",
       "      <th>4</th>\n",
       "      <td>100-44-7</td>\n",
       "      <td>rerio</td>\n",
       "      <td>F</td>\n",
       "      <td>S</td>\n",
       "      <td>96.0</td>\n",
       "      <td>4.0</td>\n",
       "      <td>0.217006</td>\n",
       "      <td>0</td>\n",
       "      <td>0.447258</td>\n",
       "      <td>0</td>\n",
       "      <td>0</td>\n",
       "      <td>1.0</td>\n",
       "      <td>0.493578</td>\n",
       "      <td>1.125</td>\n",
       "      <td>2.4254</td>\n",
       "      <td>Actinopterygii</td>\n",
       "      <td>Cypriniformes</td>\n",
       "      <td>Cyprinidae</td>\n",
       "      <td>Danio</td>\n",
       "    </tr>\n",
       "  </tbody>\n",
       "</table>\n",
       "</div>"
      ],
      "text/plain": [
       "   test_cas species conc1_type exposure_type  obs_duration_mean  conc1_mean  \\\n",
       "0  100-00-5   rerio          F             F               48.0        15.0   \n",
       "1  100-00-5   rerio          F             F               96.0        15.0   \n",
       "2  100-01-6   rerio          F             S               96.0        87.6   \n",
       "3  100-02-7   rerio          F          AQUA               48.0        26.5   \n",
       "4  100-44-7   rerio          F             S               96.0         4.0   \n",
       "\n",
       "   atom_number  alone_atom_number  bonds_number  doubleBond  tripleBond  \\\n",
       "0     0.317908                  2      0.488106           1           0   \n",
       "1     0.317908                  2      0.488106           1           0   \n",
       "2     0.317908                  2      0.488106           1           0   \n",
       "3     0.317908                  2      0.488106           1           0   \n",
       "4     0.217006                  0      0.447258           0           0   \n",
       "\n",
       "   ring_number       Mol  MorganDensity    LogP           class  \\\n",
       "0          1.0  0.535725          1.300  2.2482  Actinopterygii   \n",
       "1          1.0  0.535725          1.300  2.2482  Actinopterygii   \n",
       "2          1.0  0.510371          1.300  1.1770  Actinopterygii   \n",
       "3          1.0  0.511738          1.300  1.3004  Actinopterygii   \n",
       "4          1.0  0.493578          1.125  2.4254  Actinopterygii   \n",
       "\n",
       "       tax_order      family  genus  \n",
       "0  Cypriniformes  Cyprinidae  Danio  \n",
       "1  Cypriniformes  Cyprinidae  Danio  \n",
       "2  Cypriniformes  Cyprinidae  Danio  \n",
       "3  Cypriniformes  Cyprinidae  Danio  \n",
       "4  Cypriniformes  Cyprinidae  Danio  "
      ]
     },
     "execution_count": 9,
     "metadata": {},
     "output_type": "execute_result"
    }
   ],
   "source": [
    "import pandas as pd\n",
    "import numpy as np\n",
    "import matplotlib.pyplot as plt\n",
    "\n",
    "db = pd.read_csv('dataset/final_db_processed.csv')\n",
    "print(db.columns)\n",
    "print(db.shape)\n",
    "db.head()"
   ]
  },
  {
   "cell_type": "markdown",
   "metadata": {},
   "source": [
    "Con il dataset di sopra, una volta aggiunta anche l'informazione sul numero di gruppi OH è pronto per i modelli.\n",
    "\n",
    "## Aggiunta gruppi OH al dataset finale"
   ]
  },
  {
   "cell_type": "code",
   "execution_count": 13,
   "metadata": {},
   "outputs": [],
   "source": [
    "from rdkit.Chem import MolFromSmarts\n",
    "from rdkit.Chem import MolFromSmiles\n",
    "\n",
    "cas_to_smiles = pd.read_csv('dataset/cas_to_smiles.csv')\n",
    "sm = cas_to_smiles['smiles']\n",
    "\n",
    "def OH_count_fun(smile):\n",
    "    try:\n",
    "        m = MolFromSmiles(smile)\n",
    "        patt = MolFromSmarts('[OX2H]')\n",
    "        out = len(m.GetSubstructMatches(patt))\n",
    "    except:\n",
    "        out = 'NA'\n",
    "    \n",
    "    return out"
   ]
  },
  {
   "cell_type": "code",
   "execution_count": 14,
   "metadata": {},
   "outputs": [],
   "source": [
    "oh_count = pd.Series(dtype = 'object')\n",
    "\n",
    "for i in sm:\n",
    "    oh_count = oh_count.append(pd.Series(OH_count_fun(i)))"
   ]
  },
  {
   "cell_type": "code",
   "execution_count": 17,
   "metadata": {},
   "outputs": [
    {
     "data": {
      "text/html": [
       "<div>\n",
       "<style scoped>\n",
       "    .dataframe tbody tr th:only-of-type {\n",
       "        vertical-align: middle;\n",
       "    }\n",
       "\n",
       "    .dataframe tbody tr th {\n",
       "        vertical-align: top;\n",
       "    }\n",
       "\n",
       "    .dataframe thead th {\n",
       "        text-align: right;\n",
       "    }\n",
       "</style>\n",
       "<table border=\"1\" class=\"dataframe\">\n",
       "  <thead>\n",
       "    <tr style=\"text-align: right;\">\n",
       "      <th></th>\n",
       "      <th>cas_number</th>\n",
       "      <th>oh_count</th>\n",
       "    </tr>\n",
       "  </thead>\n",
       "  <tbody>\n",
       "    <tr>\n",
       "      <th>0</th>\n",
       "      <td>10108-64-2</td>\n",
       "      <td>0</td>\n",
       "    </tr>\n",
       "    <tr>\n",
       "      <th>1</th>\n",
       "      <td>88-30-2</td>\n",
       "      <td>1</td>\n",
       "    </tr>\n",
       "    <tr>\n",
       "      <th>2</th>\n",
       "      <td>1397-94-0</td>\n",
       "      <td>1</td>\n",
       "    </tr>\n",
       "    <tr>\n",
       "      <th>3</th>\n",
       "      <td>25474-41-3</td>\n",
       "      <td>NA</td>\n",
       "    </tr>\n",
       "    <tr>\n",
       "      <th>4</th>\n",
       "      <td>540-72-7</td>\n",
       "      <td>0</td>\n",
       "    </tr>\n",
       "    <tr>\n",
       "      <th>...</th>\n",
       "      <td>...</td>\n",
       "      <td>...</td>\n",
       "    </tr>\n",
       "    <tr>\n",
       "      <th>3196</th>\n",
       "      <td>14008-58-3</td>\n",
       "      <td>0</td>\n",
       "    </tr>\n",
       "    <tr>\n",
       "      <th>3197</th>\n",
       "      <td>53762-97-3</td>\n",
       "      <td>NA</td>\n",
       "    </tr>\n",
       "    <tr>\n",
       "      <th>3198</th>\n",
       "      <td>52316-55-9</td>\n",
       "      <td>3</td>\n",
       "    </tr>\n",
       "    <tr>\n",
       "      <th>3199</th>\n",
       "      <td>499-83-2</td>\n",
       "      <td>2</td>\n",
       "    </tr>\n",
       "    <tr>\n",
       "      <th>3200</th>\n",
       "      <td>68-11-1</td>\n",
       "      <td>1</td>\n",
       "    </tr>\n",
       "  </tbody>\n",
       "</table>\n",
       "<p>3201 rows × 2 columns</p>\n",
       "</div>"
      ],
      "text/plain": [
       "      cas_number oh_count\n",
       "0     10108-64-2        0\n",
       "1        88-30-2        1\n",
       "2      1397-94-0        1\n",
       "3     25474-41-3       NA\n",
       "4       540-72-7        0\n",
       "...          ...      ...\n",
       "3196  14008-58-3        0\n",
       "3197  53762-97-3       NA\n",
       "3198  52316-55-9        3\n",
       "3199    499-83-2        2\n",
       "3200     68-11-1        1\n",
       "\n",
       "[3201 rows x 2 columns]"
      ]
     },
     "execution_count": 17,
     "metadata": {},
     "output_type": "execute_result"
    }
   ],
   "source": [
    "cas_oh = pd.DataFrame({'cas_number': cas_to_smiles['cas'].values, 'oh_count': oh_count.values})\n",
    "cas_oh"
   ]
  },
  {
   "cell_type": "markdown",
   "metadata": {},
   "source": [
    "Adesso occorre solo fare il merge sulla chiave *test_cas* e *cas_number*"
   ]
  },
  {
   "cell_type": "code",
   "execution_count": 20,
   "metadata": {},
   "outputs": [
    {
     "name": "stdout",
     "output_type": "stream",
     "text": [
      "(23332, 20)\n",
      "Index(['test_cas', 'species', 'conc1_type', 'exposure_type',\n",
      "       'obs_duration_mean', 'conc1_mean', 'atom_number', 'alone_atom_number',\n",
      "       'bonds_number', 'doubleBond', 'tripleBond', 'ring_number', 'Mol',\n",
      "       'MorganDensity', 'LogP', 'class', 'tax_order', 'family', 'genus',\n",
      "       'oh_count'],\n",
      "      dtype='object')\n"
     ]
    },
    {
     "data": {
      "text/html": [
       "<div>\n",
       "<style scoped>\n",
       "    .dataframe tbody tr th:only-of-type {\n",
       "        vertical-align: middle;\n",
       "    }\n",
       "\n",
       "    .dataframe tbody tr th {\n",
       "        vertical-align: top;\n",
       "    }\n",
       "\n",
       "    .dataframe thead th {\n",
       "        text-align: right;\n",
       "    }\n",
       "</style>\n",
       "<table border=\"1\" class=\"dataframe\">\n",
       "  <thead>\n",
       "    <tr style=\"text-align: right;\">\n",
       "      <th></th>\n",
       "      <th>test_cas</th>\n",
       "      <th>species</th>\n",
       "      <th>conc1_type</th>\n",
       "      <th>exposure_type</th>\n",
       "      <th>obs_duration_mean</th>\n",
       "      <th>conc1_mean</th>\n",
       "      <th>atom_number</th>\n",
       "      <th>alone_atom_number</th>\n",
       "      <th>bonds_number</th>\n",
       "      <th>doubleBond</th>\n",
       "      <th>tripleBond</th>\n",
       "      <th>ring_number</th>\n",
       "      <th>Mol</th>\n",
       "      <th>MorganDensity</th>\n",
       "      <th>LogP</th>\n",
       "      <th>class</th>\n",
       "      <th>tax_order</th>\n",
       "      <th>family</th>\n",
       "      <th>genus</th>\n",
       "      <th>oh_count</th>\n",
       "    </tr>\n",
       "  </thead>\n",
       "  <tbody>\n",
       "    <tr>\n",
       "      <th>0</th>\n",
       "      <td>100-00-5</td>\n",
       "      <td>rerio</td>\n",
       "      <td>F</td>\n",
       "      <td>F</td>\n",
       "      <td>48.0</td>\n",
       "      <td>15.0</td>\n",
       "      <td>0.317908</td>\n",
       "      <td>2</td>\n",
       "      <td>0.488106</td>\n",
       "      <td>1</td>\n",
       "      <td>0</td>\n",
       "      <td>1.0</td>\n",
       "      <td>0.535725</td>\n",
       "      <td>1.3</td>\n",
       "      <td>2.2482</td>\n",
       "      <td>Actinopterygii</td>\n",
       "      <td>Cypriniformes</td>\n",
       "      <td>Cyprinidae</td>\n",
       "      <td>Danio</td>\n",
       "      <td>0</td>\n",
       "    </tr>\n",
       "    <tr>\n",
       "      <th>1</th>\n",
       "      <td>100-00-5</td>\n",
       "      <td>rerio</td>\n",
       "      <td>F</td>\n",
       "      <td>F</td>\n",
       "      <td>96.0</td>\n",
       "      <td>15.0</td>\n",
       "      <td>0.317908</td>\n",
       "      <td>2</td>\n",
       "      <td>0.488106</td>\n",
       "      <td>1</td>\n",
       "      <td>0</td>\n",
       "      <td>1.0</td>\n",
       "      <td>0.535725</td>\n",
       "      <td>1.3</td>\n",
       "      <td>2.2482</td>\n",
       "      <td>Actinopterygii</td>\n",
       "      <td>Cypriniformes</td>\n",
       "      <td>Cyprinidae</td>\n",
       "      <td>Danio</td>\n",
       "      <td>0</td>\n",
       "    </tr>\n",
       "    <tr>\n",
       "      <th>2</th>\n",
       "      <td>100-01-6</td>\n",
       "      <td>rerio</td>\n",
       "      <td>F</td>\n",
       "      <td>S</td>\n",
       "      <td>96.0</td>\n",
       "      <td>87.6</td>\n",
       "      <td>0.317908</td>\n",
       "      <td>2</td>\n",
       "      <td>0.488106</td>\n",
       "      <td>1</td>\n",
       "      <td>0</td>\n",
       "      <td>1.0</td>\n",
       "      <td>0.510371</td>\n",
       "      <td>1.3</td>\n",
       "      <td>1.1770</td>\n",
       "      <td>Actinopterygii</td>\n",
       "      <td>Cypriniformes</td>\n",
       "      <td>Cyprinidae</td>\n",
       "      <td>Danio</td>\n",
       "      <td>0</td>\n",
       "    </tr>\n",
       "    <tr>\n",
       "      <th>3</th>\n",
       "      <td>100-01-6</td>\n",
       "      <td>idus</td>\n",
       "      <td>F</td>\n",
       "      <td>AQUA</td>\n",
       "      <td>48.0</td>\n",
       "      <td>35.0</td>\n",
       "      <td>0.317908</td>\n",
       "      <td>2</td>\n",
       "      <td>0.488106</td>\n",
       "      <td>1</td>\n",
       "      <td>0</td>\n",
       "      <td>1.0</td>\n",
       "      <td>0.510371</td>\n",
       "      <td>1.3</td>\n",
       "      <td>1.1770</td>\n",
       "      <td>Actinopterygii</td>\n",
       "      <td>Cypriniformes</td>\n",
       "      <td>Cyprinidae</td>\n",
       "      <td>Leuciscus</td>\n",
       "      <td>0</td>\n",
       "    </tr>\n",
       "    <tr>\n",
       "      <th>4</th>\n",
       "      <td>100-01-6</td>\n",
       "      <td>latipes</td>\n",
       "      <td>A</td>\n",
       "      <td>S</td>\n",
       "      <td>24.0</td>\n",
       "      <td>68.0</td>\n",
       "      <td>0.317908</td>\n",
       "      <td>2</td>\n",
       "      <td>0.488106</td>\n",
       "      <td>1</td>\n",
       "      <td>0</td>\n",
       "      <td>1.0</td>\n",
       "      <td>0.510371</td>\n",
       "      <td>1.3</td>\n",
       "      <td>1.1770</td>\n",
       "      <td>Actinopterygii</td>\n",
       "      <td>Beloniformes</td>\n",
       "      <td>Adrianichthyidae</td>\n",
       "      <td>Oryzias</td>\n",
       "      <td>0</td>\n",
       "    </tr>\n",
       "  </tbody>\n",
       "</table>\n",
       "</div>"
      ],
      "text/plain": [
       "   test_cas  species conc1_type exposure_type  obs_duration_mean  conc1_mean  \\\n",
       "0  100-00-5    rerio          F             F               48.0        15.0   \n",
       "1  100-00-5    rerio          F             F               96.0        15.0   \n",
       "2  100-01-6    rerio          F             S               96.0        87.6   \n",
       "3  100-01-6     idus          F          AQUA               48.0        35.0   \n",
       "4  100-01-6  latipes          A             S               24.0        68.0   \n",
       "\n",
       "   atom_number  alone_atom_number  bonds_number  doubleBond  tripleBond  \\\n",
       "0     0.317908                  2      0.488106           1           0   \n",
       "1     0.317908                  2      0.488106           1           0   \n",
       "2     0.317908                  2      0.488106           1           0   \n",
       "3     0.317908                  2      0.488106           1           0   \n",
       "4     0.317908                  2      0.488106           1           0   \n",
       "\n",
       "   ring_number       Mol  MorganDensity    LogP           class  \\\n",
       "0          1.0  0.535725            1.3  2.2482  Actinopterygii   \n",
       "1          1.0  0.535725            1.3  2.2482  Actinopterygii   \n",
       "2          1.0  0.510371            1.3  1.1770  Actinopterygii   \n",
       "3          1.0  0.510371            1.3  1.1770  Actinopterygii   \n",
       "4          1.0  0.510371            1.3  1.1770  Actinopterygii   \n",
       "\n",
       "       tax_order            family      genus oh_count  \n",
       "0  Cypriniformes        Cyprinidae      Danio        0  \n",
       "1  Cypriniformes        Cyprinidae      Danio        0  \n",
       "2  Cypriniformes        Cyprinidae      Danio        0  \n",
       "3  Cypriniformes        Cyprinidae  Leuciscus        0  \n",
       "4   Beloniformes  Adrianichthyidae    Oryzias        0  "
      ]
     },
     "execution_count": 20,
     "metadata": {},
     "output_type": "execute_result"
    }
   ],
   "source": [
    "db_final = db.merge(cas_oh, left_on = 'test_cas', right_on = 'cas_number').drop(columns = 'cas_number')\n",
    "print(db_final.shape)\n",
    "print(db_final.columns)\n",
    "db_final.head()"
   ]
  },
  {
   "cell_type": "markdown",
   "metadata": {},
   "source": [
    "Adesso è possibile fare qualche modello: prima ancora bisogna fare l'encoding della target (conc1_mean).\n",
    "\n",
    "> Se la concentrazione è inferiore a 1, è stato assegnato il valore 1, altrimenti 0.\n",
    "\n"
   ]
  },
  {
   "cell_type": "code",
   "execution_count": 39,
   "metadata": {},
   "outputs": [
    {
     "data": {
      "text/plain": [
       "array([15. , 15. , 87.6, ...,  0.9,  0.7,  0.6])"
      ]
     },
     "execution_count": 39,
     "metadata": {},
     "output_type": "execute_result"
    }
   ],
   "source": [
    "target = db_final.conc1_mean.values\n",
    "target"
   ]
  },
  {
   "cell_type": "code",
   "execution_count": 40,
   "metadata": {},
   "outputs": [
    {
     "data": {
      "text/plain": [
       "array([1, 1, 1, ..., 0, 0, 0])"
      ]
     },
     "execution_count": 40,
     "metadata": {},
     "output_type": "execute_result"
    }
   ],
   "source": [
    "target = np.where(target > 1, 1, 0)\n",
    "target\n",
    "\n",
    "# plt.bar(target, height = pd.Series(target).value_counts())"
   ]
  },
  {
   "cell_type": "code",
   "execution_count": 42,
   "metadata": {},
   "outputs": [
    {
     "data": {
      "text/plain": [
       "<matplotlib.axes._subplots.AxesSubplot at 0x14baf2fe648>"
      ]
     },
     "execution_count": 42,
     "metadata": {},
     "output_type": "execute_result"
    },
    {
     "data": {
      "image/png": "[encoded data removed]",
      "text/plain": [
       "<Figure size 432x288 with 1 Axes>"
      ]
     },
     "metadata": {
      "needs_background": "light"
     },
     "output_type": "display_data"
    }
   ],
   "source": [
    "pd.Series(target).value_counts().plot(kind='bar', color=['blue','red'])"
   ]
  },
  {
   "cell_type": "markdown",
   "metadata": {},
   "source": [
    "Non molto sbilanciata come target... ok.\n",
    "\n",
    "Prepariamo tutto l'occorrente:"
   ]
  },
  {
   "cell_type": "code",
   "execution_count": 46,
   "metadata": {},
   "outputs": [
    {
     "data": {
      "text/plain": [
       "array([1, 1, 1, ..., 0, 0, 0])"
      ]
     },
     "execution_count": 46,
     "metadata": {},
     "output_type": "execute_result"
    }
   ],
   "source": [
    "dati = db_final.copy().drop(columns = 'conc1_mean').values\n",
    "target "
   ]
  },
  {
   "cell_type": "code",
   "execution_count": 50,
   "metadata": {},
   "outputs": [],
   "source": [
    "from sklearn.model_selection import train_test_split\n",
    "\n",
    "X_train, X_test, y_train, y_test = train_test_split(dati,target, test_size = 0.33, random_state = 42, stratify = target)"
   ]
  },
  {
   "cell_type": "markdown",
   "metadata": {},
   "source": [
    "Va fatto l'encoding delle variabili discrete"
   ]
  },
  {
   "cell_type": "code",
   "execution_count": 55,
   "metadata": {},
   "outputs": [
    {
     "data": {
      "text/plain": [
       "test_cas              object\n",
       "species               object\n",
       "conc1_type            object\n",
       "exposure_type         object\n",
       "obs_duration_mean    float64\n",
       "conc1_mean           float64\n",
       "atom_number          float64\n",
       "alone_atom_number      int64\n",
       "bonds_number         float64\n",
       "doubleBond             int64\n",
       "tripleBond             int64\n",
       "ring_number          float64\n",
       "Mol                  float64\n",
       "MorganDensity        float64\n",
       "LogP                 float64\n",
       "class                 object\n",
       "tax_order             object\n",
       "family                object\n",
       "genus                 object\n",
       "oh_count              object\n",
       "dtype: object"
      ]
     },
     "execution_count": 55,
     "metadata": {},
     "output_type": "execute_result"
    }
   ],
   "source": [
    "db_final.dtypes"
   ]
  }
 ],
 "metadata": {
  "kernelspec": {
   "display_name": "Python 3",
   "language": "python",
   "name": "python3"
  },
  "language_info": {
   "codemirror_mode": {
    "name": "ipython",
    "version": 3
   },
   "file_extension": ".py",
   "mimetype": "text/x-python",
   "name": "python",
   "nbconvert_exporter": "python",
   "pygments_lexer": "ipython3",
   "version": "3.7.7"
  }
 },
 "nbformat": 4,
 "nbformat_minor": 4
}
