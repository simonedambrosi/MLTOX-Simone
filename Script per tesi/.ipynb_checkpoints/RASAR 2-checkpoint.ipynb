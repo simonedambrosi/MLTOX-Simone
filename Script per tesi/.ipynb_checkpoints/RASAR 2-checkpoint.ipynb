{
 "cells": [
  {
   "cell_type": "code",
   "execution_count": 1,
   "metadata": {},
   "outputs": [],
   "source": [
    "from import_data_encoded_knn import  *\n",
    "from sequence_distance_matrix import *\n",
    "\n",
    "from scipy.spatial.distance import cdist\n",
    "\n",
    "def hamming_matrix_c(XA, XB, cat_features):\n",
    "    return cdist(XA[cat_features], XB[cat_features], metric = \"hamming\")\n",
    "\n",
    "def euclidean_matrix_c(XA, XB, num_features):\n",
    "    return cdist(XA[num_features], XB[num_features], metric = \"euclidean\")\n",
    "\n",
    "def basic_matrix_c(XA, XB, cat_features = [], num_features = [], a_ham = 0.0016102620275609393):\n",
    "    return a_ham * hamming_matrix_c(XA, XB, cat_features) + euclidean_matrix_c(XA, XB, num_features)\n",
    "\n",
    "\n",
    "X_try, X_train, X_test, y_train, y_test, len_X_train = import_data_encoded(encoding = 'binary')\n",
    "\n",
    "categorical = ['ring_number', \"exposure_type\", \"conc1_type\",\"species\",'tripleBond', 'obs_duration_mean', 'doubleBond',\n",
    "    'alone_atom_number', 'class', 'tax_order', 'family', 'genus', 'oh_count']\n",
    "\n",
    "non_categorical =[ 'atom_number', 'bonds_number', 'Mol', 'MorganDensity', 'LogP']"
   ]
  },
  {
   "cell_type": "code",
   "execution_count": 2,
   "metadata": {},
   "outputs": [
    {
     "name": "stdout",
     "output_type": "stream",
     "text": [
      "train fatto\n",
      "test fatto\n"
     ]
    }
   ],
   "source": [
    "dist_matr_train = basic_matrix_c(X_train,X_train, categorical, non_categorical)\n",
    "print('train fatto')\n",
    "dist_matr_test = basic_matrix_c(X_test, X_train, categorical, non_categorical)\n",
    "print('test fatto')"
   ]
  },
  {
   "cell_type": "code",
   "execution_count": 3,
   "metadata": {},
   "outputs": [],
   "source": [
    "dist_matr_train = pd.DataFrame(dist_matr_train)\n",
    "dist_matr_test = pd.DataFrame(dist_matr_test)\n",
    "\n",
    "# Per allenare il KNN\n",
    "dist_matr_train_0 = dist_matr_train.iloc[y_train == 0, y_train == 0]\n",
    "dist_matr_train_1 = dist_matr_train.iloc[y_train == 1, y_train == 1]\n",
    "\n",
    "# Per trovare i vicini train per gli esperimenti train --> df_rasar_train\n",
    "dist_matr_train_train_0 = dist_matr_train.iloc[:,y_train == 0]\n",
    "dist_matr_train_train_1 = dist_matr_train.iloc[:,y_train == 1]\n",
    "\n",
    "# Per trovare i vicini train per gli esperimenti test --> df_rasar_test\n",
    "dist_matr_test_train_0 = dist_matr_test.iloc[:, y_train == 0]\n",
    "dist_matr_test_train_1 = dist_matr_test.iloc[:, y_train == 1]"
   ]
  },
  {
   "cell_type": "markdown",
   "metadata": {},
   "source": [
    "# DF test"
   ]
  },
  {
   "cell_type": "code",
   "execution_count": 4,
   "metadata": {},
   "outputs": [],
   "source": [
    "knn0 = KNeighborsClassifier(metric = 'precomputed', n_neighbors=1, n_jobs=-2, leaf_size=80)\n",
    "knn0.fit(dist_matr_train_0, y_train[y_train == 0])\n",
    "\n",
    "neigh0 = knn0.kneighbors(dist_matr_test_train_0, return_distance = True)\n",
    "\n",
    "# con questi indici faccio X_train.loc[ idx ] per scoprire chi è il vicino dell'esperimento test\n",
    "idx_neigh_0 = pd.DataFrame(neigh0[1])[0].apply(lambda x: X_train.iloc[y_train==0].iloc[x].name)"
   ]
  },
  {
   "cell_type": "code",
   "execution_count": 5,
   "metadata": {},
   "outputs": [],
   "source": [
    "knn1 = KNeighborsClassifier(metric = 'precomputed', n_neighbors=1, n_jobs=-2, leaf_size=80)\n",
    "knn1.fit(dist_matr_train_1, y_train[y_train == 1])\n",
    "\n",
    "neigh1 = knn1.kneighbors(dist_matr_test_train_1, return_distance = True)\n",
    "\n",
    "idx_neigh_1 = pd.DataFrame(neigh1[1])[0].apply(lambda x: X_train.iloc[y_train==1].iloc[x].name)"
   ]
  },
  {
   "cell_type": "code",
   "execution_count": 15,
   "metadata": {
    "collapsed": true
   },
   "outputs": [
    {
     "ename": "ValueError",
     "evalue": "arrays must all be same length",
     "output_type": "error",
     "traceback": [
      "\u001b[1;31m---------------------------------------------------------------------------\u001b[0m",
      "\u001b[1;31mValueError\u001b[0m                                Traceback (most recent call last)",
      "\u001b[1;32m<ipython-input-15-e62ad71fca07>\u001b[0m in \u001b[0;36m<module>\u001b[1;34m\u001b[0m\n\u001b[0;32m      4\u001b[0m                   \u001b[1;34m'dist_neigh0'\u001b[0m\u001b[1;33m:\u001b[0m \u001b[0mneigh0\u001b[0m\u001b[1;33m[\u001b[0m\u001b[1;36m0\u001b[0m\u001b[1;33m]\u001b[0m\u001b[1;33m.\u001b[0m\u001b[0mravel\u001b[0m\u001b[1;33m(\u001b[0m\u001b[1;33m)\u001b[0m\u001b[1;33m,\u001b[0m\u001b[1;33m\u001b[0m\u001b[1;33m\u001b[0m\u001b[0m\n\u001b[0;32m      5\u001b[0m                   \u001b[1;34m'idx_neigh1'\u001b[0m\u001b[1;33m:\u001b[0m \u001b[0midx_neigh_1\u001b[0m\u001b[1;33m.\u001b[0m\u001b[0mvalues\u001b[0m\u001b[1;33m,\u001b[0m\u001b[1;33m\u001b[0m\u001b[1;33m\u001b[0m\u001b[0m\n\u001b[1;32m----> 6\u001b[1;33m                   'dist_neigh1': neigh1[0].ravel()})\n\u001b[0m\u001b[0;32m      7\u001b[0m \u001b[0mdf_rasar_test\u001b[0m\u001b[1;33m\u001b[0m\u001b[1;33m\u001b[0m\u001b[0m\n",
      "\u001b[1;32m~\\Anaconda3\\lib\\site-packages\\pandas\\core\\frame.py\u001b[0m in \u001b[0;36m__init__\u001b[1;34m(self, data, index, columns, dtype, copy)\u001b[0m\n\u001b[0;32m    433\u001b[0m             )\n\u001b[0;32m    434\u001b[0m         \u001b[1;32melif\u001b[0m \u001b[0misinstance\u001b[0m\u001b[1;33m(\u001b[0m\u001b[0mdata\u001b[0m\u001b[1;33m,\u001b[0m \u001b[0mdict\u001b[0m\u001b[1;33m)\u001b[0m\u001b[1;33m:\u001b[0m\u001b[1;33m\u001b[0m\u001b[1;33m\u001b[0m\u001b[0m\n\u001b[1;32m--> 435\u001b[1;33m             \u001b[0mmgr\u001b[0m \u001b[1;33m=\u001b[0m \u001b[0minit_dict\u001b[0m\u001b[1;33m(\u001b[0m\u001b[0mdata\u001b[0m\u001b[1;33m,\u001b[0m \u001b[0mindex\u001b[0m\u001b[1;33m,\u001b[0m \u001b[0mcolumns\u001b[0m\u001b[1;33m,\u001b[0m \u001b[0mdtype\u001b[0m\u001b[1;33m=\u001b[0m\u001b[0mdtype\u001b[0m\u001b[1;33m)\u001b[0m\u001b[1;33m\u001b[0m\u001b[1;33m\u001b[0m\u001b[0m\n\u001b[0m\u001b[0;32m    436\u001b[0m         \u001b[1;32melif\u001b[0m \u001b[0misinstance\u001b[0m\u001b[1;33m(\u001b[0m\u001b[0mdata\u001b[0m\u001b[1;33m,\u001b[0m \u001b[0mma\u001b[0m\u001b[1;33m.\u001b[0m\u001b[0mMaskedArray\u001b[0m\u001b[1;33m)\u001b[0m\u001b[1;33m:\u001b[0m\u001b[1;33m\u001b[0m\u001b[1;33m\u001b[0m\u001b[0m\n\u001b[0;32m    437\u001b[0m             \u001b[1;32mimport\u001b[0m \u001b[0mnumpy\u001b[0m\u001b[1;33m.\u001b[0m\u001b[0mma\u001b[0m\u001b[1;33m.\u001b[0m\u001b[0mmrecords\u001b[0m \u001b[1;32mas\u001b[0m \u001b[0mmrecords\u001b[0m\u001b[1;33m\u001b[0m\u001b[1;33m\u001b[0m\u001b[0m\n",
      "\u001b[1;32m~\\Anaconda3\\lib\\site-packages\\pandas\\core\\internals\\construction.py\u001b[0m in \u001b[0;36minit_dict\u001b[1;34m(data, index, columns, dtype)\u001b[0m\n\u001b[0;32m    252\u001b[0m             \u001b[0marr\u001b[0m \u001b[1;32mif\u001b[0m \u001b[1;32mnot\u001b[0m \u001b[0mis_datetime64tz_dtype\u001b[0m\u001b[1;33m(\u001b[0m\u001b[0marr\u001b[0m\u001b[1;33m)\u001b[0m \u001b[1;32melse\u001b[0m \u001b[0marr\u001b[0m\u001b[1;33m.\u001b[0m\u001b[0mcopy\u001b[0m\u001b[1;33m(\u001b[0m\u001b[1;33m)\u001b[0m \u001b[1;32mfor\u001b[0m \u001b[0marr\u001b[0m \u001b[1;32min\u001b[0m \u001b[0marrays\u001b[0m\u001b[1;33m\u001b[0m\u001b[1;33m\u001b[0m\u001b[0m\n\u001b[0;32m    253\u001b[0m         ]\n\u001b[1;32m--> 254\u001b[1;33m     \u001b[1;32mreturn\u001b[0m \u001b[0marrays_to_mgr\u001b[0m\u001b[1;33m(\u001b[0m\u001b[0marrays\u001b[0m\u001b[1;33m,\u001b[0m \u001b[0mdata_names\u001b[0m\u001b[1;33m,\u001b[0m \u001b[0mindex\u001b[0m\u001b[1;33m,\u001b[0m \u001b[0mcolumns\u001b[0m\u001b[1;33m,\u001b[0m \u001b[0mdtype\u001b[0m\u001b[1;33m=\u001b[0m\u001b[0mdtype\u001b[0m\u001b[1;33m)\u001b[0m\u001b[1;33m\u001b[0m\u001b[1;33m\u001b[0m\u001b[0m\n\u001b[0m\u001b[0;32m    255\u001b[0m \u001b[1;33m\u001b[0m\u001b[0m\n\u001b[0;32m    256\u001b[0m \u001b[1;33m\u001b[0m\u001b[0m\n",
      "\u001b[1;32m~\\Anaconda3\\lib\\site-packages\\pandas\\core\\internals\\construction.py\u001b[0m in \u001b[0;36marrays_to_mgr\u001b[1;34m(arrays, arr_names, index, columns, dtype)\u001b[0m\n\u001b[0;32m     62\u001b[0m     \u001b[1;31m# figure out the index, if necessary\u001b[0m\u001b[1;33m\u001b[0m\u001b[1;33m\u001b[0m\u001b[1;33m\u001b[0m\u001b[0m\n\u001b[0;32m     63\u001b[0m     \u001b[1;32mif\u001b[0m \u001b[0mindex\u001b[0m \u001b[1;32mis\u001b[0m \u001b[1;32mNone\u001b[0m\u001b[1;33m:\u001b[0m\u001b[1;33m\u001b[0m\u001b[1;33m\u001b[0m\u001b[0m\n\u001b[1;32m---> 64\u001b[1;33m         \u001b[0mindex\u001b[0m \u001b[1;33m=\u001b[0m \u001b[0mextract_index\u001b[0m\u001b[1;33m(\u001b[0m\u001b[0marrays\u001b[0m\u001b[1;33m)\u001b[0m\u001b[1;33m\u001b[0m\u001b[1;33m\u001b[0m\u001b[0m\n\u001b[0m\u001b[0;32m     65\u001b[0m     \u001b[1;32melse\u001b[0m\u001b[1;33m:\u001b[0m\u001b[1;33m\u001b[0m\u001b[1;33m\u001b[0m\u001b[0m\n\u001b[0;32m     66\u001b[0m         \u001b[0mindex\u001b[0m \u001b[1;33m=\u001b[0m \u001b[0mensure_index\u001b[0m\u001b[1;33m(\u001b[0m\u001b[0mindex\u001b[0m\u001b[1;33m)\u001b[0m\u001b[1;33m\u001b[0m\u001b[1;33m\u001b[0m\u001b[0m\n",
      "\u001b[1;32m~\\Anaconda3\\lib\\site-packages\\pandas\\core\\internals\\construction.py\u001b[0m in \u001b[0;36mextract_index\u001b[1;34m(data)\u001b[0m\n\u001b[0;32m    363\u001b[0m             \u001b[0mlengths\u001b[0m \u001b[1;33m=\u001b[0m \u001b[0mlist\u001b[0m\u001b[1;33m(\u001b[0m\u001b[0mset\u001b[0m\u001b[1;33m(\u001b[0m\u001b[0mraw_lengths\u001b[0m\u001b[1;33m)\u001b[0m\u001b[1;33m)\u001b[0m\u001b[1;33m\u001b[0m\u001b[1;33m\u001b[0m\u001b[0m\n\u001b[0;32m    364\u001b[0m             \u001b[1;32mif\u001b[0m \u001b[0mlen\u001b[0m\u001b[1;33m(\u001b[0m\u001b[0mlengths\u001b[0m\u001b[1;33m)\u001b[0m \u001b[1;33m>\u001b[0m \u001b[1;36m1\u001b[0m\u001b[1;33m:\u001b[0m\u001b[1;33m\u001b[0m\u001b[1;33m\u001b[0m\u001b[0m\n\u001b[1;32m--> 365\u001b[1;33m                 \u001b[1;32mraise\u001b[0m \u001b[0mValueError\u001b[0m\u001b[1;33m(\u001b[0m\u001b[1;34m\"arrays must all be same length\"\u001b[0m\u001b[1;33m)\u001b[0m\u001b[1;33m\u001b[0m\u001b[1;33m\u001b[0m\u001b[0m\n\u001b[0m\u001b[0;32m    366\u001b[0m \u001b[1;33m\u001b[0m\u001b[0m\n\u001b[0;32m    367\u001b[0m             \u001b[1;32mif\u001b[0m \u001b[0mhave_dicts\u001b[0m\u001b[1;33m:\u001b[0m\u001b[1;33m\u001b[0m\u001b[1;33m\u001b[0m\u001b[0m\n",
      "\u001b[1;31mValueError\u001b[0m: arrays must all be same length"
     ]
    }
   ],
   "source": [
    "df_rasar_test = pd.DataFrame({'idx_test': X_test.index.values,\n",
    "                  'label_test': y_test,\n",
    "                  'idx_neigh0': idx_neigh_0.values,\n",
    "                  'dist_neigh0': neigh0[0].ravel(),\n",
    "                  'idx_neigh1': idx_neigh_1.values,\n",
    "                  'dist_neigh1': neigh1[0].ravel()})\n",
    "df_rasar_test"
   ]
  },
  {
   "cell_type": "code",
   "execution_count": null,
   "metadata": {},
   "outputs": [],
   "source": []
  },
  {
   "cell_type": "markdown",
   "metadata": {},
   "source": [
    "# DF Train\n",
    "\n",
    "Qui si fa il confronto train vs train. \n",
    "\n",
    "Si allena il KNN con train0 e si vede con tutto il train, MA così facendo i train testati di classe 0 trovano se stessi come vicino. Quindi prendendo un 2-NN, prendo il secondo vicino che non è se stesso."
   ]
  },
  {
   "cell_type": "code",
   "execution_count": 7,
   "metadata": {},
   "outputs": [],
   "source": [
    "from help_rasar import *"
   ]
  },
  {
   "cell_type": "code",
   "execution_count": 8,
   "metadata": {},
   "outputs": [],
   "source": [
    "knn0 = KNeighborsClassifier(metric = 'precomputed', n_jobs = -2, leaf_size = 80,\n",
    "                            n_neighbors = 2)\n",
    "\n",
    "knn0.fit(dist_matr_train_0, y_train[y_train == 0])\n",
    "\n",
    "neigh0 = knn0.kneighbors(dist_matr_train_train_0, return_distance = True)\n",
    "\n",
    "idx_neigh0, dist0 = right_neighbor(neigh0, X_train, y_train, 0)"
   ]
  },
  {
   "cell_type": "code",
   "execution_count": 9,
   "metadata": {},
   "outputs": [],
   "source": [
    "knn1 = KNeighborsClassifier(metric = 'precomputed', n_jobs = -2, leaf_size = 80,\n",
    "                            n_neighbors=2)\n",
    "\n",
    "knn1.fit(dist_matr_train_1, y_train[y_train == 1])\n",
    "\n",
    "neigh1 = knn1.kneighbors(dist_matr_train_train_1, return_distance = True)\n",
    "\n",
    "idx_neigh1, dist1 = right_neighbor(neigh1, X_train, y_train, 1)"
   ]
  },
  {
   "cell_type": "code",
   "execution_count": 10,
   "metadata": {},
   "outputs": [
    {
     "data": {
      "text/html": [
       "<div>\n",
       "<style scoped>\n",
       "    .dataframe tbody tr th:only-of-type {\n",
       "        vertical-align: middle;\n",
       "    }\n",
       "\n",
       "    .dataframe tbody tr th {\n",
       "        vertical-align: top;\n",
       "    }\n",
       "\n",
       "    .dataframe thead th {\n",
       "        text-align: right;\n",
       "    }\n",
       "</style>\n",
       "<table border=\"1\" class=\"dataframe\">\n",
       "  <thead>\n",
       "    <tr style=\"text-align: right;\">\n",
       "      <th></th>\n",
       "      <th>idx_train</th>\n",
       "      <th>label_train</th>\n",
       "      <th>idx_neigh0</th>\n",
       "      <th>dist_neigh0</th>\n",
       "      <th>idx_neigh1</th>\n",
       "      <th>dist_neigh1</th>\n",
       "    </tr>\n",
       "  </thead>\n",
       "  <tbody>\n",
       "    <tr>\n",
       "      <th>0</th>\n",
       "      <td>848</td>\n",
       "      <td>1</td>\n",
       "      <td>21779</td>\n",
       "      <td>0.243507</td>\n",
       "      <td>850</td>\n",
       "      <td>0.000124</td>\n",
       "    </tr>\n",
       "    <tr>\n",
       "      <th>1</th>\n",
       "      <td>5049</td>\n",
       "      <td>0</td>\n",
       "      <td>5696</td>\n",
       "      <td>0.000000</td>\n",
       "      <td>5666</td>\n",
       "      <td>0.000495</td>\n",
       "    </tr>\n",
       "    <tr>\n",
       "      <th>2</th>\n",
       "      <td>20921</td>\n",
       "      <td>1</td>\n",
       "      <td>22671</td>\n",
       "      <td>0.010224</td>\n",
       "      <td>20915</td>\n",
       "      <td>0.000495</td>\n",
       "    </tr>\n",
       "    <tr>\n",
       "      <th>3</th>\n",
       "      <td>4571</td>\n",
       "      <td>0</td>\n",
       "      <td>12898</td>\n",
       "      <td>0.000124</td>\n",
       "      <td>3404</td>\n",
       "      <td>0.000619</td>\n",
       "    </tr>\n",
       "    <tr>\n",
       "      <th>4</th>\n",
       "      <td>14276</td>\n",
       "      <td>0</td>\n",
       "      <td>14277</td>\n",
       "      <td>0.000495</td>\n",
       "      <td>20640</td>\n",
       "      <td>0.129566</td>\n",
       "    </tr>\n",
       "    <tr>\n",
       "      <th>...</th>\n",
       "      <td>...</td>\n",
       "      <td>...</td>\n",
       "      <td>...</td>\n",
       "      <td>...</td>\n",
       "      <td>...</td>\n",
       "      <td>...</td>\n",
       "    </tr>\n",
       "    <tr>\n",
       "      <th>15620</th>\n",
       "      <td>11964</td>\n",
       "      <td>1</td>\n",
       "      <td>11903</td>\n",
       "      <td>0.000495</td>\n",
       "      <td>11965</td>\n",
       "      <td>0.000124</td>\n",
       "    </tr>\n",
       "    <tr>\n",
       "      <th>15621</th>\n",
       "      <td>21575</td>\n",
       "      <td>0</td>\n",
       "      <td>21571</td>\n",
       "      <td>0.000248</td>\n",
       "      <td>20777</td>\n",
       "      <td>0.062839</td>\n",
       "    </tr>\n",
       "    <tr>\n",
       "      <th>15622</th>\n",
       "      <td>5390</td>\n",
       "      <td>1</td>\n",
       "      <td>21424</td>\n",
       "      <td>0.252208</td>\n",
       "      <td>5392</td>\n",
       "      <td>0.000248</td>\n",
       "    </tr>\n",
       "    <tr>\n",
       "      <th>15623</th>\n",
       "      <td>860</td>\n",
       "      <td>1</td>\n",
       "      <td>21779</td>\n",
       "      <td>0.243878</td>\n",
       "      <td>858</td>\n",
       "      <td>0.000124</td>\n",
       "    </tr>\n",
       "    <tr>\n",
       "      <th>15624</th>\n",
       "      <td>15795</td>\n",
       "      <td>1</td>\n",
       "      <td>15791</td>\n",
       "      <td>0.000619</td>\n",
       "      <td>15792</td>\n",
       "      <td>0.000495</td>\n",
       "    </tr>\n",
       "  </tbody>\n",
       "</table>\n",
       "<p>15625 rows × 6 columns</p>\n",
       "</div>"
      ],
      "text/plain": [
       "       idx_train  label_train  idx_neigh0  dist_neigh0  idx_neigh1  \\\n",
       "0            848            1       21779     0.243507         850   \n",
       "1           5049            0        5696     0.000000        5666   \n",
       "2          20921            1       22671     0.010224       20915   \n",
       "3           4571            0       12898     0.000124        3404   \n",
       "4          14276            0       14277     0.000495       20640   \n",
       "...          ...          ...         ...          ...         ...   \n",
       "15620      11964            1       11903     0.000495       11965   \n",
       "15621      21575            0       21571     0.000248       20777   \n",
       "15622       5390            1       21424     0.252208        5392   \n",
       "15623        860            1       21779     0.243878         858   \n",
       "15624      15795            1       15791     0.000619       15792   \n",
       "\n",
       "       dist_neigh1  \n",
       "0         0.000124  \n",
       "1         0.000495  \n",
       "2         0.000495  \n",
       "3         0.000619  \n",
       "4         0.129566  \n",
       "...            ...  \n",
       "15620     0.000124  \n",
       "15621     0.062839  \n",
       "15622     0.000248  \n",
       "15623     0.000124  \n",
       "15624     0.000495  \n",
       "\n",
       "[15625 rows x 6 columns]"
      ]
     },
     "execution_count": 10,
     "metadata": {},
     "output_type": "execute_result"
    }
   ],
   "source": [
    "df_rasar_train = pd.DataFrame({'idx_train': X_train.index.values,\n",
    "                  'label_train': y_train,\n",
    "                  'idx_neigh0': idx_neigh0.values,\n",
    "                  'dist_neigh0': dist0,       \n",
    "                  'idx_neigh1': idx_neigh1.values,\n",
    "                  'dist_neigh1': dist1})\n",
    "df_rasar_train"
   ]
  },
  {
   "cell_type": "markdown",
   "metadata": {},
   "source": [
    "# Supervised Step"
   ]
  },
  {
   "cell_type": "code",
   "execution_count": 17,
   "metadata": {},
   "outputs": [
    {
     "data": {
      "text/html": [
       "<div>\n",
       "<style scoped>\n",
       "    .dataframe tbody tr th:only-of-type {\n",
       "        vertical-align: middle;\n",
       "    }\n",
       "\n",
       "    .dataframe tbody tr th {\n",
       "        vertical-align: top;\n",
       "    }\n",
       "\n",
       "    .dataframe thead th {\n",
       "        text-align: right;\n",
       "    }\n",
       "</style>\n",
       "<table border=\"1\" class=\"dataframe\">\n",
       "  <thead>\n",
       "    <tr style=\"text-align: right;\">\n",
       "      <th></th>\n",
       "      <th>dist_neigh_0</th>\n",
       "      <th>dist_neigh_1</th>\n",
       "    </tr>\n",
       "  </thead>\n",
       "  <tbody>\n",
       "    <tr>\n",
       "      <th>0</th>\n",
       "      <td>0.000124</td>\n",
       "      <td>0.000124</td>\n",
       "    </tr>\n",
       "    <tr>\n",
       "      <th>1</th>\n",
       "      <td>0.000495</td>\n",
       "      <td>0.000124</td>\n",
       "    </tr>\n",
       "    <tr>\n",
       "      <th>2</th>\n",
       "      <td>0.000124</td>\n",
       "      <td>0.000124</td>\n",
       "    </tr>\n",
       "    <tr>\n",
       "      <th>3</th>\n",
       "      <td>0.241111</td>\n",
       "      <td>0.000619</td>\n",
       "    </tr>\n",
       "    <tr>\n",
       "      <th>4</th>\n",
       "      <td>0.189612</td>\n",
       "      <td>0.000495</td>\n",
       "    </tr>\n",
       "    <tr>\n",
       "      <th>...</th>\n",
       "      <td>...</td>\n",
       "      <td>...</td>\n",
       "    </tr>\n",
       "    <tr>\n",
       "      <th>7692</th>\n",
       "      <td>0.000124</td>\n",
       "      <td>0.000743</td>\n",
       "    </tr>\n",
       "    <tr>\n",
       "      <th>7693</th>\n",
       "      <td>0.000248</td>\n",
       "      <td>0.094760</td>\n",
       "    </tr>\n",
       "    <tr>\n",
       "      <th>7694</th>\n",
       "      <td>0.000495</td>\n",
       "      <td>0.122188</td>\n",
       "    </tr>\n",
       "    <tr>\n",
       "      <th>7695</th>\n",
       "      <td>0.000248</td>\n",
       "      <td>0.000495</td>\n",
       "    </tr>\n",
       "    <tr>\n",
       "      <th>7696</th>\n",
       "      <td>0.000124</td>\n",
       "      <td>0.066731</td>\n",
       "    </tr>\n",
       "  </tbody>\n",
       "</table>\n",
       "<p>7697 rows × 2 columns</p>\n",
       "</div>"
      ],
      "text/plain": [
       "      dist_neigh_0  dist_neigh_1\n",
       "0         0.000124      0.000124\n",
       "1         0.000495      0.000124\n",
       "2         0.000124      0.000124\n",
       "3         0.241111      0.000619\n",
       "4         0.189612      0.000495\n",
       "...            ...           ...\n",
       "7692      0.000124      0.000743\n",
       "7693      0.000248      0.094760\n",
       "7694      0.000495      0.122188\n",
       "7695      0.000248      0.000495\n",
       "7696      0.000124      0.066731\n",
       "\n",
       "[7697 rows x 2 columns]"
      ]
     },
     "execution_count": 17,
     "metadata": {},
     "output_type": "execute_result"
    }
   ],
   "source": [
    "df_rasar_train[['dist_neigh0','dist_neigh1']]\n",
    "df_rasar_test[['dist_neigh_0','dist_neigh_1']]"
   ]
  },
  {
   "cell_type": "code",
   "execution_count": 30,
   "metadata": {},
   "outputs": [
    {
     "data": {
      "text/plain": [
       "0.8959334805768481"
      ]
     },
     "execution_count": 30,
     "metadata": {},
     "output_type": "execute_result"
    }
   ],
   "source": [
    "from sklearn.linear_model import LogisticRegression\n",
    "from sklearn.metrics import accuracy_score\n",
    "\n",
    "lrc = LogisticRegression(random_state=0, fit_intercept = False, penalty = 'elasticnet', solver = 'saga',\n",
    "                        l1_ratio = 1)\n",
    "\n",
    "lrc.fit(df_rasar_train[['dist_neigh0','dist_neigh1']], y_train)\n",
    "\n",
    "y_pred = lrc.predict(df_rasar_test[['dist_neigh_0','dist_neigh_1']])\n",
    "\n",
    "accuracy_score(y_pred, y_test)"
   ]
  },
  {
   "cell_type": "code",
   "execution_count": 5,
   "metadata": {},
   "outputs": [
    {
     "data": {
      "text/plain": [
       "0.8975559022360895"
      ]
     },
     "execution_count": 5,
     "metadata": {},
     "output_type": "execute_result"
    }
   ],
   "source": [
    "# Con dati senza duplicati\n",
    "knn = KNeighborsClassifier(metric = 'precomputed', n_neighbors=1, n_jobs=-2, leaf_size=80)\n",
    "knn.fit(dist_matr_train, y_train)\n",
    "\n",
    "y_pred = knn.predict(dist_matr_test)\n",
    "\n",
    "accuracy_score(y_pred,y_test)"
   ]
  }
 ],
 "metadata": {
  "kernelspec": {
   "display_name": "Python 3",
   "language": "python",
   "name": "python3"
  },
  "language_info": {
   "codemirror_mode": {
    "name": "ipython",
    "version": 3
   },
   "file_extension": ".py",
   "mimetype": "text/x-python",
   "name": "python",
   "nbconvert_exporter": "python",
   "pygments_lexer": "ipython3",
   "version": "3.7.7"
  }
 },
 "nbformat": 4,
 "nbformat_minor": 4
}
