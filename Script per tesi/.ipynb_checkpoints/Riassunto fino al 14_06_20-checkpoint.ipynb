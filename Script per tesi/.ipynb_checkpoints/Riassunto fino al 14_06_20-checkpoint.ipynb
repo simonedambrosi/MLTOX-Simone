{
 "cells": [
  {
   "cell_type": "markdown",
   "metadata": {},
   "source": [
    "# Wrapping up\n",
    "\n",
    "Dai file *raw* che abbiamo, ossia:\n",
    "- 'results.txt'\n",
    "- 'test.txt' \n",
    "- 'species.txt'\n",
    "\n",
    "filtrando i dati e analizzando le variabili otteniamo un dataset basilare chiamato **base_db.csv**. Poi si estraggono i cas number dai chemicals e le relative proprietà. Facendo un po' di preprocessing si ottiene il db **final_db_processed.csv**."
   ]
  },
  {
   "cell_type": "code",
   "execution_count": 1,
   "metadata": {
    "scrolled": false
   },
   "outputs": [
    {
     "data": {
      "text/html": [
       "<div>\n",
       "<style scoped>\n",
       "    .dataframe tbody tr th:only-of-type {\n",
       "        vertical-align: middle;\n",
       "    }\n",
       "\n",
       "    .dataframe tbody tr th {\n",
       "        vertical-align: top;\n",
       "    }\n",
       "\n",
       "    .dataframe thead th {\n",
       "        text-align: right;\n",
       "    }\n",
       "</style>\n",
       "<table border=\"1\" class=\"dataframe\">\n",
       "  <thead>\n",
       "    <tr style=\"text-align: right;\">\n",
       "      <th></th>\n",
       "      <th>test_cas</th>\n",
       "      <th>species</th>\n",
       "      <th>conc1_type</th>\n",
       "      <th>exposure_type</th>\n",
       "      <th>obs_duration_mean</th>\n",
       "      <th>conc1_mean</th>\n",
       "      <th>atom_number</th>\n",
       "      <th>alone_atom_number</th>\n",
       "      <th>bonds_number</th>\n",
       "      <th>doubleBond</th>\n",
       "      <th>tripleBond</th>\n",
       "      <th>ring_number</th>\n",
       "      <th>Mol</th>\n",
       "      <th>MorganDensity</th>\n",
       "      <th>LogP</th>\n",
       "      <th>class</th>\n",
       "      <th>tax_order</th>\n",
       "      <th>family</th>\n",
       "      <th>genus</th>\n",
       "    </tr>\n",
       "  </thead>\n",
       "  <tbody>\n",
       "    <tr>\n",
       "      <th>0</th>\n",
       "      <td>100-00-5</td>\n",
       "      <td>rerio</td>\n",
       "      <td>F</td>\n",
       "      <td>F</td>\n",
       "      <td>48.0</td>\n",
       "      <td>15.00</td>\n",
       "      <td>0.317908</td>\n",
       "      <td>2</td>\n",
       "      <td>0.488106</td>\n",
       "      <td>1</td>\n",
       "      <td>0</td>\n",
       "      <td>1.0</td>\n",
       "      <td>0.535725</td>\n",
       "      <td>1.300000</td>\n",
       "      <td>2.2482</td>\n",
       "      <td>Actinopterygii</td>\n",
       "      <td>Cypriniformes</td>\n",
       "      <td>Cyprinidae</td>\n",
       "      <td>Danio</td>\n",
       "    </tr>\n",
       "    <tr>\n",
       "      <th>1</th>\n",
       "      <td>100-00-5</td>\n",
       "      <td>rerio</td>\n",
       "      <td>F</td>\n",
       "      <td>F</td>\n",
       "      <td>96.0</td>\n",
       "      <td>15.00</td>\n",
       "      <td>0.317908</td>\n",
       "      <td>2</td>\n",
       "      <td>0.488106</td>\n",
       "      <td>1</td>\n",
       "      <td>0</td>\n",
       "      <td>1.0</td>\n",
       "      <td>0.535725</td>\n",
       "      <td>1.300000</td>\n",
       "      <td>2.2482</td>\n",
       "      <td>Actinopterygii</td>\n",
       "      <td>Cypriniformes</td>\n",
       "      <td>Cyprinidae</td>\n",
       "      <td>Danio</td>\n",
       "    </tr>\n",
       "    <tr>\n",
       "      <th>2</th>\n",
       "      <td>100-01-6</td>\n",
       "      <td>rerio</td>\n",
       "      <td>F</td>\n",
       "      <td>S</td>\n",
       "      <td>96.0</td>\n",
       "      <td>87.60</td>\n",
       "      <td>0.317908</td>\n",
       "      <td>2</td>\n",
       "      <td>0.488106</td>\n",
       "      <td>1</td>\n",
       "      <td>0</td>\n",
       "      <td>1.0</td>\n",
       "      <td>0.510371</td>\n",
       "      <td>1.300000</td>\n",
       "      <td>1.1770</td>\n",
       "      <td>Actinopterygii</td>\n",
       "      <td>Cypriniformes</td>\n",
       "      <td>Cyprinidae</td>\n",
       "      <td>Danio</td>\n",
       "    </tr>\n",
       "    <tr>\n",
       "      <th>3</th>\n",
       "      <td>100-02-7</td>\n",
       "      <td>rerio</td>\n",
       "      <td>F</td>\n",
       "      <td>AQUA</td>\n",
       "      <td>48.0</td>\n",
       "      <td>26.50</td>\n",
       "      <td>0.317908</td>\n",
       "      <td>2</td>\n",
       "      <td>0.488106</td>\n",
       "      <td>1</td>\n",
       "      <td>0</td>\n",
       "      <td>1.0</td>\n",
       "      <td>0.511738</td>\n",
       "      <td>1.300000</td>\n",
       "      <td>1.3004</td>\n",
       "      <td>Actinopterygii</td>\n",
       "      <td>Cypriniformes</td>\n",
       "      <td>Cyprinidae</td>\n",
       "      <td>Danio</td>\n",
       "    </tr>\n",
       "    <tr>\n",
       "      <th>4</th>\n",
       "      <td>100-44-7</td>\n",
       "      <td>rerio</td>\n",
       "      <td>F</td>\n",
       "      <td>S</td>\n",
       "      <td>96.0</td>\n",
       "      <td>4.00</td>\n",
       "      <td>0.217006</td>\n",
       "      <td>0</td>\n",
       "      <td>0.447258</td>\n",
       "      <td>0</td>\n",
       "      <td>0</td>\n",
       "      <td>1.0</td>\n",
       "      <td>0.493578</td>\n",
       "      <td>1.125000</td>\n",
       "      <td>2.4254</td>\n",
       "      <td>Actinopterygii</td>\n",
       "      <td>Cypriniformes</td>\n",
       "      <td>Cyprinidae</td>\n",
       "      <td>Danio</td>\n",
       "    </tr>\n",
       "    <tr>\n",
       "      <th>...</th>\n",
       "      <td>...</td>\n",
       "      <td>...</td>\n",
       "      <td>...</td>\n",
       "      <td>...</td>\n",
       "      <td>...</td>\n",
       "      <td>...</td>\n",
       "      <td>...</td>\n",
       "      <td>...</td>\n",
       "      <td>...</td>\n",
       "      <td>...</td>\n",
       "      <td>...</td>\n",
       "      <td>...</td>\n",
       "      <td>...</td>\n",
       "      <td>...</td>\n",
       "      <td>...</td>\n",
       "      <td>...</td>\n",
       "      <td>...</td>\n",
       "      <td>...</td>\n",
       "      <td>...</td>\n",
       "    </tr>\n",
       "    <tr>\n",
       "      <th>23327</th>\n",
       "      <td>94-75-7</td>\n",
       "      <td>boga</td>\n",
       "      <td>F</td>\n",
       "      <td>R</td>\n",
       "      <td>96.0</td>\n",
       "      <td>3.80</td>\n",
       "      <td>0.410746</td>\n",
       "      <td>0</td>\n",
       "      <td>0.537196</td>\n",
       "      <td>1</td>\n",
       "      <td>0</td>\n",
       "      <td>1.0</td>\n",
       "      <td>0.601033</td>\n",
       "      <td>1.461538</td>\n",
       "      <td>2.4568</td>\n",
       "      <td>Actinopterygii</td>\n",
       "      <td>Cypriniformes</td>\n",
       "      <td>Cyprinidae</td>\n",
       "      <td>Labeo</td>\n",
       "    </tr>\n",
       "    <tr>\n",
       "      <th>23328</th>\n",
       "      <td>94-75-7</td>\n",
       "      <td>neilgherriensis</td>\n",
       "      <td>F</td>\n",
       "      <td>R</td>\n",
       "      <td>24.0</td>\n",
       "      <td>7.80</td>\n",
       "      <td>0.410746</td>\n",
       "      <td>0</td>\n",
       "      <td>0.537196</td>\n",
       "      <td>1</td>\n",
       "      <td>0</td>\n",
       "      <td>1.0</td>\n",
       "      <td>0.601033</td>\n",
       "      <td>1.461538</td>\n",
       "      <td>2.4568</td>\n",
       "      <td>Actinopterygii</td>\n",
       "      <td>Cypriniformes</td>\n",
       "      <td>Cyprinidae</td>\n",
       "      <td>Rasbora</td>\n",
       "    </tr>\n",
       "    <tr>\n",
       "      <th>23329</th>\n",
       "      <td>94-75-7</td>\n",
       "      <td>neilgherriensis</td>\n",
       "      <td>F</td>\n",
       "      <td>R</td>\n",
       "      <td>48.0</td>\n",
       "      <td>6.80</td>\n",
       "      <td>0.410746</td>\n",
       "      <td>0</td>\n",
       "      <td>0.537196</td>\n",
       "      <td>1</td>\n",
       "      <td>0</td>\n",
       "      <td>1.0</td>\n",
       "      <td>0.601033</td>\n",
       "      <td>1.461538</td>\n",
       "      <td>2.4568</td>\n",
       "      <td>Actinopterygii</td>\n",
       "      <td>Cypriniformes</td>\n",
       "      <td>Cyprinidae</td>\n",
       "      <td>Rasbora</td>\n",
       "    </tr>\n",
       "    <tr>\n",
       "      <th>23330</th>\n",
       "      <td>94-75-7</td>\n",
       "      <td>neilgherriensis</td>\n",
       "      <td>F</td>\n",
       "      <td>R</td>\n",
       "      <td>96.0</td>\n",
       "      <td>5.60</td>\n",
       "      <td>0.410746</td>\n",
       "      <td>0</td>\n",
       "      <td>0.537196</td>\n",
       "      <td>1</td>\n",
       "      <td>0</td>\n",
       "      <td>1.0</td>\n",
       "      <td>0.601033</td>\n",
       "      <td>1.461538</td>\n",
       "      <td>2.4568</td>\n",
       "      <td>Actinopterygii</td>\n",
       "      <td>Cypriniformes</td>\n",
       "      <td>Cyprinidae</td>\n",
       "      <td>Rasbora</td>\n",
       "    </tr>\n",
       "    <tr>\n",
       "      <th>23331</th>\n",
       "      <td>95-76-1</td>\n",
       "      <td>pardalis</td>\n",
       "      <td>A</td>\n",
       "      <td>R</td>\n",
       "      <td>96.0</td>\n",
       "      <td>5.18</td>\n",
       "      <td>0.273831</td>\n",
       "      <td>0</td>\n",
       "      <td>0.468705</td>\n",
       "      <td>0</td>\n",
       "      <td>0</td>\n",
       "      <td>1.0</td>\n",
       "      <td>0.541108</td>\n",
       "      <td>1.111111</td>\n",
       "      <td>2.5756</td>\n",
       "      <td>Actinopterygii</td>\n",
       "      <td>Cyprinodontiformes</td>\n",
       "      <td>Goodeidae</td>\n",
       "      <td>Chapalichthys</td>\n",
       "    </tr>\n",
       "  </tbody>\n",
       "</table>\n",
       "<p>23332 rows × 19 columns</p>\n",
       "</div>"
      ],
      "text/plain": [
       "       test_cas          species conc1_type exposure_type  obs_duration_mean  \\\n",
       "0      100-00-5            rerio          F             F               48.0   \n",
       "1      100-00-5            rerio          F             F               96.0   \n",
       "2      100-01-6            rerio          F             S               96.0   \n",
       "3      100-02-7            rerio          F          AQUA               48.0   \n",
       "4      100-44-7            rerio          F             S               96.0   \n",
       "...         ...              ...        ...           ...                ...   \n",
       "23327   94-75-7             boga          F             R               96.0   \n",
       "23328   94-75-7  neilgherriensis          F             R               24.0   \n",
       "23329   94-75-7  neilgherriensis          F             R               48.0   \n",
       "23330   94-75-7  neilgherriensis          F             R               96.0   \n",
       "23331   95-76-1         pardalis          A             R               96.0   \n",
       "\n",
       "       conc1_mean  atom_number  alone_atom_number  bonds_number  doubleBond  \\\n",
       "0           15.00     0.317908                  2      0.488106           1   \n",
       "1           15.00     0.317908                  2      0.488106           1   \n",
       "2           87.60     0.317908                  2      0.488106           1   \n",
       "3           26.50     0.317908                  2      0.488106           1   \n",
       "4            4.00     0.217006                  0      0.447258           0   \n",
       "...           ...          ...                ...           ...         ...   \n",
       "23327        3.80     0.410746                  0      0.537196           1   \n",
       "23328        7.80     0.410746                  0      0.537196           1   \n",
       "23329        6.80     0.410746                  0      0.537196           1   \n",
       "23330        5.60     0.410746                  0      0.537196           1   \n",
       "23331        5.18     0.273831                  0      0.468705           0   \n",
       "\n",
       "       tripleBond  ring_number       Mol  MorganDensity    LogP  \\\n",
       "0               0          1.0  0.535725       1.300000  2.2482   \n",
       "1               0          1.0  0.535725       1.300000  2.2482   \n",
       "2               0          1.0  0.510371       1.300000  1.1770   \n",
       "3               0          1.0  0.511738       1.300000  1.3004   \n",
       "4               0          1.0  0.493578       1.125000  2.4254   \n",
       "...           ...          ...       ...            ...     ...   \n",
       "23327           0          1.0  0.601033       1.461538  2.4568   \n",
       "23328           0          1.0  0.601033       1.461538  2.4568   \n",
       "23329           0          1.0  0.601033       1.461538  2.4568   \n",
       "23330           0          1.0  0.601033       1.461538  2.4568   \n",
       "23331           0          1.0  0.541108       1.111111  2.5756   \n",
       "\n",
       "                class           tax_order      family          genus  \n",
       "0      Actinopterygii       Cypriniformes  Cyprinidae          Danio  \n",
       "1      Actinopterygii       Cypriniformes  Cyprinidae          Danio  \n",
       "2      Actinopterygii       Cypriniformes  Cyprinidae          Danio  \n",
       "3      Actinopterygii       Cypriniformes  Cyprinidae          Danio  \n",
       "4      Actinopterygii       Cypriniformes  Cyprinidae          Danio  \n",
       "...               ...                 ...         ...            ...  \n",
       "23327  Actinopterygii       Cypriniformes  Cyprinidae          Labeo  \n",
       "23328  Actinopterygii       Cypriniformes  Cyprinidae        Rasbora  \n",
       "23329  Actinopterygii       Cypriniformes  Cyprinidae        Rasbora  \n",
       "23330  Actinopterygii       Cypriniformes  Cyprinidae        Rasbora  \n",
       "23331  Actinopterygii  Cyprinodontiformes   Goodeidae  Chapalichthys  \n",
       "\n",
       "[23332 rows x 19 columns]"
      ]
     },
     "execution_count": 1,
     "metadata": {},
     "output_type": "execute_result"
    }
   ],
   "source": [
    "import numpy as np\n",
    "import pandas as pd\n",
    "\n",
    "db = pd.read_csv('dataset/final_db_processed.csv')\n",
    "db"
   ]
  },
  {
   "cell_type": "code",
   "execution_count": 2,
   "metadata": {},
   "outputs": [
    {
     "data": {
      "text/plain": [
       "Index(['test_cas', 'species', 'conc1_type', 'exposure_type',\n",
       "       'obs_duration_mean', 'conc1_mean', 'atom_number', 'alone_atom_number',\n",
       "       'bonds_number', 'doubleBond', 'tripleBond', 'ring_number', 'Mol',\n",
       "       'MorganDensity', 'LogP', 'class', 'tax_order', 'family', 'genus'],\n",
       "      dtype='object')"
      ]
     },
     "execution_count": 2,
     "metadata": {},
     "output_type": "execute_result"
    }
   ],
   "source": [
    "db.columns"
   ]
  },
  {
   "cell_type": "markdown",
   "metadata": {},
   "source": [
    "Le variabili del lavoro precedente sono: \n",
    "\n",
    "- test_cas: il composto testato\n",
    "- conc1_type: file *concentration_type_code.txt*\n",
    "- conc1_mean: concentrazione media\n",
    "- exposure_type\n",
    "- obs_duration_mean\n",
    "\n",
    "Proprietà dell'animale su cui è stato testato il composto (in ordine di classificazione scientifica del regno animale):\n",
    "\n",
    "- class\n",
    "- tax_order\n",
    "- family\n",
    "- genus\n",
    "- species\n",
    "\n",
    "Questa scala è utile per la verifica che le specie su cui è stato testato un composto costituiscano un'albero filogenetico.\n",
    "\n",
    "Proprietà estratte dal CAS Number:\n",
    "\n",
    "- atom_number\n",
    "- alone_atom_number\n",
    "- bonds_number\n",
    "- doubleBond\n",
    "- tripleBond\n",
    "- ring_number\n",
    "- Mol\n",
    "- MorganDensity\n",
    "- LogP\n"
   ]
  },
  {
   "cell_type": "code",
   "execution_count": 3,
   "metadata": {},
   "outputs": [
    {
     "data": {
      "text/html": [
       "<div>\n",
       "<style scoped>\n",
       "    .dataframe tbody tr th:only-of-type {\n",
       "        vertical-align: middle;\n",
       "    }\n",
       "\n",
       "    .dataframe tbody tr th {\n",
       "        vertical-align: top;\n",
       "    }\n",
       "\n",
       "    .dataframe thead th {\n",
       "        text-align: right;\n",
       "    }\n",
       "</style>\n",
       "<table border=\"1\" class=\"dataframe\">\n",
       "  <thead>\n",
       "    <tr style=\"text-align: right;\">\n",
       "      <th></th>\n",
       "      <th>cas</th>\n",
       "      <th>smiles</th>\n",
       "      <th>pubchem2d</th>\n",
       "    </tr>\n",
       "  </thead>\n",
       "  <tbody>\n",
       "    <tr>\n",
       "      <th>0</th>\n",
       "      <td>10108-64-2</td>\n",
       "      <td>[Cl-].[Cl-].[Cd++]</td>\n",
       "      <td>0000000000000000000000000000000000000110000000...</td>\n",
       "    </tr>\n",
       "    <tr>\n",
       "      <th>1</th>\n",
       "      <td>88-30-2</td>\n",
       "      <td>Oc1ccc(c(c1)C(F)(F)F)[N+]([O-])=O</td>\n",
       "      <td>1000000001100010001100011000000000000000000000...</td>\n",
       "    </tr>\n",
       "    <tr>\n",
       "      <th>2</th>\n",
       "      <td>1397-94-0</td>\n",
       "      <td>CCCCCC[C@@H]1[C@@H](OC(=O)CC(C)C)[C@H](C)OC(=O...</td>\n",
       "      <td>1111000001111011001111000000000000000000000000...</td>\n",
       "    </tr>\n",
       "    <tr>\n",
       "      <th>3</th>\n",
       "      <td>25474-41-3</td>\n",
       "      <td>NaN</td>\n",
       "      <td>NaN</td>\n",
       "    </tr>\n",
       "    <tr>\n",
       "      <th>4</th>\n",
       "      <td>540-72-7</td>\n",
       "      <td>[Na+].[S-]C#N</td>\n",
       "      <td>0000000000000010000000000010000001000000000000...</td>\n",
       "    </tr>\n",
       "    <tr>\n",
       "      <th>...</th>\n",
       "      <td>...</td>\n",
       "      <td>...</td>\n",
       "      <td>...</td>\n",
       "    </tr>\n",
       "    <tr>\n",
       "      <th>3196</th>\n",
       "      <td>14008-58-3</td>\n",
       "      <td>CCCCNC(=O)NC(=O)c1cccnc1</td>\n",
       "      <td>1100000001110011001100000000000000000000000000...</td>\n",
       "    </tr>\n",
       "    <tr>\n",
       "      <th>3197</th>\n",
       "      <td>53762-97-3</td>\n",
       "      <td>NaN</td>\n",
       "      <td>NaN</td>\n",
       "    </tr>\n",
       "    <tr>\n",
       "      <th>3198</th>\n",
       "      <td>52316-55-9</td>\n",
       "      <td>COC(=O)Nc1[nH]c2ccccc2n1.O[P](O)(O)=O</td>\n",
       "      <td>1100000001110011001110000000001000000000000000...</td>\n",
       "    </tr>\n",
       "    <tr>\n",
       "      <th>3199</th>\n",
       "      <td>499-83-2</td>\n",
       "      <td>OC(=O)c1cccc(n1)C(O)=O</td>\n",
       "      <td>1000000001100010001110000000000000000000000000...</td>\n",
       "    </tr>\n",
       "    <tr>\n",
       "      <th>3200</th>\n",
       "      <td>68-11-1</td>\n",
       "      <td>OC(=O)CS</td>\n",
       "      <td>1000000001000000001100000000000001000000000000...</td>\n",
       "    </tr>\n",
       "  </tbody>\n",
       "</table>\n",
       "<p>3201 rows × 3 columns</p>\n",
       "</div>"
      ],
      "text/plain": [
       "             cas                                             smiles  \\\n",
       "0     10108-64-2                                 [Cl-].[Cl-].[Cd++]   \n",
       "1        88-30-2                  Oc1ccc(c(c1)C(F)(F)F)[N+]([O-])=O   \n",
       "2      1397-94-0  CCCCCC[C@@H]1[C@@H](OC(=O)CC(C)C)[C@H](C)OC(=O...   \n",
       "3     25474-41-3                                                NaN   \n",
       "4       540-72-7                                      [Na+].[S-]C#N   \n",
       "...          ...                                                ...   \n",
       "3196  14008-58-3                           CCCCNC(=O)NC(=O)c1cccnc1   \n",
       "3197  53762-97-3                                                NaN   \n",
       "3198  52316-55-9              COC(=O)Nc1[nH]c2ccccc2n1.O[P](O)(O)=O   \n",
       "3199    499-83-2                             OC(=O)c1cccc(n1)C(O)=O   \n",
       "3200     68-11-1                                           OC(=O)CS   \n",
       "\n",
       "                                              pubchem2d  \n",
       "0     0000000000000000000000000000000000000110000000...  \n",
       "1     1000000001100010001100011000000000000000000000...  \n",
       "2     1111000001111011001111000000000000000000000000...  \n",
       "3                                                   NaN  \n",
       "4     0000000000000010000000000010000001000000000000...  \n",
       "...                                                 ...  \n",
       "3196  1100000001110011001100000000000000000000000000...  \n",
       "3197                                                NaN  \n",
       "3198  1100000001110011001110000000001000000000000000...  \n",
       "3199  1000000001100010001110000000000000000000000000...  \n",
       "3200  1000000001000000001100000000000001000000000000...  \n",
       "\n",
       "[3201 rows x 3 columns]"
      ]
     },
     "execution_count": 3,
     "metadata": {},
     "output_type": "execute_result"
    }
   ],
   "source": [
    "info = pd.read_csv('dataset_prova/cas_sm_pubchem.csv').drop(columns = 'Unnamed: 0')\n",
    "info"
   ]
  },
  {
   "cell_type": "markdown",
   "metadata": {},
   "source": [
    "Troviamo i composti che non hanno gli smiles:"
   ]
  },
  {
   "cell_type": "code",
   "execution_count": 4,
   "metadata": {},
   "outputs": [
    {
     "data": {
      "text/plain": [
       "465"
      ]
     },
     "execution_count": 4,
     "metadata": {},
     "output_type": "execute_result"
    }
   ],
   "source": [
    "idx_sm = info.smiles.isnull()\n",
    "\n",
    "no_smiles = info.cas[idx_sm]\n",
    "len(no_smiles)"
   ]
  },
  {
   "cell_type": "code",
   "execution_count": 5,
   "metadata": {},
   "outputs": [],
   "source": [
    "no_smiles = pd.DataFrame(no_smiles.values,columns = ['cas_no_smiles'])"
   ]
  },
  {
   "cell_type": "code",
   "execution_count": 45,
   "metadata": {},
   "outputs": [],
   "source": [
    "no_smiles.reset_index(drop = True).to_csv('dataset_prova/chem_no_smiles.csv')"
   ]
  },
  {
   "cell_type": "markdown",
   "metadata": {},
   "source": [
    "Troviamo i composti che non hanno i pubchem2d:"
   ]
  },
  {
   "cell_type": "code",
   "execution_count": 6,
   "metadata": {},
   "outputs": [
    {
     "name": "stdout",
     "output_type": "stream",
     "text": [
      "481\n"
     ]
    }
   ],
   "source": [
    "idx_pb = info.pubchem2d.isnull()\n",
    "\n",
    "no_pubchem = info.cas[idx_pb]\n",
    "print(len(no_pubchem))\n",
    "no_pubchem = pd.DataFrame(no_pubchem.values,columns = ['cas_no_pubchem2d'])"
   ]
  },
  {
   "cell_type": "code",
   "execution_count": 54,
   "metadata": {},
   "outputs": [],
   "source": [
    "no_pubchem.reset_index(drop = True).to_csv('dataset_prova/chem_no_pubchem2d.csv')"
   ]
  },
  {
   "cell_type": "markdown",
   "metadata": {},
   "source": [
    "I composti che non hanno o il pubchem2d o lo smiles sono:\n"
   ]
  },
  {
   "cell_type": "code",
   "execution_count": 7,
   "metadata": {},
   "outputs": [
    {
     "data": {
      "text/html": [
       "<div>\n",
       "<style scoped>\n",
       "    .dataframe tbody tr th:only-of-type {\n",
       "        vertical-align: middle;\n",
       "    }\n",
       "\n",
       "    .dataframe tbody tr th {\n",
       "        vertical-align: top;\n",
       "    }\n",
       "\n",
       "    .dataframe thead th {\n",
       "        text-align: right;\n",
       "    }\n",
       "</style>\n",
       "<table border=\"1\" class=\"dataframe\">\n",
       "  <thead>\n",
       "    <tr style=\"text-align: right;\">\n",
       "      <th></th>\n",
       "      <th>cas</th>\n",
       "      <th>smiles</th>\n",
       "      <th>pubchem2d</th>\n",
       "    </tr>\n",
       "  </thead>\n",
       "  <tbody>\n",
       "    <tr>\n",
       "      <th>0</th>\n",
       "      <td>25474-41-3</td>\n",
       "      <td>NaN</td>\n",
       "      <td>NaN</td>\n",
       "    </tr>\n",
       "    <tr>\n",
       "      <th>1</th>\n",
       "      <td>12642-13-6</td>\n",
       "      <td>NaN</td>\n",
       "      <td>NaN</td>\n",
       "    </tr>\n",
       "    <tr>\n",
       "      <th>2</th>\n",
       "      <td>68951-67-7</td>\n",
       "      <td>NaN</td>\n",
       "      <td>NaN</td>\n",
       "    </tr>\n",
       "    <tr>\n",
       "      <th>3</th>\n",
       "      <td>96638-72-1</td>\n",
       "      <td>NaN</td>\n",
       "      <td>NaN</td>\n",
       "    </tr>\n",
       "    <tr>\n",
       "      <th>4</th>\n",
       "      <td>64618-68-4</td>\n",
       "      <td>NaN</td>\n",
       "      <td>NaN</td>\n",
       "    </tr>\n",
       "    <tr>\n",
       "      <th>...</th>\n",
       "      <td>...</td>\n",
       "      <td>...</td>\n",
       "      <td>...</td>\n",
       "    </tr>\n",
       "    <tr>\n",
       "      <th>476</th>\n",
       "      <td>119364-85-1</td>\n",
       "      <td>NaN</td>\n",
       "      <td>NaN</td>\n",
       "    </tr>\n",
       "    <tr>\n",
       "      <th>477</th>\n",
       "      <td>172521-70-9</td>\n",
       "      <td>NaN</td>\n",
       "      <td>NaN</td>\n",
       "    </tr>\n",
       "    <tr>\n",
       "      <th>478</th>\n",
       "      <td>32289-58-0</td>\n",
       "      <td>NaN</td>\n",
       "      <td>NaN</td>\n",
       "    </tr>\n",
       "    <tr>\n",
       "      <th>479</th>\n",
       "      <td>53763-34-1</td>\n",
       "      <td>NaN</td>\n",
       "      <td>NaN</td>\n",
       "    </tr>\n",
       "    <tr>\n",
       "      <th>480</th>\n",
       "      <td>53762-97-3</td>\n",
       "      <td>NaN</td>\n",
       "      <td>NaN</td>\n",
       "    </tr>\n",
       "  </tbody>\n",
       "</table>\n",
       "<p>481 rows × 3 columns</p>\n",
       "</div>"
      ],
      "text/plain": [
       "             cas smiles pubchem2d\n",
       "0     25474-41-3    NaN       NaN\n",
       "1     12642-13-6    NaN       NaN\n",
       "2     68951-67-7    NaN       NaN\n",
       "3     96638-72-1    NaN       NaN\n",
       "4     64618-68-4    NaN       NaN\n",
       "..           ...    ...       ...\n",
       "476  119364-85-1    NaN       NaN\n",
       "477  172521-70-9    NaN       NaN\n",
       "478   32289-58-0    NaN       NaN\n",
       "479   53763-34-1    NaN       NaN\n",
       "480   53762-97-3    NaN       NaN\n",
       "\n",
       "[481 rows x 3 columns]"
      ]
     },
     "execution_count": 7,
     "metadata": {},
     "output_type": "execute_result"
    }
   ],
   "source": [
    "info[info.smiles.isnull() | info.pubchem2d.isnull()].reset_index(drop=True)"
   ]
  },
  {
   "cell_type": "code",
   "execution_count": 8,
   "metadata": {},
   "outputs": [],
   "source": [
    "info[info.smiles.isnull() | info.pubchem2d.isnull()].reset_index(drop=True).to_csv('dataset_prova/no_smi_pub.csv')"
   ]
  },
  {
   "cell_type": "markdown",
   "metadata": {},
   "source": [
    "Descrizione 3 file generati:\n",
    "\n",
    "- **no_smiles.csv**: ci sono i composti che non hanno lo smiles.\n",
    "\n",
    "- **no_pubchem.csv**: ci sono i composti che non hanno la rappresentazione pubchem2d usando *rdkit*\n",
    "\n",
    "- **no_smi_pub.csv**: ci sono i composti che non hanno lo smiles o in alternativa non hanno il pubchem oppure non hanno né l'uno né l'altro.\n",
    "\n",
    "Da notare che se non si conosce lo smiles allora non si conosce il pubchem2d. Se si conosce lo smiles non è detto che si conosca pure il pubchem2d."
   ]
  },
  {
   "cell_type": "markdown",
   "metadata": {},
   "source": [
    "I composti di cui conosciamo sia il pubchem2d che lo smiles sono:"
   ]
  },
  {
   "cell_type": "code",
   "execution_count": 9,
   "metadata": {},
   "outputs": [
    {
     "data": {
      "text/html": [
       "<div>\n",
       "<style scoped>\n",
       "    .dataframe tbody tr th:only-of-type {\n",
       "        vertical-align: middle;\n",
       "    }\n",
       "\n",
       "    .dataframe tbody tr th {\n",
       "        vertical-align: top;\n",
       "    }\n",
       "\n",
       "    .dataframe thead th {\n",
       "        text-align: right;\n",
       "    }\n",
       "</style>\n",
       "<table border=\"1\" class=\"dataframe\">\n",
       "  <thead>\n",
       "    <tr style=\"text-align: right;\">\n",
       "      <th></th>\n",
       "      <th>cas</th>\n",
       "      <th>smiles</th>\n",
       "      <th>pubchem2d</th>\n",
       "    </tr>\n",
       "  </thead>\n",
       "  <tbody>\n",
       "    <tr>\n",
       "      <th>0</th>\n",
       "      <td>10108-64-2</td>\n",
       "      <td>[Cl-].[Cl-].[Cd++]</td>\n",
       "      <td>0000000000000000000000000000000000000110000000...</td>\n",
       "    </tr>\n",
       "    <tr>\n",
       "      <th>1</th>\n",
       "      <td>88-30-2</td>\n",
       "      <td>Oc1ccc(c(c1)C(F)(F)F)[N+]([O-])=O</td>\n",
       "      <td>1000000001100010001100011000000000000000000000...</td>\n",
       "    </tr>\n",
       "    <tr>\n",
       "      <th>2</th>\n",
       "      <td>1397-94-0</td>\n",
       "      <td>CCCCCC[C@@H]1[C@@H](OC(=O)CC(C)C)[C@H](C)OC(=O...</td>\n",
       "      <td>1111000001111011001111000000000000000000000000...</td>\n",
       "    </tr>\n",
       "    <tr>\n",
       "      <th>4</th>\n",
       "      <td>540-72-7</td>\n",
       "      <td>[Na+].[S-]C#N</td>\n",
       "      <td>0000000000000010000000000010000001000000000000...</td>\n",
       "    </tr>\n",
       "    <tr>\n",
       "      <th>5</th>\n",
       "      <td>72-43-5</td>\n",
       "      <td>COc1ccc(cc1)C(c2ccc(OC)cc2)C(Cl)(Cl)Cl</td>\n",
       "      <td>1100000001111000001100000000000000000110000000...</td>\n",
       "    </tr>\n",
       "    <tr>\n",
       "      <th>...</th>\n",
       "      <td>...</td>\n",
       "      <td>...</td>\n",
       "      <td>...</td>\n",
       "    </tr>\n",
       "    <tr>\n",
       "      <th>3195</th>\n",
       "      <td>103-05-9</td>\n",
       "      <td>CC(C)(O)CCc1ccccc1</td>\n",
       "      <td>1110000001110000001000000000000000000000000000...</td>\n",
       "    </tr>\n",
       "    <tr>\n",
       "      <th>3196</th>\n",
       "      <td>14008-58-3</td>\n",
       "      <td>CCCCNC(=O)NC(=O)c1cccnc1</td>\n",
       "      <td>1100000001110011001100000000000000000000000000...</td>\n",
       "    </tr>\n",
       "    <tr>\n",
       "      <th>3198</th>\n",
       "      <td>52316-55-9</td>\n",
       "      <td>COC(=O)Nc1[nH]c2ccccc2n1.O[P](O)(O)=O</td>\n",
       "      <td>1100000001110011001110000000001000000000000000...</td>\n",
       "    </tr>\n",
       "    <tr>\n",
       "      <th>3199</th>\n",
       "      <td>499-83-2</td>\n",
       "      <td>OC(=O)c1cccc(n1)C(O)=O</td>\n",
       "      <td>1000000001100010001110000000000000000000000000...</td>\n",
       "    </tr>\n",
       "    <tr>\n",
       "      <th>3200</th>\n",
       "      <td>68-11-1</td>\n",
       "      <td>OC(=O)CS</td>\n",
       "      <td>1000000001000000001100000000000001000000000000...</td>\n",
       "    </tr>\n",
       "  </tbody>\n",
       "</table>\n",
       "<p>2720 rows × 3 columns</p>\n",
       "</div>"
      ],
      "text/plain": [
       "             cas                                             smiles  \\\n",
       "0     10108-64-2                                 [Cl-].[Cl-].[Cd++]   \n",
       "1        88-30-2                  Oc1ccc(c(c1)C(F)(F)F)[N+]([O-])=O   \n",
       "2      1397-94-0  CCCCCC[C@@H]1[C@@H](OC(=O)CC(C)C)[C@H](C)OC(=O...   \n",
       "4       540-72-7                                      [Na+].[S-]C#N   \n",
       "5        72-43-5             COc1ccc(cc1)C(c2ccc(OC)cc2)C(Cl)(Cl)Cl   \n",
       "...          ...                                                ...   \n",
       "3195    103-05-9                                 CC(C)(O)CCc1ccccc1   \n",
       "3196  14008-58-3                           CCCCNC(=O)NC(=O)c1cccnc1   \n",
       "3198  52316-55-9              COC(=O)Nc1[nH]c2ccccc2n1.O[P](O)(O)=O   \n",
       "3199    499-83-2                             OC(=O)c1cccc(n1)C(O)=O   \n",
       "3200     68-11-1                                           OC(=O)CS   \n",
       "\n",
       "                                              pubchem2d  \n",
       "0     0000000000000000000000000000000000000110000000...  \n",
       "1     1000000001100010001100011000000000000000000000...  \n",
       "2     1111000001111011001111000000000000000000000000...  \n",
       "4     0000000000000010000000000010000001000000000000...  \n",
       "5     1100000001111000001100000000000000000110000000...  \n",
       "...                                                 ...  \n",
       "3195  1110000001110000001000000000000000000000000000...  \n",
       "3196  1100000001110011001100000000000000000000000000...  \n",
       "3198  1100000001110011001110000000001000000000000000...  \n",
       "3199  1000000001100010001110000000000000000000000000...  \n",
       "3200  1000000001000000001100000000000001000000000000...  \n",
       "\n",
       "[2720 rows x 3 columns]"
      ]
     },
     "execution_count": 9,
     "metadata": {},
     "output_type": "execute_result"
    }
   ],
   "source": [
    "sm_pub = info[info.pubchem2d.isnull() == False]\n",
    "sm_pub"
   ]
  },
  {
   "cell_type": "code",
   "execution_count": 74,
   "metadata": {
    "scrolled": true
   },
   "outputs": [
    {
     "name": "stdout",
     "output_type": "stream",
     "text": [
      "I composti di cui sappiamo sia lo smiles che il pubchem2d sono: 2720\n"
     ]
    }
   ],
   "source": [
    "print('I composti di cui sappiamo sia lo smiles che il pubchem2d sono: {}'.format(len(sm_pub)))"
   ]
  },
  {
   "cell_type": "markdown",
   "metadata": {},
   "source": [
    "L'Hamming distance si basa sui caratteri del pubchem2d perciò la matrice delle distanze è relativa ai seguenti composti nell'ordine indicato:"
   ]
  },
  {
   "cell_type": "code",
   "execution_count": 11,
   "metadata": {},
   "outputs": [
    {
     "data": {
      "text/plain": [
       "0       10108-64-2\n",
       "1          88-30-2\n",
       "2        1397-94-0\n",
       "3         540-72-7\n",
       "4          72-43-5\n",
       "           ...    \n",
       "2715      103-05-9\n",
       "2716    14008-58-3\n",
       "2717    52316-55-9\n",
       "2718      499-83-2\n",
       "2719       68-11-1\n",
       "Name: cas, Length: 2720, dtype: object"
      ]
     },
     "execution_count": 11,
     "metadata": {},
     "output_type": "execute_result"
    }
   ],
   "source": [
    "sm_pub.cas.reset_index(drop = True)"
   ]
  },
  {
   "cell_type": "markdown",
   "metadata": {},
   "source": [
    "Per quanto riguarda la matrice di distanze basate sul Tanimoto Index, bisogna controllare quali composti hanno la rappresentazione usando la funzione *rdkit.Fingerprints.Fingerprint* ."
   ]
  },
  {
   "cell_type": "code",
   "execution_count": 14,
   "metadata": {},
   "outputs": [],
   "source": [
    "from rdkit.Chem import MolFromSmiles\n",
    "from rdkit import DataStructs\n",
    "from rdkit.Chem.Fingerprints import FingerprintMols\n",
    "\n",
    "l1 = list()\n",
    "idx_nofinprint = list()\n",
    "for i in range(len(info.smiles)):\n",
    "    try:\n",
    "        l1.append(FingerprintMols.FingerprintMol(MolFromSmiles(info.smiles[i])))\n",
    "    except:\n",
    "        idx_nofinprint.append(i)\n",
    "        continue"
   ]
  },
  {
   "cell_type": "code",
   "execution_count": 23,
   "metadata": {},
   "outputs": [
    {
     "data": {
      "text/plain": [
       "(504, 3)"
      ]
     },
     "execution_count": 23,
     "metadata": {},
     "output_type": "execute_result"
    }
   ],
   "source": [
    "no_finprint = info.loc[idx_nofinprint]\n",
    "no_finprint.shape"
   ]
  },
  {
   "cell_type": "markdown",
   "metadata": {},
   "source": [
    "Ci sono composti che sia lo smiles che il pubchem2d"
   ]
  },
  {
   "cell_type": "code",
   "execution_count": 22,
   "metadata": {},
   "outputs": [
    {
     "name": "stdout",
     "output_type": "stream",
     "text": [
      "40\n",
      "26\n"
     ]
    }
   ],
   "source": [
    "print(len(no_finprint.smiles.unique()))\n",
    "print(len(no_finprint.pubchem2d.unique()))"
   ]
  },
  {
   "cell_type": "markdown",
   "metadata": {},
   "source": [
    "504 composti non hanno la rappresentazione usando la funzione **Fingerprint** di *rdkit*. Di questi 40 composti hanno lo smiles e 26 hanno anche il pubchem2d."
   ]
  },
  {
   "cell_type": "markdown",
   "metadata": {},
   "source": [
    "La matrice di distanza basata sul Tanimoto index risponde ai seguenti composti:"
   ]
  },
  {
   "cell_type": "code",
   "execution_count": 29,
   "metadata": {},
   "outputs": [
    {
     "data": {
      "text/plain": [
       "2697"
      ]
     },
     "execution_count": 29,
     "metadata": {},
     "output_type": "execute_result"
    }
   ],
   "source": [
    "len(info)-len(idx_nofinprint)"
   ]
  },
  {
   "cell_type": "code",
   "execution_count": 62,
   "metadata": {},
   "outputs": [
    {
     "data": {
      "text/plain": [
       "0       10108-64-2\n",
       "1          88-30-2\n",
       "2        1397-94-0\n",
       "4         540-72-7\n",
       "5          72-43-5\n",
       "           ...    \n",
       "3195      103-05-9\n",
       "3196    14008-58-3\n",
       "3198    52316-55-9\n",
       "3199      499-83-2\n",
       "3200       68-11-1\n",
       "Name: cas, Length: 2697, dtype: object"
      ]
     },
     "execution_count": 62,
     "metadata": {},
     "output_type": "execute_result"
    }
   ],
   "source": [
    "temp = info.copy()\n",
    "temp.drop(idx_nofinprint).cas"
   ]
  },
  {
   "cell_type": "markdown",
   "metadata": {},
   "source": [
    "COSE DA FARE:\n",
    "\n",
    "1) Aggiornare il titolo dello script\n",
    "\n",
    "2) Fare descrizione delle **variabili** del dataset final_db_processed.csv contenuto nella cartella dataset;  creare tabella con informazioni per tutti i composti e una relativa ai test fatti (simil final_db_processed)\n",
    "\n",
    "3) Matrici di distanza tenere traccia dei composti a cui si riferiscono: per Hamming ho capito ed è dovuto semplicemente al fatto che si prendono solo i composti di cui si ha il pubchem2d; per Tanimoto bisogna andare a vedere i composti che non danno il FingerprintMol **FATTO**\n",
    "\n",
    "4) clustering (vedere pubchem2d analisi)\n",
    "\n",
    "5) Verificare che le specie animali costituiscano un albero filogenetico (script Species Analysis) **FATTO** (vedere script Species analysis)\n",
    "\n",
    "6) Aggiungere il conteggio dei gruppi OH a *final_db_processed*"
   ]
  },
  {
   "cell_type": "code",
   "execution_count": null,
   "metadata": {},
   "outputs": [],
   "source": []
  }
 ],
 "metadata": {
  "kernelspec": {
   "display_name": "Python 3",
   "language": "python",
   "name": "python3"
  },
  "language_info": {
   "codemirror_mode": {
    "name": "ipython",
    "version": 3
   },
   "file_extension": ".py",
   "mimetype": "text/x-python",
   "name": "python",
   "nbconvert_exporter": "python",
   "pygments_lexer": "ipython3",
   "version": "3.7.7"
  }
 },
 "nbformat": 4,
 "nbformat_minor": 4
}
