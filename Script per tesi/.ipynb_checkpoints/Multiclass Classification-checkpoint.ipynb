{
 "cells": [
  {
   "cell_type": "code",
   "execution_count": 6,
   "metadata": {},
   "outputs": [
    {
     "name": "stdout",
     "output_type": "stream",
     "text": [
      "Checking whether there is an H2O instance running at http://localhost:54321 ..... not found.\n",
      "Attempting to start a local H2O server...\n",
      "; Java HotSpot(TM) 64-Bit Server VM (build 25.231-b11, mixed mode)\n",
      "  Starting server from C:\\Users\\Simone\\Anaconda3\\lib\\site-packages\\h2o\\backend\\bin\\h2o.jar\n",
      "  Ice root: C:\\Users\\Simone\\AppData\\Local\\Temp\\tmpo7jx496o\n",
      "  JVM stdout: C:\\Users\\Simone\\AppData\\Local\\Temp\\tmpo7jx496o\\h2o_Simone_started_from_python.out\n",
      "  JVM stderr: C:\\Users\\Simone\\AppData\\Local\\Temp\\tmpo7jx496o\\h2o_Simone_started_from_python.err\n",
      "  Server is running at http://127.0.0.1:54321\n",
      "Connecting to H2O server at http://127.0.0.1:54321 ... successful.\n"
     ]
    },
    {
     "data": {
      "text/html": [
       "<div style=\"overflow:auto\"><table style=\"width:50%\"><tr><td>H2O_cluster_uptime:</td>\n",
       "<td>02 secs</td></tr>\n",
       "<tr><td>H2O_cluster_timezone:</td>\n",
       "<td>Europe/Berlin</td></tr>\n",
       "<tr><td>H2O_data_parsing_timezone:</td>\n",
       "<td>UTC</td></tr>\n",
       "<tr><td>H2O_cluster_version:</td>\n",
       "<td>3.30.0.5</td></tr>\n",
       "<tr><td>H2O_cluster_version_age:</td>\n",
       "<td>23 days </td></tr>\n",
       "<tr><td>H2O_cluster_name:</td>\n",
       "<td>H2O_from_python_Simone_bx7s26</td></tr>\n",
       "<tr><td>H2O_cluster_total_nodes:</td>\n",
       "<td>1</td></tr>\n",
       "<tr><td>H2O_cluster_free_memory:</td>\n",
       "<td>2.643 Gb</td></tr>\n",
       "<tr><td>H2O_cluster_total_cores:</td>\n",
       "<td>4</td></tr>\n",
       "<tr><td>H2O_cluster_allowed_cores:</td>\n",
       "<td>4</td></tr>\n",
       "<tr><td>H2O_cluster_status:</td>\n",
       "<td>accepting new members, healthy</td></tr>\n",
       "<tr><td>H2O_connection_url:</td>\n",
       "<td>http://127.0.0.1:54321</td></tr>\n",
       "<tr><td>H2O_connection_proxy:</td>\n",
       "<td>{\"http\": null, \"https\": null}</td></tr>\n",
       "<tr><td>H2O_internal_security:</td>\n",
       "<td>False</td></tr>\n",
       "<tr><td>H2O_API_Extensions:</td>\n",
       "<td>Amazon S3, Algos, AutoML, Core V3, TargetEncoder, Core V4</td></tr>\n",
       "<tr><td>Python_version:</td>\n",
       "<td>3.7.7 final</td></tr></table></div>"
      ],
      "text/plain": [
       "--------------------------  ---------------------------------------------------------\n",
       "H2O_cluster_uptime:         02 secs\n",
       "H2O_cluster_timezone:       Europe/Berlin\n",
       "H2O_data_parsing_timezone:  UTC\n",
       "H2O_cluster_version:        3.30.0.5\n",
       "H2O_cluster_version_age:    23 days\n",
       "H2O_cluster_name:           H2O_from_python_Simone_bx7s26\n",
       "H2O_cluster_total_nodes:    1\n",
       "H2O_cluster_free_memory:    2.643 Gb\n",
       "H2O_cluster_total_cores:    4\n",
       "H2O_cluster_allowed_cores:  4\n",
       "H2O_cluster_status:         accepting new members, healthy\n",
       "H2O_connection_url:         http://127.0.0.1:54321\n",
       "H2O_connection_proxy:       {\"http\": null, \"https\": null}\n",
       "H2O_internal_security:      False\n",
       "H2O_API_Extensions:         Amazon S3, Algos, AutoML, Core V3, TargetEncoder, Core V4\n",
       "Python_version:             3.7.7 final\n",
       "--------------------------  ---------------------------------------------------------"
      ]
     },
     "metadata": {},
     "output_type": "display_data"
    }
   ],
   "source": [
    "import h2o\n",
    "h2o.init()"
   ]
  },
  {
   "cell_type": "code",
   "execution_count": 7,
   "metadata": {},
   "outputs": [],
   "source": [
    "import pandas as pd\n",
    "import numpy as np\n",
    "import matplotlib.pyplot as plt\n",
    "from h2o.estimators import H2ORandomForestEstimator\n",
    "from h2o.grid.grid_search import H2OGridSearch\n",
    "\n",
    "db = pd.read_csv('dataset/db_modelli.csv').drop(columns='Unnamed: 0')\n",
    "\n",
    "t = db['conc1_mean'].copy()\n",
    "\n",
    "def multiclass(var):\n",
    "    for i in range(0,len(var)):\n",
    "        if var[i] <= 10**-1:\n",
    "            var[i] = 5\n",
    "        \n",
    "        elif 10**-1 < var[i] <= 10**0:\n",
    "            var[i] = 4\n",
    "        \n",
    "        elif 10**0 < var[i] <= 10**1:\n",
    "            var[i] = 3\n",
    "            \n",
    "        elif 10**1 < var[i] <= 10**2:\n",
    "            var[i] = 2\n",
    "            \n",
    "        else:\n",
    "            var[i] = 1\n",
    "    return pd.to_numeric(var, downcast = 'integer')\n",
    "            \n",
    "tm = multiclass(t)\n",
    "db['conc1_mean'] = tm"
   ]
  },
  {
   "cell_type": "code",
   "execution_count": 3,
   "metadata": {
    "scrolled": true
   },
   "outputs": [
    {
     "data": {
      "text/plain": [
       "<matplotlib.axes._subplots.AxesSubplot at 0x166469c4d88>"
      ]
     },
     "execution_count": 3,
     "metadata": {},
     "output_type": "execute_result"
    },
    {
     "data": {
      "image/png": "[encoded data removed]",
      "text/plain": [
       "<Figure size 432x288 with 1 Axes>"
      ]
     },
     "metadata": {
      "needs_background": "light"
     },
     "output_type": "display_data"
    }
   ],
   "source": [
    "tm.value_counts().plot(kind='bar', log = True)"
   ]
  },
  {
   "cell_type": "markdown",
   "metadata": {},
   "source": [
    "Le classi sono bilanciate\n",
    "\n",
    "# Random Forest -- Multiclass"
   ]
  },
  {
   "cell_type": "code",
   "execution_count": 8,
   "metadata": {},
   "outputs": [
    {
     "name": "stdout",
     "output_type": "stream",
     "text": [
      "Parse progress: |█████████████████████████████████████████████████████████| 100%\n"
     ]
    }
   ],
   "source": [
    "target = 'conc1_mean'\n",
    "predictors = db.columns.to_list()\n",
    "predictors.remove(target)\n",
    "predictors.remove('test_cas')\n",
    "\n",
    "# categorical to factors\n",
    "db_h = h2o.H2OFrame(db)\n",
    "# occorre\n",
    "for i in db.columns:\n",
    "    if db[i].dtypes != 'float64':\n",
    "        db_h[i] = db_h[i].asfactor()\n",
    "\n",
    "db_h['conc1_mean'] = db_h['conc1_mean'].asfactor()"
   ]
  },
  {
   "cell_type": "markdown",
   "metadata": {},
   "source": [
    "# Non toccare"
   ]
  },
  {
   "cell_type": "code",
   "execution_count": 5,
   "metadata": {},
   "outputs": [
    {
     "name": "stdout",
     "output_type": "stream",
     "text": [
      "drf Model Build progress: |███████████████████████████████████████████████| 100%\n"
     ]
    }
   ],
   "source": [
    "from h2o.estimators import H2ORandomForestEstimator\n",
    "\n",
    "train, test = db_h.split_frame(ratios = [0.7])\n",
    "\n",
    "drf = H2ORandomForestEstimator(ntrees = 1000, \n",
    "                               nfolds = 3, seed = 123, categorical_encoding = 'one_hot_explicit',\n",
    "                               binomial_double_trees = True)\n",
    "\n",
    "drf.train(x = predictors, y = target, training_frame = train)"
   ]
  },
  {
   "cell_type": "code",
   "execution_count": 9,
   "metadata": {
    "collapsed": true
   },
   "outputs": [
    {
     "name": "stdout",
     "output_type": "stream",
     "text": [
      "\n",
      "ModelMetricsMultinomial: drf\n",
      "** Reported on test data. **\n",
      "\n",
      "MSE: 0.41415640646121715\n",
      "RMSE: 0.6435498476895299\n",
      "LogLoss: 1.0776876882034199\n",
      "Mean Per-Class Error: 0.3813871695256268\n",
      "\n",
      "Confusion Matrix: Row labels: Actual class; Column labels: Predicted class\n"
     ]
    },
    {
     "data": {
      "text/html": [
       "<div>\n",
       "<style scoped>\n",
       "    .dataframe tbody tr th:only-of-type {\n",
       "        vertical-align: middle;\n",
       "    }\n",
       "\n",
       "    .dataframe tbody tr th {\n",
       "        vertical-align: top;\n",
       "    }\n",
       "\n",
       "    .dataframe thead th {\n",
       "        text-align: right;\n",
       "    }\n",
       "</style>\n",
       "<table border=\"1\" class=\"dataframe\">\n",
       "  <thead>\n",
       "    <tr style=\"text-align: right;\">\n",
       "      <th></th>\n",
       "      <th>1</th>\n",
       "      <th>2</th>\n",
       "      <th>3</th>\n",
       "      <th>4</th>\n",
       "      <th>5</th>\n",
       "      <th>Error</th>\n",
       "      <th>Rate</th>\n",
       "    </tr>\n",
       "  </thead>\n",
       "  <tbody>\n",
       "    <tr>\n",
       "      <th>0</th>\n",
       "      <td>650.0</td>\n",
       "      <td>207.0</td>\n",
       "      <td>93.0</td>\n",
       "      <td>21.0</td>\n",
       "      <td>16.0</td>\n",
       "      <td>0.341439</td>\n",
       "      <td>337 / 987</td>\n",
       "    </tr>\n",
       "    <tr>\n",
       "      <th>1</th>\n",
       "      <td>136.0</td>\n",
       "      <td>1021.0</td>\n",
       "      <td>395.0</td>\n",
       "      <td>40.0</td>\n",
       "      <td>52.0</td>\n",
       "      <td>0.378954</td>\n",
       "      <td>623 / 1.644</td>\n",
       "    </tr>\n",
       "    <tr>\n",
       "      <th>2</th>\n",
       "      <td>62.0</td>\n",
       "      <td>317.0</td>\n",
       "      <td>1164.0</td>\n",
       "      <td>120.0</td>\n",
       "      <td>93.0</td>\n",
       "      <td>0.337130</td>\n",
       "      <td>592 / 1.756</td>\n",
       "    </tr>\n",
       "    <tr>\n",
       "      <th>3</th>\n",
       "      <td>40.0</td>\n",
       "      <td>99.0</td>\n",
       "      <td>424.0</td>\n",
       "      <td>538.0</td>\n",
       "      <td>198.0</td>\n",
       "      <td>0.585835</td>\n",
       "      <td>761 / 1.299</td>\n",
       "    </tr>\n",
       "    <tr>\n",
       "      <th>4</th>\n",
       "      <td>21.0</td>\n",
       "      <td>46.0</td>\n",
       "      <td>133.0</td>\n",
       "      <td>130.0</td>\n",
       "      <td>922.0</td>\n",
       "      <td>0.263578</td>\n",
       "      <td>330 / 1.252</td>\n",
       "    </tr>\n",
       "    <tr>\n",
       "      <th>5</th>\n",
       "      <td>909.0</td>\n",
       "      <td>1690.0</td>\n",
       "      <td>2209.0</td>\n",
       "      <td>849.0</td>\n",
       "      <td>1281.0</td>\n",
       "      <td>0.380946</td>\n",
       "      <td>2.643 / 6.938</td>\n",
       "    </tr>\n",
       "  </tbody>\n",
       "</table>\n",
       "</div>"
      ],
      "text/plain": [
       "       1       2       3      4       5     Error           Rate\n",
       "0  650.0   207.0    93.0   21.0    16.0  0.341439      337 / 987\n",
       "1  136.0  1021.0   395.0   40.0    52.0  0.378954    623 / 1.644\n",
       "2   62.0   317.0  1164.0  120.0    93.0  0.337130    592 / 1.756\n",
       "3   40.0    99.0   424.0  538.0   198.0  0.585835    761 / 1.299\n",
       "4   21.0    46.0   133.0  130.0   922.0  0.263578    330 / 1.252\n",
       "5  909.0  1690.0  2209.0  849.0  1281.0  0.380946  2.643 / 6.938"
      ]
     },
     "metadata": {},
     "output_type": "display_data"
    },
    {
     "name": "stdout",
     "output_type": "stream",
     "text": [
      "\n",
      "Top-5 Hit Ratios: \n"
     ]
    },
    {
     "data": {
      "text/html": [
       "<div>\n",
       "<style scoped>\n",
       "    .dataframe tbody tr th:only-of-type {\n",
       "        vertical-align: middle;\n",
       "    }\n",
       "\n",
       "    .dataframe tbody tr th {\n",
       "        vertical-align: top;\n",
       "    }\n",
       "\n",
       "    .dataframe thead th {\n",
       "        text-align: right;\n",
       "    }\n",
       "</style>\n",
       "<table border=\"1\" class=\"dataframe\">\n",
       "  <thead>\n",
       "    <tr style=\"text-align: right;\">\n",
       "      <th></th>\n",
       "      <th>k</th>\n",
       "      <th>hit_ratio</th>\n",
       "    </tr>\n",
       "  </thead>\n",
       "  <tbody>\n",
       "    <tr>\n",
       "      <th>0</th>\n",
       "      <td>1</td>\n",
       "      <td>0.619054</td>\n",
       "    </tr>\n",
       "    <tr>\n",
       "      <th>1</th>\n",
       "      <td>2</td>\n",
       "      <td>0.837994</td>\n",
       "    </tr>\n",
       "    <tr>\n",
       "      <th>2</th>\n",
       "      <td>3</td>\n",
       "      <td>0.933122</td>\n",
       "    </tr>\n",
       "    <tr>\n",
       "      <th>3</th>\n",
       "      <td>4</td>\n",
       "      <td>0.982992</td>\n",
       "    </tr>\n",
       "    <tr>\n",
       "      <th>4</th>\n",
       "      <td>5</td>\n",
       "      <td>1.000000</td>\n",
       "    </tr>\n",
       "  </tbody>\n",
       "</table>\n",
       "</div>"
      ],
      "text/plain": [
       "   k  hit_ratio\n",
       "0  1   0.619054\n",
       "1  2   0.837994\n",
       "2  3   0.933122\n",
       "3  4   0.982992\n",
       "4  5   1.000000"
      ]
     },
     "metadata": {},
     "output_type": "display_data"
    },
    {
     "data": {
      "text/plain": []
     },
     "execution_count": 9,
     "metadata": {},
     "output_type": "execute_result"
    }
   ],
   "source": [
    "# \n",
    "perf = drf.model_performance(test_data = test)\n",
    "perf"
   ]
  },
  {
   "cell_type": "code",
   "execution_count": 43,
   "metadata": {
    "collapsed": true
   },
   "outputs": [
    {
     "name": "stdout",
     "output_type": "stream",
     "text": [
      "\n",
      "ModelMetricsMultinomial: drf\n",
      "** Reported on test data. **\n",
      "\n",
      "MSE: 0.4421077418882776\n",
      "RMSE: 0.6649118301611707\n",
      "LogLoss: 1.1948819374910664\n",
      "Mean Per-Class Error: 0.4439865131756517\n",
      "\n",
      "Confusion Matrix: Row labels: Actual class; Column labels: Predicted class\n"
     ]
    },
    {
     "data": {
      "text/html": [
       "<div>\n",
       "<style scoped>\n",
       "    .dataframe tbody tr th:only-of-type {\n",
       "        vertical-align: middle;\n",
       "    }\n",
       "\n",
       "    .dataframe tbody tr th {\n",
       "        vertical-align: top;\n",
       "    }\n",
       "\n",
       "    .dataframe thead th {\n",
       "        text-align: right;\n",
       "    }\n",
       "</style>\n",
       "<table border=\"1\" class=\"dataframe\">\n",
       "  <thead>\n",
       "    <tr style=\"text-align: right;\">\n",
       "      <th></th>\n",
       "      <th>1</th>\n",
       "      <th>2</th>\n",
       "      <th>3</th>\n",
       "      <th>4</th>\n",
       "      <th>5</th>\n",
       "      <th>Error</th>\n",
       "      <th>Rate</th>\n",
       "    </tr>\n",
       "  </thead>\n",
       "  <tbody>\n",
       "    <tr>\n",
       "      <th>0</th>\n",
       "      <td>589.0</td>\n",
       "      <td>340.0</td>\n",
       "      <td>44.0</td>\n",
       "      <td>60.0</td>\n",
       "      <td>16.0</td>\n",
       "      <td>0.438513</td>\n",
       "      <td>460 / 1.049</td>\n",
       "    </tr>\n",
       "    <tr>\n",
       "      <th>1</th>\n",
       "      <td>168.0</td>\n",
       "      <td>1030.0</td>\n",
       "      <td>234.0</td>\n",
       "      <td>182.0</td>\n",
       "      <td>45.0</td>\n",
       "      <td>0.379144</td>\n",
       "      <td>629 / 1.659</td>\n",
       "    </tr>\n",
       "    <tr>\n",
       "      <th>2</th>\n",
       "      <td>67.0</td>\n",
       "      <td>468.0</td>\n",
       "      <td>636.0</td>\n",
       "      <td>522.0</td>\n",
       "      <td>101.0</td>\n",
       "      <td>0.645485</td>\n",
       "      <td>1.158 / 1.794</td>\n",
       "    </tr>\n",
       "    <tr>\n",
       "      <th>3</th>\n",
       "      <td>23.0</td>\n",
       "      <td>173.0</td>\n",
       "      <td>140.0</td>\n",
       "      <td>700.0</td>\n",
       "      <td>215.0</td>\n",
       "      <td>0.440448</td>\n",
       "      <td>551 / 1.251</td>\n",
       "    </tr>\n",
       "    <tr>\n",
       "      <th>4</th>\n",
       "      <td>2.0</td>\n",
       "      <td>82.0</td>\n",
       "      <td>37.0</td>\n",
       "      <td>270.0</td>\n",
       "      <td>845.0</td>\n",
       "      <td>0.316343</td>\n",
       "      <td>391 / 1.236</td>\n",
       "    </tr>\n",
       "    <tr>\n",
       "      <th>5</th>\n",
       "      <td>849.0</td>\n",
       "      <td>2093.0</td>\n",
       "      <td>1091.0</td>\n",
       "      <td>1734.0</td>\n",
       "      <td>1222.0</td>\n",
       "      <td>0.456288</td>\n",
       "      <td>3.189 / 6.989</td>\n",
       "    </tr>\n",
       "  </tbody>\n",
       "</table>\n",
       "</div>"
      ],
      "text/plain": [
       "       1       2       3       4       5     Error           Rate\n",
       "0  589.0   340.0    44.0    60.0    16.0  0.438513    460 / 1.049\n",
       "1  168.0  1030.0   234.0   182.0    45.0  0.379144    629 / 1.659\n",
       "2   67.0   468.0   636.0   522.0   101.0  0.645485  1.158 / 1.794\n",
       "3   23.0   173.0   140.0   700.0   215.0  0.440448    551 / 1.251\n",
       "4    2.0    82.0    37.0   270.0   845.0  0.316343    391 / 1.236\n",
       "5  849.0  2093.0  1091.0  1734.0  1222.0  0.456288  3.189 / 6.989"
      ]
     },
     "metadata": {},
     "output_type": "display_data"
    },
    {
     "name": "stdout",
     "output_type": "stream",
     "text": [
      "\n",
      "Top-5 Hit Ratios: \n"
     ]
    },
    {
     "data": {
      "text/html": [
       "<div>\n",
       "<style scoped>\n",
       "    .dataframe tbody tr th:only-of-type {\n",
       "        vertical-align: middle;\n",
       "    }\n",
       "\n",
       "    .dataframe tbody tr th {\n",
       "        vertical-align: top;\n",
       "    }\n",
       "\n",
       "    .dataframe thead th {\n",
       "        text-align: right;\n",
       "    }\n",
       "</style>\n",
       "<table border=\"1\" class=\"dataframe\">\n",
       "  <thead>\n",
       "    <tr style=\"text-align: right;\">\n",
       "      <th></th>\n",
       "      <th>k</th>\n",
       "      <th>hit_ratio</th>\n",
       "    </tr>\n",
       "  </thead>\n",
       "  <tbody>\n",
       "    <tr>\n",
       "      <th>0</th>\n",
       "      <td>1</td>\n",
       "      <td>0.543712</td>\n",
       "    </tr>\n",
       "    <tr>\n",
       "      <th>1</th>\n",
       "      <td>2</td>\n",
       "      <td>0.789670</td>\n",
       "    </tr>\n",
       "    <tr>\n",
       "      <th>2</th>\n",
       "      <td>3</td>\n",
       "      <td>0.906854</td>\n",
       "    </tr>\n",
       "    <tr>\n",
       "      <th>3</th>\n",
       "      <td>4</td>\n",
       "      <td>0.966662</td>\n",
       "    </tr>\n",
       "    <tr>\n",
       "      <th>4</th>\n",
       "      <td>5</td>\n",
       "      <td>1.000000</td>\n",
       "    </tr>\n",
       "  </tbody>\n",
       "</table>\n",
       "</div>"
      ],
      "text/plain": [
       "   k  hit_ratio\n",
       "0  1   0.543712\n",
       "1  2   0.789670\n",
       "2  3   0.906854\n",
       "3  4   0.966662\n",
       "4  5   1.000000"
      ]
     },
     "metadata": {},
     "output_type": "display_data"
    },
    {
     "data": {
      "text/plain": []
     },
     "execution_count": 43,
     "metadata": {},
     "output_type": "execute_result"
    }
   ],
   "source": [
    "# precedente... non so quale combinazione di parametri ho usato...\n",
    "drf.model_performance(test_data = test)"
   ]
  },
  {
   "cell_type": "markdown",
   "metadata": {},
   "source": [
    "# Grid -- max_depth"
   ]
  },
  {
   "cell_type": "code",
   "execution_count": 9,
   "metadata": {},
   "outputs": [],
   "source": [
    "# splitting\n",
    "train, test = db_h.split_frame(ratios = [0.7])\n",
    "\n",
    "\n",
    "# dizionario dei parametri per il grid-search\n",
    "hyper_params = {'max_depth': [int(i) for i in np.linspace(5,50,16)]}\n",
    "\n",
    "# Random Forest\n",
    "drf_grid = H2ORandomForestEstimator(\n",
    "    \n",
    "        max_runtime_secs = 3600, # 1 hour\n",
    "        seed = 123,\n",
    "        nfolds = 3,     \n",
    "        \n",
    "        ## early stopping once the validation AUC doesn't improve by at least 0.01% for \n",
    "        #5 consecutive scoring events\n",
    "        stopping_rounds = 5,\n",
    "        stopping_metric = \"rmse\",\n",
    "        stopping_tolerance = 1e-4,\n",
    "        ## don't change it... we'll try later which encoding takes more advantages to our models.\n",
    "        categorical_encoding = 'eigen')\n",
    "\n",
    "# grid search\n",
    "grid = H2OGridSearch(drf_grid,\n",
    "                     hyper_params,\n",
    "                     grid_id = 'depth_grid_multiclass',\n",
    "                     search_criteria = {'strategy': \"Cartesian\"})"
   ]
  },
  {
   "cell_type": "code",
   "execution_count": 10,
   "metadata": {
    "scrolled": false
   },
   "outputs": [
    {
     "name": "stdout",
     "output_type": "stream",
     "text": [
      "drf Grid Build progress: |████████████████████████████████████████████████| 100%\n",
      "     max_depth                       model_ids             logloss\n",
      "0           14   depth_grid_multiclass_model_4  0.8716930431670883\n",
      "1           17   depth_grid_multiclass_model_5   0.873717024592255\n",
      "2           20   depth_grid_multiclass_model_6  0.9361566538510303\n",
      "3           11   depth_grid_multiclass_model_3  0.9444335638319976\n",
      "4           23   depth_grid_multiclass_model_7   0.980994155016557\n",
      "5           26   depth_grid_multiclass_model_8  0.9993656988004639\n",
      "6           29   depth_grid_multiclass_model_9  1.0099419241368097\n",
      "7           32  depth_grid_multiclass_model_10  1.0122364794490992\n",
      "8           35  depth_grid_multiclass_model_11  1.0125632723389042\n",
      "9           38  depth_grid_multiclass_model_12  1.0127107683647718\n",
      "10          44  depth_grid_multiclass_model_14  1.0127339213151394\n",
      "11          41  depth_grid_multiclass_model_13  1.0127348926775805\n",
      "12          47  depth_grid_multiclass_model_15  1.0127351297155263\n",
      "13          50  depth_grid_multiclass_model_16  1.0127351297155263\n",
      "14           8   depth_grid_multiclass_model_2  1.0782097341629138\n",
      "15           5   depth_grid_multiclass_model_1  1.2272333694748983\n"
     ]
    },
    {
     "data": {
      "text/plain": []
     },
     "execution_count": 10,
     "metadata": {},
     "output_type": "execute_result"
    }
   ],
   "source": [
    "grid.train(x = predictors, y = target, training_frame = train)\n",
    "grid"
   ]
  },
  {
   "cell_type": "code",
   "execution_count": 12,
   "metadata": {},
   "outputs": [
    {
     "name": "stdout",
     "output_type": "stream",
     "text": [
      "     max_depth                       model_ids            accuracy\n",
      "0           20   depth_grid_multiclass_model_6  0.6927529093036143\n",
      "1           23   depth_grid_multiclass_model_7   0.691583030601564\n",
      "2           26   depth_grid_multiclass_model_8  0.6910288775321717\n",
      "3           29   depth_grid_multiclass_model_9  0.6900437165199187\n",
      "4           32  depth_grid_multiclass_model_10  0.6899821439566529\n",
      "5           35  depth_grid_multiclass_model_11   0.689612708577058\n",
      "6           38  depth_grid_multiclass_model_12   0.689612708577058\n",
      "7           41  depth_grid_multiclass_model_13   0.689612708577058\n",
      "8           44  depth_grid_multiclass_model_14   0.689612708577058\n",
      "9           47  depth_grid_multiclass_model_15   0.689612708577058\n",
      "10          50  depth_grid_multiclass_model_16   0.689612708577058\n",
      "11          17   depth_grid_multiclass_model_5  0.6894279908872607\n",
      "12          14   depth_grid_multiclass_model_4  0.6762514623483775\n",
      "13          11   depth_grid_multiclass_model_3  0.6435564312542331\n",
      "14           8   depth_grid_multiclass_model_2  0.5833384643802721\n",
      "15           5   depth_grid_multiclass_model_1  0.4997229234653039\n",
      "\n",
      "     max_depth                       model_ids                rmse\n",
      "0            5   depth_grid_multiclass_model_1  0.6843827299486108\n",
      "1            8   depth_grid_multiclass_model_2  0.6355829012606903\n",
      "2           11   depth_grid_multiclass_model_3  0.5851140532738549\n",
      "3           14   depth_grid_multiclass_model_4  0.5479935508378163\n",
      "4           17   depth_grid_multiclass_model_5  0.5286188872586152\n",
      "5           20   depth_grid_multiclass_model_6  0.5212141562392006\n",
      "6           23   depth_grid_multiclass_model_7  0.5191642442923161\n",
      "7           41  depth_grid_multiclass_model_13  0.5186977801875291\n",
      "8           47  depth_grid_multiclass_model_15  0.5186977517116563\n",
      "9           50  depth_grid_multiclass_model_16  0.5186977517116563\n",
      "10          44  depth_grid_multiclass_model_14   0.518697544430342\n",
      "11          38  depth_grid_multiclass_model_12  0.5186931852888811\n",
      "12          35  depth_grid_multiclass_model_11  0.5186889057346183\n",
      "13          32  depth_grid_multiclass_model_10  0.5186773435975479\n",
      "14          29   depth_grid_multiclass_model_9  0.5186768238645797\n",
      "15          26   depth_grid_multiclass_model_8  0.5186559752348335\n",
      "\n"
     ]
    }
   ],
   "source": [
    "print(grid.get_grid(sort_by = 'accuracy', decreasing = True))\n",
    "print(grid.get_grid(sort_by = 'rmse', decreasing = True))\n"
   ]
  },
  {
   "cell_type": "code",
   "execution_count": 98,
   "metadata": {},
   "outputs": [],
   "source": [
    "sorted_grid = grid.get_grid(sort_by='rmse',decreasing=True)\n",
    "md_lst = list()\n",
    "\n",
    "rmse_test_lst = list()\n",
    "rmse_tr_lst = list()\n",
    "\n",
    "mpce_test = list()\n",
    "mpce_train = list()\n",
    "\n",
    "ll_test = list()\n",
    "ll_train = list()\n",
    "\n",
    "for i in range(0,15):\n",
    "    model = h2o.get_model(sorted_grid.sorted_metric_table()['model_ids'][i])\n",
    "    performance_test_model = model.model_performance(test)\n",
    "    performance_train_model = model.model_performance()\n",
    "    \n",
    "    md_lst.append(model.actual_params['max_depth'])\n",
    "    \n",
    "    rmse_test_lst.append(performance_test_model.rmse())\n",
    "    rmse_tr_lst.append(performance_train_model.rmse())\n",
    "    \n",
    "    mpce_test.append(performance_test_model.mean_per_class_error())\n",
    "    mpce_train.append(performance_train_model.mean_per_class_error())\n",
    "    \n",
    "    ll_test.append(performance_test_model.logloss())\n",
    "    ll_train.append(performance_train_model.logloss())\n",
    "    \n",
    "tmp = pd.DataFrame({'depth':md_lst,\n",
    "              'logloss_train':ll_train,\n",
    "              'logloss_test':ll_test,\n",
    "              'mpce_train':mpce_train,\n",
    "              'mpce_test':mpce_test,\n",
    "              'rmse_train':rmse_tr_lst, \n",
    "              'rmse_test':rmse_test_lst}).sort_values('depth')\n",
    "\n",
    "plt.figure(figsize = [15,5])\n",
    "\n",
    "plt.subplot(1,3,1)\n",
    "plt.plot(tmp['depth'],tmp['rmse_train'])\n",
    "plt.plot(tmp['depth'],tmp['rmse_test'])\n",
    "plt.xlabel('Depth')\n",
    "plt.ylabel('RMSE')\n",
    "plt.title('RMSE: blue --> training, orange --> test')\n",
    "\n",
    "plt.subplot(1,3,2)\n",
    "plt.plot(tmp['depth'],tmp['mpce_train'])\n",
    "plt.plot(tmp['depth'],tmp['mpce_test'])\n",
    "plt.xlabel('Depth')\n",
    "plt.ylabel('MPCE')\n",
    "plt.title('MPCE: blue --> training, orange --> test')\n",
    "\n",
    "plt.subplot(1,3,3)\n",
    "plt.plot(tmp['depth'],tmp['logloss_train'])\n",
    "plt.plot(tmp['depth'],tmp['logloss_test'])\n",
    "plt.xlabel('Depth')\n",
    "plt.ylabel('LogLoss')\n",
    "plt.title('LogLoss: blue --> training, orange --> test')\n",
    "\n",
    "plt.savefig('MULTICLASS_logloss_rmse_mpce.png')\n",
    "# plt.show()"
   ]
  },
  {
   "cell_type": "markdown",
   "metadata": {},
   "source": [
    "Tra 10 e 20 è l'intervallo giusto in cui cercare"
   ]
  },
  {
   "cell_type": "markdown",
   "metadata": {},
   "source": [
    "# Mega Grid -- Multiclass Classification"
   ]
  },
  {
   "cell_type": "code",
   "execution_count": null,
   "metadata": {},
   "outputs": [],
   "source": []
  }
 ],
 "metadata": {
  "kernelspec": {
   "display_name": "Python 3",
   "language": "python",
   "name": "python3"
  },
  "language_info": {
   "codemirror_mode": {
    "name": "ipython",
    "version": 3
   },
   "file_extension": ".py",
   "mimetype": "text/x-python",
   "name": "python",
   "nbconvert_exporter": "python",
   "pygments_lexer": "ipython3",
   "version": "3.7.7"
  }
 },
 "nbformat": 4,
 "nbformat_minor": 4
}
