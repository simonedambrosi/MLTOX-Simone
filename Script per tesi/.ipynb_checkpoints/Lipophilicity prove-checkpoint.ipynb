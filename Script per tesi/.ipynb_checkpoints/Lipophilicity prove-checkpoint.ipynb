{
 "cells": [
  {
   "cell_type": "markdown",
   "metadata": {},
   "source": [
    "# Lipophilicity\n",
    "\n",
    "# Trovata la lipophilicity ma non inclusa perchè c'è già all'interno del dataset finale\n",
    "Proviamo a calcolare la ALogP di un chemicals tramite l'utilizzo del pacchetto **rdkit**. Nel modulo *Chem* ci sta una funzione *QED* che calcola la lipofilia. In particolare, calcola la Atom LogP ossia somma la lipofilia dei vari componenti del chemical... non so se è accettabile come feature..."
   ]
  },
  {
   "cell_type": "code",
   "execution_count": 8,
   "metadata": {
    "scrolled": true
   },
   "outputs": [
    {
     "data": {
      "text/html": [
       "<div>\n",
       "<style scoped>\n",
       "    .dataframe tbody tr th:only-of-type {\n",
       "        vertical-align: middle;\n",
       "    }\n",
       "\n",
       "    .dataframe tbody tr th {\n",
       "        vertical-align: top;\n",
       "    }\n",
       "\n",
       "    .dataframe thead th {\n",
       "        text-align: right;\n",
       "    }\n",
       "</style>\n",
       "<table border=\"1\" class=\"dataframe\">\n",
       "  <thead>\n",
       "    <tr style=\"text-align: right;\">\n",
       "      <th></th>\n",
       "      <th>cas</th>\n",
       "      <th>smiles</th>\n",
       "    </tr>\n",
       "  </thead>\n",
       "  <tbody>\n",
       "    <tr>\n",
       "      <td>0</td>\n",
       "      <td>10108-64-2</td>\n",
       "      <td>[Cl-].[Cl-].[Cd++]</td>\n",
       "    </tr>\n",
       "    <tr>\n",
       "      <td>1</td>\n",
       "      <td>88-30-2</td>\n",
       "      <td>Oc1ccc(c(c1)C(F)(F)F)[N+]([O-])=O</td>\n",
       "    </tr>\n",
       "    <tr>\n",
       "      <td>2</td>\n",
       "      <td>1397-94-0</td>\n",
       "      <td>CCCCCC[C@@H]1[C@@H](OC(=O)CC(C)C)[C@H](C)OC(=O...</td>\n",
       "    </tr>\n",
       "    <tr>\n",
       "      <td>3</td>\n",
       "      <td>25474-41-3</td>\n",
       "      <td>NaN</td>\n",
       "    </tr>\n",
       "    <tr>\n",
       "      <td>4</td>\n",
       "      <td>540-72-7</td>\n",
       "      <td>[Na+].[S-]C#N</td>\n",
       "    </tr>\n",
       "    <tr>\n",
       "      <td>...</td>\n",
       "      <td>...</td>\n",
       "      <td>...</td>\n",
       "    </tr>\n",
       "    <tr>\n",
       "      <td>3196</td>\n",
       "      <td>14008-58-3</td>\n",
       "      <td>CCCCNC(=O)NC(=O)c1cccnc1</td>\n",
       "    </tr>\n",
       "    <tr>\n",
       "      <td>3197</td>\n",
       "      <td>53762-97-3</td>\n",
       "      <td>NaN</td>\n",
       "    </tr>\n",
       "    <tr>\n",
       "      <td>3198</td>\n",
       "      <td>52316-55-9</td>\n",
       "      <td>COC(=O)Nc1[nH]c2ccccc2n1.O[P](O)(O)=O</td>\n",
       "    </tr>\n",
       "    <tr>\n",
       "      <td>3199</td>\n",
       "      <td>499-83-2</td>\n",
       "      <td>OC(=O)c1cccc(n1)C(O)=O</td>\n",
       "    </tr>\n",
       "    <tr>\n",
       "      <td>3200</td>\n",
       "      <td>68-11-1</td>\n",
       "      <td>OC(=O)CS</td>\n",
       "    </tr>\n",
       "  </tbody>\n",
       "</table>\n",
       "<p>3201 rows × 2 columns</p>\n",
       "</div>"
      ],
      "text/plain": [
       "             cas                                             smiles\n",
       "0     10108-64-2                                 [Cl-].[Cl-].[Cd++]\n",
       "1        88-30-2                  Oc1ccc(c(c1)C(F)(F)F)[N+]([O-])=O\n",
       "2      1397-94-0  CCCCCC[C@@H]1[C@@H](OC(=O)CC(C)C)[C@H](C)OC(=O...\n",
       "3     25474-41-3                                                NaN\n",
       "4       540-72-7                                      [Na+].[S-]C#N\n",
       "...          ...                                                ...\n",
       "3196  14008-58-3                           CCCCNC(=O)NC(=O)c1cccnc1\n",
       "3197  53762-97-3                                                NaN\n",
       "3198  52316-55-9              COC(=O)Nc1[nH]c2ccccc2n1.O[P](O)(O)=O\n",
       "3199    499-83-2                             OC(=O)c1cccc(n1)C(O)=O\n",
       "3200     68-11-1                                           OC(=O)CS\n",
       "\n",
       "[3201 rows x 2 columns]"
      ]
     },
     "execution_count": 8,
     "metadata": {},
     "output_type": "execute_result"
    }
   ],
   "source": [
    "import pandas as pd\n",
    "import numpy as np\n",
    "from rdkit.Chem.QED import properties\n",
    "from rdkit.Chem.rdmolfiles import MolFromSmiles\n",
    "\n",
    "cas_to_smiles = pd.read_csv('dataset/cas_to_smiles.csv').drop(columns = 'Unnamed: 0')\n",
    "cas_to_smiles"
   ]
  },
  {
   "cell_type": "markdown",
   "metadata": {},
   "source": [
    "Calcolo la Lipofilia per tutti i composti"
   ]
  },
  {
   "cell_type": "code",
   "execution_count": 27,
   "metadata": {
    "scrolled": true
   },
   "outputs": [
    {
     "data": {
      "text/plain": [
       "0    -5.9945\n",
       "0     2.3192\n",
       "0     3.4804\n",
       "0         NA\n",
       "0   -2.98162\n",
       "      ...   \n",
       "0     1.3211\n",
       "0         NA\n",
       "0     0.8126\n",
       "0      0.478\n",
       "0     0.0008\n",
       "Length: 3201, dtype: object"
      ]
     },
     "execution_count": 27,
     "metadata": {},
     "output_type": "execute_result"
    }
   ],
   "source": [
    "def AlogP(smiles):\n",
    "    try:\n",
    "        m = MolFromSmiles(smiles)\n",
    "        p = properties(m).ALOGP\n",
    "    except:\n",
    "        p = 'NA'\n",
    "    return p\n",
    "\n",
    "lipo = pd.Series()\n",
    "\n",
    "for m in cas_to_smiles['smiles']:\n",
    "    lipo = lipo.append(pd.Series(AlogP(m)))\n",
    "\n",
    "lipo"
   ]
  },
  {
   "cell_type": "markdown",
   "metadata": {},
   "source": [
    "Circa 500 hanno un valore nullo"
   ]
  },
  {
   "cell_type": "code",
   "execution_count": 28,
   "metadata": {},
   "outputs": [
    {
     "data": {
      "text/plain": [
       "504"
      ]
     },
     "execution_count": 28,
     "metadata": {},
     "output_type": "execute_result"
    }
   ],
   "source": [
    "sum(lipo == 'NA')"
   ]
  },
  {
   "cell_type": "code",
   "execution_count": 38,
   "metadata": {
    "scrolled": true
   },
   "outputs": [
    {
     "data": {
      "text/html": [
       "<div>\n",
       "<style scoped>\n",
       "    .dataframe tbody tr th:only-of-type {\n",
       "        vertical-align: middle;\n",
       "    }\n",
       "\n",
       "    .dataframe tbody tr th {\n",
       "        vertical-align: top;\n",
       "    }\n",
       "\n",
       "    .dataframe thead th {\n",
       "        text-align: right;\n",
       "    }\n",
       "</style>\n",
       "<table border=\"1\" class=\"dataframe\">\n",
       "  <thead>\n",
       "    <tr style=\"text-align: right;\">\n",
       "      <th></th>\n",
       "      <th>cas</th>\n",
       "      <th>AlogP</th>\n",
       "    </tr>\n",
       "  </thead>\n",
       "  <tbody>\n",
       "    <tr>\n",
       "      <td>0</td>\n",
       "      <td>10108-64-2</td>\n",
       "      <td>-5.9945</td>\n",
       "    </tr>\n",
       "    <tr>\n",
       "      <td>1</td>\n",
       "      <td>88-30-2</td>\n",
       "      <td>2.3192</td>\n",
       "    </tr>\n",
       "    <tr>\n",
       "      <td>2</td>\n",
       "      <td>1397-94-0</td>\n",
       "      <td>3.4804</td>\n",
       "    </tr>\n",
       "    <tr>\n",
       "      <td>3</td>\n",
       "      <td>25474-41-3</td>\n",
       "      <td>NA</td>\n",
       "    </tr>\n",
       "    <tr>\n",
       "      <td>4</td>\n",
       "      <td>540-72-7</td>\n",
       "      <td>-2.98162</td>\n",
       "    </tr>\n",
       "    <tr>\n",
       "      <td>...</td>\n",
       "      <td>...</td>\n",
       "      <td>...</td>\n",
       "    </tr>\n",
       "    <tr>\n",
       "      <td>3196</td>\n",
       "      <td>14008-58-3</td>\n",
       "      <td>1.3211</td>\n",
       "    </tr>\n",
       "    <tr>\n",
       "      <td>3197</td>\n",
       "      <td>53762-97-3</td>\n",
       "      <td>NA</td>\n",
       "    </tr>\n",
       "    <tr>\n",
       "      <td>3198</td>\n",
       "      <td>52316-55-9</td>\n",
       "      <td>0.8126</td>\n",
       "    </tr>\n",
       "    <tr>\n",
       "      <td>3199</td>\n",
       "      <td>499-83-2</td>\n",
       "      <td>0.478</td>\n",
       "    </tr>\n",
       "    <tr>\n",
       "      <td>3200</td>\n",
       "      <td>68-11-1</td>\n",
       "      <td>0.0008</td>\n",
       "    </tr>\n",
       "  </tbody>\n",
       "</table>\n",
       "<p>3201 rows × 2 columns</p>\n",
       "</div>"
      ],
      "text/plain": [
       "             cas    AlogP\n",
       "0     10108-64-2  -5.9945\n",
       "1        88-30-2   2.3192\n",
       "2      1397-94-0   3.4804\n",
       "3     25474-41-3       NA\n",
       "4       540-72-7 -2.98162\n",
       "...          ...      ...\n",
       "3196  14008-58-3   1.3211\n",
       "3197  53762-97-3       NA\n",
       "3198  52316-55-9   0.8126\n",
       "3199    499-83-2    0.478\n",
       "3200     68-11-1   0.0008\n",
       "\n",
       "[3201 rows x 2 columns]"
      ]
     },
     "execution_count": 38,
     "metadata": {},
     "output_type": "execute_result"
    }
   ],
   "source": [
    "lipo = lipo.reset_index().drop(columns = 'index')[0]\n",
    "\n",
    "cas = pd.DataFrame(cas_to_smiles['cas'])\n",
    "cas['AlogP'] = lipo\n",
    "cas_lipo = cas.copy()\n",
    "cas_lipo"
   ]
  },
  {
   "cell_type": "markdown",
   "metadata": {},
   "source": [
    "# DA FARE IL LOG-BINNING"
   ]
  },
  {
   "cell_type": "code",
   "execution_count": 72,
   "metadata": {
    "scrolled": true
   },
   "outputs": [
    {
     "data": {
      "text/plain": [
       "Text(0.5, 1.0, 'Lipophilicity')"
      ]
     },
     "execution_count": 72,
     "metadata": {},
     "output_type": "execute_result"
    },
    {
     "data": {
      "image/png": "[encoded data removed]",
      "text/plain": [
       "<Figure size 432x288 with 1 Axes>"
      ]
     },
     "metadata": {
      "needs_background": "light"
     },
     "output_type": "display_data"
    }
   ],
   "source": [
    "import matplotlib.pyplot as plt\n",
    "\n",
    "cas_lipo[cas_lipo['AlogP'] != 'NA']['AlogP'].hist(bins = 100, log = True)\n",
    "plt.title('Lipophilicity')"
   ]
  },
  {
   "cell_type": "markdown",
   "metadata": {},
   "source": [
    "Vediamo se mettendola dentro al dataset finale ci sono NA..."
   ]
  },
  {
   "cell_type": "code",
   "execution_count": 73,
   "metadata": {},
   "outputs": [],
   "source": [
    "final_db = pd.read_csv('dataset/final_db_processed.csv')\n",
    "use_db = final_db.copy()"
   ]
  },
  {
   "cell_type": "code",
   "execution_count": 76,
   "metadata": {},
   "outputs": [
    {
     "data": {
      "text/plain": [
       "0"
      ]
     },
     "execution_count": 76,
     "metadata": {},
     "output_type": "execute_result"
    }
   ],
   "source": [
    "temp = use_db.merge(cas_lipo, left_on = 'test_cas',right_on ='cas').drop(columns = 'cas')\n",
    "sum(temp['AlogP'] == 'NA')"
   ]
  },
  {
   "cell_type": "markdown",
   "metadata": {},
   "source": [
    "Non ci sono quindi posso procedere ad attaccare la variabile. In temp c'è la variabile 'AlogP' da preprocessare.\n",
    "\n",
    "# Deve essere ancora processata...\n",
    "Va bene così o bisogna trasformarla?"
   ]
  },
  {
   "cell_type": "code",
   "execution_count": 91,
   "metadata": {},
   "outputs": [
    {
     "data": {
      "text/plain": [
       "<matplotlib.axes._subplots.AxesSubplot at 0x20ae67219c8>"
      ]
     },
     "execution_count": 91,
     "metadata": {},
     "output_type": "execute_result"
    },
    {
     "data": {
      "image/png": "[encoded data removed]",
      "text/plain": [
       "<Figure size 432x288 with 1 Axes>"
      ]
     },
     "metadata": {
      "needs_background": "light"
     },
     "output_type": "display_data"
    }
   ],
   "source": [
    "temp.LogP.hist(bins=100, log =True)"
   ]
  },
  {
   "cell_type": "markdown",
   "metadata": {},
   "source": []
  }
 ],
 "metadata": {
  "kernelspec": {
   "display_name": "Python 3",
   "language": "python",
   "name": "python3"
  },
  "language_info": {
   "codemirror_mode": {
    "name": "ipython",
    "version": 3
   },
   "file_extension": ".py",
   "mimetype": "text/x-python",
   "name": "python",
   "nbconvert_exporter": "python",
   "pygments_lexer": "ipython3",
   "version": "3.7.4"
  }
 },
 "nbformat": 4,
 "nbformat_minor": 2
}
