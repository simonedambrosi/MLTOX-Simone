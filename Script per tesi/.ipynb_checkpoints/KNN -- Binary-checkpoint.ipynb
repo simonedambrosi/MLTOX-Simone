{
 "cells": [
  {
   "cell_type": "code",
   "execution_count": 1,
   "metadata": {},
   "outputs": [],
   "source": [
    "import pandas as pd\n",
    "import numpy as np\n",
    "from math import sqrt\n",
    "\n",
    "from sklearn.neighbors import KNeighborsClassifier\n",
    "from sklearn.preprocessing import OrdinalEncoder\n",
    "from sklearn.model_selection import train_test_split\n",
    "from sklearn.metrics import accuracy_score\n",
    "from sklearn.metrics import mean_squared_error\n",
    "\n",
    "from scipy.spatial.distance import pdist, squareform, hamming\n",
    "\n",
    "from rdkit.Chem import MolFromSmiles\n",
    "from rdkit import DataStructs\n",
    "from rdkit.Chem.Fingerprints import FingerprintMols\n",
    "from rdkit.DataManip.Metric.rdMetricMatrixCalc import GetTanimotoDistMat\n",
    "\n",
    "\n",
    "def distance_matrix1234(X, len_X_train, cat_features = [], num_features = [], alphas = [1,1,1,1]):\n",
    "    ''' inputs: matrix X [num_samples, num_features], \n",
    "                the list of the categorical features, \n",
    "                the list of the numerical features, \n",
    "                weights alphas: in position 0 there is the weight for Hamming for Categorical variable;\n",
    "                                in position 1 there is the weight for Euclidean for Interval variable;\n",
    "                                in position 2 there is the weight for Hamming for Pubchem2d;\n",
    "                                in position 3 there is the weight for Tanimoto for SMILES.\n",
    "                \n",
    "        output: distance matrix\n",
    "    '''\n",
    "    ##################################################################\n",
    "    ################ STAMPA DEI PESI #################################\n",
    "    ##################################################################\n",
    "    \n",
    "    # Training\n",
    "    X_cat = X[cat_features]\n",
    "    X_num = X[num_features]\n",
    "    \n",
    "    if alphas[0] != 0:\n",
    "        print('Inizio Hamming per variabili categoriche...')\n",
    "        dist_matr = alphas[0] * squareform(pdist(X_cat, metric = \"hamming\"))\n",
    "        \n",
    "    if alphas[1] != 0:\n",
    "        print('Fine Hamming per variabili categoriche... inizio Euclidean per variabili continue...')\n",
    "        dist_matr += alphas[1] * squareform(pdist(X_num, metric = \"euclidean\"))\n",
    "    \n",
    "    \n",
    "    \n",
    "    if (alphas[2] != 0) & (alphas[0] != 0):\n",
    "        print('Fine Euclidean per variabili continue... inizio Hamming su pubchem2d...')\n",
    "        a = np.array((X.pubchem2d[0].replace('', ' ').strip().split(' '),\n",
    "                  X.pubchem2d[1].replace('', ' ').strip().split(' ')))\n",
    "        for i in range(2,len(X.pubchem2d)):\n",
    "            a = np.concatenate((a,[X.pubchem2d[i].replace('', ' ').strip().split(' ')]))\n",
    "\n",
    "        dist_matr += alphas[2] * squareform(pdist(a, metric = 'hamming'))\n",
    "        \n",
    "    elif (alphas[2] != 0) & (alphas[0] == 0):\n",
    "        print('Inizio Hamming su pubchem2d... ')\n",
    "        a = np.array((X.pubchem2d[0].replace('', ' ').strip().split(' '),\n",
    "                  X.pubchem2d[1].replace('', ' ').strip().split(' ')))\n",
    "        for i in range(2,len(X.pubchem2d)):\n",
    "            a = np.concatenate((a,[X.pubchem2d[i].replace('', ' ').strip().split(' ')]))\n",
    "\n",
    "        dist_matr = alphas[2] * squareform(pdist(a, metric = 'hamming'))\n",
    "    \n",
    "    \n",
    "    \n",
    "    if (alphas[3] != 0) & (alphas[0] != 0):\n",
    "        print('Fine Hamming su pubchem2d ... inizio Tanimoto su SMILES...')\n",
    "        dist_matr += alphas[3]*squareform(GetTanimotoDistMat([FingerprintMols.FingerprintMol(MolFromSmiles(X.smiles[i]))\n",
    "                                                     for i in range(len(X.smiles))]))\n",
    "    \n",
    "    elif (alphas[3] != 0) & (alphas[0] == 0) & (alphas[2] != 0):\n",
    "        print('Fine Hamming su pubchem2d... inizio Tanimoto su SMILES')\n",
    "        dist_matr += alphas[3]*squareform(GetTanimotoDistMat([FingerprintMols.FingerprintMol(MolFromSmiles(X.smiles[i]))\n",
    "                                                     for i in range(len(X.smiles))]))\n",
    "    \n",
    "    elif (alphas[3] != 0) & (alphas[0] == 0) & (alphas[2] == 0):\n",
    "        print('Inizio Tanimoto su SMILES...')\n",
    "        dist_matr = alphas[3]*squareform(GetTanimotoDistMat([FingerprintMols.FingerprintMol(MolFromSmiles(X.smiles[i]))\n",
    "                                                     for i in range(len(X.smiles))]))\n",
    "    \n",
    "    \n",
    "    print('Fine')\n",
    "    \n",
    "    dist_matr_train = dist_matr[:len_X_train,:len_X_train]\n",
    "    dist_matr_test = dist_matr[len_X_train:,:len_X_train]\n",
    "\n",
    "    return dist_matr_train, dist_matr_test\n",
    "\n",
    "def import_data_encoded():\n",
    "    db = pd.read_csv('dataset/db_modelli_smiles_pubchem.csv').drop(columns = 'Unnamed: 0')\n",
    "    # codifica\n",
    "    db['conc1_mean'] = np.where(db['conc1_mean'].values > 1, 1, 0)\n",
    "\n",
    "    db = db.drop(columns = 'test_cas')\n",
    "    # print(db.info())\n",
    "\n",
    "    # Ordinal Encoding\n",
    "    encoder = OrdinalEncoder(dtype = int)\n",
    "\n",
    "    encoder.fit(db[['species', 'conc1_type', 'exposure_type', 'class', 'tax_order', 'family', 'genus']])\n",
    "\n",
    "    db[['species', 'conc1_type', 'exposure_type', 'class', 'tax_order', 'family', 'genus']] = encoder.transform(\n",
    "        db[['species', 'conc1_type', 'exposure_type', 'class', 'tax_order', 'family', 'genus']])+1\n",
    "    \n",
    "    # Divido il dataset completo tra dati e target\n",
    "    X = db.drop(columns = 'conc1_mean')\n",
    "    y = db['conc1_mean'].values\n",
    "\n",
    "    # splitting\n",
    "    X_train, X_test, y_train, y_test = train_test_split(X, y, test_size=0.33, random_state=42)\n",
    "\n",
    "    # ricongiungo train con test\n",
    "    X_try = X_train.append(X_test)\n",
    "\n",
    "    # tengo traccia della lunghezza del train set\n",
    "    len_X_train = len(X_train) \n",
    "\n",
    "    return X_try, X_train, X_test, y_train, y_test, len_X_train"
   ]
  },
  {
   "cell_type": "code",
   "execution_count": 2,
   "metadata": {},
   "outputs": [],
   "source": [
    "X_try, X_train, X_test, y_train, y_test, len_X_train = import_data_encoded()"
   ]
  },
  {
   "cell_type": "markdown",
   "metadata": {},
   "source": [
    "# KNN best (lavoro precedente)"
   ]
  },
  {
   "cell_type": "code",
   "execution_count": 3,
   "metadata": {},
   "outputs": [
    {
     "name": "stdout",
     "output_type": "stream",
     "text": [
      "Inizio Hamming per variabili categoriche...\n",
      "Fine Hamming per variabili categoriche... inizio Euclidean per variabili continue...\n",
      "Fine\n"
     ]
    }
   ],
   "source": [
    "categorical = ['ring_number', \"exposure_type\", \"conc1_type\",\"species\",'tripleBond', 'obs_duration_mean', 'doubleBond',\n",
    "    'alone_atom_number', 'class', 'tax_order', 'family', 'genus', 'oh_count']\n",
    "\n",
    "non_categorical =[ 'atom_number', 'bonds_number', 'Mol', 'MorganDensity', 'LogP']\n",
    "\n",
    "# alphas presi di default [1,1,1,1]\n",
    "X_train_new, X_test_new = distance_matrix1234(X_try, len_X_train, categorical,non_categorical,\n",
    "                                              alphas = [0.0016102620275609393, 1, 0, 0])"
   ]
  },
  {
   "cell_type": "code",
   "execution_count": 4,
   "metadata": {},
   "outputs": [
    {
     "name": "stdout",
     "output_type": "stream",
     "text": [
      "Model: KNeighborsClassifier(algorithm='auto', leaf_size=70, metric='precomputed',\n",
      "                     metric_params=None, n_jobs=None, n_neighbors=1, p=2,\n",
      "                     weights='uniform'), \n",
      " Accuracy: 0.9048980122125504,\n",
      " RMSE: 0.30838610180656595\n"
     ]
    }
   ],
   "source": [
    "neigh = KNeighborsClassifier(metric = 'precomputed', n_neighbors = 1, leaf_size = 70)\n",
    "neigh.fit(X_train_new, y_train.ravel())\n",
    "y_pred = neigh.predict(X_test_new)\n",
    "print('Model: {}, \\n Accuracy: {},\\n RMSE: {}'.format(neigh,\n",
    "                                                      accuracy_score(y_test, y_pred),\n",
    "                                                      sqrt(mean_squared_error(y_test, y_pred))))\n"
   ]
  },
  {
   "cell_type": "markdown",
   "metadata": {},
   "source": [
    "# KNN -- only Hamming pubchem2d"
   ]
  },
  {
   "cell_type": "code",
   "execution_count": 19,
   "metadata": {},
   "outputs": [
    {
     "name": "stdout",
     "output_type": "stream",
     "text": [
      "Inizio Hamming su pubchem2d... \n",
      "Fine\n"
     ]
    }
   ],
   "source": [
    "categorical = ['ring_number', \"exposure_type\", \"conc1_type\",\"species\",'tripleBond', 'obs_duration_mean', 'doubleBond',\n",
    "    'alone_atom_number', 'class', 'tax_order', 'family', 'genus', 'oh_count']\n",
    "\n",
    "non_categorical =[ 'atom_number', 'bonds_number', 'Mol', 'MorganDensity', 'LogP']\n",
    "\n",
    "X_train_new, X_test_new = distance_matrix1234(X_try, len_X_train, categorical,non_categorical,\n",
    "                                              alphas = [0, 0, 1, 0])"
   ]
  },
  {
   "cell_type": "code",
   "execution_count": 25,
   "metadata": {},
   "outputs": [
    {
     "name": "stdout",
     "output_type": "stream",
     "text": [
      "Model: KNeighborsClassifier(algorithm='auto', leaf_size=30, metric='precomputed',\n",
      "                     metric_params=None, n_jobs=None, n_neighbors=5, p=2,\n",
      "                     weights='uniform'), \n",
      " Accuracy: 0.5676237495127971,\n",
      " RMSE: 0.6575532301549456\n"
     ]
    }
   ],
   "source": [
    "neigh_3 = KNeighborsClassifier(metric = 'precomputed')\n",
    "neigh_3.fit(X_train_new, y_train.ravel())\n",
    "y_pred = neigh_3.predict(X_test_new)\n",
    "print('Model: {}, \\n Accuracy: {},\\n RMSE: {}'.format(neigh_3,\n",
    "                                                      accuracy_score(y_test, y_pred),\n",
    "                                                      sqrt(mean_squared_error(y_test, y_pred))))\n"
   ]
  },
  {
   "cell_type": "markdown",
   "metadata": {},
   "source": [
    "# KNN only Tanimoto SMILES"
   ]
  },
  {
   "cell_type": "code",
   "execution_count": 3,
   "metadata": {},
   "outputs": [
    {
     "name": "stdout",
     "output_type": "stream",
     "text": [
      "Inizio Tanimoto su SMILES...\n",
      "Fine\n"
     ]
    }
   ],
   "source": [
    "categorical = ['ring_number', \"exposure_type\", \"conc1_type\",\"species\",'tripleBond', 'obs_duration_mean', 'doubleBond',\n",
    "    'alone_atom_number', 'class', 'tax_order', 'family', 'genus', 'oh_count']\n",
    "\n",
    "non_categorical =[ 'atom_number', 'bonds_number', 'Mol', 'MorganDensity', 'LogP']\n",
    "\n",
    "X_train_new, X_test_new = distance_matrix1234(X_try, len_X_train, categorical,non_categorical,\n",
    "                                              alphas = [0, 0, 0, 1])"
   ]
  },
  {
   "cell_type": "code",
   "execution_count": 4,
   "metadata": {},
   "outputs": [
    {
     "name": "stdout",
     "output_type": "stream",
     "text": [
      "Model: KNeighborsClassifier(algorithm='auto', leaf_size=30, metric='precomputed',\n",
      "                     metric_params=None, n_jobs=None, n_neighbors=5, p=2,\n",
      "                     weights='uniform'), \n",
      " Accuracy: 0.5473561127712095,\n",
      " RMSE: 0.6727881443878083\n"
     ]
    }
   ],
   "source": [
    "neigh_4 = KNeighborsClassifier(metric = 'precomputed')\n",
    "neigh_4.fit(X_train_new, y_train.ravel())\n",
    "y_pred = neigh_4.predict(X_test_new)\n",
    "print('Model: {}, \\n Accuracy: {},\\n RMSE: {}'.format(neigh_4,\n",
    "                                                      accuracy_score(y_test, y_pred),\n",
    "                                                      sqrt(mean_squared_error(y_test, y_pred))))"
   ]
  },
  {
   "cell_type": "markdown",
   "metadata": {},
   "source": [
    "# Prova tenere tutte le matrici in memoria"
   ]
  },
  {
   "cell_type": "code",
   "execution_count": 4,
   "metadata": {},
   "outputs": [],
   "source": [
    "categorical = ['ring_number', \"exposure_type\", \"conc1_type\",\"species\",'tripleBond', 'obs_duration_mean', 'doubleBond',\n",
    "    'alone_atom_number', 'class', 'tax_order', 'family', 'genus', 'oh_count']\n",
    "X_cat = X_try[categorical]\n",
    "ham1 = squareform(pdist(X_cat, metric = \"hamming\"))\n",
    "\n",
    "del X_cat, categorical"
   ]
  },
  {
   "cell_type": "code",
   "execution_count": 7,
   "metadata": {},
   "outputs": [],
   "source": [
    "non_categorical =[ 'atom_number', 'bonds_number', 'Mol', 'MorganDensity', 'LogP']\n",
    "X_num = X_try[non_categorical]\n",
    "euc2 = squareform(pdist(X_num, metric = \"euclidean\"))\n",
    "\n",
    "del X_num, non_categorical"
   ]
  },
  {
   "cell_type": "code",
   "execution_count": 12,
   "metadata": {},
   "outputs": [],
   "source": [
    "a = np.array((X_try.pubchem2d[0].replace('', ' ').strip().split(' '),\n",
    "                  X_try.pubchem2d[1].replace('', ' ').strip().split(' ')))\n",
    "for i in range(2,len(X_try.pubchem2d)):\n",
    "    a = np.concatenate((a,[X_try.pubchem2d[i].replace('', ' ').strip().split(' ')]))\n",
    "\n",
    "ham3 = squareform(pdist(a, metric = 'hamming'))\n",
    "\n",
    "del a, i "
   ]
  },
  {
   "cell_type": "code",
   "execution_count": 18,
   "metadata": {},
   "outputs": [],
   "source": [
    "tan4 = squareform(GetTanimotoDistMat([FingerprintMols.FingerprintMol(MolFromSmiles(X_try.smiles[i]))\n",
    "                                                     for i in range(len(X_try.smiles))]))"
   ]
  },
  {
   "cell_type": "markdown",
   "metadata": {},
   "source": [
    "Ci stanno tutte e 4 in memoria ma sono molto dispendiose"
   ]
  },
  {
   "cell_type": "code",
   "execution_count": 26,
   "metadata": {},
   "outputs": [
    {
     "name": "stdout",
     "output_type": "stream",
     "text": [
      "(23322, 23322)\n",
      "(23322, 23322)\n",
      "(23322, 23322)\n",
      "(23322, 23322)\n"
     ]
    }
   ],
   "source": [
    "print(tan4.shape)\n",
    "print(ham3.shape)\n",
    "print(euc2.shape)\n",
    "print(ham1.shape)"
   ]
  },
  {
   "cell_type": "markdown",
   "metadata": {},
   "source": [
    "# KNN 1+2 con funzione mia"
   ]
  },
  {
   "cell_type": "code",
   "execution_count": 4,
   "metadata": {},
   "outputs": [],
   "source": [
    "from mem_distance_matrix import *\n",
    "\n",
    "categorical = ['ring_number', \"exposure_type\", \"conc1_type\",\"species\",'tripleBond', 'obs_duration_mean', 'doubleBond',\n",
    "    'alone_atom_number', 'class', 'tax_order', 'family', 'genus', 'oh_count']\n",
    "non_categorical =[ 'atom_number', 'bonds_number', 'Mol', 'MorganDensity', 'LogP']\n",
    "\n",
    "X_train_new, X_test_new = train_test_distances(X_try, len_X_train, categorical, non_categorical,\n",
    "                                               alphas = [0.0016102620275609393, 1, 0, 0], choice = [0,0])"
   ]
  },
  {
   "cell_type": "code",
   "execution_count": 6,
   "metadata": {},
   "outputs": [
    {
     "name": "stdout",
     "output_type": "stream",
     "text": [
      "Model: KNeighborsClassifier(algorithm='auto', leaf_size=70, metric='precomputed',\n",
      "                     metric_params=None, n_jobs=None, n_neighbors=1, p=2,\n",
      "                     weights='uniform'), \n",
      " Accuracy: 0.9048980122125504,\n",
      " RMSE: 0.30838610180656595\n"
     ]
    }
   ],
   "source": [
    "neigh = KNeighborsClassifier(metric = 'precomputed', n_neighbors = 1, leaf_size = 70)\n",
    "neigh.fit(X_train_new, y_train.ravel())\n",
    "y_pred = neigh.predict(X_test_new)\n",
    "print('Model: {}, \\n Accuracy: {},\\n RMSE: {}'.format(neigh,\n",
    "                                                      accuracy_score(y_test, y_pred),\n",
    "                                                      sqrt(mean_squared_error(y_test, y_pred))))"
   ]
  },
  {
   "cell_type": "markdown",
   "metadata": {},
   "source": [
    "# KNN 1+2+3"
   ]
  },
  {
   "cell_type": "code",
   "execution_count": 3,
   "metadata": {},
   "outputs": [
    {
     "name": "stdout",
     "output_type": "stream",
     "text": [
      "Start...\n",
      "You choose Hamming 1, Euclidean 2 and Hamming on pubchem2d 3...\n",
      "Start Hamming su categorical...\n",
      "Start Euclidean...\n",
      "Start Hamming su Pubchem2d...\n",
      "Combining...\n",
      "...FINISH\n"
     ]
    }
   ],
   "source": [
    "from mem_distance_matrix import *\n",
    "\n",
    "categorical = ['ring_number', \"exposure_type\", \"conc1_type\",\"species\",'tripleBond', 'obs_duration_mean', 'doubleBond',\n",
    "    'alone_atom_number', 'class', 'tax_order', 'family', 'genus', 'oh_count']\n",
    "non_categorical =[ 'atom_number', 'bonds_number', 'Mol', 'MorganDensity', 'LogP']\n",
    "\n",
    "X_train_new, X_test_new = train_test_distances(X_try, len_X_train, categorical, non_categorical,\n",
    "                                               alphas = [0.0016102620275609393, 1, 1, 0], choice = [1,0])"
   ]
  },
  {
   "cell_type": "code",
   "execution_count": 4,
   "metadata": {},
   "outputs": [
    {
     "name": "stdout",
     "output_type": "stream",
     "text": [
      "Model: KNeighborsClassifier(algorithm='auto', leaf_size=30, metric='precomputed',\n",
      "                     metric_params=None, n_jobs=None, n_neighbors=5, p=2,\n",
      "                     weights='uniform'), \n",
      " Accuracy: 0.8299337404183448,\n",
      " RMSE: 0.4123909062790488\n"
     ]
    }
   ],
   "source": [
    "neigh123 = KNeighborsClassifier(metric = 'precomputed')\n",
    "neigh123.fit(X_train_new, y_train.ravel())\n",
    "y_pred = neigh123.predict(X_test_new)\n",
    "print('Model: {}, \\n Accuracy: {},\\n RMSE: {}'.format(neigh123,\n",
    "                                                      accuracy_score(y_test, y_pred),\n",
    "                                                      sqrt(mean_squared_error(y_test, y_pred))))"
   ]
  },
  {
   "cell_type": "markdown",
   "metadata": {},
   "source": [
    "# KNN 1+2+4"
   ]
  },
  {
   "cell_type": "code",
   "execution_count": 3,
   "metadata": {},
   "outputs": [
    {
     "name": "stdout",
     "output_type": "stream",
     "text": [
      "Start...\n",
      "You choose Hamming 1, Euclidean 2, Tanimoto 4...\n",
      "Start Hamming su categorical...\n",
      "Start Euclidean...\n",
      "Start Tanimoto...\n",
      "Combining...\n",
      "...FINISH\n"
     ]
    }
   ],
   "source": [
    "from mem_distance_matrix import *\n",
    "\n",
    "categorical = ['ring_number', \"exposure_type\", \"conc1_type\",\"species\",'tripleBond', 'obs_duration_mean', 'doubleBond',\n",
    "    'alone_atom_number', 'class', 'tax_order', 'family', 'genus', 'oh_count']\n",
    "non_categorical =[ 'atom_number', 'bonds_number', 'Mol', 'MorganDensity', 'LogP']\n",
    "\n",
    "X_train_new, X_test_new = train_test_distances(X_try, len_X_train, categorical, non_categorical,\n",
    "                                               alphas = [0.0016102620275609393, 1, 0, 1], choice = [0,1])"
   ]
  },
  {
   "cell_type": "code",
   "execution_count": 4,
   "metadata": {},
   "outputs": [
    {
     "name": "stdout",
     "output_type": "stream",
     "text": [
      "Model: KNeighborsClassifier(algorithm='auto', leaf_size=30, metric='precomputed',\n",
      "                     metric_params=None, n_jobs=None, n_neighbors=5, p=2,\n",
      "                     weights='uniform'), \n",
      " Accuracy: 0.7305443679355593,\n",
      " RMSE: 0.5190911596862738\n"
     ]
    }
   ],
   "source": [
    "neigh124 = KNeighborsClassifier(metric = 'precomputed')\n",
    "neigh124.fit(X_train_new, y_train.ravel())\n",
    "y_pred = neigh124.predict(X_test_new)\n",
    "print('Model: {}, \\n Accuracy: {},\\n RMSE: {}'.format(neigh124,\n",
    "                                                      accuracy_score(y_test, y_pred),\n",
    "                                                      sqrt(mean_squared_error(y_test, y_pred))))"
   ]
  },
  {
   "cell_type": "code",
   "execution_count": null,
   "metadata": {},
   "outputs": [],
   "source": []
  }
 ],
 "metadata": {
  "kernelspec": {
   "display_name": "Python 3",
   "language": "python",
   "name": "python3"
  },
  "language_info": {
   "codemirror_mode": {
    "name": "ipython",
    "version": 3
   },
   "file_extension": ".py",
   "mimetype": "text/x-python",
   "name": "python",
   "nbconvert_exporter": "python",
   "pygments_lexer": "ipython3",
   "version": "3.7.7"
  }
 },
 "nbformat": 4,
 "nbformat_minor": 4
}
