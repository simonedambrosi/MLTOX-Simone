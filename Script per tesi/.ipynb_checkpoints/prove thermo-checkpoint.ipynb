{
 "cells": [
  {
   "cell_type": "markdown",
   "metadata": {},
   "source": [
    "Vediamo se il pacchetto 'thermo' può essere utile. \n",
    "\n",
    "Installato tramite pip con i comandi:\n",
    "\n",
    "> pip install thermo"
   ]
  },
  {
   "cell_type": "code",
   "execution_count": 4,
   "metadata": {},
   "outputs": [
    {
     "data": {
      "text/html": [
       "<div>\n",
       "<style scoped>\n",
       "    .dataframe tbody tr th:only-of-type {\n",
       "        vertical-align: middle;\n",
       "    }\n",
       "\n",
       "    .dataframe tbody tr th {\n",
       "        vertical-align: top;\n",
       "    }\n",
       "\n",
       "    .dataframe thead th {\n",
       "        text-align: right;\n",
       "    }\n",
       "</style>\n",
       "<table border=\"1\" class=\"dataframe\">\n",
       "  <thead>\n",
       "    <tr style=\"text-align: right;\">\n",
       "      <th></th>\n",
       "      <th>test_cas</th>\n",
       "      <th>species</th>\n",
       "      <th>conc1_type</th>\n",
       "      <th>exposure_type</th>\n",
       "      <th>obs_duration_mean</th>\n",
       "      <th>conc1_mean</th>\n",
       "      <th>atom_number</th>\n",
       "      <th>alone_atom_number</th>\n",
       "      <th>bonds_number</th>\n",
       "      <th>doubleBond</th>\n",
       "      <th>tripleBond</th>\n",
       "      <th>ring_number</th>\n",
       "      <th>Mol</th>\n",
       "      <th>MorganDensity</th>\n",
       "      <th>LogP</th>\n",
       "      <th>class</th>\n",
       "      <th>tax_order</th>\n",
       "      <th>family</th>\n",
       "      <th>genus</th>\n",
       "    </tr>\n",
       "  </thead>\n",
       "  <tbody>\n",
       "    <tr>\n",
       "      <td>0</td>\n",
       "      <td>100-00-5</td>\n",
       "      <td>rerio</td>\n",
       "      <td>F</td>\n",
       "      <td>F</td>\n",
       "      <td>48.0</td>\n",
       "      <td>15.0</td>\n",
       "      <td>0.317908</td>\n",
       "      <td>2</td>\n",
       "      <td>0.488106</td>\n",
       "      <td>1</td>\n",
       "      <td>0</td>\n",
       "      <td>1.0</td>\n",
       "      <td>0.535725</td>\n",
       "      <td>1.300</td>\n",
       "      <td>2.2482</td>\n",
       "      <td>Actinopterygii</td>\n",
       "      <td>Cypriniformes</td>\n",
       "      <td>Cyprinidae</td>\n",
       "      <td>Danio</td>\n",
       "    </tr>\n",
       "    <tr>\n",
       "      <td>1</td>\n",
       "      <td>100-00-5</td>\n",
       "      <td>rerio</td>\n",
       "      <td>F</td>\n",
       "      <td>F</td>\n",
       "      <td>96.0</td>\n",
       "      <td>15.0</td>\n",
       "      <td>0.317908</td>\n",
       "      <td>2</td>\n",
       "      <td>0.488106</td>\n",
       "      <td>1</td>\n",
       "      <td>0</td>\n",
       "      <td>1.0</td>\n",
       "      <td>0.535725</td>\n",
       "      <td>1.300</td>\n",
       "      <td>2.2482</td>\n",
       "      <td>Actinopterygii</td>\n",
       "      <td>Cypriniformes</td>\n",
       "      <td>Cyprinidae</td>\n",
       "      <td>Danio</td>\n",
       "    </tr>\n",
       "    <tr>\n",
       "      <td>2</td>\n",
       "      <td>100-01-6</td>\n",
       "      <td>rerio</td>\n",
       "      <td>F</td>\n",
       "      <td>S</td>\n",
       "      <td>96.0</td>\n",
       "      <td>87.6</td>\n",
       "      <td>0.317908</td>\n",
       "      <td>2</td>\n",
       "      <td>0.488106</td>\n",
       "      <td>1</td>\n",
       "      <td>0</td>\n",
       "      <td>1.0</td>\n",
       "      <td>0.510371</td>\n",
       "      <td>1.300</td>\n",
       "      <td>1.1770</td>\n",
       "      <td>Actinopterygii</td>\n",
       "      <td>Cypriniformes</td>\n",
       "      <td>Cyprinidae</td>\n",
       "      <td>Danio</td>\n",
       "    </tr>\n",
       "    <tr>\n",
       "      <td>3</td>\n",
       "      <td>100-02-7</td>\n",
       "      <td>rerio</td>\n",
       "      <td>F</td>\n",
       "      <td>AQUA</td>\n",
       "      <td>48.0</td>\n",
       "      <td>26.5</td>\n",
       "      <td>0.317908</td>\n",
       "      <td>2</td>\n",
       "      <td>0.488106</td>\n",
       "      <td>1</td>\n",
       "      <td>0</td>\n",
       "      <td>1.0</td>\n",
       "      <td>0.511738</td>\n",
       "      <td>1.300</td>\n",
       "      <td>1.3004</td>\n",
       "      <td>Actinopterygii</td>\n",
       "      <td>Cypriniformes</td>\n",
       "      <td>Cyprinidae</td>\n",
       "      <td>Danio</td>\n",
       "    </tr>\n",
       "    <tr>\n",
       "      <td>4</td>\n",
       "      <td>100-44-7</td>\n",
       "      <td>rerio</td>\n",
       "      <td>F</td>\n",
       "      <td>S</td>\n",
       "      <td>96.0</td>\n",
       "      <td>4.0</td>\n",
       "      <td>0.217006</td>\n",
       "      <td>0</td>\n",
       "      <td>0.447258</td>\n",
       "      <td>0</td>\n",
       "      <td>0</td>\n",
       "      <td>1.0</td>\n",
       "      <td>0.493578</td>\n",
       "      <td>1.125</td>\n",
       "      <td>2.4254</td>\n",
       "      <td>Actinopterygii</td>\n",
       "      <td>Cypriniformes</td>\n",
       "      <td>Cyprinidae</td>\n",
       "      <td>Danio</td>\n",
       "    </tr>\n",
       "  </tbody>\n",
       "</table>\n",
       "</div>"
      ],
      "text/plain": [
       "   test_cas species conc1_type exposure_type  obs_duration_mean  conc1_mean  \\\n",
       "0  100-00-5   rerio          F             F               48.0        15.0   \n",
       "1  100-00-5   rerio          F             F               96.0        15.0   \n",
       "2  100-01-6   rerio          F             S               96.0        87.6   \n",
       "3  100-02-7   rerio          F          AQUA               48.0        26.5   \n",
       "4  100-44-7   rerio          F             S               96.0         4.0   \n",
       "\n",
       "   atom_number  alone_atom_number  bonds_number  doubleBond  tripleBond  \\\n",
       "0     0.317908                  2      0.488106           1           0   \n",
       "1     0.317908                  2      0.488106           1           0   \n",
       "2     0.317908                  2      0.488106           1           0   \n",
       "3     0.317908                  2      0.488106           1           0   \n",
       "4     0.217006                  0      0.447258           0           0   \n",
       "\n",
       "   ring_number       Mol  MorganDensity    LogP           class  \\\n",
       "0          1.0  0.535725          1.300  2.2482  Actinopterygii   \n",
       "1          1.0  0.535725          1.300  2.2482  Actinopterygii   \n",
       "2          1.0  0.510371          1.300  1.1770  Actinopterygii   \n",
       "3          1.0  0.511738          1.300  1.3004  Actinopterygii   \n",
       "4          1.0  0.493578          1.125  2.4254  Actinopterygii   \n",
       "\n",
       "       tax_order      family  genus  \n",
       "0  Cypriniformes  Cyprinidae  Danio  \n",
       "1  Cypriniformes  Cyprinidae  Danio  \n",
       "2  Cypriniformes  Cyprinidae  Danio  \n",
       "3  Cypriniformes  Cyprinidae  Danio  \n",
       "4  Cypriniformes  Cyprinidae  Danio  "
      ]
     },
     "execution_count": 4,
     "metadata": {},
     "output_type": "execute_result"
    }
   ],
   "source": [
    "import pandas as pd\n",
    "import numpy as np\n",
    "import matplotlib.pyplot as plt\n",
    "\n",
    "final_db_processed = pd.read_csv('dataset/final_db_processed.csv')\n",
    "use_db = final_db_processed.copy()\n",
    "use_db.head(5)"
   ]
  },
  {
   "cell_type": "code",
   "execution_count": 58,
   "metadata": {},
   "outputs": [],
   "source": [
    "cas_to_smiles = pd.read_csv('dataset/cas_to_smiles.csv').drop(columns = 'Unnamed: 0')\n",
    "only_cas = pd.read_csv('dataset/only_cas.csv').drop(columns = 'Unnamed: 0')"
   ]
  },
  {
   "cell_type": "markdown",
   "metadata": {},
   "source": [
    "# Verifica che i cas number tradotti da webchem siano uguali a quelli tradotti da thermo"
   ]
  },
  {
   "cell_type": "code",
   "execution_count": 38,
   "metadata": {},
   "outputs": [
    {
     "name": "stdout",
     "output_type": "stream",
     "text": [
      "SMILES prodotta da thermo: [Cd+2].[Cl-].[Cl-]\n",
      "CAS prodotto da thermo: 10108-64-2\n",
      "SMILES prodotto da webchem R: [Cl-].[Cl-].[Cd++]\n",
      "CAS prodotto da webchem R: 88-30-2\n",
      "\n",
      "I due SMILES sono uguali? False\n"
     ]
    }
   ],
   "source": [
    "from thermo.identifiers import smiles\n",
    "from thermo.identifiers import CAS_from_any\n",
    "\n",
    "\n",
    "smiles = smiles(only_cas.loc[0]['cas'])\n",
    "\n",
    "print('SMILES prodotta da thermo: {}'.format(smiles))\n",
    "print('CAS prodotto da thermo: {}'.format(CAS_from_any(smiles)))\n",
    "\n",
    "print('SMILES prodotto da webchem R: {}'.format(cas_to_smiles.loc[0]['smiles']))\n",
    "print('CAS prodotto da webchem R: {}'.format(cas_to_smiles.loc[1]['cas']))\n",
    "print()\n",
    "print('I due SMILES sono uguali? {}'.format(cas_to_smiles.loc[0]['smiles'] == smiles))"
   ]
  },
  {
   "cell_type": "markdown",
   "metadata": {},
   "source": [
    "Vedendo il primo composto i due SMILES non coincidono. Considero opportuno mantenere i loro SMILES, ma lavorare con gli SMILES prodotti dalla libreria **thermo**.\n",
    "\n",
    "In thermo c'è la funzione **MW** che passando il CAS Number produce il **peso molecolare**:"
   ]
  },
  {
   "cell_type": "code",
   "execution_count": 39,
   "metadata": {},
   "outputs": [
    {
     "name": "stdout",
     "output_type": "stream",
     "text": [
      "Il peso molecolare di 10108-64-2 è 183.318\n"
     ]
    }
   ],
   "source": [
    "from thermo.identifiers import MW\n",
    "\n",
    "cas_try = only_cas.loc[0]['cas']\n",
    "mw_try = MW(cas_try)\n",
    "print('Il peso molecolare di {} è {}'.format(cas_try, mw_try))"
   ]
  },
  {
   "cell_type": "code",
   "execution_count": 5,
   "metadata": {},
   "outputs": [],
   "source": [
    "only_cas = pd.read_csv('dataset/only_cas.csv', dtype = {'cas': str}).drop(columns = 'Unnamed: 0')"
   ]
  },
  {
   "cell_type": "markdown",
   "metadata": {},
   "source": [
    "Come trovare gli smiles usando **thermo**"
   ]
  },
  {
   "cell_type": "code",
   "execution_count": 51,
   "metadata": {},
   "outputs": [
    {
     "data": {
      "text/plain": [
       "962"
      ]
     },
     "execution_count": 51,
     "metadata": {},
     "output_type": "execute_result"
    }
   ],
   "source": [
    "import pandas as pd\n",
    "from thermo.identifiers import smiles\n",
    "\n",
    "\n",
    "smile = pd.Series()\n",
    "\n",
    "def find_smiles(cas):\n",
    "    try:\n",
    "        sm = smiles(cas)\n",
    "    except:\n",
    "        sm = 'NA'\n",
    "    return sm\n",
    "\n",
    "for i in only_cas['cas']:\n",
    "    smile = smile.append(pd.Series(find_smiles(i)))\n",
    "\n",
    "sum(smile == 'NA')"
   ]
  },
  {
   "cell_type": "markdown",
   "metadata": {},
   "source": [
    "Ci sono dei problemi con il trovare lo smiles per tutti i composti. Sono 962 a fronte dei circa 400 composti di cui **thermo** non ha trovato la riproduzione in SMILES. Sarebbe possibile implementare almeno per quelli i pesi molecolari. Ho trovato su webchem la funzione che mi produce il peso molecolare.\n",
    "\n",
    "Provo ad installare il pacchetto **ChemSpiPy**:\n",
    "\n",
    "> pip install chemspipy\n",
    "\n",
    "Non si può utilizzare perchè prevede una registrazione dell'azienda..."
   ]
  },
  {
   "cell_type": "code",
   "execution_count": null,
   "metadata": {},
   "outputs": [],
   "source": [
    "only_cas[only_cas['cas']=='33878-50-1']"
   ]
  },
  {
   "cell_type": "code",
   "execution_count": 73,
   "metadata": {},
   "outputs": [
    {
     "name": "stdout",
     "output_type": "stream",
     "text": [
      "183.318\n"
     ]
    }
   ],
   "source": [
    "from thermo.chemical import Chemical\n",
    "\n",
    "a = Chemical(only_cas.loc[0]['cas'])\n",
    "# peso molecolare\n",
    "print(a.MW)"
   ]
  },
  {
   "cell_type": "markdown",
   "metadata": {},
   "source": [
    "# Giorno 2 -- ricerca water solubility"
   ]
  },
  {
   "cell_type": "code",
   "execution_count": 14,
   "metadata": {},
   "outputs": [
    {
     "name": "stdout",
     "output_type": "stream",
     "text": [
      "7758-98-7\n"
     ]
    }
   ],
   "source": [
    "import pandas as pd\n",
    "import numpy as np\n",
    "import matplotlib.pyplot as plt\n",
    "from thermo.chemical import Chemical\n",
    "\n",
    "only_cas = pd.read_csv('dataset/only_cas.csv').drop(columns = 'Unnamed: 0')\n",
    "cas_try = only_cas['cas'].loc[9]\n",
    "\n",
    "a = Chemical(cas_try)\n",
    "# octanol water partition --> KoW\n",
    "print(cas_try)"
   ]
  },
  {
   "cell_type": "code",
   "execution_count": 19,
   "metadata": {},
   "outputs": [
    {
     "data": {
      "text/plain": [
       "<matplotlib.axes._subplots.AxesSubplot at 0x1bbe49421c8>"
      ]
     },
     "execution_count": 19,
     "metadata": {},
     "output_type": "execute_result"
    },
    {
     "data": {
      "image/png": "[encoded data removed]",
      "text/plain": [
       "<Figure size 432x288 with 1 Axes>"
      ]
     },
     "metadata": {
      "needs_background": "light"
     },
     "output_type": "display_data"
    }
   ],
   "source": [
    "# Conteggio gruppi OH\n",
    "cas_to_smiles = pd.read_csv('dataset/cas_to_smiles.csv')\n",
    "sm = cas_to_smiles['smiles']\n",
    "oh_count = list()\n",
    "for i in sm:\n",
    "    try:\n",
    "        oh_count.append(i.count('OH'))\n",
    "    except:\n",
    "        oh_count.append('NA')\n",
    "\n",
    "oh = pd.Series(oh_count)\n",
    "oh.value_counts(dropna =False).plot.bar(log = True)"
   ]
  }
 ],
 "metadata": {
  "kernelspec": {
   "display_name": "Python 3",
   "language": "python",
   "name": "python3"
  },
  "language_info": {
   "codemirror_mode": {
    "name": "ipython",
    "version": 3
   },
   "file_extension": ".py",
   "mimetype": "text/x-python",
   "name": "python",
   "nbconvert_exporter": "python",
   "pygments_lexer": "ipython3",
   "version": "3.7.4"
  }
 },
 "nbformat": 4,
 "nbformat_minor": 2
}
