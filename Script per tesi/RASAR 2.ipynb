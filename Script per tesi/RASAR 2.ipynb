{
 "cells": [
  {
   "cell_type": "code",
   "execution_count": 1,
   "metadata": {},
   "outputs": [],
   "source": [
    "from import_data_encoded_knn import  *\n",
    "from sequence_distance_matrix import *\n",
    "from time import ctime\n",
    "\n",
    "\n",
    "X_try, X_train, X_test, y_train, y_test, len_X_train = import_data_encoded(encoding = 'binary')\n",
    "\n",
    "y = np.concatenate((y_train,y_test))\n",
    "one_exp = X_try[y == 1].drop_duplicates()\n",
    "len_one = one_exp.shape[0]\n",
    "\n",
    "categorical = ['ring_number', \"exposure_type\", \"conc1_type\",\"species\",'tripleBond', 'obs_duration_mean', 'doubleBond',\n",
    "    'alone_atom_number', 'class', 'tax_order', 'family', 'genus', 'oh_count']\n",
    "\n",
    "non_categorical =[ 'atom_number', 'bonds_number', 'Mol', 'MorganDensity', 'LogP']"
   ]
  },
  {
   "cell_type": "code",
   "execution_count": 7,
   "metadata": {},
   "outputs": [
    {
     "data": {
      "text/plain": [
       "array([[ 0.        ,  2.2198155 ,  2.38467269,  1.52581239,  2.24945121,\n",
       "         2.83891273, 11.26839211,  0.38615577,  8.35427522,  0.52433143],\n",
       "       [ 2.2198155 ,  0.        ,  4.57124865,  0.993421  ,  0.21161363,\n",
       "         4.96472937, 13.40307473,  1.96578553, 10.50429901,  2.01862813],\n",
       "       [ 2.38467269,  4.57124865,  0.        ,  3.77567045,  4.62025217,\n",
       "         1.07762774,  8.94252018,  2.64878524,  6.00753587,  2.62350272],\n",
       "       [ 1.52581239,  0.993421  ,  3.77567045,  0.        ,  1.08787579,\n",
       "         4.31331448, 12.57367856,  1.3617187 ,  9.66297194,  1.42277661],\n",
       "       [ 2.24945121,  0.21161363,  4.62025217,  1.08787579,  0.        ,\n",
       "         5.00364151, 13.47079879,  2.00823806, 10.56933503,  2.07721791],\n",
       "       [ 2.83891273,  4.96472937,  1.07762774,  4.31331448,  5.00364151,\n",
       "         0.        ,  8.71412259,  3.02199057,  5.86065041,  2.97562096],\n",
       "       [11.26839211, 13.40307473,  8.94252018, 12.57367856, 13.47079879,\n",
       "         8.71412259,  0.        , 11.48379984,  2.97217825, 11.41682397],\n",
       "       [ 0.38615577,  1.96578553,  2.64878524,  1.3617187 ,  2.00823806,\n",
       "         3.02199057, 11.48379984,  0.        ,  8.5862233 ,  0.20760939],\n",
       "       [ 8.35427522, 10.50429901,  6.00753587,  9.66297194, 10.56933503,\n",
       "         5.86065041,  2.97217825,  8.5862233 ,  0.        ,  8.52721516],\n",
       "       [ 0.52433143,  2.01862813,  2.62350272,  1.42277661,  2.07721791,\n",
       "         2.97562096, 11.41682397,  0.20760939,  8.52721516,  0.        ]])"
      ]
     },
     "execution_count": 7,
     "metadata": {},
     "output_type": "execute_result"
    }
   ],
   "source": [
    "dist_matr = basic_matrix(X_train.iloc[:10], categorical, non_categorical, a_ham = 0.0015789473684210526)\n",
    "dist_matr"
   ]
  }
 ],
 "metadata": {
  "kernelspec": {
   "display_name": "Python 3",
   "language": "python",
   "name": "python3"
  },
  "language_info": {
   "codemirror_mode": {
    "name": "ipython",
    "version": 3
   },
   "file_extension": ".py",
   "mimetype": "text/x-python",
   "name": "python",
   "nbconvert_exporter": "python",
   "pygments_lexer": "ipython3",
   "version": "3.7.7"
  }
 },
 "nbformat": 4,
 "nbformat_minor": 4
}
