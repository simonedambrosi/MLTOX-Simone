{
 "cells": [
  {
   "cell_type": "code",
   "execution_count": 1,
   "metadata": {},
   "outputs": [],
   "source": [
    "import pandas as pd\n",
    "import numpy as np\n",
    "from math import sqrt\n",
    "\n",
    "from sklearn.neighbors import KNeighborsClassifier\n",
    "from sklearn.preprocessing import OrdinalEncoder\n",
    "from sklearn.model_selection import train_test_split\n",
    "from sklearn.metrics import accuracy_score\n",
    "from sklearn.metrics import mean_squared_error\n",
    "\n",
    "from scipy.spatial.distance import pdist, squareform, hamming\n",
    "\n",
    "def import_data_encoded():\n",
    "    db = pd.read_csv('dataset/db_modelli_smiles_pubchem.csv').drop(columns = 'Unnamed: 0')\n",
    "    # codifica\n",
    "    db['conc1_mean'] = np.where(db['conc1_mean'].values > 1, 1, 0)\n",
    "\n",
    "    db = db.drop(columns = 'test_cas')\n",
    "    # print(db.info())\n",
    "\n",
    "    # Ordinal Encoding\n",
    "    encoder = OrdinalEncoder(dtype = int)\n",
    "\n",
    "    encoder.fit(db[['species', 'conc1_type', 'exposure_type', 'class', 'tax_order', 'family', 'genus']])\n",
    "\n",
    "    db[['species', 'conc1_type', 'exposure_type', 'class', 'tax_order', 'family', 'genus']] = encoder.transform(\n",
    "        db[['species', 'conc1_type', 'exposure_type', 'class', 'tax_order', 'family', 'genus']])+1\n",
    "    \n",
    "    # Divido il dataset completo tra dati e target\n",
    "    X = db.drop(columns = 'conc1_mean')\n",
    "    y = db['conc1_mean'].values\n",
    "\n",
    "    # splitting\n",
    "    X_train, X_test, y_train, y_test = train_test_split(X, y, test_size=0.33, random_state=42)\n",
    "\n",
    "    # ricongiungo train con test\n",
    "    X_try = X_train.append(X_test)\n",
    "\n",
    "    # tengo traccia della lunghezza del train set\n",
    "    len_X_train = len(X_train) \n",
    "\n",
    "    return X_try, X_train, X_test, y_train, y_test, len_X_train\n",
    "\n",
    "X_try, X_train, X_test, y_train, y_test, len_X_train = import_data_encoded()"
   ]
  },
  {
   "cell_type": "code",
   "execution_count": 2,
   "metadata": {},
   "outputs": [
    {
     "name": "stdout",
     "output_type": "stream",
     "text": [
      "START fast...\n",
      "You choose Hamming 1, Euclidean 2 and Hamming on pubchem2d 3...\n",
      "Start Hamming su categorical...\n",
      "Start Euclidean...\n",
      "Start Hamming su Pubchem2d...\n",
      "...FINISH\n"
     ]
    }
   ],
   "source": [
    "from mem_distance_matrix import *\n",
    "\n",
    "categorical = ['ring_number', \"exposure_type\", \"conc1_type\",\"species\",'tripleBond', 'obs_duration_mean', 'doubleBond',\n",
    "    'alone_atom_number', 'class', 'tax_order', 'family', 'genus', 'oh_count']\n",
    "non_categorical =[ 'atom_number', 'bonds_number', 'Mol', 'MorganDensity', 'LogP']\n",
    "\n",
    "X_train_new, X_test_new = fast_dist_mat(X_try, len_X_train, categorical, non_categorical,\n",
    "                                               alphas = [0.0016102620275609393, 0.5, 0.0016102620275609393, 0],\n",
    "                                               choice = [1,0])"
   ]
  },
  {
   "cell_type": "code",
   "execution_count": 3,
   "metadata": {},
   "outputs": [
    {
     "name": "stdout",
     "output_type": "stream",
     "text": [
      "Model: KNeighborsClassifier(algorithm='auto', leaf_size=70, metric='precomputed',\n",
      "                     metric_params=None, n_jobs=None, n_neighbors=1, p=2,\n",
      "                     weights='uniform'), \n",
      " Accuracy: 0.9008704690139016,\n",
      " RMSE: 0.31484842541467234\n"
     ]
    }
   ],
   "source": [
    "neigh = KNeighborsClassifier(metric = 'precomputed', n_neighbors = 1, leaf_size = 70)\n",
    "neigh.fit(X_train_new, y_train.ravel())\n",
    "y_pred = neigh.predict(X_test_new)\n",
    "print('Model: {}, \\n Accuracy: {},\\n RMSE: {}'.format(neigh,\n",
    "                                                      accuracy_score(y_test, y_pred),\n",
    "                                                      sqrt(mean_squared_error(y_test, y_pred))))"
   ]
  },
  {
   "cell_type": "code",
   "execution_count": 2,
   "metadata": {},
   "outputs": [
    {
     "name": "stdout",
     "output_type": "stream",
     "text": [
      "START fast...\n",
      "You choose Hamming 1, Euclidean 2 and Hamming on pubchem2d 3...\n",
      "Start Hamming su categorical...\n",
      "Start Euclidean...\n",
      "Start Hamming su Pubchem2d...\n",
      "...FINISH\n",
      "Model: KNeighborsClassifier(algorithm='auto', leaf_size=70, metric='precomputed',\n",
      "                     metric_params=None, n_jobs=None, n_neighbors=1, p=2,\n",
      "                     weights='uniform'), \n",
      " Accuracy: 0.9008704690139016,\n",
      " RMSE: 0.31484842541467234\n"
     ]
    }
   ],
   "source": [
    "from mem_distance_matrix import *\n",
    "\n",
    "categorical = ['ring_number', \"exposure_type\", \"conc1_type\",\"species\",'tripleBond', 'obs_duration_mean', 'doubleBond',\n",
    "    'alone_atom_number', 'class', 'tax_order', 'family', 'genus', 'oh_count']\n",
    "non_categorical =[ 'atom_number', 'bonds_number', 'Mol', 'MorganDensity', 'LogP']\n",
    "\n",
    "X_train_new, X_test_new = fast_dist_mat(X_try, len_X_train, categorical, non_categorical,\n",
    "                                               alphas = [0.0016102620275609393, 0.2, 0.0016102620275609393, 0],\n",
    "                                               choice = [1,0])\n",
    "\n",
    "neigh = KNeighborsClassifier(metric = 'precomputed', n_neighbors = 1, leaf_size = 70)\n",
    "neigh.fit(X_train_new, y_train.ravel())\n",
    "y_pred = neigh.predict(X_test_new)\n",
    "print('Model: {}, \\n Accuracy: {},\\n RMSE: {}'.format(neigh,\n",
    "                                                      accuracy_score(y_test, y_pred),\n",
    "                                                      sqrt(mean_squared_error(y_test, y_pred))))"
   ]
  }
 ],
 "metadata": {
  "kernelspec": {
   "display_name": "Python 3",
   "language": "python",
   "name": "python3"
  },
  "language_info": {
   "codemirror_mode": {
    "name": "ipython",
    "version": 3
   },
   "file_extension": ".py",
   "mimetype": "text/x-python",
   "name": "python",
   "nbconvert_exporter": "python",
   "pygments_lexer": "ipython3",
   "version": "3.7.7"
  }
 },
 "nbformat": 4,
 "nbformat_minor": 4
}
