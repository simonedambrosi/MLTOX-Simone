{
 "cells": [
  {
   "cell_type": "markdown",
   "metadata": {},
   "source": [
    "# Molecular Weight\n",
    "\n",
    "In questo file cercherò di aggiungere la variabile Molecular Weight al dataset di partenza. \n",
    "\n",
    "Partendo dal CAS number dei chemicals, usando la libreria *thermo*, estraggo il **molecular weight** dei chemicals. Già so che molti (circa 900) non verranno trovati, quindi passerò a *R* per cercare di trovare quelli che *thermo* non è riuscito a trovare. Alla fine farò un merge di quelli trovati da *thermo* e da *webchem* così da avere, almeno per i chemicals di cui si è riuscito a trovare lo SMILES, il peso molecolare."
   ]
  },
  {
   "cell_type": "code",
   "execution_count": 12,
   "metadata": {},
   "outputs": [],
   "source": [
    "import pandas as pd\n",
    "import numpy as np\n",
    "import matplotlib.pyplot as plt\n",
    "from thermo.identifiers import smiles\n",
    "from thermo.identifiers import MW\n",
    "from thermo.chemical import Chemical "
   ]
  },
  {
   "cell_type": "markdown",
   "metadata": {},
   "source": [
    "Si possono seguire due strade:\n",
    "\n",
    "1) Applicare la funzione MW che calcola il Molecular Weight\n",
    "\n",
    "2) Identificare tramite Chemical il composto dal CAS Number e poi cercare l'attributo (.MW)\n",
    "\n",
    "### Usiamo (1)\n",
    "\n",
    "Importiamo il dataset only_cas.csv che contiene i CAS number dei composti presi in considerazione"
   ]
  },
  {
   "cell_type": "code",
   "execution_count": 2,
   "metadata": {},
   "outputs": [
    {
     "data": {
      "text/html": [
       "<div>\n",
       "<style scoped>\n",
       "    .dataframe tbody tr th:only-of-type {\n",
       "        vertical-align: middle;\n",
       "    }\n",
       "\n",
       "    .dataframe tbody tr th {\n",
       "        vertical-align: top;\n",
       "    }\n",
       "\n",
       "    .dataframe thead th {\n",
       "        text-align: right;\n",
       "    }\n",
       "</style>\n",
       "<table border=\"1\" class=\"dataframe\">\n",
       "  <thead>\n",
       "    <tr style=\"text-align: right;\">\n",
       "      <th></th>\n",
       "      <th>cas</th>\n",
       "    </tr>\n",
       "  </thead>\n",
       "  <tbody>\n",
       "    <tr>\n",
       "      <td>0</td>\n",
       "      <td>10108-64-2</td>\n",
       "    </tr>\n",
       "    <tr>\n",
       "      <td>1</td>\n",
       "      <td>88-30-2</td>\n",
       "    </tr>\n",
       "    <tr>\n",
       "      <td>2</td>\n",
       "      <td>1397-94-0</td>\n",
       "    </tr>\n",
       "    <tr>\n",
       "      <td>3</td>\n",
       "      <td>25474-41-3</td>\n",
       "    </tr>\n",
       "    <tr>\n",
       "      <td>4</td>\n",
       "      <td>540-72-7</td>\n",
       "    </tr>\n",
       "  </tbody>\n",
       "</table>\n",
       "</div>"
      ],
      "text/plain": [
       "          cas\n",
       "0  10108-64-2\n",
       "1     88-30-2\n",
       "2   1397-94-0\n",
       "3  25474-41-3\n",
       "4    540-72-7"
      ]
     },
     "execution_count": 2,
     "metadata": {},
     "output_type": "execute_result"
    }
   ],
   "source": [
    "only_cas = pd.read_csv('dataset/only_cas.csv').drop(columns = 'Unnamed: 0')\n",
    "only_cas.head()"
   ]
  },
  {
   "cell_type": "code",
   "execution_count": 3,
   "metadata": {},
   "outputs": [],
   "source": [
    "mw = pd.Series()\n",
    "\n",
    "def find_MW(cas):\n",
    "    try:\n",
    "        out = MW(cas)\n",
    "    except:\n",
    "        out = 'NA'\n",
    "    return out\n",
    "\n",
    "for i in only_cas['cas']:\n",
    "    mw = mw.append(pd.Series(find_MW(i)))"
   ]
  },
  {
   "cell_type": "markdown",
   "metadata": {},
   "source": [
    "Conto il numero di CAS number di cui non si ha il molecular weight"
   ]
  },
  {
   "cell_type": "code",
   "execution_count": 4,
   "metadata": {},
   "outputs": [
    {
     "data": {
      "text/plain": [
       "962"
      ]
     },
     "execution_count": 4,
     "metadata": {},
     "output_type": "execute_result"
    }
   ],
   "source": [
    "na_mw_count = sum(mw == 'NA')\n",
    "na_mw_count"
   ]
  },
  {
   "cell_type": "markdown",
   "metadata": {},
   "source": [
    "Identifico gli NA: \n",
    "ricodifico prima gli indici"
   ]
  },
  {
   "cell_type": "code",
   "execution_count": 5,
   "metadata": {},
   "outputs": [],
   "source": [
    "# na_mw_index \n",
    "mw_try = mw.copy()\n",
    "mw_try = mw_try.reset_index().drop(columns = 'index')[0]\n",
    "mw = mw_try\n",
    "\n",
    "na_mw_index = mw[mw == 'NA'].index.tolist()"
   ]
  },
  {
   "cell_type": "markdown",
   "metadata": {},
   "source": [
    "Unisco il dataset *only_cas* con i MW trovati: lo ridenomino cas_mw"
   ]
  },
  {
   "cell_type": "code",
   "execution_count": 6,
   "metadata": {},
   "outputs": [
    {
     "data": {
      "text/html": [
       "<div>\n",
       "<style scoped>\n",
       "    .dataframe tbody tr th:only-of-type {\n",
       "        vertical-align: middle;\n",
       "    }\n",
       "\n",
       "    .dataframe tbody tr th {\n",
       "        vertical-align: top;\n",
       "    }\n",
       "\n",
       "    .dataframe thead th {\n",
       "        text-align: right;\n",
       "    }\n",
       "</style>\n",
       "<table border=\"1\" class=\"dataframe\">\n",
       "  <thead>\n",
       "    <tr style=\"text-align: right;\">\n",
       "      <th></th>\n",
       "      <th>cas</th>\n",
       "      <th>MolWeight</th>\n",
       "    </tr>\n",
       "  </thead>\n",
       "  <tbody>\n",
       "    <tr>\n",
       "      <td>0</td>\n",
       "      <td>10108-64-2</td>\n",
       "      <td>183.318</td>\n",
       "    </tr>\n",
       "    <tr>\n",
       "      <td>1</td>\n",
       "      <td>88-30-2</td>\n",
       "      <td>207.107</td>\n",
       "    </tr>\n",
       "    <tr>\n",
       "      <td>2</td>\n",
       "      <td>1397-94-0</td>\n",
       "      <td>548.625</td>\n",
       "    </tr>\n",
       "    <tr>\n",
       "      <td>3</td>\n",
       "      <td>25474-41-3</td>\n",
       "      <td>NA</td>\n",
       "    </tr>\n",
       "    <tr>\n",
       "      <td>4</td>\n",
       "      <td>540-72-7</td>\n",
       "      <td>81.0722</td>\n",
       "    </tr>\n",
       "  </tbody>\n",
       "</table>\n",
       "</div>"
      ],
      "text/plain": [
       "          cas MolWeight\n",
       "0  10108-64-2   183.318\n",
       "1     88-30-2   207.107\n",
       "2   1397-94-0   548.625\n",
       "3  25474-41-3        NA\n",
       "4    540-72-7   81.0722"
      ]
     },
     "execution_count": 6,
     "metadata": {},
     "output_type": "execute_result"
    }
   ],
   "source": [
    "only_cas['MolWeight'] = mw\n",
    "cas_mw = only_cas.copy()\n",
    "cas_mw.head()"
   ]
  },
  {
   "cell_type": "markdown",
   "metadata": {},
   "source": [
    "Creo un dataset di aiuto che mi permetta di spostarmi su R ed importare i cas che non hanno il MW."
   ]
  },
  {
   "cell_type": "code",
   "execution_count": 7,
   "metadata": {
    "scrolled": true
   },
   "outputs": [],
   "source": [
    "cas_mw['cas'].loc[na_mw_index].to_csv('dataset_prova/cas_na_mw.csv', header = True)"
   ]
  },
  {
   "cell_type": "markdown",
   "metadata": {},
   "source": [
    "Adesso vado su R e riporterò il codice scritto lì."
   ]
  },
  {
   "cell_type": "code",
   "execution_count": null,
   "metadata": {},
   "outputs": [],
   "source": [
    "'''\n",
    "library(readr)\n",
    "install.packages('webchem')\n",
    "library('webchem')\n",
    "\n",
    "cas_na_mw <- read_csv(\"C:/Users/Simone/Desktop/TESI -- lavoro/Script per tesi/dataset_prova/cas_na_mw.csv\",\n",
    "col_types = cols(X1 = col_skip()))\n",
    "\n",
    "molWeight <- function(num){\n",
    "  mw <- cir_query(num, representation = 'mw')\n",
    "  return(mw[[1]])\n",
    "}\n",
    "\n",
    "cas_matrix <- as.matrix(cas_na_mw$cas)\n",
    "\n",
    "mw <- apply(cas_matrix, 1, molWeight)\n",
    "\n",
    "df <- as.data.frame(mw)\n",
    "\n",
    "cas_find_mw <- data.frame(cas_na_mw, df)\n",
    "write.csv(cas_find_mw, 'cas_find_mw.csv')\n",
    "\n",
    "'''"
   ]
  },
  {
   "cell_type": "markdown",
   "metadata": {},
   "source": [
    "Quindi importo il risultato ottenuto su R e faccio il merge dei risultati"
   ]
  },
  {
   "cell_type": "code",
   "execution_count": 8,
   "metadata": {},
   "outputs": [
    {
     "name": "stdout",
     "output_type": "stream",
     "text": [
      "435\n"
     ]
    }
   ],
   "source": [
    "temp = cas_mw.copy()\n",
    "cas_find_mw = pd.read_csv('dataset_prova/cas_find_mw.csv').drop(columns = 'Unnamed: 0')\n",
    "temp.head()\n",
    "temp['MolWeight'].loc[na_mw_index] = cas_find_mw['mw'].values\n",
    "print(sum(temp['MolWeight'].isnull()))"
   ]
  },
  {
   "cell_type": "markdown",
   "metadata": {},
   "source": [
    "### Da controllare\n",
    "Ancora 435 chemicals che non hanno trovato un MW... mi sembra che siano gli stessi che non hanno trovato rappresentazione SMILES.\n",
    "\n"
   ]
  },
  {
   "cell_type": "code",
   "execution_count": 9,
   "metadata": {},
   "outputs": [],
   "source": [
    "cas_mw = temp.copy()\n",
    "# esporto i risultati in cas_mw.csv\n",
    "cas_mw.to_csv('dataset/cas_mw.csv')"
   ]
  },
  {
   "cell_type": "markdown",
   "metadata": {},
   "source": [
    "Il numero di composti di cui si è trovato il peso molecolare è inferiore al numero di cas non tradotti in SMILES."
   ]
  },
  {
   "cell_type": "code",
   "execution_count": 10,
   "metadata": {
    "scrolled": true
   },
   "outputs": [
    {
     "data": {
      "text/plain": [
       "465"
      ]
     },
     "execution_count": 10,
     "metadata": {},
     "output_type": "execute_result"
    }
   ],
   "source": [
    "cas_to_smiles = pd.read_csv('dataset/cas_to_smiles.csv').drop(columns = 'Unnamed: 0')\n",
    "sum(cas_to_smiles['smiles'].isnull())"
   ]
  },
  {
   "cell_type": "markdown",
   "metadata": {},
   "source": [
    "## rdkit\n",
    "Un altro modo per fare la stessa cosa è usare **rdkit**"
   ]
  },
  {
   "cell_type": "code",
   "execution_count": null,
   "metadata": {},
   "outputs": [],
   "source": [
    "import pandas as pd\n",
    "from rdkit.Chem.Descriptors import ExactMolWt\n",
    "from rdkit.Chem import MolFromSmiles\n",
    "\n",
    "\n",
    "cas_to_smiles = pd.read_csv('dataset/cas_to_smiles.csv')\n",
    "\n",
    "def molWeight(smiles):\n",
    "    try:\n",
    "        out = ExactMolWt(MolFromSmiles(smiles))\n",
    "    except:\n",
    "        out = 'NA'\n",
    "    return out\n",
    "\n",
    "mw = pd.Series()\n",
    "for i in cas_to_smiles['smiles']:\n",
    "    mw = mw.append(pd.Series(molWeight(i)))\n",
    "\n",
    "sum(mw == 'NA')"
   ]
  },
  {
   "cell_type": "markdown",
   "metadata": {},
   "source": [
    "# Adding new feature\n",
    "\n",
    "Importo il dataset final su cui costruire i modelli e aggiungo la nuova feature trovata sotto il nome di **mol_weight**."
   ]
  },
  {
   "cell_type": "code",
   "execution_count": 160,
   "metadata": {
    "scrolled": true
   },
   "outputs": [
    {
     "data": {
      "text/html": [
       "<div>\n",
       "<style scoped>\n",
       "    .dataframe tbody tr th:only-of-type {\n",
       "        vertical-align: middle;\n",
       "    }\n",
       "\n",
       "    .dataframe tbody tr th {\n",
       "        vertical-align: top;\n",
       "    }\n",
       "\n",
       "    .dataframe thead th {\n",
       "        text-align: right;\n",
       "    }\n",
       "</style>\n",
       "<table border=\"1\" class=\"dataframe\">\n",
       "  <thead>\n",
       "    <tr style=\"text-align: right;\">\n",
       "      <th></th>\n",
       "      <th>test_cas</th>\n",
       "      <th>species</th>\n",
       "      <th>conc1_type</th>\n",
       "      <th>exposure_type</th>\n",
       "      <th>obs_duration_mean</th>\n",
       "      <th>conc1_mean</th>\n",
       "      <th>atom_number</th>\n",
       "      <th>alone_atom_number</th>\n",
       "      <th>bonds_number</th>\n",
       "      <th>doubleBond</th>\n",
       "      <th>tripleBond</th>\n",
       "      <th>ring_number</th>\n",
       "      <th>Mol</th>\n",
       "      <th>MorganDensity</th>\n",
       "      <th>LogP</th>\n",
       "      <th>class</th>\n",
       "      <th>tax_order</th>\n",
       "      <th>family</th>\n",
       "      <th>genus</th>\n",
       "      <th>mol_weight</th>\n",
       "    </tr>\n",
       "  </thead>\n",
       "  <tbody>\n",
       "    <tr>\n",
       "      <td>0</td>\n",
       "      <td>100-00-5</td>\n",
       "      <td>rerio</td>\n",
       "      <td>F</td>\n",
       "      <td>F</td>\n",
       "      <td>48.0</td>\n",
       "      <td>15.0</td>\n",
       "      <td>0.317908</td>\n",
       "      <td>2</td>\n",
       "      <td>0.488106</td>\n",
       "      <td>1</td>\n",
       "      <td>0</td>\n",
       "      <td>1.0</td>\n",
       "      <td>0.535725</td>\n",
       "      <td>1.300000</td>\n",
       "      <td>2.2482</td>\n",
       "      <td>Actinopterygii</td>\n",
       "      <td>Cypriniformes</td>\n",
       "      <td>Cyprinidae</td>\n",
       "      <td>Danio</td>\n",
       "      <td>157.554</td>\n",
       "    </tr>\n",
       "    <tr>\n",
       "      <td>1</td>\n",
       "      <td>100-00-5</td>\n",
       "      <td>rerio</td>\n",
       "      <td>F</td>\n",
       "      <td>F</td>\n",
       "      <td>96.0</td>\n",
       "      <td>15.0</td>\n",
       "      <td>0.317908</td>\n",
       "      <td>2</td>\n",
       "      <td>0.488106</td>\n",
       "      <td>1</td>\n",
       "      <td>0</td>\n",
       "      <td>1.0</td>\n",
       "      <td>0.535725</td>\n",
       "      <td>1.300000</td>\n",
       "      <td>2.2482</td>\n",
       "      <td>Actinopterygii</td>\n",
       "      <td>Cypriniformes</td>\n",
       "      <td>Cyprinidae</td>\n",
       "      <td>Danio</td>\n",
       "      <td>157.554</td>\n",
       "    </tr>\n",
       "    <tr>\n",
       "      <td>2</td>\n",
       "      <td>100-01-6</td>\n",
       "      <td>rerio</td>\n",
       "      <td>F</td>\n",
       "      <td>S</td>\n",
       "      <td>96.0</td>\n",
       "      <td>87.6</td>\n",
       "      <td>0.317908</td>\n",
       "      <td>2</td>\n",
       "      <td>0.488106</td>\n",
       "      <td>1</td>\n",
       "      <td>0</td>\n",
       "      <td>1.0</td>\n",
       "      <td>0.510371</td>\n",
       "      <td>1.300000</td>\n",
       "      <td>1.1770</td>\n",
       "      <td>Actinopterygii</td>\n",
       "      <td>Cypriniformes</td>\n",
       "      <td>Cyprinidae</td>\n",
       "      <td>Danio</td>\n",
       "      <td>138.124</td>\n",
       "    </tr>\n",
       "    <tr>\n",
       "      <td>3</td>\n",
       "      <td>100-01-6</td>\n",
       "      <td>idus</td>\n",
       "      <td>F</td>\n",
       "      <td>AQUA</td>\n",
       "      <td>48.0</td>\n",
       "      <td>35.0</td>\n",
       "      <td>0.317908</td>\n",
       "      <td>2</td>\n",
       "      <td>0.488106</td>\n",
       "      <td>1</td>\n",
       "      <td>0</td>\n",
       "      <td>1.0</td>\n",
       "      <td>0.510371</td>\n",
       "      <td>1.300000</td>\n",
       "      <td>1.1770</td>\n",
       "      <td>Actinopterygii</td>\n",
       "      <td>Cypriniformes</td>\n",
       "      <td>Cyprinidae</td>\n",
       "      <td>Leuciscus</td>\n",
       "      <td>138.124</td>\n",
       "    </tr>\n",
       "    <tr>\n",
       "      <td>4</td>\n",
       "      <td>100-01-6</td>\n",
       "      <td>latipes</td>\n",
       "      <td>A</td>\n",
       "      <td>S</td>\n",
       "      <td>24.0</td>\n",
       "      <td>68.0</td>\n",
       "      <td>0.317908</td>\n",
       "      <td>2</td>\n",
       "      <td>0.488106</td>\n",
       "      <td>1</td>\n",
       "      <td>0</td>\n",
       "      <td>1.0</td>\n",
       "      <td>0.510371</td>\n",
       "      <td>1.300000</td>\n",
       "      <td>1.1770</td>\n",
       "      <td>Actinopterygii</td>\n",
       "      <td>Beloniformes</td>\n",
       "      <td>Adrianichthyidae</td>\n",
       "      <td>Oryzias</td>\n",
       "      <td>138.124</td>\n",
       "    </tr>\n",
       "    <tr>\n",
       "      <td>...</td>\n",
       "      <td>...</td>\n",
       "      <td>...</td>\n",
       "      <td>...</td>\n",
       "      <td>...</td>\n",
       "      <td>...</td>\n",
       "      <td>...</td>\n",
       "      <td>...</td>\n",
       "      <td>...</td>\n",
       "      <td>...</td>\n",
       "      <td>...</td>\n",
       "      <td>...</td>\n",
       "      <td>...</td>\n",
       "      <td>...</td>\n",
       "      <td>...</td>\n",
       "      <td>...</td>\n",
       "      <td>...</td>\n",
       "      <td>...</td>\n",
       "      <td>...</td>\n",
       "      <td>...</td>\n",
       "      <td>...</td>\n",
       "    </tr>\n",
       "    <tr>\n",
       "      <td>23327</td>\n",
       "      <td>8015-35-8</td>\n",
       "      <td>hakonensis</td>\n",
       "      <td>F</td>\n",
       "      <td>S</td>\n",
       "      <td>48.0</td>\n",
       "      <td>1.3</td>\n",
       "      <td>0.547662</td>\n",
       "      <td>0</td>\n",
       "      <td>0.678290</td>\n",
       "      <td>2</td>\n",
       "      <td>0</td>\n",
       "      <td>2.0</td>\n",
       "      <td>0.749544</td>\n",
       "      <td>0.703704</td>\n",
       "      <td>5.5670</td>\n",
       "      <td>Actinopterygii</td>\n",
       "      <td>Cypriniformes</td>\n",
       "      <td>Cyprinidae</td>\n",
       "      <td>Tribolodon</td>\n",
       "      <td>476.52</td>\n",
       "    </tr>\n",
       "    <tr>\n",
       "      <td>23328</td>\n",
       "      <td>8015-35-8</td>\n",
       "      <td>hakonensis</td>\n",
       "      <td>F</td>\n",
       "      <td>S</td>\n",
       "      <td>96.0</td>\n",
       "      <td>1.3</td>\n",
       "      <td>0.547662</td>\n",
       "      <td>0</td>\n",
       "      <td>0.678290</td>\n",
       "      <td>2</td>\n",
       "      <td>0</td>\n",
       "      <td>2.0</td>\n",
       "      <td>0.749544</td>\n",
       "      <td>0.703704</td>\n",
       "      <td>5.5670</td>\n",
       "      <td>Actinopterygii</td>\n",
       "      <td>Cypriniformes</td>\n",
       "      <td>Cyprinidae</td>\n",
       "      <td>Tribolodon</td>\n",
       "      <td>476.52</td>\n",
       "    </tr>\n",
       "    <tr>\n",
       "      <td>23329</td>\n",
       "      <td>8015-35-8</td>\n",
       "      <td>masou</td>\n",
       "      <td>F</td>\n",
       "      <td>R</td>\n",
       "      <td>24.0</td>\n",
       "      <td>0.9</td>\n",
       "      <td>0.547662</td>\n",
       "      <td>0</td>\n",
       "      <td>0.678290</td>\n",
       "      <td>2</td>\n",
       "      <td>0</td>\n",
       "      <td>2.0</td>\n",
       "      <td>0.749544</td>\n",
       "      <td>0.703704</td>\n",
       "      <td>5.5670</td>\n",
       "      <td>Actinopterygii</td>\n",
       "      <td>Salmoniformes</td>\n",
       "      <td>Salmonidae</td>\n",
       "      <td>Oncorhynchus</td>\n",
       "      <td>476.52</td>\n",
       "    </tr>\n",
       "    <tr>\n",
       "      <td>23330</td>\n",
       "      <td>8015-35-8</td>\n",
       "      <td>masou</td>\n",
       "      <td>F</td>\n",
       "      <td>R</td>\n",
       "      <td>48.0</td>\n",
       "      <td>0.7</td>\n",
       "      <td>0.547662</td>\n",
       "      <td>0</td>\n",
       "      <td>0.678290</td>\n",
       "      <td>2</td>\n",
       "      <td>0</td>\n",
       "      <td>2.0</td>\n",
       "      <td>0.749544</td>\n",
       "      <td>0.703704</td>\n",
       "      <td>5.5670</td>\n",
       "      <td>Actinopterygii</td>\n",
       "      <td>Salmoniformes</td>\n",
       "      <td>Salmonidae</td>\n",
       "      <td>Oncorhynchus</td>\n",
       "      <td>476.52</td>\n",
       "    </tr>\n",
       "    <tr>\n",
       "      <td>23331</td>\n",
       "      <td>8015-35-8</td>\n",
       "      <td>masou</td>\n",
       "      <td>F</td>\n",
       "      <td>R</td>\n",
       "      <td>96.0</td>\n",
       "      <td>0.6</td>\n",
       "      <td>0.547662</td>\n",
       "      <td>0</td>\n",
       "      <td>0.678290</td>\n",
       "      <td>2</td>\n",
       "      <td>0</td>\n",
       "      <td>2.0</td>\n",
       "      <td>0.749544</td>\n",
       "      <td>0.703704</td>\n",
       "      <td>5.5670</td>\n",
       "      <td>Actinopterygii</td>\n",
       "      <td>Salmoniformes</td>\n",
       "      <td>Salmonidae</td>\n",
       "      <td>Oncorhynchus</td>\n",
       "      <td>476.52</td>\n",
       "    </tr>\n",
       "  </tbody>\n",
       "</table>\n",
       "<p>23332 rows × 20 columns</p>\n",
       "</div>"
      ],
      "text/plain": [
       "        test_cas     species conc1_type exposure_type  obs_duration_mean  \\\n",
       "0       100-00-5       rerio          F             F               48.0   \n",
       "1       100-00-5       rerio          F             F               96.0   \n",
       "2       100-01-6       rerio          F             S               96.0   \n",
       "3       100-01-6        idus          F          AQUA               48.0   \n",
       "4       100-01-6     latipes          A             S               24.0   \n",
       "...          ...         ...        ...           ...                ...   \n",
       "23327  8015-35-8  hakonensis          F             S               48.0   \n",
       "23328  8015-35-8  hakonensis          F             S               96.0   \n",
       "23329  8015-35-8       masou          F             R               24.0   \n",
       "23330  8015-35-8       masou          F             R               48.0   \n",
       "23331  8015-35-8       masou          F             R               96.0   \n",
       "\n",
       "       conc1_mean  atom_number  alone_atom_number  bonds_number  doubleBond  \\\n",
       "0            15.0     0.317908                  2      0.488106           1   \n",
       "1            15.0     0.317908                  2      0.488106           1   \n",
       "2            87.6     0.317908                  2      0.488106           1   \n",
       "3            35.0     0.317908                  2      0.488106           1   \n",
       "4            68.0     0.317908                  2      0.488106           1   \n",
       "...           ...          ...                ...           ...         ...   \n",
       "23327         1.3     0.547662                  0      0.678290           2   \n",
       "23328         1.3     0.547662                  0      0.678290           2   \n",
       "23329         0.9     0.547662                  0      0.678290           2   \n",
       "23330         0.7     0.547662                  0      0.678290           2   \n",
       "23331         0.6     0.547662                  0      0.678290           2   \n",
       "\n",
       "       tripleBond  ring_number       Mol  MorganDensity    LogP  \\\n",
       "0               0          1.0  0.535725       1.300000  2.2482   \n",
       "1               0          1.0  0.535725       1.300000  2.2482   \n",
       "2               0          1.0  0.510371       1.300000  1.1770   \n",
       "3               0          1.0  0.510371       1.300000  1.1770   \n",
       "4               0          1.0  0.510371       1.300000  1.1770   \n",
       "...           ...          ...       ...            ...     ...   \n",
       "23327           0          2.0  0.749544       0.703704  5.5670   \n",
       "23328           0          2.0  0.749544       0.703704  5.5670   \n",
       "23329           0          2.0  0.749544       0.703704  5.5670   \n",
       "23330           0          2.0  0.749544       0.703704  5.5670   \n",
       "23331           0          2.0  0.749544       0.703704  5.5670   \n",
       "\n",
       "                class      tax_order            family         genus  \\\n",
       "0      Actinopterygii  Cypriniformes        Cyprinidae         Danio   \n",
       "1      Actinopterygii  Cypriniformes        Cyprinidae         Danio   \n",
       "2      Actinopterygii  Cypriniformes        Cyprinidae         Danio   \n",
       "3      Actinopterygii  Cypriniformes        Cyprinidae     Leuciscus   \n",
       "4      Actinopterygii   Beloniformes  Adrianichthyidae       Oryzias   \n",
       "...               ...            ...               ...           ...   \n",
       "23327  Actinopterygii  Cypriniformes        Cyprinidae    Tribolodon   \n",
       "23328  Actinopterygii  Cypriniformes        Cyprinidae    Tribolodon   \n",
       "23329  Actinopterygii  Salmoniformes        Salmonidae  Oncorhynchus   \n",
       "23330  Actinopterygii  Salmoniformes        Salmonidae  Oncorhynchus   \n",
       "23331  Actinopterygii  Salmoniformes        Salmonidae  Oncorhynchus   \n",
       "\n",
       "      mol_weight  \n",
       "0        157.554  \n",
       "1        157.554  \n",
       "2        138.124  \n",
       "3        138.124  \n",
       "4        138.124  \n",
       "...          ...  \n",
       "23327     476.52  \n",
       "23328     476.52  \n",
       "23329     476.52  \n",
       "23330     476.52  \n",
       "23331     476.52  \n",
       "\n",
       "[23332 rows x 20 columns]"
      ]
     },
     "execution_count": 160,
     "metadata": {},
     "output_type": "execute_result"
    }
   ],
   "source": [
    "final_db = pd.read_csv('dataset/final_db_processed.csv')\n",
    "use_db = final_db.copy()\n",
    "\n",
    "use_db = use_db.merge(cas_mw, left_on = 'test_cas', right_on = 'cas').drop(columns = 'cas').rename(\n",
    "    columns = {'MolWeight':'mol_weight'})\n",
    "use_db"
   ]
  },
  {
   "cell_type": "markdown",
   "metadata": {},
   "source": [
    "Metto da parte questo risultato, in particolare lo metto nella cartella **dataset_prova**, sotto il nome di *db_molweigth.csv*"
   ]
  },
  {
   "cell_type": "code",
   "execution_count": 162,
   "metadata": {},
   "outputs": [],
   "source": [
    "use_db.to_csv('dataset_prova/db_molweigth.csv')"
   ]
  },
  {
   "cell_type": "markdown",
   "metadata": {},
   "source": [
    "# DA PROCESSARE"
   ]
  },
  {
   "cell_type": "code",
   "execution_count": 13,
   "metadata": {
    "scrolled": true
   },
   "outputs": [
    {
     "data": {
      "text/plain": [
       "<matplotlib.axes._subplots.AxesSubplot at 0x1c747e76208>"
      ]
     },
     "execution_count": 13,
     "metadata": {},
     "output_type": "execute_result"
    },
    {
     "data": {
      "image/png": "[encoded data removed]",
      "text/plain": [
       "<Figure size 432x288 with 1 Axes>"
      ]
     },
     "metadata": {
      "needs_background": "light"
     },
     "output_type": "display_data"
    }
   ],
   "source": [
    "db = pd.read_csv('dataset_prova/db_molweigth.csv').drop(columns = 'Unnamed: 0')\n",
    "db.mol_weight.hist(log = True, bins = 100)"
   ]
  }
 ],
 "metadata": {
  "kernelspec": {
   "display_name": "Python 3",
   "language": "python",
   "name": "python3"
  },
  "language_info": {
   "codemirror_mode": {
    "name": "ipython",
    "version": 3
   },
   "file_extension": ".py",
   "mimetype": "text/x-python",
   "name": "python",
   "nbconvert_exporter": "python",
   "pygments_lexer": "ipython3",
   "version": "3.7.4"
  }
 },
 "nbformat": 4,
 "nbformat_minor": 2
}
