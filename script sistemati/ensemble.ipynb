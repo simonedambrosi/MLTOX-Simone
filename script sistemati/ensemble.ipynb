{
 "cells": [
  {
   "cell_type": "code",
   "execution_count": 6,
   "metadata": {},
   "outputs": [],
   "source": [
    "import pandas as pd\n",
    "import numpy as np\n",
    "from sklearn.preprocessing import OneHotEncoder\n",
    "from sklearn.preprocessing import MinMaxScaler\n",
    "\n",
    "db = pd.read_csv('data/lc_db_processed.csv').drop(columns = ['Unnamed: 0', 'smiles', 'test_cas'])\n",
    "pub = pd.DataFrame(pd.DataFrame(db['pubchem2d'].values).apply(\n",
    "        lambda x: x.str.replace('', ' ').str.strip().str.split(' '),axis = 1)[0].to_list())\n",
    "pub.columns = ['pub' + str(i+1) for i in range(0, 881)]\n",
    "X_new = db.drop(columns = 'pubchem2d').copy()\n",
    "X_new = pd.concat([X_new, pub], axis = 1)\n",
    "\n",
    "cat = ['obs_duration_mean', 'conc1_type', 'exposure_type', 'control_type', 'media_type', 'application_freq_unit',\n",
    "      'species', 'class', 'tax_order', 'family', 'genus']\n",
    "\n",
    "num = ['atom_number', 'alone_atom_number', 'bonds_number', 'doubleBond', 'tripleBond', 'ring_number', 'Mol',\n",
    "       'MorganDensity', 'LogP', 'oh_count']\n",
    "\n",
    "ohe = OneHotEncoder(sparse = False)\n",
    "ohe.fit(X_new[cat])\n",
    "a = ohe.transform(X_new[cat])\n",
    "b = pd.concat([X_new,pd.DataFrame(a)], axis = 1)\n",
    "\n",
    "b.drop(columns = cat, inplace = True)\n",
    "\n",
    "for nc in num:\n",
    "    minmax = MinMaxScaler()\n",
    "    minmax.fit(b[[nc]])\n",
    "    b[[nc]] = minmax.transform(b[[nc]])"
   ]
  },
  {
   "cell_type": "code",
   "execution_count": 14,
   "metadata": {},
   "outputs": [
    {
     "data": {
      "text/plain": [
       "array([[1., 0., 0., ..., 0., 0., 0.],\n",
       "       [0., 1., 0., ..., 0., 0., 0.],\n",
       "       [0., 0., 0., ..., 0., 0., 0.],\n",
       "       ...,\n",
       "       [1., 0., 0., ..., 0., 0., 0.],\n",
       "       [0., 1., 0., ..., 0., 0., 0.],\n",
       "       [0., 0., 0., ..., 0., 0., 0.]])"
      ]
     },
     "execution_count": 14,
     "metadata": {},
     "output_type": "execute_result"
    }
   ],
   "source": [
    "a"
   ]
  }
 ],
 "metadata": {
  "kernelspec": {
   "display_name": "Python 3",
   "language": "python",
   "name": "python3"
  },
  "language_info": {
   "codemirror_mode": {
    "name": "ipython",
    "version": 3
   },
   "file_extension": ".py",
   "mimetype": "text/x-python",
   "name": "python",
   "nbconvert_exporter": "python",
   "pygments_lexer": "ipython3",
   "version": "3.7.7"
  }
 },
 "nbformat": 4,
 "nbformat_minor": 4
}
