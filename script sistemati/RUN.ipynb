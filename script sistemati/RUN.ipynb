{
 "cells": [
  {
   "cell_type": "code",
   "execution_count": 1,
   "metadata": {
    "collapsed": true
   },
   "outputs": [
    {
     "name": "stdout",
     "output_type": "stream",
     "text": [
      "tests loaded\n",
      "species loaded\n",
      "results loaded\n",
      "Finding atom number...\n",
      "Finding number of alone atoms...\n",
      "Finding single bounds number...\n",
      "Finding double bounds number...\n",
      "Finding triple bounds number...\n",
      "Finding ring number...\n",
      "Finding mol number...\n",
      "Finding morgan density...\n",
      "Finding partition number (LogP)...\n",
      "Finding number of OH group...\n"
     ]
    }
   ],
   "source": [
    "from main_preprocessing import *\n",
    "path_tests = 'C:/Users/Simone/Desktop/data/tests.txt'\n",
    "path_species = 'C:/Users/Simone/Desktop/data/species.txt'\n",
    "path_results = 'C:/Users/Simone/Desktop/data/results.txt'\n",
    "path_chemicals = 'data/cas_smiles_pubchem2d.csv'\n",
    "\n",
    "final_db = load_process_data(path_tests, path_results, path_species, path_chemicals)"
   ]
  },
  {
   "cell_type": "code",
   "execution_count": 2,
   "metadata": {
    "collapsed": true
   },
   "outputs": [
    {
     "name": "stdout",
     "output_type": "stream",
     "text": [
      "(26836, 25)\n",
      "Index(['test_cas', 'obs_duration_mean', 'conc1_type', 'species',\n",
      "       'exposure_type', 'control_type', 'media_type', 'application_freq_unit',\n",
      "       'conc1_mean', 'class', 'tax_order', 'family', 'genus', 'smiles',\n",
      "       'pubchem2d', 'atom_number', 'alone_atom_number', 'bonds_number',\n",
      "       'doubleBond', 'tripleBond', 'ring_number', 'Mol', 'MorganDensity',\n",
      "       'LogP', 'oh_count'],\n",
      "      dtype='object')\n"
     ]
    },
    {
     "data": {
      "text/html": [
       "<div>\n",
       "<style scoped>\n",
       "    .dataframe tbody tr th:only-of-type {\n",
       "        vertical-align: middle;\n",
       "    }\n",
       "\n",
       "    .dataframe tbody tr th {\n",
       "        vertical-align: top;\n",
       "    }\n",
       "\n",
       "    .dataframe thead th {\n",
       "        text-align: right;\n",
       "    }\n",
       "</style>\n",
       "<table border=\"1\" class=\"dataframe\">\n",
       "  <thead>\n",
       "    <tr style=\"text-align: right;\">\n",
       "      <th></th>\n",
       "      <th>test_cas</th>\n",
       "      <th>obs_duration_mean</th>\n",
       "      <th>conc1_type</th>\n",
       "      <th>species</th>\n",
       "      <th>exposure_type</th>\n",
       "      <th>control_type</th>\n",
       "      <th>media_type</th>\n",
       "      <th>application_freq_unit</th>\n",
       "      <th>conc1_mean</th>\n",
       "      <th>class</th>\n",
       "      <th>...</th>\n",
       "      <th>atom_number</th>\n",
       "      <th>alone_atom_number</th>\n",
       "      <th>bonds_number</th>\n",
       "      <th>doubleBond</th>\n",
       "      <th>tripleBond</th>\n",
       "      <th>ring_number</th>\n",
       "      <th>Mol</th>\n",
       "      <th>MorganDensity</th>\n",
       "      <th>LogP</th>\n",
       "      <th>oh_count</th>\n",
       "    </tr>\n",
       "  </thead>\n",
       "  <tbody>\n",
       "    <tr>\n",
       "      <th>0</th>\n",
       "      <td>50-00-0</td>\n",
       "      <td>24.0</td>\n",
       "      <td>A</td>\n",
       "      <td>affinis</td>\n",
       "      <td>R</td>\n",
       "      <td>C</td>\n",
       "      <td>FW</td>\n",
       "      <td>E X H</td>\n",
       "      <td>100.00</td>\n",
       "      <td>Actinopterygii</td>\n",
       "      <td>...</td>\n",
       "      <td>0.217006</td>\n",
       "      <td>0</td>\n",
       "      <td>0.141094</td>\n",
       "      <td>1</td>\n",
       "      <td>0</td>\n",
       "      <td>0</td>\n",
       "      <td>0.219354</td>\n",
       "      <td>1.5</td>\n",
       "      <td>-0.1849</td>\n",
       "      <td>0</td>\n",
       "    </tr>\n",
       "    <tr>\n",
       "      <th>1</th>\n",
       "      <td>50-00-0</td>\n",
       "      <td>48.0</td>\n",
       "      <td>A</td>\n",
       "      <td>affinis</td>\n",
       "      <td>R</td>\n",
       "      <td>C</td>\n",
       "      <td>FW</td>\n",
       "      <td>E X H</td>\n",
       "      <td>97.00</td>\n",
       "      <td>Actinopterygii</td>\n",
       "      <td>...</td>\n",
       "      <td>0.217006</td>\n",
       "      <td>0</td>\n",
       "      <td>0.141094</td>\n",
       "      <td>1</td>\n",
       "      <td>0</td>\n",
       "      <td>0</td>\n",
       "      <td>0.219354</td>\n",
       "      <td>1.5</td>\n",
       "      <td>-0.1849</td>\n",
       "      <td>0</td>\n",
       "    </tr>\n",
       "    <tr>\n",
       "      <th>2</th>\n",
       "      <td>50-00-0</td>\n",
       "      <td>72.0</td>\n",
       "      <td>A</td>\n",
       "      <td>affinis</td>\n",
       "      <td>R</td>\n",
       "      <td>C</td>\n",
       "      <td>FW</td>\n",
       "      <td>E X H</td>\n",
       "      <td>94.00</td>\n",
       "      <td>Actinopterygii</td>\n",
       "      <td>...</td>\n",
       "      <td>0.217006</td>\n",
       "      <td>0</td>\n",
       "      <td>0.141094</td>\n",
       "      <td>1</td>\n",
       "      <td>0</td>\n",
       "      <td>0</td>\n",
       "      <td>0.219354</td>\n",
       "      <td>1.5</td>\n",
       "      <td>-0.1849</td>\n",
       "      <td>0</td>\n",
       "    </tr>\n",
       "    <tr>\n",
       "      <th>3</th>\n",
       "      <td>50-00-0</td>\n",
       "      <td>96.0</td>\n",
       "      <td>A</td>\n",
       "      <td>affinis</td>\n",
       "      <td>R</td>\n",
       "      <td>C</td>\n",
       "      <td>FW</td>\n",
       "      <td>E X H</td>\n",
       "      <td>90.00</td>\n",
       "      <td>Actinopterygii</td>\n",
       "      <td>...</td>\n",
       "      <td>0.217006</td>\n",
       "      <td>0</td>\n",
       "      <td>0.141094</td>\n",
       "      <td>1</td>\n",
       "      <td>0</td>\n",
       "      <td>0</td>\n",
       "      <td>0.219354</td>\n",
       "      <td>1.5</td>\n",
       "      <td>-0.1849</td>\n",
       "      <td>0</td>\n",
       "    </tr>\n",
       "    <tr>\n",
       "      <th>4</th>\n",
       "      <td>50-00-0</td>\n",
       "      <td>96.0</td>\n",
       "      <td>A</td>\n",
       "      <td>affinis</td>\n",
       "      <td>S</td>\n",
       "      <td>C</td>\n",
       "      <td>FW</td>\n",
       "      <td>X</td>\n",
       "      <td>133.55</td>\n",
       "      <td>Actinopterygii</td>\n",
       "      <td>...</td>\n",
       "      <td>0.217006</td>\n",
       "      <td>0</td>\n",
       "      <td>0.141094</td>\n",
       "      <td>1</td>\n",
       "      <td>0</td>\n",
       "      <td>0</td>\n",
       "      <td>0.219354</td>\n",
       "      <td>1.5</td>\n",
       "      <td>-0.1849</td>\n",
       "      <td>0</td>\n",
       "    </tr>\n",
       "  </tbody>\n",
       "</table>\n",
       "<p>5 rows × 25 columns</p>\n",
       "</div>"
      ],
      "text/plain": [
       "  test_cas  obs_duration_mean conc1_type  species exposure_type control_type  \\\n",
       "0  50-00-0               24.0          A  affinis             R            C   \n",
       "1  50-00-0               48.0          A  affinis             R            C   \n",
       "2  50-00-0               72.0          A  affinis             R            C   \n",
       "3  50-00-0               96.0          A  affinis             R            C   \n",
       "4  50-00-0               96.0          A  affinis             S            C   \n",
       "\n",
       "  media_type application_freq_unit  conc1_mean           class  ...  \\\n",
       "0         FW                 E X H      100.00  Actinopterygii  ...   \n",
       "1         FW                 E X H       97.00  Actinopterygii  ...   \n",
       "2         FW                 E X H       94.00  Actinopterygii  ...   \n",
       "3         FW                 E X H       90.00  Actinopterygii  ...   \n",
       "4         FW                     X      133.55  Actinopterygii  ...   \n",
       "\n",
       "  atom_number alone_atom_number bonds_number doubleBond tripleBond  \\\n",
       "0    0.217006                 0     0.141094          1          0   \n",
       "1    0.217006                 0     0.141094          1          0   \n",
       "2    0.217006                 0     0.141094          1          0   \n",
       "3    0.217006                 0     0.141094          1          0   \n",
       "4    0.217006                 0     0.141094          1          0   \n",
       "\n",
       "   ring_number       Mol  MorganDensity    LogP  oh_count  \n",
       "0            0  0.219354            1.5 -0.1849         0  \n",
       "1            0  0.219354            1.5 -0.1849         0  \n",
       "2            0  0.219354            1.5 -0.1849         0  \n",
       "3            0  0.219354            1.5 -0.1849         0  \n",
       "4            0  0.219354            1.5 -0.1849         0  \n",
       "\n",
       "[5 rows x 25 columns]"
      ]
     },
     "execution_count": 2,
     "metadata": {},
     "output_type": "execute_result"
    }
   ],
   "source": [
    "print(final_db.shape)\n",
    "print(final_db.columns)\n",
    "final_db.head()"
   ]
  },
  {
   "cell_type": "code",
   "execution_count": 10,
   "metadata": {},
   "outputs": [],
   "source": [
    "final_db.to_csv('data/lc_db_processed.csv')"
   ]
  },
  {
   "cell_type": "code",
   "execution_count": 13,
   "metadata": {},
   "outputs": [],
   "source": [
    "usedb = final_db.copy()"
   ]
  },
  {
   "cell_type": "code",
   "execution_count": 17,
   "metadata": {},
   "outputs": [
    {
     "data": {
      "text/plain": [
       "<matplotlib.axes._subplots.AxesSubplot at 0x20a19bc4388>"
      ]
     },
     "execution_count": 17,
     "metadata": {},
     "output_type": "execute_result"
    },
    {
     "data": {
      "image/png": "[encoded data removed]",
      "text/plain": [
       "<Figure size 432x288 with 1 Axes>"
      ]
     },
     "metadata": {
      "needs_background": "light"
     },
     "output_type": "display_data"
    }
   ],
   "source": [
    "target = usedb.conc1_mean.values\n",
    "target = np.where(target > 1, 1, 0)\n",
    "pd.Series(target).value_counts().plot(kind='bar', color=['blue','red'])"
   ]
  },
  {
   "cell_type": "code",
   "execution_count": 49,
   "metadata": {},
   "outputs": [],
   "source": [
    "lst = usedb.select_dtypes('object').columns.tolist()\n",
    "lst.remove('smiles')\n",
    "lst.remove('pubchem2d')"
   ]
  },
  {
   "cell_type": "code",
   "execution_count": 51,
   "metadata": {},
   "outputs": [],
   "source": [
    "from sklearn.preprocessing import OrdinalEncoder\n",
    "\n",
    "encoder = OrdinalEncoder(dtype = int)\n",
    "encoder.fit(usedb[lst])\n",
    "usedb[lst] = encoder.transform(usedb[lst])+1"
   ]
  },
  {
   "cell_type": "code",
   "execution_count": 58,
   "metadata": {},
   "outputs": [],
   "source": [
    "from sklearn.model_selection import train_test_split\n",
    "\n",
    "X_train, X_test, y_train, y_test = train_test_split(usedb.drop(columns = ['test_cas', 'conc1_mean','smiles','pubchem2d']), target,\n",
    "                                                    test_size = 0.33, random_state = 42)"
   ]
  },
  {
   "cell_type": "code",
   "execution_count": 61,
   "metadata": {},
   "outputs": [
    {
     "data": {
      "text/plain": [
       "0.8035230352303523"
      ]
     },
     "execution_count": 61,
     "metadata": {},
     "output_type": "execute_result"
    }
   ],
   "source": [
    "from sklearn.neighbors import KNeighborsClassifier\n",
    "from sklearn.metrics import accuracy_score\n",
    "\n",
    "knn = KNeighborsClassifier(n_neighbors = 1)\n",
    "knn.fit(X_train, y_train)\n",
    "y_pred = knn.predict(X_test)\n",
    "accuracy_score(y_test, y_pred)"
   ]
  },
  {
   "cell_type": "code",
   "execution_count": 63,
   "metadata": {},
   "outputs": [
    {
     "data": {
      "text/plain": [
       "0.9162149954832882"
      ]
     },
     "execution_count": 63,
     "metadata": {},
     "output_type": "execute_result"
    }
   ],
   "source": [
    "from sklearn.ensemble import RandomForestClassifier\n",
    "\n",
    "rfc = RandomForestClassifier()\n",
    "rfc.fit(X_train, y_train)\n",
    "y_pred = rfc.predict(X_test)\n",
    "accuracy_score(y_test, y_pred)"
   ]
  }
 ],
 "metadata": {
  "kernelspec": {
   "display_name": "Python 3",
   "language": "python",
   "name": "python3"
  },
  "language_info": {
   "codemirror_mode": {
    "name": "ipython",
    "version": 3
   },
   "file_extension": ".py",
   "mimetype": "text/x-python",
   "name": "python",
   "nbconvert_exporter": "python",
   "pygments_lexer": "ipython3",
   "version": "3.7.7"
  }
 },
 "nbformat": 4,
 "nbformat_minor": 4
}
