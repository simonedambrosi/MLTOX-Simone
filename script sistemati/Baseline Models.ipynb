{
 "cells": [
  {
   "cell_type": "code",
   "execution_count": 1,
   "metadata": {},
   "outputs": [],
   "source": [
    "import pandas as pd\n",
    "import numpy as np\n",
    "from math import sqrt\n",
    "\n",
    "from sklearn.model_selection import train_test_split\n",
    "from sklearn.metrics import accuracy_score\n",
    "from sklearn.metrics import mean_squared_error\n",
    "from sklearn.preprocessing import MinMaxScaler\n",
    "\n",
    "def multiclass(var):\n",
    "    for i in range(0,len(var)):\n",
    "        if var[i] <= 10**-1:\n",
    "            var[i] = 5\n",
    "        \n",
    "        elif 10**-1 < var[i] <= 10**0:\n",
    "            var[i] = 4\n",
    "        \n",
    "        elif 10**0 < var[i] <= 10**1:\n",
    "            var[i] = 3\n",
    "            \n",
    "        elif 10**1 < var[i] <= 10**2:\n",
    "            var[i] = 2\n",
    "            \n",
    "        else:\n",
    "            var[i] = 1\n",
    "    return pd.to_numeric(var, downcast = 'integer')\n",
    "\n",
    "db = pd.read_csv('data/lc_db_processed.csv').drop(columns = ['Unnamed: 0'])\n",
    "\n",
    "X = db.drop(columns = 'conc1_mean')\n",
    "y = np.where(db['conc1_mean']>1,1,0)\n",
    "y_reg = db['conc1_mean']\n",
    "y_mul = multiclass(db['conc1_mean'].values)"
   ]
  },
  {
   "cell_type": "markdown",
   "metadata": {},
   "source": [
    "# Binary\n",
    "## First dumb model predict the most frequent class"
   ]
  },
  {
   "cell_type": "code",
   "execution_count": 2,
   "metadata": {},
   "outputs": [
    {
     "data": {
      "text/plain": [
       "1    16673\n",
       "0    10163\n",
       "dtype: int64"
      ]
     },
     "execution_count": 2,
     "metadata": {},
     "output_type": "execute_result"
    }
   ],
   "source": [
    "pd.Series(y).value_counts()"
   ]
  },
  {
   "cell_type": "code",
   "execution_count": 3,
   "metadata": {},
   "outputs": [
    {
     "name": "stdout",
     "output_type": "stream",
     "text": [
      "0.6212737127371274\n",
      "0.6154074156710111\n"
     ]
    }
   ],
   "source": [
    "X_train, X_test, y_train, y_test = train_test_split(X,y, test_size = 0.33, random_state = 42, stratify = y)\n",
    "\n",
    "y_pred_freq = np.ones(len(X_test))\n",
    "print(accuracy_score(y_pred_freq, y_test))\n",
    "print(sqrt(mean_squared_error(y_pred_freq, y_test)))"
   ]
  },
  {
   "cell_type": "markdown",
   "metadata": {},
   "source": [
    "## Second dumb model random predict the class"
   ]
  },
  {
   "cell_type": "code",
   "execution_count": 4,
   "metadata": {},
   "outputs": [
    {
     "name": "stdout",
     "output_type": "stream",
     "text": [
      "0.4897244805781391\n",
      "0.7143357189878305\n"
     ]
    }
   ],
   "source": [
    "X_train, X_test, y_train, y_test = train_test_split(X,y, test_size = 0.33, random_state = 42, stratify = y)\n",
    "y_pred_naive = np.random.choice(2,len(y_test))\n",
    "\n",
    "print(accuracy_score(y_pred_naive, y_test))\n",
    "print(sqrt(mean_squared_error(y_pred_naive, y_test)))"
   ]
  },
  {
   "cell_type": "markdown",
   "metadata": {},
   "source": [
    "# Multiclass\n",
    "## First dumb classifier predict the most frequent class"
   ]
  },
  {
   "cell_type": "code",
   "execution_count": 7,
   "metadata": {},
   "outputs": [
    {
     "data": {
      "text/plain": [
       "3    6831\n",
       "2    6196\n",
       "4    5152\n",
       "5    5011\n",
       "1    3646\n",
       "dtype: int64"
      ]
     },
     "execution_count": 7,
     "metadata": {},
     "output_type": "execute_result"
    }
   ],
   "source": [
    "pd.Series(y_mul).value_counts()"
   ]
  },
  {
   "cell_type": "code",
   "execution_count": 10,
   "metadata": {},
   "outputs": [
    {
     "name": "stdout",
     "output_type": "stream",
     "text": [
      "0.254516711833785\n",
      "1.3089315170590465\n"
     ]
    }
   ],
   "source": [
    "X_train, X_test, y_train, y_test = train_test_split(X,y_mul, test_size = 0.33, random_state = 42, stratify = y_mul)\n",
    "\n",
    "y_pred_freq = np.ones(len(X_test))*3\n",
    "print(accuracy_score(y_pred_freq, y_test))\n",
    "print(sqrt(mean_squared_error(y_pred_freq, y_test)))"
   ]
  },
  {
   "cell_type": "markdown",
   "metadata": {},
   "source": [
    "## Second dumb classifier random predict the class"
   ]
  },
  {
   "cell_type": "code",
   "execution_count": 18,
   "metadata": {},
   "outputs": [
    {
     "name": "stdout",
     "output_type": "stream",
     "text": [
      "0.21375338753387535\n",
      "1.9016288838582882\n"
     ]
    }
   ],
   "source": [
    "X_train, X_test, y_train, y_test = train_test_split(X,y_mul, test_size = 0.33, random_state = 42, stratify = y_mul)\n",
    "\n",
    "y_pred_naive = np.random.choice(np.arange(1,6),len(X_test))\n",
    "print(accuracy_score(y_pred_naive, y_test))\n",
    "print(sqrt(mean_squared_error(y_pred_naive, y_test)))"
   ]
  },
  {
   "cell_type": "markdown",
   "metadata": {},
   "source": [
    "# Regression"
   ]
  },
  {
   "cell_type": "code",
   "execution_count": 5,
   "metadata": {},
   "outputs": [],
   "source": [
    "X.drop(columns = X.select_dtypes('object').columns,inplace = True)"
   ]
  },
  {
   "cell_type": "code",
   "execution_count": 6,
   "metadata": {},
   "outputs": [],
   "source": [
    "scaler = MinMaxScaler(feature_range=(0,1))\n",
    "scaler.fit(np.array(y).reshape(-1,1))\n",
    "y = scaler.transform(np.array(y).reshape(-1,1))"
   ]
  },
  {
   "cell_type": "code",
   "execution_count": 8,
   "metadata": {},
   "outputs": [
    {
     "name": "stdout",
     "output_type": "stream",
     "text": [
      "7221098.15852749\n"
     ]
    }
   ],
   "source": [
    "from sklearn.linear_model import RidgeCV\n",
    "\n",
    "X_train, X_test, y_train, y_test = train_test_split(X,y_reg, test_size = 0.33, random_state = 42)\n",
    "\n",
    "clf = RidgeCV()\n",
    "clf.fit(X_train,y_train)\n",
    "y_pred_reg = clf.predict(X_test)\n",
    "print(mean_squared_error(y_pred_reg, y_test))"
   ]
  }
 ],
 "metadata": {
  "kernelspec": {
   "display_name": "Python 3",
   "language": "python",
   "name": "python3"
  },
  "language_info": {
   "codemirror_mode": {
    "name": "ipython",
    "version": 3
   },
   "file_extension": ".py",
   "mimetype": "text/x-python",
   "name": "python",
   "nbconvert_exporter": "python",
   "pygments_lexer": "ipython3",
   "version": "3.7.6"
  }
 },
 "nbformat": 4,
 "nbformat_minor": 4
}
