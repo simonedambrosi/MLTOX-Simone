{
 "cells": [
  {
   "cell_type": "markdown",
   "metadata": {},
   "source": [
    "# DataFusion RASAR -- Binary\n",
    "\n",
    "My very first attempt is to use distances/similarities with other endpoint and effect, thus I don't use distances eith endpoint LC50 effect Mortality."
   ]
  },
  {
   "cell_type": "code",
   "execution_count": 4,
   "metadata": {
    "scrolled": true
   },
   "outputs": [
    {
     "name": "stdout",
     "output_type": "stream",
     "text": [
      "\n",
      " Accuracy: \t 0.8980482894941753, se: 0.0018325912430409545\n",
      "RMSE: \t\t 0.31924754468619077, se: 0.0028598827626033878\n",
      "Sensitivity: \t 0.9267267034000574, se: 0.0022623920309544515\n",
      "Precision: \t 0.9107334547713885, se: 0.0018184925686037222\n",
      "Specificity: \t 0.8510175890284625, se: 0.003422215436299718\n"
     ]
    }
   ],
   "source": [
    "from helper_datafusion import *\n",
    "db_mortality = pd.read_csv('data/lc_db_processed.csv')\n",
    "dist_datafusion = pd.read_csv('data/datafusion_distances.csv').drop(columns = 'Unnamed: 0')\n",
    "accs = []\n",
    "rmse = []\n",
    "sens = []\n",
    "precs = []\n",
    "specs = []\n",
    "\n",
    "kf = KFold(n_splits = 5, shuffle = True)\n",
    "for train_index, test_index in kf.split(db_mortality):\n",
    "    X_train = dist_datafusion.iloc[train_index]\n",
    "    X_test = dist_datafusion.iloc[test_index]\n",
    "    \n",
    "    y_train = np.where(db_mortality.conc1_mean.iloc[train_index]>1,1,0)\n",
    "    y_test =  np.where(db_mortality.conc1_mean.iloc[test_index]>1,1,0)\n",
    "    \n",
    "    clf = RandomForestClassifier(n_estimators = 500, n_jobs = -1)\n",
    "    clf.fit(X_train, y_train)\n",
    "    y_pred = clf.predict(X_test)\n",
    "    \n",
    "    tn, fp, fn, tp = confusion_matrix(y_test, y_pred).ravel()\n",
    "\n",
    "    accs.append(accuracy_score(y_test, y_pred))\n",
    "    rmse.append(sqrt(mean_squared_error(y_test, y_pred)))\n",
    "    sens.append(recall_score(y_test, y_pred))\n",
    "    precs.append(precision_score(y_test, y_pred))\n",
    "    specs.append(tn/(tn+fp)) \n",
    "        \n",
    "avg_acc = np.mean(accs)\n",
    "se_acc = sem(accs)\n",
    "\n",
    "avg_rmse = np.mean(rmse)\n",
    "se_rmse = sem(rmse)\n",
    "\n",
    "avg_sens = np.mean(sens)\n",
    "se_sens = sem(sens)\n",
    "\n",
    "avg_precs = np.mean(precs)\n",
    "se_precs = sem(precs)\n",
    "\n",
    "avg_specs = np.mean(specs)\n",
    "se_specs = sem(specs)\n",
    "\n",
    "print('''Accuracy: \\t {}, se: {}\n",
    "RMSE: \\t\\t {}, se: {}\n",
    "Sensitivity: \\t {}, se: {}\n",
    "Precision: \\t {}, se: {}\n",
    "Specificity: \\t {}, se: {}'''.format(avg_acc, se_acc, avg_rmse, se_rmse, avg_sens, se_sens,\n",
    "                                 avg_precs, se_precs, avg_specs, se_specs))"
   ]
  },
  {
   "cell_type": "markdown",
   "metadata": {},
   "source": [
    "Second attempt is like the previous but now instead, I'm using distances of the same endpoint/effect of the data too. This result is not definitive because I have to add the information regarding if an experiment has a \"copy\" in another endpoint/effect."
   ]
  },
  {
   "cell_type": "code",
   "execution_count": 1,
   "metadata": {},
   "outputs": [
    {
     "name": "stdout",
     "output_type": "stream",
     "text": [
      "Computing distance matrix... Wed Sep 23 16:24:27 2020\n",
      "Start CV... Wed Sep 23 16:36:38 2020\n",
      "...END DataFusion RASAR Wed Sep 23 18:29:05 2020\n",
      "Accuracy: \t 0.9158905337316472, se: 0.0010349961873023007\n",
      "    RMSE: \t\t 0.28999439474586375, se: 0.0017830650810416518\n",
      "    Sensitivity: \t 0.9401460366673255, se: 0.0012092713925737277\n",
      "    Precision: \t 0.9255970378295088, se: 0.002227388127143637\n",
      "    Specificity: \t 0.8761245417891879, se: 0.003097701308387638\n"
     ]
    }
   ],
   "source": [
    "from helper_datafusion import *\n",
    "\n",
    "db_mortality, db_datafusion = load_datafusion_datasets('data/lc_db_processed.csv', 'data/datafusion_db_processed.csv')\n",
    "\n",
    "categorical = ['class', 'tax_order', 'family', 'genus', \"species\", 'control_type', 'media_type',\n",
    "               'application_freq_unit',\"exposure_type\", \"conc1_type\", 'obs_duration_mean']\n",
    "\n",
    "non_categorical = ['ring_number', 'tripleBond', 'doubleBond', 'alone_atom_number', 'oh_count',\n",
    "               'atom_number', 'bonds_number', 'Mol', 'MorganDensity', 'LogP']\n",
    "\n",
    "X = db_mortality.drop(columns = 'conc1_mean').copy()\n",
    "y = db_mortality.conc1_mean.values\n",
    "\n",
    "del db_mortality\n",
    "\n",
    "acc, se_acc, rmse, se_rmse = cv_datafusion_rasar(X, y, db_datafusion)"
   ]
  },
  {
   "cell_type": "markdown",
   "metadata": {},
   "source": [
    "Adding the last information, this is the final result. The internal random forest hasn't been trained yet."
   ]
  },
  {
   "cell_type": "code",
   "execution_count": 1,
   "metadata": {},
   "outputs": [
    {
     "name": "stdout",
     "output_type": "stream",
     "text": [
      "Computing distance matrix... Wed Sep 30 19:53:46 2020\n",
      "Start CV... Wed Sep 30 20:06:23 2020\n",
      "...END DataFusion RASAR Wed Sep 30 23:53:03 2020\n",
      "Accuracy: \t 0.9162632576210836, se: 0.0013762670227164399\n",
      "    RMSE: \t\t 0.28933361298273474, se: 0.0023876126818164834\n",
      "    Sensitivity: \t 0.9428085364055028, se: 0.0016882331302965604\n",
      "    Precision: \t\t 0.9238643749281898, se: 0.0017699893180723708\n",
      "    Specificity: \t 0.8726668701223321, se: 0.0017197721322683227\n"
     ]
    }
   ],
   "source": [
    "from helper_datafusion import *\n",
    "\n",
    "db_mortality, db_datafusion = load_datafusion_datasets('data/lc_db_processed.csv', 'data/datafusion_db_processed.csv')\n",
    "\n",
    "categorical = ['class', 'tax_order', 'family', 'genus', \"species\", 'control_type', 'media_type',\n",
    "               'application_freq_unit',\"exposure_type\", \"conc1_type\", 'obs_duration_mean']\n",
    "\n",
    "non_categorical = ['ring_number', 'tripleBond', 'doubleBond', 'alone_atom_number', 'oh_count',\n",
    "               'atom_number', 'bonds_number', 'Mol', 'MorganDensity', 'LogP']\n",
    "\n",
    "X = db_mortality.drop(columns = 'conc1_mean').copy()\n",
    "y = db_mortality.conc1_mean.values\n",
    "\n",
    "del db_mortality\n",
    "\n",
    "acc, se_acc, rmse, se_rmse = cv_datafusion_rasar(X, y, db_datafusion)"
   ]
  },
  {
   "cell_type": "markdown",
   "metadata": {},
   "source": [
    "To train the internal RF, first, I have to know the depth of the trees, so I tuned it first."
   ]
  },
  {
   "cell_type": "code",
   "execution_count": 1,
   "metadata": {},
   "outputs": [
    {
     "name": "stdout",
     "output_type": "stream",
     "text": [
      "Computing distance matrix... Fri Oct  2 14:48:09 2020\n",
      "Start CV... Fri Oct  2 14:53:32 2020\n",
      "Train and test done... models...done\n",
      "Train and test done... models...done\n",
      "Train and test done... models...done\n",
      "Train and test done... models...done\n",
      "Train and test done... models...done\n",
      "...END CV Fri Oct  2 17:19:33 2020\n"
     ]
    }
   ],
   "source": [
    "from helper_datafusion import *\n",
    "from sklearn.model_selection import train_test_split\n",
    "\n",
    "db_mortality, db_datafusion = load_datafusion_datasets('data/lc_db_processed.csv', 'data/datafusion_db_processed.csv')\n",
    "\n",
    "X = db_mortality.drop(columns = 'conc1_mean').copy()\n",
    "y = db_mortality.conc1_mean.values\n",
    "\n",
    "X_train, _, y_train, _ = train_test_split(X, y, test_size = 0.33, random_state = 42)\n",
    "\n",
    "del db_mortality, _, X, y\n",
    "\n",
    "train_acc, train_rmse, test_acc, test_rmse = cv_depth_datafusion_rasar(X_train, y_train, db_datafusion,\n",
    "                                                        max_depth_list = [int(i) for i in np.linspace(5,40,10)])"
   ]
  },
  {
   "cell_type": "code",
   "execution_count": 17,
   "metadata": {
    "collapsed": true
   },
   "outputs": [
    {
     "data": {
      "text/html": [
       "<div>\n",
       "<style scoped>\n",
       "    .dataframe tbody tr th:only-of-type {\n",
       "        vertical-align: middle;\n",
       "    }\n",
       "\n",
       "    .dataframe tbody tr th {\n",
       "        vertical-align: top;\n",
       "    }\n",
       "\n",
       "    .dataframe thead th {\n",
       "        text-align: right;\n",
       "    }\n",
       "</style>\n",
       "<table border=\"1\" class=\"dataframe\">\n",
       "  <thead>\n",
       "    <tr style=\"text-align: right;\">\n",
       "      <th></th>\n",
       "      <th>train_acc</th>\n",
       "      <th>test_acc</th>\n",
       "      <th>train_rmse</th>\n",
       "      <th>test_rmse</th>\n",
       "    </tr>\n",
       "  </thead>\n",
       "  <tbody>\n",
       "    <tr>\n",
       "      <th>5</th>\n",
       "      <td>0.894640</td>\n",
       "      <td>0.888691</td>\n",
       "      <td>0.324571</td>\n",
       "      <td>0.333526</td>\n",
       "    </tr>\n",
       "    <tr>\n",
       "      <th>8</th>\n",
       "      <td>0.919590</td>\n",
       "      <td>0.900756</td>\n",
       "      <td>0.283553</td>\n",
       "      <td>0.314955</td>\n",
       "    </tr>\n",
       "    <tr>\n",
       "      <th>12</th>\n",
       "      <td>0.957675</td>\n",
       "      <td>0.904982</td>\n",
       "      <td>0.205707</td>\n",
       "      <td>0.308229</td>\n",
       "    </tr>\n",
       "    <tr>\n",
       "      <th>16</th>\n",
       "      <td>0.988894</td>\n",
       "      <td>0.905316</td>\n",
       "      <td>0.105302</td>\n",
       "      <td>0.307660</td>\n",
       "    </tr>\n",
       "    <tr>\n",
       "      <th>20</th>\n",
       "      <td>0.998318</td>\n",
       "      <td>0.903147</td>\n",
       "      <td>0.040948</td>\n",
       "      <td>0.311187</td>\n",
       "    </tr>\n",
       "    <tr>\n",
       "      <th>24</th>\n",
       "      <td>0.999305</td>\n",
       "      <td>0.902813</td>\n",
       "      <td>0.026325</td>\n",
       "      <td>0.311741</td>\n",
       "    </tr>\n",
       "    <tr>\n",
       "      <th>28</th>\n",
       "      <td>0.999305</td>\n",
       "      <td>0.903481</td>\n",
       "      <td>0.026325</td>\n",
       "      <td>0.310661</td>\n",
       "    </tr>\n",
       "    <tr>\n",
       "      <th>32</th>\n",
       "      <td>0.999305</td>\n",
       "      <td>0.902647</td>\n",
       "      <td>0.026325</td>\n",
       "      <td>0.312004</td>\n",
       "    </tr>\n",
       "    <tr>\n",
       "      <th>36</th>\n",
       "      <td>0.999305</td>\n",
       "      <td>0.903592</td>\n",
       "      <td>0.026325</td>\n",
       "      <td>0.310486</td>\n",
       "    </tr>\n",
       "    <tr>\n",
       "      <th>40</th>\n",
       "      <td>0.999305</td>\n",
       "      <td>0.902869</td>\n",
       "      <td>0.026325</td>\n",
       "      <td>0.311634</td>\n",
       "    </tr>\n",
       "  </tbody>\n",
       "</table>\n",
       "</div>"
      ],
      "text/plain": [
       "    train_acc  test_acc  train_rmse  test_rmse\n",
       "5    0.894640  0.888691    0.324571   0.333526\n",
       "8    0.919590  0.900756    0.283553   0.314955\n",
       "12   0.957675  0.904982    0.205707   0.308229\n",
       "16   0.988894  0.905316    0.105302   0.307660\n",
       "20   0.998318  0.903147    0.040948   0.311187\n",
       "24   0.999305  0.902813    0.026325   0.311741\n",
       "28   0.999305  0.903481    0.026325   0.310661\n",
       "32   0.999305  0.902647    0.026325   0.312004\n",
       "36   0.999305  0.903592    0.026325   0.310486\n",
       "40   0.999305  0.902869    0.026325   0.311634"
      ]
     },
     "execution_count": 17,
     "metadata": {},
     "output_type": "execute_result"
    }
   ],
   "source": [
    "tab_depth_rasar = pd.DataFrame(columns = ['train_acc', 'test_acc', 'train_rmse', 'test_rmse'])\n",
    "\n",
    "tab_depth_rasar.loc[:,'train_acc'] = pd.DataFrame(train_acc).mean(axis = 0)\n",
    "tab_depth_rasar.loc[:,'test_acc'] = pd.DataFrame(test_acc).mean(axis = 0)\n",
    "tab_depth_rasar.loc[:,'train_rmse'] = pd.DataFrame(train_rmse).mean(axis = 0)\n",
    "tab_depth_rasar.loc[:,'test_rmse'] = pd.DataFrame(test_rmse).mean(axis = 0)\n",
    "tab_depth_rasar"
   ]
  },
  {
   "cell_type": "code",
   "execution_count": 18,
   "metadata": {},
   "outputs": [],
   "source": [
    "tab_depth_rasar.to_csv('output/datafusion_tuning_depth.csv')"
   ]
  },
  {
   "cell_type": "code",
   "execution_count": 29,
   "metadata": {},
   "outputs": [
    {
     "data": {
      "text/plain": [
       "Text(0.5, 0, 'Depth')"
      ]
     },
     "execution_count": 29,
     "metadata": {},
     "output_type": "execute_result"
    },
    {
     "data": {
      "image/png": "[encoded data removed]",
      "text/plain": [
       "<Figure size 1080x288 with 2 Axes>"
      ]
     },
     "metadata": {
      "needs_background": "light"
     },
     "output_type": "display_data"
    }
   ],
   "source": [
    "import matplotlib.pyplot as plt\n",
    "\n",
    "plt.figure(figsize = (15,4))\n",
    "plt.subplot(1,2,1)\n",
    "plt.plot(tab_depth_rasar.index, tab_depth_rasar['train_acc'], '-o')\n",
    "plt.plot(tab_depth_rasar.index, tab_depth_rasar['test_acc'], '-o')\n",
    "plt.title('Accuracy')\n",
    "plt.xlabel('Depth')\n",
    "\n",
    "plt.subplot(1,2,2)\n",
    "plt.plot(tab_depth_rasar.index, tab_depth_rasar['train_rmse'], '-o')\n",
    "plt.plot(tab_depth_rasar.index, tab_depth_rasar['test_rmse'], '-o')\n",
    "plt.title('RMSE')\n",
    "plt.xlabel('Depth')"
   ]
  },
  {
   "cell_type": "markdown",
   "metadata": {},
   "source": [
    "Then, I choose the interval [10,20] because the metrics are maximized. Finally, other hyperparameters are trained."
   ]
  },
  {
   "cell_type": "code",
   "execution_count": 1,
   "metadata": {
    "collapsed": true
   },
   "outputs": [
    {
     "name": "stdout",
     "output_type": "stream",
     "text": [
      "Computing distance matrix... Sat Oct  3 11:31:18 2020\n",
      "Start CV... Sat Oct  3 11:36:48 2020\n",
      "Train and test done... models...done\n",
      "Train and test done... models...done\n",
      "Train and test done... models...done\n",
      "Train and test done... models...done\n",
      "Train and test done... models...done\n",
      "...END CV Sat Oct  3 15:28:40 2020\n"
     ]
    }
   ],
   "source": [
    "from helper_datafusion import *\n",
    "from sklearn.model_selection import train_test_split\n",
    "\n",
    "db_mortality, db_datafusion = load_datafusion_datasets('data/lc_db_processed.csv', 'data/datafusion_db_processed.csv')\n",
    "\n",
    "categorical = ['class', 'tax_order', 'family', 'genus', \"species\", 'control_type', 'media_type',\n",
    "               'application_freq_unit',\"exposure_type\", \"conc1_type\", 'obs_duration_mean']\n",
    "\n",
    "non_categorical = ['ring_number', 'tripleBond', 'doubleBond', 'alone_atom_number', 'oh_count',\n",
    "               'atom_number', 'bonds_number', 'Mol', 'MorganDensity', 'LogP']\n",
    "\n",
    "X = db_mortality.drop(columns = 'conc1_mean').copy()\n",
    "y = db_mortality.conc1_mean.values\n",
    "\n",
    "X_train, _, y_train, _ = train_test_split(X, y, test_size = 0.33, random_state = 42)\n",
    "\n",
    "del db_mortality, _, X, y\n",
    "\n",
    "hyper_params_tune = {'max_depth' : [i for i in range(10,20,2)],\n",
    "                     'n_estimators': [int(x) for x in np.linspace(start = 200, stop = 1000, num = 11)],\n",
    "                     'min_samples_split': [2, 5, 10],\n",
    "                     'min_samples_leaf': [1, 2, 4]}\n",
    "\n",
    "params_list, train_acc, train_rmse, test_acc, test_rmse = cv_random_datafusion_rasar(X_train, y_train, db_datafusion,\n",
    "                                                                       hyper_params_tune)"
   ]
  },
  {
   "cell_type": "code",
   "execution_count": 5,
   "metadata": {
    "collapsed": true
   },
   "outputs": [
    {
     "data": {
      "text/html": [
       "<div>\n",
       "<style scoped>\n",
       "    .dataframe tbody tr th:only-of-type {\n",
       "        vertical-align: middle;\n",
       "    }\n",
       "\n",
       "    .dataframe tbody tr th {\n",
       "        vertical-align: top;\n",
       "    }\n",
       "\n",
       "    .dataframe thead th {\n",
       "        text-align: right;\n",
       "    }\n",
       "</style>\n",
       "<table border=\"1\" class=\"dataframe\">\n",
       "  <thead>\n",
       "    <tr style=\"text-align: right;\">\n",
       "      <th></th>\n",
       "      <th>train_acc</th>\n",
       "      <th>test_acc</th>\n",
       "      <th>train_rmse</th>\n",
       "      <th>test_rmse</th>\n",
       "    </tr>\n",
       "  </thead>\n",
       "  <tbody>\n",
       "    <tr>\n",
       "      <th>mod0</th>\n",
       "      <td>0.957092</td>\n",
       "      <td>0.905872</td>\n",
       "      <td>0.207137</td>\n",
       "      <td>0.306651</td>\n",
       "    </tr>\n",
       "    <tr>\n",
       "      <th>mod1</th>\n",
       "      <td>0.929153</td>\n",
       "      <td>0.902591</td>\n",
       "      <td>0.266163</td>\n",
       "      <td>0.312012</td>\n",
       "    </tr>\n",
       "    <tr>\n",
       "      <th>mod2</th>\n",
       "      <td>0.975801</td>\n",
       "      <td>0.904760</td>\n",
       "      <td>0.155525</td>\n",
       "      <td>0.308509</td>\n",
       "    </tr>\n",
       "    <tr>\n",
       "      <th>mod3</th>\n",
       "      <td>0.938855</td>\n",
       "      <td>0.904259</td>\n",
       "      <td>0.247272</td>\n",
       "      <td>0.309318</td>\n",
       "    </tr>\n",
       "    <tr>\n",
       "      <th>mod4</th>\n",
       "      <td>0.969907</td>\n",
       "      <td>0.904815</td>\n",
       "      <td>0.173463</td>\n",
       "      <td>0.308426</td>\n",
       "    </tr>\n",
       "    <tr>\n",
       "      <th>...</th>\n",
       "      <td>...</td>\n",
       "      <td>...</td>\n",
       "      <td>...</td>\n",
       "      <td>...</td>\n",
       "    </tr>\n",
       "    <tr>\n",
       "      <th>mod95</th>\n",
       "      <td>0.995622</td>\n",
       "      <td>0.902758</td>\n",
       "      <td>0.066135</td>\n",
       "      <td>0.311778</td>\n",
       "    </tr>\n",
       "    <tr>\n",
       "      <th>mod96</th>\n",
       "      <td>0.949864</td>\n",
       "      <td>0.904537</td>\n",
       "      <td>0.223908</td>\n",
       "      <td>0.308834</td>\n",
       "    </tr>\n",
       "    <tr>\n",
       "      <th>mod97</th>\n",
       "      <td>0.936187</td>\n",
       "      <td>0.903258</td>\n",
       "      <td>0.252604</td>\n",
       "      <td>0.310920</td>\n",
       "    </tr>\n",
       "    <tr>\n",
       "      <th>mod98</th>\n",
       "      <td>0.971408</td>\n",
       "      <td>0.904148</td>\n",
       "      <td>0.169081</td>\n",
       "      <td>0.309503</td>\n",
       "    </tr>\n",
       "    <tr>\n",
       "      <th>mod99</th>\n",
       "      <td>0.961178</td>\n",
       "      <td>0.905649</td>\n",
       "      <td>0.197026</td>\n",
       "      <td>0.307024</td>\n",
       "    </tr>\n",
       "  </tbody>\n",
       "</table>\n",
       "<p>100 rows × 4 columns</p>\n",
       "</div>"
      ],
      "text/plain": [
       "       train_acc  test_acc  train_rmse  test_rmse\n",
       "mod0    0.957092  0.905872    0.207137   0.306651\n",
       "mod1    0.929153  0.902591    0.266163   0.312012\n",
       "mod2    0.975801  0.904760    0.155525   0.308509\n",
       "mod3    0.938855  0.904259    0.247272   0.309318\n",
       "mod4    0.969907  0.904815    0.173463   0.308426\n",
       "...          ...       ...         ...        ...\n",
       "mod95   0.995622  0.902758    0.066135   0.311778\n",
       "mod96   0.949864  0.904537    0.223908   0.308834\n",
       "mod97   0.936187  0.903258    0.252604   0.310920\n",
       "mod98   0.971408  0.904148    0.169081   0.309503\n",
       "mod99   0.961178  0.905649    0.197026   0.307024\n",
       "\n",
       "[100 rows x 4 columns]"
      ]
     },
     "execution_count": 5,
     "metadata": {},
     "output_type": "execute_result"
    }
   ],
   "source": [
    "tab_rf_rasar = pd.DataFrame(columns = ['train_acc', 'test_acc', 'train_rmse', 'test_rmse'])\n",
    "\n",
    "tab_rf_rasar.loc[:,'train_acc'] = pd.DataFrame(train_acc).mean(axis = 0)\n",
    "tab_rf_rasar.loc[:,'test_acc'] = pd.DataFrame(test_acc).mean(axis = 0)\n",
    "tab_rf_rasar.loc[:,'train_rmse'] = pd.DataFrame(train_rmse).mean(axis = 0)\n",
    "tab_rf_rasar.loc[:,'test_rmse'] = pd.DataFrame(test_rmse).mean(axis = 0)\n",
    "tab_rf_rasar"
   ]
  },
  {
   "cell_type": "code",
   "execution_count": 36,
   "metadata": {
    "collapsed": true
   },
   "outputs": [
    {
     "data": {
      "text/html": [
       "<div>\n",
       "<style scoped>\n",
       "    .dataframe tbody tr th:only-of-type {\n",
       "        vertical-align: middle;\n",
       "    }\n",
       "\n",
       "    .dataframe tbody tr th {\n",
       "        vertical-align: top;\n",
       "    }\n",
       "\n",
       "    .dataframe thead th {\n",
       "        text-align: right;\n",
       "    }\n",
       "</style>\n",
       "<table border=\"1\" class=\"dataframe\">\n",
       "  <thead>\n",
       "    <tr style=\"text-align: right;\">\n",
       "      <th></th>\n",
       "      <th>train_acc</th>\n",
       "      <th>test_acc</th>\n",
       "      <th>train_rmse</th>\n",
       "      <th>test_rmse</th>\n",
       "      <th>n_estimators</th>\n",
       "      <th>min_samples_split</th>\n",
       "      <th>min_samples_leaf</th>\n",
       "      <th>max_depth</th>\n",
       "    </tr>\n",
       "  </thead>\n",
       "  <tbody>\n",
       "    <tr>\n",
       "      <th>mod0</th>\n",
       "      <td>0.957092</td>\n",
       "      <td>0.905872</td>\n",
       "      <td>0.207137</td>\n",
       "      <td>0.306651</td>\n",
       "      <td>600</td>\n",
       "      <td>10</td>\n",
       "      <td>2</td>\n",
       "      <td>18</td>\n",
       "    </tr>\n",
       "    <tr>\n",
       "      <th>mod1</th>\n",
       "      <td>0.929153</td>\n",
       "      <td>0.902591</td>\n",
       "      <td>0.266163</td>\n",
       "      <td>0.312012</td>\n",
       "      <td>760</td>\n",
       "      <td>2</td>\n",
       "      <td>4</td>\n",
       "      <td>10</td>\n",
       "    </tr>\n",
       "    <tr>\n",
       "      <th>mod2</th>\n",
       "      <td>0.975801</td>\n",
       "      <td>0.904760</td>\n",
       "      <td>0.155525</td>\n",
       "      <td>0.308509</td>\n",
       "      <td>360</td>\n",
       "      <td>5</td>\n",
       "      <td>1</td>\n",
       "      <td>16</td>\n",
       "    </tr>\n",
       "    <tr>\n",
       "      <th>mod3</th>\n",
       "      <td>0.938855</td>\n",
       "      <td>0.904259</td>\n",
       "      <td>0.247272</td>\n",
       "      <td>0.309318</td>\n",
       "      <td>1000</td>\n",
       "      <td>2</td>\n",
       "      <td>4</td>\n",
       "      <td>12</td>\n",
       "    </tr>\n",
       "    <tr>\n",
       "      <th>mod4</th>\n",
       "      <td>0.969907</td>\n",
       "      <td>0.904815</td>\n",
       "      <td>0.173463</td>\n",
       "      <td>0.308426</td>\n",
       "      <td>440</td>\n",
       "      <td>2</td>\n",
       "      <td>2</td>\n",
       "      <td>16</td>\n",
       "    </tr>\n",
       "    <tr>\n",
       "      <th>...</th>\n",
       "      <td>...</td>\n",
       "      <td>...</td>\n",
       "      <td>...</td>\n",
       "      <td>...</td>\n",
       "      <td>...</td>\n",
       "      <td>...</td>\n",
       "      <td>...</td>\n",
       "      <td>...</td>\n",
       "    </tr>\n",
       "    <tr>\n",
       "      <th>mod95</th>\n",
       "      <td>0.995622</td>\n",
       "      <td>0.902758</td>\n",
       "      <td>0.066135</td>\n",
       "      <td>0.311778</td>\n",
       "      <td>840</td>\n",
       "      <td>2</td>\n",
       "      <td>1</td>\n",
       "      <td>18</td>\n",
       "    </tr>\n",
       "    <tr>\n",
       "      <th>mod96</th>\n",
       "      <td>0.949864</td>\n",
       "      <td>0.904537</td>\n",
       "      <td>0.223908</td>\n",
       "      <td>0.308834</td>\n",
       "      <td>760</td>\n",
       "      <td>5</td>\n",
       "      <td>4</td>\n",
       "      <td>16</td>\n",
       "    </tr>\n",
       "    <tr>\n",
       "      <th>mod97</th>\n",
       "      <td>0.936187</td>\n",
       "      <td>0.903258</td>\n",
       "      <td>0.252604</td>\n",
       "      <td>0.310920</td>\n",
       "      <td>840</td>\n",
       "      <td>5</td>\n",
       "      <td>1</td>\n",
       "      <td>10</td>\n",
       "    </tr>\n",
       "    <tr>\n",
       "      <th>mod98</th>\n",
       "      <td>0.971408</td>\n",
       "      <td>0.904148</td>\n",
       "      <td>0.169081</td>\n",
       "      <td>0.309503</td>\n",
       "      <td>520</td>\n",
       "      <td>5</td>\n",
       "      <td>2</td>\n",
       "      <td>18</td>\n",
       "    </tr>\n",
       "    <tr>\n",
       "      <th>mod99</th>\n",
       "      <td>0.961178</td>\n",
       "      <td>0.905649</td>\n",
       "      <td>0.197026</td>\n",
       "      <td>0.307024</td>\n",
       "      <td>1000</td>\n",
       "      <td>10</td>\n",
       "      <td>1</td>\n",
       "      <td>16</td>\n",
       "    </tr>\n",
       "  </tbody>\n",
       "</table>\n",
       "<p>100 rows × 8 columns</p>\n",
       "</div>"
      ],
      "text/plain": [
       "       train_acc  test_acc  train_rmse  test_rmse  n_estimators  \\\n",
       "mod0    0.957092  0.905872    0.207137   0.306651           600   \n",
       "mod1    0.929153  0.902591    0.266163   0.312012           760   \n",
       "mod2    0.975801  0.904760    0.155525   0.308509           360   \n",
       "mod3    0.938855  0.904259    0.247272   0.309318          1000   \n",
       "mod4    0.969907  0.904815    0.173463   0.308426           440   \n",
       "...          ...       ...         ...        ...           ...   \n",
       "mod95   0.995622  0.902758    0.066135   0.311778           840   \n",
       "mod96   0.949864  0.904537    0.223908   0.308834           760   \n",
       "mod97   0.936187  0.903258    0.252604   0.310920           840   \n",
       "mod98   0.971408  0.904148    0.169081   0.309503           520   \n",
       "mod99   0.961178  0.905649    0.197026   0.307024          1000   \n",
       "\n",
       "       min_samples_split  min_samples_leaf  max_depth  \n",
       "mod0                  10                 2         18  \n",
       "mod1                   2                 4         10  \n",
       "mod2                   5                 1         16  \n",
       "mod3                   2                 4         12  \n",
       "mod4                   2                 2         16  \n",
       "...                  ...               ...        ...  \n",
       "mod95                  2                 1         18  \n",
       "mod96                  5                 4         16  \n",
       "mod97                  5                 1         10  \n",
       "mod98                  5                 2         18  \n",
       "mod99                 10                 1         16  \n",
       "\n",
       "[100 rows x 8 columns]"
      ]
     },
     "execution_count": 36,
     "metadata": {},
     "output_type": "execute_result"
    }
   ],
   "source": [
    "params_df = pd.DataFrame(params_list, index = ['mod' + str(i) for i in range(0,100)])\n",
    "tab_rf_rasar = pd.concat([tab_rf_rasar, params_df], axis = 1)\n",
    "tab_rf_rasar"
   ]
  },
  {
   "cell_type": "code",
   "execution_count": 37,
   "metadata": {},
   "outputs": [],
   "source": [
    "tab_rf_rasar.to_csv('output/datafusion_tuning_params.csv')"
   ]
  },
  {
   "cell_type": "code",
   "execution_count": 38,
   "metadata": {},
   "outputs": [
    {
     "data": {
      "text/html": [
       "<div>\n",
       "<style scoped>\n",
       "    .dataframe tbody tr th:only-of-type {\n",
       "        vertical-align: middle;\n",
       "    }\n",
       "\n",
       "    .dataframe tbody tr th {\n",
       "        vertical-align: top;\n",
       "    }\n",
       "\n",
       "    .dataframe thead th {\n",
       "        text-align: right;\n",
       "    }\n",
       "</style>\n",
       "<table border=\"1\" class=\"dataframe\">\n",
       "  <thead>\n",
       "    <tr style=\"text-align: right;\">\n",
       "      <th></th>\n",
       "      <th>train_acc</th>\n",
       "      <th>test_acc</th>\n",
       "      <th>train_rmse</th>\n",
       "      <th>test_rmse</th>\n",
       "      <th>n_estimators</th>\n",
       "      <th>min_samples_split</th>\n",
       "      <th>min_samples_leaf</th>\n",
       "      <th>max_depth</th>\n",
       "    </tr>\n",
       "  </thead>\n",
       "  <tbody>\n",
       "    <tr>\n",
       "      <th>mod74</th>\n",
       "      <td>0.948794</td>\n",
       "      <td>0.905927</td>\n",
       "      <td>0.226284</td>\n",
       "      <td>0.306554</td>\n",
       "      <td>520</td>\n",
       "      <td>10</td>\n",
       "      <td>4</td>\n",
       "      <td>18</td>\n",
       "    </tr>\n",
       "  </tbody>\n",
       "</table>\n",
       "</div>"
      ],
      "text/plain": [
       "       train_acc  test_acc  train_rmse  test_rmse  n_estimators  \\\n",
       "mod74   0.948794  0.905927    0.226284   0.306554           520   \n",
       "\n",
       "       min_samples_split  min_samples_leaf  max_depth  \n",
       "mod74                 10                 4         18  "
      ]
     },
     "execution_count": 38,
     "metadata": {},
     "output_type": "execute_result"
    }
   ],
   "source": [
    "# tab_rf_rasar[tab_rf_rasar.test_acc == tab_rf_rasar.test_acc.max()] \n",
    "tab_rf_rasar[tab_rf_rasar.test_rmse == tab_rf_rasar.test_rmse.min()]"
   ]
  },
  {
   "cell_type": "markdown",
   "metadata": {},
   "source": [
    "The best model is using:\n",
    "\n",
    "- Number of internal trees = 520\n",
    "\n",
    "- Minimum number of samples to decide to split = 10\n",
    "\n",
    "- Minimum number of samples in a leaf = 4\n",
    "\n",
    "- Maximum depth of internal trees = 18\n",
    "\n",
    "Trying this configuration we reach..."
   ]
  },
  {
   "cell_type": "code",
   "execution_count": 1,
   "metadata": {},
   "outputs": [
    {
     "name": "stdout",
     "output_type": "stream",
     "text": [
      "Computing distance matrix... Sat Oct  3 20:13:49 2020\n",
      "Start CV... Sat Oct  3 20:26:38 2020\n",
      "Train and test...done... model...done\n",
      "Train and test...done... model...done\n",
      "Train and test...done... model...done\n",
      "Train and test...done... model...done\n",
      "Train and test...done... model...done\n",
      "...END DataFusion RASAR Sun Oct  4 00:27:59 2020\n",
      "Accuracy: \t 0.9172688234027124, se: 0.00106329640633587\n",
      "RMSE: \t\t 0.28760631936068715, se: 0.001856182984393397\n",
      "Sensitivity: \t 0.9456815238619593, se: 0.0021229056279538617\n",
      "Precision: \t\t 0.923037997134219, se: 0.001836908172293486\n",
      "Specificity: \t 0.8707344072046809, se: 0.002748283705839851\n"
     ]
    }
   ],
   "source": [
    "from helper_datafusion import *\n",
    "\n",
    "db_mortality, db_datafusion = load_datafusion_datasets('data/lc_db_processed.csv', 'data/datafusion_db_processed.csv')\n",
    "\n",
    "categorical = ['class', 'tax_order', 'family', 'genus', \"species\", 'control_type', 'media_type',\n",
    "               'application_freq_unit',\"exposure_type\", \"conc1_type\", 'obs_duration_mean']\n",
    "\n",
    "non_categorical = ['ring_number', 'tripleBond', 'doubleBond', 'alone_atom_number', 'oh_count',\n",
    "               'atom_number', 'bonds_number', 'Mol', 'MorganDensity', 'LogP']\n",
    "\n",
    "X = db_mortality.drop(columns = 'conc1_mean').copy()\n",
    "y = db_mortality.conc1_mean.values\n",
    "\n",
    "del db_mortality\n",
    "\n",
    "params = {'n_estimators': 1000,\n",
    "          'min_samples_split': 10,\n",
    "          'min_samples_leaf': 4,\n",
    "          'max_depth': 18}\n",
    "\n",
    "acc, se_acc, rmse, se_rmse = cv_datafusion_rasar(X, y, db_datafusion, params)"
   ]
  },
  {
   "cell_type": "markdown",
   "metadata": {},
   "source": [
    "# Data Fusion RASAR -- Multiclass"
   ]
  },
  {
   "cell_type": "code",
   "execution_count": 1,
   "metadata": {},
   "outputs": [
    {
     "name": "stdout",
     "output_type": "stream",
     "text": [
      "Checking whether there is an H2O instance running at http://localhost:54321 ..... not found.\n",
      "Attempting to start a local H2O server...\n",
      "; Java HotSpot(TM) 64-Bit Server VM (build 25.231-b11, mixed mode)\n",
      "  Starting server from C:\\Users\\Simone\\Anaconda3\\lib\\site-packages\\h2o\\backend\\bin\\h2o.jar\n",
      "  Ice root: C:\\Users\\Simone\\AppData\\Local\\Temp\\tmpxkbqmg3w\n",
      "  JVM stdout: C:\\Users\\Simone\\AppData\\Local\\Temp\\tmpxkbqmg3w\\h2o_Simone_started_from_python.out\n",
      "  JVM stderr: C:\\Users\\Simone\\AppData\\Local\\Temp\\tmpxkbqmg3w\\h2o_Simone_started_from_python.err\n",
      "  Server is running at http://127.0.0.1:54321\n",
      "Connecting to H2O server at http://127.0.0.1:54321 ... successful.\n"
     ]
    },
    {
     "data": {
      "text/html": [
       "<div style=\"overflow:auto\"><table style=\"width:50%\"><tr><td>H2O_cluster_uptime:</td>\n",
       "<td>03 secs</td></tr>\n",
       "<tr><td>H2O_cluster_timezone:</td>\n",
       "<td>Europe/Berlin</td></tr>\n",
       "<tr><td>H2O_data_parsing_timezone:</td>\n",
       "<td>UTC</td></tr>\n",
       "<tr><td>H2O_cluster_version:</td>\n",
       "<td>3.30.1.3</td></tr>\n",
       "<tr><td>H2O_cluster_version_age:</td>\n",
       "<td>7 days, 6 hours and 46 minutes </td></tr>\n",
       "<tr><td>H2O_cluster_name:</td>\n",
       "<td>H2O_from_python_Simone_qewune</td></tr>\n",
       "<tr><td>H2O_cluster_total_nodes:</td>\n",
       "<td>1</td></tr>\n",
       "<tr><td>H2O_cluster_free_memory:</td>\n",
       "<td>2.643 Gb</td></tr>\n",
       "<tr><td>H2O_cluster_total_cores:</td>\n",
       "<td>4</td></tr>\n",
       "<tr><td>H2O_cluster_allowed_cores:</td>\n",
       "<td>4</td></tr>\n",
       "<tr><td>H2O_cluster_status:</td>\n",
       "<td>accepting new members, healthy</td></tr>\n",
       "<tr><td>H2O_connection_url:</td>\n",
       "<td>http://127.0.0.1:54321</td></tr>\n",
       "<tr><td>H2O_connection_proxy:</td>\n",
       "<td>{\"http\": null, \"https\": null}</td></tr>\n",
       "<tr><td>H2O_internal_security:</td>\n",
       "<td>False</td></tr>\n",
       "<tr><td>H2O_API_Extensions:</td>\n",
       "<td>Amazon S3, Algos, AutoML, Core V3, TargetEncoder, Core V4</td></tr>\n",
       "<tr><td>Python_version:</td>\n",
       "<td>3.7.7 final</td></tr></table></div>"
      ],
      "text/plain": [
       "--------------------------  ---------------------------------------------------------\n",
       "H2O_cluster_uptime:         03 secs\n",
       "H2O_cluster_timezone:       Europe/Berlin\n",
       "H2O_data_parsing_timezone:  UTC\n",
       "H2O_cluster_version:        3.30.1.3\n",
       "H2O_cluster_version_age:    7 days, 6 hours and 46 minutes\n",
       "H2O_cluster_name:           H2O_from_python_Simone_qewune\n",
       "H2O_cluster_total_nodes:    1\n",
       "H2O_cluster_free_memory:    2.643 Gb\n",
       "H2O_cluster_total_cores:    4\n",
       "H2O_cluster_allowed_cores:  4\n",
       "H2O_cluster_status:         accepting new members, healthy\n",
       "H2O_connection_url:         http://127.0.0.1:54321\n",
       "H2O_connection_proxy:       {\"http\": null, \"https\": null}\n",
       "H2O_internal_security:      False\n",
       "H2O_API_Extensions:         Amazon S3, Algos, AutoML, Core V3, TargetEncoder, Core V4\n",
       "Python_version:             3.7.7 final\n",
       "--------------------------  ---------------------------------------------------------"
      ]
     },
     "metadata": {},
     "output_type": "display_data"
    },
    {
     "name": "stdout",
     "output_type": "stream",
     "text": [
      "Computing distance matrix... Mon Oct  5 22:15:18 2020\n",
      "Start CV... Mon Oct  5 22:29:03 2020\n",
      "Train and test...\n",
      "Parse progress: |█████████████████████████████████████████████████████████| 100%\n",
      "Parse progress: |█████████████████████████████████████████████████████████| 100%\n",
      "done... Mon Oct  5 23:10:43 2020 model...\n",
      "drf Model Build progress: |███████████████████████████████████████████████| 100%\n",
      "drf prediction progress: |████████████████████████████████████████████████| 100%\n",
      "done Mon Oct  5 23:11:07 2020\n",
      "Train and test...\n",
      "Parse progress: |█████████████████████████████████████████████████████████| 100%\n",
      "Parse progress: |█████████████████████████████████████████████████████████| 100%\n",
      "done... Mon Oct  5 23:55:29 2020 model...\n",
      "drf Model Build progress: |███████████████████████████████████████████████| 100%\n",
      "drf prediction progress: |████████████████████████████████████████████████| 100%\n",
      "done Mon Oct  5 23:55:49 2020\n",
      "Train and test...\n",
      "Parse progress: |█████████████████████████████████████████████████████████| 100%\n",
      "Parse progress: |█████████████████████████████████████████████████████████| 100%\n",
      "done... Tue Oct  6 00:37:54 2020 model...\n",
      "drf Model Build progress: |███████████████████████████████████████████████| 100%\n",
      "drf prediction progress: |████████████████████████████████████████████████| 100%\n",
      "done Tue Oct  6 00:38:13 2020\n",
      "Train and test...\n",
      "Parse progress: |█████████████████████████████████████████████████████████| 100%\n",
      "Parse progress: |█████████████████████████████████████████████████████████| 100%\n",
      "done... Tue Oct  6 01:21:15 2020 model...\n",
      "drf Model Build progress: |███████████████████████████████████████████████| 100%\n",
      "drf prediction progress: |████████████████████████████████████████████████| 100%\n",
      "done Tue Oct  6 01:21:35 2020\n",
      "Train and test...\n",
      "Parse progress: |█████████████████████████████████████████████████████████| 100%\n",
      "Parse progress: |█████████████████████████████████████████████████████████| 100%\n",
      "done... Tue Oct  6 02:04:35 2020 model...\n",
      "drf Model Build progress: |███████████████████████████████████████████████| 100%\n",
      "drf prediction progress: |████████████████████████████████████████████████| 100%\n",
      "done Tue Oct  6 02:04:55 2020\n",
      "...END DataFusion RASAR Tue Oct  6 02:04:55 2020\n",
      "Accuracy: \t 0.7636147856183838, se: 0.0021904705949778456\n",
      "RMSE: \t\t 0.6452911198108733, se: 0.010698896466978414\n",
      "W. Recall: \t 0.7636147856183838, se: 0.0021904705949778456\n",
      "W. Precision: \t 0.763513955089995, se: 0.0022574760881711054\n"
     ]
    }
   ],
   "source": [
    "from helper_rasar_datafusion_multiclass import *\n",
    "\n",
    "db_mortality, db_datafusion = load_datafusion_datasets('data/lc_db_processed.csv', 'data/datafusion_db_processed.csv',\n",
    "                                                      encoding = 'multiclass')\n",
    "\n",
    "categorical = ['class', 'tax_order', 'family', 'genus', \"species\", 'control_type', 'media_type',\n",
    "               'application_freq_unit',\"exposure_type\", \"conc1_type\", 'obs_duration_mean']\n",
    "\n",
    "non_categorical = ['ring_number', 'tripleBond', 'doubleBond', 'alone_atom_number', 'oh_count',\n",
    "               'atom_number', 'bonds_number', 'Mol', 'MorganDensity', 'LogP']\n",
    "\n",
    "X = db_mortality.drop(columns = 'conc1_mean').copy()\n",
    "y = db_mortality.conc1_mean.values\n",
    "\n",
    "del db_mortality\n",
    "\n",
    "cv_datafusion_rasar_multiclass(X, y, db_datafusion)"
   ]
  },
  {
   "cell_type": "markdown",
   "metadata": {},
   "source": [
    "### Depth tuning"
   ]
  },
  {
   "cell_type": "code",
   "execution_count": 1,
   "metadata": {
    "collapsed": true
   },
   "outputs": [
    {
     "name": "stdout",
     "output_type": "stream",
     "text": [
      "Checking whether there is an H2O instance running at http://localhost:54321 ..... not found.\n",
      "Attempting to start a local H2O server...\n",
      "; Java HotSpot(TM) 64-Bit Server VM (build 25.231-b11, mixed mode)\n",
      "  Starting server from C:\\Users\\Simone\\Anaconda3\\lib\\site-packages\\h2o\\backend\\bin\\h2o.jar\n",
      "  Ice root: C:\\Users\\Simone\\AppData\\Local\\Temp\\tmplebk10pf\n",
      "  JVM stdout: C:\\Users\\Simone\\AppData\\Local\\Temp\\tmplebk10pf\\h2o_Simone_started_from_python.out\n",
      "  JVM stderr: C:\\Users\\Simone\\AppData\\Local\\Temp\\tmplebk10pf\\h2o_Simone_started_from_python.err\n",
      "  Server is running at http://127.0.0.1:54321\n",
      "Connecting to H2O server at http://127.0.0.1:54321 ... successful.\n"
     ]
    },
    {
     "data": {
      "text/html": [
       "<div style=\"overflow:auto\"><table style=\"width:50%\"><tr><td>H2O_cluster_uptime:</td>\n",
       "<td>03 secs</td></tr>\n",
       "<tr><td>H2O_cluster_timezone:</td>\n",
       "<td>Europe/Berlin</td></tr>\n",
       "<tr><td>H2O_data_parsing_timezone:</td>\n",
       "<td>UTC</td></tr>\n",
       "<tr><td>H2O_cluster_version:</td>\n",
       "<td>3.30.1.3</td></tr>\n",
       "<tr><td>H2O_cluster_version_age:</td>\n",
       "<td>15 days </td></tr>\n",
       "<tr><td>H2O_cluster_name:</td>\n",
       "<td>H2O_from_python_Simone_5nb846</td></tr>\n",
       "<tr><td>H2O_cluster_total_nodes:</td>\n",
       "<td>1</td></tr>\n",
       "<tr><td>H2O_cluster_free_memory:</td>\n",
       "<td>2.643 Gb</td></tr>\n",
       "<tr><td>H2O_cluster_total_cores:</td>\n",
       "<td>4</td></tr>\n",
       "<tr><td>H2O_cluster_allowed_cores:</td>\n",
       "<td>4</td></tr>\n",
       "<tr><td>H2O_cluster_status:</td>\n",
       "<td>accepting new members, healthy</td></tr>\n",
       "<tr><td>H2O_connection_url:</td>\n",
       "<td>http://127.0.0.1:54321</td></tr>\n",
       "<tr><td>H2O_connection_proxy:</td>\n",
       "<td>{\"http\": null, \"https\": null}</td></tr>\n",
       "<tr><td>H2O_internal_security:</td>\n",
       "<td>False</td></tr>\n",
       "<tr><td>H2O_API_Extensions:</td>\n",
       "<td>Amazon S3, Algos, AutoML, Core V3, TargetEncoder, Core V4</td></tr>\n",
       "<tr><td>Python_version:</td>\n",
       "<td>3.7.7 final</td></tr></table></div>"
      ],
      "text/plain": [
       "--------------------------  ---------------------------------------------------------\n",
       "H2O_cluster_uptime:         03 secs\n",
       "H2O_cluster_timezone:       Europe/Berlin\n",
       "H2O_data_parsing_timezone:  UTC\n",
       "H2O_cluster_version:        3.30.1.3\n",
       "H2O_cluster_version_age:    15 days\n",
       "H2O_cluster_name:           H2O_from_python_Simone_5nb846\n",
       "H2O_cluster_total_nodes:    1\n",
       "H2O_cluster_free_memory:    2.643 Gb\n",
       "H2O_cluster_total_cores:    4\n",
       "H2O_cluster_allowed_cores:  4\n",
       "H2O_cluster_status:         accepting new members, healthy\n",
       "H2O_connection_url:         http://127.0.0.1:54321\n",
       "H2O_connection_proxy:       {\"http\": null, \"https\": null}\n",
       "H2O_internal_security:      False\n",
       "H2O_API_Extensions:         Amazon S3, Algos, AutoML, Core V3, TargetEncoder, Core V4\n",
       "Python_version:             3.7.7 final\n",
       "--------------------------  ---------------------------------------------------------"
      ]
     },
     "metadata": {},
     "output_type": "display_data"
    },
    {
     "name": "stdout",
     "output_type": "stream",
     "text": [
      "Computing distance matrix... Tue Oct 13 23:20:28 2020\n",
      "Start CV... Tue Oct 13 23:25:54 2020\n",
      "Train and test... Tue Oct 13 23:25:56 2020Parse progress: |█████████████████████████████████████████████████████████| 100%\n",
      "Parse progress: |█████████████████████████████████████████████████████████| 100%\n",
      "done... models... Wed Oct 14 00:08:18 2020drf Grid Build progress: |████████████████████████████████████████████████| 100%\n",
      "drf prediction progress: |████████████████████████████████████████████████| 100%\n",
      "drf prediction progress: |████████████████████████████████████████████████| 100%\n"
     ]
    },
    {
     "name": "stderr",
     "output_type": "stream",
     "text": [
      "C:\\Users\\Simone\\Anaconda3\\lib\\site-packages\\h2o\\job.py:70: UserWarning: Test/Validation dataset column 'LOEC_BEH_label' has levels not trained on: [2.0, 3.0]\n",
      "  warnings.warn(w)\n"
     ]
    },
    {
     "name": "stdout",
     "output_type": "stream",
     "text": [
      "drf prediction progress: |████████████████████████████████████████████████| 100%\n",
      "drf prediction progress: |████████████████████████████████████████████████| 100%\n"
     ]
    },
    {
     "name": "stderr",
     "output_type": "stream",
     "text": [
      "C:\\Users\\Simone\\Anaconda3\\lib\\site-packages\\h2o\\job.py:70: UserWarning: Test/Validation dataset column 'LOEC_BEH_label' has levels not trained on: [2.0, 3.0]\n",
      "  warnings.warn(w)\n"
     ]
    },
    {
     "name": "stdout",
     "output_type": "stream",
     "text": [
      "drf prediction progress: |████████████████████████████████████████████████| 100%\n",
      "drf prediction progress: |████████████████████████████████████████████████| 100%\n"
     ]
    },
    {
     "name": "stderr",
     "output_type": "stream",
     "text": [
      "C:\\Users\\Simone\\Anaconda3\\lib\\site-packages\\h2o\\job.py:70: UserWarning: Test/Validation dataset column 'LOEC_BEH_label' has levels not trained on: [2.0, 3.0]\n",
      "  warnings.warn(w)\n"
     ]
    },
    {
     "name": "stdout",
     "output_type": "stream",
     "text": [
      "drf prediction progress: |████████████████████████████████████████████████| 100%\n",
      "drf prediction progress: |████████████████████████████████████████████████| 100%\n"
     ]
    },
    {
     "name": "stderr",
     "output_type": "stream",
     "text": [
      "C:\\Users\\Simone\\Anaconda3\\lib\\site-packages\\h2o\\job.py:70: UserWarning: Test/Validation dataset column 'LOEC_BEH_label' has levels not trained on: [2.0, 3.0]\n",
      "  warnings.warn(w)\n"
     ]
    },
    {
     "name": "stdout",
     "output_type": "stream",
     "text": [
      "drf prediction progress: |████████████████████████████████████████████████| 100%\n",
      "drf prediction progress: |████████████████████████████████████████████████| 100%\n"
     ]
    },
    {
     "name": "stderr",
     "output_type": "stream",
     "text": [
      "C:\\Users\\Simone\\Anaconda3\\lib\\site-packages\\h2o\\job.py:70: UserWarning: Test/Validation dataset column 'LOEC_BEH_label' has levels not trained on: [2.0, 3.0]\n",
      "  warnings.warn(w)\n"
     ]
    },
    {
     "name": "stdout",
     "output_type": "stream",
     "text": [
      "drf prediction progress: |████████████████████████████████████████████████| 100%\n",
      "drf prediction progress: |████████████████████████████████████████████████| 100%\n"
     ]
    },
    {
     "name": "stderr",
     "output_type": "stream",
     "text": [
      "C:\\Users\\Simone\\Anaconda3\\lib\\site-packages\\h2o\\job.py:70: UserWarning: Test/Validation dataset column 'LOEC_BEH_label' has levels not trained on: [2.0, 3.0]\n",
      "  warnings.warn(w)\n"
     ]
    },
    {
     "name": "stdout",
     "output_type": "stream",
     "text": [
      "drf prediction progress: |████████████████████████████████████████████████| 100%\n",
      "drf prediction progress: |████████████████████████████████████████████████| 100%\n"
     ]
    },
    {
     "name": "stderr",
     "output_type": "stream",
     "text": [
      "C:\\Users\\Simone\\Anaconda3\\lib\\site-packages\\h2o\\job.py:70: UserWarning: Test/Validation dataset column 'LOEC_BEH_label' has levels not trained on: [2.0, 3.0]\n",
      "  warnings.warn(w)\n"
     ]
    },
    {
     "name": "stdout",
     "output_type": "stream",
     "text": [
      "drf prediction progress: |████████████████████████████████████████████████| 100%\n",
      "drf prediction progress: |████████████████████████████████████████████████| 100%\n"
     ]
    },
    {
     "name": "stderr",
     "output_type": "stream",
     "text": [
      "C:\\Users\\Simone\\Anaconda3\\lib\\site-packages\\h2o\\job.py:70: UserWarning: Test/Validation dataset column 'LOEC_BEH_label' has levels not trained on: [2.0, 3.0]\n",
      "  warnings.warn(w)\n"
     ]
    },
    {
     "name": "stdout",
     "output_type": "stream",
     "text": [
      "drf prediction progress: |████████████████████████████████████████████████| 100%\n",
      "drf prediction progress: |████████████████████████████████████████████████| 100%\n"
     ]
    },
    {
     "name": "stderr",
     "output_type": "stream",
     "text": [
      "C:\\Users\\Simone\\Anaconda3\\lib\\site-packages\\h2o\\job.py:70: UserWarning: Test/Validation dataset column 'LOEC_BEH_label' has levels not trained on: [2.0, 3.0]\n",
      "  warnings.warn(w)\n"
     ]
    },
    {
     "name": "stdout",
     "output_type": "stream",
     "text": [
      "drf prediction progress: |████████████████████████████████████████████████| 100%\n",
      "drf prediction progress: |████████████████████████████████████████████████| 100%\n"
     ]
    },
    {
     "name": "stderr",
     "output_type": "stream",
     "text": [
      "C:\\Users\\Simone\\Anaconda3\\lib\\site-packages\\h2o\\job.py:70: UserWarning: Test/Validation dataset column 'LOEC_BEH_label' has levels not trained on: [2.0, 3.0]\n",
      "  warnings.warn(w)\n"
     ]
    },
    {
     "name": "stdout",
     "output_type": "stream",
     "text": [
      "Train and test... Wed Oct 14 00:11:25 2020Parse progress: |█████████████████████████████████████████████████████████| 100%\n",
      "Parse progress: |█████████████████████████████████████████████████████████| 100%\n",
      "done... models... Wed Oct 14 00:53:46 2020drf Grid Build progress: |████████████████████████████████████████████████| 100%\n",
      "drf prediction progress: |████████████████████████████████████████████████| 100%\n",
      "drf prediction progress: |████████████████████████████████████████████████| 100%\n"
     ]
    },
    {
     "name": "stderr",
     "output_type": "stream",
     "text": [
      "C:\\Users\\Simone\\Anaconda3\\lib\\site-packages\\h2o\\job.py:70: UserWarning: Test/Validation dataset column 'NOEC_CEL_label' has levels not trained on: [2.0]\n",
      "  warnings.warn(w)\n"
     ]
    },
    {
     "name": "stdout",
     "output_type": "stream",
     "text": [
      "drf prediction progress: |████████████████████████████████████████████████| 100%\n",
      "drf prediction progress: |████████████████████████████████████████████████| 100%\n"
     ]
    },
    {
     "name": "stderr",
     "output_type": "stream",
     "text": [
      "C:\\Users\\Simone\\Anaconda3\\lib\\site-packages\\h2o\\job.py:70: UserWarning: Test/Validation dataset column 'NOEC_CEL_label' has levels not trained on: [2.0]\n",
      "  warnings.warn(w)\n"
     ]
    },
    {
     "name": "stdout",
     "output_type": "stream",
     "text": [
      "drf prediction progress: |████████████████████████████████████████████████| 100%\n",
      "drf prediction progress: |████████████████████████████████████████████████| 100%\n"
     ]
    },
    {
     "name": "stderr",
     "output_type": "stream",
     "text": [
      "C:\\Users\\Simone\\Anaconda3\\lib\\site-packages\\h2o\\job.py:70: UserWarning: Test/Validation dataset column 'NOEC_CEL_label' has levels not trained on: [2.0]\n",
      "  warnings.warn(w)\n"
     ]
    },
    {
     "name": "stdout",
     "output_type": "stream",
     "text": [
      "drf prediction progress: |████████████████████████████████████████████████| 100%\n",
      "drf prediction progress: |████████████████████████████████████████████████| 100%\n"
     ]
    },
    {
     "name": "stderr",
     "output_type": "stream",
     "text": [
      "C:\\Users\\Simone\\Anaconda3\\lib\\site-packages\\h2o\\job.py:70: UserWarning: Test/Validation dataset column 'NOEC_CEL_label' has levels not trained on: [2.0]\n",
      "  warnings.warn(w)\n"
     ]
    },
    {
     "name": "stdout",
     "output_type": "stream",
     "text": [
      "drf prediction progress: |████████████████████████████████████████████████| 100%\n",
      "drf prediction progress: |████████████████████████████████████████████████| 100%\n"
     ]
    },
    {
     "name": "stderr",
     "output_type": "stream",
     "text": [
      "C:\\Users\\Simone\\Anaconda3\\lib\\site-packages\\h2o\\job.py:70: UserWarning: Test/Validation dataset column 'NOEC_CEL_label' has levels not trained on: [2.0]\n",
      "  warnings.warn(w)\n"
     ]
    },
    {
     "name": "stdout",
     "output_type": "stream",
     "text": [
      "drf prediction progress: |████████████████████████████████████████████████| 100%\n",
      "drf prediction progress: |████████████████████████████████████████████████| 100%\n"
     ]
    },
    {
     "name": "stderr",
     "output_type": "stream",
     "text": [
      "C:\\Users\\Simone\\Anaconda3\\lib\\site-packages\\h2o\\job.py:70: UserWarning: Test/Validation dataset column 'NOEC_CEL_label' has levels not trained on: [2.0]\n",
      "  warnings.warn(w)\n"
     ]
    },
    {
     "name": "stdout",
     "output_type": "stream",
     "text": [
      "drf prediction progress: |████████████████████████████████████████████████| 100%\n",
      "drf prediction progress: |████████████████████████████████████████████████| 100%\n"
     ]
    },
    {
     "name": "stderr",
     "output_type": "stream",
     "text": [
      "C:\\Users\\Simone\\Anaconda3\\lib\\site-packages\\h2o\\job.py:70: UserWarning: Test/Validation dataset column 'NOEC_CEL_label' has levels not trained on: [2.0]\n",
      "  warnings.warn(w)\n"
     ]
    },
    {
     "name": "stdout",
     "output_type": "stream",
     "text": [
      "drf prediction progress: |████████████████████████████████████████████████| 100%\n",
      "drf prediction progress: |████████████████████████████████████████████████| 100%\n"
     ]
    },
    {
     "name": "stderr",
     "output_type": "stream",
     "text": [
      "C:\\Users\\Simone\\Anaconda3\\lib\\site-packages\\h2o\\job.py:70: UserWarning: Test/Validation dataset column 'NOEC_CEL_label' has levels not trained on: [2.0]\n",
      "  warnings.warn(w)\n"
     ]
    },
    {
     "name": "stdout",
     "output_type": "stream",
     "text": [
      "drf prediction progress: |████████████████████████████████████████████████| 100%\n",
      "drf prediction progress: |████████████████████████████████████████████████| 100%\n"
     ]
    },
    {
     "name": "stderr",
     "output_type": "stream",
     "text": [
      "C:\\Users\\Simone\\Anaconda3\\lib\\site-packages\\h2o\\job.py:70: UserWarning: Test/Validation dataset column 'NOEC_CEL_label' has levels not trained on: [2.0]\n",
      "  warnings.warn(w)\n"
     ]
    },
    {
     "name": "stdout",
     "output_type": "stream",
     "text": [
      "drf prediction progress: |████████████████████████████████████████████████| 100%\n",
      "drf prediction progress: |████████████████████████████████████████████████| 100%\n"
     ]
    },
    {
     "name": "stderr",
     "output_type": "stream",
     "text": [
      "C:\\Users\\Simone\\Anaconda3\\lib\\site-packages\\h2o\\job.py:70: UserWarning: Test/Validation dataset column 'NOEC_CEL_label' has levels not trained on: [2.0]\n",
      "  warnings.warn(w)\n"
     ]
    },
    {
     "name": "stdout",
     "output_type": "stream",
     "text": [
      "Train and test... Wed Oct 14 00:56:48 2020Parse progress: |█████████████████████████████████████████████████████████| 100%\n",
      "Parse progress: |█████████████████████████████████████████████████████████| 100%\n",
      "done... models... Wed Oct 14 01:39:23 2020drf Grid Build progress: |████████████████████████████████████████████████| 100%\n",
      "drf prediction progress: |████████████████████████████████████████████████| 100%\n",
      "drf prediction progress: |████████████████████████████████████████████████| 100%\n"
     ]
    },
    {
     "name": "stderr",
     "output_type": "stream",
     "text": [
      "C:\\Users\\Simone\\Anaconda3\\lib\\site-packages\\h2o\\job.py:70: UserWarning: Test/Validation dataset column 'LOEC_BEH_label' has levels not trained on: [1.0]\n",
      "  warnings.warn(w)\n",
      "C:\\Users\\Simone\\Anaconda3\\lib\\site-packages\\h2o\\job.py:70: UserWarning: Test/Validation dataset column 'NOEC_CEL_label' has levels not trained on: [4.0]\n",
      "  warnings.warn(w)\n"
     ]
    },
    {
     "name": "stdout",
     "output_type": "stream",
     "text": [
      "drf prediction progress: |████████████████████████████████████████████████| 100%\n",
      "drf prediction progress: |████████████████████████████████████████████████| 100%\n"
     ]
    },
    {
     "name": "stderr",
     "output_type": "stream",
     "text": [
      "C:\\Users\\Simone\\Anaconda3\\lib\\site-packages\\h2o\\job.py:70: UserWarning: Test/Validation dataset column 'LOEC_BEH_label' has levels not trained on: [1.0]\n",
      "  warnings.warn(w)\n",
      "C:\\Users\\Simone\\Anaconda3\\lib\\site-packages\\h2o\\job.py:70: UserWarning: Test/Validation dataset column 'NOEC_CEL_label' has levels not trained on: [4.0]\n",
      "  warnings.warn(w)\n"
     ]
    },
    {
     "name": "stdout",
     "output_type": "stream",
     "text": [
      "drf prediction progress: |████████████████████████████████████████████████| 100%\n",
      "drf prediction progress: |████████████████████████████████████████████████| 100%\n"
     ]
    },
    {
     "name": "stderr",
     "output_type": "stream",
     "text": [
      "C:\\Users\\Simone\\Anaconda3\\lib\\site-packages\\h2o\\job.py:70: UserWarning: Test/Validation dataset column 'LOEC_BEH_label' has levels not trained on: [1.0]\n",
      "  warnings.warn(w)\n",
      "C:\\Users\\Simone\\Anaconda3\\lib\\site-packages\\h2o\\job.py:70: UserWarning: Test/Validation dataset column 'NOEC_CEL_label' has levels not trained on: [4.0]\n",
      "  warnings.warn(w)\n"
     ]
    },
    {
     "name": "stdout",
     "output_type": "stream",
     "text": [
      "drf prediction progress: |████████████████████████████████████████████████| 100%\n",
      "drf prediction progress: |████████████████████████████████████████████████| 100%\n"
     ]
    },
    {
     "name": "stderr",
     "output_type": "stream",
     "text": [
      "C:\\Users\\Simone\\Anaconda3\\lib\\site-packages\\h2o\\job.py:70: UserWarning: Test/Validation dataset column 'LOEC_BEH_label' has levels not trained on: [1.0]\n",
      "  warnings.warn(w)\n",
      "C:\\Users\\Simone\\Anaconda3\\lib\\site-packages\\h2o\\job.py:70: UserWarning: Test/Validation dataset column 'NOEC_CEL_label' has levels not trained on: [4.0]\n",
      "  warnings.warn(w)\n"
     ]
    },
    {
     "name": "stdout",
     "output_type": "stream",
     "text": [
      "drf prediction progress: |████████████████████████████████████████████████| 100%\n",
      "drf prediction progress: |████████████████████████████████████████████████| 100%\n"
     ]
    },
    {
     "name": "stderr",
     "output_type": "stream",
     "text": [
      "C:\\Users\\Simone\\Anaconda3\\lib\\site-packages\\h2o\\job.py:70: UserWarning: Test/Validation dataset column 'LOEC_BEH_label' has levels not trained on: [1.0]\n",
      "  warnings.warn(w)\n",
      "C:\\Users\\Simone\\Anaconda3\\lib\\site-packages\\h2o\\job.py:70: UserWarning: Test/Validation dataset column 'NOEC_CEL_label' has levels not trained on: [4.0]\n",
      "  warnings.warn(w)\n"
     ]
    },
    {
     "name": "stdout",
     "output_type": "stream",
     "text": [
      "drf prediction progress: |████████████████████████████████████████████████| 100%\n",
      "drf prediction progress: |████████████████████████████████████████████████| 100%\n"
     ]
    },
    {
     "name": "stderr",
     "output_type": "stream",
     "text": [
      "C:\\Users\\Simone\\Anaconda3\\lib\\site-packages\\h2o\\job.py:70: UserWarning: Test/Validation dataset column 'LOEC_BEH_label' has levels not trained on: [1.0]\n",
      "  warnings.warn(w)\n",
      "C:\\Users\\Simone\\Anaconda3\\lib\\site-packages\\h2o\\job.py:70: UserWarning: Test/Validation dataset column 'NOEC_CEL_label' has levels not trained on: [4.0]\n",
      "  warnings.warn(w)\n"
     ]
    },
    {
     "name": "stdout",
     "output_type": "stream",
     "text": [
      "drf prediction progress: |████████████████████████████████████████████████| 100%\n",
      "drf prediction progress: |████████████████████████████████████████████████| 100%\n"
     ]
    },
    {
     "name": "stderr",
     "output_type": "stream",
     "text": [
      "C:\\Users\\Simone\\Anaconda3\\lib\\site-packages\\h2o\\job.py:70: UserWarning: Test/Validation dataset column 'LOEC_BEH_label' has levels not trained on: [1.0]\n",
      "  warnings.warn(w)\n",
      "C:\\Users\\Simone\\Anaconda3\\lib\\site-packages\\h2o\\job.py:70: UserWarning: Test/Validation dataset column 'NOEC_CEL_label' has levels not trained on: [4.0]\n",
      "  warnings.warn(w)\n"
     ]
    },
    {
     "name": "stdout",
     "output_type": "stream",
     "text": [
      "drf prediction progress: |████████████████████████████████████████████████| 100%\n",
      "drf prediction progress: |████████████████████████████████████████████████| 100%\n"
     ]
    },
    {
     "name": "stderr",
     "output_type": "stream",
     "text": [
      "C:\\Users\\Simone\\Anaconda3\\lib\\site-packages\\h2o\\job.py:70: UserWarning: Test/Validation dataset column 'LOEC_BEH_label' has levels not trained on: [1.0]\n",
      "  warnings.warn(w)\n",
      "C:\\Users\\Simone\\Anaconda3\\lib\\site-packages\\h2o\\job.py:70: UserWarning: Test/Validation dataset column 'NOEC_CEL_label' has levels not trained on: [4.0]\n",
      "  warnings.warn(w)\n"
     ]
    },
    {
     "name": "stdout",
     "output_type": "stream",
     "text": [
      "drf prediction progress: |████████████████████████████████████████████████| 100%\n",
      "drf prediction progress: |████████████████████████████████████████████████| 100%\n"
     ]
    },
    {
     "name": "stderr",
     "output_type": "stream",
     "text": [
      "C:\\Users\\Simone\\Anaconda3\\lib\\site-packages\\h2o\\job.py:70: UserWarning: Test/Validation dataset column 'LOEC_BEH_label' has levels not trained on: [1.0]\n",
      "  warnings.warn(w)\n",
      "C:\\Users\\Simone\\Anaconda3\\lib\\site-packages\\h2o\\job.py:70: UserWarning: Test/Validation dataset column 'NOEC_CEL_label' has levels not trained on: [4.0]\n",
      "  warnings.warn(w)\n"
     ]
    },
    {
     "name": "stdout",
     "output_type": "stream",
     "text": [
      "drf prediction progress: |████████████████████████████████████████████████| 100%\n",
      "drf prediction progress: |████████████████████████████████████████████████| 100%\n"
     ]
    },
    {
     "name": "stderr",
     "output_type": "stream",
     "text": [
      "C:\\Users\\Simone\\Anaconda3\\lib\\site-packages\\h2o\\job.py:70: UserWarning: Test/Validation dataset column 'LOEC_BEH_label' has levels not trained on: [1.0]\n",
      "  warnings.warn(w)\n",
      "C:\\Users\\Simone\\Anaconda3\\lib\\site-packages\\h2o\\job.py:70: UserWarning: Test/Validation dataset column 'NOEC_CEL_label' has levels not trained on: [4.0]\n",
      "  warnings.warn(w)\n"
     ]
    },
    {
     "name": "stdout",
     "output_type": "stream",
     "text": [
      "Train and test... Wed Oct 14 01:42:21 2020Parse progress: |█████████████████████████████████████████████████████████| 100%\n",
      "Parse progress: |█████████████████████████████████████████████████████████| 100%\n",
      "done... models... Wed Oct 14 02:24:56 2020drf Grid Build progress: |████████████████████████████████████████████████| 100%\n",
      "drf prediction progress: |████████████████████████████████████████████████| 100%\n",
      "drf prediction progress: |████████████████████████████████████████████████| 100%\n",
      "drf prediction progress: |████████████████████████████████████████████████| 100%\n",
      "drf prediction progress: |████████████████████████████████████████████████| 100%\n",
      "drf prediction progress: |████████████████████████████████████████████████| 100%\n",
      "drf prediction progress: |████████████████████████████████████████████████| 100%\n",
      "drf prediction progress: |████████████████████████████████████████████████| 100%\n",
      "drf prediction progress: |████████████████████████████████████████████████| 100%\n",
      "drf prediction progress: |████████████████████████████████████████████████| 100%\n",
      "drf prediction progress: |████████████████████████████████████████████████| 100%\n",
      "drf prediction progress: |████████████████████████████████████████████████| 100%\n",
      "drf prediction progress: |████████████████████████████████████████████████| 100%\n",
      "drf prediction progress: |████████████████████████████████████████████████| 100%\n",
      "drf prediction progress: |████████████████████████████████████████████████| 100%\n",
      "drf prediction progress: |████████████████████████████████████████████████| 100%\n",
      "drf prediction progress: |████████████████████████████████████████████████| 100%\n",
      "drf prediction progress: |████████████████████████████████████████████████| 100%\n",
      "drf prediction progress: |████████████████████████████████████████████████| 100%\n",
      "drf prediction progress: |████████████████████████████████████████████████| 100%\n",
      "drf prediction progress: |████████████████████████████████████████████████| 100%\n",
      "Train and test... Wed Oct 14 02:27:55 2020Parse progress: |█████████████████████████████████████████████████████████| 100%\n",
      "Parse progress: |█████████████████████████████████████████████████████████| 100%\n",
      "done... models... Wed Oct 14 03:10:33 2020drf Grid Build progress: |████████████████████████████████████████████████| 100%\n",
      "drf prediction progress: |████████████████████████████████████████████████| 100%\n",
      "drf prediction progress: |████████████████████████████████████████████████| 100%\n"
     ]
    },
    {
     "name": "stderr",
     "output_type": "stream",
     "text": [
      "C:\\Users\\Simone\\Anaconda3\\lib\\site-packages\\h2o\\job.py:70: UserWarning: Test/Validation dataset column 'NOEC_GEN_label' has levels not trained on: [2.0]\n",
      "  warnings.warn(w)\n"
     ]
    },
    {
     "name": "stdout",
     "output_type": "stream",
     "text": [
      "drf prediction progress: |████████████████████████████████████████████████| 100%\n",
      "drf prediction progress: |████████████████████████████████████████████████| 100%\n"
     ]
    },
    {
     "name": "stderr",
     "output_type": "stream",
     "text": [
      "C:\\Users\\Simone\\Anaconda3\\lib\\site-packages\\h2o\\job.py:70: UserWarning: Test/Validation dataset column 'NOEC_GEN_label' has levels not trained on: [2.0]\n",
      "  warnings.warn(w)\n"
     ]
    },
    {
     "name": "stdout",
     "output_type": "stream",
     "text": [
      "drf prediction progress: |████████████████████████████████████████████████| 100%\n",
      "drf prediction progress: |████████████████████████████████████████████████| 100%\n"
     ]
    },
    {
     "name": "stderr",
     "output_type": "stream",
     "text": [
      "C:\\Users\\Simone\\Anaconda3\\lib\\site-packages\\h2o\\job.py:70: UserWarning: Test/Validation dataset column 'NOEC_GEN_label' has levels not trained on: [2.0]\n",
      "  warnings.warn(w)\n"
     ]
    },
    {
     "name": "stdout",
     "output_type": "stream",
     "text": [
      "drf prediction progress: |████████████████████████████████████████████████| 100%\n",
      "drf prediction progress: |████████████████████████████████████████████████| 100%\n"
     ]
    },
    {
     "name": "stderr",
     "output_type": "stream",
     "text": [
      "C:\\Users\\Simone\\Anaconda3\\lib\\site-packages\\h2o\\job.py:70: UserWarning: Test/Validation dataset column 'NOEC_GEN_label' has levels not trained on: [2.0]\n",
      "  warnings.warn(w)\n"
     ]
    },
    {
     "name": "stdout",
     "output_type": "stream",
     "text": [
      "drf prediction progress: |████████████████████████████████████████████████| 100%\n",
      "drf prediction progress: |████████████████████████████████████████████████| 100%\n"
     ]
    },
    {
     "name": "stderr",
     "output_type": "stream",
     "text": [
      "C:\\Users\\Simone\\Anaconda3\\lib\\site-packages\\h2o\\job.py:70: UserWarning: Test/Validation dataset column 'NOEC_GEN_label' has levels not trained on: [2.0]\n",
      "  warnings.warn(w)\n"
     ]
    },
    {
     "name": "stdout",
     "output_type": "stream",
     "text": [
      "drf prediction progress: |████████████████████████████████████████████████| 100%\n",
      "drf prediction progress: |████████████████████████████████████████████████| 100%\n"
     ]
    },
    {
     "name": "stderr",
     "output_type": "stream",
     "text": [
      "C:\\Users\\Simone\\Anaconda3\\lib\\site-packages\\h2o\\job.py:70: UserWarning: Test/Validation dataset column 'NOEC_GEN_label' has levels not trained on: [2.0]\n",
      "  warnings.warn(w)\n"
     ]
    },
    {
     "name": "stdout",
     "output_type": "stream",
     "text": [
      "drf prediction progress: |████████████████████████████████████████████████| 100%\n",
      "drf prediction progress: |████████████████████████████████████████████████| 100%\n"
     ]
    },
    {
     "name": "stderr",
     "output_type": "stream",
     "text": [
      "C:\\Users\\Simone\\Anaconda3\\lib\\site-packages\\h2o\\job.py:70: UserWarning: Test/Validation dataset column 'NOEC_GEN_label' has levels not trained on: [2.0]\n",
      "  warnings.warn(w)\n"
     ]
    },
    {
     "name": "stdout",
     "output_type": "stream",
     "text": [
      "drf prediction progress: |████████████████████████████████████████████████| 100%\n",
      "drf prediction progress: |████████████████████████████████████████████████| 100%\n"
     ]
    },
    {
     "name": "stderr",
     "output_type": "stream",
     "text": [
      "C:\\Users\\Simone\\Anaconda3\\lib\\site-packages\\h2o\\job.py:70: UserWarning: Test/Validation dataset column 'NOEC_GEN_label' has levels not trained on: [2.0]\n",
      "  warnings.warn(w)\n"
     ]
    },
    {
     "name": "stdout",
     "output_type": "stream",
     "text": [
      "drf prediction progress: |████████████████████████████████████████████████| 100%\n",
      "drf prediction progress: |████████████████████████████████████████████████| 100%\n"
     ]
    },
    {
     "name": "stderr",
     "output_type": "stream",
     "text": [
      "C:\\Users\\Simone\\Anaconda3\\lib\\site-packages\\h2o\\job.py:70: UserWarning: Test/Validation dataset column 'NOEC_GEN_label' has levels not trained on: [2.0]\n",
      "  warnings.warn(w)\n"
     ]
    },
    {
     "name": "stdout",
     "output_type": "stream",
     "text": [
      "drf prediction progress: |████████████████████████████████████████████████| 100%\n",
      "drf prediction progress: |████████████████████████████████████████████████| 100%\n"
     ]
    },
    {
     "name": "stderr",
     "output_type": "stream",
     "text": [
      "C:\\Users\\Simone\\Anaconda3\\lib\\site-packages\\h2o\\job.py:70: UserWarning: Test/Validation dataset column 'NOEC_GEN_label' has levels not trained on: [2.0]\n",
      "  warnings.warn(w)\n"
     ]
    },
    {
     "name": "stdout",
     "output_type": "stream",
     "text": [
      "...END CV Wed Oct 14 03:13:29 2020\n"
     ]
    }
   ],
   "source": [
    "from helper_rasar_datafusion_multiclass import *\n",
    "from sklearn.model_selection import train_test_split\n",
    "\n",
    "db_mortality, db_datafusion = load_datafusion_datasets('data/lc_db_processed.csv', 'data/datafusion_db_processed.csv',\n",
    "                                                      encoding = 'multiclass')\n",
    "\n",
    "X = db_mortality.drop(columns = 'conc1_mean').copy()\n",
    "y = db_mortality.conc1_mean.values\n",
    "\n",
    "X_train, _, y_train, _ = train_test_split(X, y, test_size = 0.33, random_state = 42, stratify = y)\n",
    "\n",
    "del db_mortality, _, X, y\n",
    "\n",
    "max_depth_list = [5, 7, 10, 12, 16, 20, 23, 27, 30, 40]\n",
    "\n",
    "tab_depth_rasar = cv_depth_datafusion_rasar_multiclass(X_train, y_train, db_datafusion, max_depth_list)"
   ]
  },
  {
   "cell_type": "code",
   "execution_count": 2,
   "metadata": {
    "collapsed": true
   },
   "outputs": [
    {
     "data": {
      "text/html": [
       "<div>\n",
       "<style scoped>\n",
       "    .dataframe tbody tr th:only-of-type {\n",
       "        vertical-align: middle;\n",
       "    }\n",
       "\n",
       "    .dataframe tbody tr th {\n",
       "        vertical-align: top;\n",
       "    }\n",
       "\n",
       "    .dataframe thead th {\n",
       "        text-align: right;\n",
       "    }\n",
       "</style>\n",
       "<table border=\"1\" class=\"dataframe\">\n",
       "  <thead>\n",
       "    <tr style=\"text-align: right;\">\n",
       "      <th></th>\n",
       "      <th>max_depth</th>\n",
       "      <th>train_acc</th>\n",
       "      <th>test_acc</th>\n",
       "      <th>train_rmse</th>\n",
       "      <th>test_rmse</th>\n",
       "    </tr>\n",
       "  </thead>\n",
       "  <tbody>\n",
       "    <tr>\n",
       "      <th>0</th>\n",
       "      <td>5</td>\n",
       "      <td>0.689870</td>\n",
       "      <td>0.669966</td>\n",
       "      <td>0.789151</td>\n",
       "      <td>0.813870</td>\n",
       "    </tr>\n",
       "    <tr>\n",
       "      <th>1</th>\n",
       "      <td>7</td>\n",
       "      <td>0.723994</td>\n",
       "      <td>0.685922</td>\n",
       "      <td>0.735096</td>\n",
       "      <td>0.778700</td>\n",
       "    </tr>\n",
       "    <tr>\n",
       "      <th>2</th>\n",
       "      <td>10</td>\n",
       "      <td>0.791199</td>\n",
       "      <td>0.702157</td>\n",
       "      <td>0.635720</td>\n",
       "      <td>0.747105</td>\n",
       "    </tr>\n",
       "    <tr>\n",
       "      <th>3</th>\n",
       "      <td>12</td>\n",
       "      <td>0.845213</td>\n",
       "      <td>0.714111</td>\n",
       "      <td>0.538186</td>\n",
       "      <td>0.729750</td>\n",
       "    </tr>\n",
       "    <tr>\n",
       "      <th>4</th>\n",
       "      <td>16</td>\n",
       "      <td>0.944665</td>\n",
       "      <td>0.722673</td>\n",
       "      <td>0.296684</td>\n",
       "      <td>0.712962</td>\n",
       "    </tr>\n",
       "    <tr>\n",
       "      <th>5</th>\n",
       "      <td>20</td>\n",
       "      <td>0.982889</td>\n",
       "      <td>0.721061</td>\n",
       "      <td>0.156797</td>\n",
       "      <td>0.713569</td>\n",
       "    </tr>\n",
       "    <tr>\n",
       "      <th>6</th>\n",
       "      <td>23</td>\n",
       "      <td>0.989422</td>\n",
       "      <td>0.721783</td>\n",
       "      <td>0.123869</td>\n",
       "      <td>0.712223</td>\n",
       "    </tr>\n",
       "    <tr>\n",
       "      <th>7</th>\n",
       "      <td>27</td>\n",
       "      <td>0.991521</td>\n",
       "      <td>0.722117</td>\n",
       "      <td>0.113098</td>\n",
       "      <td>0.712126</td>\n",
       "    </tr>\n",
       "    <tr>\n",
       "      <th>8</th>\n",
       "      <td>30</td>\n",
       "      <td>0.991924</td>\n",
       "      <td>0.722562</td>\n",
       "      <td>0.110921</td>\n",
       "      <td>0.712820</td>\n",
       "    </tr>\n",
       "    <tr>\n",
       "      <th>9</th>\n",
       "      <td>40</td>\n",
       "      <td>0.992077</td>\n",
       "      <td>0.722506</td>\n",
       "      <td>0.110230</td>\n",
       "      <td>0.713003</td>\n",
       "    </tr>\n",
       "  </tbody>\n",
       "</table>\n",
       "</div>"
      ],
      "text/plain": [
       "   max_depth  train_acc  test_acc  train_rmse  test_rmse\n",
       "0          5   0.689870  0.669966    0.789151   0.813870\n",
       "1          7   0.723994  0.685922    0.735096   0.778700\n",
       "2         10   0.791199  0.702157    0.635720   0.747105\n",
       "3         12   0.845213  0.714111    0.538186   0.729750\n",
       "4         16   0.944665  0.722673    0.296684   0.712962\n",
       "5         20   0.982889  0.721061    0.156797   0.713569\n",
       "6         23   0.989422  0.721783    0.123869   0.712223\n",
       "7         27   0.991521  0.722117    0.113098   0.712126\n",
       "8         30   0.991924  0.722562    0.110921   0.712820\n",
       "9         40   0.992077  0.722506    0.110230   0.713003"
      ]
     },
     "execution_count": 2,
     "metadata": {},
     "output_type": "execute_result"
    }
   ],
   "source": [
    "tab_depth_rasar"
   ]
  },
  {
   "cell_type": "code",
   "execution_count": 5,
   "metadata": {},
   "outputs": [],
   "source": [
    "tab_depth_rasar.to_csv('output/datafusion_tuning_depth_multiclass.csv')"
   ]
  },
  {
   "cell_type": "code",
   "execution_count": 6,
   "metadata": {},
   "outputs": [
    {
     "data": {
      "text/plain": [
       "Text(0.5, 0, 'Depth')"
      ]
     },
     "execution_count": 6,
     "metadata": {},
     "output_type": "execute_result"
    },
    {
     "data": {
      "image/png": "[encoded data removed]",
      "text/plain": [
       "<Figure size 1080x288 with 2 Axes>"
      ]
     },
     "metadata": {
      "needs_background": "light"
     },
     "output_type": "display_data"
    }
   ],
   "source": [
    "import matplotlib.pyplot as plt\n",
    "\n",
    "plt.figure(figsize = (15,4))\n",
    "plt.subplot(1,2,1)\n",
    "plt.plot(tab_depth_rasar['max_depth'], tab_depth_rasar['train_acc'], '-o')\n",
    "plt.plot(tab_depth_rasar['max_depth'], tab_depth_rasar['test_acc'], '-o')\n",
    "plt.title('Accuracy')\n",
    "plt.xlabel('Depth')\n",
    "\n",
    "plt.subplot(1,2,2)\n",
    "plt.plot(tab_depth_rasar['max_depth'], tab_depth_rasar['train_rmse'], '-o')\n",
    "plt.plot(tab_depth_rasar['max_depth'], tab_depth_rasar['test_rmse'], '-o')\n",
    "plt.title('RMSE')\n",
    "plt.xlabel('Depth')"
   ]
  },
  {
   "cell_type": "markdown",
   "metadata": {},
   "source": [
    "### other hyperparameters tuning"
   ]
  },
  {
   "cell_type": "code",
   "execution_count": 1,
   "metadata": {
    "collapsed": true
   },
   "outputs": [
    {
     "name": "stdout",
     "output_type": "stream",
     "text": [
      "Checking whether there is an H2O instance running at http://localhost:54321 ..... not found.\n",
      "Attempting to start a local H2O server...\n",
      "; Java HotSpot(TM) 64-Bit Server VM (build 25.231-b11, mixed mode)\n",
      "  Starting server from C:\\Users\\Simone\\Anaconda3\\lib\\site-packages\\h2o\\backend\\bin\\h2o.jar\n",
      "  Ice root: C:\\Users\\Simone\\AppData\\Local\\Temp\\tmpwff4llne\n",
      "  JVM stdout: C:\\Users\\Simone\\AppData\\Local\\Temp\\tmpwff4llne\\h2o_Simone_started_from_python.out\n",
      "  JVM stderr: C:\\Users\\Simone\\AppData\\Local\\Temp\\tmpwff4llne\\h2o_Simone_started_from_python.err\n",
      "  Server is running at http://127.0.0.1:54321\n",
      "Connecting to H2O server at http://127.0.0.1:54321 ... successful.\n"
     ]
    },
    {
     "data": {
      "text/html": [
       "<div style=\"overflow:auto\"><table style=\"width:50%\"><tr><td>H2O_cluster_uptime:</td>\n",
       "<td>03 secs</td></tr>\n",
       "<tr><td>H2O_cluster_timezone:</td>\n",
       "<td>Europe/Berlin</td></tr>\n",
       "<tr><td>H2O_data_parsing_timezone:</td>\n",
       "<td>UTC</td></tr>\n",
       "<tr><td>H2O_cluster_version:</td>\n",
       "<td>3.30.1.3</td></tr>\n",
       "<tr><td>H2O_cluster_version_age:</td>\n",
       "<td>16 days </td></tr>\n",
       "<tr><td>H2O_cluster_name:</td>\n",
       "<td>H2O_from_python_Simone_y71ens</td></tr>\n",
       "<tr><td>H2O_cluster_total_nodes:</td>\n",
       "<td>1</td></tr>\n",
       "<tr><td>H2O_cluster_free_memory:</td>\n",
       "<td>2.643 Gb</td></tr>\n",
       "<tr><td>H2O_cluster_total_cores:</td>\n",
       "<td>4</td></tr>\n",
       "<tr><td>H2O_cluster_allowed_cores:</td>\n",
       "<td>4</td></tr>\n",
       "<tr><td>H2O_cluster_status:</td>\n",
       "<td>accepting new members, healthy</td></tr>\n",
       "<tr><td>H2O_connection_url:</td>\n",
       "<td>http://127.0.0.1:54321</td></tr>\n",
       "<tr><td>H2O_connection_proxy:</td>\n",
       "<td>{\"http\": null, \"https\": null}</td></tr>\n",
       "<tr><td>H2O_internal_security:</td>\n",
       "<td>False</td></tr>\n",
       "<tr><td>H2O_API_Extensions:</td>\n",
       "<td>Amazon S3, Algos, AutoML, Core V3, TargetEncoder, Core V4</td></tr>\n",
       "<tr><td>Python_version:</td>\n",
       "<td>3.7.7 final</td></tr></table></div>"
      ],
      "text/plain": [
       "--------------------------  ---------------------------------------------------------\n",
       "H2O_cluster_uptime:         03 secs\n",
       "H2O_cluster_timezone:       Europe/Berlin\n",
       "H2O_data_parsing_timezone:  UTC\n",
       "H2O_cluster_version:        3.30.1.3\n",
       "H2O_cluster_version_age:    16 days\n",
       "H2O_cluster_name:           H2O_from_python_Simone_y71ens\n",
       "H2O_cluster_total_nodes:    1\n",
       "H2O_cluster_free_memory:    2.643 Gb\n",
       "H2O_cluster_total_cores:    4\n",
       "H2O_cluster_allowed_cores:  4\n",
       "H2O_cluster_status:         accepting new members, healthy\n",
       "H2O_connection_url:         http://127.0.0.1:54321\n",
       "H2O_connection_proxy:       {\"http\": null, \"https\": null}\n",
       "H2O_internal_security:      False\n",
       "H2O_API_Extensions:         Amazon S3, Algos, AutoML, Core V3, TargetEncoder, Core V4\n",
       "Python_version:             3.7.7 final\n",
       "--------------------------  ---------------------------------------------------------"
      ]
     },
     "metadata": {},
     "output_type": "display_data"
    },
    {
     "name": "stdout",
     "output_type": "stream",
     "text": [
      "Computing distance matrix... Thu Oct 15 12:06:02 2020\n",
      "Start CV... Thu Oct 15 12:11:25 2020\n",
      "Train and test... Thu Oct 15 12:11:27 2020done... models... Thu Oct 15 12:55:23 2020done\n",
      "Train and test... Thu Oct 15 14:43:05 2020done... models... Thu Oct 15 15:26:56 2020"
     ]
    },
    {
     "name": "stderr",
     "output_type": "stream",
     "text": [
      "C:\\Users\\Simone\\Anaconda3\\lib\\site-packages\\h2o\\job.py:70: UserWarning: Test/Validation dataset column 'LOEC_BEH_label' has levels not trained on: [2.0]\n",
      "  warnings.warn(w)\n",
      "C:\\Users\\Simone\\Anaconda3\\lib\\site-packages\\h2o\\job.py:70: UserWarning: Test/Validation dataset column 'LOEC_BEH_label' has levels not trained on: [2.0]\n",
      "  warnings.warn(w)\n",
      "C:\\Users\\Simone\\Anaconda3\\lib\\site-packages\\h2o\\job.py:70: UserWarning: Test/Validation dataset column 'LOEC_BEH_label' has levels not trained on: [2.0]\n",
      "  warnings.warn(w)\n",
      "C:\\Users\\Simone\\Anaconda3\\lib\\site-packages\\h2o\\job.py:70: UserWarning: Test/Validation dataset column 'LOEC_BEH_label' has levels not trained on: [2.0]\n",
      "  warnings.warn(w)\n",
      "C:\\Users\\Simone\\Anaconda3\\lib\\site-packages\\h2o\\job.py:70: UserWarning: Test/Validation dataset column 'LOEC_BEH_label' has levels not trained on: [2.0]\n",
      "  warnings.warn(w)\n",
      "C:\\Users\\Simone\\Anaconda3\\lib\\site-packages\\h2o\\job.py:70: UserWarning: Test/Validation dataset column 'LOEC_BEH_label' has levels not trained on: [2.0]\n",
      "  warnings.warn(w)\n",
      "C:\\Users\\Simone\\Anaconda3\\lib\\site-packages\\h2o\\job.py:70: UserWarning: Test/Validation dataset column 'LOEC_BEH_label' has levels not trained on: [2.0]\n",
      "  warnings.warn(w)\n",
      "C:\\Users\\Simone\\Anaconda3\\lib\\site-packages\\h2o\\job.py:70: UserWarning: Test/Validation dataset column 'LOEC_BEH_label' has levels not trained on: [2.0]\n",
      "  warnings.warn(w)\n",
      "C:\\Users\\Simone\\Anaconda3\\lib\\site-packages\\h2o\\job.py:70: UserWarning: Test/Validation dataset column 'LOEC_BEH_label' has levels not trained on: [2.0]\n",
      "  warnings.warn(w)\n",
      "C:\\Users\\Simone\\Anaconda3\\lib\\site-packages\\h2o\\job.py:70: UserWarning: Test/Validation dataset column 'LOEC_BEH_label' has levels not trained on: [2.0]\n",
      "  warnings.warn(w)\n",
      "C:\\Users\\Simone\\Anaconda3\\lib\\site-packages\\h2o\\job.py:70: UserWarning: Test/Validation dataset column 'LOEC_BEH_label' has levels not trained on: [2.0]\n",
      "  warnings.warn(w)\n",
      "C:\\Users\\Simone\\Anaconda3\\lib\\site-packages\\h2o\\job.py:70: UserWarning: Test/Validation dataset column 'LOEC_BEH_label' has levels not trained on: [2.0]\n",
      "  warnings.warn(w)\n",
      "C:\\Users\\Simone\\Anaconda3\\lib\\site-packages\\h2o\\job.py:70: UserWarning: Test/Validation dataset column 'LOEC_BEH_label' has levels not trained on: [2.0]\n",
      "  warnings.warn(w)\n",
      "C:\\Users\\Simone\\Anaconda3\\lib\\site-packages\\h2o\\job.py:70: UserWarning: Test/Validation dataset column 'LOEC_BEH_label' has levels not trained on: [2.0]\n",
      "  warnings.warn(w)\n",
      "C:\\Users\\Simone\\Anaconda3\\lib\\site-packages\\h2o\\job.py:70: UserWarning: Test/Validation dataset column 'LOEC_BEH_label' has levels not trained on: [2.0]\n",
      "  warnings.warn(w)\n",
      "C:\\Users\\Simone\\Anaconda3\\lib\\site-packages\\h2o\\job.py:70: UserWarning: Test/Validation dataset column 'LOEC_BEH_label' has levels not trained on: [2.0]\n",
      "  warnings.warn(w)\n",
      "C:\\Users\\Simone\\Anaconda3\\lib\\site-packages\\h2o\\job.py:70: UserWarning: Test/Validation dataset column 'LOEC_BEH_label' has levels not trained on: [2.0]\n",
      "  warnings.warn(w)\n",
      "C:\\Users\\Simone\\Anaconda3\\lib\\site-packages\\h2o\\job.py:70: UserWarning: Test/Validation dataset column 'LOEC_BEH_label' has levels not trained on: [2.0]\n",
      "  warnings.warn(w)\n",
      "C:\\Users\\Simone\\Anaconda3\\lib\\site-packages\\h2o\\job.py:70: UserWarning: Test/Validation dataset column 'LOEC_BEH_label' has levels not trained on: [2.0]\n",
      "  warnings.warn(w)\n",
      "C:\\Users\\Simone\\Anaconda3\\lib\\site-packages\\h2o\\job.py:70: UserWarning: Test/Validation dataset column 'LOEC_BEH_label' has levels not trained on: [2.0]\n",
      "  warnings.warn(w)\n",
      "C:\\Users\\Simone\\Anaconda3\\lib\\site-packages\\h2o\\job.py:70: UserWarning: Test/Validation dataset column 'LOEC_BEH_label' has levels not trained on: [2.0]\n",
      "  warnings.warn(w)\n",
      "C:\\Users\\Simone\\Anaconda3\\lib\\site-packages\\h2o\\job.py:70: UserWarning: Test/Validation dataset column 'LOEC_BEH_label' has levels not trained on: [2.0]\n",
      "  warnings.warn(w)\n",
      "C:\\Users\\Simone\\Anaconda3\\lib\\site-packages\\h2o\\job.py:70: UserWarning: Test/Validation dataset column 'LOEC_BEH_label' has levels not trained on: [2.0]\n",
      "  warnings.warn(w)\n",
      "C:\\Users\\Simone\\Anaconda3\\lib\\site-packages\\h2o\\job.py:70: UserWarning: Test/Validation dataset column 'LOEC_BEH_label' has levels not trained on: [2.0]\n",
      "  warnings.warn(w)\n",
      "C:\\Users\\Simone\\Anaconda3\\lib\\site-packages\\h2o\\job.py:70: UserWarning: Test/Validation dataset column 'LOEC_BEH_label' has levels not trained on: [2.0]\n",
      "  warnings.warn(w)\n",
      "C:\\Users\\Simone\\Anaconda3\\lib\\site-packages\\h2o\\job.py:70: UserWarning: Test/Validation dataset column 'LOEC_BEH_label' has levels not trained on: [2.0]\n",
      "  warnings.warn(w)\n",
      "C:\\Users\\Simone\\Anaconda3\\lib\\site-packages\\h2o\\job.py:70: UserWarning: Test/Validation dataset column 'LOEC_BEH_label' has levels not trained on: [2.0]\n",
      "  warnings.warn(w)\n",
      "C:\\Users\\Simone\\Anaconda3\\lib\\site-packages\\h2o\\job.py:70: UserWarning: Test/Validation dataset column 'LOEC_BEH_label' has levels not trained on: [2.0]\n",
      "  warnings.warn(w)\n",
      "C:\\Users\\Simone\\Anaconda3\\lib\\site-packages\\h2o\\job.py:70: UserWarning: Test/Validation dataset column 'LOEC_BEH_label' has levels not trained on: [2.0]\n",
      "  warnings.warn(w)\n",
      "C:\\Users\\Simone\\Anaconda3\\lib\\site-packages\\h2o\\job.py:70: UserWarning: Test/Validation dataset column 'LOEC_BEH_label' has levels not trained on: [2.0]\n",
      "  warnings.warn(w)\n",
      "C:\\Users\\Simone\\Anaconda3\\lib\\site-packages\\h2o\\job.py:70: UserWarning: Test/Validation dataset column 'LOEC_BEH_label' has levels not trained on: [2.0]\n",
      "  warnings.warn(w)\n",
      "C:\\Users\\Simone\\Anaconda3\\lib\\site-packages\\h2o\\job.py:70: UserWarning: Test/Validation dataset column 'LOEC_BEH_label' has levels not trained on: [2.0]\n",
      "  warnings.warn(w)\n",
      "C:\\Users\\Simone\\Anaconda3\\lib\\site-packages\\h2o\\job.py:70: UserWarning: Test/Validation dataset column 'LOEC_BEH_label' has levels not trained on: [2.0]\n",
      "  warnings.warn(w)\n",
      "C:\\Users\\Simone\\Anaconda3\\lib\\site-packages\\h2o\\job.py:70: UserWarning: Test/Validation dataset column 'LOEC_BEH_label' has levels not trained on: [2.0]\n",
      "  warnings.warn(w)\n",
      "C:\\Users\\Simone\\Anaconda3\\lib\\site-packages\\h2o\\job.py:70: UserWarning: Test/Validation dataset column 'LOEC_BEH_label' has levels not trained on: [2.0]\n",
      "  warnings.warn(w)\n",
      "C:\\Users\\Simone\\Anaconda3\\lib\\site-packages\\h2o\\job.py:70: UserWarning: Test/Validation dataset column 'LOEC_BEH_label' has levels not trained on: [2.0]\n",
      "  warnings.warn(w)\n",
      "C:\\Users\\Simone\\Anaconda3\\lib\\site-packages\\h2o\\job.py:70: UserWarning: Test/Validation dataset column 'LOEC_BEH_label' has levels not trained on: [2.0]\n",
      "  warnings.warn(w)\n",
      "C:\\Users\\Simone\\Anaconda3\\lib\\site-packages\\h2o\\job.py:70: UserWarning: Test/Validation dataset column 'LOEC_BEH_label' has levels not trained on: [2.0]\n",
      "  warnings.warn(w)\n",
      "C:\\Users\\Simone\\Anaconda3\\lib\\site-packages\\h2o\\job.py:70: UserWarning: Test/Validation dataset column 'LOEC_BEH_label' has levels not trained on: [2.0]\n",
      "  warnings.warn(w)\n",
      "C:\\Users\\Simone\\Anaconda3\\lib\\site-packages\\h2o\\job.py:70: UserWarning: Test/Validation dataset column 'LOEC_BEH_label' has levels not trained on: [2.0]\n",
      "  warnings.warn(w)\n",
      "C:\\Users\\Simone\\Anaconda3\\lib\\site-packages\\h2o\\job.py:70: UserWarning: Test/Validation dataset column 'LOEC_BEH_label' has levels not trained on: [2.0]\n",
      "  warnings.warn(w)\n",
      "C:\\Users\\Simone\\Anaconda3\\lib\\site-packages\\h2o\\job.py:70: UserWarning: Test/Validation dataset column 'LOEC_BEH_label' has levels not trained on: [2.0]\n",
      "  warnings.warn(w)\n",
      "C:\\Users\\Simone\\Anaconda3\\lib\\site-packages\\h2o\\job.py:70: UserWarning: Test/Validation dataset column 'LOEC_BEH_label' has levels not trained on: [2.0]\n",
      "  warnings.warn(w)\n",
      "C:\\Users\\Simone\\Anaconda3\\lib\\site-packages\\h2o\\job.py:70: UserWarning: Test/Validation dataset column 'LOEC_BEH_label' has levels not trained on: [2.0]\n",
      "  warnings.warn(w)\n",
      "C:\\Users\\Simone\\Anaconda3\\lib\\site-packages\\h2o\\job.py:70: UserWarning: Test/Validation dataset column 'LOEC_BEH_label' has levels not trained on: [2.0]\n",
      "  warnings.warn(w)\n",
      "C:\\Users\\Simone\\Anaconda3\\lib\\site-packages\\h2o\\job.py:70: UserWarning: Test/Validation dataset column 'LOEC_BEH_label' has levels not trained on: [2.0]\n",
      "  warnings.warn(w)\n",
      "C:\\Users\\Simone\\Anaconda3\\lib\\site-packages\\h2o\\job.py:70: UserWarning: Test/Validation dataset column 'LOEC_BEH_label' has levels not trained on: [2.0]\n",
      "  warnings.warn(w)\n",
      "C:\\Users\\Simone\\Anaconda3\\lib\\site-packages\\h2o\\job.py:70: UserWarning: Test/Validation dataset column 'LOEC_BEH_label' has levels not trained on: [2.0]\n",
      "  warnings.warn(w)\n"
     ]
    },
    {
     "name": "stderr",
     "output_type": "stream",
     "text": [
      "C:\\Users\\Simone\\Anaconda3\\lib\\site-packages\\h2o\\job.py:70: UserWarning: Test/Validation dataset column 'LOEC_BEH_label' has levels not trained on: [2.0]\n",
      "  warnings.warn(w)\n",
      "C:\\Users\\Simone\\Anaconda3\\lib\\site-packages\\h2o\\job.py:70: UserWarning: Test/Validation dataset column 'LOEC_BEH_label' has levels not trained on: [2.0]\n",
      "  warnings.warn(w)\n",
      "C:\\Users\\Simone\\Anaconda3\\lib\\site-packages\\h2o\\job.py:70: UserWarning: Test/Validation dataset column 'LOEC_BEH_label' has levels not trained on: [2.0]\n",
      "  warnings.warn(w)\n",
      "C:\\Users\\Simone\\Anaconda3\\lib\\site-packages\\h2o\\job.py:70: UserWarning: Test/Validation dataset column 'LOEC_BEH_label' has levels not trained on: [2.0]\n",
      "  warnings.warn(w)\n",
      "C:\\Users\\Simone\\Anaconda3\\lib\\site-packages\\h2o\\job.py:70: UserWarning: Test/Validation dataset column 'LOEC_BEH_label' has levels not trained on: [2.0]\n",
      "  warnings.warn(w)\n",
      "C:\\Users\\Simone\\Anaconda3\\lib\\site-packages\\h2o\\job.py:70: UserWarning: Test/Validation dataset column 'LOEC_BEH_label' has levels not trained on: [2.0]\n",
      "  warnings.warn(w)\n",
      "C:\\Users\\Simone\\Anaconda3\\lib\\site-packages\\h2o\\job.py:70: UserWarning: Test/Validation dataset column 'LOEC_BEH_label' has levels not trained on: [2.0]\n",
      "  warnings.warn(w)\n",
      "C:\\Users\\Simone\\Anaconda3\\lib\\site-packages\\h2o\\job.py:70: UserWarning: Test/Validation dataset column 'LOEC_BEH_label' has levels not trained on: [2.0]\n",
      "  warnings.warn(w)\n",
      "C:\\Users\\Simone\\Anaconda3\\lib\\site-packages\\h2o\\job.py:70: UserWarning: Test/Validation dataset column 'LOEC_BEH_label' has levels not trained on: [2.0]\n",
      "  warnings.warn(w)\n",
      "C:\\Users\\Simone\\Anaconda3\\lib\\site-packages\\h2o\\job.py:70: UserWarning: Test/Validation dataset column 'LOEC_BEH_label' has levels not trained on: [2.0]\n",
      "  warnings.warn(w)\n",
      "C:\\Users\\Simone\\Anaconda3\\lib\\site-packages\\h2o\\job.py:70: UserWarning: Test/Validation dataset column 'LOEC_BEH_label' has levels not trained on: [2.0]\n",
      "  warnings.warn(w)\n",
      "C:\\Users\\Simone\\Anaconda3\\lib\\site-packages\\h2o\\job.py:70: UserWarning: Test/Validation dataset column 'LOEC_BEH_label' has levels not trained on: [2.0]\n",
      "  warnings.warn(w)\n",
      "C:\\Users\\Simone\\Anaconda3\\lib\\site-packages\\h2o\\job.py:70: UserWarning: Test/Validation dataset column 'LOEC_BEH_label' has levels not trained on: [2.0]\n",
      "  warnings.warn(w)\n",
      "C:\\Users\\Simone\\Anaconda3\\lib\\site-packages\\h2o\\job.py:70: UserWarning: Test/Validation dataset column 'LOEC_BEH_label' has levels not trained on: [2.0]\n",
      "  warnings.warn(w)\n",
      "C:\\Users\\Simone\\Anaconda3\\lib\\site-packages\\h2o\\job.py:70: UserWarning: Test/Validation dataset column 'LOEC_BEH_label' has levels not trained on: [2.0]\n",
      "  warnings.warn(w)\n",
      "C:\\Users\\Simone\\Anaconda3\\lib\\site-packages\\h2o\\job.py:70: UserWarning: Test/Validation dataset column 'LOEC_BEH_label' has levels not trained on: [2.0]\n",
      "  warnings.warn(w)\n",
      "C:\\Users\\Simone\\Anaconda3\\lib\\site-packages\\h2o\\job.py:70: UserWarning: Test/Validation dataset column 'LOEC_BEH_label' has levels not trained on: [2.0]\n",
      "  warnings.warn(w)\n",
      "C:\\Users\\Simone\\Anaconda3\\lib\\site-packages\\h2o\\job.py:70: UserWarning: Test/Validation dataset column 'LOEC_BEH_label' has levels not trained on: [2.0]\n",
      "  warnings.warn(w)\n",
      "C:\\Users\\Simone\\Anaconda3\\lib\\site-packages\\h2o\\job.py:70: UserWarning: Test/Validation dataset column 'LOEC_BEH_label' has levels not trained on: [2.0]\n",
      "  warnings.warn(w)\n",
      "C:\\Users\\Simone\\Anaconda3\\lib\\site-packages\\h2o\\job.py:70: UserWarning: Test/Validation dataset column 'LOEC_BEH_label' has levels not trained on: [2.0]\n",
      "  warnings.warn(w)\n",
      "C:\\Users\\Simone\\Anaconda3\\lib\\site-packages\\h2o\\job.py:70: UserWarning: Test/Validation dataset column 'LOEC_BEH_label' has levels not trained on: [2.0]\n",
      "  warnings.warn(w)\n",
      "C:\\Users\\Simone\\Anaconda3\\lib\\site-packages\\h2o\\job.py:70: UserWarning: Test/Validation dataset column 'LOEC_BEH_label' has levels not trained on: [2.0]\n",
      "  warnings.warn(w)\n",
      "C:\\Users\\Simone\\Anaconda3\\lib\\site-packages\\h2o\\job.py:70: UserWarning: Test/Validation dataset column 'LOEC_BEH_label' has levels not trained on: [2.0]\n",
      "  warnings.warn(w)\n",
      "C:\\Users\\Simone\\Anaconda3\\lib\\site-packages\\h2o\\job.py:70: UserWarning: Test/Validation dataset column 'LOEC_BEH_label' has levels not trained on: [2.0]\n",
      "  warnings.warn(w)\n",
      "C:\\Users\\Simone\\Anaconda3\\lib\\site-packages\\h2o\\job.py:70: UserWarning: Test/Validation dataset column 'LOEC_BEH_label' has levels not trained on: [2.0]\n",
      "  warnings.warn(w)\n",
      "C:\\Users\\Simone\\Anaconda3\\lib\\site-packages\\h2o\\job.py:70: UserWarning: Test/Validation dataset column 'LOEC_BEH_label' has levels not trained on: [2.0]\n",
      "  warnings.warn(w)\n",
      "C:\\Users\\Simone\\Anaconda3\\lib\\site-packages\\h2o\\job.py:70: UserWarning: Test/Validation dataset column 'LOEC_BEH_label' has levels not trained on: [2.0]\n",
      "  warnings.warn(w)\n",
      "C:\\Users\\Simone\\Anaconda3\\lib\\site-packages\\h2o\\job.py:70: UserWarning: Test/Validation dataset column 'LOEC_BEH_label' has levels not trained on: [2.0]\n",
      "  warnings.warn(w)\n",
      "C:\\Users\\Simone\\Anaconda3\\lib\\site-packages\\h2o\\job.py:70: UserWarning: Test/Validation dataset column 'LOEC_BEH_label' has levels not trained on: [2.0]\n",
      "  warnings.warn(w)\n",
      "C:\\Users\\Simone\\Anaconda3\\lib\\site-packages\\h2o\\job.py:70: UserWarning: Test/Validation dataset column 'LOEC_BEH_label' has levels not trained on: [2.0]\n",
      "  warnings.warn(w)\n",
      "C:\\Users\\Simone\\Anaconda3\\lib\\site-packages\\h2o\\job.py:70: UserWarning: Test/Validation dataset column 'LOEC_BEH_label' has levels not trained on: [2.0]\n",
      "  warnings.warn(w)\n",
      "C:\\Users\\Simone\\Anaconda3\\lib\\site-packages\\h2o\\job.py:70: UserWarning: Test/Validation dataset column 'LOEC_BEH_label' has levels not trained on: [2.0]\n",
      "  warnings.warn(w)\n",
      "C:\\Users\\Simone\\Anaconda3\\lib\\site-packages\\h2o\\job.py:70: UserWarning: Test/Validation dataset column 'LOEC_BEH_label' has levels not trained on: [2.0]\n",
      "  warnings.warn(w)\n",
      "C:\\Users\\Simone\\Anaconda3\\lib\\site-packages\\h2o\\job.py:70: UserWarning: Test/Validation dataset column 'LOEC_BEH_label' has levels not trained on: [2.0]\n",
      "  warnings.warn(w)\n",
      "C:\\Users\\Simone\\Anaconda3\\lib\\site-packages\\h2o\\job.py:70: UserWarning: Test/Validation dataset column 'LOEC_BEH_label' has levels not trained on: [2.0]\n",
      "  warnings.warn(w)\n",
      "C:\\Users\\Simone\\Anaconda3\\lib\\site-packages\\h2o\\job.py:70: UserWarning: Test/Validation dataset column 'LOEC_BEH_label' has levels not trained on: [2.0]\n",
      "  warnings.warn(w)\n",
      "C:\\Users\\Simone\\Anaconda3\\lib\\site-packages\\h2o\\job.py:70: UserWarning: Test/Validation dataset column 'LOEC_BEH_label' has levels not trained on: [2.0]\n",
      "  warnings.warn(w)\n",
      "C:\\Users\\Simone\\Anaconda3\\lib\\site-packages\\h2o\\job.py:70: UserWarning: Test/Validation dataset column 'LOEC_BEH_label' has levels not trained on: [2.0]\n",
      "  warnings.warn(w)\n",
      "C:\\Users\\Simone\\Anaconda3\\lib\\site-packages\\h2o\\job.py:70: UserWarning: Test/Validation dataset column 'LOEC_BEH_label' has levels not trained on: [2.0]\n",
      "  warnings.warn(w)\n",
      "C:\\Users\\Simone\\Anaconda3\\lib\\site-packages\\h2o\\job.py:70: UserWarning: Test/Validation dataset column 'LOEC_BEH_label' has levels not trained on: [2.0]\n",
      "  warnings.warn(w)\n",
      "C:\\Users\\Simone\\Anaconda3\\lib\\site-packages\\h2o\\job.py:70: UserWarning: Test/Validation dataset column 'LOEC_BEH_label' has levels not trained on: [2.0]\n",
      "  warnings.warn(w)\n",
      "C:\\Users\\Simone\\Anaconda3\\lib\\site-packages\\h2o\\job.py:70: UserWarning: Test/Validation dataset column 'LOEC_BEH_label' has levels not trained on: [2.0]\n",
      "  warnings.warn(w)\n"
     ]
    },
    {
     "name": "stdout",
     "output_type": "stream",
     "text": [
      "done\n",
      "Train and test... Thu Oct 15 17:15:55 2020done... models... Thu Oct 15 17:59:57 2020"
     ]
    },
    {
     "name": "stderr",
     "output_type": "stream",
     "text": [
      "C:\\Users\\Simone\\Anaconda3\\lib\\site-packages\\h2o\\job.py:70: UserWarning: Test/Validation dataset column 'NOEC_GEN_label' has levels not trained on: [4.0]\n",
      "  warnings.warn(w)\n",
      "C:\\Users\\Simone\\Anaconda3\\lib\\site-packages\\h2o\\job.py:70: UserWarning: Test/Validation dataset column 'NOEC_GEN_label' has levels not trained on: [4.0]\n",
      "  warnings.warn(w)\n",
      "C:\\Users\\Simone\\Anaconda3\\lib\\site-packages\\h2o\\job.py:70: UserWarning: Test/Validation dataset column 'NOEC_GEN_label' has levels not trained on: [4.0]\n",
      "  warnings.warn(w)\n",
      "C:\\Users\\Simone\\Anaconda3\\lib\\site-packages\\h2o\\job.py:70: UserWarning: Test/Validation dataset column 'NOEC_GEN_label' has levels not trained on: [4.0]\n",
      "  warnings.warn(w)\n",
      "C:\\Users\\Simone\\Anaconda3\\lib\\site-packages\\h2o\\job.py:70: UserWarning: Test/Validation dataset column 'NOEC_GEN_label' has levels not trained on: [4.0]\n",
      "  warnings.warn(w)\n",
      "C:\\Users\\Simone\\Anaconda3\\lib\\site-packages\\h2o\\job.py:70: UserWarning: Test/Validation dataset column 'NOEC_GEN_label' has levels not trained on: [4.0]\n",
      "  warnings.warn(w)\n",
      "C:\\Users\\Simone\\Anaconda3\\lib\\site-packages\\h2o\\job.py:70: UserWarning: Test/Validation dataset column 'NOEC_GEN_label' has levels not trained on: [4.0]\n",
      "  warnings.warn(w)\n",
      "C:\\Users\\Simone\\Anaconda3\\lib\\site-packages\\h2o\\job.py:70: UserWarning: Test/Validation dataset column 'NOEC_GEN_label' has levels not trained on: [4.0]\n",
      "  warnings.warn(w)\n",
      "C:\\Users\\Simone\\Anaconda3\\lib\\site-packages\\h2o\\job.py:70: UserWarning: Test/Validation dataset column 'NOEC_GEN_label' has levels not trained on: [4.0]\n",
      "  warnings.warn(w)\n",
      "C:\\Users\\Simone\\Anaconda3\\lib\\site-packages\\h2o\\job.py:70: UserWarning: Test/Validation dataset column 'NOEC_GEN_label' has levels not trained on: [4.0]\n",
      "  warnings.warn(w)\n",
      "C:\\Users\\Simone\\Anaconda3\\lib\\site-packages\\h2o\\job.py:70: UserWarning: Test/Validation dataset column 'NOEC_GEN_label' has levels not trained on: [4.0]\n",
      "  warnings.warn(w)\n",
      "C:\\Users\\Simone\\Anaconda3\\lib\\site-packages\\h2o\\job.py:70: UserWarning: Test/Validation dataset column 'NOEC_GEN_label' has levels not trained on: [4.0]\n",
      "  warnings.warn(w)\n",
      "C:\\Users\\Simone\\Anaconda3\\lib\\site-packages\\h2o\\job.py:70: UserWarning: Test/Validation dataset column 'NOEC_GEN_label' has levels not trained on: [4.0]\n",
      "  warnings.warn(w)\n",
      "C:\\Users\\Simone\\Anaconda3\\lib\\site-packages\\h2o\\job.py:70: UserWarning: Test/Validation dataset column 'NOEC_GEN_label' has levels not trained on: [4.0]\n",
      "  warnings.warn(w)\n",
      "C:\\Users\\Simone\\Anaconda3\\lib\\site-packages\\h2o\\job.py:70: UserWarning: Test/Validation dataset column 'NOEC_GEN_label' has levels not trained on: [4.0]\n",
      "  warnings.warn(w)\n",
      "C:\\Users\\Simone\\Anaconda3\\lib\\site-packages\\h2o\\job.py:70: UserWarning: Test/Validation dataset column 'NOEC_GEN_label' has levels not trained on: [4.0]\n",
      "  warnings.warn(w)\n",
      "C:\\Users\\Simone\\Anaconda3\\lib\\site-packages\\h2o\\job.py:70: UserWarning: Test/Validation dataset column 'NOEC_GEN_label' has levels not trained on: [4.0]\n",
      "  warnings.warn(w)\n",
      "C:\\Users\\Simone\\Anaconda3\\lib\\site-packages\\h2o\\job.py:70: UserWarning: Test/Validation dataset column 'NOEC_GEN_label' has levels not trained on: [4.0]\n",
      "  warnings.warn(w)\n",
      "C:\\Users\\Simone\\Anaconda3\\lib\\site-packages\\h2o\\job.py:70: UserWarning: Test/Validation dataset column 'NOEC_GEN_label' has levels not trained on: [4.0]\n",
      "  warnings.warn(w)\n",
      "C:\\Users\\Simone\\Anaconda3\\lib\\site-packages\\h2o\\job.py:70: UserWarning: Test/Validation dataset column 'NOEC_GEN_label' has levels not trained on: [4.0]\n",
      "  warnings.warn(w)\n",
      "C:\\Users\\Simone\\Anaconda3\\lib\\site-packages\\h2o\\job.py:70: UserWarning: Test/Validation dataset column 'NOEC_GEN_label' has levels not trained on: [4.0]\n",
      "  warnings.warn(w)\n",
      "C:\\Users\\Simone\\Anaconda3\\lib\\site-packages\\h2o\\job.py:70: UserWarning: Test/Validation dataset column 'NOEC_GEN_label' has levels not trained on: [4.0]\n",
      "  warnings.warn(w)\n",
      "C:\\Users\\Simone\\Anaconda3\\lib\\site-packages\\h2o\\job.py:70: UserWarning: Test/Validation dataset column 'NOEC_GEN_label' has levels not trained on: [4.0]\n",
      "  warnings.warn(w)\n",
      "C:\\Users\\Simone\\Anaconda3\\lib\\site-packages\\h2o\\job.py:70: UserWarning: Test/Validation dataset column 'NOEC_GEN_label' has levels not trained on: [4.0]\n",
      "  warnings.warn(w)\n",
      "C:\\Users\\Simone\\Anaconda3\\lib\\site-packages\\h2o\\job.py:70: UserWarning: Test/Validation dataset column 'NOEC_GEN_label' has levels not trained on: [4.0]\n",
      "  warnings.warn(w)\n",
      "C:\\Users\\Simone\\Anaconda3\\lib\\site-packages\\h2o\\job.py:70: UserWarning: Test/Validation dataset column 'NOEC_GEN_label' has levels not trained on: [4.0]\n",
      "  warnings.warn(w)\n",
      "C:\\Users\\Simone\\Anaconda3\\lib\\site-packages\\h2o\\job.py:70: UserWarning: Test/Validation dataset column 'NOEC_GEN_label' has levels not trained on: [4.0]\n",
      "  warnings.warn(w)\n",
      "C:\\Users\\Simone\\Anaconda3\\lib\\site-packages\\h2o\\job.py:70: UserWarning: Test/Validation dataset column 'NOEC_GEN_label' has levels not trained on: [4.0]\n",
      "  warnings.warn(w)\n",
      "C:\\Users\\Simone\\Anaconda3\\lib\\site-packages\\h2o\\job.py:70: UserWarning: Test/Validation dataset column 'NOEC_GEN_label' has levels not trained on: [4.0]\n",
      "  warnings.warn(w)\n",
      "C:\\Users\\Simone\\Anaconda3\\lib\\site-packages\\h2o\\job.py:70: UserWarning: Test/Validation dataset column 'NOEC_GEN_label' has levels not trained on: [4.0]\n",
      "  warnings.warn(w)\n",
      "C:\\Users\\Simone\\Anaconda3\\lib\\site-packages\\h2o\\job.py:70: UserWarning: Test/Validation dataset column 'NOEC_GEN_label' has levels not trained on: [4.0]\n",
      "  warnings.warn(w)\n",
      "C:\\Users\\Simone\\Anaconda3\\lib\\site-packages\\h2o\\job.py:70: UserWarning: Test/Validation dataset column 'NOEC_GEN_label' has levels not trained on: [4.0]\n",
      "  warnings.warn(w)\n",
      "C:\\Users\\Simone\\Anaconda3\\lib\\site-packages\\h2o\\job.py:70: UserWarning: Test/Validation dataset column 'NOEC_GEN_label' has levels not trained on: [4.0]\n",
      "  warnings.warn(w)\n",
      "C:\\Users\\Simone\\Anaconda3\\lib\\site-packages\\h2o\\job.py:70: UserWarning: Test/Validation dataset column 'NOEC_GEN_label' has levels not trained on: [4.0]\n",
      "  warnings.warn(w)\n",
      "C:\\Users\\Simone\\Anaconda3\\lib\\site-packages\\h2o\\job.py:70: UserWarning: Test/Validation dataset column 'NOEC_GEN_label' has levels not trained on: [4.0]\n",
      "  warnings.warn(w)\n",
      "C:\\Users\\Simone\\Anaconda3\\lib\\site-packages\\h2o\\job.py:70: UserWarning: Test/Validation dataset column 'NOEC_GEN_label' has levels not trained on: [4.0]\n",
      "  warnings.warn(w)\n",
      "C:\\Users\\Simone\\Anaconda3\\lib\\site-packages\\h2o\\job.py:70: UserWarning: Test/Validation dataset column 'NOEC_GEN_label' has levels not trained on: [4.0]\n",
      "  warnings.warn(w)\n",
      "C:\\Users\\Simone\\Anaconda3\\lib\\site-packages\\h2o\\job.py:70: UserWarning: Test/Validation dataset column 'NOEC_GEN_label' has levels not trained on: [4.0]\n",
      "  warnings.warn(w)\n",
      "C:\\Users\\Simone\\Anaconda3\\lib\\site-packages\\h2o\\job.py:70: UserWarning: Test/Validation dataset column 'NOEC_GEN_label' has levels not trained on: [4.0]\n",
      "  warnings.warn(w)\n",
      "C:\\Users\\Simone\\Anaconda3\\lib\\site-packages\\h2o\\job.py:70: UserWarning: Test/Validation dataset column 'NOEC_GEN_label' has levels not trained on: [4.0]\n",
      "  warnings.warn(w)\n",
      "C:\\Users\\Simone\\Anaconda3\\lib\\site-packages\\h2o\\job.py:70: UserWarning: Test/Validation dataset column 'NOEC_GEN_label' has levels not trained on: [4.0]\n",
      "  warnings.warn(w)\n",
      "C:\\Users\\Simone\\Anaconda3\\lib\\site-packages\\h2o\\job.py:70: UserWarning: Test/Validation dataset column 'NOEC_GEN_label' has levels not trained on: [4.0]\n",
      "  warnings.warn(w)\n",
      "C:\\Users\\Simone\\Anaconda3\\lib\\site-packages\\h2o\\job.py:70: UserWarning: Test/Validation dataset column 'NOEC_GEN_label' has levels not trained on: [4.0]\n",
      "  warnings.warn(w)\n",
      "C:\\Users\\Simone\\Anaconda3\\lib\\site-packages\\h2o\\job.py:70: UserWarning: Test/Validation dataset column 'NOEC_GEN_label' has levels not trained on: [4.0]\n",
      "  warnings.warn(w)\n",
      "C:\\Users\\Simone\\Anaconda3\\lib\\site-packages\\h2o\\job.py:70: UserWarning: Test/Validation dataset column 'NOEC_GEN_label' has levels not trained on: [4.0]\n",
      "  warnings.warn(w)\n",
      "C:\\Users\\Simone\\Anaconda3\\lib\\site-packages\\h2o\\job.py:70: UserWarning: Test/Validation dataset column 'NOEC_GEN_label' has levels not trained on: [4.0]\n",
      "  warnings.warn(w)\n",
      "C:\\Users\\Simone\\Anaconda3\\lib\\site-packages\\h2o\\job.py:70: UserWarning: Test/Validation dataset column 'NOEC_GEN_label' has levels not trained on: [4.0]\n",
      "  warnings.warn(w)\n",
      "C:\\Users\\Simone\\Anaconda3\\lib\\site-packages\\h2o\\job.py:70: UserWarning: Test/Validation dataset column 'NOEC_GEN_label' has levels not trained on: [4.0]\n",
      "  warnings.warn(w)\n"
     ]
    },
    {
     "name": "stderr",
     "output_type": "stream",
     "text": [
      "C:\\Users\\Simone\\Anaconda3\\lib\\site-packages\\h2o\\job.py:70: UserWarning: Test/Validation dataset column 'NOEC_GEN_label' has levels not trained on: [4.0]\n",
      "  warnings.warn(w)\n",
      "C:\\Users\\Simone\\Anaconda3\\lib\\site-packages\\h2o\\job.py:70: UserWarning: Test/Validation dataset column 'NOEC_GEN_label' has levels not trained on: [4.0]\n",
      "  warnings.warn(w)\n",
      "C:\\Users\\Simone\\Anaconda3\\lib\\site-packages\\h2o\\job.py:70: UserWarning: Test/Validation dataset column 'NOEC_GEN_label' has levels not trained on: [4.0]\n",
      "  warnings.warn(w)\n",
      "C:\\Users\\Simone\\Anaconda3\\lib\\site-packages\\h2o\\job.py:70: UserWarning: Test/Validation dataset column 'NOEC_GEN_label' has levels not trained on: [4.0]\n",
      "  warnings.warn(w)\n",
      "C:\\Users\\Simone\\Anaconda3\\lib\\site-packages\\h2o\\job.py:70: UserWarning: Test/Validation dataset column 'NOEC_GEN_label' has levels not trained on: [4.0]\n",
      "  warnings.warn(w)\n",
      "C:\\Users\\Simone\\Anaconda3\\lib\\site-packages\\h2o\\job.py:70: UserWarning: Test/Validation dataset column 'NOEC_GEN_label' has levels not trained on: [4.0]\n",
      "  warnings.warn(w)\n",
      "C:\\Users\\Simone\\Anaconda3\\lib\\site-packages\\h2o\\job.py:70: UserWarning: Test/Validation dataset column 'NOEC_GEN_label' has levels not trained on: [4.0]\n",
      "  warnings.warn(w)\n",
      "C:\\Users\\Simone\\Anaconda3\\lib\\site-packages\\h2o\\job.py:70: UserWarning: Test/Validation dataset column 'NOEC_GEN_label' has levels not trained on: [4.0]\n",
      "  warnings.warn(w)\n",
      "C:\\Users\\Simone\\Anaconda3\\lib\\site-packages\\h2o\\job.py:70: UserWarning: Test/Validation dataset column 'NOEC_GEN_label' has levels not trained on: [4.0]\n",
      "  warnings.warn(w)\n",
      "C:\\Users\\Simone\\Anaconda3\\lib\\site-packages\\h2o\\job.py:70: UserWarning: Test/Validation dataset column 'NOEC_GEN_label' has levels not trained on: [4.0]\n",
      "  warnings.warn(w)\n",
      "C:\\Users\\Simone\\Anaconda3\\lib\\site-packages\\h2o\\job.py:70: UserWarning: Test/Validation dataset column 'NOEC_GEN_label' has levels not trained on: [4.0]\n",
      "  warnings.warn(w)\n",
      "C:\\Users\\Simone\\Anaconda3\\lib\\site-packages\\h2o\\job.py:70: UserWarning: Test/Validation dataset column 'NOEC_GEN_label' has levels not trained on: [4.0]\n",
      "  warnings.warn(w)\n",
      "C:\\Users\\Simone\\Anaconda3\\lib\\site-packages\\h2o\\job.py:70: UserWarning: Test/Validation dataset column 'NOEC_GEN_label' has levels not trained on: [4.0]\n",
      "  warnings.warn(w)\n",
      "C:\\Users\\Simone\\Anaconda3\\lib\\site-packages\\h2o\\job.py:70: UserWarning: Test/Validation dataset column 'NOEC_GEN_label' has levels not trained on: [4.0]\n",
      "  warnings.warn(w)\n",
      "C:\\Users\\Simone\\Anaconda3\\lib\\site-packages\\h2o\\job.py:70: UserWarning: Test/Validation dataset column 'NOEC_GEN_label' has levels not trained on: [4.0]\n",
      "  warnings.warn(w)\n",
      "C:\\Users\\Simone\\Anaconda3\\lib\\site-packages\\h2o\\job.py:70: UserWarning: Test/Validation dataset column 'NOEC_GEN_label' has levels not trained on: [4.0]\n",
      "  warnings.warn(w)\n",
      "C:\\Users\\Simone\\Anaconda3\\lib\\site-packages\\h2o\\job.py:70: UserWarning: Test/Validation dataset column 'NOEC_GEN_label' has levels not trained on: [4.0]\n",
      "  warnings.warn(w)\n",
      "C:\\Users\\Simone\\Anaconda3\\lib\\site-packages\\h2o\\job.py:70: UserWarning: Test/Validation dataset column 'NOEC_GEN_label' has levels not trained on: [4.0]\n",
      "  warnings.warn(w)\n",
      "C:\\Users\\Simone\\Anaconda3\\lib\\site-packages\\h2o\\job.py:70: UserWarning: Test/Validation dataset column 'NOEC_GEN_label' has levels not trained on: [4.0]\n",
      "  warnings.warn(w)\n",
      "C:\\Users\\Simone\\Anaconda3\\lib\\site-packages\\h2o\\job.py:70: UserWarning: Test/Validation dataset column 'NOEC_GEN_label' has levels not trained on: [4.0]\n",
      "  warnings.warn(w)\n",
      "C:\\Users\\Simone\\Anaconda3\\lib\\site-packages\\h2o\\job.py:70: UserWarning: Test/Validation dataset column 'NOEC_GEN_label' has levels not trained on: [4.0]\n",
      "  warnings.warn(w)\n",
      "C:\\Users\\Simone\\Anaconda3\\lib\\site-packages\\h2o\\job.py:70: UserWarning: Test/Validation dataset column 'NOEC_GEN_label' has levels not trained on: [4.0]\n",
      "  warnings.warn(w)\n",
      "C:\\Users\\Simone\\Anaconda3\\lib\\site-packages\\h2o\\job.py:70: UserWarning: Test/Validation dataset column 'NOEC_GEN_label' has levels not trained on: [4.0]\n",
      "  warnings.warn(w)\n",
      "C:\\Users\\Simone\\Anaconda3\\lib\\site-packages\\h2o\\job.py:70: UserWarning: Test/Validation dataset column 'NOEC_GEN_label' has levels not trained on: [4.0]\n",
      "  warnings.warn(w)\n",
      "C:\\Users\\Simone\\Anaconda3\\lib\\site-packages\\h2o\\job.py:70: UserWarning: Test/Validation dataset column 'NOEC_GEN_label' has levels not trained on: [4.0]\n",
      "  warnings.warn(w)\n",
      "C:\\Users\\Simone\\Anaconda3\\lib\\site-packages\\h2o\\job.py:70: UserWarning: Test/Validation dataset column 'NOEC_GEN_label' has levels not trained on: [4.0]\n",
      "  warnings.warn(w)\n",
      "C:\\Users\\Simone\\Anaconda3\\lib\\site-packages\\h2o\\job.py:70: UserWarning: Test/Validation dataset column 'NOEC_GEN_label' has levels not trained on: [4.0]\n",
      "  warnings.warn(w)\n",
      "C:\\Users\\Simone\\Anaconda3\\lib\\site-packages\\h2o\\job.py:70: UserWarning: Test/Validation dataset column 'NOEC_GEN_label' has levels not trained on: [4.0]\n",
      "  warnings.warn(w)\n",
      "C:\\Users\\Simone\\Anaconda3\\lib\\site-packages\\h2o\\job.py:70: UserWarning: Test/Validation dataset column 'NOEC_GEN_label' has levels not trained on: [4.0]\n",
      "  warnings.warn(w)\n",
      "C:\\Users\\Simone\\Anaconda3\\lib\\site-packages\\h2o\\job.py:70: UserWarning: Test/Validation dataset column 'NOEC_GEN_label' has levels not trained on: [4.0]\n",
      "  warnings.warn(w)\n",
      "C:\\Users\\Simone\\Anaconda3\\lib\\site-packages\\h2o\\job.py:70: UserWarning: Test/Validation dataset column 'NOEC_GEN_label' has levels not trained on: [4.0]\n",
      "  warnings.warn(w)\n",
      "C:\\Users\\Simone\\Anaconda3\\lib\\site-packages\\h2o\\job.py:70: UserWarning: Test/Validation dataset column 'NOEC_GEN_label' has levels not trained on: [4.0]\n",
      "  warnings.warn(w)\n",
      "C:\\Users\\Simone\\Anaconda3\\lib\\site-packages\\h2o\\job.py:70: UserWarning: Test/Validation dataset column 'NOEC_GEN_label' has levels not trained on: [4.0]\n",
      "  warnings.warn(w)\n",
      "C:\\Users\\Simone\\Anaconda3\\lib\\site-packages\\h2o\\job.py:70: UserWarning: Test/Validation dataset column 'NOEC_GEN_label' has levels not trained on: [4.0]\n",
      "  warnings.warn(w)\n",
      "C:\\Users\\Simone\\Anaconda3\\lib\\site-packages\\h2o\\job.py:70: UserWarning: Test/Validation dataset column 'NOEC_GEN_label' has levels not trained on: [4.0]\n",
      "  warnings.warn(w)\n",
      "C:\\Users\\Simone\\Anaconda3\\lib\\site-packages\\h2o\\job.py:70: UserWarning: Test/Validation dataset column 'NOEC_GEN_label' has levels not trained on: [4.0]\n",
      "  warnings.warn(w)\n",
      "C:\\Users\\Simone\\Anaconda3\\lib\\site-packages\\h2o\\job.py:70: UserWarning: Test/Validation dataset column 'NOEC_GEN_label' has levels not trained on: [4.0]\n",
      "  warnings.warn(w)\n",
      "C:\\Users\\Simone\\Anaconda3\\lib\\site-packages\\h2o\\job.py:70: UserWarning: Test/Validation dataset column 'NOEC_GEN_label' has levels not trained on: [4.0]\n",
      "  warnings.warn(w)\n",
      "C:\\Users\\Simone\\Anaconda3\\lib\\site-packages\\h2o\\job.py:70: UserWarning: Test/Validation dataset column 'NOEC_GEN_label' has levels not trained on: [4.0]\n",
      "  warnings.warn(w)\n",
      "C:\\Users\\Simone\\Anaconda3\\lib\\site-packages\\h2o\\job.py:70: UserWarning: Test/Validation dataset column 'NOEC_GEN_label' has levels not trained on: [4.0]\n",
      "  warnings.warn(w)\n",
      "C:\\Users\\Simone\\Anaconda3\\lib\\site-packages\\h2o\\job.py:70: UserWarning: Test/Validation dataset column 'NOEC_GEN_label' has levels not trained on: [4.0]\n",
      "  warnings.warn(w)\n",
      "C:\\Users\\Simone\\Anaconda3\\lib\\site-packages\\h2o\\job.py:70: UserWarning: Test/Validation dataset column 'NOEC_GEN_label' has levels not trained on: [4.0]\n",
      "  warnings.warn(w)\n"
     ]
    },
    {
     "name": "stdout",
     "output_type": "stream",
     "text": [
      "done\n",
      "Train and test... Thu Oct 15 19:48:48 2020done... models... Thu Oct 15 20:32:50 2020"
     ]
    },
    {
     "name": "stderr",
     "output_type": "stream",
     "text": [
      "C:\\Users\\Simone\\Anaconda3\\lib\\site-packages\\h2o\\job.py:70: UserWarning: Test/Validation dataset column 'NOEC_GEN_label' has levels not trained on: [2.0]\n",
      "  warnings.warn(w)\n",
      "C:\\Users\\Simone\\Anaconda3\\lib\\site-packages\\h2o\\job.py:70: UserWarning: Test/Validation dataset column 'NOEC_GEN_label' has levels not trained on: [2.0]\n",
      "  warnings.warn(w)\n",
      "C:\\Users\\Simone\\Anaconda3\\lib\\site-packages\\h2o\\job.py:70: UserWarning: Test/Validation dataset column 'NOEC_GEN_label' has levels not trained on: [2.0]\n",
      "  warnings.warn(w)\n",
      "C:\\Users\\Simone\\Anaconda3\\lib\\site-packages\\h2o\\job.py:70: UserWarning: Test/Validation dataset column 'NOEC_GEN_label' has levels not trained on: [2.0]\n",
      "  warnings.warn(w)\n",
      "C:\\Users\\Simone\\Anaconda3\\lib\\site-packages\\h2o\\job.py:70: UserWarning: Test/Validation dataset column 'NOEC_GEN_label' has levels not trained on: [2.0]\n",
      "  warnings.warn(w)\n",
      "C:\\Users\\Simone\\Anaconda3\\lib\\site-packages\\h2o\\job.py:70: UserWarning: Test/Validation dataset column 'NOEC_GEN_label' has levels not trained on: [2.0]\n",
      "  warnings.warn(w)\n",
      "C:\\Users\\Simone\\Anaconda3\\lib\\site-packages\\h2o\\job.py:70: UserWarning: Test/Validation dataset column 'NOEC_GEN_label' has levels not trained on: [2.0]\n",
      "  warnings.warn(w)\n",
      "C:\\Users\\Simone\\Anaconda3\\lib\\site-packages\\h2o\\job.py:70: UserWarning: Test/Validation dataset column 'NOEC_GEN_label' has levels not trained on: [2.0]\n",
      "  warnings.warn(w)\n",
      "C:\\Users\\Simone\\Anaconda3\\lib\\site-packages\\h2o\\job.py:70: UserWarning: Test/Validation dataset column 'NOEC_GEN_label' has levels not trained on: [2.0]\n",
      "  warnings.warn(w)\n",
      "C:\\Users\\Simone\\Anaconda3\\lib\\site-packages\\h2o\\job.py:70: UserWarning: Test/Validation dataset column 'NOEC_GEN_label' has levels not trained on: [2.0]\n",
      "  warnings.warn(w)\n",
      "C:\\Users\\Simone\\Anaconda3\\lib\\site-packages\\h2o\\job.py:70: UserWarning: Test/Validation dataset column 'NOEC_GEN_label' has levels not trained on: [2.0]\n",
      "  warnings.warn(w)\n",
      "C:\\Users\\Simone\\Anaconda3\\lib\\site-packages\\h2o\\job.py:70: UserWarning: Test/Validation dataset column 'NOEC_GEN_label' has levels not trained on: [2.0]\n",
      "  warnings.warn(w)\n",
      "C:\\Users\\Simone\\Anaconda3\\lib\\site-packages\\h2o\\job.py:70: UserWarning: Test/Validation dataset column 'NOEC_GEN_label' has levels not trained on: [2.0]\n",
      "  warnings.warn(w)\n",
      "C:\\Users\\Simone\\Anaconda3\\lib\\site-packages\\h2o\\job.py:70: UserWarning: Test/Validation dataset column 'NOEC_GEN_label' has levels not trained on: [2.0]\n",
      "  warnings.warn(w)\n",
      "C:\\Users\\Simone\\Anaconda3\\lib\\site-packages\\h2o\\job.py:70: UserWarning: Test/Validation dataset column 'NOEC_GEN_label' has levels not trained on: [2.0]\n",
      "  warnings.warn(w)\n",
      "C:\\Users\\Simone\\Anaconda3\\lib\\site-packages\\h2o\\job.py:70: UserWarning: Test/Validation dataset column 'NOEC_GEN_label' has levels not trained on: [2.0]\n",
      "  warnings.warn(w)\n",
      "C:\\Users\\Simone\\Anaconda3\\lib\\site-packages\\h2o\\job.py:70: UserWarning: Test/Validation dataset column 'NOEC_GEN_label' has levels not trained on: [2.0]\n",
      "  warnings.warn(w)\n",
      "C:\\Users\\Simone\\Anaconda3\\lib\\site-packages\\h2o\\job.py:70: UserWarning: Test/Validation dataset column 'NOEC_GEN_label' has levels not trained on: [2.0]\n",
      "  warnings.warn(w)\n",
      "C:\\Users\\Simone\\Anaconda3\\lib\\site-packages\\h2o\\job.py:70: UserWarning: Test/Validation dataset column 'NOEC_GEN_label' has levels not trained on: [2.0]\n",
      "  warnings.warn(w)\n",
      "C:\\Users\\Simone\\Anaconda3\\lib\\site-packages\\h2o\\job.py:70: UserWarning: Test/Validation dataset column 'NOEC_GEN_label' has levels not trained on: [2.0]\n",
      "  warnings.warn(w)\n",
      "C:\\Users\\Simone\\Anaconda3\\lib\\site-packages\\h2o\\job.py:70: UserWarning: Test/Validation dataset column 'NOEC_GEN_label' has levels not trained on: [2.0]\n",
      "  warnings.warn(w)\n",
      "C:\\Users\\Simone\\Anaconda3\\lib\\site-packages\\h2o\\job.py:70: UserWarning: Test/Validation dataset column 'NOEC_GEN_label' has levels not trained on: [2.0]\n",
      "  warnings.warn(w)\n",
      "C:\\Users\\Simone\\Anaconda3\\lib\\site-packages\\h2o\\job.py:70: UserWarning: Test/Validation dataset column 'NOEC_GEN_label' has levels not trained on: [2.0]\n",
      "  warnings.warn(w)\n",
      "C:\\Users\\Simone\\Anaconda3\\lib\\site-packages\\h2o\\job.py:70: UserWarning: Test/Validation dataset column 'NOEC_GEN_label' has levels not trained on: [2.0]\n",
      "  warnings.warn(w)\n",
      "C:\\Users\\Simone\\Anaconda3\\lib\\site-packages\\h2o\\job.py:70: UserWarning: Test/Validation dataset column 'NOEC_GEN_label' has levels not trained on: [2.0]\n",
      "  warnings.warn(w)\n",
      "C:\\Users\\Simone\\Anaconda3\\lib\\site-packages\\h2o\\job.py:70: UserWarning: Test/Validation dataset column 'NOEC_GEN_label' has levels not trained on: [2.0]\n",
      "  warnings.warn(w)\n",
      "C:\\Users\\Simone\\Anaconda3\\lib\\site-packages\\h2o\\job.py:70: UserWarning: Test/Validation dataset column 'NOEC_GEN_label' has levels not trained on: [2.0]\n",
      "  warnings.warn(w)\n",
      "C:\\Users\\Simone\\Anaconda3\\lib\\site-packages\\h2o\\job.py:70: UserWarning: Test/Validation dataset column 'NOEC_GEN_label' has levels not trained on: [2.0]\n",
      "  warnings.warn(w)\n",
      "C:\\Users\\Simone\\Anaconda3\\lib\\site-packages\\h2o\\job.py:70: UserWarning: Test/Validation dataset column 'NOEC_GEN_label' has levels not trained on: [2.0]\n",
      "  warnings.warn(w)\n",
      "C:\\Users\\Simone\\Anaconda3\\lib\\site-packages\\h2o\\job.py:70: UserWarning: Test/Validation dataset column 'NOEC_GEN_label' has levels not trained on: [2.0]\n",
      "  warnings.warn(w)\n",
      "C:\\Users\\Simone\\Anaconda3\\lib\\site-packages\\h2o\\job.py:70: UserWarning: Test/Validation dataset column 'NOEC_GEN_label' has levels not trained on: [2.0]\n",
      "  warnings.warn(w)\n",
      "C:\\Users\\Simone\\Anaconda3\\lib\\site-packages\\h2o\\job.py:70: UserWarning: Test/Validation dataset column 'NOEC_GEN_label' has levels not trained on: [2.0]\n",
      "  warnings.warn(w)\n",
      "C:\\Users\\Simone\\Anaconda3\\lib\\site-packages\\h2o\\job.py:70: UserWarning: Test/Validation dataset column 'NOEC_GEN_label' has levels not trained on: [2.0]\n",
      "  warnings.warn(w)\n",
      "C:\\Users\\Simone\\Anaconda3\\lib\\site-packages\\h2o\\job.py:70: UserWarning: Test/Validation dataset column 'NOEC_GEN_label' has levels not trained on: [2.0]\n",
      "  warnings.warn(w)\n",
      "C:\\Users\\Simone\\Anaconda3\\lib\\site-packages\\h2o\\job.py:70: UserWarning: Test/Validation dataset column 'NOEC_GEN_label' has levels not trained on: [2.0]\n",
      "  warnings.warn(w)\n",
      "C:\\Users\\Simone\\Anaconda3\\lib\\site-packages\\h2o\\job.py:70: UserWarning: Test/Validation dataset column 'NOEC_GEN_label' has levels not trained on: [2.0]\n",
      "  warnings.warn(w)\n",
      "C:\\Users\\Simone\\Anaconda3\\lib\\site-packages\\h2o\\job.py:70: UserWarning: Test/Validation dataset column 'NOEC_GEN_label' has levels not trained on: [2.0]\n",
      "  warnings.warn(w)\n",
      "C:\\Users\\Simone\\Anaconda3\\lib\\site-packages\\h2o\\job.py:70: UserWarning: Test/Validation dataset column 'NOEC_GEN_label' has levels not trained on: [2.0]\n",
      "  warnings.warn(w)\n",
      "C:\\Users\\Simone\\Anaconda3\\lib\\site-packages\\h2o\\job.py:70: UserWarning: Test/Validation dataset column 'NOEC_GEN_label' has levels not trained on: [2.0]\n",
      "  warnings.warn(w)\n",
      "C:\\Users\\Simone\\Anaconda3\\lib\\site-packages\\h2o\\job.py:70: UserWarning: Test/Validation dataset column 'NOEC_GEN_label' has levels not trained on: [2.0]\n",
      "  warnings.warn(w)\n",
      "C:\\Users\\Simone\\Anaconda3\\lib\\site-packages\\h2o\\job.py:70: UserWarning: Test/Validation dataset column 'NOEC_GEN_label' has levels not trained on: [2.0]\n",
      "  warnings.warn(w)\n",
      "C:\\Users\\Simone\\Anaconda3\\lib\\site-packages\\h2o\\job.py:70: UserWarning: Test/Validation dataset column 'NOEC_GEN_label' has levels not trained on: [2.0]\n",
      "  warnings.warn(w)\n",
      "C:\\Users\\Simone\\Anaconda3\\lib\\site-packages\\h2o\\job.py:70: UserWarning: Test/Validation dataset column 'NOEC_GEN_label' has levels not trained on: [2.0]\n",
      "  warnings.warn(w)\n",
      "C:\\Users\\Simone\\Anaconda3\\lib\\site-packages\\h2o\\job.py:70: UserWarning: Test/Validation dataset column 'NOEC_GEN_label' has levels not trained on: [2.0]\n",
      "  warnings.warn(w)\n",
      "C:\\Users\\Simone\\Anaconda3\\lib\\site-packages\\h2o\\job.py:70: UserWarning: Test/Validation dataset column 'NOEC_GEN_label' has levels not trained on: [2.0]\n",
      "  warnings.warn(w)\n",
      "C:\\Users\\Simone\\Anaconda3\\lib\\site-packages\\h2o\\job.py:70: UserWarning: Test/Validation dataset column 'NOEC_GEN_label' has levels not trained on: [2.0]\n",
      "  warnings.warn(w)\n",
      "C:\\Users\\Simone\\Anaconda3\\lib\\site-packages\\h2o\\job.py:70: UserWarning: Test/Validation dataset column 'NOEC_GEN_label' has levels not trained on: [2.0]\n",
      "  warnings.warn(w)\n",
      "C:\\Users\\Simone\\Anaconda3\\lib\\site-packages\\h2o\\job.py:70: UserWarning: Test/Validation dataset column 'NOEC_GEN_label' has levels not trained on: [2.0]\n",
      "  warnings.warn(w)\n"
     ]
    },
    {
     "name": "stderr",
     "output_type": "stream",
     "text": [
      "C:\\Users\\Simone\\Anaconda3\\lib\\site-packages\\h2o\\job.py:70: UserWarning: Test/Validation dataset column 'NOEC_GEN_label' has levels not trained on: [2.0]\n",
      "  warnings.warn(w)\n",
      "C:\\Users\\Simone\\Anaconda3\\lib\\site-packages\\h2o\\job.py:70: UserWarning: Test/Validation dataset column 'NOEC_GEN_label' has levels not trained on: [2.0]\n",
      "  warnings.warn(w)\n",
      "C:\\Users\\Simone\\Anaconda3\\lib\\site-packages\\h2o\\job.py:70: UserWarning: Test/Validation dataset column 'NOEC_GEN_label' has levels not trained on: [2.0]\n",
      "  warnings.warn(w)\n",
      "C:\\Users\\Simone\\Anaconda3\\lib\\site-packages\\h2o\\job.py:70: UserWarning: Test/Validation dataset column 'NOEC_GEN_label' has levels not trained on: [2.0]\n",
      "  warnings.warn(w)\n",
      "C:\\Users\\Simone\\Anaconda3\\lib\\site-packages\\h2o\\job.py:70: UserWarning: Test/Validation dataset column 'NOEC_GEN_label' has levels not trained on: [2.0]\n",
      "  warnings.warn(w)\n",
      "C:\\Users\\Simone\\Anaconda3\\lib\\site-packages\\h2o\\job.py:70: UserWarning: Test/Validation dataset column 'NOEC_GEN_label' has levels not trained on: [2.0]\n",
      "  warnings.warn(w)\n",
      "C:\\Users\\Simone\\Anaconda3\\lib\\site-packages\\h2o\\job.py:70: UserWarning: Test/Validation dataset column 'NOEC_GEN_label' has levels not trained on: [2.0]\n",
      "  warnings.warn(w)\n",
      "C:\\Users\\Simone\\Anaconda3\\lib\\site-packages\\h2o\\job.py:70: UserWarning: Test/Validation dataset column 'NOEC_GEN_label' has levels not trained on: [2.0]\n",
      "  warnings.warn(w)\n",
      "C:\\Users\\Simone\\Anaconda3\\lib\\site-packages\\h2o\\job.py:70: UserWarning: Test/Validation dataset column 'NOEC_GEN_label' has levels not trained on: [2.0]\n",
      "  warnings.warn(w)\n",
      "C:\\Users\\Simone\\Anaconda3\\lib\\site-packages\\h2o\\job.py:70: UserWarning: Test/Validation dataset column 'NOEC_GEN_label' has levels not trained on: [2.0]\n",
      "  warnings.warn(w)\n",
      "C:\\Users\\Simone\\Anaconda3\\lib\\site-packages\\h2o\\job.py:70: UserWarning: Test/Validation dataset column 'NOEC_GEN_label' has levels not trained on: [2.0]\n",
      "  warnings.warn(w)\n",
      "C:\\Users\\Simone\\Anaconda3\\lib\\site-packages\\h2o\\job.py:70: UserWarning: Test/Validation dataset column 'NOEC_GEN_label' has levels not trained on: [2.0]\n",
      "  warnings.warn(w)\n",
      "C:\\Users\\Simone\\Anaconda3\\lib\\site-packages\\h2o\\job.py:70: UserWarning: Test/Validation dataset column 'NOEC_GEN_label' has levels not trained on: [2.0]\n",
      "  warnings.warn(w)\n",
      "C:\\Users\\Simone\\Anaconda3\\lib\\site-packages\\h2o\\job.py:70: UserWarning: Test/Validation dataset column 'NOEC_GEN_label' has levels not trained on: [2.0]\n",
      "  warnings.warn(w)\n",
      "C:\\Users\\Simone\\Anaconda3\\lib\\site-packages\\h2o\\job.py:70: UserWarning: Test/Validation dataset column 'NOEC_GEN_label' has levels not trained on: [2.0]\n",
      "  warnings.warn(w)\n",
      "C:\\Users\\Simone\\Anaconda3\\lib\\site-packages\\h2o\\job.py:70: UserWarning: Test/Validation dataset column 'NOEC_GEN_label' has levels not trained on: [2.0]\n",
      "  warnings.warn(w)\n",
      "C:\\Users\\Simone\\Anaconda3\\lib\\site-packages\\h2o\\job.py:70: UserWarning: Test/Validation dataset column 'NOEC_GEN_label' has levels not trained on: [2.0]\n",
      "  warnings.warn(w)\n",
      "C:\\Users\\Simone\\Anaconda3\\lib\\site-packages\\h2o\\job.py:70: UserWarning: Test/Validation dataset column 'NOEC_GEN_label' has levels not trained on: [2.0]\n",
      "  warnings.warn(w)\n",
      "C:\\Users\\Simone\\Anaconda3\\lib\\site-packages\\h2o\\job.py:70: UserWarning: Test/Validation dataset column 'NOEC_GEN_label' has levels not trained on: [2.0]\n",
      "  warnings.warn(w)\n",
      "C:\\Users\\Simone\\Anaconda3\\lib\\site-packages\\h2o\\job.py:70: UserWarning: Test/Validation dataset column 'NOEC_GEN_label' has levels not trained on: [2.0]\n",
      "  warnings.warn(w)\n",
      "C:\\Users\\Simone\\Anaconda3\\lib\\site-packages\\h2o\\job.py:70: UserWarning: Test/Validation dataset column 'NOEC_GEN_label' has levels not trained on: [2.0]\n",
      "  warnings.warn(w)\n",
      "C:\\Users\\Simone\\Anaconda3\\lib\\site-packages\\h2o\\job.py:70: UserWarning: Test/Validation dataset column 'NOEC_GEN_label' has levels not trained on: [2.0]\n",
      "  warnings.warn(w)\n",
      "C:\\Users\\Simone\\Anaconda3\\lib\\site-packages\\h2o\\job.py:70: UserWarning: Test/Validation dataset column 'NOEC_GEN_label' has levels not trained on: [2.0]\n",
      "  warnings.warn(w)\n",
      "C:\\Users\\Simone\\Anaconda3\\lib\\site-packages\\h2o\\job.py:70: UserWarning: Test/Validation dataset column 'NOEC_GEN_label' has levels not trained on: [2.0]\n",
      "  warnings.warn(w)\n",
      "C:\\Users\\Simone\\Anaconda3\\lib\\site-packages\\h2o\\job.py:70: UserWarning: Test/Validation dataset column 'NOEC_GEN_label' has levels not trained on: [2.0]\n",
      "  warnings.warn(w)\n",
      "C:\\Users\\Simone\\Anaconda3\\lib\\site-packages\\h2o\\job.py:70: UserWarning: Test/Validation dataset column 'NOEC_GEN_label' has levels not trained on: [2.0]\n",
      "  warnings.warn(w)\n",
      "C:\\Users\\Simone\\Anaconda3\\lib\\site-packages\\h2o\\job.py:70: UserWarning: Test/Validation dataset column 'NOEC_GEN_label' has levels not trained on: [2.0]\n",
      "  warnings.warn(w)\n",
      "C:\\Users\\Simone\\Anaconda3\\lib\\site-packages\\h2o\\job.py:70: UserWarning: Test/Validation dataset column 'NOEC_GEN_label' has levels not trained on: [2.0]\n",
      "  warnings.warn(w)\n",
      "C:\\Users\\Simone\\Anaconda3\\lib\\site-packages\\h2o\\job.py:70: UserWarning: Test/Validation dataset column 'NOEC_GEN_label' has levels not trained on: [2.0]\n",
      "  warnings.warn(w)\n",
      "C:\\Users\\Simone\\Anaconda3\\lib\\site-packages\\h2o\\job.py:70: UserWarning: Test/Validation dataset column 'NOEC_GEN_label' has levels not trained on: [2.0]\n",
      "  warnings.warn(w)\n",
      "C:\\Users\\Simone\\Anaconda3\\lib\\site-packages\\h2o\\job.py:70: UserWarning: Test/Validation dataset column 'NOEC_GEN_label' has levels not trained on: [2.0]\n",
      "  warnings.warn(w)\n",
      "C:\\Users\\Simone\\Anaconda3\\lib\\site-packages\\h2o\\job.py:70: UserWarning: Test/Validation dataset column 'NOEC_GEN_label' has levels not trained on: [2.0]\n",
      "  warnings.warn(w)\n",
      "C:\\Users\\Simone\\Anaconda3\\lib\\site-packages\\h2o\\job.py:70: UserWarning: Test/Validation dataset column 'NOEC_GEN_label' has levels not trained on: [2.0]\n",
      "  warnings.warn(w)\n",
      "C:\\Users\\Simone\\Anaconda3\\lib\\site-packages\\h2o\\job.py:70: UserWarning: Test/Validation dataset column 'NOEC_GEN_label' has levels not trained on: [2.0]\n",
      "  warnings.warn(w)\n",
      "C:\\Users\\Simone\\Anaconda3\\lib\\site-packages\\h2o\\job.py:70: UserWarning: Test/Validation dataset column 'NOEC_GEN_label' has levels not trained on: [2.0]\n",
      "  warnings.warn(w)\n",
      "C:\\Users\\Simone\\Anaconda3\\lib\\site-packages\\h2o\\job.py:70: UserWarning: Test/Validation dataset column 'NOEC_GEN_label' has levels not trained on: [2.0]\n",
      "  warnings.warn(w)\n",
      "C:\\Users\\Simone\\Anaconda3\\lib\\site-packages\\h2o\\job.py:70: UserWarning: Test/Validation dataset column 'NOEC_GEN_label' has levels not trained on: [2.0]\n",
      "  warnings.warn(w)\n",
      "C:\\Users\\Simone\\Anaconda3\\lib\\site-packages\\h2o\\job.py:70: UserWarning: Test/Validation dataset column 'NOEC_GEN_label' has levels not trained on: [2.0]\n",
      "  warnings.warn(w)\n",
      "C:\\Users\\Simone\\Anaconda3\\lib\\site-packages\\h2o\\job.py:70: UserWarning: Test/Validation dataset column 'NOEC_GEN_label' has levels not trained on: [2.0]\n",
      "  warnings.warn(w)\n",
      "C:\\Users\\Simone\\Anaconda3\\lib\\site-packages\\h2o\\job.py:70: UserWarning: Test/Validation dataset column 'NOEC_GEN_label' has levels not trained on: [2.0]\n",
      "  warnings.warn(w)\n",
      "C:\\Users\\Simone\\Anaconda3\\lib\\site-packages\\h2o\\job.py:70: UserWarning: Test/Validation dataset column 'NOEC_GEN_label' has levels not trained on: [2.0]\n",
      "  warnings.warn(w)\n",
      "C:\\Users\\Simone\\Anaconda3\\lib\\site-packages\\h2o\\job.py:70: UserWarning: Test/Validation dataset column 'NOEC_GEN_label' has levels not trained on: [2.0]\n",
      "  warnings.warn(w)\n"
     ]
    },
    {
     "name": "stdout",
     "output_type": "stream",
     "text": [
      "done\n",
      "Train and test... Thu Oct 15 22:21:21 2020done... models... Thu Oct 15 23:05:42 2020"
     ]
    },
    {
     "name": "stderr",
     "output_type": "stream",
     "text": [
      "C:\\Users\\Simone\\Anaconda3\\lib\\site-packages\\h2o\\job.py:70: UserWarning: Test/Validation dataset column 'LOEC_BEH_label' has levels not trained on: [1.0, 3.0]\n",
      "  warnings.warn(w)\n",
      "C:\\Users\\Simone\\Anaconda3\\lib\\site-packages\\h2o\\job.py:70: UserWarning: Test/Validation dataset column 'NOEC_CEL_label' has levels not trained on: [2.0, 4.0]\n",
      "  warnings.warn(w)\n",
      "C:\\Users\\Simone\\Anaconda3\\lib\\site-packages\\h2o\\job.py:70: UserWarning: Test/Validation dataset column 'LOEC_BEH_label' has levels not trained on: [1.0, 3.0]\n",
      "  warnings.warn(w)\n",
      "C:\\Users\\Simone\\Anaconda3\\lib\\site-packages\\h2o\\job.py:70: UserWarning: Test/Validation dataset column 'NOEC_CEL_label' has levels not trained on: [2.0, 4.0]\n",
      "  warnings.warn(w)\n",
      "C:\\Users\\Simone\\Anaconda3\\lib\\site-packages\\h2o\\job.py:70: UserWarning: Test/Validation dataset column 'LOEC_BEH_label' has levels not trained on: [1.0, 3.0]\n",
      "  warnings.warn(w)\n",
      "C:\\Users\\Simone\\Anaconda3\\lib\\site-packages\\h2o\\job.py:70: UserWarning: Test/Validation dataset column 'NOEC_CEL_label' has levels not trained on: [2.0, 4.0]\n",
      "  warnings.warn(w)\n",
      "C:\\Users\\Simone\\Anaconda3\\lib\\site-packages\\h2o\\job.py:70: UserWarning: Test/Validation dataset column 'LOEC_BEH_label' has levels not trained on: [1.0, 3.0]\n",
      "  warnings.warn(w)\n",
      "C:\\Users\\Simone\\Anaconda3\\lib\\site-packages\\h2o\\job.py:70: UserWarning: Test/Validation dataset column 'NOEC_CEL_label' has levels not trained on: [2.0, 4.0]\n",
      "  warnings.warn(w)\n",
      "C:\\Users\\Simone\\Anaconda3\\lib\\site-packages\\h2o\\job.py:70: UserWarning: Test/Validation dataset column 'LOEC_BEH_label' has levels not trained on: [1.0, 3.0]\n",
      "  warnings.warn(w)\n",
      "C:\\Users\\Simone\\Anaconda3\\lib\\site-packages\\h2o\\job.py:70: UserWarning: Test/Validation dataset column 'NOEC_CEL_label' has levels not trained on: [2.0, 4.0]\n",
      "  warnings.warn(w)\n",
      "C:\\Users\\Simone\\Anaconda3\\lib\\site-packages\\h2o\\job.py:70: UserWarning: Test/Validation dataset column 'LOEC_BEH_label' has levels not trained on: [1.0, 3.0]\n",
      "  warnings.warn(w)\n",
      "C:\\Users\\Simone\\Anaconda3\\lib\\site-packages\\h2o\\job.py:70: UserWarning: Test/Validation dataset column 'NOEC_CEL_label' has levels not trained on: [2.0, 4.0]\n",
      "  warnings.warn(w)\n",
      "C:\\Users\\Simone\\Anaconda3\\lib\\site-packages\\h2o\\job.py:70: UserWarning: Test/Validation dataset column 'LOEC_BEH_label' has levels not trained on: [1.0, 3.0]\n",
      "  warnings.warn(w)\n",
      "C:\\Users\\Simone\\Anaconda3\\lib\\site-packages\\h2o\\job.py:70: UserWarning: Test/Validation dataset column 'NOEC_CEL_label' has levels not trained on: [2.0, 4.0]\n",
      "  warnings.warn(w)\n",
      "C:\\Users\\Simone\\Anaconda3\\lib\\site-packages\\h2o\\job.py:70: UserWarning: Test/Validation dataset column 'LOEC_BEH_label' has levels not trained on: [1.0, 3.0]\n",
      "  warnings.warn(w)\n",
      "C:\\Users\\Simone\\Anaconda3\\lib\\site-packages\\h2o\\job.py:70: UserWarning: Test/Validation dataset column 'NOEC_CEL_label' has levels not trained on: [2.0, 4.0]\n",
      "  warnings.warn(w)\n",
      "C:\\Users\\Simone\\Anaconda3\\lib\\site-packages\\h2o\\job.py:70: UserWarning: Test/Validation dataset column 'LOEC_BEH_label' has levels not trained on: [1.0, 3.0]\n",
      "  warnings.warn(w)\n",
      "C:\\Users\\Simone\\Anaconda3\\lib\\site-packages\\h2o\\job.py:70: UserWarning: Test/Validation dataset column 'NOEC_CEL_label' has levels not trained on: [2.0, 4.0]\n",
      "  warnings.warn(w)\n",
      "C:\\Users\\Simone\\Anaconda3\\lib\\site-packages\\h2o\\job.py:70: UserWarning: Test/Validation dataset column 'LOEC_BEH_label' has levels not trained on: [1.0, 3.0]\n",
      "  warnings.warn(w)\n",
      "C:\\Users\\Simone\\Anaconda3\\lib\\site-packages\\h2o\\job.py:70: UserWarning: Test/Validation dataset column 'NOEC_CEL_label' has levels not trained on: [2.0, 4.0]\n",
      "  warnings.warn(w)\n",
      "C:\\Users\\Simone\\Anaconda3\\lib\\site-packages\\h2o\\job.py:70: UserWarning: Test/Validation dataset column 'LOEC_BEH_label' has levels not trained on: [1.0, 3.0]\n",
      "  warnings.warn(w)\n",
      "C:\\Users\\Simone\\Anaconda3\\lib\\site-packages\\h2o\\job.py:70: UserWarning: Test/Validation dataset column 'NOEC_CEL_label' has levels not trained on: [2.0, 4.0]\n",
      "  warnings.warn(w)\n",
      "C:\\Users\\Simone\\Anaconda3\\lib\\site-packages\\h2o\\job.py:70: UserWarning: Test/Validation dataset column 'LOEC_BEH_label' has levels not trained on: [1.0, 3.0]\n",
      "  warnings.warn(w)\n",
      "C:\\Users\\Simone\\Anaconda3\\lib\\site-packages\\h2o\\job.py:70: UserWarning: Test/Validation dataset column 'NOEC_CEL_label' has levels not trained on: [2.0, 4.0]\n",
      "  warnings.warn(w)\n",
      "C:\\Users\\Simone\\Anaconda3\\lib\\site-packages\\h2o\\job.py:70: UserWarning: Test/Validation dataset column 'LOEC_BEH_label' has levels not trained on: [1.0, 3.0]\n",
      "  warnings.warn(w)\n",
      "C:\\Users\\Simone\\Anaconda3\\lib\\site-packages\\h2o\\job.py:70: UserWarning: Test/Validation dataset column 'NOEC_CEL_label' has levels not trained on: [2.0, 4.0]\n",
      "  warnings.warn(w)\n",
      "C:\\Users\\Simone\\Anaconda3\\lib\\site-packages\\h2o\\job.py:70: UserWarning: Test/Validation dataset column 'LOEC_BEH_label' has levels not trained on: [1.0, 3.0]\n",
      "  warnings.warn(w)\n",
      "C:\\Users\\Simone\\Anaconda3\\lib\\site-packages\\h2o\\job.py:70: UserWarning: Test/Validation dataset column 'NOEC_CEL_label' has levels not trained on: [2.0, 4.0]\n",
      "  warnings.warn(w)\n",
      "C:\\Users\\Simone\\Anaconda3\\lib\\site-packages\\h2o\\job.py:70: UserWarning: Test/Validation dataset column 'LOEC_BEH_label' has levels not trained on: [1.0, 3.0]\n",
      "  warnings.warn(w)\n",
      "C:\\Users\\Simone\\Anaconda3\\lib\\site-packages\\h2o\\job.py:70: UserWarning: Test/Validation dataset column 'NOEC_CEL_label' has levels not trained on: [2.0, 4.0]\n",
      "  warnings.warn(w)\n",
      "C:\\Users\\Simone\\Anaconda3\\lib\\site-packages\\h2o\\job.py:70: UserWarning: Test/Validation dataset column 'LOEC_BEH_label' has levels not trained on: [1.0, 3.0]\n",
      "  warnings.warn(w)\n",
      "C:\\Users\\Simone\\Anaconda3\\lib\\site-packages\\h2o\\job.py:70: UserWarning: Test/Validation dataset column 'NOEC_CEL_label' has levels not trained on: [2.0, 4.0]\n",
      "  warnings.warn(w)\n",
      "C:\\Users\\Simone\\Anaconda3\\lib\\site-packages\\h2o\\job.py:70: UserWarning: Test/Validation dataset column 'LOEC_BEH_label' has levels not trained on: [1.0, 3.0]\n",
      "  warnings.warn(w)\n",
      "C:\\Users\\Simone\\Anaconda3\\lib\\site-packages\\h2o\\job.py:70: UserWarning: Test/Validation dataset column 'NOEC_CEL_label' has levels not trained on: [2.0, 4.0]\n",
      "  warnings.warn(w)\n",
      "C:\\Users\\Simone\\Anaconda3\\lib\\site-packages\\h2o\\job.py:70: UserWarning: Test/Validation dataset column 'LOEC_BEH_label' has levels not trained on: [1.0, 3.0]\n",
      "  warnings.warn(w)\n",
      "C:\\Users\\Simone\\Anaconda3\\lib\\site-packages\\h2o\\job.py:70: UserWarning: Test/Validation dataset column 'NOEC_CEL_label' has levels not trained on: [2.0, 4.0]\n",
      "  warnings.warn(w)\n",
      "C:\\Users\\Simone\\Anaconda3\\lib\\site-packages\\h2o\\job.py:70: UserWarning: Test/Validation dataset column 'LOEC_BEH_label' has levels not trained on: [1.0, 3.0]\n",
      "  warnings.warn(w)\n",
      "C:\\Users\\Simone\\Anaconda3\\lib\\site-packages\\h2o\\job.py:70: UserWarning: Test/Validation dataset column 'NOEC_CEL_label' has levels not trained on: [2.0, 4.0]\n",
      "  warnings.warn(w)\n",
      "C:\\Users\\Simone\\Anaconda3\\lib\\site-packages\\h2o\\job.py:70: UserWarning: Test/Validation dataset column 'LOEC_BEH_label' has levels not trained on: [1.0, 3.0]\n",
      "  warnings.warn(w)\n",
      "C:\\Users\\Simone\\Anaconda3\\lib\\site-packages\\h2o\\job.py:70: UserWarning: Test/Validation dataset column 'NOEC_CEL_label' has levels not trained on: [2.0, 4.0]\n",
      "  warnings.warn(w)\n",
      "C:\\Users\\Simone\\Anaconda3\\lib\\site-packages\\h2o\\job.py:70: UserWarning: Test/Validation dataset column 'LOEC_BEH_label' has levels not trained on: [1.0, 3.0]\n",
      "  warnings.warn(w)\n",
      "C:\\Users\\Simone\\Anaconda3\\lib\\site-packages\\h2o\\job.py:70: UserWarning: Test/Validation dataset column 'NOEC_CEL_label' has levels not trained on: [2.0, 4.0]\n",
      "  warnings.warn(w)\n",
      "C:\\Users\\Simone\\Anaconda3\\lib\\site-packages\\h2o\\job.py:70: UserWarning: Test/Validation dataset column 'LOEC_BEH_label' has levels not trained on: [1.0, 3.0]\n",
      "  warnings.warn(w)\n",
      "C:\\Users\\Simone\\Anaconda3\\lib\\site-packages\\h2o\\job.py:70: UserWarning: Test/Validation dataset column 'NOEC_CEL_label' has levels not trained on: [2.0, 4.0]\n",
      "  warnings.warn(w)\n",
      "C:\\Users\\Simone\\Anaconda3\\lib\\site-packages\\h2o\\job.py:70: UserWarning: Test/Validation dataset column 'LOEC_BEH_label' has levels not trained on: [1.0, 3.0]\n",
      "  warnings.warn(w)\n",
      "C:\\Users\\Simone\\Anaconda3\\lib\\site-packages\\h2o\\job.py:70: UserWarning: Test/Validation dataset column 'NOEC_CEL_label' has levels not trained on: [2.0, 4.0]\n",
      "  warnings.warn(w)\n",
      "C:\\Users\\Simone\\Anaconda3\\lib\\site-packages\\h2o\\job.py:70: UserWarning: Test/Validation dataset column 'LOEC_BEH_label' has levels not trained on: [1.0, 3.0]\n",
      "  warnings.warn(w)\n"
     ]
    },
    {
     "name": "stderr",
     "output_type": "stream",
     "text": [
      "C:\\Users\\Simone\\Anaconda3\\lib\\site-packages\\h2o\\job.py:70: UserWarning: Test/Validation dataset column 'NOEC_CEL_label' has levels not trained on: [2.0, 4.0]\n",
      "  warnings.warn(w)\n",
      "C:\\Users\\Simone\\Anaconda3\\lib\\site-packages\\h2o\\job.py:70: UserWarning: Test/Validation dataset column 'LOEC_BEH_label' has levels not trained on: [1.0, 3.0]\n",
      "  warnings.warn(w)\n",
      "C:\\Users\\Simone\\Anaconda3\\lib\\site-packages\\h2o\\job.py:70: UserWarning: Test/Validation dataset column 'NOEC_CEL_label' has levels not trained on: [2.0, 4.0]\n",
      "  warnings.warn(w)\n",
      "C:\\Users\\Simone\\Anaconda3\\lib\\site-packages\\h2o\\job.py:70: UserWarning: Test/Validation dataset column 'LOEC_BEH_label' has levels not trained on: [1.0, 3.0]\n",
      "  warnings.warn(w)\n",
      "C:\\Users\\Simone\\Anaconda3\\lib\\site-packages\\h2o\\job.py:70: UserWarning: Test/Validation dataset column 'NOEC_CEL_label' has levels not trained on: [2.0, 4.0]\n",
      "  warnings.warn(w)\n",
      "C:\\Users\\Simone\\Anaconda3\\lib\\site-packages\\h2o\\job.py:70: UserWarning: Test/Validation dataset column 'LOEC_BEH_label' has levels not trained on: [1.0, 3.0]\n",
      "  warnings.warn(w)\n",
      "C:\\Users\\Simone\\Anaconda3\\lib\\site-packages\\h2o\\job.py:70: UserWarning: Test/Validation dataset column 'NOEC_CEL_label' has levels not trained on: [2.0, 4.0]\n",
      "  warnings.warn(w)\n",
      "C:\\Users\\Simone\\Anaconda3\\lib\\site-packages\\h2o\\job.py:70: UserWarning: Test/Validation dataset column 'LOEC_BEH_label' has levels not trained on: [1.0, 3.0]\n",
      "  warnings.warn(w)\n",
      "C:\\Users\\Simone\\Anaconda3\\lib\\site-packages\\h2o\\job.py:70: UserWarning: Test/Validation dataset column 'NOEC_CEL_label' has levels not trained on: [2.0, 4.0]\n",
      "  warnings.warn(w)\n",
      "C:\\Users\\Simone\\Anaconda3\\lib\\site-packages\\h2o\\job.py:70: UserWarning: Test/Validation dataset column 'LOEC_BEH_label' has levels not trained on: [1.0, 3.0]\n",
      "  warnings.warn(w)\n",
      "C:\\Users\\Simone\\Anaconda3\\lib\\site-packages\\h2o\\job.py:70: UserWarning: Test/Validation dataset column 'NOEC_CEL_label' has levels not trained on: [2.0, 4.0]\n",
      "  warnings.warn(w)\n",
      "C:\\Users\\Simone\\Anaconda3\\lib\\site-packages\\h2o\\job.py:70: UserWarning: Test/Validation dataset column 'LOEC_BEH_label' has levels not trained on: [1.0, 3.0]\n",
      "  warnings.warn(w)\n",
      "C:\\Users\\Simone\\Anaconda3\\lib\\site-packages\\h2o\\job.py:70: UserWarning: Test/Validation dataset column 'NOEC_CEL_label' has levels not trained on: [2.0, 4.0]\n",
      "  warnings.warn(w)\n",
      "C:\\Users\\Simone\\Anaconda3\\lib\\site-packages\\h2o\\job.py:70: UserWarning: Test/Validation dataset column 'LOEC_BEH_label' has levels not trained on: [1.0, 3.0]\n",
      "  warnings.warn(w)\n",
      "C:\\Users\\Simone\\Anaconda3\\lib\\site-packages\\h2o\\job.py:70: UserWarning: Test/Validation dataset column 'NOEC_CEL_label' has levels not trained on: [2.0, 4.0]\n",
      "  warnings.warn(w)\n",
      "C:\\Users\\Simone\\Anaconda3\\lib\\site-packages\\h2o\\job.py:70: UserWarning: Test/Validation dataset column 'LOEC_BEH_label' has levels not trained on: [1.0, 3.0]\n",
      "  warnings.warn(w)\n",
      "C:\\Users\\Simone\\Anaconda3\\lib\\site-packages\\h2o\\job.py:70: UserWarning: Test/Validation dataset column 'NOEC_CEL_label' has levels not trained on: [2.0, 4.0]\n",
      "  warnings.warn(w)\n",
      "C:\\Users\\Simone\\Anaconda3\\lib\\site-packages\\h2o\\job.py:70: UserWarning: Test/Validation dataset column 'LOEC_BEH_label' has levels not trained on: [1.0, 3.0]\n",
      "  warnings.warn(w)\n",
      "C:\\Users\\Simone\\Anaconda3\\lib\\site-packages\\h2o\\job.py:70: UserWarning: Test/Validation dataset column 'NOEC_CEL_label' has levels not trained on: [2.0, 4.0]\n",
      "  warnings.warn(w)\n",
      "C:\\Users\\Simone\\Anaconda3\\lib\\site-packages\\h2o\\job.py:70: UserWarning: Test/Validation dataset column 'LOEC_BEH_label' has levels not trained on: [1.0, 3.0]\n",
      "  warnings.warn(w)\n",
      "C:\\Users\\Simone\\Anaconda3\\lib\\site-packages\\h2o\\job.py:70: UserWarning: Test/Validation dataset column 'NOEC_CEL_label' has levels not trained on: [2.0, 4.0]\n",
      "  warnings.warn(w)\n",
      "C:\\Users\\Simone\\Anaconda3\\lib\\site-packages\\h2o\\job.py:70: UserWarning: Test/Validation dataset column 'LOEC_BEH_label' has levels not trained on: [1.0, 3.0]\n",
      "  warnings.warn(w)\n",
      "C:\\Users\\Simone\\Anaconda3\\lib\\site-packages\\h2o\\job.py:70: UserWarning: Test/Validation dataset column 'NOEC_CEL_label' has levels not trained on: [2.0, 4.0]\n",
      "  warnings.warn(w)\n",
      "C:\\Users\\Simone\\Anaconda3\\lib\\site-packages\\h2o\\job.py:70: UserWarning: Test/Validation dataset column 'LOEC_BEH_label' has levels not trained on: [1.0, 3.0]\n",
      "  warnings.warn(w)\n",
      "C:\\Users\\Simone\\Anaconda3\\lib\\site-packages\\h2o\\job.py:70: UserWarning: Test/Validation dataset column 'NOEC_CEL_label' has levels not trained on: [2.0, 4.0]\n",
      "  warnings.warn(w)\n",
      "C:\\Users\\Simone\\Anaconda3\\lib\\site-packages\\h2o\\job.py:70: UserWarning: Test/Validation dataset column 'LOEC_BEH_label' has levels not trained on: [1.0, 3.0]\n",
      "  warnings.warn(w)\n",
      "C:\\Users\\Simone\\Anaconda3\\lib\\site-packages\\h2o\\job.py:70: UserWarning: Test/Validation dataset column 'NOEC_CEL_label' has levels not trained on: [2.0, 4.0]\n",
      "  warnings.warn(w)\n",
      "C:\\Users\\Simone\\Anaconda3\\lib\\site-packages\\h2o\\job.py:70: UserWarning: Test/Validation dataset column 'LOEC_BEH_label' has levels not trained on: [1.0, 3.0]\n",
      "  warnings.warn(w)\n",
      "C:\\Users\\Simone\\Anaconda3\\lib\\site-packages\\h2o\\job.py:70: UserWarning: Test/Validation dataset column 'NOEC_CEL_label' has levels not trained on: [2.0, 4.0]\n",
      "  warnings.warn(w)\n",
      "C:\\Users\\Simone\\Anaconda3\\lib\\site-packages\\h2o\\job.py:70: UserWarning: Test/Validation dataset column 'LOEC_BEH_label' has levels not trained on: [1.0, 3.0]\n",
      "  warnings.warn(w)\n",
      "C:\\Users\\Simone\\Anaconda3\\lib\\site-packages\\h2o\\job.py:70: UserWarning: Test/Validation dataset column 'NOEC_CEL_label' has levels not trained on: [2.0, 4.0]\n",
      "  warnings.warn(w)\n",
      "C:\\Users\\Simone\\Anaconda3\\lib\\site-packages\\h2o\\job.py:70: UserWarning: Test/Validation dataset column 'LOEC_BEH_label' has levels not trained on: [1.0, 3.0]\n",
      "  warnings.warn(w)\n",
      "C:\\Users\\Simone\\Anaconda3\\lib\\site-packages\\h2o\\job.py:70: UserWarning: Test/Validation dataset column 'NOEC_CEL_label' has levels not trained on: [2.0, 4.0]\n",
      "  warnings.warn(w)\n",
      "C:\\Users\\Simone\\Anaconda3\\lib\\site-packages\\h2o\\job.py:70: UserWarning: Test/Validation dataset column 'LOEC_BEH_label' has levels not trained on: [1.0, 3.0]\n",
      "  warnings.warn(w)\n",
      "C:\\Users\\Simone\\Anaconda3\\lib\\site-packages\\h2o\\job.py:70: UserWarning: Test/Validation dataset column 'NOEC_CEL_label' has levels not trained on: [2.0, 4.0]\n",
      "  warnings.warn(w)\n",
      "C:\\Users\\Simone\\Anaconda3\\lib\\site-packages\\h2o\\job.py:70: UserWarning: Test/Validation dataset column 'LOEC_BEH_label' has levels not trained on: [1.0, 3.0]\n",
      "  warnings.warn(w)\n",
      "C:\\Users\\Simone\\Anaconda3\\lib\\site-packages\\h2o\\job.py:70: UserWarning: Test/Validation dataset column 'NOEC_CEL_label' has levels not trained on: [2.0, 4.0]\n",
      "  warnings.warn(w)\n",
      "C:\\Users\\Simone\\Anaconda3\\lib\\site-packages\\h2o\\job.py:70: UserWarning: Test/Validation dataset column 'LOEC_BEH_label' has levels not trained on: [1.0, 3.0]\n",
      "  warnings.warn(w)\n",
      "C:\\Users\\Simone\\Anaconda3\\lib\\site-packages\\h2o\\job.py:70: UserWarning: Test/Validation dataset column 'NOEC_CEL_label' has levels not trained on: [2.0, 4.0]\n",
      "  warnings.warn(w)\n",
      "C:\\Users\\Simone\\Anaconda3\\lib\\site-packages\\h2o\\job.py:70: UserWarning: Test/Validation dataset column 'LOEC_BEH_label' has levels not trained on: [1.0, 3.0]\n",
      "  warnings.warn(w)\n",
      "C:\\Users\\Simone\\Anaconda3\\lib\\site-packages\\h2o\\job.py:70: UserWarning: Test/Validation dataset column 'NOEC_CEL_label' has levels not trained on: [2.0, 4.0]\n",
      "  warnings.warn(w)\n",
      "C:\\Users\\Simone\\Anaconda3\\lib\\site-packages\\h2o\\job.py:70: UserWarning: Test/Validation dataset column 'LOEC_BEH_label' has levels not trained on: [1.0, 3.0]\n",
      "  warnings.warn(w)\n",
      "C:\\Users\\Simone\\Anaconda3\\lib\\site-packages\\h2o\\job.py:70: UserWarning: Test/Validation dataset column 'NOEC_CEL_label' has levels not trained on: [2.0, 4.0]\n",
      "  warnings.warn(w)\n",
      "C:\\Users\\Simone\\Anaconda3\\lib\\site-packages\\h2o\\job.py:70: UserWarning: Test/Validation dataset column 'LOEC_BEH_label' has levels not trained on: [1.0, 3.0]\n",
      "  warnings.warn(w)\n",
      "C:\\Users\\Simone\\Anaconda3\\lib\\site-packages\\h2o\\job.py:70: UserWarning: Test/Validation dataset column 'NOEC_CEL_label' has levels not trained on: [2.0, 4.0]\n",
      "  warnings.warn(w)\n",
      "C:\\Users\\Simone\\Anaconda3\\lib\\site-packages\\h2o\\job.py:70: UserWarning: Test/Validation dataset column 'LOEC_BEH_label' has levels not trained on: [1.0, 3.0]\n",
      "  warnings.warn(w)\n",
      "C:\\Users\\Simone\\Anaconda3\\lib\\site-packages\\h2o\\job.py:70: UserWarning: Test/Validation dataset column 'NOEC_CEL_label' has levels not trained on: [2.0, 4.0]\n",
      "  warnings.warn(w)\n"
     ]
    },
    {
     "name": "stderr",
     "output_type": "stream",
     "text": [
      "C:\\Users\\Simone\\Anaconda3\\lib\\site-packages\\h2o\\job.py:70: UserWarning: Test/Validation dataset column 'LOEC_BEH_label' has levels not trained on: [1.0, 3.0]\n",
      "  warnings.warn(w)\n",
      "C:\\Users\\Simone\\Anaconda3\\lib\\site-packages\\h2o\\job.py:70: UserWarning: Test/Validation dataset column 'NOEC_CEL_label' has levels not trained on: [2.0, 4.0]\n",
      "  warnings.warn(w)\n",
      "C:\\Users\\Simone\\Anaconda3\\lib\\site-packages\\h2o\\job.py:70: UserWarning: Test/Validation dataset column 'LOEC_BEH_label' has levels not trained on: [1.0, 3.0]\n",
      "  warnings.warn(w)\n",
      "C:\\Users\\Simone\\Anaconda3\\lib\\site-packages\\h2o\\job.py:70: UserWarning: Test/Validation dataset column 'NOEC_CEL_label' has levels not trained on: [2.0, 4.0]\n",
      "  warnings.warn(w)\n",
      "C:\\Users\\Simone\\Anaconda3\\lib\\site-packages\\h2o\\job.py:70: UserWarning: Test/Validation dataset column 'LOEC_BEH_label' has levels not trained on: [1.0, 3.0]\n",
      "  warnings.warn(w)\n",
      "C:\\Users\\Simone\\Anaconda3\\lib\\site-packages\\h2o\\job.py:70: UserWarning: Test/Validation dataset column 'NOEC_CEL_label' has levels not trained on: [2.0, 4.0]\n",
      "  warnings.warn(w)\n",
      "C:\\Users\\Simone\\Anaconda3\\lib\\site-packages\\h2o\\job.py:70: UserWarning: Test/Validation dataset column 'LOEC_BEH_label' has levels not trained on: [1.0, 3.0]\n",
      "  warnings.warn(w)\n",
      "C:\\Users\\Simone\\Anaconda3\\lib\\site-packages\\h2o\\job.py:70: UserWarning: Test/Validation dataset column 'NOEC_CEL_label' has levels not trained on: [2.0, 4.0]\n",
      "  warnings.warn(w)\n",
      "C:\\Users\\Simone\\Anaconda3\\lib\\site-packages\\h2o\\job.py:70: UserWarning: Test/Validation dataset column 'LOEC_BEH_label' has levels not trained on: [1.0, 3.0]\n",
      "  warnings.warn(w)\n",
      "C:\\Users\\Simone\\Anaconda3\\lib\\site-packages\\h2o\\job.py:70: UserWarning: Test/Validation dataset column 'NOEC_CEL_label' has levels not trained on: [2.0, 4.0]\n",
      "  warnings.warn(w)\n",
      "C:\\Users\\Simone\\Anaconda3\\lib\\site-packages\\h2o\\job.py:70: UserWarning: Test/Validation dataset column 'LOEC_BEH_label' has levels not trained on: [1.0, 3.0]\n",
      "  warnings.warn(w)\n",
      "C:\\Users\\Simone\\Anaconda3\\lib\\site-packages\\h2o\\job.py:70: UserWarning: Test/Validation dataset column 'NOEC_CEL_label' has levels not trained on: [2.0, 4.0]\n",
      "  warnings.warn(w)\n",
      "C:\\Users\\Simone\\Anaconda3\\lib\\site-packages\\h2o\\job.py:70: UserWarning: Test/Validation dataset column 'LOEC_BEH_label' has levels not trained on: [1.0, 3.0]\n",
      "  warnings.warn(w)\n",
      "C:\\Users\\Simone\\Anaconda3\\lib\\site-packages\\h2o\\job.py:70: UserWarning: Test/Validation dataset column 'NOEC_CEL_label' has levels not trained on: [2.0, 4.0]\n",
      "  warnings.warn(w)\n",
      "C:\\Users\\Simone\\Anaconda3\\lib\\site-packages\\h2o\\job.py:70: UserWarning: Test/Validation dataset column 'LOEC_BEH_label' has levels not trained on: [1.0, 3.0]\n",
      "  warnings.warn(w)\n",
      "C:\\Users\\Simone\\Anaconda3\\lib\\site-packages\\h2o\\job.py:70: UserWarning: Test/Validation dataset column 'NOEC_CEL_label' has levels not trained on: [2.0, 4.0]\n",
      "  warnings.warn(w)\n",
      "C:\\Users\\Simone\\Anaconda3\\lib\\site-packages\\h2o\\job.py:70: UserWarning: Test/Validation dataset column 'LOEC_BEH_label' has levels not trained on: [1.0, 3.0]\n",
      "  warnings.warn(w)\n",
      "C:\\Users\\Simone\\Anaconda3\\lib\\site-packages\\h2o\\job.py:70: UserWarning: Test/Validation dataset column 'NOEC_CEL_label' has levels not trained on: [2.0, 4.0]\n",
      "  warnings.warn(w)\n",
      "C:\\Users\\Simone\\Anaconda3\\lib\\site-packages\\h2o\\job.py:70: UserWarning: Test/Validation dataset column 'LOEC_BEH_label' has levels not trained on: [1.0, 3.0]\n",
      "  warnings.warn(w)\n",
      "C:\\Users\\Simone\\Anaconda3\\lib\\site-packages\\h2o\\job.py:70: UserWarning: Test/Validation dataset column 'NOEC_CEL_label' has levels not trained on: [2.0, 4.0]\n",
      "  warnings.warn(w)\n",
      "C:\\Users\\Simone\\Anaconda3\\lib\\site-packages\\h2o\\job.py:70: UserWarning: Test/Validation dataset column 'LOEC_BEH_label' has levels not trained on: [1.0, 3.0]\n",
      "  warnings.warn(w)\n",
      "C:\\Users\\Simone\\Anaconda3\\lib\\site-packages\\h2o\\job.py:70: UserWarning: Test/Validation dataset column 'NOEC_CEL_label' has levels not trained on: [2.0, 4.0]\n",
      "  warnings.warn(w)\n",
      "C:\\Users\\Simone\\Anaconda3\\lib\\site-packages\\h2o\\job.py:70: UserWarning: Test/Validation dataset column 'LOEC_BEH_label' has levels not trained on: [1.0, 3.0]\n",
      "  warnings.warn(w)\n",
      "C:\\Users\\Simone\\Anaconda3\\lib\\site-packages\\h2o\\job.py:70: UserWarning: Test/Validation dataset column 'NOEC_CEL_label' has levels not trained on: [2.0, 4.0]\n",
      "  warnings.warn(w)\n",
      "C:\\Users\\Simone\\Anaconda3\\lib\\site-packages\\h2o\\job.py:70: UserWarning: Test/Validation dataset column 'LOEC_BEH_label' has levels not trained on: [1.0, 3.0]\n",
      "  warnings.warn(w)\n",
      "C:\\Users\\Simone\\Anaconda3\\lib\\site-packages\\h2o\\job.py:70: UserWarning: Test/Validation dataset column 'NOEC_CEL_label' has levels not trained on: [2.0, 4.0]\n",
      "  warnings.warn(w)\n",
      "C:\\Users\\Simone\\Anaconda3\\lib\\site-packages\\h2o\\job.py:70: UserWarning: Test/Validation dataset column 'LOEC_BEH_label' has levels not trained on: [1.0, 3.0]\n",
      "  warnings.warn(w)\n",
      "C:\\Users\\Simone\\Anaconda3\\lib\\site-packages\\h2o\\job.py:70: UserWarning: Test/Validation dataset column 'NOEC_CEL_label' has levels not trained on: [2.0, 4.0]\n",
      "  warnings.warn(w)\n",
      "C:\\Users\\Simone\\Anaconda3\\lib\\site-packages\\h2o\\job.py:70: UserWarning: Test/Validation dataset column 'LOEC_BEH_label' has levels not trained on: [1.0, 3.0]\n",
      "  warnings.warn(w)\n",
      "C:\\Users\\Simone\\Anaconda3\\lib\\site-packages\\h2o\\job.py:70: UserWarning: Test/Validation dataset column 'NOEC_CEL_label' has levels not trained on: [2.0, 4.0]\n",
      "  warnings.warn(w)\n",
      "C:\\Users\\Simone\\Anaconda3\\lib\\site-packages\\h2o\\job.py:70: UserWarning: Test/Validation dataset column 'LOEC_BEH_label' has levels not trained on: [1.0, 3.0]\n",
      "  warnings.warn(w)\n",
      "C:\\Users\\Simone\\Anaconda3\\lib\\site-packages\\h2o\\job.py:70: UserWarning: Test/Validation dataset column 'NOEC_CEL_label' has levels not trained on: [2.0, 4.0]\n",
      "  warnings.warn(w)\n",
      "C:\\Users\\Simone\\Anaconda3\\lib\\site-packages\\h2o\\job.py:70: UserWarning: Test/Validation dataset column 'LOEC_BEH_label' has levels not trained on: [1.0, 3.0]\n",
      "  warnings.warn(w)\n",
      "C:\\Users\\Simone\\Anaconda3\\lib\\site-packages\\h2o\\job.py:70: UserWarning: Test/Validation dataset column 'NOEC_CEL_label' has levels not trained on: [2.0, 4.0]\n",
      "  warnings.warn(w)\n",
      "C:\\Users\\Simone\\Anaconda3\\lib\\site-packages\\h2o\\job.py:70: UserWarning: Test/Validation dataset column 'LOEC_BEH_label' has levels not trained on: [1.0, 3.0]\n",
      "  warnings.warn(w)\n",
      "C:\\Users\\Simone\\Anaconda3\\lib\\site-packages\\h2o\\job.py:70: UserWarning: Test/Validation dataset column 'NOEC_CEL_label' has levels not trained on: [2.0, 4.0]\n",
      "  warnings.warn(w)\n",
      "C:\\Users\\Simone\\Anaconda3\\lib\\site-packages\\h2o\\job.py:70: UserWarning: Test/Validation dataset column 'LOEC_BEH_label' has levels not trained on: [1.0, 3.0]\n",
      "  warnings.warn(w)\n",
      "C:\\Users\\Simone\\Anaconda3\\lib\\site-packages\\h2o\\job.py:70: UserWarning: Test/Validation dataset column 'NOEC_CEL_label' has levels not trained on: [2.0, 4.0]\n",
      "  warnings.warn(w)\n",
      "C:\\Users\\Simone\\Anaconda3\\lib\\site-packages\\h2o\\job.py:70: UserWarning: Test/Validation dataset column 'LOEC_BEH_label' has levels not trained on: [1.0, 3.0]\n",
      "  warnings.warn(w)\n",
      "C:\\Users\\Simone\\Anaconda3\\lib\\site-packages\\h2o\\job.py:70: UserWarning: Test/Validation dataset column 'NOEC_CEL_label' has levels not trained on: [2.0, 4.0]\n",
      "  warnings.warn(w)\n",
      "C:\\Users\\Simone\\Anaconda3\\lib\\site-packages\\h2o\\job.py:70: UserWarning: Test/Validation dataset column 'LOEC_BEH_label' has levels not trained on: [1.0, 3.0]\n",
      "  warnings.warn(w)\n",
      "C:\\Users\\Simone\\Anaconda3\\lib\\site-packages\\h2o\\job.py:70: UserWarning: Test/Validation dataset column 'NOEC_CEL_label' has levels not trained on: [2.0, 4.0]\n",
      "  warnings.warn(w)\n",
      "C:\\Users\\Simone\\Anaconda3\\lib\\site-packages\\h2o\\job.py:70: UserWarning: Test/Validation dataset column 'LOEC_BEH_label' has levels not trained on: [1.0, 3.0]\n",
      "  warnings.warn(w)\n",
      "C:\\Users\\Simone\\Anaconda3\\lib\\site-packages\\h2o\\job.py:70: UserWarning: Test/Validation dataset column 'NOEC_CEL_label' has levels not trained on: [2.0, 4.0]\n",
      "  warnings.warn(w)\n",
      "C:\\Users\\Simone\\Anaconda3\\lib\\site-packages\\h2o\\job.py:70: UserWarning: Test/Validation dataset column 'LOEC_BEH_label' has levels not trained on: [1.0, 3.0]\n",
      "  warnings.warn(w)\n",
      "C:\\Users\\Simone\\Anaconda3\\lib\\site-packages\\h2o\\job.py:70: UserWarning: Test/Validation dataset column 'NOEC_CEL_label' has levels not trained on: [2.0, 4.0]\n",
      "  warnings.warn(w)\n",
      "C:\\Users\\Simone\\Anaconda3\\lib\\site-packages\\h2o\\job.py:70: UserWarning: Test/Validation dataset column 'LOEC_BEH_label' has levels not trained on: [1.0, 3.0]\n",
      "  warnings.warn(w)\n"
     ]
    },
    {
     "name": "stderr",
     "output_type": "stream",
     "text": [
      "C:\\Users\\Simone\\Anaconda3\\lib\\site-packages\\h2o\\job.py:70: UserWarning: Test/Validation dataset column 'NOEC_CEL_label' has levels not trained on: [2.0, 4.0]\n",
      "  warnings.warn(w)\n",
      "C:\\Users\\Simone\\Anaconda3\\lib\\site-packages\\h2o\\job.py:70: UserWarning: Test/Validation dataset column 'LOEC_BEH_label' has levels not trained on: [1.0, 3.0]\n",
      "  warnings.warn(w)\n",
      "C:\\Users\\Simone\\Anaconda3\\lib\\site-packages\\h2o\\job.py:70: UserWarning: Test/Validation dataset column 'NOEC_CEL_label' has levels not trained on: [2.0, 4.0]\n",
      "  warnings.warn(w)\n",
      "C:\\Users\\Simone\\Anaconda3\\lib\\site-packages\\h2o\\job.py:70: UserWarning: Test/Validation dataset column 'LOEC_BEH_label' has levels not trained on: [1.0, 3.0]\n",
      "  warnings.warn(w)\n",
      "C:\\Users\\Simone\\Anaconda3\\lib\\site-packages\\h2o\\job.py:70: UserWarning: Test/Validation dataset column 'NOEC_CEL_label' has levels not trained on: [2.0, 4.0]\n",
      "  warnings.warn(w)\n",
      "C:\\Users\\Simone\\Anaconda3\\lib\\site-packages\\h2o\\job.py:70: UserWarning: Test/Validation dataset column 'LOEC_BEH_label' has levels not trained on: [1.0, 3.0]\n",
      "  warnings.warn(w)\n",
      "C:\\Users\\Simone\\Anaconda3\\lib\\site-packages\\h2o\\job.py:70: UserWarning: Test/Validation dataset column 'NOEC_CEL_label' has levels not trained on: [2.0, 4.0]\n",
      "  warnings.warn(w)\n",
      "C:\\Users\\Simone\\Anaconda3\\lib\\site-packages\\h2o\\job.py:70: UserWarning: Test/Validation dataset column 'LOEC_BEH_label' has levels not trained on: [1.0, 3.0]\n",
      "  warnings.warn(w)\n",
      "C:\\Users\\Simone\\Anaconda3\\lib\\site-packages\\h2o\\job.py:70: UserWarning: Test/Validation dataset column 'NOEC_CEL_label' has levels not trained on: [2.0, 4.0]\n",
      "  warnings.warn(w)\n",
      "C:\\Users\\Simone\\Anaconda3\\lib\\site-packages\\h2o\\job.py:70: UserWarning: Test/Validation dataset column 'LOEC_BEH_label' has levels not trained on: [1.0, 3.0]\n",
      "  warnings.warn(w)\n",
      "C:\\Users\\Simone\\Anaconda3\\lib\\site-packages\\h2o\\job.py:70: UserWarning: Test/Validation dataset column 'NOEC_CEL_label' has levels not trained on: [2.0, 4.0]\n",
      "  warnings.warn(w)\n",
      "C:\\Users\\Simone\\Anaconda3\\lib\\site-packages\\h2o\\job.py:70: UserWarning: Test/Validation dataset column 'LOEC_BEH_label' has levels not trained on: [1.0, 3.0]\n",
      "  warnings.warn(w)\n",
      "C:\\Users\\Simone\\Anaconda3\\lib\\site-packages\\h2o\\job.py:70: UserWarning: Test/Validation dataset column 'NOEC_CEL_label' has levels not trained on: [2.0, 4.0]\n",
      "  warnings.warn(w)\n",
      "C:\\Users\\Simone\\Anaconda3\\lib\\site-packages\\h2o\\job.py:70: UserWarning: Test/Validation dataset column 'LOEC_BEH_label' has levels not trained on: [1.0, 3.0]\n",
      "  warnings.warn(w)\n",
      "C:\\Users\\Simone\\Anaconda3\\lib\\site-packages\\h2o\\job.py:70: UserWarning: Test/Validation dataset column 'NOEC_CEL_label' has levels not trained on: [2.0, 4.0]\n",
      "  warnings.warn(w)\n",
      "C:\\Users\\Simone\\Anaconda3\\lib\\site-packages\\h2o\\job.py:70: UserWarning: Test/Validation dataset column 'LOEC_BEH_label' has levels not trained on: [1.0, 3.0]\n",
      "  warnings.warn(w)\n",
      "C:\\Users\\Simone\\Anaconda3\\lib\\site-packages\\h2o\\job.py:70: UserWarning: Test/Validation dataset column 'NOEC_CEL_label' has levels not trained on: [2.0, 4.0]\n",
      "  warnings.warn(w)\n",
      "C:\\Users\\Simone\\Anaconda3\\lib\\site-packages\\h2o\\job.py:70: UserWarning: Test/Validation dataset column 'LOEC_BEH_label' has levels not trained on: [1.0, 3.0]\n",
      "  warnings.warn(w)\n",
      "C:\\Users\\Simone\\Anaconda3\\lib\\site-packages\\h2o\\job.py:70: UserWarning: Test/Validation dataset column 'NOEC_CEL_label' has levels not trained on: [2.0, 4.0]\n",
      "  warnings.warn(w)\n",
      "C:\\Users\\Simone\\Anaconda3\\lib\\site-packages\\h2o\\job.py:70: UserWarning: Test/Validation dataset column 'LOEC_BEH_label' has levels not trained on: [1.0, 3.0]\n",
      "  warnings.warn(w)\n",
      "C:\\Users\\Simone\\Anaconda3\\lib\\site-packages\\h2o\\job.py:70: UserWarning: Test/Validation dataset column 'NOEC_CEL_label' has levels not trained on: [2.0, 4.0]\n",
      "  warnings.warn(w)\n",
      "C:\\Users\\Simone\\Anaconda3\\lib\\site-packages\\h2o\\job.py:70: UserWarning: Test/Validation dataset column 'LOEC_BEH_label' has levels not trained on: [1.0, 3.0]\n",
      "  warnings.warn(w)\n",
      "C:\\Users\\Simone\\Anaconda3\\lib\\site-packages\\h2o\\job.py:70: UserWarning: Test/Validation dataset column 'NOEC_CEL_label' has levels not trained on: [2.0, 4.0]\n",
      "  warnings.warn(w)\n",
      "C:\\Users\\Simone\\Anaconda3\\lib\\site-packages\\h2o\\job.py:70: UserWarning: Test/Validation dataset column 'LOEC_BEH_label' has levels not trained on: [1.0, 3.0]\n",
      "  warnings.warn(w)\n",
      "C:\\Users\\Simone\\Anaconda3\\lib\\site-packages\\h2o\\job.py:70: UserWarning: Test/Validation dataset column 'NOEC_CEL_label' has levels not trained on: [2.0, 4.0]\n",
      "  warnings.warn(w)\n",
      "C:\\Users\\Simone\\Anaconda3\\lib\\site-packages\\h2o\\job.py:70: UserWarning: Test/Validation dataset column 'LOEC_BEH_label' has levels not trained on: [1.0, 3.0]\n",
      "  warnings.warn(w)\n",
      "C:\\Users\\Simone\\Anaconda3\\lib\\site-packages\\h2o\\job.py:70: UserWarning: Test/Validation dataset column 'NOEC_CEL_label' has levels not trained on: [2.0, 4.0]\n",
      "  warnings.warn(w)\n",
      "C:\\Users\\Simone\\Anaconda3\\lib\\site-packages\\h2o\\job.py:70: UserWarning: Test/Validation dataset column 'LOEC_BEH_label' has levels not trained on: [1.0, 3.0]\n",
      "  warnings.warn(w)\n",
      "C:\\Users\\Simone\\Anaconda3\\lib\\site-packages\\h2o\\job.py:70: UserWarning: Test/Validation dataset column 'NOEC_CEL_label' has levels not trained on: [2.0, 4.0]\n",
      "  warnings.warn(w)\n",
      "C:\\Users\\Simone\\Anaconda3\\lib\\site-packages\\h2o\\job.py:70: UserWarning: Test/Validation dataset column 'LOEC_BEH_label' has levels not trained on: [1.0, 3.0]\n",
      "  warnings.warn(w)\n",
      "C:\\Users\\Simone\\Anaconda3\\lib\\site-packages\\h2o\\job.py:70: UserWarning: Test/Validation dataset column 'NOEC_CEL_label' has levels not trained on: [2.0, 4.0]\n",
      "  warnings.warn(w)\n",
      "C:\\Users\\Simone\\Anaconda3\\lib\\site-packages\\h2o\\job.py:70: UserWarning: Test/Validation dataset column 'LOEC_BEH_label' has levels not trained on: [1.0, 3.0]\n",
      "  warnings.warn(w)\n",
      "C:\\Users\\Simone\\Anaconda3\\lib\\site-packages\\h2o\\job.py:70: UserWarning: Test/Validation dataset column 'NOEC_CEL_label' has levels not trained on: [2.0, 4.0]\n",
      "  warnings.warn(w)\n",
      "C:\\Users\\Simone\\Anaconda3\\lib\\site-packages\\h2o\\job.py:70: UserWarning: Test/Validation dataset column 'LOEC_BEH_label' has levels not trained on: [1.0, 3.0]\n",
      "  warnings.warn(w)\n",
      "C:\\Users\\Simone\\Anaconda3\\lib\\site-packages\\h2o\\job.py:70: UserWarning: Test/Validation dataset column 'NOEC_CEL_label' has levels not trained on: [2.0, 4.0]\n",
      "  warnings.warn(w)\n",
      "C:\\Users\\Simone\\Anaconda3\\lib\\site-packages\\h2o\\job.py:70: UserWarning: Test/Validation dataset column 'LOEC_BEH_label' has levels not trained on: [1.0, 3.0]\n",
      "  warnings.warn(w)\n",
      "C:\\Users\\Simone\\Anaconda3\\lib\\site-packages\\h2o\\job.py:70: UserWarning: Test/Validation dataset column 'NOEC_CEL_label' has levels not trained on: [2.0, 4.0]\n",
      "  warnings.warn(w)\n",
      "C:\\Users\\Simone\\Anaconda3\\lib\\site-packages\\h2o\\job.py:70: UserWarning: Test/Validation dataset column 'LOEC_BEH_label' has levels not trained on: [1.0, 3.0]\n",
      "  warnings.warn(w)\n",
      "C:\\Users\\Simone\\Anaconda3\\lib\\site-packages\\h2o\\job.py:70: UserWarning: Test/Validation dataset column 'NOEC_CEL_label' has levels not trained on: [2.0, 4.0]\n",
      "  warnings.warn(w)\n"
     ]
    },
    {
     "name": "stdout",
     "output_type": "stream",
     "text": [
      "done\n",
      "...END CV Fri Oct 16 00:51:49 2020\n"
     ]
    }
   ],
   "source": [
    "from helper_rasar_datafusion_multiclass import *\n",
    "from sklearn.model_selection import train_test_split\n",
    "\n",
    "db_mortality, db_datafusion = load_datafusion_datasets('data/lc_db_processed.csv', 'data/datafusion_db_processed.csv',\n",
    "                                                      encoding = 'multiclass')\n",
    "\n",
    "X = db_mortality.drop(columns = 'conc1_mean').copy()\n",
    "y = db_mortality.conc1_mean.values\n",
    "\n",
    "X_train, _, y_train, _ = train_test_split(X, y, test_size = 0.33, random_state = 42, stratify = y)\n",
    "\n",
    "del db_mortality, _, X, y\n",
    "\n",
    "hyper_params_tune = {'max_depth' : [15,17,20,23],\n",
    "                'sample_rate': [x/10 for x in np.linspace(2,8,4)],\n",
    "                'col_sample_rate_per_tree': [x/100. for x in range(20,101)],\n",
    "                'min_rows': [2**x for x in range(0,int(math.log(X_train.shape[0],2)-2)+1)],\n",
    "                'nbins': [2**x for x in range(4,11)],\n",
    "                'nbins_cats': [2**x for x in range(4,13)],\n",
    "                'min_split_improvement': [0,1e-8,1e-6,1e-4],\n",
    "                'histogram_type': [\"UniformAdaptive\",\"QuantilesGlobal\",\"RoundRobin\"]}\n",
    "\n",
    "\n",
    "tab_rasar_tune = cv_random_datafusion_rasar_multiclass(X_train, y_train, db_datafusion, hyper_params_tune,\n",
    "                                                       n_models = 90)"
   ]
  },
  {
   "cell_type": "code",
   "execution_count": 3,
   "metadata": {},
   "outputs": [],
   "source": [
    "tab_rasar_tune.to_csv('output/datafusion_tuning_params_multiclass.csv')"
   ]
  },
  {
   "cell_type": "code",
   "execution_count": 7,
   "metadata": {},
   "outputs": [
    {
     "data": {
      "text/html": [
       "<div>\n",
       "<style scoped>\n",
       "    .dataframe tbody tr th:only-of-type {\n",
       "        vertical-align: middle;\n",
       "    }\n",
       "\n",
       "    .dataframe tbody tr th {\n",
       "        vertical-align: top;\n",
       "    }\n",
       "\n",
       "    .dataframe thead th {\n",
       "        text-align: right;\n",
       "    }\n",
       "</style>\n",
       "<table border=\"1\" class=\"dataframe\">\n",
       "  <thead>\n",
       "    <tr style=\"text-align: right;\">\n",
       "      <th></th>\n",
       "      <th>train_acc</th>\n",
       "      <th>test_acc</th>\n",
       "      <th>train_rmse</th>\n",
       "      <th>test_rmse</th>\n",
       "      <th>sample_rate</th>\n",
       "      <th>nbins_cats</th>\n",
       "      <th>nbins</th>\n",
       "      <th>min_split_improvement</th>\n",
       "      <th>min_rows</th>\n",
       "      <th>max_depth</th>\n",
       "      <th>histogram_type</th>\n",
       "      <th>col_sample_rate_per_tree</th>\n",
       "    </tr>\n",
       "  </thead>\n",
       "  <tbody>\n",
       "    <tr>\n",
       "      <th>mod82</th>\n",
       "      <td>0.979262</td>\n",
       "      <td>0.730734</td>\n",
       "      <td>0.175762</td>\n",
       "      <td>0.701838</td>\n",
       "      <td>0.6</td>\n",
       "      <td>4096</td>\n",
       "      <td>64</td>\n",
       "      <td>0.0001</td>\n",
       "      <td>1</td>\n",
       "      <td>17</td>\n",
       "      <td>QuantilesGlobal</td>\n",
       "      <td>0.83</td>\n",
       "    </tr>\n",
       "  </tbody>\n",
       "</table>\n",
       "</div>"
      ],
      "text/plain": [
       "       train_acc  test_acc  train_rmse  test_rmse  sample_rate  nbins_cats  \\\n",
       "mod82   0.979262  0.730734    0.175762   0.701838          0.6        4096   \n",
       "\n",
       "       nbins  min_split_improvement  min_rows  max_depth   histogram_type  \\\n",
       "mod82     64                 0.0001         1         17  QuantilesGlobal   \n",
       "\n",
       "       col_sample_rate_per_tree  \n",
       "mod82                      0.83  "
      ]
     },
     "execution_count": 7,
     "metadata": {},
     "output_type": "execute_result"
    }
   ],
   "source": [
    "# tab_rasar_tune[tab_rasar_tune.test_acc == tab_rasar_tune.test_acc.max()] \n",
    "tab_rasar_tune[tab_rasar_tune.test_rmse == tab_rasar_tune.test_rmse.min()]"
   ]
  },
  {
   "cell_type": "markdown",
   "metadata": {},
   "source": [
    "Miglior modello:\n",
    "- sample_rate = 0.6\n",
    "\n",
    "- nbins_cats = 4096\n",
    "\n",
    "- nbins = 64\n",
    "\n",
    "- min_split_imporovement = 0.0001\n",
    "\n",
    "- min_rows = 1\n",
    "\n",
    "- max_depth = 17\n",
    "\n",
    "- hystogram_type = QuantilesGlobal\n",
    "\n",
    "- col_sample_rate_per_tree = 0.83"
   ]
  },
  {
   "cell_type": "code",
   "execution_count": 1,
   "metadata": {},
   "outputs": [
    {
     "name": "stdout",
     "output_type": "stream",
     "text": [
      "Checking whether there is an H2O instance running at http://localhost:54321 ..... not found.\n",
      "Attempting to start a local H2O server...\n",
      "; Java HotSpot(TM) 64-Bit Server VM (build 25.231-b11, mixed mode)\n",
      "  Starting server from C:\\Users\\Simone\\Anaconda3\\lib\\site-packages\\h2o\\backend\\bin\\h2o.jar\n",
      "  Ice root: C:\\Users\\Simone\\AppData\\Local\\Temp\\tmp__pwxtne\n",
      "  JVM stdout: C:\\Users\\Simone\\AppData\\Local\\Temp\\tmp__pwxtne\\h2o_Simone_started_from_python.out\n",
      "  JVM stderr: C:\\Users\\Simone\\AppData\\Local\\Temp\\tmp__pwxtne\\h2o_Simone_started_from_python.err\n",
      "  Server is running at http://127.0.0.1:54321\n",
      "Connecting to H2O server at http://127.0.0.1:54321 ... successful.\n"
     ]
    },
    {
     "data": {
      "text/html": [
       "<div style=\"overflow:auto\"><table style=\"width:50%\"><tr><td>H2O_cluster_uptime:</td>\n",
       "<td>03 secs</td></tr>\n",
       "<tr><td>H2O_cluster_timezone:</td>\n",
       "<td>Europe/Berlin</td></tr>\n",
       "<tr><td>H2O_data_parsing_timezone:</td>\n",
       "<td>UTC</td></tr>\n",
       "<tr><td>H2O_cluster_version:</td>\n",
       "<td>3.30.1.3</td></tr>\n",
       "<tr><td>H2O_cluster_version_age:</td>\n",
       "<td>17 days </td></tr>\n",
       "<tr><td>H2O_cluster_name:</td>\n",
       "<td>H2O_from_python_Simone_9nkaa9</td></tr>\n",
       "<tr><td>H2O_cluster_total_nodes:</td>\n",
       "<td>1</td></tr>\n",
       "<tr><td>H2O_cluster_free_memory:</td>\n",
       "<td>2.643 Gb</td></tr>\n",
       "<tr><td>H2O_cluster_total_cores:</td>\n",
       "<td>4</td></tr>\n",
       "<tr><td>H2O_cluster_allowed_cores:</td>\n",
       "<td>4</td></tr>\n",
       "<tr><td>H2O_cluster_status:</td>\n",
       "<td>accepting new members, healthy</td></tr>\n",
       "<tr><td>H2O_connection_url:</td>\n",
       "<td>http://127.0.0.1:54321</td></tr>\n",
       "<tr><td>H2O_connection_proxy:</td>\n",
       "<td>{\"http\": null, \"https\": null}</td></tr>\n",
       "<tr><td>H2O_internal_security:</td>\n",
       "<td>False</td></tr>\n",
       "<tr><td>H2O_API_Extensions:</td>\n",
       "<td>Amazon S3, Algos, AutoML, Core V3, TargetEncoder, Core V4</td></tr>\n",
       "<tr><td>Python_version:</td>\n",
       "<td>3.7.7 final</td></tr></table></div>"
      ],
      "text/plain": [
       "--------------------------  ---------------------------------------------------------\n",
       "H2O_cluster_uptime:         03 secs\n",
       "H2O_cluster_timezone:       Europe/Berlin\n",
       "H2O_data_parsing_timezone:  UTC\n",
       "H2O_cluster_version:        3.30.1.3\n",
       "H2O_cluster_version_age:    17 days\n",
       "H2O_cluster_name:           H2O_from_python_Simone_9nkaa9\n",
       "H2O_cluster_total_nodes:    1\n",
       "H2O_cluster_free_memory:    2.643 Gb\n",
       "H2O_cluster_total_cores:    4\n",
       "H2O_cluster_allowed_cores:  4\n",
       "H2O_cluster_status:         accepting new members, healthy\n",
       "H2O_connection_url:         http://127.0.0.1:54321\n",
       "H2O_connection_proxy:       {\"http\": null, \"https\": null}\n",
       "H2O_internal_security:      False\n",
       "H2O_API_Extensions:         Amazon S3, Algos, AutoML, Core V3, TargetEncoder, Core V4\n",
       "Python_version:             3.7.7 final\n",
       "--------------------------  ---------------------------------------------------------"
      ]
     },
     "metadata": {},
     "output_type": "display_data"
    },
    {
     "name": "stdout",
     "output_type": "stream",
     "text": [
      "Computing distance matrix... Fri Oct 16 08:14:25 2020\n",
      "Start CV... Fri Oct 16 08:27:10 2020\n",
      "Train and test...\n",
      "done... Fri Oct 16 09:32:40 2020 model...\n",
      "done Fri Oct 16 09:41:48 2020\n",
      "Train and test...\n",
      "done... Fri Oct 16 10:49:05 2020 model...\n",
      "done Fri Oct 16 10:58:07 2020\n",
      "Train and test...\n",
      "done... Fri Oct 16 12:05:39 2020 model...\n",
      "done Fri Oct 16 12:14:45 2020\n",
      "Train and test...\n",
      "done... Fri Oct 16 13:23:37 2020 model...\n"
     ]
    },
    {
     "name": "stderr",
     "output_type": "stream",
     "text": [
      "C:\\Users\\Simone\\Anaconda3\\lib\\site-packages\\h2o\\job.py:70: UserWarning: Test/Validation dataset column 'LOEC_BEH_label' has levels not trained on: [2.0]\n",
      "  warnings.warn(w)\n"
     ]
    },
    {
     "name": "stdout",
     "output_type": "stream",
     "text": [
      "done Fri Oct 16 13:32:44 2020\n",
      "Train and test...\n",
      "done... Fri Oct 16 14:39:01 2020 model...\n"
     ]
    },
    {
     "name": "stderr",
     "output_type": "stream",
     "text": [
      "C:\\Users\\Simone\\Anaconda3\\lib\\site-packages\\h2o\\job.py:70: UserWarning: Test/Validation dataset column 'LOEC_BEH_label' has levels not trained on: [1.0]\n",
      "  warnings.warn(w)\n",
      "C:\\Users\\Simone\\Anaconda3\\lib\\site-packages\\h2o\\job.py:70: UserWarning: Test/Validation dataset column 'NOEC_CEL_label' has levels not trained on: [3.0]\n",
      "  warnings.warn(w)\n"
     ]
    },
    {
     "name": "stdout",
     "output_type": "stream",
     "text": [
      "done Fri Oct 16 14:48:22 2020\n",
      "...END DataFusion RASAR Fri Oct 16 14:48:22 2020\n",
      "Accuracy: \t 0.7698350798587519, se: 0.0019474804297725378\n",
      "RMSE: \t\t 0.6322534289226286, se: 0.007154501519044299\n",
      "W. Recall: \t 0.7698350798587519, se: 0.0019474804297725378\n",
      "W. Precision: \t 0.7698540655104382, se: 0.0018698919667617354\n"
     ]
    }
   ],
   "source": [
    "from helper_rasar_datafusion_multiclass import *\n",
    "\n",
    "db_mortality, db_datafusion = load_datafusion_datasets('data/lc_db_processed.csv', 'data/datafusion_db_processed.csv',\n",
    "                                                      encoding = 'multiclass')\n",
    "\n",
    "categorical = ['class', 'tax_order', 'family', 'genus', \"species\", 'control_type', 'media_type',\n",
    "               'application_freq_unit',\"exposure_type\", \"conc1_type\", 'obs_duration_mean']\n",
    "\n",
    "non_categorical = ['ring_number', 'tripleBond', 'doubleBond', 'alone_atom_number', 'oh_count',\n",
    "               'atom_number', 'bonds_number', 'Mol', 'MorganDensity', 'LogP']\n",
    "\n",
    "X = db_mortality.drop(columns = 'conc1_mean').copy()\n",
    "y = db_mortality.conc1_mean.values\n",
    "\n",
    "del db_mortality\n",
    "\n",
    "cv_datafusion_rasar_multiclass(X, y, db_datafusion, final_model = True)"
   ]
  }
 ],
 "metadata": {
  "kernelspec": {
   "display_name": "Python 3",
   "language": "python",
   "name": "python3"
  },
  "language_info": {
   "codemirror_mode": {
    "name": "ipython",
    "version": 3
   },
   "file_extension": ".py",
   "mimetype": "text/x-python",
   "name": "python",
   "nbconvert_exporter": "python",
   "pygments_lexer": "ipython3",
   "version": "3.7.7"
  }
 },
 "nbformat": 4,
 "nbformat_minor": 4
}
