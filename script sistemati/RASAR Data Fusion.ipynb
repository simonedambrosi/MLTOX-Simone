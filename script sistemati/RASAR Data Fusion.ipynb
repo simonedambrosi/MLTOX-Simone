{
 "cells": [
  {
   "cell_type": "code",
   "execution_count": 4,
   "metadata": {
    "scrolled": true
   },
   "outputs": [
    {
     "name": "stdout",
     "output_type": "stream",
     "text": [
      "\n",
      " Accuracy: \t 0.8980482894941753, se: 0.0018325912430409545\n",
      "RMSE: \t\t 0.31924754468619077, se: 0.0028598827626033878\n",
      "Sensitivity: \t 0.9267267034000574, se: 0.0022623920309544515\n",
      "Precision: \t 0.9107334547713885, se: 0.0018184925686037222\n",
      "Specificity: \t 0.8510175890284625, se: 0.003422215436299718\n"
     ]
    }
   ],
   "source": [
    "from helper_datafusion import *\n",
    "db_mortality = pd.read_csv('data/lc_db_processed.csv')\n",
    "dist_datafusion = pd.read_csv('data/datafusion_distances.csv').drop(columns = 'Unnamed: 0')\n",
    "accs = []\n",
    "rmse = []\n",
    "sens = []\n",
    "precs = []\n",
    "specs = []\n",
    "\n",
    "kf = KFold(n_splits = 5, shuffle = True)\n",
    "for train_index, test_index in kf.split(db_mortality):\n",
    "    X_train = dist_datafusion.iloc[train_index]\n",
    "    X_test = dist_datafusion.iloc[test_index]\n",
    "    \n",
    "    y_train = np.where(db_mortality.conc1_mean.iloc[train_index]>1,1,0)\n",
    "    y_test =  np.where(db_mortality.conc1_mean.iloc[test_index]>1,1,0)\n",
    "    \n",
    "    clf = RandomForestClassifier(n_estimators = 500, n_jobs = -1)\n",
    "    clf.fit(X_train, y_train)\n",
    "    y_pred = clf.predict(X_test)\n",
    "    \n",
    "    tn, fp, fn, tp = confusion_matrix(y_test, y_pred).ravel()\n",
    "\n",
    "    accs.append(accuracy_score(y_test, y_pred))\n",
    "    rmse.append(sqrt(mean_squared_error(y_test, y_pred)))\n",
    "    sens.append(recall_score(y_test, y_pred))\n",
    "    precs.append(precision_score(y_test, y_pred))\n",
    "    specs.append(tn/(tn+fp)) \n",
    "        \n",
    "avg_acc = np.mean(accs)\n",
    "se_acc = sem(accs)\n",
    "\n",
    "avg_rmse = np.mean(rmse)\n",
    "se_rmse = sem(rmse)\n",
    "\n",
    "avg_sens = np.mean(sens)\n",
    "se_sens = sem(sens)\n",
    "\n",
    "avg_precs = np.mean(precs)\n",
    "se_precs = sem(precs)\n",
    "\n",
    "avg_specs = np.mean(specs)\n",
    "se_specs = sem(specs)\n",
    "\n",
    "print('''Accuracy: \\t {}, se: {}\n",
    "RMSE: \\t\\t {}, se: {}\n",
    "Sensitivity: \\t {}, se: {}\n",
    "Precision: \\t {}, se: {}\n",
    "Specificity: \\t {}, se: {}'''.format(avg_acc, se_acc, avg_rmse, se_rmse, avg_sens, se_sens,\n",
    "                                 avg_precs, se_precs, avg_specs, se_specs))"
   ]
  },
  {
   "cell_type": "code",
   "execution_count": 1,
   "metadata": {},
   "outputs": [
    {
     "name": "stdout",
     "output_type": "stream",
     "text": [
      "Computing distance matrix... Wed Sep 23 16:24:27 2020\n",
      "Start CV... Wed Sep 23 16:36:38 2020\n",
      "...END DataFusion RASAR Wed Sep 23 18:29:05 2020\n",
      "Accuracy: \t 0.9158905337316472, se: 0.0010349961873023007\n",
      "    RMSE: \t\t 0.28999439474586375, se: 0.0017830650810416518\n",
      "    Sensitivity: \t 0.9401460366673255, se: 0.0012092713925737277\n",
      "    Precision: \t 0.9255970378295088, se: 0.002227388127143637\n",
      "    Specificity: \t 0.8761245417891879, se: 0.003097701308387638\n"
     ]
    }
   ],
   "source": [
    "from helper_datafusion import *\n",
    "\n",
    "db_mortality, db_datafusion = load_datafusion_datasets('data/lc_db_processed.csv', 'data/datafusion_db_processed.csv')\n",
    "\n",
    "categorical = ['class', 'tax_order', 'family', 'genus', \"species\", 'control_type', 'media_type',\n",
    "               'application_freq_unit',\"exposure_type\", \"conc1_type\", 'obs_duration_mean']\n",
    "\n",
    "non_categorical = ['ring_number', 'tripleBond', 'doubleBond', 'alone_atom_number', 'oh_count',\n",
    "               'atom_number', 'bonds_number', 'Mol', 'MorganDensity', 'LogP']\n",
    "\n",
    "X = db_mortality.drop(columns = 'conc1_mean').copy()\n",
    "y = db_mortality.conc1_mean.values\n",
    "\n",
    "del db_mortality\n",
    "\n",
    "acc, se_acc, rmse, se_rmse = cv_datafusion_rasar(X, y, db_datafusion)"
   ]
  },
  {
   "cell_type": "code",
   "execution_count": null,
   "metadata": {},
   "outputs": [],
   "source": []
  },
  {
   "cell_type": "code",
   "execution_count": 1,
   "metadata": {},
   "outputs": [],
   "source": [
    "from helper_datafusion import *\n",
    "\n",
    "def find_similar(exp_mortality, db_datafusion, compare_features):\n",
    "    sim_exp = (db_datafusion[compare_features] == exp_mortality).all(axis = 1)\n",
    "    out = db_datafusion.conc1_mean[sim_exp].index.tolist()\n",
    "    if len(out) != 0:\n",
    "        return db_datafusion.conc1_mean[sim_exp].values[0]\n",
    "    else:\n",
    "        return 'Unknown'\n",
    "\n",
    "db_mortality = pd.read_csv('data/lc_db_processed.csv').drop(columns = 'Unnamed: 0')\n",
    "db_datafusion = pd.read_csv('data/datafusion_db_processed.csv').drop(columns = 'Unnamed: 0')\n",
    "\n",
    "comp_feat = ['test_cas', 'obs_duration_mean', 'conc1_type', 'fish', 'exposure_type',\n",
    "                     'control_type', 'media_type', 'application_freq_unit']\n",
    "\n",
    "db_mortality['fish'] = db_mortality['class'] + ' ' + db_mortality['tax_order'] + ' ' + db_mortality['family'] + ' ' +\\\n",
    "                       db_mortality['genus'] + ' ' + db_mortality['species']\n",
    "\n",
    "db_datafusion['fish'] = db_datafusion['class'] + ' ' + db_datafusion['tax_order'] + ' ' + db_datafusion['family'] + ' ' +\\\n",
    "                       db_datafusion['genus'] + ' ' + db_datafusion['species']"
   ]
  },
  {
   "cell_type": "code",
   "execution_count": 99,
   "metadata": {},
   "outputs": [],
   "source": [
    "a = db_mortality.apply(lambda x: find_similar(x[comp_feat], db_datafusion, comp_feat), axis = 1)"
   ]
  },
  {
   "cell_type": "code",
   "execution_count": 106,
   "metadata": {},
   "outputs": [
    {
     "data": {
      "text/plain": [
       "26087"
      ]
     },
     "execution_count": 106,
     "metadata": {},
     "output_type": "execute_result"
    }
   ],
   "source": [
    "len(a[a == 'Unknown'])"
   ]
  },
  {
   "cell_type": "code",
   "execution_count": 105,
   "metadata": {},
   "outputs": [
    {
     "data": {
      "text/plain": [
       "759"
      ]
     },
     "execution_count": 105,
     "metadata": {},
     "output_type": "execute_result"
    }
   ],
   "source": [
    "len(a[a != 'Unknown'])"
   ]
  }
 ],
 "metadata": {
  "kernelspec": {
   "display_name": "Python 3",
   "language": "python",
   "name": "python3"
  },
  "language_info": {
   "codemirror_mode": {
    "name": "ipython",
    "version": 3
   },
   "file_extension": ".py",
   "mimetype": "text/x-python",
   "name": "python",
   "nbconvert_exporter": "python",
   "pygments_lexer": "ipython3",
   "version": "3.7.7"
  }
 },
 "nbformat": 4,
 "nbformat_minor": 4
}
