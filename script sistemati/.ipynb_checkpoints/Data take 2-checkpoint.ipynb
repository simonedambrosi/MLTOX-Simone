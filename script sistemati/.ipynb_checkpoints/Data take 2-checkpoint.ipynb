{
 "cells": [
  {
   "cell_type": "code",
   "execution_count": 4,
   "metadata": {},
   "outputs": [],
   "source": [
    "import pandas as pd\n",
    "import numpy as np\n",
    "import matplotlib.pyplot as plt\n",
    "from general_helper import *\n",
    "\n",
    "rp = pd.read_csv('data/prefiltered_results.csv').drop(columns = 'Unnamed: 0')"
   ]
  },
  {
   "cell_type": "code",
   "execution_count": 7,
   "metadata": {
    "collapsed": true
   },
   "outputs": [
    {
     "name": "stderr",
     "output_type": "stream",
     "text": [
      "C:\\Users\\Simone\\Anaconda3\\lib\\site-packages\\pandas\\core\\ops\\array_ops.py:253: FutureWarning: elementwise comparison failed; returning scalar instead, but in the future will perform elementwise comparison\n",
      "  res_values = method(rvalues)\n"
     ]
    },
    {
     "data": {
      "text/html": [
       "<div>\n",
       "<style scoped>\n",
       "    .dataframe tbody tr th:only-of-type {\n",
       "        vertical-align: middle;\n",
       "    }\n",
       "\n",
       "    .dataframe tbody tr th {\n",
       "        vertical-align: top;\n",
       "    }\n",
       "\n",
       "    .dataframe thead th {\n",
       "        text-align: right;\n",
       "    }\n",
       "</style>\n",
       "<table border=\"1\" class=\"dataframe\">\n",
       "  <thead>\n",
       "    <tr style=\"text-align: right;\">\n",
       "      <th></th>\n",
       "      <th>null_values_inc_NC_NR%</th>\n",
       "      <th>#outputs</th>\n",
       "    </tr>\n",
       "  </thead>\n",
       "  <tbody>\n",
       "    <tr>\n",
       "      <th>result_id</th>\n",
       "      <td>0</td>\n",
       "      <td>64341</td>\n",
       "    </tr>\n",
       "    <tr>\n",
       "      <th>test_id</th>\n",
       "      <td>0</td>\n",
       "      <td>61087</td>\n",
       "    </tr>\n",
       "    <tr>\n",
       "      <th>obs_duration_mean</th>\n",
       "      <td>1.77803</td>\n",
       "      <td>310</td>\n",
       "    </tr>\n",
       "    <tr>\n",
       "      <th>obs_duration_unit</th>\n",
       "      <td>0.296856</td>\n",
       "      <td>13</td>\n",
       "    </tr>\n",
       "    <tr>\n",
       "      <th>endpoint</th>\n",
       "      <td>0</td>\n",
       "      <td>6</td>\n",
       "    </tr>\n",
       "    <tr>\n",
       "      <th>effect</th>\n",
       "      <td>0</td>\n",
       "      <td>4</td>\n",
       "    </tr>\n",
       "    <tr>\n",
       "      <th>measurement</th>\n",
       "      <td>0</td>\n",
       "      <td>7</td>\n",
       "    </tr>\n",
       "    <tr>\n",
       "      <th>conc1_type</th>\n",
       "      <td>2.69968</td>\n",
       "      <td>8</td>\n",
       "    </tr>\n",
       "    <tr>\n",
       "      <th>conc1_mean</th>\n",
       "      <td>4.07361</td>\n",
       "      <td>9497</td>\n",
       "    </tr>\n",
       "    <tr>\n",
       "      <th>conc1_unit</th>\n",
       "      <td>0.00777109</td>\n",
       "      <td>61</td>\n",
       "    </tr>\n",
       "    <tr>\n",
       "      <th>test_cas</th>\n",
       "      <td>0</td>\n",
       "      <td>3481</td>\n",
       "    </tr>\n",
       "    <tr>\n",
       "      <th>test_location</th>\n",
       "      <td>1.25425</td>\n",
       "      <td>4</td>\n",
       "    </tr>\n",
       "    <tr>\n",
       "      <th>exposure_type</th>\n",
       "      <td>8.29953</td>\n",
       "      <td>20</td>\n",
       "    </tr>\n",
       "    <tr>\n",
       "      <th>control_type</th>\n",
       "      <td>13.1114</td>\n",
       "      <td>12</td>\n",
       "    </tr>\n",
       "    <tr>\n",
       "      <th>media_type</th>\n",
       "      <td>0.00155422</td>\n",
       "      <td>8</td>\n",
       "    </tr>\n",
       "    <tr>\n",
       "      <th>application_freq_unit</th>\n",
       "      <td>15.7458</td>\n",
       "      <td>28</td>\n",
       "    </tr>\n",
       "    <tr>\n",
       "      <th>class</th>\n",
       "      <td>0.0916989</td>\n",
       "      <td>4</td>\n",
       "    </tr>\n",
       "    <tr>\n",
       "      <th>tax_order</th>\n",
       "      <td>0.0916989</td>\n",
       "      <td>30</td>\n",
       "    </tr>\n",
       "    <tr>\n",
       "      <th>family</th>\n",
       "      <td>0.119675</td>\n",
       "      <td>107</td>\n",
       "    </tr>\n",
       "    <tr>\n",
       "      <th>genus</th>\n",
       "      <td>0.303073</td>\n",
       "      <td>324</td>\n",
       "    </tr>\n",
       "    <tr>\n",
       "      <th>species</th>\n",
       "      <td>0.303073</td>\n",
       "      <td>516</td>\n",
       "    </tr>\n",
       "    <tr>\n",
       "      <th>gen_spec</th>\n",
       "      <td>0.303073</td>\n",
       "      <td>582</td>\n",
       "    </tr>\n",
       "  </tbody>\n",
       "</table>\n",
       "</div>"
      ],
      "text/plain": [
       "                      null_values_inc_NC_NR% #outputs\n",
       "result_id                                  0    64341\n",
       "test_id                                    0    61087\n",
       "obs_duration_mean                    1.77803      310\n",
       "obs_duration_unit                   0.296856       13\n",
       "endpoint                                   0        6\n",
       "effect                                     0        4\n",
       "measurement                                0        7\n",
       "conc1_type                           2.69968        8\n",
       "conc1_mean                           4.07361     9497\n",
       "conc1_unit                        0.00777109       61\n",
       "test_cas                                   0     3481\n",
       "test_location                        1.25425        4\n",
       "exposure_type                        8.29953       20\n",
       "control_type                         13.1114       12\n",
       "media_type                        0.00155422        8\n",
       "application_freq_unit                15.7458       28\n",
       "class                              0.0916989        4\n",
       "tax_order                          0.0916989       30\n",
       "family                              0.119675      107\n",
       "genus                               0.303073      324\n",
       "species                             0.303073      516\n",
       "gen_spec                            0.303073      582"
      ]
     },
     "execution_count": 7,
     "metadata": {},
     "output_type": "execute_result"
    }
   ],
   "source": [
    "null_output_counts(rp)"
   ]
  },
  {
   "cell_type": "code",
   "execution_count": 5,
   "metadata": {},
   "outputs": [],
   "source": [
    "to_drop_spec = rp[rp.species.isnull()].index\n",
    "rp.drop(index = to_drop_spec, inplace = True)"
   ]
  },
  {
   "cell_type": "code",
   "execution_count": 20,
   "metadata": {
    "collapsed": true
   },
   "outputs": [
    {
     "name": "stderr",
     "output_type": "stream",
     "text": [
      "C:\\Users\\Simone\\Anaconda3\\lib\\site-packages\\pandas\\core\\ops\\array_ops.py:253: FutureWarning: elementwise comparison failed; returning scalar instead, but in the future will perform elementwise comparison\n",
      "  res_values = method(rvalues)\n"
     ]
    },
    {
     "data": {
      "text/html": [
       "<div>\n",
       "<style scoped>\n",
       "    .dataframe tbody tr th:only-of-type {\n",
       "        vertical-align: middle;\n",
       "    }\n",
       "\n",
       "    .dataframe tbody tr th {\n",
       "        vertical-align: top;\n",
       "    }\n",
       "\n",
       "    .dataframe thead th {\n",
       "        text-align: right;\n",
       "    }\n",
       "</style>\n",
       "<table border=\"1\" class=\"dataframe\">\n",
       "  <thead>\n",
       "    <tr style=\"text-align: right;\">\n",
       "      <th></th>\n",
       "      <th>null_values_inc_NC_NR%</th>\n",
       "      <th>#outputs</th>\n",
       "    </tr>\n",
       "  </thead>\n",
       "  <tbody>\n",
       "    <tr>\n",
       "      <th>result_id</th>\n",
       "      <td>0</td>\n",
       "      <td>64146</td>\n",
       "    </tr>\n",
       "    <tr>\n",
       "      <th>test_id</th>\n",
       "      <td>0</td>\n",
       "      <td>60904</td>\n",
       "    </tr>\n",
       "    <tr>\n",
       "      <th>obs_duration_mean</th>\n",
       "      <td>1.78031</td>\n",
       "      <td>310</td>\n",
       "    </tr>\n",
       "    <tr>\n",
       "      <th>obs_duration_unit</th>\n",
       "      <td>0.29464</td>\n",
       "      <td>13</td>\n",
       "    </tr>\n",
       "    <tr>\n",
       "      <th>endpoint</th>\n",
       "      <td>0</td>\n",
       "      <td>6</td>\n",
       "    </tr>\n",
       "    <tr>\n",
       "      <th>effect</th>\n",
       "      <td>0</td>\n",
       "      <td>4</td>\n",
       "    </tr>\n",
       "    <tr>\n",
       "      <th>measurement</th>\n",
       "      <td>0</td>\n",
       "      <td>7</td>\n",
       "    </tr>\n",
       "    <tr>\n",
       "      <th>conc1_type</th>\n",
       "      <td>2.70789</td>\n",
       "      <td>8</td>\n",
       "    </tr>\n",
       "    <tr>\n",
       "      <th>conc1_mean</th>\n",
       "      <td>4.07976</td>\n",
       "      <td>9474</td>\n",
       "    </tr>\n",
       "    <tr>\n",
       "      <th>conc1_unit</th>\n",
       "      <td>0.00779472</td>\n",
       "      <td>60</td>\n",
       "    </tr>\n",
       "    <tr>\n",
       "      <th>test_cas</th>\n",
       "      <td>0</td>\n",
       "      <td>3473</td>\n",
       "    </tr>\n",
       "    <tr>\n",
       "      <th>test_location</th>\n",
       "      <td>1.25807</td>\n",
       "      <td>4</td>\n",
       "    </tr>\n",
       "    <tr>\n",
       "      <th>exposure_type</th>\n",
       "      <td>8.19848</td>\n",
       "      <td>20</td>\n",
       "    </tr>\n",
       "    <tr>\n",
       "      <th>control_type</th>\n",
       "      <td>13.0795</td>\n",
       "      <td>12</td>\n",
       "    </tr>\n",
       "    <tr>\n",
       "      <th>media_type</th>\n",
       "      <td>0.00155894</td>\n",
       "      <td>8</td>\n",
       "    </tr>\n",
       "    <tr>\n",
       "      <th>application_freq_unit</th>\n",
       "      <td>15.6627</td>\n",
       "      <td>28</td>\n",
       "    </tr>\n",
       "    <tr>\n",
       "      <th>class</th>\n",
       "      <td>0</td>\n",
       "      <td>3</td>\n",
       "    </tr>\n",
       "    <tr>\n",
       "      <th>tax_order</th>\n",
       "      <td>0</td>\n",
       "      <td>29</td>\n",
       "    </tr>\n",
       "    <tr>\n",
       "      <th>family</th>\n",
       "      <td>0.00623577</td>\n",
       "      <td>107</td>\n",
       "    </tr>\n",
       "    <tr>\n",
       "      <th>genus</th>\n",
       "      <td>0</td>\n",
       "      <td>323</td>\n",
       "    </tr>\n",
       "    <tr>\n",
       "      <th>species</th>\n",
       "      <td>0</td>\n",
       "      <td>515</td>\n",
       "    </tr>\n",
       "    <tr>\n",
       "      <th>gen_spec</th>\n",
       "      <td>0</td>\n",
       "      <td>581</td>\n",
       "    </tr>\n",
       "  </tbody>\n",
       "</table>\n",
       "</div>"
      ],
      "text/plain": [
       "                      null_values_inc_NC_NR% #outputs\n",
       "result_id                                  0    64146\n",
       "test_id                                    0    60904\n",
       "obs_duration_mean                    1.78031      310\n",
       "obs_duration_unit                    0.29464       13\n",
       "endpoint                                   0        6\n",
       "effect                                     0        4\n",
       "measurement                                0        7\n",
       "conc1_type                           2.70789        8\n",
       "conc1_mean                           4.07976     9474\n",
       "conc1_unit                        0.00779472       60\n",
       "test_cas                                   0     3473\n",
       "test_location                        1.25807        4\n",
       "exposure_type                        8.19848       20\n",
       "control_type                         13.0795       12\n",
       "media_type                        0.00155894        8\n",
       "application_freq_unit                15.6627       28\n",
       "class                                      0        3\n",
       "tax_order                                  0       29\n",
       "family                            0.00623577      107\n",
       "genus                                      0      323\n",
       "species                                    0      515\n",
       "gen_spec                                   0      581"
      ]
     },
     "execution_count": 20,
     "metadata": {},
     "output_type": "execute_result"
    }
   ],
   "source": [
    "null_output_counts(rp)"
   ]
  },
  {
   "cell_type": "code",
   "execution_count": 6,
   "metadata": {},
   "outputs": [],
   "source": [
    "to_drop_fam = rp[rp.family.isnull()].index\n",
    "rp.drop(index = to_drop_fam, inplace = True)"
   ]
  },
  {
   "cell_type": "code",
   "execution_count": 22,
   "metadata": {
    "collapsed": true
   },
   "outputs": [
    {
     "name": "stderr",
     "output_type": "stream",
     "text": [
      "C:\\Users\\Simone\\Anaconda3\\lib\\site-packages\\pandas\\core\\ops\\array_ops.py:253: FutureWarning: elementwise comparison failed; returning scalar instead, but in the future will perform elementwise comparison\n",
      "  res_values = method(rvalues)\n"
     ]
    },
    {
     "data": {
      "text/html": [
       "<div>\n",
       "<style scoped>\n",
       "    .dataframe tbody tr th:only-of-type {\n",
       "        vertical-align: middle;\n",
       "    }\n",
       "\n",
       "    .dataframe tbody tr th {\n",
       "        vertical-align: top;\n",
       "    }\n",
       "\n",
       "    .dataframe thead th {\n",
       "        text-align: right;\n",
       "    }\n",
       "</style>\n",
       "<table border=\"1\" class=\"dataframe\">\n",
       "  <thead>\n",
       "    <tr style=\"text-align: right;\">\n",
       "      <th></th>\n",
       "      <th>null_values_inc_NC_NR%</th>\n",
       "      <th>#outputs</th>\n",
       "    </tr>\n",
       "  </thead>\n",
       "  <tbody>\n",
       "    <tr>\n",
       "      <th>result_id</th>\n",
       "      <td>0</td>\n",
       "      <td>64142</td>\n",
       "    </tr>\n",
       "    <tr>\n",
       "      <th>test_id</th>\n",
       "      <td>0</td>\n",
       "      <td>60900</td>\n",
       "    </tr>\n",
       "    <tr>\n",
       "      <th>obs_duration_mean</th>\n",
       "      <td>1.78042</td>\n",
       "      <td>310</td>\n",
       "    </tr>\n",
       "    <tr>\n",
       "      <th>obs_duration_unit</th>\n",
       "      <td>0.294659</td>\n",
       "      <td>13</td>\n",
       "    </tr>\n",
       "    <tr>\n",
       "      <th>endpoint</th>\n",
       "      <td>0</td>\n",
       "      <td>6</td>\n",
       "    </tr>\n",
       "    <tr>\n",
       "      <th>effect</th>\n",
       "      <td>0</td>\n",
       "      <td>4</td>\n",
       "    </tr>\n",
       "    <tr>\n",
       "      <th>measurement</th>\n",
       "      <td>0</td>\n",
       "      <td>7</td>\n",
       "    </tr>\n",
       "    <tr>\n",
       "      <th>conc1_type</th>\n",
       "      <td>2.70805</td>\n",
       "      <td>8</td>\n",
       "    </tr>\n",
       "    <tr>\n",
       "      <th>conc1_mean</th>\n",
       "      <td>4.08001</td>\n",
       "      <td>9471</td>\n",
       "    </tr>\n",
       "    <tr>\n",
       "      <th>conc1_unit</th>\n",
       "      <td>0.0077952</td>\n",
       "      <td>60</td>\n",
       "    </tr>\n",
       "    <tr>\n",
       "      <th>test_cas</th>\n",
       "      <td>0</td>\n",
       "      <td>3473</td>\n",
       "    </tr>\n",
       "    <tr>\n",
       "      <th>test_location</th>\n",
       "      <td>1.25815</td>\n",
       "      <td>4</td>\n",
       "    </tr>\n",
       "    <tr>\n",
       "      <th>exposure_type</th>\n",
       "      <td>8.199</td>\n",
       "      <td>20</td>\n",
       "    </tr>\n",
       "    <tr>\n",
       "      <th>control_type</th>\n",
       "      <td>13.0804</td>\n",
       "      <td>12</td>\n",
       "    </tr>\n",
       "    <tr>\n",
       "      <th>media_type</th>\n",
       "      <td>0.00155904</td>\n",
       "      <td>8</td>\n",
       "    </tr>\n",
       "    <tr>\n",
       "      <th>application_freq_unit</th>\n",
       "      <td>15.6574</td>\n",
       "      <td>28</td>\n",
       "    </tr>\n",
       "    <tr>\n",
       "      <th>class</th>\n",
       "      <td>0</td>\n",
       "      <td>3</td>\n",
       "    </tr>\n",
       "    <tr>\n",
       "      <th>tax_order</th>\n",
       "      <td>0</td>\n",
       "      <td>29</td>\n",
       "    </tr>\n",
       "    <tr>\n",
       "      <th>family</th>\n",
       "      <td>0</td>\n",
       "      <td>106</td>\n",
       "    </tr>\n",
       "    <tr>\n",
       "      <th>genus</th>\n",
       "      <td>0</td>\n",
       "      <td>322</td>\n",
       "    </tr>\n",
       "    <tr>\n",
       "      <th>species</th>\n",
       "      <td>0</td>\n",
       "      <td>514</td>\n",
       "    </tr>\n",
       "    <tr>\n",
       "      <th>gen_spec</th>\n",
       "      <td>0</td>\n",
       "      <td>580</td>\n",
       "    </tr>\n",
       "  </tbody>\n",
       "</table>\n",
       "</div>"
      ],
      "text/plain": [
       "                      null_values_inc_NC_NR% #outputs\n",
       "result_id                                  0    64142\n",
       "test_id                                    0    60900\n",
       "obs_duration_mean                    1.78042      310\n",
       "obs_duration_unit                   0.294659       13\n",
       "endpoint                                   0        6\n",
       "effect                                     0        4\n",
       "measurement                                0        7\n",
       "conc1_type                           2.70805        8\n",
       "conc1_mean                           4.08001     9471\n",
       "conc1_unit                         0.0077952       60\n",
       "test_cas                                   0     3473\n",
       "test_location                        1.25815        4\n",
       "exposure_type                          8.199       20\n",
       "control_type                         13.0804       12\n",
       "media_type                        0.00155904        8\n",
       "application_freq_unit                15.6574       28\n",
       "class                                      0        3\n",
       "tax_order                                  0       29\n",
       "family                                     0      106\n",
       "genus                                      0      322\n",
       "species                                    0      514\n",
       "gen_spec                                   0      580"
      ]
     },
     "execution_count": 22,
     "metadata": {},
     "output_type": "execute_result"
    }
   ],
   "source": [
    "null_output_counts(rp)"
   ]
  },
  {
   "cell_type": "code",
   "execution_count": 24,
   "metadata": {},
   "outputs": [],
   "source": [
    "# prendo i pesci testati\n",
    "rp[['class','tax_order', 'family', 'genus', 'species', 'gen_spec']].drop_duplicates()\\\n",
    ".reset_index(drop = True).to_csv('data/fish_tested.csv')"
   ]
  },
  {
   "cell_type": "code",
   "execution_count": 15,
   "metadata": {},
   "outputs": [],
   "source": [
    "# prendo i composti testati\n",
    "pd.Series(rp.test_cas.unique(), name = 'test_cas').to_csv('data/cas_number.csv')"
   ]
  },
  {
   "cell_type": "markdown",
   "metadata": {},
   "source": [
    "# Tested Species Analysis"
   ]
  },
  {
   "cell_type": "code",
   "execution_count": 1,
   "metadata": {},
   "outputs": [],
   "source": [
    "from general_helper import *\n",
    "################################\n",
    "ft = pd.read_csv('data/fish_tested.csv').drop(columns = 'Unnamed: 0')"
   ]
  },
  {
   "cell_type": "code",
   "execution_count": 6,
   "metadata": {},
   "outputs": [
    {
     "name": "stdout",
     "output_type": "stream",
     "text": [
      "class: 3\n",
      "tax_order: 29\n",
      "family: 106\n",
      "genus: 322\n",
      "species: 514\n"
     ]
    }
   ],
   "source": [
    "print('class: {}'.format(len(ft.drop_duplicates()['class'].unique())))\n",
    "print('tax_order: {}'.format(len(ft.drop_duplicates()['tax_order'].unique())))\n",
    "print('family: {}'.format(len(ft.drop_duplicates()['family'].unique())))\n",
    "print('genus: {}'.format(len(ft.drop_duplicates()['genus'].unique())))\n",
    "print('species: {}'.format(len(ft.drop_duplicates()['species'].unique())))"
   ]
  },
  {
   "cell_type": "code",
   "execution_count": 3,
   "metadata": {},
   "outputs": [
    {
     "name": "stdout",
     "output_type": "stream",
     "text": [
      "Tutto ok, è un albero\n"
     ]
    }
   ],
   "source": [
    "checkTree(ft.drop(columns=['gen_spec'])) # --> può non servire unire genus con species"
   ]
  },
  {
   "cell_type": "code",
   "execution_count": 2,
   "metadata": {},
   "outputs": [],
   "source": [
    "# per una nuova rappresentazione basta mandare la cella con questo simbolo #######################################\n",
    "from ete3 import Tree, TreeStyle\n",
    "\n",
    "new_tree = df_to_newick(ft)\n",
    "\n",
    "t = Tree(new_tree, format = 8)\n",
    "ts = TreeStyle()\n",
    "ts.show_leaf_name = True\n",
    "ts.mode = \"c\"\n",
    "ts.arc_start = -360 # 0 degrees = 3 o'clock\n",
    "ts.arc_span = 360\n",
    "t.show(tree_style=ts)"
   ]
  },
  {
   "cell_type": "markdown",
   "metadata": {},
   "source": [
    "# Chemical Analysis\n",
    "\n",
    "- SMILES --> CirPy\n",
    "- Pubchem2d --> PubchemPy"
   ]
  },
  {
   "cell_type": "code",
   "execution_count": 3,
   "metadata": {},
   "outputs": [],
   "source": [
    "from general_helper import *\n",
    "\n",
    "cas = pd.read_csv('data/cas_number.csv').drop(columns = 'Unnamed: 0')"
   ]
  },
  {
   "cell_type": "code",
   "execution_count": 28,
   "metadata": {},
   "outputs": [
    {
     "name": "stdout",
     "output_type": "stream",
     "text": [
      "Mon Aug 24 14:36:11 2020\n",
      "Mon Aug 24 15:03:48 2020\n"
     ]
    }
   ],
   "source": [
    "# find_smiles\n",
    "print(ctime())\n",
    "smiles = cas.test_cas.apply(find_smiles)\n",
    "print(ctime())"
   ]
  },
  {
   "cell_type": "code",
   "execution_count": 44,
   "metadata": {},
   "outputs": [],
   "source": [
    "# replace None values with null values\n",
    "smiles.fillna('NaN', inplace = True)"
   ]
  },
  {
   "cell_type": "code",
   "execution_count": 46,
   "metadata": {},
   "outputs": [],
   "source": [
    "# create table with cas number and smiles\n",
    "cas_to_smiles = pd.DataFrame({'test_cas':cas.test_cas, 'smiles':smiles})\n",
    "cas_to_smiles.to_csv('data/cas_to_smiles.csv')"
   ]
  },
  {
   "cell_type": "code",
   "execution_count": 1,
   "metadata": {},
   "outputs": [
    {
     "data": {
      "text/plain": [
       "(3473, 2)"
      ]
     },
     "execution_count": 1,
     "metadata": {},
     "output_type": "execute_result"
    }
   ],
   "source": [
    "from general_helper import  *\n",
    "\n",
    "cs = pd.read_csv('data/cas_to_smiles.csv').drop(columns = ['Unnamed: 0'])\n",
    "cs.shape"
   ]
  },
  {
   "cell_type": "code",
   "execution_count": 2,
   "metadata": {},
   "outputs": [
    {
     "data": {
      "text/plain": [
       "510"
      ]
     },
     "execution_count": 2,
     "metadata": {},
     "output_type": "execute_result"
    }
   ],
   "source": [
    "# how many chemicals don't have SMILES representation\n",
    "len(cs[cs.smiles.isna()])"
   ]
  },
  {
   "cell_type": "code",
   "execution_count": 5,
   "metadata": {},
   "outputs": [],
   "source": [
    "# What are they?\n",
    "cas_no_smiles = cs.test_cas[cs.smiles.isnull()]\n",
    "cas_no_smiles.to_csv('data/cas_not_smiles.csv')"
   ]
  },
  {
   "cell_type": "code",
   "execution_count": 6,
   "metadata": {},
   "outputs": [],
   "source": [
    "cs.drop(index = cas_no_smiles.index, inplace = True)\n",
    "cs.reset_index(drop=True, inplace = True)"
   ]
  },
  {
   "cell_type": "code",
   "execution_count": 25,
   "metadata": {},
   "outputs": [
    {
     "name": "stdout",
     "output_type": "stream",
     "text": [
      "Mon Aug 24 15:39:22 2020\n",
      "Mon Aug 24 16:37:17 2020\n"
     ]
    }
   ],
   "source": [
    "# find pubchem2d representation\n",
    "print(ctime())\n",
    "pub = cs.smiles.apply(find_pubchem)\n",
    "print(ctime())"
   ]
  },
  {
   "cell_type": "code",
   "execution_count": 31,
   "metadata": {},
   "outputs": [
    {
     "data": {
      "text/plain": [
       "27"
      ]
     },
     "execution_count": 31,
     "metadata": {},
     "output_type": "execute_result"
    }
   ],
   "source": [
    "# how many chemical don't have PUBCHEM2D representation\n",
    "sum(pub == 'NaN')"
   ]
  },
  {
   "cell_type": "code",
   "execution_count": 33,
   "metadata": {
    "collapsed": true
   },
   "outputs": [
    {
     "data": {
      "text/html": [
       "<div>\n",
       "<style scoped>\n",
       "    .dataframe tbody tr th:only-of-type {\n",
       "        vertical-align: middle;\n",
       "    }\n",
       "\n",
       "    .dataframe tbody tr th {\n",
       "        vertical-align: top;\n",
       "    }\n",
       "\n",
       "    .dataframe thead th {\n",
       "        text-align: right;\n",
       "    }\n",
       "</style>\n",
       "<table border=\"1\" class=\"dataframe\">\n",
       "  <thead>\n",
       "    <tr style=\"text-align: right;\">\n",
       "      <th></th>\n",
       "      <th>test_cas</th>\n",
       "      <th>smiles</th>\n",
       "      <th>pubchem2d</th>\n",
       "    </tr>\n",
       "  </thead>\n",
       "  <tbody>\n",
       "    <tr>\n",
       "      <th>0</th>\n",
       "      <td>1071-83-6</td>\n",
       "      <td>OC(=O)CNC[P](O)(O)=O</td>\n",
       "      <td>1100000001000010001110000000001000000000000000...</td>\n",
       "    </tr>\n",
       "    <tr>\n",
       "      <th>1</th>\n",
       "      <td>2896-70-0</td>\n",
       "      <td>CC1(C)CC(=O)CC(C)(C)N1[O]</td>\n",
       "      <td>1110000001110010001100000000000000000000000000...</td>\n",
       "    </tr>\n",
       "    <tr>\n",
       "      <th>2</th>\n",
       "      <td>13457-18-6</td>\n",
       "      <td>CCOC(=O)c1cn2nc(O[P](=S)(OCC)OCC)cc2nc1C</td>\n",
       "      <td>1110000001110011001110000000001001000000000000...</td>\n",
       "    </tr>\n",
       "    <tr>\n",
       "      <th>3</th>\n",
       "      <td>5829-48-1</td>\n",
       "      <td>CCCCCCCCC(Cl)C(Cl)CCCCCCCC(O)=O</td>\n",
       "      <td>1111000001111000001100000000000000000110000000...</td>\n",
       "    </tr>\n",
       "    <tr>\n",
       "      <th>4</th>\n",
       "      <td>50-29-3</td>\n",
       "      <td>Clc1ccc(cc1)C(c2ccc(Cl)cc2)C(Cl)(Cl)Cl</td>\n",
       "      <td>1100000001110000000000000000000000000111000000...</td>\n",
       "    </tr>\n",
       "    <tr>\n",
       "      <th>...</th>\n",
       "      <td>...</td>\n",
       "      <td>...</td>\n",
       "      <td>...</td>\n",
       "    </tr>\n",
       "    <tr>\n",
       "      <th>2958</th>\n",
       "      <td>112-36-7</td>\n",
       "      <td>CCOCCOCCOCC</td>\n",
       "      <td>1110000001110000001100000000000000000000000000...</td>\n",
       "    </tr>\n",
       "    <tr>\n",
       "      <th>2959</th>\n",
       "      <td>14548-46-0</td>\n",
       "      <td>O=C(c1ccccc1)c2ccncc2</td>\n",
       "      <td>1100000001110010001000000000000000000000000000...</td>\n",
       "    </tr>\n",
       "    <tr>\n",
       "      <th>2960</th>\n",
       "      <td>123-03-5</td>\n",
       "      <td>[Cl-].CCCCCCCCCCCCCCCC[n+]1ccccc1</td>\n",
       "      <td>1111000001111010000000000000000000000100000000...</td>\n",
       "    </tr>\n",
       "    <tr>\n",
       "      <th>2961</th>\n",
       "      <td>683-72-7</td>\n",
       "      <td>NC(=O)C(Cl)Cl</td>\n",
       "      <td>0000000001000010001000000000000000000110000000...</td>\n",
       "    </tr>\n",
       "    <tr>\n",
       "      <th>2962</th>\n",
       "      <td>2665-13-6</td>\n",
       "      <td>CC1CCOB(OCCC(C)OB2OCCC(C)O2)O1</td>\n",
       "      <td>1110001101110000001110000000000000000000000000...</td>\n",
       "    </tr>\n",
       "  </tbody>\n",
       "</table>\n",
       "<p>2963 rows × 3 columns</p>\n",
       "</div>"
      ],
      "text/plain": [
       "        test_cas                                    smiles  \\\n",
       "0      1071-83-6                      OC(=O)CNC[P](O)(O)=O   \n",
       "1      2896-70-0                 CC1(C)CC(=O)CC(C)(C)N1[O]   \n",
       "2     13457-18-6  CCOC(=O)c1cn2nc(O[P](=S)(OCC)OCC)cc2nc1C   \n",
       "3      5829-48-1           CCCCCCCCC(Cl)C(Cl)CCCCCCCC(O)=O   \n",
       "4        50-29-3    Clc1ccc(cc1)C(c2ccc(Cl)cc2)C(Cl)(Cl)Cl   \n",
       "...          ...                                       ...   \n",
       "2958    112-36-7                               CCOCCOCCOCC   \n",
       "2959  14548-46-0                     O=C(c1ccccc1)c2ccncc2   \n",
       "2960    123-03-5         [Cl-].CCCCCCCCCCCCCCCC[n+]1ccccc1   \n",
       "2961    683-72-7                             NC(=O)C(Cl)Cl   \n",
       "2962   2665-13-6            CC1CCOB(OCCC(C)OB2OCCC(C)O2)O1   \n",
       "\n",
       "                                              pubchem2d  \n",
       "0     1100000001000010001110000000001000000000000000...  \n",
       "1     1110000001110010001100000000000000000000000000...  \n",
       "2     1110000001110011001110000000001001000000000000...  \n",
       "3     1111000001111000001100000000000000000110000000...  \n",
       "4     1100000001110000000000000000000000000111000000...  \n",
       "...                                                 ...  \n",
       "2958  1110000001110000001100000000000000000000000000...  \n",
       "2959  1100000001110010001000000000000000000000000000...  \n",
       "2960  1111000001111010000000000000000000000100000000...  \n",
       "2961  0000000001000010001000000000000000000110000000...  \n",
       "2962  1110001101110000001110000000000000000000000000...  \n",
       "\n",
       "[2963 rows x 3 columns]"
      ]
     },
     "execution_count": 33,
     "metadata": {},
     "output_type": "execute_result"
    }
   ],
   "source": [
    "cas_sm_pub = pd.DataFrame({'test_cas':cs.test_cas, 'smiles': cs.smiles,\n",
    "                              'pubchem2d': pub})\n",
    "cas_sm_pub"
   ]
  },
  {
   "cell_type": "code",
   "execution_count": 36,
   "metadata": {},
   "outputs": [],
   "source": [
    "# save all chemicals that have both SMILES and PUBCHEM2D representation\n",
    "to_drop_pub = cas_sm_pub[cas_sm_pub.pubchem2d == 'NaN'].index\n",
    "cas_sm_pub.drop(index = to_drop_pub, inplace = True)\n",
    "cas_sm_pub.to_csv('data/cas_smiles_pubchem2d.csv')"
   ]
  },
  {
   "cell_type": "code",
   "execution_count": 43,
   "metadata": {},
   "outputs": [],
   "source": [
    "# ... and save what are no pubchem2d chemicals\n",
    "sm_no_pubchem2d = cs.iloc[to_drop_pub]\n",
    "sm_no_pubchem2d.to_csv('data/cas_not_pubchem2d.csv')"
   ]
  },
  {
   "cell_type": "markdown",
   "metadata": {},
   "source": [
    "# Feature Extraction from SMILES"
   ]
  },
  {
   "cell_type": "code",
   "execution_count": 1,
   "metadata": {
    "collapsed": true
   },
   "outputs": [
    {
     "name": "stdout",
     "output_type": "stream",
     "text": [
      "Finding atom number...\n",
      "Finding number of alone atoms...\n",
      "Finding single bounds number...\n",
      "Finding double bounds number...\n",
      "Finding triple bounds number...\n",
      "Finding ring number...\n",
      "Finding mol number...\n",
      "Finding morgan density...\n",
      "Finding partition number (LogP)...\n",
      "Finding number of OH group...\n"
     ]
    }
   ],
   "source": [
    "from general_helper import *\n",
    "from smiles_proc import *\n",
    "\n",
    "csp = pd.read_csv('data/cas_smiles_pubchem2d.csv').drop(columns = ['Unnamed: 0'])\n",
    "csp = adding_smiles_features(csp)\n",
    "\n",
    "to_drop_nofeat = csp[csp['bonds_number'] == 'NaN'].index\n",
    "csp.drop(index = to_drop_nofeat, inplace = True)\n",
    "\n",
    "csp.to_csv('data/cas_smiles_pubchem2d_features.csv')"
   ]
  },
  {
   "cell_type": "markdown",
   "metadata": {},
   "source": [
    "# Data take 3 -- Imputing"
   ]
  },
  {
   "cell_type": "code",
   "execution_count": 1,
   "metadata": {},
   "outputs": [
    {
     "name": "stderr",
     "output_type": "stream",
     "text": [
      "C:\\Users\\Simone\\Anaconda3\\lib\\site-packages\\pandas\\core\\ops\\array_ops.py:253: FutureWarning: elementwise comparison failed; returning scalar instead, but in the future will perform elementwise comparison\n",
      "  res_values = method(rvalues)\n"
     ]
    },
    {
     "data": {
      "text/html": [
       "<div>\n",
       "<style scoped>\n",
       "    .dataframe tbody tr th:only-of-type {\n",
       "        vertical-align: middle;\n",
       "    }\n",
       "\n",
       "    .dataframe tbody tr th {\n",
       "        vertical-align: top;\n",
       "    }\n",
       "\n",
       "    .dataframe thead th {\n",
       "        text-align: right;\n",
       "    }\n",
       "</style>\n",
       "<table border=\"1\" class=\"dataframe\">\n",
       "  <thead>\n",
       "    <tr style=\"text-align: right;\">\n",
       "      <th></th>\n",
       "      <th>null_values_inc_NC_NR%</th>\n",
       "      <th>#outputs</th>\n",
       "    </tr>\n",
       "  </thead>\n",
       "  <tbody>\n",
       "    <tr>\n",
       "      <th>result_id</th>\n",
       "      <td>0</td>\n",
       "      <td>64341</td>\n",
       "    </tr>\n",
       "    <tr>\n",
       "      <th>test_id</th>\n",
       "      <td>0</td>\n",
       "      <td>61087</td>\n",
       "    </tr>\n",
       "    <tr>\n",
       "      <th>obs_duration_mean</th>\n",
       "      <td>1.77803</td>\n",
       "      <td>310</td>\n",
       "    </tr>\n",
       "    <tr>\n",
       "      <th>obs_duration_unit</th>\n",
       "      <td>0.296856</td>\n",
       "      <td>13</td>\n",
       "    </tr>\n",
       "    <tr>\n",
       "      <th>endpoint</th>\n",
       "      <td>0</td>\n",
       "      <td>6</td>\n",
       "    </tr>\n",
       "    <tr>\n",
       "      <th>effect</th>\n",
       "      <td>0</td>\n",
       "      <td>4</td>\n",
       "    </tr>\n",
       "    <tr>\n",
       "      <th>measurement</th>\n",
       "      <td>0</td>\n",
       "      <td>7</td>\n",
       "    </tr>\n",
       "    <tr>\n",
       "      <th>conc1_type</th>\n",
       "      <td>2.69968</td>\n",
       "      <td>8</td>\n",
       "    </tr>\n",
       "    <tr>\n",
       "      <th>conc1_mean</th>\n",
       "      <td>4.07361</td>\n",
       "      <td>9497</td>\n",
       "    </tr>\n",
       "    <tr>\n",
       "      <th>conc1_unit</th>\n",
       "      <td>0.00777109</td>\n",
       "      <td>61</td>\n",
       "    </tr>\n",
       "    <tr>\n",
       "      <th>test_cas</th>\n",
       "      <td>0</td>\n",
       "      <td>3481</td>\n",
       "    </tr>\n",
       "    <tr>\n",
       "      <th>test_location</th>\n",
       "      <td>1.25425</td>\n",
       "      <td>4</td>\n",
       "    </tr>\n",
       "    <tr>\n",
       "      <th>exposure_type</th>\n",
       "      <td>8.29953</td>\n",
       "      <td>20</td>\n",
       "    </tr>\n",
       "    <tr>\n",
       "      <th>control_type</th>\n",
       "      <td>13.1114</td>\n",
       "      <td>12</td>\n",
       "    </tr>\n",
       "    <tr>\n",
       "      <th>media_type</th>\n",
       "      <td>0.00155422</td>\n",
       "      <td>8</td>\n",
       "    </tr>\n",
       "    <tr>\n",
       "      <th>application_freq_unit</th>\n",
       "      <td>15.7458</td>\n",
       "      <td>28</td>\n",
       "    </tr>\n",
       "    <tr>\n",
       "      <th>class</th>\n",
       "      <td>0.0916989</td>\n",
       "      <td>4</td>\n",
       "    </tr>\n",
       "    <tr>\n",
       "      <th>tax_order</th>\n",
       "      <td>0.0916989</td>\n",
       "      <td>30</td>\n",
       "    </tr>\n",
       "    <tr>\n",
       "      <th>family</th>\n",
       "      <td>0.119675</td>\n",
       "      <td>107</td>\n",
       "    </tr>\n",
       "    <tr>\n",
       "      <th>genus</th>\n",
       "      <td>0.303073</td>\n",
       "      <td>324</td>\n",
       "    </tr>\n",
       "    <tr>\n",
       "      <th>species</th>\n",
       "      <td>0.303073</td>\n",
       "      <td>516</td>\n",
       "    </tr>\n",
       "    <tr>\n",
       "      <th>gen_spec</th>\n",
       "      <td>0.303073</td>\n",
       "      <td>582</td>\n",
       "    </tr>\n",
       "  </tbody>\n",
       "</table>\n",
       "</div>"
      ],
      "text/plain": [
       "                      null_values_inc_NC_NR% #outputs\n",
       "result_id                                  0    64341\n",
       "test_id                                    0    61087\n",
       "obs_duration_mean                    1.77803      310\n",
       "obs_duration_unit                   0.296856       13\n",
       "endpoint                                   0        6\n",
       "effect                                     0        4\n",
       "measurement                                0        7\n",
       "conc1_type                           2.69968        8\n",
       "conc1_mean                           4.07361     9497\n",
       "conc1_unit                        0.00777109       61\n",
       "test_cas                                   0     3481\n",
       "test_location                        1.25425        4\n",
       "exposure_type                        8.29953       20\n",
       "control_type                         13.1114       12\n",
       "media_type                        0.00155422        8\n",
       "application_freq_unit                15.7458       28\n",
       "class                              0.0916989        4\n",
       "tax_order                          0.0916989       30\n",
       "family                              0.119675      107\n",
       "genus                               0.303073      324\n",
       "species                             0.303073      516\n",
       "gen_spec                            0.303073      582"
      ]
     },
     "execution_count": 1,
     "metadata": {},
     "output_type": "execute_result"
    }
   ],
   "source": [
    "import matplotlib.pyplot as plt\n",
    "from general_helper import *\n",
    "\n",
    "rp = pd.read_csv('data/prefiltered_results.csv').drop(columns = 'Unnamed: 0')\n",
    "null_output_counts(rp)"
   ]
  },
  {
   "cell_type": "markdown",
   "metadata": {},
   "source": [
    "## Species"
   ]
  },
  {
   "cell_type": "code",
   "execution_count": 3,
   "metadata": {},
   "outputs": [],
   "source": [
    "def impute_species(results_prefiltered):\n",
    "    \n",
    "    db = results_prefiltered.copy()\n",
    "    # Dropping missing values relative to species (same values are missing for genus)\n",
    "    to_drop_spec = db[db.species.isnull()].index\n",
    "    db.drop(index = to_drop_spec, inplace = True)\n",
    "    \n",
    "    # Dropping missing values relative to family\n",
    "    to_drop_fam = db[db.family.isnull()].index\n",
    "    db.drop(index = to_drop_fam, inplace = True)\n",
    "    \n",
    "    return db"
   ]
  },
  {
   "cell_type": "code",
   "execution_count": 4,
   "metadata": {
    "collapsed": true
   },
   "outputs": [
    {
     "name": "stderr",
     "output_type": "stream",
     "text": [
      "C:\\Users\\Simone\\Anaconda3\\lib\\site-packages\\pandas\\core\\ops\\array_ops.py:253: FutureWarning: elementwise comparison failed; returning scalar instead, but in the future will perform elementwise comparison\n",
      "  res_values = method(rvalues)\n"
     ]
    },
    {
     "data": {
      "text/html": [
       "<div>\n",
       "<style scoped>\n",
       "    .dataframe tbody tr th:only-of-type {\n",
       "        vertical-align: middle;\n",
       "    }\n",
       "\n",
       "    .dataframe tbody tr th {\n",
       "        vertical-align: top;\n",
       "    }\n",
       "\n",
       "    .dataframe thead th {\n",
       "        text-align: right;\n",
       "    }\n",
       "</style>\n",
       "<table border=\"1\" class=\"dataframe\">\n",
       "  <thead>\n",
       "    <tr style=\"text-align: right;\">\n",
       "      <th></th>\n",
       "      <th>null_values_inc_NC_NR%</th>\n",
       "      <th>#outputs</th>\n",
       "    </tr>\n",
       "  </thead>\n",
       "  <tbody>\n",
       "    <tr>\n",
       "      <th>result_id</th>\n",
       "      <td>0</td>\n",
       "      <td>64142</td>\n",
       "    </tr>\n",
       "    <tr>\n",
       "      <th>test_id</th>\n",
       "      <td>0</td>\n",
       "      <td>60900</td>\n",
       "    </tr>\n",
       "    <tr>\n",
       "      <th>obs_duration_mean</th>\n",
       "      <td>1.78042</td>\n",
       "      <td>310</td>\n",
       "    </tr>\n",
       "    <tr>\n",
       "      <th>obs_duration_unit</th>\n",
       "      <td>0.294659</td>\n",
       "      <td>13</td>\n",
       "    </tr>\n",
       "    <tr>\n",
       "      <th>endpoint</th>\n",
       "      <td>0</td>\n",
       "      <td>6</td>\n",
       "    </tr>\n",
       "    <tr>\n",
       "      <th>effect</th>\n",
       "      <td>0</td>\n",
       "      <td>4</td>\n",
       "    </tr>\n",
       "    <tr>\n",
       "      <th>measurement</th>\n",
       "      <td>0</td>\n",
       "      <td>7</td>\n",
       "    </tr>\n",
       "    <tr>\n",
       "      <th>conc1_type</th>\n",
       "      <td>2.70805</td>\n",
       "      <td>8</td>\n",
       "    </tr>\n",
       "    <tr>\n",
       "      <th>conc1_mean</th>\n",
       "      <td>4.08001</td>\n",
       "      <td>9471</td>\n",
       "    </tr>\n",
       "    <tr>\n",
       "      <th>conc1_unit</th>\n",
       "      <td>0.0077952</td>\n",
       "      <td>60</td>\n",
       "    </tr>\n",
       "    <tr>\n",
       "      <th>test_cas</th>\n",
       "      <td>0</td>\n",
       "      <td>3473</td>\n",
       "    </tr>\n",
       "    <tr>\n",
       "      <th>test_location</th>\n",
       "      <td>1.25815</td>\n",
       "      <td>4</td>\n",
       "    </tr>\n",
       "    <tr>\n",
       "      <th>exposure_type</th>\n",
       "      <td>8.199</td>\n",
       "      <td>20</td>\n",
       "    </tr>\n",
       "    <tr>\n",
       "      <th>control_type</th>\n",
       "      <td>13.0804</td>\n",
       "      <td>12</td>\n",
       "    </tr>\n",
       "    <tr>\n",
       "      <th>media_type</th>\n",
       "      <td>0.00155904</td>\n",
       "      <td>8</td>\n",
       "    </tr>\n",
       "    <tr>\n",
       "      <th>application_freq_unit</th>\n",
       "      <td>15.6574</td>\n",
       "      <td>28</td>\n",
       "    </tr>\n",
       "    <tr>\n",
       "      <th>class</th>\n",
       "      <td>0</td>\n",
       "      <td>3</td>\n",
       "    </tr>\n",
       "    <tr>\n",
       "      <th>tax_order</th>\n",
       "      <td>0</td>\n",
       "      <td>29</td>\n",
       "    </tr>\n",
       "    <tr>\n",
       "      <th>family</th>\n",
       "      <td>0</td>\n",
       "      <td>106</td>\n",
       "    </tr>\n",
       "    <tr>\n",
       "      <th>genus</th>\n",
       "      <td>0</td>\n",
       "      <td>322</td>\n",
       "    </tr>\n",
       "    <tr>\n",
       "      <th>species</th>\n",
       "      <td>0</td>\n",
       "      <td>514</td>\n",
       "    </tr>\n",
       "    <tr>\n",
       "      <th>gen_spec</th>\n",
       "      <td>0</td>\n",
       "      <td>580</td>\n",
       "    </tr>\n",
       "  </tbody>\n",
       "</table>\n",
       "</div>"
      ],
      "text/plain": [
       "                      null_values_inc_NC_NR% #outputs\n",
       "result_id                                  0    64142\n",
       "test_id                                    0    60900\n",
       "obs_duration_mean                    1.78042      310\n",
       "obs_duration_unit                   0.294659       13\n",
       "endpoint                                   0        6\n",
       "effect                                     0        4\n",
       "measurement                                0        7\n",
       "conc1_type                           2.70805        8\n",
       "conc1_mean                           4.08001     9471\n",
       "conc1_unit                         0.0077952       60\n",
       "test_cas                                   0     3473\n",
       "test_location                        1.25815        4\n",
       "exposure_type                          8.199       20\n",
       "control_type                         13.0804       12\n",
       "media_type                        0.00155904        8\n",
       "application_freq_unit                15.6574       28\n",
       "class                                      0        3\n",
       "tax_order                                  0       29\n",
       "family                                     0      106\n",
       "genus                                      0      322\n",
       "species                                    0      514\n",
       "gen_spec                                   0      580"
      ]
     },
     "execution_count": 4,
     "metadata": {},
     "output_type": "execute_result"
    }
   ],
   "source": [
    "db = impute_species(rp)\n",
    "null_output_counts(db)"
   ]
  },
  {
   "cell_type": "markdown",
   "metadata": {},
   "source": [
    "Variabili da controllare:\n",
    "\n",
    "- obs_duration_mean (convertire tutti nella stessa obs_duration_unit)\n",
    "- obs_duration_unit (se non è presente l'unità di misura elimino i test dal dataset): filtro per unità di tempo paragonabili (minuti, ore, giorni, settimane, mesi) ed elimino obs_duration_mean = NR\n",
    "\n",
    "- conc1_type\n",
    "- conc1_mean (target)\n",
    "- conc1_unit\n",
    "\n",
    "- test_location\n",
    "- exposure_type\n",
    "- control_type\n",
    "- media_type\n",
    "- application_freq_unit"
   ]
  },
  {
   "cell_type": "markdown",
   "metadata": {},
   "source": [
    "## Duration \n",
    "### (obs_duration_mean/unit)"
   ]
  },
  {
   "cell_type": "code",
   "execution_count": 7,
   "metadata": {},
   "outputs": [],
   "source": [
    "def impute_duration(results_prefiltered):\n",
    "    \n",
    "    db = results_prefiltered.copy()\n",
    "    \n",
    "    good_obs_unit = [\"h\", \"d\", \"mi\", \"wk\", \"mo\"] \n",
    "    db_filtered_unit = db[db.obs_duration_unit.isin(good_obs_unit)].copy()\n",
    "    \n",
    "    to_drop_obs_mean = db_filtered_unit[db_filtered_unit.obs_duration_mean == 'NR'].index\n",
    "    db_filtered_unit.drop(index = to_drop_obs_mean, inplace = True)\n",
    "    db_filtered_unit.obs_duration_mean = db_filtered_unit.obs_duration_mean.astype(float)\n",
    "    \n",
    "    \n",
    "    db_filtered_unit.loc[db_filtered_unit.obs_duration_unit == 'd', 'obs_duration_mean'] = \\\n",
    "                                        db_filtered_unit.obs_duration_mean[db_filtered_unit.obs_duration_unit == 'd']\\\n",
    "                                                                    .apply(lambda x: x*24)\n",
    "    db_filtered_unit.loc[db_filtered_unit.obs_duration_unit == 'mi', 'obs_duration_mean'] = \\\n",
    "                                        db_filtered_unit.obs_duration_mean[db_filtered_unit.obs_duration_unit == 'mi']\\\n",
    "                                                                    .apply(lambda x: x/60)\n",
    "    db_filtered_unit.loc[db_filtered_unit.obs_duration_unit == 'wk', 'obs_duration_mean'] = \\\n",
    "                                        db_filtered_unit.obs_duration_mean[db_filtered_unit.obs_duration_unit == 'wk']\\\n",
    "                                                                    .apply(lambda x: x*7*24)\n",
    "    db_filtered_unit.loc[db_filtered_unit.obs_duration_unit == 'mo', 'obs_duration_mean'] = \\\n",
    "                                        db_filtered_unit.obs_duration_mean[db_filtered_unit.obs_duration_unit == 'mo']\\\n",
    "                                                                    .apply(lambda x: x*30*24)\n",
    "    \n",
    "    db_filtered_unit.drop(columns = ['obs_duration_unit'], inplace = True)\n",
    "    \n",
    "    db_processed_duration = db_filtered_unit[db_filtered_unit.obs_duration_mean.isin([24,48,72,96])].copy()\n",
    "    \n",
    "    return db_processed_duration"
   ]
  },
  {
   "cell_type": "code",
   "execution_count": 9,
   "metadata": {
    "collapsed": true
   },
   "outputs": [
    {
     "name": "stderr",
     "output_type": "stream",
     "text": [
      "C:\\Users\\Simone\\Anaconda3\\lib\\site-packages\\pandas\\core\\ops\\array_ops.py:253: FutureWarning: elementwise comparison failed; returning scalar instead, but in the future will perform elementwise comparison\n",
      "  res_values = method(rvalues)\n"
     ]
    },
    {
     "data": {
      "text/html": [
       "<div>\n",
       "<style scoped>\n",
       "    .dataframe tbody tr th:only-of-type {\n",
       "        vertical-align: middle;\n",
       "    }\n",
       "\n",
       "    .dataframe tbody tr th {\n",
       "        vertical-align: top;\n",
       "    }\n",
       "\n",
       "    .dataframe thead th {\n",
       "        text-align: right;\n",
       "    }\n",
       "</style>\n",
       "<table border=\"1\" class=\"dataframe\">\n",
       "  <thead>\n",
       "    <tr style=\"text-align: right;\">\n",
       "      <th></th>\n",
       "      <th>null_values_inc_NC_NR%</th>\n",
       "      <th>#outputs</th>\n",
       "    </tr>\n",
       "  </thead>\n",
       "  <tbody>\n",
       "    <tr>\n",
       "      <th>result_id</th>\n",
       "      <td>0</td>\n",
       "      <td>54355</td>\n",
       "    </tr>\n",
       "    <tr>\n",
       "      <th>test_id</th>\n",
       "      <td>0</td>\n",
       "      <td>51801</td>\n",
       "    </tr>\n",
       "    <tr>\n",
       "      <th>obs_duration_mean</th>\n",
       "      <td>0</td>\n",
       "      <td>4</td>\n",
       "    </tr>\n",
       "    <tr>\n",
       "      <th>endpoint</th>\n",
       "      <td>0</td>\n",
       "      <td>6</td>\n",
       "    </tr>\n",
       "    <tr>\n",
       "      <th>effect</th>\n",
       "      <td>0</td>\n",
       "      <td>3</td>\n",
       "    </tr>\n",
       "    <tr>\n",
       "      <th>measurement</th>\n",
       "      <td>0</td>\n",
       "      <td>6</td>\n",
       "    </tr>\n",
       "    <tr>\n",
       "      <th>conc1_type</th>\n",
       "      <td>3.16806</td>\n",
       "      <td>8</td>\n",
       "    </tr>\n",
       "    <tr>\n",
       "      <th>conc1_mean</th>\n",
       "      <td>2.49471</td>\n",
       "      <td>8858</td>\n",
       "    </tr>\n",
       "    <tr>\n",
       "      <th>conc1_unit</th>\n",
       "      <td>0.00919879</td>\n",
       "      <td>55</td>\n",
       "    </tr>\n",
       "    <tr>\n",
       "      <th>test_cas</th>\n",
       "      <td>0</td>\n",
       "      <td>3386</td>\n",
       "    </tr>\n",
       "    <tr>\n",
       "      <th>test_location</th>\n",
       "      <td>1.43685</td>\n",
       "      <td>4</td>\n",
       "    </tr>\n",
       "    <tr>\n",
       "      <th>exposure_type</th>\n",
       "      <td>8.69837</td>\n",
       "      <td>18</td>\n",
       "    </tr>\n",
       "    <tr>\n",
       "      <th>control_type</th>\n",
       "      <td>13.6124</td>\n",
       "      <td>12</td>\n",
       "    </tr>\n",
       "    <tr>\n",
       "      <th>media_type</th>\n",
       "      <td>0</td>\n",
       "      <td>7</td>\n",
       "    </tr>\n",
       "    <tr>\n",
       "      <th>application_freq_unit</th>\n",
       "      <td>15.6306</td>\n",
       "      <td>26</td>\n",
       "    </tr>\n",
       "    <tr>\n",
       "      <th>class</th>\n",
       "      <td>0.104866</td>\n",
       "      <td>4</td>\n",
       "    </tr>\n",
       "    <tr>\n",
       "      <th>tax_order</th>\n",
       "      <td>0.104866</td>\n",
       "      <td>30</td>\n",
       "    </tr>\n",
       "    <tr>\n",
       "      <th>family</th>\n",
       "      <td>0.137982</td>\n",
       "      <td>106</td>\n",
       "    </tr>\n",
       "    <tr>\n",
       "      <th>genus</th>\n",
       "      <td>0.351394</td>\n",
       "      <td>316</td>\n",
       "    </tr>\n",
       "    <tr>\n",
       "      <th>species</th>\n",
       "      <td>0.351394</td>\n",
       "      <td>504</td>\n",
       "    </tr>\n",
       "    <tr>\n",
       "      <th>gen_spec</th>\n",
       "      <td>0.351394</td>\n",
       "      <td>565</td>\n",
       "    </tr>\n",
       "  </tbody>\n",
       "</table>\n",
       "</div>"
      ],
      "text/plain": [
       "                      null_values_inc_NC_NR% #outputs\n",
       "result_id                                  0    54355\n",
       "test_id                                    0    51801\n",
       "obs_duration_mean                          0        4\n",
       "endpoint                                   0        6\n",
       "effect                                     0        3\n",
       "measurement                                0        6\n",
       "conc1_type                           3.16806        8\n",
       "conc1_mean                           2.49471     8858\n",
       "conc1_unit                        0.00919879       55\n",
       "test_cas                                   0     3386\n",
       "test_location                        1.43685        4\n",
       "exposure_type                        8.69837       18\n",
       "control_type                         13.6124       12\n",
       "media_type                                 0        7\n",
       "application_freq_unit                15.6306       26\n",
       "class                               0.104866        4\n",
       "tax_order                           0.104866       30\n",
       "family                              0.137982      106\n",
       "genus                               0.351394      316\n",
       "species                             0.351394      504\n",
       "gen_spec                            0.351394      565"
      ]
     },
     "execution_count": 9,
     "metadata": {},
     "output_type": "execute_result"
    }
   ],
   "source": [
    "db = impute_duration(rp)\n",
    "null_output_counts(db)"
   ]
  },
  {
   "cell_type": "code",
   "execution_count": 96,
   "metadata": {},
   "outputs": [],
   "source": [
    "good_obs_unit = [\"h\", \"d\", \"mi\", \"wk\", \"mo\"] # week also considered in case of fraction of week\n",
    "rpu = rp[rp.obs_duration_unit.isin(good_obs_unit)].copy()"
   ]
  },
  {
   "cell_type": "code",
   "execution_count": 97,
   "metadata": {},
   "outputs": [
    {
     "data": {
      "text/plain": [
       "h     60324\n",
       "d      3245\n",
       "mi      171\n",
       "wk      119\n",
       "mo       36\n",
       "Name: obs_duration_unit, dtype: int64"
      ]
     },
     "execution_count": 97,
     "metadata": {},
     "output_type": "execute_result"
    }
   ],
   "source": [
    "rpu.obs_duration_unit.value_counts() # trasformo tutto in ore"
   ]
  },
  {
   "cell_type": "code",
   "execution_count": 98,
   "metadata": {},
   "outputs": [],
   "source": [
    "to_drop_obs_mean = rpu[rpu.obs_duration_mean == 'NR'].index\n",
    "rpu.drop(index = to_drop_obs_mean, inplace = True)\n",
    "rpu.obs_duration_mean = rpu.obs_duration_mean.astype(float)"
   ]
  },
  {
   "cell_type": "code",
   "execution_count": 69,
   "metadata": {
    "collapsed": true
   },
   "outputs": [
    {
     "name": "stderr",
     "output_type": "stream",
     "text": [
      "C:\\Users\\Simone\\Anaconda3\\lib\\site-packages\\pandas\\core\\ops\\array_ops.py:253: FutureWarning: elementwise comparison failed; returning scalar instead, but in the future will perform elementwise comparison\n",
      "  res_values = method(rvalues)\n"
     ]
    },
    {
     "data": {
      "text/html": [
       "<div>\n",
       "<style scoped>\n",
       "    .dataframe tbody tr th:only-of-type {\n",
       "        vertical-align: middle;\n",
       "    }\n",
       "\n",
       "    .dataframe tbody tr th {\n",
       "        vertical-align: top;\n",
       "    }\n",
       "\n",
       "    .dataframe thead th {\n",
       "        text-align: right;\n",
       "    }\n",
       "</style>\n",
       "<table border=\"1\" class=\"dataframe\">\n",
       "  <thead>\n",
       "    <tr style=\"text-align: right;\">\n",
       "      <th></th>\n",
       "      <th>null_values_inc_NC_NR%</th>\n",
       "      <th>#outputs</th>\n",
       "    </tr>\n",
       "  </thead>\n",
       "  <tbody>\n",
       "    <tr>\n",
       "      <th>result_id</th>\n",
       "      <td>0</td>\n",
       "      <td>62970</td>\n",
       "    </tr>\n",
       "    <tr>\n",
       "      <th>test_id</th>\n",
       "      <td>0</td>\n",
       "      <td>59870</td>\n",
       "    </tr>\n",
       "    <tr>\n",
       "      <th>obs_duration_mean</th>\n",
       "      <td>0</td>\n",
       "      <td>308</td>\n",
       "    </tr>\n",
       "    <tr>\n",
       "      <th>obs_duration_unit</th>\n",
       "      <td>0</td>\n",
       "      <td>5</td>\n",
       "    </tr>\n",
       "    <tr>\n",
       "      <th>endpoint</th>\n",
       "      <td>0</td>\n",
       "      <td>6</td>\n",
       "    </tr>\n",
       "    <tr>\n",
       "      <th>effect</th>\n",
       "      <td>0</td>\n",
       "      <td>4</td>\n",
       "    </tr>\n",
       "    <tr>\n",
       "      <th>measurement</th>\n",
       "      <td>0</td>\n",
       "      <td>7</td>\n",
       "    </tr>\n",
       "    <tr>\n",
       "      <th>conc1_type</th>\n",
       "      <td>2.75846</td>\n",
       "      <td>8</td>\n",
       "    </tr>\n",
       "    <tr>\n",
       "      <th>conc1_mean</th>\n",
       "      <td>3.11895</td>\n",
       "      <td>9440</td>\n",
       "    </tr>\n",
       "    <tr>\n",
       "      <th>conc1_unit</th>\n",
       "      <td>0.00794029</td>\n",
       "      <td>58</td>\n",
       "    </tr>\n",
       "    <tr>\n",
       "      <th>test_cas</th>\n",
       "      <td>0</td>\n",
       "      <td>3446</td>\n",
       "    </tr>\n",
       "    <tr>\n",
       "      <th>test_location</th>\n",
       "      <td>1.26251</td>\n",
       "      <td>4</td>\n",
       "    </tr>\n",
       "    <tr>\n",
       "      <th>exposure_type</th>\n",
       "      <td>8.07527</td>\n",
       "      <td>19</td>\n",
       "    </tr>\n",
       "    <tr>\n",
       "      <th>control_type</th>\n",
       "      <td>13.0967</td>\n",
       "      <td>12</td>\n",
       "    </tr>\n",
       "    <tr>\n",
       "      <th>media_type</th>\n",
       "      <td>0.00158806</td>\n",
       "      <td>8</td>\n",
       "    </tr>\n",
       "    <tr>\n",
       "      <th>application_freq_unit</th>\n",
       "      <td>15.6297</td>\n",
       "      <td>28</td>\n",
       "    </tr>\n",
       "    <tr>\n",
       "      <th>class</th>\n",
       "      <td>0</td>\n",
       "      <td>3</td>\n",
       "    </tr>\n",
       "    <tr>\n",
       "      <th>tax_order</th>\n",
       "      <td>0</td>\n",
       "      <td>29</td>\n",
       "    </tr>\n",
       "    <tr>\n",
       "      <th>family</th>\n",
       "      <td>0</td>\n",
       "      <td>106</td>\n",
       "    </tr>\n",
       "    <tr>\n",
       "      <th>genus</th>\n",
       "      <td>0</td>\n",
       "      <td>321</td>\n",
       "    </tr>\n",
       "    <tr>\n",
       "      <th>species</th>\n",
       "      <td>0</td>\n",
       "      <td>513</td>\n",
       "    </tr>\n",
       "    <tr>\n",
       "      <th>gen_spec</th>\n",
       "      <td>0</td>\n",
       "      <td>579</td>\n",
       "    </tr>\n",
       "  </tbody>\n",
       "</table>\n",
       "</div>"
      ],
      "text/plain": [
       "                      null_values_inc_NC_NR% #outputs\n",
       "result_id                                  0    62970\n",
       "test_id                                    0    59870\n",
       "obs_duration_mean                          0      308\n",
       "obs_duration_unit                          0        5\n",
       "endpoint                                   0        6\n",
       "effect                                     0        4\n",
       "measurement                                0        7\n",
       "conc1_type                           2.75846        8\n",
       "conc1_mean                           3.11895     9440\n",
       "conc1_unit                        0.00794029       58\n",
       "test_cas                                   0     3446\n",
       "test_location                        1.26251        4\n",
       "exposure_type                        8.07527       19\n",
       "control_type                         13.0967       12\n",
       "media_type                        0.00158806        8\n",
       "application_freq_unit                15.6297       28\n",
       "class                                      0        3\n",
       "tax_order                                  0       29\n",
       "family                                     0      106\n",
       "genus                                      0      321\n",
       "species                                    0      513\n",
       "gen_spec                                   0      579"
      ]
     },
     "execution_count": 69,
     "metadata": {},
     "output_type": "execute_result"
    }
   ],
   "source": [
    "null_output_counts(rpu)"
   ]
  },
  {
   "cell_type": "code",
   "execution_count": 99,
   "metadata": {},
   "outputs": [],
   "source": [
    "rpu.loc[rpu.obs_duration_unit == 'd', 'obs_duration_mean'] = rpu.obs_duration_mean[rpu.obs_duration_unit == 'd']\\\n",
    "                                                                .apply(lambda x: x*24)\n",
    "rpu.loc[rpu.obs_duration_unit == 'mi', 'obs_duration_mean'] = rpu.obs_duration_mean[rpu.obs_duration_unit == 'mi']\\\n",
    "                                                                .apply(lambda x: x/60)\n",
    "rpu.loc[rpu.obs_duration_unit == 'wk', 'obs_duration_mean'] = rpu.obs_duration_mean[rpu.obs_duration_unit == 'wk']\\\n",
    "                                                                .apply(lambda x: x*7*24)\n",
    "rpu.loc[rpu.obs_duration_unit == 'mo', 'obs_duration_mean'] = rpu.obs_duration_mean[rpu.obs_duration_unit == 'mo']\\\n",
    "                                                                .apply(lambda x: x*30*24)"
   ]
  },
  {
   "cell_type": "code",
   "execution_count": 101,
   "metadata": {},
   "outputs": [],
   "source": [
    "rpu.drop(columns = ['obs_duration_unit'], inplace = True)"
   ]
  },
  {
   "cell_type": "code",
   "execution_count": 111,
   "metadata": {
    "collapsed": true
   },
   "outputs": [
    {
     "data": {
      "text/plain": [
       "<matplotlib.axes._subplots.AxesSubplot at 0x246147c0fc8>"
      ]
     },
     "execution_count": 111,
     "metadata": {},
     "output_type": "execute_result"
    },
    {
     "data": {
      "image/png": "[encoded data removed]",
      "text/plain": [
       "<Figure size 720x216 with 1 Axes>"
      ]
     },
     "metadata": {
      "needs_background": "light"
     },
     "output_type": "display_data"
    }
   ],
   "source": [
    "plt.figure(figsize = (10,3))\n",
    "rpu.obs_duration_mean.value_counts()[rpu.obs_duration_mean.value_counts() > 1000].plot(kind = 'bar')"
   ]
  },
  {
   "cell_type": "code",
   "execution_count": 114,
   "metadata": {},
   "outputs": [],
   "source": [
    "rp_impute_duration = rpu[rpu.obs_duration_mean.isin([24,48,72,96])].copy()"
   ]
  },
  {
   "cell_type": "code",
   "execution_count": 116,
   "metadata": {
    "collapsed": true
   },
   "outputs": [
    {
     "name": "stderr",
     "output_type": "stream",
     "text": [
      "C:\\Users\\Simone\\Anaconda3\\lib\\site-packages\\pandas\\core\\ops\\array_ops.py:253: FutureWarning: elementwise comparison failed; returning scalar instead, but in the future will perform elementwise comparison\n",
      "  res_values = method(rvalues)\n"
     ]
    },
    {
     "data": {
      "text/html": [
       "<div>\n",
       "<style scoped>\n",
       "    .dataframe tbody tr th:only-of-type {\n",
       "        vertical-align: middle;\n",
       "    }\n",
       "\n",
       "    .dataframe tbody tr th {\n",
       "        vertical-align: top;\n",
       "    }\n",
       "\n",
       "    .dataframe thead th {\n",
       "        text-align: right;\n",
       "    }\n",
       "</style>\n",
       "<table border=\"1\" class=\"dataframe\">\n",
       "  <thead>\n",
       "    <tr style=\"text-align: right;\">\n",
       "      <th></th>\n",
       "      <th>null_values_inc_NC_NR%</th>\n",
       "      <th>#outputs</th>\n",
       "    </tr>\n",
       "  </thead>\n",
       "  <tbody>\n",
       "    <tr>\n",
       "      <th>result_id</th>\n",
       "      <td>0</td>\n",
       "      <td>54160</td>\n",
       "    </tr>\n",
       "    <tr>\n",
       "      <th>test_id</th>\n",
       "      <td>0</td>\n",
       "      <td>51618</td>\n",
       "    </tr>\n",
       "    <tr>\n",
       "      <th>obs_duration_mean</th>\n",
       "      <td>0</td>\n",
       "      <td>4</td>\n",
       "    </tr>\n",
       "    <tr>\n",
       "      <th>endpoint</th>\n",
       "      <td>0</td>\n",
       "      <td>6</td>\n",
       "    </tr>\n",
       "    <tr>\n",
       "      <th>effect</th>\n",
       "      <td>0</td>\n",
       "      <td>3</td>\n",
       "    </tr>\n",
       "    <tr>\n",
       "      <th>measurement</th>\n",
       "      <td>0</td>\n",
       "      <td>6</td>\n",
       "    </tr>\n",
       "    <tr>\n",
       "      <th>conc1_type</th>\n",
       "      <td>3.17947</td>\n",
       "      <td>8</td>\n",
       "    </tr>\n",
       "    <tr>\n",
       "      <th>conc1_mean</th>\n",
       "      <td>2.49815</td>\n",
       "      <td>8831</td>\n",
       "    </tr>\n",
       "    <tr>\n",
       "      <th>conc1_unit</th>\n",
       "      <td>0.00923191</td>\n",
       "      <td>54</td>\n",
       "    </tr>\n",
       "    <tr>\n",
       "      <th>test_cas</th>\n",
       "      <td>0</td>\n",
       "      <td>3378</td>\n",
       "    </tr>\n",
       "    <tr>\n",
       "      <th>test_location</th>\n",
       "      <td>1.44202</td>\n",
       "      <td>4</td>\n",
       "    </tr>\n",
       "    <tr>\n",
       "      <th>exposure_type</th>\n",
       "      <td>8.58567</td>\n",
       "      <td>18</td>\n",
       "    </tr>\n",
       "    <tr>\n",
       "      <th>control_type</th>\n",
       "      <td>13.582</td>\n",
       "      <td>12</td>\n",
       "    </tr>\n",
       "    <tr>\n",
       "      <th>media_type</th>\n",
       "      <td>0</td>\n",
       "      <td>7</td>\n",
       "    </tr>\n",
       "    <tr>\n",
       "      <th>application_freq_unit</th>\n",
       "      <td>15.5299</td>\n",
       "      <td>26</td>\n",
       "    </tr>\n",
       "    <tr>\n",
       "      <th>class</th>\n",
       "      <td>0</td>\n",
       "      <td>3</td>\n",
       "    </tr>\n",
       "    <tr>\n",
       "      <th>tax_order</th>\n",
       "      <td>0</td>\n",
       "      <td>29</td>\n",
       "    </tr>\n",
       "    <tr>\n",
       "      <th>family</th>\n",
       "      <td>0</td>\n",
       "      <td>105</td>\n",
       "    </tr>\n",
       "    <tr>\n",
       "      <th>genus</th>\n",
       "      <td>0</td>\n",
       "      <td>314</td>\n",
       "    </tr>\n",
       "    <tr>\n",
       "      <th>species</th>\n",
       "      <td>0</td>\n",
       "      <td>502</td>\n",
       "    </tr>\n",
       "    <tr>\n",
       "      <th>gen_spec</th>\n",
       "      <td>0</td>\n",
       "      <td>563</td>\n",
       "    </tr>\n",
       "  </tbody>\n",
       "</table>\n",
       "</div>"
      ],
      "text/plain": [
       "                      null_values_inc_NC_NR% #outputs\n",
       "result_id                                  0    54160\n",
       "test_id                                    0    51618\n",
       "obs_duration_mean                          0        4\n",
       "endpoint                                   0        6\n",
       "effect                                     0        3\n",
       "measurement                                0        6\n",
       "conc1_type                           3.17947        8\n",
       "conc1_mean                           2.49815     8831\n",
       "conc1_unit                        0.00923191       54\n",
       "test_cas                                   0     3378\n",
       "test_location                        1.44202        4\n",
       "exposure_type                        8.58567       18\n",
       "control_type                          13.582       12\n",
       "media_type                                 0        7\n",
       "application_freq_unit                15.5299       26\n",
       "class                                      0        3\n",
       "tax_order                                  0       29\n",
       "family                                     0      105\n",
       "genus                                      0      314\n",
       "species                                    0      502\n",
       "gen_spec                                   0      563"
      ]
     },
     "execution_count": 116,
     "metadata": {},
     "output_type": "execute_result"
    }
   ],
   "source": [
    "null_output_counts(rp_impute_duration)"
   ]
  },
  {
   "cell_type": "markdown",
   "metadata": {},
   "source": [
    "## Concentration\n",
    "### conc1_mean/unit"
   ]
  },
  {
   "cell_type": "code",
   "execution_count": 17,
   "metadata": {},
   "outputs": [],
   "source": [
    "def impute_conc(results_prefiltered):\n",
    "    \n",
    "    db = results_prefiltered.copy()\n",
    "    \n",
    "    to_drop_conc_mean = db[db.conc1_mean == 'NR'].index\n",
    "    db_filtered_mean = db.drop(index = to_drop_conc_mean).copy()\n",
    "\n",
    "    db_filtered_mean.loc[:,'conc1_mean'] = db_filtered_mean.conc1_mean\\\n",
    "                                                        .apply(lambda x: x.replace(\"*\", \"\") if \"*\" in x else x).copy()\n",
    "\n",
    "    to_drop_invalid_conc = db_filtered_mean[db_filtered_mean.conc1_mean == '>100000'].index\n",
    "    db_filtered_mean.drop(index = to_drop_invalid_conc, inplace = True)\n",
    "\n",
    "    db_filtered_mean.loc[:,'conc1_mean'] = db_filtered_mean.conc1_mean.astype(float).copy()\n",
    "\n",
    "    to_drop_useless = db_filtered_mean[db_filtered_mean.conc1_mean == 0].index\n",
    "    db_filtered_mean.drop(index = to_drop_useless, inplace = True)\n",
    "\n",
    "    db_filtered_mean.loc[:,'conc1_unit'] = db_filtered_mean.conc1_unit\\\n",
    "                                                        .apply(lambda x: x.replace(\"AI \", \"\") if 'AI' in x else x)\n",
    "    \n",
    "    db_filtered_mean.loc[(db_filtered_mean.conc1_unit == 'ppb') | (db_filtered_mean.conc1_unit == 'ug/L'), 'conc1_mean'] = \\\n",
    "                db_filtered_mean.conc1_mean[(db_filtered_mean.conc1_unit == 'ppb') | (db_filtered_mean.conc1_unit == 'ug/L')]/1000\n",
    "    \n",
    "    db_filtered_mean.loc[db_filtered_mean.conc1_unit == 'ng/L', 'conc1_mean'] = db_filtered_mean.conc1_mean[db_filtered_mean.conc1_unit == 'ng/L']*(10**(-6))\n",
    "\n",
    "    to_drop_unit = db_filtered_mean.loc[(db_filtered_mean.conc1_unit == 'uM') | (db_filtered_mean.conc1_unit == 'ul/L')].index\n",
    "    db_filtered_mean.drop(index = to_drop_unit, columns = ['conc1_unit'], inplace = True)\n",
    "\n",
    "    to_drop_type = db_filtered_mean.loc[(db_filtered_mean.conc1_type == 'NC') |(db_filtered_mean.conc1_type == 'NR')].index\n",
    "    db_filtered_mean.drop(index = to_drop_type, inplace = True)\n",
    "    \n",
    "    return db_filtered_mean"
   ]
  },
  {
   "cell_type": "code",
   "execution_count": 18,
   "metadata": {
    "collapsed": true
   },
   "outputs": [
    {
     "name": "stderr",
     "output_type": "stream",
     "text": [
      "C:\\Users\\Simone\\Anaconda3\\lib\\site-packages\\pandas\\core\\ops\\array_ops.py:253: FutureWarning: elementwise comparison failed; returning scalar instead, but in the future will perform elementwise comparison\n",
      "  res_values = method(rvalues)\n"
     ]
    },
    {
     "data": {
      "text/html": [
       "<div>\n",
       "<style scoped>\n",
       "    .dataframe tbody tr th:only-of-type {\n",
       "        vertical-align: middle;\n",
       "    }\n",
       "\n",
       "    .dataframe tbody tr th {\n",
       "        vertical-align: top;\n",
       "    }\n",
       "\n",
       "    .dataframe thead th {\n",
       "        text-align: right;\n",
       "    }\n",
       "</style>\n",
       "<table border=\"1\" class=\"dataframe\">\n",
       "  <thead>\n",
       "    <tr style=\"text-align: right;\">\n",
       "      <th></th>\n",
       "      <th>null_values_inc_NC_NR%</th>\n",
       "      <th>#outputs</th>\n",
       "    </tr>\n",
       "  </thead>\n",
       "  <tbody>\n",
       "    <tr>\n",
       "      <th>result_id</th>\n",
       "      <td>0</td>\n",
       "      <td>58438</td>\n",
       "    </tr>\n",
       "    <tr>\n",
       "      <th>test_id</th>\n",
       "      <td>0</td>\n",
       "      <td>55642</td>\n",
       "    </tr>\n",
       "    <tr>\n",
       "      <th>obs_duration_mean</th>\n",
       "      <td>0.836784</td>\n",
       "      <td>291</td>\n",
       "    </tr>\n",
       "    <tr>\n",
       "      <th>obs_duration_unit</th>\n",
       "      <td>0.297751</td>\n",
       "      <td>13</td>\n",
       "    </tr>\n",
       "    <tr>\n",
       "      <th>endpoint</th>\n",
       "      <td>0</td>\n",
       "      <td>6</td>\n",
       "    </tr>\n",
       "    <tr>\n",
       "      <th>effect</th>\n",
       "      <td>0</td>\n",
       "      <td>4</td>\n",
       "    </tr>\n",
       "    <tr>\n",
       "      <th>measurement</th>\n",
       "      <td>0</td>\n",
       "      <td>7</td>\n",
       "    </tr>\n",
       "    <tr>\n",
       "      <th>conc1_type</th>\n",
       "      <td>0</td>\n",
       "      <td>6</td>\n",
       "    </tr>\n",
       "    <tr>\n",
       "      <th>conc1_mean</th>\n",
       "      <td>0</td>\n",
       "      <td>7934</td>\n",
       "    </tr>\n",
       "    <tr>\n",
       "      <th>test_cas</th>\n",
       "      <td>0</td>\n",
       "      <td>3302</td>\n",
       "    </tr>\n",
       "    <tr>\n",
       "      <th>test_location</th>\n",
       "      <td>1.36726</td>\n",
       "      <td>4</td>\n",
       "    </tr>\n",
       "    <tr>\n",
       "      <th>exposure_type</th>\n",
       "      <td>8.66902</td>\n",
       "      <td>20</td>\n",
       "    </tr>\n",
       "    <tr>\n",
       "      <th>control_type</th>\n",
       "      <td>13.9995</td>\n",
       "      <td>12</td>\n",
       "    </tr>\n",
       "    <tr>\n",
       "      <th>media_type</th>\n",
       "      <td>0</td>\n",
       "      <td>7</td>\n",
       "    </tr>\n",
       "    <tr>\n",
       "      <th>application_freq_unit</th>\n",
       "      <td>16.3336</td>\n",
       "      <td>28</td>\n",
       "    </tr>\n",
       "    <tr>\n",
       "      <th>class</th>\n",
       "      <td>0.0958281</td>\n",
       "      <td>4</td>\n",
       "    </tr>\n",
       "    <tr>\n",
       "      <th>tax_order</th>\n",
       "      <td>0.0958281</td>\n",
       "      <td>29</td>\n",
       "    </tr>\n",
       "    <tr>\n",
       "      <th>family</th>\n",
       "      <td>0.12663</td>\n",
       "      <td>106</td>\n",
       "    </tr>\n",
       "    <tr>\n",
       "      <th>genus</th>\n",
       "      <td>0.326842</td>\n",
       "      <td>316</td>\n",
       "    </tr>\n",
       "    <tr>\n",
       "      <th>species</th>\n",
       "      <td>0.326842</td>\n",
       "      <td>507</td>\n",
       "    </tr>\n",
       "    <tr>\n",
       "      <th>gen_spec</th>\n",
       "      <td>0.326842</td>\n",
       "      <td>571</td>\n",
       "    </tr>\n",
       "  </tbody>\n",
       "</table>\n",
       "</div>"
      ],
      "text/plain": [
       "                      null_values_inc_NC_NR% #outputs\n",
       "result_id                                  0    58438\n",
       "test_id                                    0    55642\n",
       "obs_duration_mean                   0.836784      291\n",
       "obs_duration_unit                   0.297751       13\n",
       "endpoint                                   0        6\n",
       "effect                                     0        4\n",
       "measurement                                0        7\n",
       "conc1_type                                 0        6\n",
       "conc1_mean                                 0     7934\n",
       "test_cas                                   0     3302\n",
       "test_location                        1.36726        4\n",
       "exposure_type                        8.66902       20\n",
       "control_type                         13.9995       12\n",
       "media_type                                 0        7\n",
       "application_freq_unit                16.3336       28\n",
       "class                              0.0958281        4\n",
       "tax_order                          0.0958281       29\n",
       "family                               0.12663      106\n",
       "genus                               0.326842      316\n",
       "species                             0.326842      507\n",
       "gen_spec                            0.326842      571"
      ]
     },
     "execution_count": 18,
     "metadata": {},
     "output_type": "execute_result"
    }
   ],
   "source": [
    "db = impute_conc(rp)\n",
    "null_output_counts(db)"
   ]
  },
  {
   "cell_type": "code",
   "execution_count": 2,
   "metadata": {},
   "outputs": [
    {
     "name": "stdout",
     "output_type": "stream",
     "text": [
      "ug/L       36129\n",
      "mg/L        8259\n",
      "ppm         5241\n",
      "AI ug/L     4597\n",
      "AI mg/L     2678\n",
      "ppb         1414\n",
      "ul/L        1188\n",
      "AI ppm       319\n",
      "uM           309\n",
      "AI ng/L      234\n",
      "Name: conc1_unit, dtype: int64\n",
      "ug/L    40726\n",
      "mg/L    10937\n",
      "ppm      5560\n",
      "ppb      1642\n",
      "ul/L     1236\n",
      "uM        309\n",
      "Name: conc1_unit, dtype: int64\n"
     ]
    }
   ],
   "source": [
    "# elimino i valori NR\n",
    "to_drop_conc_mean = rp[rp.conc1_mean == 'NR'].index\n",
    "rpc = rp.drop(index = to_drop_conc_mean).copy()\n",
    "\n",
    "# Sostituisco valori strani\n",
    "rpc.loc[:,'conc1_mean'] = rpc.conc1_mean.apply(lambda x: x.replace(\"*\", \"\") if \"*\" in x else x).copy()\n",
    "\n",
    "# elimino valori vaghi\n",
    "to_drop_invalid_conc = rpc[rpc.conc1_mean == '>100000'].index\n",
    "rpc.drop(index = to_drop_invalid_conc, inplace = True)\n",
    "\n",
    "# cambio tipo in float\n",
    "rpc.loc[:,'conc1_mean'] = rpc.conc1_mean.astype(float).copy()\n",
    "\n",
    "# elimino valori useless\n",
    "to_drop_useless = rpc[rpc.conc1_mean == 0].index\n",
    "rpc.drop(index = to_drop_useless, inplace = True)\n",
    "\n",
    "# sostituisco Active Ingredient con solo unità \n",
    "print(rpc.conc1_unit.value_counts().head(10))\n",
    "rpc.loc[:,'conc1_unit'] = rpc.conc1_unit.apply(lambda x: x.replace(\"AI \", \"\") if 'AI' in x else x)\n",
    "print(rpc.conc1_unit.value_counts().head(6))"
   ]
  },
  {
   "cell_type": "markdown",
   "metadata": {},
   "source": [
    "Conversion:\n",
    "\n",
    "1 ppb = 1 ug/L = 1000 mg/L\n",
    "\n",
    "1 ng/L = 10^-6 mg/L\n",
    "\n",
    "1 ppm = 1 mg/L\n",
    "\n",
    "uM e ul/L non convertibili"
   ]
  },
  {
   "cell_type": "code",
   "execution_count": 3,
   "metadata": {},
   "outputs": [],
   "source": [
    "# Converto\n",
    "rpc.loc[(rpc.conc1_unit == 'ppb') | (rpc.conc1_unit == 'ug/L'), 'conc1_mean'] = \\\n",
    "            rpc.conc1_mean[(rpc.conc1_unit == 'ppb') | (rpc.conc1_unit == 'ug/L')]/1000\n",
    "rpc.loc[rpc.conc1_unit == 'ng/L', 'conc1_mean'] = rpc.conc1_mean[rpc.conc1_unit == 'ng/L']*(10**(-6))\n",
    "\n",
    "# Elimino inconvertibili\n",
    "to_drop_unit = rpc.loc[(rpc.conc1_unit == 'uM') | (rpc.conc1_unit == 'ul/L')].index\n",
    "rpc.drop(index = to_drop_unit, columns = ['conc1_unit'], inplace = True)\n"
   ]
  },
  {
   "cell_type": "markdown",
   "metadata": {},
   "source": [
    "### conc1_type"
   ]
  },
  {
   "cell_type": "code",
   "execution_count": 4,
   "metadata": {},
   "outputs": [],
   "source": [
    "# Non posso imputare\n",
    "to_drop_type = rpc.loc[(rpc.conc1_type == 'NC') |(rpc.conc1_type == 'NR')].index\n",
    "rpc.drop(index = to_drop_type, inplace = True)"
   ]
  },
  {
   "cell_type": "code",
   "execution_count": 5,
   "metadata": {
    "collapsed": true
   },
   "outputs": [
    {
     "name": "stderr",
     "output_type": "stream",
     "text": [
      "C:\\Users\\Simone\\Anaconda3\\lib\\site-packages\\pandas\\core\\ops\\array_ops.py:253: FutureWarning: elementwise comparison failed; returning scalar instead, but in the future will perform elementwise comparison\n",
      "  res_values = method(rvalues)\n"
     ]
    },
    {
     "data": {
      "text/html": [
       "<div>\n",
       "<style scoped>\n",
       "    .dataframe tbody tr th:only-of-type {\n",
       "        vertical-align: middle;\n",
       "    }\n",
       "\n",
       "    .dataframe tbody tr th {\n",
       "        vertical-align: top;\n",
       "    }\n",
       "\n",
       "    .dataframe thead th {\n",
       "        text-align: right;\n",
       "    }\n",
       "</style>\n",
       "<table border=\"1\" class=\"dataframe\">\n",
       "  <thead>\n",
       "    <tr style=\"text-align: right;\">\n",
       "      <th></th>\n",
       "      <th>null_values_inc_NC_NR%</th>\n",
       "      <th>#outputs</th>\n",
       "    </tr>\n",
       "  </thead>\n",
       "  <tbody>\n",
       "    <tr>\n",
       "      <th>result_id</th>\n",
       "      <td>0</td>\n",
       "      <td>58438</td>\n",
       "    </tr>\n",
       "    <tr>\n",
       "      <th>test_id</th>\n",
       "      <td>0</td>\n",
       "      <td>55642</td>\n",
       "    </tr>\n",
       "    <tr>\n",
       "      <th>obs_duration_mean</th>\n",
       "      <td>0.836784</td>\n",
       "      <td>291</td>\n",
       "    </tr>\n",
       "    <tr>\n",
       "      <th>obs_duration_unit</th>\n",
       "      <td>0.297751</td>\n",
       "      <td>13</td>\n",
       "    </tr>\n",
       "    <tr>\n",
       "      <th>endpoint</th>\n",
       "      <td>0</td>\n",
       "      <td>6</td>\n",
       "    </tr>\n",
       "    <tr>\n",
       "      <th>effect</th>\n",
       "      <td>0</td>\n",
       "      <td>4</td>\n",
       "    </tr>\n",
       "    <tr>\n",
       "      <th>measurement</th>\n",
       "      <td>0</td>\n",
       "      <td>7</td>\n",
       "    </tr>\n",
       "    <tr>\n",
       "      <th>conc1_type</th>\n",
       "      <td>0</td>\n",
       "      <td>6</td>\n",
       "    </tr>\n",
       "    <tr>\n",
       "      <th>conc1_mean</th>\n",
       "      <td>0</td>\n",
       "      <td>9781</td>\n",
       "    </tr>\n",
       "    <tr>\n",
       "      <th>test_cas</th>\n",
       "      <td>0</td>\n",
       "      <td>3302</td>\n",
       "    </tr>\n",
       "    <tr>\n",
       "      <th>test_location</th>\n",
       "      <td>1.36726</td>\n",
       "      <td>4</td>\n",
       "    </tr>\n",
       "    <tr>\n",
       "      <th>exposure_type</th>\n",
       "      <td>8.66902</td>\n",
       "      <td>20</td>\n",
       "    </tr>\n",
       "    <tr>\n",
       "      <th>control_type</th>\n",
       "      <td>13.9995</td>\n",
       "      <td>12</td>\n",
       "    </tr>\n",
       "    <tr>\n",
       "      <th>media_type</th>\n",
       "      <td>0</td>\n",
       "      <td>7</td>\n",
       "    </tr>\n",
       "    <tr>\n",
       "      <th>application_freq_unit</th>\n",
       "      <td>16.3336</td>\n",
       "      <td>28</td>\n",
       "    </tr>\n",
       "    <tr>\n",
       "      <th>class</th>\n",
       "      <td>0.0958281</td>\n",
       "      <td>4</td>\n",
       "    </tr>\n",
       "    <tr>\n",
       "      <th>tax_order</th>\n",
       "      <td>0.0958281</td>\n",
       "      <td>29</td>\n",
       "    </tr>\n",
       "    <tr>\n",
       "      <th>family</th>\n",
       "      <td>0.12663</td>\n",
       "      <td>106</td>\n",
       "    </tr>\n",
       "    <tr>\n",
       "      <th>genus</th>\n",
       "      <td>0.326842</td>\n",
       "      <td>316</td>\n",
       "    </tr>\n",
       "    <tr>\n",
       "      <th>species</th>\n",
       "      <td>0.326842</td>\n",
       "      <td>507</td>\n",
       "    </tr>\n",
       "    <tr>\n",
       "      <th>gen_spec</th>\n",
       "      <td>0.326842</td>\n",
       "      <td>571</td>\n",
       "    </tr>\n",
       "  </tbody>\n",
       "</table>\n",
       "</div>"
      ],
      "text/plain": [
       "                      null_values_inc_NC_NR% #outputs\n",
       "result_id                                  0    58438\n",
       "test_id                                    0    55642\n",
       "obs_duration_mean                   0.836784      291\n",
       "obs_duration_unit                   0.297751       13\n",
       "endpoint                                   0        6\n",
       "effect                                     0        4\n",
       "measurement                                0        7\n",
       "conc1_type                                 0        6\n",
       "conc1_mean                                 0     9781\n",
       "test_cas                                   0     3302\n",
       "test_location                        1.36726        4\n",
       "exposure_type                        8.66902       20\n",
       "control_type                         13.9995       12\n",
       "media_type                                 0        7\n",
       "application_freq_unit                16.3336       28\n",
       "class                              0.0958281        4\n",
       "tax_order                          0.0958281       29\n",
       "family                               0.12663      106\n",
       "genus                               0.326842      316\n",
       "species                             0.326842      507\n",
       "gen_spec                            0.326842      571"
      ]
     },
     "execution_count": 5,
     "metadata": {},
     "output_type": "execute_result"
    }
   ],
   "source": [
    "null_output_counts(rpc)"
   ]
  },
  {
   "cell_type": "markdown",
   "metadata": {},
   "source": [
    "## Tests"
   ]
  },
  {
   "cell_type": "code",
   "execution_count": 19,
   "metadata": {},
   "outputs": [],
   "source": [
    "def impute_test_feat(results_prefiltered):\n",
    "    \n",
    "    db = results_prefiltered.copy()\n",
    "    \n",
    "    db.loc[:,'exposure_type'] = db.exposure_type.apply(lambda x: x.replace(\"/\", \"\"))\n",
    "    db.loc[:,'exposure_type'] = db.exposure_type.apply(lambda x: x.replace(\"AQUA - NR\", \"AQUA\") if \"AQUA\" in x else x)\n",
    "    db.loc[:, 'exposure_type'] = db.exposure_type.apply(lambda x: 'AQUA' if 'NR' in x else x)\n",
    "    \n",
    "    db.drop(columns = ['test_location'], inplace = True)\n",
    "    \n",
    "    db.loc[:, 'control_type'] = db.control_type.apply(lambda x: x.replace(\"/\", \"\"))\n",
    "    db.loc[:, 'control_type'] = db.control_type.apply(lambda x: \"Unknown\" if \"NR\" in x else x)\n",
    "    \n",
    "    db.loc[:,'media_type'] = db.media_type.apply(lambda x: x.replace(\"/\", \"\"))\n",
    "    to_drop_media = db[db.media_type.isin(['NR', 'CUL', 'NONE', 'NC'])].index\n",
    "    db.drop(index = to_drop_media, inplace = True)\n",
    "    \n",
    "    db.loc[:,'application_freq_unit'] = db.application_freq_unit.apply(lambda x: \"X\" if ('NR' in x) | ('NC' in x) else x) \n",
    "    \n",
    "    return db"
   ]
  },
  {
   "cell_type": "code",
   "execution_count": 20,
   "metadata": {
    "collapsed": true
   },
   "outputs": [
    {
     "name": "stderr",
     "output_type": "stream",
     "text": [
      "C:\\Users\\Simone\\Anaconda3\\lib\\site-packages\\pandas\\core\\ops\\array_ops.py:253: FutureWarning: elementwise comparison failed; returning scalar instead, but in the future will perform elementwise comparison\n",
      "  res_values = method(rvalues)\n"
     ]
    },
    {
     "data": {
      "text/html": [
       "<div>\n",
       "<style scoped>\n",
       "    .dataframe tbody tr th:only-of-type {\n",
       "        vertical-align: middle;\n",
       "    }\n",
       "\n",
       "    .dataframe tbody tr th {\n",
       "        vertical-align: top;\n",
       "    }\n",
       "\n",
       "    .dataframe thead th {\n",
       "        text-align: right;\n",
       "    }\n",
       "</style>\n",
       "<table border=\"1\" class=\"dataframe\">\n",
       "  <thead>\n",
       "    <tr style=\"text-align: right;\">\n",
       "      <th></th>\n",
       "      <th>null_values_inc_NC_NR%</th>\n",
       "      <th>#outputs</th>\n",
       "    </tr>\n",
       "  </thead>\n",
       "  <tbody>\n",
       "    <tr>\n",
       "      <th>result_id</th>\n",
       "      <td>0</td>\n",
       "      <td>64322</td>\n",
       "    </tr>\n",
       "    <tr>\n",
       "      <th>test_id</th>\n",
       "      <td>0</td>\n",
       "      <td>61074</td>\n",
       "    </tr>\n",
       "    <tr>\n",
       "      <th>obs_duration_mean</th>\n",
       "      <td>1.77855</td>\n",
       "      <td>310</td>\n",
       "    </tr>\n",
       "    <tr>\n",
       "      <th>obs_duration_unit</th>\n",
       "      <td>0.296944</td>\n",
       "      <td>13</td>\n",
       "    </tr>\n",
       "    <tr>\n",
       "      <th>endpoint</th>\n",
       "      <td>0</td>\n",
       "      <td>6</td>\n",
       "    </tr>\n",
       "    <tr>\n",
       "      <th>effect</th>\n",
       "      <td>0</td>\n",
       "      <td>4</td>\n",
       "    </tr>\n",
       "    <tr>\n",
       "      <th>measurement</th>\n",
       "      <td>0</td>\n",
       "      <td>7</td>\n",
       "    </tr>\n",
       "    <tr>\n",
       "      <th>conc1_type</th>\n",
       "      <td>2.69892</td>\n",
       "      <td>8</td>\n",
       "    </tr>\n",
       "    <tr>\n",
       "      <th>conc1_mean</th>\n",
       "      <td>4.0717</td>\n",
       "      <td>9494</td>\n",
       "    </tr>\n",
       "    <tr>\n",
       "      <th>conc1_unit</th>\n",
       "      <td>0.00777339</td>\n",
       "      <td>61</td>\n",
       "    </tr>\n",
       "    <tr>\n",
       "      <th>test_cas</th>\n",
       "      <td>0</td>\n",
       "      <td>3479</td>\n",
       "    </tr>\n",
       "    <tr>\n",
       "      <th>exposure_type</th>\n",
       "      <td>0</td>\n",
       "      <td>14</td>\n",
       "    </tr>\n",
       "    <tr>\n",
       "      <th>control_type</th>\n",
       "      <td>0</td>\n",
       "      <td>11</td>\n",
       "    </tr>\n",
       "    <tr>\n",
       "      <th>media_type</th>\n",
       "      <td>0</td>\n",
       "      <td>2</td>\n",
       "    </tr>\n",
       "    <tr>\n",
       "      <th>application_freq_unit</th>\n",
       "      <td>0</td>\n",
       "      <td>26</td>\n",
       "    </tr>\n",
       "    <tr>\n",
       "      <th>class</th>\n",
       "      <td>0.091726</td>\n",
       "      <td>4</td>\n",
       "    </tr>\n",
       "    <tr>\n",
       "      <th>tax_order</th>\n",
       "      <td>0.091726</td>\n",
       "      <td>30</td>\n",
       "    </tr>\n",
       "    <tr>\n",
       "      <th>family</th>\n",
       "      <td>0.11971</td>\n",
       "      <td>107</td>\n",
       "    </tr>\n",
       "    <tr>\n",
       "      <th>genus</th>\n",
       "      <td>0.301608</td>\n",
       "      <td>324</td>\n",
       "    </tr>\n",
       "    <tr>\n",
       "      <th>species</th>\n",
       "      <td>0.301608</td>\n",
       "      <td>516</td>\n",
       "    </tr>\n",
       "    <tr>\n",
       "      <th>gen_spec</th>\n",
       "      <td>0.301608</td>\n",
       "      <td>582</td>\n",
       "    </tr>\n",
       "  </tbody>\n",
       "</table>\n",
       "</div>"
      ],
      "text/plain": [
       "                      null_values_inc_NC_NR% #outputs\n",
       "result_id                                  0    64322\n",
       "test_id                                    0    61074\n",
       "obs_duration_mean                    1.77855      310\n",
       "obs_duration_unit                   0.296944       13\n",
       "endpoint                                   0        6\n",
       "effect                                     0        4\n",
       "measurement                                0        7\n",
       "conc1_type                           2.69892        8\n",
       "conc1_mean                            4.0717     9494\n",
       "conc1_unit                        0.00777339       61\n",
       "test_cas                                   0     3479\n",
       "exposure_type                              0       14\n",
       "control_type                               0       11\n",
       "media_type                                 0        2\n",
       "application_freq_unit                      0       26\n",
       "class                               0.091726        4\n",
       "tax_order                           0.091726       30\n",
       "family                               0.11971      107\n",
       "genus                               0.301608      324\n",
       "species                             0.301608      516\n",
       "gen_spec                            0.301608      582"
      ]
     },
     "execution_count": 20,
     "metadata": {},
     "output_type": "execute_result"
    }
   ],
   "source": [
    "db = impute_test_feat(rp)\n",
    "null_output_counts(db)"
   ]
  },
  {
   "cell_type": "markdown",
   "metadata": {},
   "source": [
    "### exposure_type"
   ]
  },
  {
   "cell_type": "code",
   "execution_count": 14,
   "metadata": {
    "scrolled": false
   },
   "outputs": [],
   "source": [
    "# Levo caratteri non rilevanti\n",
    "rp.loc[:,'exposure_type'] = rp.exposure_type.apply(lambda x: x.replace(\"/\", \"\"))"
   ]
  },
  {
   "cell_type": "code",
   "execution_count": 3,
   "metadata": {
    "collapsed": true
   },
   "outputs": [
    {
     "data": {
      "text/plain": [
       "S            38260\n",
       "F            13443\n",
       "R             6553\n",
       "NR            5354\n",
       "AQUA - NR      497\n",
       "P              141\n",
       "E               48\n",
       "O               19\n",
       "IP              13\n",
       "OR               4\n",
       "FD               3\n",
       "IV               3\n",
       "SP               1\n",
       "IJ               1\n",
       "SC               1\n",
       "Name: exposure_type, dtype: int64"
      ]
     },
     "execution_count": 3,
     "metadata": {},
     "output_type": "execute_result"
    }
   ],
   "source": [
    "rp.exposure_type.value_counts()"
   ]
  },
  {
   "cell_type": "code",
   "execution_count": 15,
   "metadata": {},
   "outputs": [],
   "source": [
    "# Sapendo che i pesci vivono in acqua imputo con la categoria AQUA\n",
    "# Ci sono altri modi per imputare?\n",
    "rp.loc[:,'exposure_type'] = rp.exposure_type.apply(lambda x: x.replace(\"AQUA - NR\", \"AQUA\") if \"AQUA\" in x else x)\n",
    "\n",
    "rp.loc[:, 'exposure_type'] = rp.exposure_type.apply(lambda x: 'AQUA' if 'NR' in x else x)\n"
   ]
  },
  {
   "cell_type": "code",
   "execution_count": 5,
   "metadata": {
    "collapsed": true
   },
   "outputs": [
    {
     "data": {
      "text/plain": [
       "S       38260\n",
       "F       13443\n",
       "R        6553\n",
       "AQUA     5851\n",
       "P         141\n",
       "E          48\n",
       "O          19\n",
       "IP         13\n",
       "OR          4\n",
       "FD          3\n",
       "IV          3\n",
       "SP          1\n",
       "IJ          1\n",
       "SC          1\n",
       "Name: exposure_type, dtype: int64"
      ]
     },
     "execution_count": 5,
     "metadata": {},
     "output_type": "execute_result"
    }
   ],
   "source": [
    "rp.exposure_type.value_counts()"
   ]
  },
  {
   "cell_type": "markdown",
   "metadata": {},
   "source": [
    "### test_location\n",
    "\n",
    "La maggior parte degli esperimenti sono stati effettuati in laboratorio, non ritengo opportuno mantenere test_location tra le variabili"
   ]
  },
  {
   "cell_type": "code",
   "execution_count": 10,
   "metadata": {},
   "outputs": [
    {
     "data": {
      "text/plain": [
       "LAB       63463\n",
       "NR          807\n",
       "FIELDA       50\n",
       "FIELDN       21\n",
       "Name: test_location, dtype: int64"
      ]
     },
     "execution_count": 10,
     "metadata": {},
     "output_type": "execute_result"
    }
   ],
   "source": [
    "rp.test_location.value_counts()"
   ]
  },
  {
   "cell_type": "code",
   "execution_count": 56,
   "metadata": {},
   "outputs": [],
   "source": [
    "rp.drop(columns = ['test_location'], inplace = True)"
   ]
  },
  {
   "cell_type": "markdown",
   "metadata": {},
   "source": [
    "### control_type"
   ]
  },
  {
   "cell_type": "code",
   "execution_count": 11,
   "metadata": {},
   "outputs": [
    {
     "data": {
      "text/plain": [
       "C     22635\n",
       "I     14456\n",
       "S      9003\n",
       "NR     8436\n",
       "K      4285\n",
       "V      2478\n",
       "M      2252\n",
       "M/      618\n",
       "U       147\n",
       "O        18\n",
       "P         8\n",
       "B         5\n",
       "Name: control_type, dtype: int64"
      ]
     },
     "execution_count": 11,
     "metadata": {},
     "output_type": "execute_result"
    }
   ],
   "source": [
    "rp.control_type.value_counts()"
   ]
  },
  {
   "cell_type": "code",
   "execution_count": 4,
   "metadata": {},
   "outputs": [],
   "source": [
    "rp.loc[:, 'control_type'] = rp.control_type.apply(lambda x: x.replace(\"/\", \"\"))\n",
    "rp.loc[:, 'control_type'] = rp.control_type.apply(lambda x: \"Unknown\" if \"NR\" in x else x)"
   ]
  },
  {
   "cell_type": "markdown",
   "metadata": {},
   "source": [
    "### media_type\n",
    "Tengo FW e SW che mi indicano se il pesce è di acqua salata (Salt Water) o di acqua dolce (Fresh water)"
   ]
  },
  {
   "cell_type": "code",
   "execution_count": 2,
   "metadata": {},
   "outputs": [],
   "source": [
    "rp.loc[:,'media_type'] = rp.media_type.apply(lambda x: x.replace(\"/\", \"\"))"
   ]
  },
  {
   "cell_type": "code",
   "execution_count": 3,
   "metadata": {},
   "outputs": [],
   "source": [
    "to_drop_media = rp[rp.media_type.isin(['NR', 'CUL', 'NONE', 'NC'])].index\n",
    "rpm = rp.copy()\n",
    "rpm.drop(index = to_drop_media, inplace = True)"
   ]
  },
  {
   "cell_type": "code",
   "execution_count": 7,
   "metadata": {},
   "outputs": [
    {
     "data": {
      "text/plain": [
       "FW    416\n",
       "SW    164\n",
       "Name: media_type, dtype: int64"
      ]
     },
     "execution_count": 7,
     "metadata": {},
     "output_type": "execute_result"
    }
   ],
   "source": [
    "tmp = rpm.copy()\n",
    "tmp['fish'] = tmp['class'] + ' ' + tmp['tax_order'] +' '+ tmp['family'] +' '+ tmp['genus'] +' '+ tmp['species']\n",
    "a = tmp.groupby(['fish']).first()\n",
    "a.media_type.value_counts()"
   ]
  },
  {
   "cell_type": "markdown",
   "metadata": {},
   "source": [
    "## application_freq_unit"
   ]
  },
  {
   "cell_type": "code",
   "execution_count": 8,
   "metadata": {
    "collapsed": true
   },
   "outputs": [
    {
     "data": {
      "text/plain": [
       "X                  38345\n",
       "CON                13452\n",
       "NR                  9947\n",
       "E X H               1322\n",
       "DLY                  748\n",
       "NC                   184\n",
       "E X D                 91\n",
       "X per D               54\n",
       "EOD                   50\n",
       "DLY for X D           39\n",
       "X per 24 H            25\n",
       "X per WK               9\n",
       "Xfor4H,24H apt         8\n",
       "Xfor2.5H,8H apt        7\n",
       "Xfor6H,12H apt         7\n",
       "Xfor4H,8H apt          7\n",
       "X MI E8H               6\n",
       "DLY for 2 H            6\n",
       "Xfor4H,12H apt         5\n",
       "X, 1X/wk               4\n",
       "Xfor12H,24H apt        4\n",
       "X for 60 MI            4\n",
       "X per 2D               4\n",
       "X, 1X/D                3\n",
       "WKY                    3\n",
       "H                      3\n",
       "X for 24 H             2\n",
       "X E2D                  2\n",
       "Name: application_freq_unit, dtype: int64"
      ]
     },
     "execution_count": 8,
     "metadata": {},
     "output_type": "execute_result"
    }
   ],
   "source": [
    "rp.application_freq_unit.value_counts()"
   ]
  },
  {
   "cell_type": "code",
   "execution_count": 9,
   "metadata": {},
   "outputs": [],
   "source": [
    "# imputo con la classe più frequente\n",
    "rp.loc[:,'application_freq_unit'] = rp.application_freq_unit.apply(lambda x: \"X\" if ('NR' in x) | ('NC' in x) else x) "
   ]
  },
  {
   "cell_type": "markdown",
   "metadata": {},
   "source": [
    "# Filtering best features"
   ]
  },
  {
   "cell_type": "code",
   "execution_count": null,
   "metadata": {},
   "outputs": [],
   "source": [
    "\n",
    "    \n",
    "    "
   ]
  },
  {
   "cell_type": "markdown",
   "metadata": {},
   "source": [
    "# Exploratory Analysis"
   ]
  },
  {
   "cell_type": "code",
   "execution_count": 1,
   "metadata": {},
   "outputs": [
    {
     "name": "stdout",
     "output_type": "stream",
     "text": [
      "(26836, 25)\n"
     ]
    },
    {
     "data": {
      "text/html": [
       "<div>\n",
       "<style scoped>\n",
       "    .dataframe tbody tr th:only-of-type {\n",
       "        vertical-align: middle;\n",
       "    }\n",
       "\n",
       "    .dataframe tbody tr th {\n",
       "        vertical-align: top;\n",
       "    }\n",
       "\n",
       "    .dataframe thead th {\n",
       "        text-align: right;\n",
       "    }\n",
       "</style>\n",
       "<table border=\"1\" class=\"dataframe\">\n",
       "  <thead>\n",
       "    <tr style=\"text-align: right;\">\n",
       "      <th></th>\n",
       "      <th>test_cas</th>\n",
       "      <th>obs_duration_mean</th>\n",
       "      <th>conc1_type</th>\n",
       "      <th>species</th>\n",
       "      <th>exposure_type</th>\n",
       "      <th>control_type</th>\n",
       "      <th>media_type</th>\n",
       "      <th>application_freq_unit</th>\n",
       "      <th>conc1_mean</th>\n",
       "      <th>class</th>\n",
       "      <th>...</th>\n",
       "      <th>atom_number</th>\n",
       "      <th>alone_atom_number</th>\n",
       "      <th>bonds_number</th>\n",
       "      <th>doubleBond</th>\n",
       "      <th>tripleBond</th>\n",
       "      <th>ring_number</th>\n",
       "      <th>Mol</th>\n",
       "      <th>MorganDensity</th>\n",
       "      <th>LogP</th>\n",
       "      <th>oh_count</th>\n",
       "    </tr>\n",
       "  </thead>\n",
       "  <tbody>\n",
       "    <tr>\n",
       "      <th>0</th>\n",
       "      <td>50-00-0</td>\n",
       "      <td>24.0</td>\n",
       "      <td>A</td>\n",
       "      <td>affinis</td>\n",
       "      <td>R</td>\n",
       "      <td>C</td>\n",
       "      <td>FW</td>\n",
       "      <td>E X H</td>\n",
       "      <td>100.00</td>\n",
       "      <td>Actinopterygii</td>\n",
       "      <td>...</td>\n",
       "      <td>0.217006</td>\n",
       "      <td>0</td>\n",
       "      <td>0.141094</td>\n",
       "      <td>1</td>\n",
       "      <td>0</td>\n",
       "      <td>0</td>\n",
       "      <td>0.219354</td>\n",
       "      <td>1.5</td>\n",
       "      <td>-0.1849</td>\n",
       "      <td>0</td>\n",
       "    </tr>\n",
       "    <tr>\n",
       "      <th>1</th>\n",
       "      <td>50-00-0</td>\n",
       "      <td>48.0</td>\n",
       "      <td>A</td>\n",
       "      <td>affinis</td>\n",
       "      <td>R</td>\n",
       "      <td>C</td>\n",
       "      <td>FW</td>\n",
       "      <td>E X H</td>\n",
       "      <td>97.00</td>\n",
       "      <td>Actinopterygii</td>\n",
       "      <td>...</td>\n",
       "      <td>0.217006</td>\n",
       "      <td>0</td>\n",
       "      <td>0.141094</td>\n",
       "      <td>1</td>\n",
       "      <td>0</td>\n",
       "      <td>0</td>\n",
       "      <td>0.219354</td>\n",
       "      <td>1.5</td>\n",
       "      <td>-0.1849</td>\n",
       "      <td>0</td>\n",
       "    </tr>\n",
       "    <tr>\n",
       "      <th>2</th>\n",
       "      <td>50-00-0</td>\n",
       "      <td>72.0</td>\n",
       "      <td>A</td>\n",
       "      <td>affinis</td>\n",
       "      <td>R</td>\n",
       "      <td>C</td>\n",
       "      <td>FW</td>\n",
       "      <td>E X H</td>\n",
       "      <td>94.00</td>\n",
       "      <td>Actinopterygii</td>\n",
       "      <td>...</td>\n",
       "      <td>0.217006</td>\n",
       "      <td>0</td>\n",
       "      <td>0.141094</td>\n",
       "      <td>1</td>\n",
       "      <td>0</td>\n",
       "      <td>0</td>\n",
       "      <td>0.219354</td>\n",
       "      <td>1.5</td>\n",
       "      <td>-0.1849</td>\n",
       "      <td>0</td>\n",
       "    </tr>\n",
       "    <tr>\n",
       "      <th>3</th>\n",
       "      <td>50-00-0</td>\n",
       "      <td>96.0</td>\n",
       "      <td>A</td>\n",
       "      <td>affinis</td>\n",
       "      <td>R</td>\n",
       "      <td>C</td>\n",
       "      <td>FW</td>\n",
       "      <td>E X H</td>\n",
       "      <td>90.00</td>\n",
       "      <td>Actinopterygii</td>\n",
       "      <td>...</td>\n",
       "      <td>0.217006</td>\n",
       "      <td>0</td>\n",
       "      <td>0.141094</td>\n",
       "      <td>1</td>\n",
       "      <td>0</td>\n",
       "      <td>0</td>\n",
       "      <td>0.219354</td>\n",
       "      <td>1.5</td>\n",
       "      <td>-0.1849</td>\n",
       "      <td>0</td>\n",
       "    </tr>\n",
       "    <tr>\n",
       "      <th>4</th>\n",
       "      <td>50-00-0</td>\n",
       "      <td>96.0</td>\n",
       "      <td>A</td>\n",
       "      <td>affinis</td>\n",
       "      <td>S</td>\n",
       "      <td>C</td>\n",
       "      <td>FW</td>\n",
       "      <td>X</td>\n",
       "      <td>133.55</td>\n",
       "      <td>Actinopterygii</td>\n",
       "      <td>...</td>\n",
       "      <td>0.217006</td>\n",
       "      <td>0</td>\n",
       "      <td>0.141094</td>\n",
       "      <td>1</td>\n",
       "      <td>0</td>\n",
       "      <td>0</td>\n",
       "      <td>0.219354</td>\n",
       "      <td>1.5</td>\n",
       "      <td>-0.1849</td>\n",
       "      <td>0</td>\n",
       "    </tr>\n",
       "  </tbody>\n",
       "</table>\n",
       "<p>5 rows × 25 columns</p>\n",
       "</div>"
      ],
      "text/plain": [
       "  test_cas  obs_duration_mean conc1_type  species exposure_type control_type  \\\n",
       "0  50-00-0               24.0          A  affinis             R            C   \n",
       "1  50-00-0               48.0          A  affinis             R            C   \n",
       "2  50-00-0               72.0          A  affinis             R            C   \n",
       "3  50-00-0               96.0          A  affinis             R            C   \n",
       "4  50-00-0               96.0          A  affinis             S            C   \n",
       "\n",
       "  media_type application_freq_unit  conc1_mean           class  ...  \\\n",
       "0         FW                 E X H      100.00  Actinopterygii  ...   \n",
       "1         FW                 E X H       97.00  Actinopterygii  ...   \n",
       "2         FW                 E X H       94.00  Actinopterygii  ...   \n",
       "3         FW                 E X H       90.00  Actinopterygii  ...   \n",
       "4         FW                     X      133.55  Actinopterygii  ...   \n",
       "\n",
       "  atom_number alone_atom_number bonds_number doubleBond tripleBond  \\\n",
       "0    0.217006                 0     0.141094          1          0   \n",
       "1    0.217006                 0     0.141094          1          0   \n",
       "2    0.217006                 0     0.141094          1          0   \n",
       "3    0.217006                 0     0.141094          1          0   \n",
       "4    0.217006                 0     0.141094          1          0   \n",
       "\n",
       "   ring_number       Mol  MorganDensity    LogP  oh_count  \n",
       "0            0  0.219354            1.5 -0.1849         0  \n",
       "1            0  0.219354            1.5 -0.1849         0  \n",
       "2            0  0.219354            1.5 -0.1849         0  \n",
       "3            0  0.219354            1.5 -0.1849         0  \n",
       "4            0  0.219354            1.5 -0.1849         0  \n",
       "\n",
       "[5 rows x 25 columns]"
      ]
     },
     "execution_count": 1,
     "metadata": {},
     "output_type": "execute_result"
    }
   ],
   "source": [
    "import pandas as pd\n",
    "import numpy as np\n",
    "import seaborn as sns\n",
    "\n",
    "db = pd.read_csv('data/lc_db_processed.csv').drop(columns = ['Unnamed: 0'])\n",
    "print(db.shape)\n",
    "db.head()"
   ]
  },
  {
   "cell_type": "code",
   "execution_count": 3,
   "metadata": {},
   "outputs": [
    {
     "data": {
      "text/html": [
       "<div>\n",
       "<style scoped>\n",
       "    .dataframe tbody tr th:only-of-type {\n",
       "        vertical-align: middle;\n",
       "    }\n",
       "\n",
       "    .dataframe tbody tr th {\n",
       "        vertical-align: top;\n",
       "    }\n",
       "\n",
       "    .dataframe thead th {\n",
       "        text-align: right;\n",
       "    }\n",
       "</style>\n",
       "<table border=\"1\" class=\"dataframe\">\n",
       "  <thead>\n",
       "    <tr style=\"text-align: right;\">\n",
       "      <th></th>\n",
       "      <th>obs_duration_mean</th>\n",
       "      <th>conc1_mean</th>\n",
       "      <th>atom_number</th>\n",
       "      <th>alone_atom_number</th>\n",
       "      <th>bonds_number</th>\n",
       "      <th>doubleBond</th>\n",
       "      <th>tripleBond</th>\n",
       "      <th>ring_number</th>\n",
       "      <th>Mol</th>\n",
       "      <th>MorganDensity</th>\n",
       "      <th>LogP</th>\n",
       "      <th>oh_count</th>\n",
       "    </tr>\n",
       "  </thead>\n",
       "  <tbody>\n",
       "    <tr>\n",
       "      <th>count</th>\n",
       "      <td>26836.000000</td>\n",
       "      <td>2.683600e+04</td>\n",
       "      <td>26836.000000</td>\n",
       "      <td>26836.000000</td>\n",
       "      <td>26836.000000</td>\n",
       "      <td>26836.000000</td>\n",
       "      <td>26836.000000</td>\n",
       "      <td>26836.000000</td>\n",
       "      <td>26836.000000</td>\n",
       "      <td>26836.000000</td>\n",
       "      <td>26836.000000</td>\n",
       "      <td>26836.000000</td>\n",
       "    </tr>\n",
       "    <tr>\n",
       "      <th>mean</th>\n",
       "      <td>66.170815</td>\n",
       "      <td>3.584443e+02</td>\n",
       "      <td>0.434482</td>\n",
       "      <td>1.391079</td>\n",
       "      <td>0.489027</td>\n",
       "      <td>1.248621</td>\n",
       "      <td>0.056976</td>\n",
       "      <td>1.181920</td>\n",
       "      <td>0.598545</td>\n",
       "      <td>1.070289</td>\n",
       "      <td>1.663731</td>\n",
       "      <td>0.238560</td>\n",
       "    </tr>\n",
       "    <tr>\n",
       "      <th>std</th>\n",
       "      <td>30.085451</td>\n",
       "      <td>3.273501e+03</td>\n",
       "      <td>0.133564</td>\n",
       "      <td>2.215640</td>\n",
       "      <td>0.192204</td>\n",
       "      <td>1.284109</td>\n",
       "      <td>0.263971</td>\n",
       "      <td>1.390911</td>\n",
       "      <td>0.115442</td>\n",
       "      <td>0.335783</td>\n",
       "      <td>3.552222</td>\n",
       "      <td>0.789316</td>\n",
       "    </tr>\n",
       "    <tr>\n",
       "      <th>min</th>\n",
       "      <td>24.000000</td>\n",
       "      <td>5.200000e-08</td>\n",
       "      <td>0.000000</td>\n",
       "      <td>0.000000</td>\n",
       "      <td>0.000000</td>\n",
       "      <td>0.000000</td>\n",
       "      <td>0.000000</td>\n",
       "      <td>0.000000</td>\n",
       "      <td>0.000000</td>\n",
       "      <td>0.204918</td>\n",
       "      <td>-24.338100</td>\n",
       "      <td>0.000000</td>\n",
       "    </tr>\n",
       "    <tr>\n",
       "      <th>25%</th>\n",
       "      <td>48.000000</td>\n",
       "      <td>2.400000e-01</td>\n",
       "      <td>0.353921</td>\n",
       "      <td>0.000000</td>\n",
       "      <td>0.396102</td>\n",
       "      <td>0.000000</td>\n",
       "      <td>0.000000</td>\n",
       "      <td>0.000000</td>\n",
       "      <td>0.538220</td>\n",
       "      <td>0.842105</td>\n",
       "      <td>-0.002500</td>\n",
       "      <td>0.000000</td>\n",
       "    </tr>\n",
       "    <tr>\n",
       "      <th>50%</th>\n",
       "      <td>72.000000</td>\n",
       "      <td>3.200000e+00</td>\n",
       "      <td>0.454823</td>\n",
       "      <td>1.000000</td>\n",
       "      <td>0.551240</td>\n",
       "      <td>1.000000</td>\n",
       "      <td>0.000000</td>\n",
       "      <td>1.000000</td>\n",
       "      <td>0.623404</td>\n",
       "      <td>1.125000</td>\n",
       "      <td>2.292400</td>\n",
       "      <td>0.000000</td>\n",
       "    </tr>\n",
       "    <tr>\n",
       "      <th>75%</th>\n",
       "      <td>96.000000</td>\n",
       "      <td>3.000000e+01</td>\n",
       "      <td>0.534913</td>\n",
       "      <td>2.000000</td>\n",
       "      <td>0.619731</td>\n",
       "      <td>2.000000</td>\n",
       "      <td>0.000000</td>\n",
       "      <td>2.000000</td>\n",
       "      <td>0.680548</td>\n",
       "      <td>1.250000</td>\n",
       "      <td>3.732100</td>\n",
       "      <td>0.000000</td>\n",
       "    </tr>\n",
       "    <tr>\n",
       "      <th>max</th>\n",
       "      <td>96.000000</td>\n",
       "      <td>2.930000e+05</td>\n",
       "      <td>1.000000</td>\n",
       "      <td>45.000000</td>\n",
       "      <td>1.000000</td>\n",
       "      <td>18.000000</td>\n",
       "      <td>6.000000</td>\n",
       "      <td>14.000000</td>\n",
       "      <td>1.000000</td>\n",
       "      <td>2.000000</td>\n",
       "      <td>13.789100</td>\n",
       "      <td>25.000000</td>\n",
       "    </tr>\n",
       "  </tbody>\n",
       "</table>\n",
       "</div>"
      ],
      "text/plain": [
       "       obs_duration_mean    conc1_mean   atom_number  alone_atom_number  \\\n",
       "count       26836.000000  2.683600e+04  26836.000000       26836.000000   \n",
       "mean           66.170815  3.584443e+02      0.434482           1.391079   \n",
       "std            30.085451  3.273501e+03      0.133564           2.215640   \n",
       "min            24.000000  5.200000e-08      0.000000           0.000000   \n",
       "25%            48.000000  2.400000e-01      0.353921           0.000000   \n",
       "50%            72.000000  3.200000e+00      0.454823           1.000000   \n",
       "75%            96.000000  3.000000e+01      0.534913           2.000000   \n",
       "max            96.000000  2.930000e+05      1.000000          45.000000   \n",
       "\n",
       "       bonds_number    doubleBond    tripleBond   ring_number           Mol  \\\n",
       "count  26836.000000  26836.000000  26836.000000  26836.000000  26836.000000   \n",
       "mean       0.489027      1.248621      0.056976      1.181920      0.598545   \n",
       "std        0.192204      1.284109      0.263971      1.390911      0.115442   \n",
       "min        0.000000      0.000000      0.000000      0.000000      0.000000   \n",
       "25%        0.396102      0.000000      0.000000      0.000000      0.538220   \n",
       "50%        0.551240      1.000000      0.000000      1.000000      0.623404   \n",
       "75%        0.619731      2.000000      0.000000      2.000000      0.680548   \n",
       "max        1.000000     18.000000      6.000000     14.000000      1.000000   \n",
       "\n",
       "       MorganDensity          LogP      oh_count  \n",
       "count   26836.000000  26836.000000  26836.000000  \n",
       "mean        1.070289      1.663731      0.238560  \n",
       "std         0.335783      3.552222      0.789316  \n",
       "min         0.204918    -24.338100      0.000000  \n",
       "25%         0.842105     -0.002500      0.000000  \n",
       "50%         1.125000      2.292400      0.000000  \n",
       "75%         1.250000      3.732100      0.000000  \n",
       "max         2.000000     13.789100     25.000000  "
      ]
     },
     "execution_count": 3,
     "metadata": {},
     "output_type": "execute_result"
    }
   ],
   "source": [
    "db.describe()"
   ]
  },
  {
   "cell_type": "code",
   "execution_count": 13,
   "metadata": {
    "collapsed": true
   },
   "outputs": [
    {
     "data": {
      "text/plain": [
       "<matplotlib.axes._subplots.AxesSubplot at 0x1f97034a088>"
      ]
     },
     "execution_count": 13,
     "metadata": {},
     "output_type": "execute_result"
    },
    {
     "data": {
      "image/png": "[encoded data removed]",
      "text/plain": [
       "<Figure size 720x576 with 2 Axes>"
      ]
     },
     "metadata": {
      "needs_background": "light"
     },
     "output_type": "display_data"
    }
   ],
   "source": [
    "import matplotlib.pyplot as plt\n",
    "plt.figure(figsize = (10,8))\n",
    "cor = db.corr()\n",
    "sns.heatmap(cor, annot = True)"
   ]
  },
  {
   "cell_type": "markdown",
   "metadata": {},
   "source": [
    "## Chemical Clustering "
   ]
  },
  {
   "cell_type": "code",
   "execution_count": 1,
   "metadata": {},
   "outputs": [
    {
     "data": {
      "text/html": [
       "<div>\n",
       "<style scoped>\n",
       "    .dataframe tbody tr th:only-of-type {\n",
       "        vertical-align: middle;\n",
       "    }\n",
       "\n",
       "    .dataframe tbody tr th {\n",
       "        vertical-align: top;\n",
       "    }\n",
       "\n",
       "    .dataframe thead th {\n",
       "        text-align: right;\n",
       "    }\n",
       "</style>\n",
       "<table border=\"1\" class=\"dataframe\">\n",
       "  <thead>\n",
       "    <tr style=\"text-align: right;\">\n",
       "      <th></th>\n",
       "      <th>test_cas</th>\n",
       "      <th>smiles</th>\n",
       "      <th>pubchem2d</th>\n",
       "    </tr>\n",
       "  </thead>\n",
       "  <tbody>\n",
       "    <tr>\n",
       "      <th>0</th>\n",
       "      <td>1071-83-6</td>\n",
       "      <td>OC(=O)CNC[P](O)(O)=O</td>\n",
       "      <td>1100000001000010001110000000001000000000000000...</td>\n",
       "    </tr>\n",
       "    <tr>\n",
       "      <th>1</th>\n",
       "      <td>2896-70-0</td>\n",
       "      <td>CC1(C)CC(=O)CC(C)(C)N1[O]</td>\n",
       "      <td>1110000001110010001100000000000000000000000000...</td>\n",
       "    </tr>\n",
       "    <tr>\n",
       "      <th>2</th>\n",
       "      <td>13457-18-6</td>\n",
       "      <td>CCOC(=O)c1cn2nc(O[P](=S)(OCC)OCC)cc2nc1C</td>\n",
       "      <td>1110000001110011001110000000001001000000000000...</td>\n",
       "    </tr>\n",
       "    <tr>\n",
       "      <th>3</th>\n",
       "      <td>5829-48-1</td>\n",
       "      <td>CCCCCCCCC(Cl)C(Cl)CCCCCCCC(O)=O</td>\n",
       "      <td>1111000001111000001100000000000000000110000000...</td>\n",
       "    </tr>\n",
       "    <tr>\n",
       "      <th>4</th>\n",
       "      <td>50-29-3</td>\n",
       "      <td>Clc1ccc(cc1)C(c2ccc(Cl)cc2)C(Cl)(Cl)Cl</td>\n",
       "      <td>1100000001110000000000000000000000000111000000...</td>\n",
       "    </tr>\n",
       "  </tbody>\n",
       "</table>\n",
       "</div>"
      ],
      "text/plain": [
       "     test_cas                                    smiles  \\\n",
       "0   1071-83-6                      OC(=O)CNC[P](O)(O)=O   \n",
       "1   2896-70-0                 CC1(C)CC(=O)CC(C)(C)N1[O]   \n",
       "2  13457-18-6  CCOC(=O)c1cn2nc(O[P](=S)(OCC)OCC)cc2nc1C   \n",
       "3   5829-48-1           CCCCCCCCC(Cl)C(Cl)CCCCCCCC(O)=O   \n",
       "4     50-29-3    Clc1ccc(cc1)C(c2ccc(Cl)cc2)C(Cl)(Cl)Cl   \n",
       "\n",
       "                                           pubchem2d  \n",
       "0  1100000001000010001110000000001000000000000000...  \n",
       "1  1110000001110010001100000000000000000000000000...  \n",
       "2  1110000001110011001110000000001001000000000000...  \n",
       "3  1111000001111000001100000000000000000110000000...  \n",
       "4  1100000001110000000000000000000000000111000000...  "
      ]
     },
     "execution_count": 1,
     "metadata": {},
     "output_type": "execute_result"
    }
   ],
   "source": [
    "import pandas as pd\n",
    "import numpy as np\n",
    "\n",
    "csp = pd.read_csv('data/cas_smiles_pubchem2d.csv').drop(columns = ['Unnamed: 0'])\n",
    "csp.head()"
   ]
  },
  {
   "cell_type": "markdown",
   "metadata": {},
   "source": [
    "### Tanimoto"
   ]
  },
  {
   "cell_type": "code",
   "execution_count": 2,
   "metadata": {},
   "outputs": [],
   "source": [
    "from rdkit.DataStructs.cDataStructs import CreateFromBitString\n",
    "from rdkit.DataManip.Metric.rdMetricMatrixCalc import GetTanimotoDistMat\n",
    "from scipy.spatial.distance import squareform\n",
    "\n",
    "tanimoto_matrix = squareform(GetTanimotoDistMat(csp['pubchem2d'].apply(CreateFromBitString).to_list()))"
   ]
  },
  {
   "cell_type": "code",
   "execution_count": 9,
   "metadata": {},
   "outputs": [
    {
     "name": "stdout",
     "output_type": "stream",
     "text": [
      "(4308580,)\n",
      "Ci sono 255 valori pari a 0\n"
     ]
    },
    {
     "data": {
      "image/png": "[encoded data removed]",
      "text/plain": [
       "<Figure size 720x360 with 1 Axes>"
      ]
     },
     "metadata": {
      "needs_background": "light"
     },
     "output_type": "display_data"
    }
   ],
   "source": [
    "import matplotlib.pyplot as plt\n",
    "import seaborn as sb\n",
    "\n",
    "plt.figure(figsize = (10,5))\n",
    "a = sb.distplot(squareform(tanimoto_matrix, force='tovector'), kde = False, bins = 100 )\n",
    "a.set_yscale('log')\n",
    "vec = squareform(tanimoto_matrix, force='tovector')\n",
    "print(vec.shape)\n",
    "vec = pd.Series(vec)\n",
    "print('''Ci sono {} valori pari a 0'''.format(vec.value_counts()[0]))\n",
    "vec.replace(0, 1e-3, inplace = True)"
   ]
  },
  {
   "cell_type": "code",
   "execution_count": 12,
   "metadata": {
    "collapsed": true
   },
   "outputs": [
    {
     "data": {
      "image/png": "[encoded data removed]",
      "text/plain": [
       "<Figure size 576x360 with 1 Axes>"
      ]
     },
     "metadata": {
      "needs_background": "light"
     },
     "output_type": "display_data"
    }
   ],
   "source": [
    "# logbinning_mod developed by me\n",
    "lb=logbinning_mod(vec, n=30)\n",
    "ax = plt.figure(figsize = (8,5)).add_subplot(1, 1, 1)\n",
    "ax.plot(lb[:,1],lb[:,2],'o',markersize = 6)\n",
    "ax.set_ylabel('histogram')\n",
    "ax.set_xlabel('concentration')\n",
    "ax.set_yscale('log')\n",
    "ax.set_xscale('log')\n",
    "plt.show()"
   ]
  },
  {
   "cell_type": "code",
   "execution_count": 18,
   "metadata": {
    "collapsed": true
   },
   "outputs": [
    {
     "data": {
      "image/png": "[encoded data removed]",
      "text/plain": [
       "<Figure size 1080x360 with 1 Axes>"
      ]
     },
     "metadata": {
      "needs_background": "light"
     },
     "output_type": "display_data"
    }
   ],
   "source": [
    "from scipy.cluster.hierarchy import dendrogram, linkage\n",
    "from scipy.cluster.hierarchy import fcluster\n",
    "\n",
    "Z_tanimoto = linkage(squareform(tanimoto_matrix, force='tovector'), method = 'ward')\n",
    "\n",
    "# with title\n",
    "plt.figure(figsize = (15,5))\n",
    "dnd = dendrogram(Z_tanimoto, truncate_mode = 'level', p = 3, show_leaf_counts = True, color_threshold = 3)\n",
    "plt.title('Dendrogram -- Tanimoto Distance')\n",
    "plt.show()"
   ]
  },
  {
   "cell_type": "code",
   "execution_count": 20,
   "metadata": {},
   "outputs": [
    {
     "data": {
      "image/png": "[encoded data removed]",
      "text/plain": [
       "<Figure size 1080x360 with 1 Axes>"
      ]
     },
     "metadata": {
      "needs_background": "light"
     },
     "output_type": "display_data"
    }
   ],
   "source": [
    "# without title\n",
    "plt.figure(figsize = (15,5))\n",
    "dnd = dendrogram(Z_tanimoto, truncate_mode = 'level', p = 3, show_leaf_counts = True, color_threshold = 3)\n",
    "plt.show()"
   ]
  },
  {
   "cell_type": "markdown",
   "metadata": {},
   "source": [
    "Now I want to see what chemicals are in the same group"
   ]
  },
  {
   "cell_type": "code",
   "execution_count": 21,
   "metadata": {},
   "outputs": [],
   "source": [
    "from scipy.cluster.hierarchy import dendrogram, linkage\n",
    "from scipy.cluster.hierarchy import fcluster\n",
    "Z_tanimoto = linkage(squareform(tanimoto_matrix, force='tovector'), method = 'ward')\n",
    "\n",
    "cl = fcluster(Z_tanimoto,t = 3, criterion = 'distance')\n",
    "csp['tan_cluster'] = list(cl)"
   ]
  },
  {
   "cell_type": "code",
   "execution_count": 22,
   "metadata": {},
   "outputs": [
    {
     "data": {
      "text/plain": [
       "2    924\n",
       "3    882\n",
       "1    683\n",
       "4    447\n",
       "Name: tan_cluster, dtype: int64"
      ]
     },
     "execution_count": 22,
     "metadata": {},
     "output_type": "execute_result"
    }
   ],
   "source": [
    "csp.tan_cluster.value_counts()"
   ]
  },
  {
   "cell_type": "code",
   "execution_count": 115,
   "metadata": {
    "collapsed": true
   },
   "outputs": [
    {
     "name": "stdout",
     "output_type": "stream",
     "text": [
      "Oc1ccccc1Cl\n"
     ]
    },
    {
     "data": {
      "image/png": "[encoded data removed]",
      "text/plain": [
       "<rdkit.Chem.rdchem.Mol at 0x1f182d18f30>"
      ]
     },
     "execution_count": 115,
     "metadata": {},
     "output_type": "execute_result"
    }
   ],
   "source": [
    "from rdkit.Chem import MolFromSmiles\n",
    "import matplotlib.pyplot as plt\n",
    "g1 = csp[csp['tan_cluster'] == 1].reset_index(drop = True)\n",
    "\n",
    "m = MolFromSmiles(g1.loc[16,'smiles'])\n",
    "print(g1.loc[16, 'smiles'])\n",
    "m"
   ]
  },
  {
   "cell_type": "code",
   "execution_count": 116,
   "metadata": {
    "collapsed": true
   },
   "outputs": [
    {
     "name": "stdout",
     "output_type": "stream",
     "text": [
      "Oc1ccccc1CC=C\n"
     ]
    },
    {
     "data": {
      "image/png": "[encoded data removed]",
      "text/plain": [
       "<rdkit.Chem.rdchem.Mol at 0x1f182d123a0>"
      ]
     },
     "execution_count": 116,
     "metadata": {},
     "output_type": "execute_result"
    }
   ],
   "source": [
    "m = MolFromSmiles(g1.loc[30,'smiles'])\n",
    "print(g1.loc[30, 'smiles'])\n",
    "m"
   ]
  },
  {
   "cell_type": "code",
   "execution_count": 108,
   "metadata": {
    "collapsed": true
   },
   "outputs": [
    {
     "name": "stdout",
     "output_type": "stream",
     "text": [
      "CC(C)CCBr\n"
     ]
    },
    {
     "data": {
      "image/png": "[encoded data removed]",
      "text/plain": [
       "<rdkit.Chem.rdchem.Mol at 0x1f1871ee8a0>"
      ]
     },
     "execution_count": 108,
     "metadata": {},
     "output_type": "execute_result"
    }
   ],
   "source": [
    "g2 = csp[csp['tan_cluster'] == 2].reset_index(drop = True)\n",
    "\n",
    "m = MolFromSmiles(g2.loc[610,'smiles'])\n",
    "print(g2.loc[610, 'smiles'])\n",
    "m"
   ]
  },
  {
   "cell_type": "code",
   "execution_count": 109,
   "metadata": {
    "collapsed": true
   },
   "outputs": [
    {
     "name": "stdout",
     "output_type": "stream",
     "text": [
      "CCC(C)(C)Br\n"
     ]
    },
    {
     "data": {
      "image/png": "[encoded data removed]",
      "text/plain": [
       "<rdkit.Chem.rdchem.Mol at 0x1f1871f7f80>"
      ]
     },
     "execution_count": 109,
     "metadata": {},
     "output_type": "execute_result"
    }
   ],
   "source": [
    "m = MolFromSmiles(g2.loc[636,'smiles'])\n",
    "print(g2.loc[636, 'smiles'])\n",
    "m"
   ]
  },
  {
   "cell_type": "code",
   "execution_count": 151,
   "metadata": {},
   "outputs": [],
   "source": [
    "g3 = csp[csp['tan_cluster'] == 3].reset_index(drop = True)"
   ]
  },
  {
   "cell_type": "code",
   "execution_count": 149,
   "metadata": {
    "collapsed": true
   },
   "outputs": [
    {
     "name": "stdout",
     "output_type": "stream",
     "text": [
      "C=CC(=O)OC1CCCCC1\n"
     ]
    },
    {
     "data": {
      "image/png": "[encoded data removed]",
      "text/plain": [
       "<rdkit.Chem.rdchem.Mol at 0x1f182d1a350>"
      ]
     },
     "execution_count": 149,
     "metadata": {},
     "output_type": "execute_result"
    }
   ],
   "source": [
    "m = MolFromSmiles(g3.loc[426,'smiles'])\n",
    "print(g3.loc[426, 'smiles'])\n",
    "m"
   ]
  },
  {
   "cell_type": "code",
   "execution_count": 150,
   "metadata": {
    "collapsed": true
   },
   "outputs": [
    {
     "name": "stdout",
     "output_type": "stream",
     "text": [
      "ClCCOC(=O)NC1CCCCC1\n"
     ]
    },
    {
     "data": {
      "image/png": "[encoded data removed]",
      "text/plain": [
       "<rdkit.Chem.rdchem.Mol at 0x1f1873589e0>"
      ]
     },
     "execution_count": 150,
     "metadata": {},
     "output_type": "execute_result"
    }
   ],
   "source": [
    "m = MolFromSmiles(g3.loc[472,'smiles'])\n",
    "print(g3.loc[472, 'smiles'])\n",
    "m"
   ]
  },
  {
   "cell_type": "markdown",
   "metadata": {},
   "source": [
    "### Hamming (pubchem2d)"
   ]
  },
  {
   "cell_type": "code",
   "execution_count": 6,
   "metadata": {},
   "outputs": [],
   "source": [
    "from helper_knn import *\n",
    "\n",
    "pub_matrix = pubchem2d_matrix(csp)"
   ]
  },
  {
   "cell_type": "code",
   "execution_count": 13,
   "metadata": {
    "collapsed": true
   },
   "outputs": [
    {
     "name": "stdout",
     "output_type": "stream",
     "text": [
      "(4308580,)\n",
      "Ci sono 255 valori pari a 0\n"
     ]
    },
    {
     "data": {
      "image/png": "[encoded data removed]",
      "text/plain": [
       "<Figure size 720x360 with 1 Axes>"
      ]
     },
     "metadata": {
      "needs_background": "light"
     },
     "output_type": "display_data"
    }
   ],
   "source": [
    "import matplotlib.pyplot as plt\n",
    "import seaborn as sb\n",
    "\n",
    "plt.figure(figsize = (10,5))\n",
    "a = sb.distplot(squareform(pub_matrix, force='tovector'), kde = False, bins = 100)\n",
    "a.set_yscale('log')\n",
    "vec = squareform(pub_matrix, force='tovector')\n",
    "print(vec.shape)\n",
    "vec = pd.Series(vec)\n",
    "print('''Ci sono {} valori pari a 0'''.format(vec.value_counts()[0]))\n",
    "vec.replace(0, 1e-3, inplace = True)"
   ]
  },
  {
   "cell_type": "code",
   "execution_count": 14,
   "metadata": {
    "collapsed": true
   },
   "outputs": [
    {
     "data": {
      "image/png": "[encoded data removed]",
      "text/plain": [
       "<Figure size 576x360 with 1 Axes>"
      ]
     },
     "metadata": {
      "needs_background": "light"
     },
     "output_type": "display_data"
    }
   ],
   "source": [
    "# logbinning_mod developed by me\n",
    "lb=logbinning_mod(vec, n=30)\n",
    "ax = plt.figure(figsize = (8,5)).add_subplot(1, 1, 1)\n",
    "ax.plot(lb[:,1],lb[:,2],'o',markersize = 6)\n",
    "ax.set_ylabel('histogram')\n",
    "ax.set_xlabel('concentration')\n",
    "ax.set_yscale('log')\n",
    "ax.set_xscale('log')\n",
    "plt.show()"
   ]
  },
  {
   "cell_type": "code",
   "execution_count": 18,
   "metadata": {
    "collapsed": true
   },
   "outputs": [
    {
     "data": {
      "image/png": "[encoded data removed]",
      "text/plain": [
       "<Figure size 1080x360 with 1 Axes>"
      ]
     },
     "metadata": {
      "needs_background": "light"
     },
     "output_type": "display_data"
    }
   ],
   "source": [
    "from scipy.cluster.hierarchy import dendrogram, linkage\n",
    "from scipy.cluster.hierarchy import fcluster\n",
    "Z = linkage(squareform(pub_matrix, force='tovector'), method = 'ward')\n",
    "\n",
    "# with title\n",
    "plt.figure(figsize = (15,5))\n",
    "dnd = dendrogram(Z, truncate_mode = 'level', p = 3, show_leaf_counts = True, color_threshold = 1.5)\n",
    "plt.title('Dendrogram -- Hamming Distance')\n",
    "plt.show()"
   ]
  },
  {
   "cell_type": "code",
   "execution_count": 19,
   "metadata": {},
   "outputs": [
    {
     "data": {
      "image/png": "[encoded data removed]",
      "text/plain": [
       "<Figure size 1080x360 with 1 Axes>"
      ]
     },
     "metadata": {
      "needs_background": "light"
     },
     "output_type": "display_data"
    }
   ],
   "source": [
    "# without title\n",
    "plt.figure(figsize = (15,5))\n",
    "dnd = dendrogram(Z, truncate_mode = 'level', p = 3, show_leaf_counts = True, color_threshold = 1.5)\n",
    "plt.show()"
   ]
  }
 ],
 "metadata": {
  "kernelspec": {
   "display_name": "Python 3",
   "language": "python",
   "name": "python3"
  },
  "language_info": {
   "codemirror_mode": {
    "name": "ipython",
    "version": 3
   },
   "file_extension": ".py",
   "mimetype": "text/x-python",
   "name": "python",
   "nbconvert_exporter": "python",
   "pygments_lexer": "ipython3",
   "version": "3.7.7"
  }
 },
 "nbformat": 4,
 "nbformat_minor": 4
}
