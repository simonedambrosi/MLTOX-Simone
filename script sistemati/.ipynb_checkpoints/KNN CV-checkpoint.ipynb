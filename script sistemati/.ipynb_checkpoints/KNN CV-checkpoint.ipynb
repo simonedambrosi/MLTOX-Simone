{
 "cells": [
  {
   "cell_type": "markdown",
   "metadata": {},
   "source": [
    "# First Models\n",
    "\n",
    "- **Categorical features**: conc1_type, exposure_type, control_type, media_type, application_freq_unit, class, tax_order, family, genus, species\n",
    "\n",
    "- **Non Categorical features**: obs_duration_mean, conc1_mean, atom_number, alone_atom_number, bonds_number, doubleBond, tripleBond, ring_number, Mol, MorganDensity, LogP, oh_count"
   ]
  },
  {
   "cell_type": "code",
   "execution_count": 1,
   "metadata": {},
   "outputs": [],
   "source": [
    "from helper_knn import *\n",
    "\n",
    "X_try, X_train, X_test, y_train, y_test, len_X_train = load_data_knn('data/lc_db_processed.csv',\n",
    "                                                                     encoding = 'binary', seed = 42)\n",
    "\n",
    "categorical = ['conc1_type', 'exposure_type', 'control_type', 'media_type', 'application_freq_unit',\n",
    "                    'class', 'tax_order', 'family', 'genus', 'species']\n",
    "\n",
    "non_categorical = ['obs_duration_mean', 'atom_number', 'alone_atom_number', 'bonds_number', 'doubleBond',\n",
    "                   'tripleBond', 'ring_number', 'Mol', 'MorganDensity', 'LogP', 'oh_count']"
   ]
  }
 ],
 "metadata": {
  "kernelspec": {
   "display_name": "Python 3",
   "language": "python",
   "name": "python3"
  },
  "language_info": {
   "codemirror_mode": {
    "name": "ipython",
    "version": 3
   },
   "file_extension": ".py",
   "mimetype": "text/x-python",
   "name": "python",
   "nbconvert_exporter": "python",
   "pygments_lexer": "ipython3",
   "version": "3.7.7"
  }
 },
 "nbformat": 4,
 "nbformat_minor": 4
}
