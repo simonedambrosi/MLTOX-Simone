{
 "cells": [
  {
   "cell_type": "code",
   "execution_count": 1,
   "metadata": {},
   "outputs": [
    {
     "name": "stdout",
     "output_type": "stream",
     "text": [
      "Computing distance matrix... Wed Sep 23 16:24:27 2020\n",
      "Start CV... Wed Sep 23 16:36:38 2020\n",
      "...END DataFusion RASAR Wed Sep 23 18:29:05 2020\n",
      "Accuracy: \t 0.9158905337316472, se: 0.0010349961873023007\n",
      "    RMSE: \t\t 0.28999439474586375, se: 0.0017830650810416518\n",
      "    Sensitivity: \t 0.9401460366673255, se: 0.0012092713925737277\n",
      "    Precision: \t 0.9255970378295088, se: 0.002227388127143637\n",
      "    Specificity: \t 0.8761245417891879, se: 0.003097701308387638\n"
     ]
    }
   ],
   "source": [
    "from helper_datafusion import *\n",
    "\n",
    "db_mortality, db_datafusion = load_datafusion_datasets('data/lc_db_processed.csv', 'data/datafusion_db_processed.csv')\n",
    "\n",
    "categorical = ['class', 'tax_order', 'family', 'genus', \"species\", 'control_type', 'media_type',\n",
    "               'application_freq_unit',\"exposure_type\", \"conc1_type\", 'obs_duration_mean']\n",
    "\n",
    "non_categorical = ['ring_number', 'tripleBond', 'doubleBond', 'alone_atom_number', 'oh_count',\n",
    "               'atom_number', 'bonds_number', 'Mol', 'MorganDensity', 'LogP']\n",
    "\n",
    "X = db_mortality.drop(columns = 'conc1_mean').copy()\n",
    "y = db_mortality.conc1_mean.values\n",
    "\n",
    "del db_mortality\n",
    "\n",
    "acc, se_acc, rmse, se_rmse = cv_datafusion_rasar(X, y, db_datafusion)"
   ]
  }
 ],
 "metadata": {
  "kernelspec": {
   "display_name": "Python 3",
   "language": "python",
   "name": "python3"
  },
  "language_info": {
   "codemirror_mode": {
    "name": "ipython",
    "version": 3
   },
   "file_extension": ".py",
   "mimetype": "text/x-python",
   "name": "python",
   "nbconvert_exporter": "python",
   "pygments_lexer": "ipython3",
   "version": "3.7.7"
  }
 },
 "nbformat": 4,
 "nbformat_minor": 4
}
