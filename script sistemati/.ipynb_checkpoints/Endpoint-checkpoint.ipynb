{
 "cells": [
  {
   "cell_type": "code",
   "execution_count": 1,
   "metadata": {},
   "outputs": [
    {
     "name": "stdout",
     "output_type": "stream",
     "text": [
      "tests loaded\n",
      "species loaded\n",
      "results loaded\n"
     ]
    }
   ],
   "source": [
    "from main_preprocessing import *\n",
    "\n",
    "path_tests = 'C:/Users/Simone/Desktop/data/tests.txt'\n",
    "path_species = 'C:/Users/Simone/Desktop/data/species.txt'\n",
    "path_results = 'C:/Users/Simone/Desktop/data/results.txt'\n",
    "\n",
    "tests, species, results = load_raw_data(path_tests, path_results, path_species)\n",
    "\n",
    "results.loc[:, 'effect'] = results.effect.apply(lambda x: x.replace('/','') if '/' in x else x)\n",
    "results.loc[:, 'effect'] = results.effect.apply(lambda x: x.replace('~','') if '~' in x else x)\n",
    "results.loc[:, 'endpoint'] = results.endpoint.apply(lambda x: x.replace('/','') if '/' in x else x)\n",
    "results.loc[:, 'endpoint'] = results.endpoint.apply(lambda x: x.replace('*','') if '*' in x else x)"
   ]
  },
  {
   "cell_type": "code",
   "execution_count": 2,
   "metadata": {},
   "outputs": [],
   "source": [
    "# Filtro sugli endpoint \n",
    "# lst = results.endpoint.value_counts()[results.endpoint.value_counts() > 10000].index.tolist()\n",
    "resc = results[results.endpoint.str.contains('C')].copy()\n",
    "# resc = resc[resc.endpoint.isin(lst)]"
   ]
  },
  {
   "cell_type": "code",
   "execution_count": 88,
   "metadata": {},
   "outputs": [],
   "source": [
    "# resc.loc[:, 'effect'] = resc.effect.apply(lambda x: x.replace('/','') if '/' in x else x)\n",
    "# resc.loc[:, 'effect'] = resc.effect.apply(lambda x: x.replace('~','') if '~' in x else x)\n",
    "# resc.loc[:, 'endpoint'] = resc.endpoint.apply(lambda x: x.replace('/','') if '/' in x else x)"
   ]
  },
  {
   "cell_type": "code",
   "execution_count": 18,
   "metadata": {},
   "outputs": [
    {
     "data": {
      "text/plain": [
       "LC50    133527\n",
       "NOEC    113939\n",
       "LOEC     87105\n",
       "EC50     50863\n",
       "BCF      20404\n",
       "IC50      6543\n",
       "EC25      6306\n",
       "EC10      5757\n",
       "Name: endpoint, dtype: int64"
      ]
     },
     "execution_count": 18,
     "metadata": {},
     "output_type": "execute_result"
    }
   ],
   "source": [
    "resc.endpoint.value_counts()[resc.endpoint.value_counts() > 5000]"
   ]
  },
  {
   "cell_type": "code",
   "execution_count": 3,
   "metadata": {},
   "outputs": [],
   "source": [
    "# Filtro sulle specie\n",
    "species = species[~species.ecotox_group.isnull()]\n",
    "species_fish = species[species.ecotox_group.str.contains(\"Fish\")]\n",
    "\n",
    "# No Embrions\n",
    "# test_no_EM = tests[tests.organism_lifestage != \"EM\"]\n",
    "\n",
    "# Unisco le informazioni sui pesci con gli esperimenti\n",
    "test_fish = tests.merge(species_fish, on=\"species_number\")\n",
    "\n",
    "# Unisco le informazioni sui risultati degli esperimenti con gli esperimenti\n",
    "results_prefilter = resc.merge(test_fish, on = \"test_id\")"
   ]
  },
  {
   "cell_type": "code",
   "execution_count": 4,
   "metadata": {},
   "outputs": [
    {
     "data": {
      "text/plain": [
       "endpoint\n",
       "ATCN          4\n",
       "BCF           0\n",
       "BCFD          0\n",
       "BMC02.5       0\n",
       "BMC04         0\n",
       "           ... \n",
       "LC99.9        0\n",
       "LETC          0\n",
       "LOEC       2445\n",
       "MATC        605\n",
       "NOEC       5296\n",
       "Name: GRO, Length: 71, dtype: int64"
      ]
     },
     "execution_count": 4,
     "metadata": {},
     "output_type": "execute_result"
    }
   ],
   "source": [
    "a = pd.crosstab(results_prefilter.effect, results_prefilter.endpoint)\n",
    "a.loc['GRO']"
   ]
  },
  {
   "cell_type": "code",
   "execution_count": null,
   "metadata": {},
   "outputs": [],
   "source": [
    "a.loc['REP']"
   ]
  },
  {
   "cell_type": "code",
   "execution_count": 33,
   "metadata": {},
   "outputs": [
    {
     "data": {
      "text/plain": [
       "LC50    64791\n",
       "NOEC    56801\n",
       "LOEC    42194\n",
       "BCF      9144\n",
       "EC50     3764\n",
       "MATC     1691\n",
       "Name: endpoint, dtype: int64"
      ]
     },
     "execution_count": 33,
     "metadata": {},
     "output_type": "execute_result"
    }
   ],
   "source": [
    "results_prefilter.endpoint.value_counts()[results_prefilter.endpoint.value_counts() > 1000]"
   ]
  },
  {
   "cell_type": "code",
   "execution_count": 36,
   "metadata": {},
   "outputs": [
    {
     "data": {
      "text/plain": [
       "effect\n",
       "ACC    13127\n",
       "AVO      226\n",
       "BCM    19189\n",
       "BEH     4825\n",
       "CEL     3910\n",
       "DVP     2463\n",
       "ENZ    13305\n",
       "FDB     1186\n",
       "GEN    19539\n",
       "GRO     8831\n",
       "HIS     1893\n",
       "HRM     3554\n",
       "IMM      463\n",
       "INJ      322\n",
       "ITX      414\n",
       "MLT     1160\n",
       "MOR    79617\n",
       "MPH     4066\n",
       "PHY     3614\n",
       "POP      624\n",
       "REP     3682\n",
       "dtype: int64"
      ]
     },
     "execution_count": 36,
     "metadata": {},
     "output_type": "execute_result"
    }
   ],
   "source": [
    "pd.crosstab(results_prefilter.effect, results_prefilter.endpoint).sum(axis = 1)"
   ]
  },
  {
   "cell_type": "code",
   "execution_count": 9,
   "metadata": {},
   "outputs": [
    {
     "data": {
      "text/plain": [
       "Index(['ACC', 'BCM', 'ENZ', 'GEN', 'GRO', 'MOR'], dtype='object', name='effect')"
      ]
     },
     "execution_count": 9,
     "metadata": {},
     "output_type": "execute_result"
    }
   ],
   "source": [
    "a = pd.crosstab(results_prefilter.effect, results_prefilter.endpoint).sum(axis = 1)\n",
    "a[a > 5000].index"
   ]
  },
  {
   "cell_type": "code",
   "execution_count": 7,
   "metadata": {},
   "outputs": [
    {
     "data": {
      "text/plain": [
       "Index(['BCF', 'EC50', 'LC50', 'LOEC', 'NOEC'], dtype='object', name='endpoint')"
      ]
     },
     "execution_count": 7,
     "metadata": {},
     "output_type": "execute_result"
    }
   ],
   "source": [
    "# pd.crosstab(results_prefilter.effect, results_prefilter.endpoint)\n",
    "b = pd.crosstab(results_prefilter.effect, results_prefilter.endpoint).sum(axis = 0)\n",
    "b[b > 2000].index"
   ]
  },
  {
   "cell_type": "code",
   "execution_count": 12,
   "metadata": {},
   "outputs": [
    {
     "data": {
      "text/html": [
       "<div>\n",
       "<style scoped>\n",
       "    .dataframe tbody tr th:only-of-type {\n",
       "        vertical-align: middle;\n",
       "    }\n",
       "\n",
       "    .dataframe tbody tr th {\n",
       "        vertical-align: top;\n",
       "    }\n",
       "\n",
       "    .dataframe thead th {\n",
       "        text-align: right;\n",
       "    }\n",
       "</style>\n",
       "<table border=\"1\" class=\"dataframe\">\n",
       "  <thead>\n",
       "    <tr style=\"text-align: right;\">\n",
       "      <th>endpoint</th>\n",
       "      <th>BCF</th>\n",
       "      <th>EC50</th>\n",
       "      <th>LC50</th>\n",
       "      <th>LOEC</th>\n",
       "      <th>NOEC</th>\n",
       "    </tr>\n",
       "    <tr>\n",
       "      <th>effect</th>\n",
       "      <th></th>\n",
       "      <th></th>\n",
       "      <th></th>\n",
       "      <th></th>\n",
       "      <th></th>\n",
       "    </tr>\n",
       "  </thead>\n",
       "  <tbody>\n",
       "    <tr>\n",
       "      <th>ACC</th>\n",
       "      <td>9144</td>\n",
       "      <td>3</td>\n",
       "      <td>0</td>\n",
       "      <td>2165</td>\n",
       "      <td>1554</td>\n",
       "    </tr>\n",
       "    <tr>\n",
       "      <th>BCM</th>\n",
       "      <td>0</td>\n",
       "      <td>87</td>\n",
       "      <td>1</td>\n",
       "      <td>8698</td>\n",
       "      <td>10268</td>\n",
       "    </tr>\n",
       "    <tr>\n",
       "      <th>BEH</th>\n",
       "      <td>0</td>\n",
       "      <td>1010</td>\n",
       "      <td>1</td>\n",
       "      <td>1296</td>\n",
       "      <td>2458</td>\n",
       "    </tr>\n",
       "    <tr>\n",
       "      <th>CEL</th>\n",
       "      <td>0</td>\n",
       "      <td>289</td>\n",
       "      <td>10</td>\n",
       "      <td>1450</td>\n",
       "      <td>1924</td>\n",
       "    </tr>\n",
       "    <tr>\n",
       "      <th>ENZ</th>\n",
       "      <td>0</td>\n",
       "      <td>78</td>\n",
       "      <td>1</td>\n",
       "      <td>6331</td>\n",
       "      <td>6709</td>\n",
       "    </tr>\n",
       "    <tr>\n",
       "      <th>GEN</th>\n",
       "      <td>0</td>\n",
       "      <td>31</td>\n",
       "      <td>0</td>\n",
       "      <td>8584</td>\n",
       "      <td>10902</td>\n",
       "    </tr>\n",
       "    <tr>\n",
       "      <th>GRO</th>\n",
       "      <td>0</td>\n",
       "      <td>119</td>\n",
       "      <td>0</td>\n",
       "      <td>2445</td>\n",
       "      <td>5296</td>\n",
       "    </tr>\n",
       "    <tr>\n",
       "      <th>HRM</th>\n",
       "      <td>0</td>\n",
       "      <td>12</td>\n",
       "      <td>0</td>\n",
       "      <td>1347</td>\n",
       "      <td>2185</td>\n",
       "    </tr>\n",
       "    <tr>\n",
       "      <th>MOR</th>\n",
       "      <td>0</td>\n",
       "      <td>653</td>\n",
       "      <td>64745</td>\n",
       "      <td>2855</td>\n",
       "      <td>4962</td>\n",
       "    </tr>\n",
       "    <tr>\n",
       "      <th>MPH</th>\n",
       "      <td>0</td>\n",
       "      <td>38</td>\n",
       "      <td>0</td>\n",
       "      <td>1211</td>\n",
       "      <td>2750</td>\n",
       "    </tr>\n",
       "    <tr>\n",
       "      <th>PHY</th>\n",
       "      <td>0</td>\n",
       "      <td>92</td>\n",
       "      <td>0</td>\n",
       "      <td>1522</td>\n",
       "      <td>1933</td>\n",
       "    </tr>\n",
       "    <tr>\n",
       "      <th>REP</th>\n",
       "      <td>0</td>\n",
       "      <td>45</td>\n",
       "      <td>0</td>\n",
       "      <td>1370</td>\n",
       "      <td>2239</td>\n",
       "    </tr>\n",
       "  </tbody>\n",
       "</table>\n",
       "</div>"
      ],
      "text/plain": [
       "endpoint   BCF  EC50   LC50  LOEC   NOEC\n",
       "effect                                  \n",
       "ACC       9144     3      0  2165   1554\n",
       "BCM          0    87      1  8698  10268\n",
       "BEH          0  1010      1  1296   2458\n",
       "CEL          0   289     10  1450   1924\n",
       "ENZ          0    78      1  6331   6709\n",
       "GEN          0    31      0  8584  10902\n",
       "GRO          0   119      0  2445   5296\n",
       "HRM          0    12      0  1347   2185\n",
       "MOR          0   653  64745  2855   4962\n",
       "MPH          0    38      0  1211   2750\n",
       "PHY          0    92      0  1522   1933\n",
       "REP          0    45      0  1370   2239"
      ]
     },
     "execution_count": 12,
     "metadata": {},
     "output_type": "execute_result"
    }
   ],
   "source": [
    "pd.crosstab(results_prefilter.effect, results_prefilter.endpoint).loc[a[a > 3000].index, b[b > 2000].index]"
   ]
  }
 ],
 "metadata": {
  "kernelspec": {
   "display_name": "Python 3",
   "language": "python",
   "name": "python3"
  },
  "language_info": {
   "codemirror_mode": {
    "name": "ipython",
    "version": 3
   },
   "file_extension": ".py",
   "mimetype": "text/x-python",
   "name": "python",
   "nbconvert_exporter": "python",
   "pygments_lexer": "ipython3",
   "version": "3.7.7"
  }
 },
 "nbformat": 4,
 "nbformat_minor": 4
}
