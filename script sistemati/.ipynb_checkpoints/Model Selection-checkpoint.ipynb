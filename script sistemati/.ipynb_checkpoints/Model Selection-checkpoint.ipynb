{
 "cells": [
  {
   "cell_type": "markdown",
   "metadata": {},
   "source": [
    "I need to build models using all the information on taxonomy, experiments conditions and chemical descriptors adding the information of PubChem2D Fingerprints by One-Hot Encoding\n",
    "\n",
    "Pubchem --> expanded-like one hot\n",
    "\n",
    "Categorical --> one-hot\n",
    "\n",
    "Numerical --> minmax"
   ]
  },
  {
   "cell_type": "code",
   "execution_count": 1,
   "metadata": {},
   "outputs": [],
   "source": [
    "import pandas as pd\n",
    "import numpy as np\n",
    "from sklearn.preprocessing import OneHotEncoder\n",
    "from sklearn.preprocessing import MinMaxScaler\n",
    "\n",
    "db = pd.read_csv('data/lc_db_processed.csv').drop(columns = ['Unnamed: 0', 'smiles', 'test_cas'])\n",
    "pub = pd.DataFrame(pd.DataFrame(db['pubchem2d'].values).apply(\n",
    "        lambda x: x.str.replace('', ' ').str.strip().str.split(' '),axis = 1)[0].to_list())\n",
    "pub.columns = ['pub' + str(i+1) for i in range(0, 881)]\n",
    "X_new = db.drop(columns = 'pubchem2d').copy()\n",
    "X_new = pd.concat([X_new, pub], axis = 1)\n",
    "\n",
    "cat = ['obs_duration_mean', 'conc1_type', 'exposure_type', 'control_type', 'media_type', 'application_freq_unit',\n",
    "      'species', 'class', 'tax_order', 'family', 'genus']\n",
    "\n",
    "num = ['atom_number', 'alone_atom_number', 'bonds_number', 'doubleBond', 'tripleBond', 'ring_number', 'Mol',\n",
    "       'MorganDensity', 'LogP', 'oh_count']\n",
    "\n",
    "ohe = OneHotEncoder(sparse = False)\n",
    "ohe.fit(X_new[cat])\n",
    "a = ohe.transform(X_new[cat])\n",
    "b = pd.concat([X_new,pd.DataFrame(a)], axis = 1)\n",
    "\n",
    "b.drop(columns = cat, inplace = True)\n",
    "\n",
    "for nc in num:\n",
    "    minmax = MinMaxScaler()\n",
    "    minmax.fit(b[[nc]])\n",
    "    b[[nc]] = minmax.transform(b[[nc]])"
   ]
  },
  {
   "cell_type": "markdown",
   "metadata": {},
   "source": [
    "# Binary"
   ]
  },
  {
   "cell_type": "code",
   "execution_count": 6,
   "metadata": {},
   "outputs": [],
   "source": [
    "from sklearn.model_selection import train_test_split\n",
    "\n",
    "X = b.drop(columns = 'conc1_mean')\n",
    "y = np.where(b.conc1_mean>1,1,0)\n",
    "X_train, X_test, y_train, y_test = train_test_split(X, y, test_size = 0.33, stratify = y, random_state = 42)"
   ]
  },
  {
   "cell_type": "code",
   "execution_count": 10,
   "metadata": {},
   "outputs": [
    {
     "name": "stdout",
     "output_type": "stream",
     "text": [
      "Accuracy: 0.9193002257336343,\n",
      "RMSE: \t 0.28407705691654456,\n",
      "Sensitivity: 0.9458575581395349,\n",
      "Precision: 0.925840298772897,\n",
      "Specifity: 0.8757449344457687\n",
      "\n"
     ]
    }
   ],
   "source": [
    "from sklearn.ensemble import RandomForestClassifier\n",
    "from helper_knn import *\n",
    "\n",
    "clf = RandomForestClassifier()\n",
    "clf.fit(X_train, y_train)\n",
    "y_pred = clf.predict(X_test)\n",
    "\n",
    "tn, fp, fn, tp = confusion_matrix(y_test, y_pred).ravel()\n",
    "\n",
    "print('''Accuracy: {},\n",
    "RMSE: \\t {},\n",
    "Sensitivity: {},\n",
    "Precision: {},\n",
    "Specifity: {}\n",
    "'''.format(accuracy_score(y_test, y_pred), sqrt(mean_squared_error(y_test, y_pred)), recall_score(y_test, y_pred),\n",
    "          precision_score(y_test, y_pred), tn/(tn+fp)))"
   ]
  },
  {
   "cell_type": "code",
   "execution_count": 4,
   "metadata": {},
   "outputs": [
    {
     "name": "stdout",
     "output_type": "stream",
     "text": [
      "Accuracy: \t 0.9187358916478555, se: 0.0015316932269241739\n",
      "RMSE: \t \t 0.2850308990221014, se: 0.0026767489483280307\n",
      "Sensitivity: \t 0.9456343544812285, se: 0.0019218560747305785\n",
      "Precision: \t 0.92549666763948, se: 0.0009176682600390272\n",
      "Specificity: \t 0.8743228263207821, se: 0.00098062858476621\n"
     ]
    }
   ],
   "source": [
    "from knn_no_spec_exp import *\n",
    "X = b.drop(columns = 'conc1_mean')\n",
    "y = np.where(b.conc1_mean>1,1,0)\n",
    "\n",
    "rf_metrics(X,y)"
   ]
  },
  {
   "cell_type": "code",
   "execution_count": 11,
   "metadata": {},
   "outputs": [
    {
     "name": "stdout",
     "output_type": "stream",
     "text": [
      "Accuracy: 0.8582392776523702,\n",
      "RMSE: \t 0.3765112512895595,\n",
      "Sensitivity: 0.9027979651162791,\n",
      "Precision: 0.8732864674868189,\n",
      "Specifity: 0.7851609058402861\n",
      "\n"
     ]
    }
   ],
   "source": [
    "from sklearn.linear_model import LogisticRegression\n",
    "\n",
    "clf = LogisticRegression(solver = 'saga', max_iter = 10000)\n",
    "clf.fit(X_train, y_train)\n",
    "y_pred = clf.predict(X_test)\n",
    "\n",
    "tn, fp, fn, tp = confusion_matrix(y_test, y_pred).ravel()\n",
    "\n",
    "print('''Accuracy: {},\n",
    "RMSE: \\t {},\n",
    "Sensitivity: {},\n",
    "Precision: {},\n",
    "Specifity: {}\n",
    "'''.format(accuracy_score(y_test, y_pred), sqrt(mean_squared_error(y_test, y_pred)), recall_score(y_test, y_pred),\n",
    "          precision_score(y_test, y_pred), tn/(tn+fp)))"
   ]
  },
  {
   "cell_type": "code",
   "execution_count": 12,
   "metadata": {},
   "outputs": [
    {
     "name": "stdout",
     "output_type": "stream",
     "text": [
      "Accuracy: 0.8612866817155757,\n",
      "RMSE: \t 0.37244236907798817,\n",
      "Sensitivity: 0.9144258720930233,\n",
      "Precision: 0.8691072353652219,\n",
      "Specifity: 0.7741358760429082\n",
      "\n"
     ]
    }
   ],
   "source": [
    "from sklearn.svm import SVC\n",
    "\n",
    "clf = SVC()\n",
    "clf.fit(X_train, y_train)\n",
    "y_pred = clf.predict(X_test)\n",
    "\n",
    "tn, fp, fn, tp = confusion_matrix(y_test, y_pred).ravel()\n",
    "\n",
    "print('''Accuracy: {},\n",
    "RMSE: \\t {},\n",
    "Sensitivity: {},\n",
    "Precision: {},\n",
    "Specifity: {}\n",
    "'''.format(accuracy_score(y_test, y_pred), sqrt(mean_squared_error(y_test, y_pred)), recall_score(y_test, y_pred),\n",
    "          precision_score(y_test, y_pred), tn/(tn+fp)))"
   ]
  },
  {
   "cell_type": "code",
   "execution_count": 14,
   "metadata": {},
   "outputs": [
    {
     "name": "stdout",
     "output_type": "stream",
     "text": [
      "Accuracy: 0.8985327313769752,\n",
      "RMSE: \t 0.3185392732820002,\n",
      "Sensitivity: 0.9171511627906976,\n",
      "Precision: 0.919322527772719,\n",
      "Specifity: 0.8679976162097736\n",
      "\n"
     ]
    }
   ],
   "source": [
    "clf = KNeighborsClassifier(n_neighbors = 1)\n",
    "clf.fit(X_train, y_train)\n",
    "y_pred = clf.predict(X_test)\n",
    "\n",
    "tn, fp, fn, tp = confusion_matrix(y_test, y_pred).ravel()\n",
    "\n",
    "print('''Accuracy: {},\n",
    "RMSE: \\t {},\n",
    "Sensitivity: {},\n",
    "Precision: {},\n",
    "Specifity: {}\n",
    "'''.format(accuracy_score(y_test, y_pred), sqrt(mean_squared_error(y_test, y_pred)), recall_score(y_test, y_pred),\n",
    "          precision_score(y_test, y_pred), tn/(tn+fp)))"
   ]
  }
 ],
 "metadata": {
  "kernelspec": {
   "display_name": "Python 3",
   "language": "python",
   "name": "python3"
  },
  "language_info": {
   "codemirror_mode": {
    "name": "ipython",
    "version": 3
   },
   "file_extension": ".py",
   "mimetype": "text/x-python",
   "name": "python",
   "nbconvert_exporter": "python",
   "pygments_lexer": "ipython3",
   "version": "3.7.7"
  }
 },
 "nbformat": 4,
 "nbformat_minor": 4
}
