{
 "cells": [
  {
   "cell_type": "markdown",
   "metadata": {},
   "source": [
    "categorical -> one hot\n",
    "\n",
    "numerical -> [0,1]\n",
    "\n",
    "pubchem -> one hot"
   ]
  },
  {
   "cell_type": "code",
   "execution_count": 1,
   "metadata": {},
   "outputs": [],
   "source": [
    "import pandas as pd\n",
    "import numpy as np\n",
    "from sklearn.preprocessing import OneHotEncoder\n",
    "from sklearn.model_selection import train_test_split\n",
    "import matplotlib.pyplot as plt\n",
    "from sklearn.preprocessing import MinMaxScaler\n",
    "\n",
    "# carico i dati\n",
    "db = pd.read_csv('data/lc_db_processed.csv').drop(columns = 'Unnamed: 0')\n",
    "\n",
    "# trasformo i pubchem in dataset\n",
    "pub = pd.DataFrame(pd.DataFrame(db['pubchem2d'].values).apply(lambda x: x.str.replace('', ' ').str.strip().str.split(' '),\n",
    "                                                        axis = 1)[0].to_list(),\n",
    "                   columns = ['pub'+ str(i) for i in range(1,882)])\n",
    "\n",
    "# tolgo dal dataset info inutili\n",
    "db.drop(columns = ['test_cas', 'smiles', 'pubchem2d'], inplace = True)\n",
    "\n",
    "# unisco al dataset i pub\n",
    "db = pd.concat([db,pub], axis = 1)\n",
    "\n",
    "# one hot encoding di categoriche\n",
    "categorical = ['obs_duration_mean', 'conc1_type', 'exposure_type', 'control_type', 'media_type',\n",
    "               'application_freq_unit', 'species', 'class', 'tax_order', 'family', 'genus',\n",
    "#               aggiunte perchè secondo me sono categoriche\n",
    "              'alone_atom_number', 'doubleBond', 'tripleBond', 'ring_number', 'oh_count']\n",
    "\n",
    "ohe = OneHotEncoder(sparse = False)\n",
    "ohe.fit(db[categorical])\n",
    "cat_df = pd.DataFrame(ohe.transform(db[categorical]), columns = ohe.get_feature_names(categorical))\n",
    "# unisco al dataset (senza variabili categoriche) le categoriche-one-hot\n",
    "finaldb = pd.concat([db.drop(columns =categorical), cat_df], axis = 1)\n",
    "finaldb\n",
    "\n",
    "#trasformo in variabile dicotomica la target \n",
    "finaldb['conc1_mean'] = np.where(finaldb['conc1_mean'].values > 1, 0, 1)\n",
    "\n",
    "# mi preparo\n",
    "X = finaldb.drop(columns = 'conc1_mean')\n",
    "y = finaldb['conc1_mean'].values"
   ]
  },
  {
   "cell_type": "code",
   "execution_count": 26,
   "metadata": {},
   "outputs": [],
   "source": [
    "# splitto\n",
    "X_train, X_test, y_train, y_test = train_test_split(X, y, test_size = 0.33, stratify = y, random_state = 42)"
   ]
  },
  {
   "cell_type": "code",
   "execution_count": 27,
   "metadata": {},
   "outputs": [],
   "source": [
    "# riscalaggio numeriche solo su training set\n",
    "numerical = ['atom_number', 'bonds_number','Mol', 'MorganDensity', 'LogP']\n",
    "\n",
    "minmax = MinMaxScaler()\n",
    "minmax.fit(X_train[numerical])\n",
    "new_train = X_train.copy()\n",
    "new_train.loc[:, numerical] = minmax.transform(X_train[numerical])"
   ]
  },
  {
   "cell_type": "code",
   "execution_count": 30,
   "metadata": {},
   "outputs": [
    {
     "name": "stdout",
     "output_type": "stream",
     "text": [
      "Accuracy:  0.8900677200902934\n",
      "Recall:  0.8623361144219309\n",
      "F1:  0.8559597752144336\n",
      "Specificity: 0.9069767441860465\n"
     ]
    }
   ],
   "source": [
    "# applico il modello\n",
    "from sklearn.neighbors import KNeighborsClassifier\n",
    "from sklearn.metrics import recall_score, precision_score, accuracy_score, f1_score\n",
    "from sklearn.metrics import confusion_matrix\n",
    "\n",
    "knn = KNeighborsClassifier(n_neighbors = 1)\n",
    "knn.fit(new_train, y_train)\n",
    "y_pred = knn.predict(X_test)\n",
    "\n",
    "tn, fp, fn, tp = confusion_matrix(y_test, y_pred).ravel()\n",
    "print('Accuracy: ', accuracy_score(y_test, y_pred))\n",
    "print('Recall: ', recall_score(y_test, y_pred))\n",
    "print('F1: ', f1_score(y_test, y_pred))\n",
    "print('Specificity:', tn/(tn+fp))"
   ]
  },
  {
   "cell_type": "code",
   "execution_count": 46,
   "metadata": {},
   "outputs": [
    {
     "name": "stdout",
     "output_type": "stream",
     "text": [
      "0.904380676294321\n",
      "0.8653861052689606\n",
      "0.9281564396781465\n"
     ]
    }
   ],
   "source": [
    "from sklearn.model_selection import KFold\n",
    "\n",
    "numerical = ['atom_number', 'bonds_number','Mol', 'MorganDensity', 'LogP']\n",
    "\n",
    "kf = KFold(n_splits=5, shuffle=True, random_state = 5645)\n",
    "accs = []\n",
    "sens = []\n",
    "specs = []\n",
    "for train_index, test_index in kf.split(X):\n",
    "    X_train = X.iloc[train_index]\n",
    "    X_test = X.iloc[test_index]\n",
    "    y_train = y[train_index]\n",
    "    y_test = y[test_index]\n",
    "    \n",
    "    minmax = MinMaxScaler()\n",
    "    minmax.fit(X_train[numerical])\n",
    "    new_train = X_train.copy()\n",
    "    new_train.loc[:, numerical] = minmax.transform(X_train[numerical])\n",
    "    \n",
    "    knn = KNeighborsClassifier(n_neighbors = 1, n_jobs = -1)\n",
    "    knn.fit(new_train, y_train)\n",
    "    y_pred = knn.predict(X_test)\n",
    "\n",
    "    tn, fp, fn, tp = confusion_matrix(y_test, y_pred).ravel()\n",
    "    \n",
    "    accs.append(accuracy_score(y_test, y_pred))\n",
    "    sens.append(recall_score(y_test, y_pred))\n",
    "    specs.append(tn/(tn+fp))\n",
    "    \n",
    "    \n",
    "print(np.mean(accs))\n",
    "print(np.mean(sens))\n",
    "print(np.mean(specs))"
   ]
  },
  {
   "cell_type": "code",
   "execution_count": 48,
   "metadata": {},
   "outputs": [
    {
     "name": "stdout",
     "output_type": "stream",
     "text": [
      "0.0009362106719225122\n",
      "0.001983691300450497\n",
      "0.0012885390904627343\n"
     ]
    }
   ],
   "source": [
    "from scipy.stats import sem\n",
    "\n",
    "print(sem(accs))\n",
    "print(sem(sens))\n",
    "print(sem(specs))"
   ]
  }
 ],
 "metadata": {
  "kernelspec": {
   "display_name": "Python 3",
   "language": "python",
   "name": "python3"
  },
  "language_info": {
   "codemirror_mode": {
    "name": "ipython",
    "version": 3
   },
   "file_extension": ".py",
   "mimetype": "text/x-python",
   "name": "python",
   "nbconvert_exporter": "python",
   "pygments_lexer": "ipython3",
   "version": "3.7.7"
  }
 },
 "nbformat": 4,
 "nbformat_minor": 4
}
