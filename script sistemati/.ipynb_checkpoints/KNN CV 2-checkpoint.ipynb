{
 "cells": [
  {
   "cell_type": "markdown",
   "metadata": {},
   "source": [
    "# First Models\n",
    "\n",
    "- **Categorical features**: conc1_type, exposure_type, control_type, media_type, application_freq_unit, class, tax_order, family, genus, species\n",
    "\n",
    "- **Non Categorical features**: obs_duration_mean, conc1_mean, atom_number, alone_atom_number, bonds_number, doubleBond, tripleBond, ring_number, Mol, MorganDensity, LogP, oh_count\n",
    "\n",
    "It turns out that *obs_duration_mean* have to be considered as a categorical feature in order to maxime the metrics.\n",
    "\n",
    "## BINARY"
   ]
  },
  {
   "cell_type": "code",
   "execution_count": 1,
   "metadata": {},
   "outputs": [],
   "source": [
    "from helper_knn import *\n",
    "\n",
    "X_try, X_train, X_test, y_train, y_test, len_X_train = load_data_knn('data/lc_db_processed.csv',\n",
    "                                                                     encoding = 'binary', seed = 42)\n",
    "\n",
    "# Best combination\n",
    "categorical = ['class', 'tax_order', 'family', 'genus', \"species\", 'control_type', 'media_type',\n",
    "               'application_freq_unit',\"exposure_type\", \"conc1_type\", 'obs_duration_mean']\n",
    "\n",
    "non_categorical = ['ring_number', 'tripleBond', 'doubleBond', 'alone_atom_number', 'oh_count',\n",
    "                   'atom_number', 'bonds_number', 'Mol', 'MorganDensity', 'LogP']\n",
    "\n",
    "# OLD and NOT GOLD\n",
    "# categorical = ['class', 'tax_order', 'family', 'genus', 'species', 'control_type', 'media_type',\n",
    "#                'application_freq_unit', 'exposure_type', 'conc1_type']\n",
    "\n",
    "# non_categorical = ['ring_number', 'tripleBond',  'doubleBond', 'alone_atom_number', 'oh_count',\n",
    "#                    'atom_number', 'bonds_number', 'Mol', 'MorganDensity', 'LogP', 'obs_duration_mean']"
   ]
  },
  {
   "cell_type": "markdown",
   "metadata": {},
   "source": [
    "### Finding the best alpha_1 for the problem\n",
    "\n",
    "START: alpha_1 = 0, alpha_2 = 1, alpha_3 = 0\n",
    "\n",
    "END: alpha_1 = 0.0069519279617756054, alpha_2 = 1, alpha_3 = 0"
   ]
  },
  {
   "cell_type": "code",
   "execution_count": 2,
   "metadata": {
    "collapsed": true
   },
   "outputs": [
    {
     "name": "stdout",
     "output_type": "stream",
     "text": [
      "Mon Sep 14 11:08:06 2020\n",
      "START...\n",
      "Computing Euclidean ...\n",
      "Adding Hamming 1 (Categorical)... alpha = 0.001\n",
      "Start CV...\n",
      "New best params found! alpha:0.001, k:1, leaf:10,\n",
      "                                                        acc:  0.8976980539183801, st.error:  0.0026286215760152913,\n",
      "                                                        rmse: 0.31974227013083456, st.error:  0.004087382206260621\n",
      "New best params found! alpha:0.001, k:1, leaf:40,\n",
      "                                                        acc:  0.8984766658275387, st.error:  0.0013155183512758776,\n",
      "                                                        rmse: 0.3186007056220668, st.error:  0.0020569728718740753\n",
      "New best params found! alpha:0.001, k:1, leaf:80,\n",
      "                                                        acc:  0.8997000774068564, st.error:  0.001976147553967034,\n",
      "                                                        rmse: 0.3166398848354725, st.error:  0.003126736498423271\n",
      "Adding Hamming 1 (Categorical)... alpha = 0.0012742749857031334\n",
      "Start CV...\n",
      "New best params found! alpha:0.0012742749857031334, k:1, leaf:70,\n",
      "                                                        acc:  0.8999218359194086, st.error:  0.0021062443613757815,\n",
      "                                                        rmse: 0.3162814833729438, st.error:  0.0033236785344627866\n",
      "Adding Hamming 1 (Categorical)... alpha = 0.001623776739188721\n",
      "Start CV...\n",
      "Adding Hamming 1 (Categorical)... alpha = 0.00206913808111479\n",
      "Start CV...\n",
      "New best params found! alpha:0.00206913808111479, k:1, leaf:30,\n",
      "                                                        acc:  0.9000891051974478, st.error:  0.0009774697699740347,\n",
      "                                                        rmse: 0.31607168719629675, st.error:  0.0015478497535777608\n",
      "Adding Hamming 1 (Categorical)... alpha = 0.0026366508987303583\n",
      "Start CV...\n",
      "Adding Hamming 1 (Categorical)... alpha = 0.003359818286283781\n",
      "Start CV...\n",
      "Adding Hamming 1 (Categorical)... alpha = 0.004281332398719396\n",
      "Start CV...\n",
      "Adding Hamming 1 (Categorical)... alpha = 0.00545559478116852\n",
      "Start CV...\n",
      "Adding Hamming 1 (Categorical)... alpha = 0.0069519279617756054\n",
      "Start CV...\n",
      "New best params found! alpha:0.0069519279617756054, k:1, leaf:40,\n",
      "                                                        acc:  0.9005335185287351, st.error:  0.0013699253365462001,\n",
      "                                                        rmse: 0.31535310273916983, st.error:  0.002173825202470477\n",
      "Adding Hamming 1 (Categorical)... alpha = 0.008858667904100823\n",
      "Start CV...\n",
      "Adding Hamming 1 (Categorical)... alpha = 0.011288378916846888\n",
      "Start CV...\n",
      "Adding Hamming 1 (Categorical)... alpha = 0.01438449888287663\n",
      "Start CV...\n",
      "Adding Hamming 1 (Categorical)... alpha = 0.018329807108324356\n",
      "Start CV...\n",
      "Adding Hamming 1 (Categorical)... alpha = 0.023357214690901212\n",
      "Start CV...\n",
      "Adding Hamming 1 (Categorical)... alpha = 0.029763514416313176\n",
      "Start CV...\n",
      "Adding Hamming 1 (Categorical)... alpha = 0.0379269019073225\n",
      "Start CV...\n",
      "Adding Hamming 1 (Categorical)... alpha = 0.04832930238571752\n",
      "Start CV...\n",
      "Adding Hamming 1 (Categorical)... alpha = 0.06158482110660261\n",
      "Start CV...\n",
      "Adding Hamming 1 (Categorical)... alpha = 0.07847599703514611\n",
      "Start CV...\n",
      "Adding Hamming 1 (Categorical)... alpha = 0.1\n",
      "Start CV...\n",
      "Mon Sep 14 12:28:07 2020\n"
     ]
    }
   ],
   "source": [
    "c = [0,0]\n",
    "ham = np.logspace(-3, -1, 20) \n",
    "\n",
    "best_acc, best_alpha, best_k, best_leaf = cv_params_new(X_train, y_train, categorical, non_categorical,\n",
    "                                                    sequence_ham = ham, choice = c, ks = [1])"
   ]
  },
  {
   "cell_type": "markdown",
   "metadata": {},
   "source": [
    "### Finding the best alpha_3, fixing best_alpha_1\n",
    "START: alpha_1 = 0.0069519279617756054, alpha_2 = 1, alpha_3 = 0\n",
    "\n",
    "END: alpha_1 = 0.0069519279617756054, alpha_2 = 1, alpha_3 = 0.0069519279617756054"
   ]
  },
  {
   "cell_type": "code",
   "execution_count": 2,
   "metadata": {
    "collapsed": true
   },
   "outputs": [
    {
     "name": "stdout",
     "output_type": "stream",
     "text": [
      "Mon Sep 14 12:29:06 2020\n",
      "START...\n",
      "Computing Basic Matrix: Hamming 1 and Euclidean 2...\n",
      "Adding Hamming 3 (Pubchem2d)... alpha = 0.001\n",
      "Start CV...\n",
      "New best params found! alpha:0.001, k:1, leaf:10,\n",
      "                                                        acc:  0.8977536249017346, st.error:  0.002539752081748882,\n",
      "                                                        rmse: 0.3196624298760987, st.error:  0.003946708247816731\n",
      "New best params found! alpha:0.001, k:1, leaf:40,\n",
      "                                                        acc:  0.8985878387013575, st.error:  0.0013189399299914412,\n",
      "                                                        rmse: 0.31842614944471437, st.error:  0.0020584368131552197\n",
      "New best params found! alpha:0.001, k:1, leaf:80,\n",
      "                                                        acc:  0.8998112657342301, st.error:  0.0019271779321472723,\n",
      "                                                        rmse: 0.3164673314241388, st.error:  0.0030480488453350613\n",
      "Adding Hamming 3 (Pubchem2d)... alpha = 0.0012742749857031334\n",
      "Start CV...\n",
      "New best params found! alpha:0.0012742749857031334, k:1, leaf:70,\n",
      "                                                        acc:  0.9003110491526585, st.error:  0.0020569886189985838,\n",
      "                                                        rmse: 0.31566885765906394, st.error:  0.003245117546531897\n",
      "Adding Hamming 3 (Pubchem2d)... alpha = 0.001623776739188721\n",
      "Start CV...\n",
      "Adding Hamming 3 (Pubchem2d)... alpha = 0.00206913808111479\n",
      "Start CV...\n",
      "Adding Hamming 3 (Pubchem2d)... alpha = 0.0026366508987303583\n",
      "Start CV...\n",
      "Adding Hamming 3 (Pubchem2d)... alpha = 0.003359818286283781\n",
      "Start CV...\n",
      "Adding Hamming 3 (Pubchem2d)... alpha = 0.004281332398719396\n",
      "Start CV...\n",
      "Adding Hamming 3 (Pubchem2d)... alpha = 0.00545559478116852\n",
      "Start CV...\n",
      "Adding Hamming 3 (Pubchem2d)... alpha = 0.0069519279617756054\n",
      "Start CV...\n",
      "New best params found! alpha:0.0069519279617756054, k:1, leaf:40,\n",
      "                                                        acc:  0.9005335030751802, st.error:  0.0014496678823934408,\n",
      "                                                        rmse: 0.31534952732881744, st.error:  0.002300681329046057\n",
      "Adding Hamming 3 (Pubchem2d)... alpha = 0.008858667904100823\n",
      "Start CV...\n",
      "Adding Hamming 3 (Pubchem2d)... alpha = 0.011288378916846888\n",
      "Start CV...\n",
      "Adding Hamming 3 (Pubchem2d)... alpha = 0.01438449888287663\n",
      "Start CV...\n",
      "Adding Hamming 3 (Pubchem2d)... alpha = 0.018329807108324356\n",
      "Start CV...\n",
      "Adding Hamming 3 (Pubchem2d)... alpha = 0.023357214690901212\n",
      "Start CV...\n",
      "Adding Hamming 3 (Pubchem2d)... alpha = 0.029763514416313176\n",
      "Start CV...\n",
      "Adding Hamming 3 (Pubchem2d)... alpha = 0.0379269019073225\n",
      "Start CV...\n",
      "Adding Hamming 3 (Pubchem2d)... alpha = 0.04832930238571752\n",
      "Start CV...\n",
      "Adding Hamming 3 (Pubchem2d)... alpha = 0.06158482110660261\n",
      "Start CV...\n",
      "Adding Hamming 3 (Pubchem2d)... alpha = 0.07847599703514611\n",
      "Start CV...\n",
      "Adding Hamming 3 (Pubchem2d)... alpha = 0.1\n",
      "Start CV...\n",
      "Mon Sep 14 15:19:24 2020\n"
     ]
    }
   ],
   "source": [
    "c = [0,1]\n",
    "al_ham = 0.0069519279617756054\n",
    "pub = np.logspace(-3, -1, 20)\n",
    "\n",
    "best_acc, best_alpha, best_k, best_leaf = cv_params_new(X_train, y_train, categorical, non_categorical,\n",
    "                                                    sequence_pub = pub, a_ham = al_ham, choice = c, ks = [1])"
   ]
  },
  {
   "cell_type": "markdown",
   "metadata": {},
   "source": [
    "### Finding again the best alpha_1, fixing best_alpha_3\n",
    "\n",
    "START: alpha_1 = 0.0069519279617756054, alpha_2 = 1, alpha_3 = 0.0069519279617756054\n",
    "\n",
    "END: alpha_1 = 0.009473684210526315, alpha_2 = 1, alpha_3 = 0.0069519279617756054"
   ]
  },
  {
   "cell_type": "code",
   "execution_count": 2,
   "metadata": {
    "collapsed": true
   },
   "outputs": [
    {
     "name": "stdout",
     "output_type": "stream",
     "text": [
      "Mon Sep 14 16:51:44 2020\n",
      "START...\n",
      "Computing Euclidean and Pubchem2d Matrix...\n",
      "Adding Hamming 1 (Categorical)... alpha = 0.005\n",
      "Start CV...\n",
      "New best params found! alpha:0.005, k:1, leaf:10,\n",
      "                                                        acc:  0.8245314057187116, st.error:  0.005742672577797003,\n",
      "                                                        rmse: 0.4186730767961923, st.error:  0.006735151210219632\n",
      "New best params found! alpha:0.005, k:1, leaf:30,\n",
      "                                                        acc:  0.827031914527006, st.error:  0.0024800733461741212,\n",
      "                                                        rmse: 0.4158523496638812, st.error:  0.0029541814442851045\n",
      "Adding Hamming 1 (Categorical)... alpha = 0.005263157894736842\n",
      "Start CV...\n",
      "Adding Hamming 1 (Categorical)... alpha = 0.005526315789473685\n",
      "Start CV...\n",
      "Adding Hamming 1 (Categorical)... alpha = 0.005789473684210527\n",
      "Start CV...\n",
      "New best params found! alpha:0.005789473684210527, k:1, leaf:30,\n",
      "                                                        acc:  0.8277542600428403, st.error:  0.0040559301178579674,\n",
      "                                                        rmse: 0.41491049773918875, st.error:  0.004873879947696749\n",
      "Adding Hamming 1 (Categorical)... alpha = 0.0060526315789473685\n",
      "Start CV...\n",
      "Adding Hamming 1 (Categorical)... alpha = 0.00631578947368421\n",
      "Start CV...\n",
      "Adding Hamming 1 (Categorical)... alpha = 0.006578947368421052\n",
      "Start CV...\n",
      "Adding Hamming 1 (Categorical)... alpha = 0.006842105263157895\n",
      "Start CV...\n",
      "Adding Hamming 1 (Categorical)... alpha = 0.007105263157894737\n",
      "Start CV...\n",
      "Adding Hamming 1 (Categorical)... alpha = 0.007368421052631579\n",
      "Start CV...\n",
      "Adding Hamming 1 (Categorical)... alpha = 0.0076315789473684215\n",
      "Start CV...\n",
      "Adding Hamming 1 (Categorical)... alpha = 0.007894736842105263\n",
      "Start CV...\n",
      "Adding Hamming 1 (Categorical)... alpha = 0.008157894736842105\n",
      "Start CV...\n",
      "Adding Hamming 1 (Categorical)... alpha = 0.008421052631578947\n",
      "Start CV...\n",
      "Adding Hamming 1 (Categorical)... alpha = 0.008684210526315789\n",
      "Start CV...\n",
      "Adding Hamming 1 (Categorical)... alpha = 0.008947368421052631\n",
      "Start CV...\n",
      "Adding Hamming 1 (Categorical)... alpha = 0.009210526315789475\n",
      "Start CV...\n",
      "Adding Hamming 1 (Categorical)... alpha = 0.009473684210526315\n",
      "Start CV...\n",
      "New best params found! alpha:0.009473684210526315, k:1, leaf:30,\n",
      "                                                        acc:  0.8284219926957228, st.error:  0.003680484154965518,\n",
      "                                                        rmse: 0.4141245864204627, st.error:  0.004439432012037592\n",
      "Adding Hamming 1 (Categorical)... alpha = 0.009736842105263158\n",
      "Start CV...\n",
      "Adding Hamming 1 (Categorical)... alpha = 0.01\n",
      "Start CV...\n",
      "Mon Sep 14 19:54:54 2020\n"
     ]
    }
   ],
   "source": [
    "c = [1,0]\n",
    "al_pub = 0.0069519279617756054\n",
    "\n",
    "ham = np.linspace(0.005,0.01,20)\n",
    "\n",
    "best_acc, best_alpha, best_k, best_leaf = cv_params_new(X_train, y_train, categorical, non_categorical,\n",
    "                                                    sequence_ham = ham, a_pub = al_pub, choice = c, ks = [1])"
   ]
  },
  {
   "cell_type": "markdown",
   "metadata": {},
   "source": [
    "### Finding again the best alpha_3, fixing best_alpha_1\n",
    "\n",
    "START: alpha_1 = 0.009473684210526315, alpha_2 = 1, alpha_3 = 0.0069519279617756054\n",
    "\n",
    "END: alpha_1 = 0.009473684210526315, alpha_2 = 1, alpha_3 = 0.007105263157894737"
   ]
  },
  {
   "cell_type": "code",
   "execution_count": 2,
   "metadata": {
    "collapsed": true
   },
   "outputs": [
    {
     "name": "stdout",
     "output_type": "stream",
     "text": [
      "Mon Sep 14 21:28:13 2020\n",
      "START...\n",
      "Computing Basic Matrix: Hamming 1 and Euclidean 2...\n",
      "Adding Hamming 3 (Pubchem2d)... alpha = 0.005\n",
      "Start CV...\n",
      "New best params found! alpha:0.005, k:1, leaf:10,\n",
      "                                                        acc:  0.8977536249017346, st.error:  0.0025060535258592765,\n",
      "                                                        rmse: 0.3196648161329612, st.error:  0.003898090075453123\n",
      "New best params found! alpha:0.005, k:1, leaf:40,\n",
      "                                                        acc:  0.898532267718003, st.error:  0.0014565415219307638,\n",
      "                                                        rmse: 0.3185074989524941, st.error:  0.002275158951814106\n",
      "New best params found! alpha:0.005, k:1, leaf:80,\n",
      "                                                        acc:  0.899588858172373, st.error:  0.0019329533882988246,\n",
      "                                                        rmse: 0.3168182050385376, st.error:  0.0030564188107250296\n",
      "Adding Hamming 3 (Pubchem2d)... alpha = 0.005263157894736842\n",
      "Start CV...\n",
      "New best params found! alpha:0.005263157894736842, k:1, leaf:70,\n",
      "                                                        acc:  0.9003110491526585, st.error:  0.0020286124063801972,\n",
      "                                                        rmse: 0.31567070885544607, st.error:  0.003199781947329094\n",
      "Adding Hamming 3 (Pubchem2d)... alpha = 0.005526315789473685\n",
      "Start CV...\n",
      "Adding Hamming 3 (Pubchem2d)... alpha = 0.005789473684210527\n",
      "Start CV...\n",
      "Adding Hamming 3 (Pubchem2d)... alpha = 0.0060526315789473685\n",
      "Start CV...\n",
      "Adding Hamming 3 (Pubchem2d)... alpha = 0.00631578947368421\n",
      "Start CV...\n",
      "Adding Hamming 3 (Pubchem2d)... alpha = 0.006578947368421052\n",
      "Start CV...\n",
      "Adding Hamming 3 (Pubchem2d)... alpha = 0.006842105263157895\n",
      "Start CV...\n",
      "Adding Hamming 3 (Pubchem2d)... alpha = 0.007105263157894737\n",
      "Start CV...\n",
      "New best params found! alpha:0.007105263157894737, k:1, leaf:40,\n",
      "                                                        acc:  0.900700308746573, st.error:  0.0014967353926612988,\n",
      "                                                        rmse: 0.3150827833328018, st.error:  0.002373336295263753\n",
      "Adding Hamming 3 (Pubchem2d)... alpha = 0.007368421052631579\n",
      "Start CV...\n",
      "Adding Hamming 3 (Pubchem2d)... alpha = 0.0076315789473684215\n",
      "Start CV...\n",
      "Adding Hamming 3 (Pubchem2d)... alpha = 0.007894736842105263\n",
      "Start CV...\n",
      "Adding Hamming 3 (Pubchem2d)... alpha = 0.008157894736842105\n",
      "Start CV...\n",
      "Adding Hamming 3 (Pubchem2d)... alpha = 0.008421052631578947\n",
      "Start CV...\n",
      "Adding Hamming 3 (Pubchem2d)... alpha = 0.008684210526315789\n",
      "Start CV...\n",
      "Adding Hamming 3 (Pubchem2d)... alpha = 0.008947368421052631\n",
      "Start CV...\n",
      "Adding Hamming 3 (Pubchem2d)... alpha = 0.009210526315789475\n",
      "Start CV...\n",
      "Adding Hamming 3 (Pubchem2d)... alpha = 0.009473684210526315\n",
      "Start CV...\n",
      "Adding Hamming 3 (Pubchem2d)... alpha = 0.009736842105263158\n",
      "Start CV...\n",
      "Adding Hamming 3 (Pubchem2d)... alpha = 0.01\n",
      "Start CV...\n",
      "Tue Sep 15 00:20:53 2020\n"
     ]
    }
   ],
   "source": [
    "c = [0,1]\n",
    "al_ham = 0.009473684210526315\n",
    "pub = np.linspace(0.005,0.01,20)\n",
    "\n",
    "best_acc, best_alpha, best_k, best_leaf = cv_params_new(X_train, y_train, categorical, non_categorical,\n",
    "                                                    sequence_pub = pub, a_ham = al_ham, choice = c, ks = [1])"
   ]
  },
  {
   "cell_type": "markdown",
   "metadata": {},
   "source": [
    "## Final model -- BINARY"
   ]
  },
  {
   "cell_type": "code",
   "execution_count": 2,
   "metadata": {},
   "outputs": [
    {
     "name": "stdout",
     "output_type": "stream",
     "text": [
      "Basic Matrix... Tue Sep 15 01:06:53 2020\n",
      "Adding pubchem2d Tue Sep 15 01:09:32 2020\n",
      "Tue Sep 15 01:22:20 2020\n"
     ]
    }
   ],
   "source": [
    "y = np.append(y_train,y_test)\n",
    "\n",
    "del X_train, X_test, y_train, y_test\n",
    "\n",
    "a_ham = 0.009473684210526315\n",
    "a_pub = 0.007105263157894737\n",
    "best_k = 1\n",
    "best_leaf = 40\n",
    "\n",
    "print('Basic Matrix...', ctime())\n",
    "dist_matr = basic_matrix(X_try, categorical, non_categorical, a_ham)\n",
    "print('Adding pubchem2d', ctime())\n",
    "dist_matr += a_pub * pubchem2d_matrix(X_try)\n",
    "dist_matr = pd.DataFrame(dist_matr)\n",
    "print(ctime())"
   ]
  },
  {
   "cell_type": "code",
   "execution_count": 6,
   "metadata": {},
   "outputs": [
    {
     "name": "stdout",
     "output_type": "stream",
     "text": [
      "Accuracy: \t 0.9105265658811724, se: 0.001596093283967252\n",
      "RMSE: \t\t 0.29907364869243597, se: 0.0026639621159533205\n",
      "Sensitivity: \t 0.9305930270523051, se: 0.0025662688577057476\n",
      "Precision: \t 0.9257884455755866, se: 0.0008814897322470156\n",
      "Specificity: \t 0.877670405685049, se: 0.0016028283693755635\n"
     ]
    }
   ],
   "source": [
    "kf = KFold(n_splits=5, shuffle=True, random_state = 5645)\n",
    "accs = []\n",
    "rmse = []\n",
    "sens = []\n",
    "precs = []\n",
    "specs = []\n",
    "for train_index, test_index in kf.split(dist_matr):\n",
    "\n",
    "    X_train = dist_matr.iloc[train_index, train_index]\n",
    "    X_test = dist_matr.iloc[test_index, train_index]\n",
    "    y_train = y[train_index]\n",
    "    y_test = y[test_index]\n",
    "\n",
    "    neigh = KNeighborsClassifier(metric = 'precomputed',\n",
    "                                 n_neighbors=best_k, n_jobs=-2,\n",
    "                                 leaf_size=best_leaf)\n",
    "    neigh.fit(X_train, y_train.ravel())\n",
    "    y_pred = neigh.predict(X_test)\n",
    "    \n",
    "    tn, fp, fn, tp = confusion_matrix(y_test, y_pred).ravel()\n",
    "    \n",
    "    accs.append(accuracy_score(y_test, y_pred))\n",
    "    rmse.append(sqrt(mean_squared_error(y_test, y_pred)))\n",
    "    sens.append(recall_score(y_test, y_pred))\n",
    "    precs.append(precision_score(y_test, y_pred))\n",
    "    specs.append(tn/(tn+fp))\n",
    "    \n",
    "    del X_train, X_test, y_train, y_test\n",
    "    \n",
    "avg_acc = np.mean(accs)\n",
    "se_acc = sem(accs)\n",
    "\n",
    "avg_rmse = np.mean(rmse)\n",
    "se_rmse = sem(rmse)\n",
    "\n",
    "avg_sens = np.mean(sens)\n",
    "se_sens = sem(sens)\n",
    "\n",
    "avg_precs = np.mean(precs)\n",
    "se_precs = sem(precs)\n",
    "\n",
    "avg_specs = np.mean(specs)\n",
    "se_specs = sem(specs)\n",
    "\n",
    "print('''Accuracy: \\t {}, se: {}\n",
    "RMSE: \\t\\t {}, se: {}\n",
    "Sensitivity: \\t {}, se: {}\n",
    "Precision: \\t {}, se: {}\n",
    "Specificity: \\t {}, se: {}'''.format(avg_acc, se_acc, avg_rmse, se_rmse, avg_sens, se_sens,\n",
    "                                 avg_precs, se_precs, avg_specs, se_specs))"
   ]
  }
 ],
 "metadata": {
  "kernelspec": {
   "display_name": "Python 3",
   "language": "python",
   "name": "python3"
  },
  "language_info": {
   "codemirror_mode": {
    "name": "ipython",
    "version": 3
   },
   "file_extension": ".py",
   "mimetype": "text/x-python",
   "name": "python",
   "nbconvert_exporter": "python",
   "pygments_lexer": "ipython3",
   "version": "3.7.7"
  }
 },
 "nbformat": 4,
 "nbformat_minor": 4
}
