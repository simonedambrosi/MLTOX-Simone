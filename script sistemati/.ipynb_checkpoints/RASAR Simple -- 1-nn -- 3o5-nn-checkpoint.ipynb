{
 "cells": [
  {
   "cell_type": "markdown",
   "metadata": {},
   "source": [
    "# 1-NN"
   ]
  },
  {
   "cell_type": "code",
   "execution_count": 1,
   "metadata": {
    "collapsed": true
   },
   "outputs": [
    {
     "name": "stdout",
     "output_type": "stream",
     "text": [
      "Computing distance matrix... Wed Sep 16 12:21:43 2020\n",
      "Computing 1-NN... Wed Sep 16 12:37:23 2020\n"
     ]
    },
    {
     "data": {
      "text/html": [
       "<div>\n",
       "<style scoped>\n",
       "    .dataframe tbody tr th:only-of-type {\n",
       "        vertical-align: middle;\n",
       "    }\n",
       "\n",
       "    .dataframe tbody tr th {\n",
       "        vertical-align: top;\n",
       "    }\n",
       "\n",
       "    .dataframe thead th {\n",
       "        text-align: right;\n",
       "    }\n",
       "</style>\n",
       "<table border=\"1\" class=\"dataframe\">\n",
       "  <thead>\n",
       "    <tr style=\"text-align: right;\">\n",
       "      <th></th>\n",
       "      <th>idx_test</th>\n",
       "      <th>idx_neigh_train</th>\n",
       "      <th>label_train</th>\n",
       "    </tr>\n",
       "  </thead>\n",
       "  <tbody>\n",
       "    <tr>\n",
       "      <th>0</th>\n",
       "      <td>19755</td>\n",
       "      <td>6992</td>\n",
       "      <td>1</td>\n",
       "    </tr>\n",
       "    <tr>\n",
       "      <th>1</th>\n",
       "      <td>2240</td>\n",
       "      <td>10850</td>\n",
       "      <td>1</td>\n",
       "    </tr>\n",
       "    <tr>\n",
       "      <th>2</th>\n",
       "      <td>12304</td>\n",
       "      <td>5194</td>\n",
       "      <td>1</td>\n",
       "    </tr>\n",
       "    <tr>\n",
       "      <th>3</th>\n",
       "      <td>3096</td>\n",
       "      <td>2977</td>\n",
       "      <td>0</td>\n",
       "    </tr>\n",
       "    <tr>\n",
       "      <th>4</th>\n",
       "      <td>7840</td>\n",
       "      <td>11798</td>\n",
       "      <td>0</td>\n",
       "    </tr>\n",
       "    <tr>\n",
       "      <th>...</th>\n",
       "      <td>...</td>\n",
       "      <td>...</td>\n",
       "      <td>...</td>\n",
       "    </tr>\n",
       "    <tr>\n",
       "      <th>8855</th>\n",
       "      <td>17372</td>\n",
       "      <td>12400</td>\n",
       "      <td>1</td>\n",
       "    </tr>\n",
       "    <tr>\n",
       "      <th>8856</th>\n",
       "      <td>5833</td>\n",
       "      <td>2682</td>\n",
       "      <td>0</td>\n",
       "    </tr>\n",
       "    <tr>\n",
       "      <th>8857</th>\n",
       "      <td>4770</td>\n",
       "      <td>3559</td>\n",
       "      <td>1</td>\n",
       "    </tr>\n",
       "    <tr>\n",
       "      <th>8858</th>\n",
       "      <td>15334</td>\n",
       "      <td>9269</td>\n",
       "      <td>0</td>\n",
       "    </tr>\n",
       "    <tr>\n",
       "      <th>8859</th>\n",
       "      <td>20155</td>\n",
       "      <td>17513</td>\n",
       "      <td>1</td>\n",
       "    </tr>\n",
       "  </tbody>\n",
       "</table>\n",
       "<p>8860 rows × 3 columns</p>\n",
       "</div>"
      ],
      "text/plain": [
       "      idx_test  idx_neigh_train  label_train\n",
       "0        19755             6992            1\n",
       "1         2240            10850            1\n",
       "2        12304             5194            1\n",
       "3         3096             2977            0\n",
       "4         7840            11798            0\n",
       "...        ...              ...          ...\n",
       "8855     17372            12400            1\n",
       "8856      5833             2682            0\n",
       "8857      4770             3559            1\n",
       "8858     15334             9269            0\n",
       "8859     20155            17513            1\n",
       "\n",
       "[8860 rows x 3 columns]"
      ]
     },
     "execution_count": 1,
     "metadata": {},
     "output_type": "execute_result"
    }
   ],
   "source": [
    "from helper_rasar import *\n",
    "\n",
    "df_nn1 = nn1_rasar()\n",
    "df_nn1"
   ]
  },
  {
   "cell_type": "markdown",
   "metadata": {},
   "source": [
    "# 5-NN\n",
    "I choose to follow RASAR article using a 5-NN instead of 3-NN"
   ]
  },
  {
   "cell_type": "code",
   "execution_count": 1,
   "metadata": {
    "collapsed": true
   },
   "outputs": [
    {
     "name": "stdout",
     "output_type": "stream",
     "text": [
      "Computing distance matrix... Tue Sep 22 18:29:02 2020\n",
      "Computing 5-NN... Tue Sep 22 18:42:17 2020\n",
      "Tue Sep 22 18:42:42 2020\n"
     ]
    },
    {
     "data": {
      "text/html": [
       "<div>\n",
       "<style scoped>\n",
       "    .dataframe tbody tr th:only-of-type {\n",
       "        vertical-align: middle;\n",
       "    }\n",
       "\n",
       "    .dataframe tbody tr th {\n",
       "        vertical-align: top;\n",
       "    }\n",
       "\n",
       "    .dataframe thead th {\n",
       "        text-align: right;\n",
       "    }\n",
       "</style>\n",
       "<table border=\"1\" class=\"dataframe\">\n",
       "  <thead>\n",
       "    <tr style=\"text-align: right;\">\n",
       "      <th></th>\n",
       "      <th>label0_count</th>\n",
       "      <th>label1_count</th>\n",
       "    </tr>\n",
       "  </thead>\n",
       "  <tbody>\n",
       "    <tr>\n",
       "      <th>0</th>\n",
       "      <td>4.0</td>\n",
       "      <td>1.0</td>\n",
       "    </tr>\n",
       "    <tr>\n",
       "      <th>1</th>\n",
       "      <td>2.0</td>\n",
       "      <td>3.0</td>\n",
       "    </tr>\n",
       "    <tr>\n",
       "      <th>2</th>\n",
       "      <td>2.0</td>\n",
       "      <td>3.0</td>\n",
       "    </tr>\n",
       "    <tr>\n",
       "      <th>3</th>\n",
       "      <td>3.0</td>\n",
       "      <td>2.0</td>\n",
       "    </tr>\n",
       "    <tr>\n",
       "      <th>4</th>\n",
       "      <td>3.0</td>\n",
       "      <td>2.0</td>\n",
       "    </tr>\n",
       "    <tr>\n",
       "      <th>...</th>\n",
       "      <td>...</td>\n",
       "      <td>...</td>\n",
       "    </tr>\n",
       "    <tr>\n",
       "      <th>8852</th>\n",
       "      <td>3.0</td>\n",
       "      <td>2.0</td>\n",
       "    </tr>\n",
       "    <tr>\n",
       "      <th>8853</th>\n",
       "      <td>3.0</td>\n",
       "      <td>2.0</td>\n",
       "    </tr>\n",
       "    <tr>\n",
       "      <th>8854</th>\n",
       "      <td>2.0</td>\n",
       "      <td>3.0</td>\n",
       "    </tr>\n",
       "    <tr>\n",
       "      <th>8855</th>\n",
       "      <td>1.0</td>\n",
       "      <td>4.0</td>\n",
       "    </tr>\n",
       "    <tr>\n",
       "      <th>8856</th>\n",
       "      <td>2.0</td>\n",
       "      <td>3.0</td>\n",
       "    </tr>\n",
       "  </tbody>\n",
       "</table>\n",
       "<p>8857 rows × 2 columns</p>\n",
       "</div>"
      ],
      "text/plain": [
       "      label0_count  label1_count\n",
       "0              4.0           1.0\n",
       "1              2.0           3.0\n",
       "2              2.0           3.0\n",
       "3              3.0           2.0\n",
       "4              3.0           2.0\n",
       "...            ...           ...\n",
       "8852           3.0           2.0\n",
       "8853           3.0           2.0\n",
       "8854           2.0           3.0\n",
       "8855           1.0           4.0\n",
       "8856           2.0           3.0\n",
       "\n",
       "[8857 rows x 2 columns]"
      ]
     },
     "execution_count": 1,
     "metadata": {},
     "output_type": "execute_result"
    }
   ],
   "source": [
    "from helper_rasar import *\n",
    "\n",
    "df_nn5 = nn5_rasar()\n",
    "df_nn5"
   ]
  },
  {
   "cell_type": "markdown",
   "metadata": {},
   "source": [
    "# Simple RASAR"
   ]
  },
  {
   "cell_type": "markdown",
   "metadata": {},
   "source": [
    "## DF test\n",
    "\n",
    "For each test experiments find the 0s and 1s nearest neighbors in train experiments and their relative distances."
   ]
  },
  {
   "cell_type": "markdown",
   "metadata": {},
   "source": [
    "## DF Train\n",
    "\n",
    "For each train experiment find the 0s and 1s nearest neighbors in train experiments and their relative distance.\n",
    "\n",
    "Since each train experiment has one label, 0 or 1, I don't want to find itself as neighbor for its respective class. So, I use a 2-NN such that if it finds out that the first NN is itself, automatically it swaps with the second. On the contrary, if it finds out that the first NN is not itself, it keeps going on with the first NN."
   ]
  },
  {
   "cell_type": "code",
   "execution_count": 1,
   "metadata": {},
   "outputs": [
    {
     "name": "stdout",
     "output_type": "stream",
     "text": [
      "Load data... Fri Sep 18 18:23:02 2020\n",
      "Computing distance matrix... Fri Sep 18 18:23:03 2020\n",
      "Start CV... Fri Sep 18 18:35:24 2020\n",
      "...END Simple RASAR Fri Sep 18 19:02:20 2020\n",
      "Accuracy: \t 0.906997570570498, se: 0.001957554194969314\n",
      "    RMSE: \t\t 0.30489571972672724, se: 0.003202714544842038\n",
      "    Sensitivity: \t 0.9524006595432942, se: 0.0019256120362014873\n",
      "    Precision: \t 0.903197085506742, se: 0.003006025789248351\n",
      "    Specificity: \t 0.8325926949194414, se: 0.005033025139211729\n"
     ]
    }
   ],
   "source": [
    "from helper_rasar import *\n",
    "\n",
    "print('Load data...', ctime())\n",
    "X_try, y = load_data_rasar('data/lc_db_processed.csv', encoding = 'binary', seed = 42)\n",
    "\n",
    "acc, se_acc, rmse, se_rmse = cv_simple_rasar(X_try, y)"
   ]
  },
  {
   "cell_type": "code",
   "execution_count": null,
   "metadata": {},
   "outputs": [],
   "source": []
  }
 ],
 "metadata": {
  "kernelspec": {
   "display_name": "Python 3",
   "language": "python",
   "name": "python3"
  },
  "language_info": {
   "codemirror_mode": {
    "name": "ipython",
    "version": 3
   },
   "file_extension": ".py",
   "mimetype": "text/x-python",
   "name": "python",
   "nbconvert_exporter": "python",
   "pygments_lexer": "ipython3",
   "version": "3.7.7"
  }
 },
 "nbformat": 4,
 "nbformat_minor": 4
}
