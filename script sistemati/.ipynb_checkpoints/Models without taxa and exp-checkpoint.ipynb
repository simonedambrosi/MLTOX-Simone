{
 "cells": [
  {
   "cell_type": "code",
   "execution_count": 1,
   "metadata": {},
   "outputs": [],
   "source": [
    "from knn_no_spec_exp import *\n",
    "\n",
    "db = pd.read_csv('data/lc_db_processed.csv').drop(columns = ['Unnamed: 0','smiles', 'test_cas'])\n",
    "\n",
    "db.drop(columns = ['obs_duration_mean', 'conc1_type', 'exposure_type', 'control_type',\n",
    "       'media_type', 'application_freq_unit','species', 'class',\n",
    "       'tax_order', 'family', 'genus'], inplace = True)\n"
   ]
  },
  {
   "cell_type": "markdown",
   "metadata": {},
   "source": [
    "# K-NN Senza Pubchem"
   ]
  },
  {
   "cell_type": "code",
   "execution_count": 2,
   "metadata": {},
   "outputs": [],
   "source": [
    "X = db.drop(columns = ['conc1_mean','pubchem2d']).copy()\n",
    "y = np.where(db['conc1_mean'].values>1,1,0)\n",
    "for nc in X.columns:\n",
    "    minmax = MinMaxScaler()\n",
    "    minmax.fit(X[[nc]])\n",
    "    X[[nc]] = minmax.transform(X[[nc]])"
   ]
  },
  {
   "cell_type": "code",
   "execution_count": 4,
   "metadata": {},
   "outputs": [
    {
     "name": "stdout",
     "output_type": "stream",
     "text": [
      "Accuracy: \t 0.8193002257336344, se: 0.004021449605264086\n",
      "RMSE: \t \t 0.4250084966756271, se: 0.004745243930825608\n",
      "Sensitivity: \t 0.8611191664221575, se: 0.014654054882054084\n",
      "Precision: \t 0.8504715349975409, se: 0.010236996794484842\n",
      "Specificity: \t 0.7511932048646786, se: 0.02316219280810622\n"
     ]
    }
   ],
   "source": [
    "knn_metrics(X, y, k = 1, ls = 100)"
   ]
  },
  {
   "cell_type": "markdown",
   "metadata": {},
   "source": [
    "# CV"
   ]
  },
  {
   "cell_type": "code",
   "execution_count": 5,
   "metadata": {
    "collapsed": true
   },
   "outputs": [
    {
     "name": "stdout",
     "output_type": "stream",
     "text": [
      "New best params found! k:1, leaf:10, acc:  0.8106047843665767, st.error:  0.006235951252291087,rmse: 0.4350142705957616, st.error:  0.007252586009157814\n",
      "New best params found! k:1, leaf:20, acc:  0.816669474393531, st.error:  0.005150495415017391,rmse: 0.4280441901360305, st.error:  0.006019327129027978\n",
      "New best params found! k:1, leaf:50, acc:  0.8184804582210242, st.error:  0.003711619515499288,rmse: 0.42598415116568766, st.error:  0.004360609079182598\n",
      "New best params found! k:3, leaf:10, acc:  0.8319996630727763, st.error:  0.0031058396366021378,rmse: 0.4098260459453583, st.error:  0.003783692729630788\n",
      "New best params found! k:3, leaf:20, acc:  0.8349477762803235, st.error:  0.0023184157469916954,rmse: 0.4062360751915161, st.error:  0.002856275702693064\n",
      "New best params found! k:3, leaf:70, acc:  0.8352004716981132, st.error:  0.004036906880068498,rmse: 0.40586363056959374, st.error:  0.004974658539541558\n",
      "New best params found! k:3, leaf:90, acc:  0.8410966981132075, st.error:  0.004598868903916674,rmse: 0.3985041360769656, st.error:  0.005708339406625774\n",
      "New best params found! k:5, leaf:80, acc:  0.8415599730458221, st.error:  0.0026605341826241792,rmse: 0.39800292726400854, st.error:  0.0033514595555866216\n",
      "New best params found! k:7, leaf:70, acc:  0.8420653638814016, st.error:  0.0013309336134873417,rmse: 0.3973993300759773, st.error:  0.0016741738024961593\n"
     ]
    }
   ],
   "source": [
    "X_train, _, y_train, _ = train_test_split(X, y, test_size=0.33, random_state = 42)\n",
    "del _\n",
    "\n",
    "best_k, best_leaf = cv_knn(X_train, y_train)"
   ]
  },
  {
   "cell_type": "markdown",
   "metadata": {},
   "source": [
    "# Final Model"
   ]
  },
  {
   "cell_type": "code",
   "execution_count": 6,
   "metadata": {},
   "outputs": [
    {
     "name": "stdout",
     "output_type": "stream",
     "text": [
      "Accuracy: \t 0.8442720090293454, se: 0.0013963705453339445\n",
      "RMSE: \t \t 0.3946120242235179, se: 0.0017645876640539082\n",
      "Sensitivity: \t 0.8703123998631606, se: 0.010271281991218628\n",
      "Precision: \t 0.8771195903294841, se: 0.006631900990046107\n",
      "Specificity: \t 0.802177578139511, se: 0.013976648953808353\n"
     ]
    }
   ],
   "source": [
    "best_k = 7\n",
    "best_leaf = 70\n",
    "\n",
    "knn_metrics(X,y, best_k, best_leaf)"
   ]
  },
  {
   "cell_type": "markdown",
   "metadata": {},
   "source": [
    "# K-NN con Pubchem2d\n",
    "\n",
    "Pubchem2d have been transformed from string format to dataframe and concatenated to the other chemical descriptors.\n",
    "\n",
    "The metric is the Euclidean."
   ]
  },
  {
   "cell_type": "code",
   "execution_count": 2,
   "metadata": {},
   "outputs": [],
   "source": [
    "X = db.drop(columns = ['conc1_mean']).copy()\n",
    "y = np.where(db['conc1_mean'].values>1,1,0)\n",
    "for nc in X.drop(columns = 'pubchem2d').columns:\n",
    "    minmax = MinMaxScaler()\n",
    "    minmax.fit(X[[nc]])\n",
    "    X[[nc]] = minmax.transform(X[[nc]])\n",
    "    \n",
    "pub = pd.DataFrame(pd.DataFrame(X['pubchem2d'].values).apply(\n",
    "        lambda x: x.str.replace('', ' ').str.strip().str.split(' '),axis = 1)[0].to_list())\n",
    "X_new = X.drop(columns = 'pubchem2d').copy()\n",
    "X_new = pd.concat([X_new, pub], axis = 1)"
   ]
  },
  {
   "cell_type": "code",
   "execution_count": 9,
   "metadata": {},
   "outputs": [
    {
     "name": "stdout",
     "output_type": "stream",
     "text": [
      "Accuracy: \t 0.8106659142212189, se: 0.005050606156615719\n",
      "RMSE: \t \t 0.43500891826809324, se: 0.0058116780710464125\n",
      "Sensitivity: \t 0.8509902130269467, se: 0.006373262374104756\n",
      "Precision: \t 0.8435329489706903, se: 0.005533459610200883\n",
      "Specificity: \t 0.7455372527240937, se: 0.008872143225625543\n"
     ]
    }
   ],
   "source": [
    "knn_metrics(X_new, y, k = 1, ls = 100)"
   ]
  },
  {
   "cell_type": "markdown",
   "metadata": {},
   "source": [
    "# CV"
   ]
  },
  {
   "cell_type": "code",
   "execution_count": 4,
   "metadata": {
    "collapsed": true
   },
   "outputs": [
    {
     "name": "stdout",
     "output_type": "stream",
     "text": [
      "New best params found! k:1, leaf:10, acc:  0.8104784366576818, st.error:  0.001394284480900165,rmse: 0.43533189607118883, st.error:  0.001602457007402721\n",
      "New best params found! k:1, leaf:40, acc:  0.8170064016172507, st.error:  0.005837523444635115,rmse: 0.42761043694025763, st.error:  0.006901994941350545\n",
      "New best params found! k:1, leaf:50, acc:  0.81776448787062, st.error:  0.003793471751490935,rmse: 0.42682214278513836, st.error:  0.004410992242228689\n",
      "New best params found! k:1, leaf:100, acc:  0.8225235849056604, st.error:  0.0035031385979189464,rmse: 0.42121775656020455, st.error:  0.0041639985882120974\n",
      "New best params found! k:3, leaf:10, acc:  0.832336590296496, st.error:  0.0018914682928643704,rmse: 0.40944755140739925, st.error:  0.0023174950549518006\n",
      "New best params found! k:3, leaf:20, acc:  0.8354531671159029, st.error:  0.0022363769197166136,rmse: 0.4056158644444108, st.error:  0.0027448980011671844\n",
      "New best params found! k:3, leaf:30, acc:  0.8361691374663072, st.error:  0.007115967574290139,rmse: 0.40447528422783413, st.error:  0.008767496459566424\n",
      "New best params found! k:3, leaf:60, acc:  0.8374326145552561, st.error:  0.0022716575254008047,rmse: 0.40316686728795964, st.error:  0.002820317119089546\n",
      "New best params found! k:5, leaf:20, acc:  0.8390751347708896, st.error:  0.001508940962741195,rmse: 0.4011411474469095, st.error:  0.0018837068143528401\n",
      "New best params found! k:5, leaf:80, acc:  0.8437078840970351, st.error:  0.0014184579430413023,rmse: 0.39532587400362323, st.error:  0.0017859867707952896\n",
      "New best params found! k:7, leaf:30, acc:  0.8440448113207548, st.error:  0.0019984724502855817,rmse: 0.39488710992526566, st.error:  0.0025402817505422457\n"
     ]
    }
   ],
   "source": [
    "X_train, _, y_train, _ = train_test_split(X_new, y, test_size=0.33, random_state = 42)\n",
    "del _\n",
    "\n",
    "best_k, best_leaf = cv_knn(X_train, y_train)"
   ]
  },
  {
   "cell_type": "markdown",
   "metadata": {},
   "source": [
    "# Final Model"
   ]
  },
  {
   "cell_type": "code",
   "execution_count": 4,
   "metadata": {},
   "outputs": [
    {
     "name": "stdout",
     "output_type": "stream",
     "text": [
      "Accuracy: \t 0.8489559819413093, se: 0.0031981282833046546\n",
      "RMSE: \t \t 0.38857849913452525, se: 0.004113719689464835\n",
      "Sensitivity: \t 0.8778587936403173, se: 0.007399104627168274\n",
      "Precision: \t 0.8799367292683733, se: 0.0030024630275927115\n",
      "Specificity: \t 0.8010261231676522, se: 0.006667235597186932\n"
     ]
    }
   ],
   "source": [
    "best_k = 7\n",
    "best_leaf = 30\n",
    "knn_metrics(X_new, y, k = best_k, ls = best_leaf)"
   ]
  },
  {
   "cell_type": "markdown",
   "metadata": {},
   "source": [
    "# Random Forest"
   ]
  },
  {
   "cell_type": "code",
   "execution_count": 2,
   "metadata": {},
   "outputs": [],
   "source": [
    "X = db.drop(columns = ['conc1_mean']).copy()\n",
    "y = np.where(db['conc1_mean'].values>1,1,0)\n",
    "\n",
    "for nc in X.drop(columns = 'pubchem2d').columns:\n",
    "    minmax = MinMaxScaler()\n",
    "    minmax.fit(X[[nc]])\n",
    "    X[[nc]] = minmax.transform(X[[nc]])\n",
    "    \n",
    "pub = pd.DataFrame(pd.DataFrame(X['pubchem2d'].values).apply(\n",
    "        lambda x: x.str.replace('', ' ').str.strip().str.split(' '),axis = 1)[0].to_list())\n",
    "X_new = X.drop(columns = 'pubchem2d').copy()\n",
    "X_new = pd.concat([X_new, pub], axis = 1)"
   ]
  },
  {
   "cell_type": "code",
   "execution_count": 5,
   "metadata": {},
   "outputs": [
    {
     "name": "stdout",
     "output_type": "stream",
     "text": [
      "Accuracy: 0.8604966139954854,\n",
      "RMSE: \t 0.3735015207526131,\n",
      "Sensitivity: 0.8864462209302325,\n",
      "Precision: 0.8887067395264117,\n",
      "Specifity: 0.817938021454112\n",
      "\n"
     ]
    }
   ],
   "source": [
    "X_train, X_test, y_train, y_test = train_test_split(X_new, y, test_size = 0.33, stratify = y, random_state = 42)\n",
    "\n",
    "from sklearn.ensemble import RandomForestClassifier\n",
    "\n",
    "clf = RandomForestClassifier()\n",
    "clf.fit(X_train, y_train)\n",
    "y_pred = clf.predict(X_test)\n",
    "\n",
    "tn, fp, fn, tp = confusion_matrix(y_test, y_pred).ravel()\n",
    "\n",
    "print('''Accuracy: {},\n",
    "RMSE: \\t {},\n",
    "Sensitivity: {},\n",
    "Precision: {},\n",
    "Specifity: {}\n",
    "'''.format(accuracy_score(y_test, y_pred), sqrt(mean_squared_error(y_test, y_pred)), recall_score(y_test, y_pred),\n",
    "          precision_score(y_test, y_pred), tn/(tn+fp)))"
   ]
  }
 ],
 "metadata": {
  "kernelspec": {
   "display_name": "Python 3",
   "language": "python",
   "name": "python3"
  },
  "language_info": {
   "codemirror_mode": {
    "name": "ipython",
    "version": 3
   },
   "file_extension": ".py",
   "mimetype": "text/x-python",
   "name": "python",
   "nbconvert_exporter": "python",
   "pygments_lexer": "ipython3",
   "version": "3.7.7"
  }
 },
 "nbformat": 4,
 "nbformat_minor": 4
}
