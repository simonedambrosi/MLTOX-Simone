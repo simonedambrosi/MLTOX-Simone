{
 "cells": [
  {
   "cell_type": "code",
   "execution_count": 1,
   "metadata": {},
   "outputs": [],
   "source": [
    "from knn_no_spec_exp import *\n",
    "\n",
    "db = pd.read_csv('data/lc_db_processed.csv').drop(columns = ['Unnamed: 0','smiles', 'test_cas'])\n",
    "\n",
    "db.drop(columns = ['obs_duration_mean', 'conc1_type', 'exposure_type', 'control_type',\n",
    "       'media_type', 'application_freq_unit','species', 'class',\n",
    "       'tax_order', 'family', 'genus'], inplace = True)\n"
   ]
  },
  {
   "cell_type": "markdown",
   "metadata": {},
   "source": [
    "# K-NN Senza Pubchem"
   ]
  },
  {
   "cell_type": "code",
   "execution_count": 2,
   "metadata": {},
   "outputs": [],
   "source": [
    "X = db.drop(columns = ['conc1_mean','pubchem2d']).copy()\n",
    "y = np.where(db['conc1_mean'].values>1,1,0)\n",
    "for nc in X.columns:\n",
    "    minmax = MinMaxScaler()\n",
    "    minmax.fit(X[[nc]])\n",
    "    X[[nc]] = minmax.transform(X[[nc]])"
   ]
  },
  {
   "cell_type": "code",
   "execution_count": 4,
   "metadata": {},
   "outputs": [
    {
     "name": "stdout",
     "output_type": "stream",
     "text": [
      "Accuracy: \t 0.8193002257336344, se: 0.004021449605264086\n",
      "RMSE: \t \t 0.4250084966756271, se: 0.004745243930825608\n",
      "Sensitivity: \t 0.8611191664221575, se: 0.014654054882054084\n",
      "Precision: \t 0.8504715349975409, se: 0.010236996794484842\n",
      "Specificity: \t 0.7511932048646786, se: 0.02316219280810622\n"
     ]
    }
   ],
   "source": [
    "knn_metrics(X, y, k = 1, ls = 100)"
   ]
  },
  {
   "cell_type": "markdown",
   "metadata": {},
   "source": [
    "# CV"
   ]
  },
  {
   "cell_type": "code",
   "execution_count": 5,
   "metadata": {
    "collapsed": true
   },
   "outputs": [
    {
     "name": "stdout",
     "output_type": "stream",
     "text": [
      "New best params found! k:1, leaf:10, acc:  0.8106047843665767, st.error:  0.006235951252291087,rmse: 0.4350142705957616, st.error:  0.007252586009157814\n",
      "New best params found! k:1, leaf:20, acc:  0.816669474393531, st.error:  0.005150495415017391,rmse: 0.4280441901360305, st.error:  0.006019327129027978\n",
      "New best params found! k:1, leaf:50, acc:  0.8184804582210242, st.error:  0.003711619515499288,rmse: 0.42598415116568766, st.error:  0.004360609079182598\n",
      "New best params found! k:3, leaf:10, acc:  0.8319996630727763, st.error:  0.0031058396366021378,rmse: 0.4098260459453583, st.error:  0.003783692729630788\n",
      "New best params found! k:3, leaf:20, acc:  0.8349477762803235, st.error:  0.0023184157469916954,rmse: 0.4062360751915161, st.error:  0.002856275702693064\n",
      "New best params found! k:3, leaf:70, acc:  0.8352004716981132, st.error:  0.004036906880068498,rmse: 0.40586363056959374, st.error:  0.004974658539541558\n",
      "New best params found! k:3, leaf:90, acc:  0.8410966981132075, st.error:  0.004598868903916674,rmse: 0.3985041360769656, st.error:  0.005708339406625774\n",
      "New best params found! k:5, leaf:80, acc:  0.8415599730458221, st.error:  0.0026605341826241792,rmse: 0.39800292726400854, st.error:  0.0033514595555866216\n",
      "New best params found! k:7, leaf:70, acc:  0.8420653638814016, st.error:  0.0013309336134873417,rmse: 0.3973993300759773, st.error:  0.0016741738024961593\n"
     ]
    }
   ],
   "source": [
    "X_train, _, y_train, _ = train_test_split(X, y, test_size=0.33, random_state = 42)\n",
    "del _\n",
    "\n",
    "best_k, best_leaf = cv_knn(X_train, y_train)"
   ]
  },
  {
   "cell_type": "markdown",
   "metadata": {},
   "source": [
    "# Final Model"
   ]
  },
  {
   "cell_type": "code",
   "execution_count": 6,
   "metadata": {},
   "outputs": [
    {
     "name": "stdout",
     "output_type": "stream",
     "text": [
      "Accuracy: \t 0.8442720090293454, se: 0.0013963705453339445\n",
      "RMSE: \t \t 0.3946120242235179, se: 0.0017645876640539082\n",
      "Sensitivity: \t 0.8703123998631606, se: 0.010271281991218628\n",
      "Precision: \t 0.8771195903294841, se: 0.006631900990046107\n",
      "Specificity: \t 0.802177578139511, se: 0.013976648953808353\n"
     ]
    }
   ],
   "source": [
    "best_k = 7\n",
    "best_leaf = 70\n",
    "\n",
    "knn_metrics(X,y, best_k, best_leaf)"
   ]
  },
  {
   "cell_type": "markdown",
   "metadata": {},
   "source": [
    "# K-NN con Pubchem2d\n",
    "\n",
    "Pubchem2d have been transformed from string format to dataframe and concatenated to the other chemical descriptors.\n",
    "\n",
    "I need to combine Euclidean distance applied on numerical features and Hamming on Pubchem"
   ]
  },
  {
   "cell_type": "code",
   "execution_count": 2,
   "metadata": {},
   "outputs": [],
   "source": [
    "X = db.drop(columns = ['conc1_mean']).copy()\n",
    "y = np.where(db['conc1_mean'].values>1,1,0)\n",
    "for nc in X.drop(columns = 'pubchem2d').columns:\n",
    "    minmax = MinMaxScaler()\n",
    "    minmax.fit(X[[nc]])\n",
    "    X[[nc]] = minmax.transform(X[[nc]])\n",
    "    \n",
    "pub = pd.DataFrame(pd.DataFrame(X['pubchem2d'].values).apply(\n",
    "        lambda x: x.str.replace('', ' ').str.strip().str.split(' '),axis = 1)[0].to_list())\n",
    "pub.columns = ['pub'+str(i+1) for i in range(0,881)]\n",
    "X_new = X.drop(columns = 'pubchem2d').copy()\n",
    "X_new = pd.concat([X_new, pub], axis = 1)"
   ]
  },
  {
   "cell_type": "code",
   "execution_count": 3,
   "metadata": {},
   "outputs": [
    {
     "name": "stdout",
     "output_type": "stream",
     "text": [
      "Basic Matrix... Fri Dec  4 20:55:52 2020\n",
      "Adding pubchem2d Fri Dec  4 20:56:08 2020\n",
      "End distance matrix... Fri Dec  4 21:09:47 2020\n",
      "Accuracy: \t 0.8439994825109871, se: 0.003465320868016592\n",
      "    RMSE: \t\t 0.39487114828424785, se: 0.0043958429707065235\n",
      "    Sensitivity: \t 0.8980488784553191, se: 0.004346466617900851\n",
      "    Precision: \t 0.8575718405319783, se: 0.0028999836645300582\n",
      "    Specificity: \t 0.7553087461610359, se: 0.0063320189608929755\n"
     ]
    }
   ],
   "source": [
    "knn(X_new, y, a_pub = 1, k = 1, leaf_size = 100)"
   ]
  },
  {
   "cell_type": "markdown",
   "metadata": {},
   "source": [
    "# CV"
   ]
  },
  {
   "cell_type": "code",
   "execution_count": 3,
   "metadata": {
    "collapsed": true
   },
   "outputs": [
    {
     "name": "stdout",
     "output_type": "stream",
     "text": [
      "Fri Dec  4 22:11:27 2020\n",
      "START...\n",
      "Computing Euclidean Matrix...\n",
      "Computing Pubchem...\n",
      "Adding Hamming 3 (Pubchem2d)... alpha = 0.001\n",
      "Start CV...\n",
      "New best params found! alpha:0.001, k:1, leaf:10,\n",
      "                                                    acc:  0.8240305405514416, st.error:  0.004353249234334047,\n",
      "                                                    rmse: 0.41935841220654596, st.error:  0.0051957088102367035\n",
      "New best params found! alpha:0.001, k:1, leaf:20,\n",
      "                                                    acc:  0.8259760658432704, st.error:  0.0045938250360710664,\n",
      "                                                    rmse: 0.4170114631030778, st.error:  0.0055985220674742145\n",
      "New best params found! alpha:0.001, k:1, leaf:80,\n",
      "                                                    acc:  0.8263096153718366, st.error:  0.002717311229077294,\n",
      "                                                    rmse: 0.4167109044961254, st.error:  0.0032560214290056604\n",
      "New best params found! alpha:0.001, k:1, leaf:90,\n",
      "                                                    acc:  0.8264207264314358, st.error:  0.0040273601374339945,\n",
      "                                                    rmse: 0.4165154585807492, st.error:  0.004851451634111514\n",
      "New best params found! alpha:0.001, k:1, leaf:100,\n",
      "                                                    acc:  0.8267537814462458, st.error:  0.0037467175560354977,\n",
      "                                                    rmse: 0.41613027188151425, st.error:  0.004522592662714536\n",
      "New best params found! alpha:0.001, k:3, leaf:10,\n",
      "                                                    acc:  0.8385965205084901, st.error:  0.004388050772637937,\n",
      "                                                    rmse: 0.4016063784336067, st.error:  0.005380434298285453\n",
      "New best params found! alpha:0.001, k:3, leaf:20,\n",
      "                                                    acc:  0.8430445944778576, st.error:  0.0037304549481446234,\n",
      "                                                    rmse: 0.39606095094511673, st.error:  0.004773066587431378\n",
      "New best params found! alpha:0.001, k:3, leaf:40,\n",
      "                                                    acc:  0.8446013083288634, st.error:  0.003965386673441374,\n",
      "                                                    rmse: 0.3940778160290607, st.error:  0.005034048691221236\n",
      "Adding Hamming 3 (Pubchem2d)... alpha = 0.0013738237958832624\n",
      "Start CV...\n",
      "New best params found! alpha:0.0013738237958832624, k:5, leaf:80,\n",
      "                                                    acc:  0.8452683301182212, st.error:  0.003711880746710815,\n",
      "                                                    rmse: 0.39324496108666607, st.error:  0.0047452729564603086\n",
      "Adding Hamming 3 (Pubchem2d)... alpha = 0.0018873918221350976\n",
      "Start CV...\n",
      "New best params found! alpha:0.0018873918221350976, k:3, leaf:40,\n",
      "                                                    acc:  0.845546695002305, st.error:  0.004229924440904953,\n",
      "                                                    rmse: 0.39285170734560193, st.error:  0.005496385933971582\n",
      "Adding Hamming 3 (Pubchem2d)... alpha = 0.002592943797404667\n",
      "Start CV...\n",
      "Adding Hamming 3 (Pubchem2d)... alpha = 0.003562247890262444\n",
      "Start CV...\n",
      "Adding Hamming 3 (Pubchem2d)... alpha = 0.004893900918477494\n",
      "Start CV...\n",
      "Adding Hamming 3 (Pubchem2d)... alpha = 0.006723357536499335\n",
      "Start CV...\n",
      "New best params found! alpha:0.006723357536499335, k:7, leaf:60,\n",
      "                                                    acc:  0.8455468958985184, st.error:  0.0018728941280330624,\n",
      "                                                    rmse: 0.39297653664802995, st.error:  0.0023741180257736893\n",
      "Adding Hamming 3 (Pubchem2d)... alpha = 0.009236708571873866\n",
      "Start CV...\n",
      "New best params found! alpha:0.009236708571873866, k:3, leaf:20,\n",
      "                                                    acc:  0.8476034086215073, st.error:  0.002803749258867329,\n",
      "                                                    rmse: 0.3903143661887532, st.error:  0.003580744516316802\n",
      "Adding Hamming 3 (Pubchem2d)... alpha = 0.01268961003167922\n",
      "Start CV...\n",
      "Adding Hamming 3 (Pubchem2d)... alpha = 0.017433288221999882\n",
      "Start CV...\n",
      "New best params found! alpha:0.017433288221999882, k:5, leaf:90,\n",
      "                                                    acc:  0.8498273297045296, st.error:  0.0032733505792230397,\n",
      "                                                    rmse: 0.38743070744674135, st.error:  0.004186801368226707\n",
      "Adding Hamming 3 (Pubchem2d)... alpha = 0.02395026619987486\n",
      "Start CV...\n",
      "Adding Hamming 3 (Pubchem2d)... alpha = 0.03290344562312668\n",
      "Start CV...\n",
      "Adding Hamming 3 (Pubchem2d)... alpha = 0.04520353656360243\n",
      "Start CV...\n",
      "Adding Hamming 3 (Pubchem2d)... alpha = 0.06210169418915616\n",
      "Start CV...\n",
      "Adding Hamming 3 (Pubchem2d)... alpha = 0.08531678524172806\n",
      "Start CV...\n",
      "Adding Hamming 3 (Pubchem2d)... alpha = 0.11721022975334805\n",
      "Start CV...\n",
      "Adding Hamming 3 (Pubchem2d)... alpha = 0.16102620275609392\n",
      "Start CV...\n",
      "Adding Hamming 3 (Pubchem2d)... alpha = 0.2212216291070448\n",
      "Start CV...\n",
      "Adding Hamming 3 (Pubchem2d)... alpha = 0.3039195382313198\n",
      "Start CV...\n",
      "Adding Hamming 3 (Pubchem2d)... alpha = 0.41753189365604004\n",
      "Start CV...\n",
      "Adding Hamming 3 (Pubchem2d)... alpha = 0.5736152510448681\n",
      "Start CV...\n",
      "Adding Hamming 3 (Pubchem2d)... alpha = 0.7880462815669912\n",
      "Start CV...\n",
      "Adding Hamming 3 (Pubchem2d)... alpha = 1.0826367338740541\n",
      "Start CV...\n",
      "Adding Hamming 3 (Pubchem2d)... alpha = 1.4873521072935119\n",
      "Start CV...\n",
      "Adding Hamming 3 (Pubchem2d)... alpha = 2.0433597178569416\n",
      "Start CV...\n",
      "Adding Hamming 3 (Pubchem2d)... alpha = 2.8072162039411754\n",
      "Start CV...\n",
      "Adding Hamming 3 (Pubchem2d)... alpha = 3.856620421163472\n",
      "Start CV...\n",
      "Adding Hamming 3 (Pubchem2d)... alpha = 5.298316906283707\n",
      "Start CV...\n",
      "Adding Hamming 3 (Pubchem2d)... alpha = 7.278953843983146\n",
      "Start CV...\n",
      "Adding Hamming 3 (Pubchem2d)... alpha = 10.0\n",
      "Start CV...\n",
      "Sat Dec  5 11:08:58 2020\n"
     ]
    },
    {
     "data": {
      "text/plain": [
       "(0.8498273297045296, 0.017433288221999882, 5, 90)"
      ]
     },
     "execution_count": 3,
     "metadata": {},
     "output_type": "execute_result"
    }
   ],
   "source": [
    "X_train, _, y_train, _ = train_test_split(X_new, y, test_size = 0.33, random_state = 42)\n",
    "del _\n",
    "cv_params_knn(X_train, y_train, sequence_pub = np.logspace(-3,1,30))"
   ]
  },
  {
   "cell_type": "markdown",
   "metadata": {},
   "source": [
    "# Final Model"
   ]
  },
  {
   "cell_type": "code",
   "execution_count": 5,
   "metadata": {},
   "outputs": [
    {
     "name": "stdout",
     "output_type": "stream",
     "text": [
      "Basic Matrix... Sat Dec  5 11:40:12 2020\n",
      "Adding pubchem2d Sat Dec  5 11:40:30 2020\n",
      "End distance matrix... Sat Dec  5 11:49:59 2020\n",
      "Accuracy: \t 0.8435897019686432, se: 0.003349611657175694\n",
      "    RMSE: \t\t 0.3953962830256844, se: 0.004244920518380445\n",
      "    Sensitivity: \t 0.8982296006938031, se: 0.0038775487867425294\n",
      "    Precision: \t 0.8569227113231644, se: 0.003120074063675612\n",
      "    Specificity: \t 0.7539228885614151, se: 0.00694624611603948\n"
     ]
    }
   ],
   "source": [
    "knn(X_new, y, a_pub = 0.017433288221999882, k = 1, leaf_size = 90)"
   ]
  },
  {
   "cell_type": "markdown",
   "metadata": {},
   "source": [
    "# Random Forest con Pubchem"
   ]
  },
  {
   "cell_type": "code",
   "execution_count": 2,
   "metadata": {},
   "outputs": [],
   "source": [
    "X = db.drop(columns = ['conc1_mean']).copy()\n",
    "y = np.where(db['conc1_mean'].values>1,1,0)\n",
    "\n",
    "for nc in X.drop(columns = 'pubchem2d').columns:\n",
    "    minmax = MinMaxScaler()\n",
    "    minmax.fit(X[[nc]])\n",
    "    X[[nc]] = minmax.transform(X[[nc]])\n",
    "    \n",
    "pub = pd.DataFrame(pd.DataFrame(X['pubchem2d'].values).apply(\n",
    "        lambda x: x.str.replace('', ' ').str.strip().str.split(' '),axis = 1)[0].to_list())\n",
    "X_new = X.drop(columns = 'pubchem2d').copy()\n",
    "X_new = pd.concat([X_new, pub], axis = 1)"
   ]
  },
  {
   "cell_type": "code",
   "execution_count": 3,
   "metadata": {},
   "outputs": [
    {
     "name": "stdout",
     "output_type": "stream",
     "text": [
      "Accuracy: \t 0.8659988713318285, se: 0.002173174776261613\n",
      "RMSE: \t \t 0.3660261064015591, se: 0.0029449448600454074\n",
      "Sensitivity: \t 0.8960628171996086, se: 0.004281740152316023\n",
      "Precision: \t 0.8892795175913824, se: 0.0021407351288258315\n",
      "Specificity: \t 0.8165201741105887, se: 0.003975016851736516\n"
     ]
    }
   ],
   "source": [
    "rf_metrics(X_new, y)"
   ]
  },
  {
   "cell_type": "markdown",
   "metadata": {},
   "source": [
    "# Random Forest senza pubchem"
   ]
  },
  {
   "cell_type": "code",
   "execution_count": 2,
   "metadata": {},
   "outputs": [],
   "source": [
    "X = db.drop(columns = ['conc1_mean','pubchem2d']).copy()\n",
    "y = np.where(db['conc1_mean'].values>1,1,0)\n",
    "for nc in X.columns:\n",
    "    minmax = MinMaxScaler()\n",
    "    minmax.fit(X[[nc]])\n",
    "    X[[nc]] = minmax.transform(X[[nc]])"
   ]
  },
  {
   "cell_type": "code",
   "execution_count": 4,
   "metadata": {},
   "outputs": [
    {
     "name": "stdout",
     "output_type": "stream",
     "text": [
      "Accuracy: \t 0.8631489841986456, se: 0.0020793752007067117\n",
      "RMSE: \t \t 0.3699022032024624, se: 0.0027914074895757854\n",
      "Sensitivity: \t 0.8956779487243489, se: 0.004639982649094551\n",
      "Precision: \t 0.886044234070224, se: 0.004146530756503921\n",
      "Specificity: \t 0.8094392847063987, se: 0.008310512484938002\n"
     ]
    }
   ],
   "source": [
    "rf_metrics(X,y)"
   ]
  }
 ],
 "metadata": {
  "kernelspec": {
   "display_name": "Python 3",
   "language": "python",
   "name": "python3"
  },
  "language_info": {
   "codemirror_mode": {
    "name": "ipython",
    "version": 3
   },
   "file_extension": ".py",
   "mimetype": "text/x-python",
   "name": "python",
   "nbconvert_exporter": "python",
   "pygments_lexer": "ipython3",
   "version": "3.7.7"
  }
 },
 "nbformat": 4,
 "nbformat_minor": 4
}
