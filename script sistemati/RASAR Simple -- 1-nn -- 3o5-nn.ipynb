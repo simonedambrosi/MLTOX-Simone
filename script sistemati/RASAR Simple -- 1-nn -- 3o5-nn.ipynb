{
 "cells": [
  {
   "cell_type": "markdown",
   "metadata": {},
   "source": [
    "# Binary\n",
    "## 1-NN"
   ]
  },
  {
   "cell_type": "code",
   "execution_count": 1,
   "metadata": {
    "collapsed": true
   },
   "outputs": [
    {
     "name": "stdout",
     "output_type": "stream",
     "text": [
      "Computing distance matrix... Wed Sep 16 12:21:43 2020\n",
      "Computing 1-NN... Wed Sep 16 12:37:23 2020\n"
     ]
    },
    {
     "data": {
      "text/html": [
       "<div>\n",
       "<style scoped>\n",
       "    .dataframe tbody tr th:only-of-type {\n",
       "        vertical-align: middle;\n",
       "    }\n",
       "\n",
       "    .dataframe tbody tr th {\n",
       "        vertical-align: top;\n",
       "    }\n",
       "\n",
       "    .dataframe thead th {\n",
       "        text-align: right;\n",
       "    }\n",
       "</style>\n",
       "<table border=\"1\" class=\"dataframe\">\n",
       "  <thead>\n",
       "    <tr style=\"text-align: right;\">\n",
       "      <th></th>\n",
       "      <th>idx_test</th>\n",
       "      <th>idx_neigh_train</th>\n",
       "      <th>label_train</th>\n",
       "    </tr>\n",
       "  </thead>\n",
       "  <tbody>\n",
       "    <tr>\n",
       "      <th>0</th>\n",
       "      <td>19755</td>\n",
       "      <td>6992</td>\n",
       "      <td>1</td>\n",
       "    </tr>\n",
       "    <tr>\n",
       "      <th>1</th>\n",
       "      <td>2240</td>\n",
       "      <td>10850</td>\n",
       "      <td>1</td>\n",
       "    </tr>\n",
       "    <tr>\n",
       "      <th>2</th>\n",
       "      <td>12304</td>\n",
       "      <td>5194</td>\n",
       "      <td>1</td>\n",
       "    </tr>\n",
       "    <tr>\n",
       "      <th>3</th>\n",
       "      <td>3096</td>\n",
       "      <td>2977</td>\n",
       "      <td>0</td>\n",
       "    </tr>\n",
       "    <tr>\n",
       "      <th>4</th>\n",
       "      <td>7840</td>\n",
       "      <td>11798</td>\n",
       "      <td>0</td>\n",
       "    </tr>\n",
       "    <tr>\n",
       "      <th>...</th>\n",
       "      <td>...</td>\n",
       "      <td>...</td>\n",
       "      <td>...</td>\n",
       "    </tr>\n",
       "    <tr>\n",
       "      <th>8855</th>\n",
       "      <td>17372</td>\n",
       "      <td>12400</td>\n",
       "      <td>1</td>\n",
       "    </tr>\n",
       "    <tr>\n",
       "      <th>8856</th>\n",
       "      <td>5833</td>\n",
       "      <td>2682</td>\n",
       "      <td>0</td>\n",
       "    </tr>\n",
       "    <tr>\n",
       "      <th>8857</th>\n",
       "      <td>4770</td>\n",
       "      <td>3559</td>\n",
       "      <td>1</td>\n",
       "    </tr>\n",
       "    <tr>\n",
       "      <th>8858</th>\n",
       "      <td>15334</td>\n",
       "      <td>9269</td>\n",
       "      <td>0</td>\n",
       "    </tr>\n",
       "    <tr>\n",
       "      <th>8859</th>\n",
       "      <td>20155</td>\n",
       "      <td>17513</td>\n",
       "      <td>1</td>\n",
       "    </tr>\n",
       "  </tbody>\n",
       "</table>\n",
       "<p>8860 rows × 3 columns</p>\n",
       "</div>"
      ],
      "text/plain": [
       "      idx_test  idx_neigh_train  label_train\n",
       "0        19755             6992            1\n",
       "1         2240            10850            1\n",
       "2        12304             5194            1\n",
       "3         3096             2977            0\n",
       "4         7840            11798            0\n",
       "...        ...              ...          ...\n",
       "8855     17372            12400            1\n",
       "8856      5833             2682            0\n",
       "8857      4770             3559            1\n",
       "8858     15334             9269            0\n",
       "8859     20155            17513            1\n",
       "\n",
       "[8860 rows x 3 columns]"
      ]
     },
     "execution_count": 1,
     "metadata": {},
     "output_type": "execute_result"
    }
   ],
   "source": [
    "from helper_rasar import *\n",
    "\n",
    "df_nn1 = nn1_rasar()\n",
    "df_nn1"
   ]
  },
  {
   "cell_type": "markdown",
   "metadata": {},
   "source": [
    "## 5-NN\n",
    "I choose to follow RASAR article using a 5-NN instead of 3-NN"
   ]
  },
  {
   "cell_type": "code",
   "execution_count": 1,
   "metadata": {},
   "outputs": [
    {
     "name": "stdout",
     "output_type": "stream",
     "text": [
      "Load data... Mon Sep 28 15:39:12 2020\n",
      "Computing distance matrix... Mon Sep 28 15:39:13 2020\n",
      "Start CV... Mon Sep 28 15:52:01 2020\n",
      "...END Simple RASAR Mon Sep 28 16:00:54 2020\n",
      "Accuracy: \t 0.8955210153010462, se: 0.0024668169961213535\n",
      "RMSE: \t\t 0.32314012207503595, se: 0.0038550682317107475\n",
      "Sensitivity: \t 0.9233360211596127, se: 0.001949169246478078\n",
      "Precision: \t 0.9097846042570508, se: 0.0036678705596774807\n",
      "Specificity: \t 0.8500172551588874, se: 0.00490448369612365\n"
     ]
    }
   ],
   "source": [
    "from helper_rasar import *\n",
    "\n",
    "print('Load data...', ctime())\n",
    "X, y = load_data_rasar('data/lc_db_processed.csv', encoding = 'binary', seed = 42)\n",
    "\n",
    "nn5_rasar(X, y)"
   ]
  },
  {
   "cell_type": "markdown",
   "metadata": {},
   "source": [
    "## Simple RASAR\n",
    "\n",
    "### DF test\n",
    "\n",
    "For each test experiments find the 0s and 1s nearest neighbors in train experiments and their relative distances.\n",
    "\n",
    "### DF Train\n",
    "\n",
    "For each train experiment find the 0s and 1s nearest neighbors in train experiments and their relative distance.\n",
    "\n",
    "Since each train experiment has one label, 0 or 1, I don't want to find itself as neighbor for its respective class. So, I use a 2-NN such that if it finds out that the first NN is itself, automatically it swaps with the second. On the contrary, if it finds out that the first NN is not itself, it keeps going on with the first NN."
   ]
  },
  {
   "cell_type": "code",
   "execution_count": 1,
   "metadata": {},
   "outputs": [
    {
     "name": "stdout",
     "output_type": "stream",
     "text": [
      "Load data... Fri Sep 18 18:23:02 2020\n",
      "Computing distance matrix... Fri Sep 18 18:23:03 2020\n",
      "Start CV... Fri Sep 18 18:35:24 2020\n",
      "...END Simple RASAR Fri Sep 18 19:02:20 2020\n",
      "Accuracy: \t 0.906997570570498, se: 0.001957554194969314\n",
      "    RMSE: \t\t 0.30489571972672724, se: 0.003202714544842038\n",
      "    Sensitivity: \t 0.9524006595432942, se: 0.0019256120362014873\n",
      "    Precision: \t 0.903197085506742, se: 0.003006025789248351\n",
      "    Specificity: \t 0.8325926949194414, se: 0.005033025139211729\n"
     ]
    }
   ],
   "source": [
    "from helper_rasar import *\n",
    "\n",
    "print('Load data...', ctime())\n",
    "X_try, y = load_data_rasar('data/lc_db_processed.csv', encoding = 'binary', seed = 42)\n",
    "\n",
    "acc, se_acc, rmse, se_rmse = cv_simple_rasar(X_try, y)"
   ]
  },
  {
   "cell_type": "markdown",
   "metadata": {},
   "source": [
    "# Multiclass"
   ]
  },
  {
   "cell_type": "code",
   "execution_count": 2,
   "metadata": {},
   "outputs": [
    {
     "name": "stdout",
     "output_type": "stream",
     "text": [
      "Computing distance matrix... Fri Oct  9 20:25:48 2020\n",
      "Start CV... Fri Oct  9 20:38:52 2020\n",
      "...END Simple RASAR -- Multiclass Fri Oct  9 21:08:51 2020\n",
      "Accuracy: \t 0.7398121154166983, se: 0.0018281488575418079\n",
      "RMSE: \t\t 0.6836533148079024, se: 0.007268873158371714\n",
      "W. Recall: \t 0.7398121154166983, se: 0.0018281488575418079\n",
      "W. Precision: \t 0.7393438049716283, se: 0.0018822492514403502\n"
     ]
    }
   ],
   "source": [
    "from helper_rasar_datafusion_multiclass import *\n",
    "\n",
    "X, _ = load_datafusion_datasets('data/lc_db_processed.csv','data/datafusion_db_processed.csv',\n",
    "                                encoding = 'multiclass', seed = 42)\n",
    "y = X.conc1_mean.copy().values\n",
    "del _\n",
    "\n",
    "cv_simple_rasar_multiclass(X, y)"
   ]
  },
  {
   "cell_type": "markdown",
   "metadata": {},
   "source": [
    "basic logistic regression"
   ]
  },
  {
   "cell_type": "code",
   "execution_count": 1,
   "metadata": {},
   "outputs": [
    {
     "name": "stdout",
     "output_type": "stream",
     "text": [
      "Computing distance matrix... Fri Oct 16 16:05:26 2020\n",
      "Start CV... Fri Oct 16 16:19:27 2020\n",
      "...END Simple RASAR -- Multiclass Fri Oct 16 16:49:44 2020\n",
      "Accuracy: \t 0.648513457315654, se: 0.003847680219980783\n",
      "RMSE: \t\t 0.7749638488347277, se: 0.008156360717866176\n",
      "W. Recall: \t 0.648513457315654, se: 0.003847680219980783\n",
      "W. Precision: \t 0.6698417659282568, se: 0.0027051642819279206\n"
     ]
    }
   ],
   "source": [
    "# sistemare h2o...\n",
    "from helper_rasar_datafusion_multiclass import *\n",
    "\n",
    "X, _ = load_datafusion_datasets('data/lc_db_processed.csv','data/datafusion_db_processed.csv',\n",
    "                                encoding = 'multiclass', seed = 42)\n",
    "y = X.conc1_mean.copy().values\n",
    "del _\n",
    "\n",
    "cv_simple_rasar_multiclass(X, y, final_model = False)"
   ]
  },
  {
   "cell_type": "markdown",
   "metadata": {},
   "source": [
    "### tuning logistic regression"
   ]
  },
  {
   "cell_type": "code",
   "execution_count": 1,
   "metadata": {},
   "outputs": [
    {
     "name": "stdout",
     "output_type": "stream",
     "text": [
      "Computing distance matrix... Fri Oct 16 18:03:38 2020\n",
      "Start CV... Fri Oct 16 18:09:00 2020\n",
      "Train and test... Fri Oct 16 18:09:02 2020done... models... Fri Oct 16 18:11:18 2020done\n",
      "Train and test... Fri Oct 16 18:15:27 2020done... models... Fri Oct 16 18:17:43 2020done\n",
      "Train and test... Fri Oct 16 18:22:14 2020done... models... Fri Oct 16 18:24:30 2020done\n",
      "Train and test... Fri Oct 16 18:29:29 2020done... models... Fri Oct 16 18:31:46 2020done\n",
      "Train and test... Fri Oct 16 18:36:09 2020done... models... Fri Oct 16 18:38:27 2020done\n",
      "...END Simple RASAR -- Multiclass Fri Oct 16 18:42:58 2020\n"
     ]
    }
   ],
   "source": [
    "from helper_rasar_datafusion_multiclass import *\n",
    "from sklearn.model_selection import train_test_split\n",
    "\n",
    "db_mortality, db_datafusion = load_datafusion_datasets('data/lc_db_processed.csv', 'data/datafusion_db_processed.csv',\n",
    "                                                      encoding = 'multiclass', seed = 42)\n",
    "\n",
    "X = db_mortality.drop(columns = 'conc1_mean').copy()\n",
    "y = db_mortality.conc1_mean.values\n",
    "\n",
    "X_train, _, y_train, _ = train_test_split(X, y, test_size = 0.33, random_state = 42, stratify = y)\n",
    "\n",
    "del db_mortality, _, X, y\n",
    "\n",
    "hyper_params_tune = {'fit_intercept': [False, True],\n",
    "                     'l1_ratio': [i/10 for i in range(0,11)],\n",
    "                     'C': [10**i for i in range(-3,3)]}\n",
    "\n",
    "tab_tuning_simple = cv_random_simple_rasar_multiclass(X_train, y_train, hyper_params_tune)"
   ]
  },
  {
   "cell_type": "code",
   "execution_count": 4,
   "metadata": {},
   "outputs": [
    {
     "data": {
      "text/html": [
       "<div>\n",
       "<style scoped>\n",
       "    .dataframe tbody tr th:only-of-type {\n",
       "        vertical-align: middle;\n",
       "    }\n",
       "\n",
       "    .dataframe tbody tr th {\n",
       "        vertical-align: top;\n",
       "    }\n",
       "\n",
       "    .dataframe thead th {\n",
       "        text-align: right;\n",
       "    }\n",
       "</style>\n",
       "<table border=\"1\" class=\"dataframe\">\n",
       "  <thead>\n",
       "    <tr style=\"text-align: right;\">\n",
       "      <th></th>\n",
       "      <th>train_acc</th>\n",
       "      <th>test_acc</th>\n",
       "      <th>train_rmse</th>\n",
       "      <th>test_rmse</th>\n",
       "      <th>l1_ratio</th>\n",
       "      <th>fit_intercept</th>\n",
       "      <th>C</th>\n",
       "    </tr>\n",
       "  </thead>\n",
       "  <tbody>\n",
       "    <tr>\n",
       "      <th>mod50</th>\n",
       "      <td>0.650450</td>\n",
       "      <td>0.647948</td>\n",
       "      <td>0.800990</td>\n",
       "      <td>0.802692</td>\n",
       "      <td>0.6</td>\n",
       "      <td>False</td>\n",
       "      <td>0.1</td>\n",
       "    </tr>\n",
       "    <tr>\n",
       "      <th>mod51</th>\n",
       "      <td>0.650423</td>\n",
       "      <td>0.647948</td>\n",
       "      <td>0.801033</td>\n",
       "      <td>0.802692</td>\n",
       "      <td>0.7</td>\n",
       "      <td>False</td>\n",
       "      <td>0.1</td>\n",
       "    </tr>\n",
       "    <tr>\n",
       "      <th>mod52</th>\n",
       "      <td>0.650409</td>\n",
       "      <td>0.647948</td>\n",
       "      <td>0.801176</td>\n",
       "      <td>0.802692</td>\n",
       "      <td>0.8</td>\n",
       "      <td>False</td>\n",
       "      <td>0.1</td>\n",
       "    </tr>\n",
       "  </tbody>\n",
       "</table>\n",
       "</div>"
      ],
      "text/plain": [
       "       train_acc  test_acc  train_rmse  test_rmse  l1_ratio  fit_intercept  \\\n",
       "mod50   0.650450  0.647948    0.800990   0.802692       0.6          False   \n",
       "mod51   0.650423  0.647948    0.801033   0.802692       0.7          False   \n",
       "mod52   0.650409  0.647948    0.801176   0.802692       0.8          False   \n",
       "\n",
       "         C  \n",
       "mod50  0.1  \n",
       "mod51  0.1  \n",
       "mod52  0.1  "
      ]
     },
     "execution_count": 4,
     "metadata": {},
     "output_type": "execute_result"
    }
   ],
   "source": [
    "tab_tuning_simple[tab_tuning_simple.test_acc == tab_tuning_simple.test_acc.max()] "
   ]
  },
  {
   "cell_type": "code",
   "execution_count": 6,
   "metadata": {},
   "outputs": [],
   "source": [
    "tab_tuning_simple.to_csv('output/simple_tuning_params_multiclass.csv')"
   ]
  },
  {
   "cell_type": "markdown",
   "metadata": {},
   "source": [
    "best model from CV"
   ]
  },
  {
   "cell_type": "code",
   "execution_count": 1,
   "metadata": {},
   "outputs": [
    {
     "name": "stdout",
     "output_type": "stream",
     "text": [
      "Computing distance matrix... Fri Oct 16 18:53:52 2020\n",
      "Start CV... Fri Oct 16 19:06:00 2020\n",
      "...END Simple RASAR -- Multiclass Fri Oct 16 19:35:57 2020\n",
      "Accuracy: \t 0.6888915780744206, se: 0.006186046169479121\n",
      "RMSE: \t\t 0.7340410256099156, se: 0.013300828408676144\n",
      "W. Recall: \t 0.6888915780744206, se: 0.006186046169479121\n",
      "W. Precision: \t 0.690326435866571, se: 0.005786091465671904\n"
     ]
    }
   ],
   "source": [
    "from helper_rasar_datafusion_multiclass import *\n",
    "\n",
    "X, _ = load_datafusion_datasets('data/lc_db_processed.csv','data/datafusion_db_processed.csv',\n",
    "                                encoding = 'multiclass', seed = 42)\n",
    "y = X.conc1_mean.copy().values\n",
    "del _\n",
    "\n",
    "cv_simple_rasar_multiclass(X, y, final_model = True)"
   ]
  },
  {
   "cell_type": "code",
   "execution_count": 1,
   "metadata": {},
   "outputs": [
    {
     "name": "stdout",
     "output_type": "stream",
     "text": [
      "Computing distance matrix... Sat Oct 17 13:00:38 2020\n",
      "Start CV... Sat Oct 17 13:13:58 2020\n",
      "...END Simple RASAR -- Multiclass Sat Oct 17 13:54:01 2020\n",
      "Accuracy: \t 0.6897117079808112, se: 0.004954544897662281\n",
      "RMSE: \t\t 0.7360807664134106, se: 0.011193301531053811\n",
      "W. Recall: \t 0.6897117079808112, se: 0.004954544897662281\n",
      "W. Precision: \t 0.691676909075827, se: 0.004490744970359585\n"
     ]
    }
   ],
   "source": [
    "# abbassato la soglia di tol della regression logistica\n",
    "from helper_rasar_datafusion_multiclass import *\n",
    "\n",
    "X, _ = load_datafusion_datasets('data/lc_db_processed.csv','data/datafusion_db_processed.csv',\n",
    "                                encoding = 'multiclass', seed = 42)\n",
    "y = X.conc1_mean.copy().values\n",
    "del _\n",
    "\n",
    "cv_simple_rasar_multiclass(X, y, final_model = True)"
   ]
  }
 ],
 "metadata": {
  "kernelspec": {
   "display_name": "Python 3",
   "language": "python",
   "name": "python3"
  },
  "language_info": {
   "codemirror_mode": {
    "name": "ipython",
    "version": 3
   },
   "file_extension": ".py",
   "mimetype": "text/x-python",
   "name": "python",
   "nbconvert_exporter": "python",
   "pygments_lexer": "ipython3",
   "version": "3.7.7"
  }
 },
 "nbformat": 4,
 "nbformat_minor": 4
}
