{
 "cells": [
  {
   "cell_type": "code",
   "execution_count": 1,
   "metadata": {},
   "outputs": [
    {
     "name": "stdout",
     "output_type": "stream",
     "text": [
      "tests loaded\n",
      "species loaded\n",
      "results loaded\n"
     ]
    }
   ],
   "source": [
    "from main_preprocessing import *\n",
    "\n",
    "path_tests = 'C:/Users/Simone/Desktop/data/tests.txt'\n",
    "path_species = 'C:/Users/Simone/Desktop/data/species.txt'\n",
    "path_results = 'C:/Users/Simone/Desktop/data/results.txt'\n",
    "\n",
    "tests, species, results = load_raw_data(path_tests, path_results, path_species)\n",
    "\n",
    "results.loc[:, 'effect'] = results.effect.apply(lambda x: x.replace('/','') if '/' in x else x)\n",
    "results.loc[:, 'effect'] = results.effect.apply(lambda x: x.replace('~','') if '~' in x else x)\n",
    "results.loc[:, 'endpoint'] = results.endpoint.apply(lambda x: x.replace('/','') if '/' in x else x)\n",
    "results.loc[:, 'endpoint'] = results.endpoint.apply(lambda x: x.replace('*','') if '*' in x else x)"
   ]
  },
  {
   "cell_type": "code",
   "execution_count": 2,
   "metadata": {},
   "outputs": [],
   "source": [
    "# Filtro sugli endpoint \n",
    "# lst = results.endpoint.value_counts()[results.endpoint.value_counts() > 10000].index.tolist()\n",
    "resc = results[results.endpoint.str.contains('C')].copy()\n",
    "# resc = resc[resc.endpoint.isin(lst)]"
   ]
  },
  {
   "cell_type": "code",
   "execution_count": 88,
   "metadata": {},
   "outputs": [],
   "source": [
    "# resc.loc[:, 'effect'] = resc.effect.apply(lambda x: x.replace('/','') if '/' in x else x)\n",
    "# resc.loc[:, 'effect'] = resc.effect.apply(lambda x: x.replace('~','') if '~' in x else x)\n",
    "# resc.loc[:, 'endpoint'] = resc.endpoint.apply(lambda x: x.replace('/','') if '/' in x else x)"
   ]
  },
  {
   "cell_type": "code",
   "execution_count": 7,
   "metadata": {
    "collapsed": true
   },
   "outputs": [
    {
     "data": {
      "text/plain": [
       "LC50     133527\n",
       "NOEC     113939\n",
       "LOEC      87105\n",
       "EC50      50863\n",
       "BCF       20404\n",
       "IC50       6543\n",
       "EC25       6306\n",
       "EC10       5757\n",
       "LC90       4023\n",
       "MATC       3668\n",
       "BCFD       2398\n",
       "LC10       2307\n",
       "EC20       1876\n",
       "LC95       1875\n",
       "LC100      1769\n",
       "IC25       1406\n",
       "LC0        1269\n",
       "EC100      1024\n",
       "EC90        780\n",
       "EC0         680\n",
       "IC20        645\n",
       "IC10        629\n",
       "Name: endpoint, dtype: int64"
      ]
     },
     "execution_count": 7,
     "metadata": {},
     "output_type": "execute_result"
    }
   ],
   "source": [
    "resc.endpoint.value_counts()[resc.endpoint.value_counts() > 500]"
   ]
  },
  {
   "cell_type": "code",
   "execution_count": 5,
   "metadata": {},
   "outputs": [],
   "source": [
    "species = species[~species.ecotox_group.isnull()]\n",
    "species_fish = species[species.ecotox_group.str.contains(\"Fish\")]\n",
    "test_fish = tests.merge(species_fish, on=\"species_number\")\n",
    "results_prefilter = resc.merge(test_fish, on = \"test_id\")"
   ]
  },
  {
   "cell_type": "code",
   "execution_count": 8,
   "metadata": {
    "collapsed": true
   },
   "outputs": [
    {
     "data": {
      "text/plain": [
       "LC50     64791\n",
       "NOEC     56801\n",
       "LOEC     42194\n",
       "BCF       9144\n",
       "EC50      3764\n",
       "MATC      1691\n",
       "LC100      970\n",
       "LC10       927\n",
       "LC0        775\n",
       "Name: endpoint, dtype: int64"
      ]
     },
     "execution_count": 8,
     "metadata": {},
     "output_type": "execute_result"
    }
   ],
   "source": [
    "results_prefilter.endpoint.value_counts()[results_prefilter.endpoint.value_counts() > 500]"
   ]
  },
  {
   "cell_type": "code",
   "execution_count": 10,
   "metadata": {
    "collapsed": true
   },
   "outputs": [
    {
     "data": {
      "text/plain": [
       "endpoint\n",
       "ATCN          4\n",
       "BCF           0\n",
       "BCFD          0\n",
       "BMC02.5       0\n",
       "BMC04         0\n",
       "           ... \n",
       "LC99.9        0\n",
       "LETC          0\n",
       "LOEC       2445\n",
       "MATC        605\n",
       "NOEC       5296\n",
       "Name: GRO, Length: 71, dtype: int64"
      ]
     },
     "execution_count": 10,
     "metadata": {},
     "output_type": "execute_result"
    }
   ],
   "source": [
    "a = pd.crosstab(results_prefilter.effect, results_prefilter.endpoint)\n",
    "a.loc['GRO']"
   ]
  },
  {
   "cell_type": "code",
   "execution_count": null,
   "metadata": {},
   "outputs": [],
   "source": [
    "a.loc['REP']"
   ]
  },
  {
   "cell_type": "code",
   "execution_count": 33,
   "metadata": {
    "collapsed": true
   },
   "outputs": [
    {
     "data": {
      "text/plain": [
       "LC50    64791\n",
       "NOEC    56801\n",
       "LOEC    42194\n",
       "BCF      9144\n",
       "EC50     3764\n",
       "MATC     1691\n",
       "Name: endpoint, dtype: int64"
      ]
     },
     "execution_count": 33,
     "metadata": {},
     "output_type": "execute_result"
    }
   ],
   "source": [
    "results_prefilter.endpoint.value_counts()[results_prefilter.endpoint.value_counts() > 1000]"
   ]
  },
  {
   "cell_type": "code",
   "execution_count": 36,
   "metadata": {
    "collapsed": true
   },
   "outputs": [
    {
     "data": {
      "text/plain": [
       "effect\n",
       "ACC    13127\n",
       "AVO      226\n",
       "BCM    19189\n",
       "BEH     4825\n",
       "CEL     3910\n",
       "DVP     2463\n",
       "ENZ    13305\n",
       "FDB     1186\n",
       "GEN    19539\n",
       "GRO     8831\n",
       "HIS     1893\n",
       "HRM     3554\n",
       "IMM      463\n",
       "INJ      322\n",
       "ITX      414\n",
       "MLT     1160\n",
       "MOR    79617\n",
       "MPH     4066\n",
       "PHY     3614\n",
       "POP      624\n",
       "REP     3682\n",
       "dtype: int64"
      ]
     },
     "execution_count": 36,
     "metadata": {},
     "output_type": "execute_result"
    }
   ],
   "source": [
    "pd.crosstab(results_prefilter.effect, results_prefilter.endpoint).sum(axis = 1)"
   ]
  },
  {
   "cell_type": "code",
   "execution_count": 25,
   "metadata": {},
   "outputs": [
    {
     "data": {
      "text/plain": [
       "Index(['ACC', 'BCM', 'ENZ', 'GEN', 'GRO', 'MOR'], dtype='object', name='effect')"
      ]
     },
     "execution_count": 25,
     "metadata": {},
     "output_type": "execute_result"
    }
   ],
   "source": [
    "a = pd.crosstab(results_prefilter.effect, results_prefilter.endpoint).sum(axis = 1)\n",
    "a[a > 5000].index"
   ]
  },
  {
   "cell_type": "code",
   "execution_count": 36,
   "metadata": {},
   "outputs": [
    {
     "data": {
      "text/plain": [
       "Index(['BCF', 'EC50', 'LC50', 'LOEC', 'MATC', 'NOEC'], dtype='object', name='endpoint')"
      ]
     },
     "execution_count": 36,
     "metadata": {},
     "output_type": "execute_result"
    }
   ],
   "source": [
    "# pd.crosstab(results_prefilter.effect, results_prefilter.endpoint)\n",
    "b = pd.crosstab(results_prefilter.effect, results_prefilter.endpoint).sum(axis = 0)\n",
    "b[b > 1000].index"
   ]
  },
  {
   "cell_type": "code",
   "execution_count": 39,
   "metadata": {},
   "outputs": [
    {
     "data": {
      "text/html": [
       "<div>\n",
       "<style scoped>\n",
       "    .dataframe tbody tr th:only-of-type {\n",
       "        vertical-align: middle;\n",
       "    }\n",
       "\n",
       "    .dataframe tbody tr th {\n",
       "        vertical-align: top;\n",
       "    }\n",
       "\n",
       "    .dataframe thead th {\n",
       "        text-align: right;\n",
       "    }\n",
       "</style>\n",
       "<table border=\"1\" class=\"dataframe\">\n",
       "  <thead>\n",
       "    <tr style=\"text-align: right;\">\n",
       "      <th>endpoint</th>\n",
       "      <th>BCF</th>\n",
       "      <th>EC50</th>\n",
       "      <th>LC0</th>\n",
       "      <th>LC10</th>\n",
       "      <th>LC100</th>\n",
       "      <th>LC50</th>\n",
       "      <th>LOEC</th>\n",
       "      <th>MATC</th>\n",
       "      <th>NOEC</th>\n",
       "    </tr>\n",
       "    <tr>\n",
       "      <th>effect</th>\n",
       "      <th></th>\n",
       "      <th></th>\n",
       "      <th></th>\n",
       "      <th></th>\n",
       "      <th></th>\n",
       "      <th></th>\n",
       "      <th></th>\n",
       "      <th></th>\n",
       "      <th></th>\n",
       "    </tr>\n",
       "  </thead>\n",
       "  <tbody>\n",
       "    <tr>\n",
       "      <th>ACC</th>\n",
       "      <td>9144</td>\n",
       "      <td>3</td>\n",
       "      <td>0</td>\n",
       "      <td>0</td>\n",
       "      <td>0</td>\n",
       "      <td>0</td>\n",
       "      <td>2165</td>\n",
       "      <td>5</td>\n",
       "      <td>1554</td>\n",
       "    </tr>\n",
       "    <tr>\n",
       "      <th>BCM</th>\n",
       "      <td>0</td>\n",
       "      <td>87</td>\n",
       "      <td>0</td>\n",
       "      <td>0</td>\n",
       "      <td>0</td>\n",
       "      <td>1</td>\n",
       "      <td>8698</td>\n",
       "      <td>6</td>\n",
       "      <td>10268</td>\n",
       "    </tr>\n",
       "    <tr>\n",
       "      <th>BEH</th>\n",
       "      <td>0</td>\n",
       "      <td>1010</td>\n",
       "      <td>0</td>\n",
       "      <td>0</td>\n",
       "      <td>0</td>\n",
       "      <td>1</td>\n",
       "      <td>1296</td>\n",
       "      <td>11</td>\n",
       "      <td>2458</td>\n",
       "    </tr>\n",
       "    <tr>\n",
       "      <th>CEL</th>\n",
       "      <td>0</td>\n",
       "      <td>289</td>\n",
       "      <td>0</td>\n",
       "      <td>0</td>\n",
       "      <td>0</td>\n",
       "      <td>10</td>\n",
       "      <td>1450</td>\n",
       "      <td>0</td>\n",
       "      <td>1924</td>\n",
       "    </tr>\n",
       "    <tr>\n",
       "      <th>DVP</th>\n",
       "      <td>0</td>\n",
       "      <td>394</td>\n",
       "      <td>0</td>\n",
       "      <td>0</td>\n",
       "      <td>0</td>\n",
       "      <td>0</td>\n",
       "      <td>732</td>\n",
       "      <td>77</td>\n",
       "      <td>1109</td>\n",
       "    </tr>\n",
       "    <tr>\n",
       "      <th>ENZ</th>\n",
       "      <td>0</td>\n",
       "      <td>78</td>\n",
       "      <td>0</td>\n",
       "      <td>0</td>\n",
       "      <td>0</td>\n",
       "      <td>1</td>\n",
       "      <td>6331</td>\n",
       "      <td>6</td>\n",
       "      <td>6709</td>\n",
       "    </tr>\n",
       "    <tr>\n",
       "      <th>FDB</th>\n",
       "      <td>0</td>\n",
       "      <td>39</td>\n",
       "      <td>0</td>\n",
       "      <td>0</td>\n",
       "      <td>0</td>\n",
       "      <td>0</td>\n",
       "      <td>610</td>\n",
       "      <td>1</td>\n",
       "      <td>521</td>\n",
       "    </tr>\n",
       "    <tr>\n",
       "      <th>GEN</th>\n",
       "      <td>0</td>\n",
       "      <td>31</td>\n",
       "      <td>0</td>\n",
       "      <td>0</td>\n",
       "      <td>0</td>\n",
       "      <td>0</td>\n",
       "      <td>8584</td>\n",
       "      <td>10</td>\n",
       "      <td>10902</td>\n",
       "    </tr>\n",
       "    <tr>\n",
       "      <th>GRO</th>\n",
       "      <td>0</td>\n",
       "      <td>119</td>\n",
       "      <td>0</td>\n",
       "      <td>0</td>\n",
       "      <td>0</td>\n",
       "      <td>0</td>\n",
       "      <td>2445</td>\n",
       "      <td>605</td>\n",
       "      <td>5296</td>\n",
       "    </tr>\n",
       "    <tr>\n",
       "      <th>HIS</th>\n",
       "      <td>0</td>\n",
       "      <td>166</td>\n",
       "      <td>0</td>\n",
       "      <td>0</td>\n",
       "      <td>0</td>\n",
       "      <td>0</td>\n",
       "      <td>830</td>\n",
       "      <td>9</td>\n",
       "      <td>875</td>\n",
       "    </tr>\n",
       "    <tr>\n",
       "      <th>HRM</th>\n",
       "      <td>0</td>\n",
       "      <td>12</td>\n",
       "      <td>0</td>\n",
       "      <td>0</td>\n",
       "      <td>0</td>\n",
       "      <td>0</td>\n",
       "      <td>1347</td>\n",
       "      <td>0</td>\n",
       "      <td>2185</td>\n",
       "    </tr>\n",
       "    <tr>\n",
       "      <th>MLT</th>\n",
       "      <td>0</td>\n",
       "      <td>428</td>\n",
       "      <td>0</td>\n",
       "      <td>0</td>\n",
       "      <td>0</td>\n",
       "      <td>1</td>\n",
       "      <td>132</td>\n",
       "      <td>79</td>\n",
       "      <td>231</td>\n",
       "    </tr>\n",
       "    <tr>\n",
       "      <th>MOR</th>\n",
       "      <td>0</td>\n",
       "      <td>653</td>\n",
       "      <td>775</td>\n",
       "      <td>927</td>\n",
       "      <td>970</td>\n",
       "      <td>64745</td>\n",
       "      <td>2855</td>\n",
       "      <td>746</td>\n",
       "      <td>4962</td>\n",
       "    </tr>\n",
       "    <tr>\n",
       "      <th>MPH</th>\n",
       "      <td>0</td>\n",
       "      <td>38</td>\n",
       "      <td>0</td>\n",
       "      <td>0</td>\n",
       "      <td>0</td>\n",
       "      <td>0</td>\n",
       "      <td>1211</td>\n",
       "      <td>4</td>\n",
       "      <td>2750</td>\n",
       "    </tr>\n",
       "    <tr>\n",
       "      <th>PHY</th>\n",
       "      <td>0</td>\n",
       "      <td>92</td>\n",
       "      <td>0</td>\n",
       "      <td>0</td>\n",
       "      <td>0</td>\n",
       "      <td>0</td>\n",
       "      <td>1522</td>\n",
       "      <td>44</td>\n",
       "      <td>1933</td>\n",
       "    </tr>\n",
       "    <tr>\n",
       "      <th>POP</th>\n",
       "      <td>0</td>\n",
       "      <td>16</td>\n",
       "      <td>0</td>\n",
       "      <td>0</td>\n",
       "      <td>0</td>\n",
       "      <td>0</td>\n",
       "      <td>188</td>\n",
       "      <td>62</td>\n",
       "      <td>241</td>\n",
       "    </tr>\n",
       "    <tr>\n",
       "      <th>REP</th>\n",
       "      <td>0</td>\n",
       "      <td>45</td>\n",
       "      <td>0</td>\n",
       "      <td>0</td>\n",
       "      <td>0</td>\n",
       "      <td>0</td>\n",
       "      <td>1370</td>\n",
       "      <td>21</td>\n",
       "      <td>2239</td>\n",
       "    </tr>\n",
       "  </tbody>\n",
       "</table>\n",
       "</div>"
      ],
      "text/plain": [
       "endpoint   BCF  EC50  LC0  LC10  LC100   LC50  LOEC  MATC   NOEC\n",
       "effect                                                          \n",
       "ACC       9144     3    0     0      0      0  2165     5   1554\n",
       "BCM          0    87    0     0      0      1  8698     6  10268\n",
       "BEH          0  1010    0     0      0      1  1296    11   2458\n",
       "CEL          0   289    0     0      0     10  1450     0   1924\n",
       "DVP          0   394    0     0      0      0   732    77   1109\n",
       "ENZ          0    78    0     0      0      1  6331     6   6709\n",
       "FDB          0    39    0     0      0      0   610     1    521\n",
       "GEN          0    31    0     0      0      0  8584    10  10902\n",
       "GRO          0   119    0     0      0      0  2445   605   5296\n",
       "HIS          0   166    0     0      0      0   830     9    875\n",
       "HRM          0    12    0     0      0      0  1347     0   2185\n",
       "MLT          0   428    0     0      0      1   132    79    231\n",
       "MOR          0   653  775   927    970  64745  2855   746   4962\n",
       "MPH          0    38    0     0      0      0  1211     4   2750\n",
       "PHY          0    92    0     0      0      0  1522    44   1933\n",
       "POP          0    16    0     0      0      0   188    62    241\n",
       "REP          0    45    0     0      0      0  1370    21   2239"
      ]
     },
     "execution_count": 39,
     "metadata": {},
     "output_type": "execute_result"
    }
   ],
   "source": [
    "pd.crosstab(results_prefilter.effect, results_prefilter.endpoint).loc[a[a > 500].index, b[b > 500].index]"
   ]
  },
  {
   "cell_type": "code",
   "execution_count": null,
   "metadata": {},
   "outputs": [],
   "source": []
  }
 ],
 "metadata": {
  "kernelspec": {
   "display_name": "Python 3",
   "language": "python",
   "name": "python3"
  },
  "language_info": {
   "codemirror_mode": {
    "name": "ipython",
    "version": 3
   },
   "file_extension": ".py",
   "mimetype": "text/x-python",
   "name": "python",
   "nbconvert_exporter": "python",
   "pygments_lexer": "ipython3",
   "version": "3.7.7"
  }
 },
 "nbformat": 4,
 "nbformat_minor": 4
}
