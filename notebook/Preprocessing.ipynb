{
 "cells": [
  {
   "cell_type": "code",
   "execution_count": 1,
   "metadata": {},
   "outputs": [
    {
     "name": "stdout",
     "output_type": "stream",
     "text": [
      "Start! Sun Jan 31 20:16:05 2021\n",
      "Loading raw data\n",
      "tests table loaded!\n",
      "species table loaded!\n",
      "results table loaded!\n",
      "Tests table dimensions:  (681605, 122)\n",
      "Species table dimensions:  (27125, 15)\n",
      "Results table dimensions:  (1006972, 137)\n",
      "Prefiltering Step... Sun Jan 31 20:17:47 2021\n",
      "Dimensions after prefiltering step:  (64341, 272)\n",
      "Selection and Imputation Step... Sun Jan 31 20:17:56 2021\n",
      "Features:\n",
      "obs_duration_mean, obs_duration_unit, endpoint, effect, measurement, conc1_type, conc1_mean, conc1_unit, test_cas, test_location, exposure_type, control_type, media_type, application_freq_unit, class, tax_order, family, genus, species, \n",
      "Dimension after imputation step: (50160, 16)\n",
      "Aggregation of repeated experiments Sun Jan 31 20:17:57 2021\n",
      "Dimension after repeated experiments aggregation: (28815, 14)\n",
      "Remark: Stable internet connection required for smiles and pubchem extraction!\n",
      "Smiles extraction... Sun Jan 31 20:17:57 2021\n",
      "Pubchem2d extraction... Sun Jan 31 20:45:33 2021\n",
      "Molecular Descriptors extraction... Sun Jan 31 21:44:35 2021\n",
      "Finding atom number...\n",
      "Finding number of alone atoms...\n",
      "Finding single bounds number...\n",
      "Finding double bounds number...\n",
      "Finding triple bounds number...\n",
      "Finding ring number...\n",
      "Finding Molecular Weight...\n",
      "Finding morgan density...\n",
      "Finding partition number (LogP)...\n",
      "Finding number of OH group...\n",
      "Finding Melting Point and Water Solubility using CompTox Database...\n",
      "Loading and merging CompTox Database... Sun Jan 31 21:44:39 2021\n",
      "End Molecular Descriptors extraction! Sun Jan 31 21:51:06 2021\n",
      "Cleaning Chemical data... Sun Jan 31 21:51:06 2021\n",
      "The extracted chemicals are: 2199\n",
      "Merging chemical descriptors with experiments\n",
      "Dimension of final dataset: 20128 experiments and 28 features\n",
      "Final features: ['test_cas', 'obs_duration_mean', 'conc1_type', 'fish', 'exposure_type', 'control_type', 'media_type', 'application_freq_unit', 'conc1_mean', 'class', 'tax_order', 'family', 'genus', 'species', 'smiles', 'pubchem2d', 'atom_number', 'alone_atom_number', 'bonds_number', 'doubleBond', 'tripleBond', 'ring_number', 'Mol', 'MorganDensity', 'LogP', 'oh_count', 'MeltingPoint', 'WaterSolubility']\n"
     ]
    }
   ],
   "source": [
    "from helper_preprocessing import *\n",
    "\n",
    "path_tests = 'C:/Users/Simone/Desktop/Utilità tesi magistrale/data/tests.txt'\n",
    "path_species = 'C:/Users/Simone/Desktop/Utilità tesi magistrale/data/species.txt'\n",
    "path_results = 'C:/Users/Simone/Desktop/Utilità tesi magistrale/data/results.txt'\n",
    "\n",
    "\n",
    "tests, species, results = load_raw_data(path_tests, path_results, path_species)\n",
    "\n",
    "prefiltered_data = prefilter(species, tests, results)\n",
    "\n",
    "del tests, species, results\n",
    "\n",
    "db = select_impute_features(prefiltered_data)\n",
    "db = repeated_experiments(db)\n",
    "db['test_cas'] = db.test_cas.apply(to_cas)\n",
    "\n",
    "db.to_csv('repeated_experiments.csv')\n",
    "\n",
    "chemicals = extract_chemical_data(db)\n",
    "\n",
    "print('Cleaning Chemical data...', ctime())\n",
    "chemicals = process_smiles_features(chemicals)\n",
    "\n",
    "print('The extracted chemicals are:', chemicals.shape[0])\n",
    "\n",
    "chemicals.to_csv('chemicals.csv')\n",
    "\n",
    "print('Merging chemical descriptors with experiments')\n",
    "final_db = db.merge(chemicals, right_on = 'test_cas', left_on = 'test_cas')\n",
    "\n",
    "print('Dimension of final dataset:', final_db.shape[0], 'experiments and', final_db.shape[1], 'features')\n",
    "print('Final features:', [i for i in final_db.columns])\n",
    "\n",
    "final_db.to_csv('lc_db_processed.csv')"
   ]
  }
 ],
 "metadata": {
  "kernelspec": {
   "display_name": "Python 3",
   "language": "python",
   "name": "python3"
  },
  "language_info": {
   "codemirror_mode": {
    "name": "ipython",
    "version": 3
   },
   "file_extension": ".py",
   "mimetype": "text/x-python",
   "name": "python",
   "nbconvert_exporter": "python",
   "pygments_lexer": "ipython3",
   "version": "3.7.7"
  }
 },
 "nbformat": 4,
 "nbformat_minor": 4
}
