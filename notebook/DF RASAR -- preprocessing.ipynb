{
 "cells": [
  {
   "cell_type": "code",
   "execution_count": 1,
   "metadata": {},
   "outputs": [
    {
     "name": "stdout",
     "output_type": "stream",
     "text": [
      "tests loaded\n",
      "species loaded\n",
      "results loaded\n",
      "Remark: Stable internet connection required for smiles and pubchem extraction!\n",
      "Smiles extraction... Fri Feb 19 15:41:04 2021\n",
      "Pubchem2d extraction... Fri Feb 19 15:43:00 2021\n",
      "Molecular Descriptors extraction... Fri Feb 19 15:46:51 2021\n",
      "Finding atom number...\n",
      "Finding number of alone atoms...\n",
      "Finding single bounds number...\n",
      "Finding double bounds number...\n",
      "Finding triple bounds number...\n",
      "Finding ring number...\n",
      "Finding Molecular Weight...\n",
      "Finding morgan density...\n",
      "Finding partition number (LogP)...\n",
      "Finding number of OH group...\n",
      "Finding Melting Point and Water Solubility using CompTox Database...\n",
      "Loading and merging CompTox Database... Fri Feb 19 15:46:51 2021\n",
      "End Molecular Descriptors extraction! Fri Feb 19 15:53:22 2021\n"
     ]
    }
   ],
   "source": [
    "from main_preprocessing_datafusion import *\n",
    "\n",
    "path_tests = 'C:/Users/Simone/Desktop/Utilità tesi magistrale/data/tests.txt'\n",
    "path_species = 'C:/Users/Simone/Desktop/Utilità tesi magistrale/data/species.txt'\n",
    "path_results = 'C:/Users/Simone/Desktop/Utilità tesi magistrale/data/results.txt'\n",
    "\n",
    "db_datafusion = load_process_data_datafusion(path_tests, path_results, path_species)"
   ]
  }
 ],
 "metadata": {
  "kernelspec": {
   "display_name": "Python 3",
   "language": "python",
   "name": "python3"
  },
  "language_info": {
   "codemirror_mode": {
    "name": "ipython",
    "version": 3
   },
   "file_extension": ".py",
   "mimetype": "text/x-python",
   "name": "python",
   "nbconvert_exporter": "python",
   "pygments_lexer": "ipython3",
   "version": "3.7.7"
  },
  "require": {
   "paths": {
    "buttons.colvis": "https://cdn.datatables.net/buttons/1.5.6/js/buttons.colVis.min",
    "buttons.flash": "https://cdn.datatables.net/buttons/1.5.6/js/buttons.flash.min",
    "buttons.html5": "https://cdn.datatables.net/buttons/1.5.6/js/buttons.html5.min",
    "buttons.print": "https://cdn.datatables.net/buttons/1.5.6/js/buttons.print.min",
    "chartjs": "https://cdnjs.cloudflare.com/ajax/libs/Chart.js/2.8.0/Chart",
    "d3": "https://d3js.org/d3.v5.min",
    "d3-array": "https://d3js.org/d3-array.v2.min",
    "datatables.net": "https://cdn.datatables.net/1.10.18/js/jquery.dataTables",
    "datatables.net-buttons": "https://cdn.datatables.net/buttons/1.5.6/js/dataTables.buttons.min",
    "datatables.responsive": "https://cdn.datatables.net/responsive/2.2.2/js/dataTables.responsive.min",
    "datatables.scroller": "https://cdn.datatables.net/scroller/2.0.0/js/dataTables.scroller.min",
    "datatables.select": "https://cdn.datatables.net/select/1.3.0/js/dataTables.select.min",
    "jszip": "https://cdnjs.cloudflare.com/ajax/libs/jszip/2.5.0/jszip.min",
    "moment": "https://cdnjs.cloudflare.com/ajax/libs/moment.js/2.8.0/moment",
    "pdfmake": "https://cdnjs.cloudflare.com/ajax/libs/pdfmake/0.1.36/pdfmake.min",
    "vfsfonts": "https://cdnjs.cloudflare.com/ajax/libs/pdfmake/0.1.36/vfs_fonts"
   },
   "shim": {
    "buttons.colvis": {
     "deps": [
      "jszip",
      "datatables.net-buttons"
     ]
    },
    "buttons.flash": {
     "deps": [
      "jszip",
      "datatables.net-buttons"
     ]
    },
    "buttons.html5": {
     "deps": [
      "jszip",
      "datatables.net-buttons"
     ]
    },
    "buttons.print": {
     "deps": [
      "jszip",
      "datatables.net-buttons"
     ]
    },
    "chartjs": {
     "deps": [
      "moment"
     ]
    },
    "datatables.net": {
     "exports": "$.fn.dataTable"
    },
    "datatables.net-buttons": {
     "deps": [
      "datatables.net"
     ]
    },
    "pdfmake": {
     "deps": [
      "datatables.net"
     ]
    },
    "vfsfonts": {
     "deps": [
      "datatables.net"
     ]
    }
   }
  }
 },
 "nbformat": 4,
 "nbformat_minor": 4
}
