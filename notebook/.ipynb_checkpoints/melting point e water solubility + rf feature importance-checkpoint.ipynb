{
 "cells": [
  {
   "cell_type": "code",
   "execution_count": 1,
   "metadata": {},
   "outputs": [],
   "source": [
    "import pandas as pd\n",
    "import numpy as np\n",
    "from time import ctime\n",
    "\n",
    "chemicals = pd.read_csv('chemicals_clean.csv').drop(columns = 'Unnamed: 0')"
   ]
  },
  {
   "cell_type": "code",
   "execution_count": 2,
   "metadata": {
    "collapsed": true
   },
   "outputs": [
    {
     "ename": "ValueError",
     "evalue": "Usecols do not match columns, columns expected but not found: ['Substance_SMILES']",
     "output_type": "error",
     "traceback": [
      "\u001b[1;31m---------------------------------------------------------------------------\u001b[0m",
      "\u001b[1;31mValueError\u001b[0m                                Traceback (most recent call last)",
      "\u001b[1;32m~\\Anaconda3\\lib\\site-packages\\pandas\\io\\parsers.py\u001b[0m in \u001b[0;36m_handle_usecols\u001b[1;34m(self, columns, usecols_key)\u001b[0m\n\u001b[0;32m   2836\u001b[0m                         \u001b[1;32mtry\u001b[0m\u001b[1;33m:\u001b[0m\u001b[1;33m\u001b[0m\u001b[1;33m\u001b[0m\u001b[0m\n\u001b[1;32m-> 2837\u001b[1;33m                             \u001b[0mcol_indices\u001b[0m\u001b[1;33m.\u001b[0m\u001b[0mappend\u001b[0m\u001b[1;33m(\u001b[0m\u001b[0musecols_key\u001b[0m\u001b[1;33m.\u001b[0m\u001b[0mindex\u001b[0m\u001b[1;33m(\u001b[0m\u001b[0mcol\u001b[0m\u001b[1;33m)\u001b[0m\u001b[1;33m)\u001b[0m\u001b[1;33m\u001b[0m\u001b[1;33m\u001b[0m\u001b[0m\n\u001b[0m\u001b[0;32m   2838\u001b[0m                         \u001b[1;32mexcept\u001b[0m \u001b[0mValueError\u001b[0m\u001b[1;33m:\u001b[0m\u001b[1;33m\u001b[0m\u001b[1;33m\u001b[0m\u001b[0m\n",
      "\u001b[1;31mValueError\u001b[0m: 'Substance_SMILES' is not in list",
      "\nDuring handling of the above exception, another exception occurred:\n",
      "\u001b[1;31mValueError\u001b[0m                                Traceback (most recent call last)",
      "\u001b[1;32m<ipython-input-2-006096df36ab>\u001b[0m in \u001b[0;36m<module>\u001b[1;34m\u001b[0m\n\u001b[0;32m      1\u001b[0m properties = pd.concat([pd.read_excel(open(\"C:/Users/Simone/Desktop/Utilità Tesi Magistrale/data/DSSToxQueryWPred1.xlsx\", 'rb'),\n\u001b[1;32m----> 2\u001b[1;33m                   usecols =  ['Substance_CASRN', 'Substance_SMILES', 'NCCT_MP', 'NCCT_WS'], engine = 'openpyxl'),\n\u001b[0m\u001b[0;32m      3\u001b[0m                   pd.read_excel(open(\"C:/Users/Simone/Desktop/Utilità Tesi Magistrale/data/DSSToxQueryWPred2.xlsx\", 'rb'),\n\u001b[0;32m      4\u001b[0m                   usecols =  ['Substance_CASRN', 'Substance_SMILES', 'NCCT_MP', 'NCCT_WS'], engine = 'openpyxl'),\n\u001b[0;32m      5\u001b[0m                   pd.read_excel(open(\"C:/Users/Simone/Desktop/Utilità Tesi Magistrale/data/DSSToxQueryWPred3.xlsx\", 'rb'),\n",
      "\u001b[1;32m~\\Anaconda3\\lib\\site-packages\\pandas\\util\\_decorators.py\u001b[0m in \u001b[0;36mwrapper\u001b[1;34m(*args, **kwargs)\u001b[0m\n\u001b[0;32m    294\u001b[0m                 )\n\u001b[0;32m    295\u001b[0m                 \u001b[0mwarnings\u001b[0m\u001b[1;33m.\u001b[0m\u001b[0mwarn\u001b[0m\u001b[1;33m(\u001b[0m\u001b[0mmsg\u001b[0m\u001b[1;33m,\u001b[0m \u001b[0mFutureWarning\u001b[0m\u001b[1;33m,\u001b[0m \u001b[0mstacklevel\u001b[0m\u001b[1;33m=\u001b[0m\u001b[0mstacklevel\u001b[0m\u001b[1;33m)\u001b[0m\u001b[1;33m\u001b[0m\u001b[1;33m\u001b[0m\u001b[0m\n\u001b[1;32m--> 296\u001b[1;33m             \u001b[1;32mreturn\u001b[0m \u001b[0mfunc\u001b[0m\u001b[1;33m(\u001b[0m\u001b[1;33m*\u001b[0m\u001b[0margs\u001b[0m\u001b[1;33m,\u001b[0m \u001b[1;33m**\u001b[0m\u001b[0mkwargs\u001b[0m\u001b[1;33m)\u001b[0m\u001b[1;33m\u001b[0m\u001b[1;33m\u001b[0m\u001b[0m\n\u001b[0m\u001b[0;32m    297\u001b[0m \u001b[1;33m\u001b[0m\u001b[0m\n\u001b[0;32m    298\u001b[0m         \u001b[1;32mreturn\u001b[0m \u001b[0mwrapper\u001b[0m\u001b[1;33m\u001b[0m\u001b[1;33m\u001b[0m\u001b[0m\n",
      "\u001b[1;32m~\\Anaconda3\\lib\\site-packages\\pandas\\io\\excel\\_base.py\u001b[0m in \u001b[0;36mread_excel\u001b[1;34m(io, sheet_name, header, names, index_col, usecols, squeeze, dtype, engine, converters, true_values, false_values, skiprows, nrows, na_values, keep_default_na, na_filter, verbose, parse_dates, date_parser, thousands, comment, skipfooter, convert_float, mangle_dupe_cols)\u001b[0m\n\u001b[0;32m    332\u001b[0m         \u001b[0mskipfooter\u001b[0m\u001b[1;33m=\u001b[0m\u001b[0mskipfooter\u001b[0m\u001b[1;33m,\u001b[0m\u001b[1;33m\u001b[0m\u001b[1;33m\u001b[0m\u001b[0m\n\u001b[0;32m    333\u001b[0m         \u001b[0mconvert_float\u001b[0m\u001b[1;33m=\u001b[0m\u001b[0mconvert_float\u001b[0m\u001b[1;33m,\u001b[0m\u001b[1;33m\u001b[0m\u001b[1;33m\u001b[0m\u001b[0m\n\u001b[1;32m--> 334\u001b[1;33m         \u001b[0mmangle_dupe_cols\u001b[0m\u001b[1;33m=\u001b[0m\u001b[0mmangle_dupe_cols\u001b[0m\u001b[1;33m,\u001b[0m\u001b[1;33m\u001b[0m\u001b[1;33m\u001b[0m\u001b[0m\n\u001b[0m\u001b[0;32m    335\u001b[0m     )\n\u001b[0;32m    336\u001b[0m \u001b[1;33m\u001b[0m\u001b[0m\n",
      "\u001b[1;32m~\\Anaconda3\\lib\\site-packages\\pandas\\io\\excel\\_base.py\u001b[0m in \u001b[0;36mparse\u001b[1;34m(self, sheet_name, header, names, index_col, usecols, squeeze, converters, true_values, false_values, skiprows, nrows, na_values, parse_dates, date_parser, thousands, comment, skipfooter, convert_float, mangle_dupe_cols, **kwds)\u001b[0m\n\u001b[0;32m    924\u001b[0m             \u001b[0mconvert_float\u001b[0m\u001b[1;33m=\u001b[0m\u001b[0mconvert_float\u001b[0m\u001b[1;33m,\u001b[0m\u001b[1;33m\u001b[0m\u001b[1;33m\u001b[0m\u001b[0m\n\u001b[0;32m    925\u001b[0m             \u001b[0mmangle_dupe_cols\u001b[0m\u001b[1;33m=\u001b[0m\u001b[0mmangle_dupe_cols\u001b[0m\u001b[1;33m,\u001b[0m\u001b[1;33m\u001b[0m\u001b[1;33m\u001b[0m\u001b[0m\n\u001b[1;32m--> 926\u001b[1;33m             \u001b[1;33m**\u001b[0m\u001b[0mkwds\u001b[0m\u001b[1;33m,\u001b[0m\u001b[1;33m\u001b[0m\u001b[1;33m\u001b[0m\u001b[0m\n\u001b[0m\u001b[0;32m    927\u001b[0m         )\n\u001b[0;32m    928\u001b[0m \u001b[1;33m\u001b[0m\u001b[0m\n",
      "\u001b[1;32m~\\Anaconda3\\lib\\site-packages\\pandas\\io\\excel\\_base.py\u001b[0m in \u001b[0;36mparse\u001b[1;34m(self, sheet_name, header, names, index_col, usecols, squeeze, dtype, true_values, false_values, skiprows, nrows, na_values, verbose, parse_dates, date_parser, thousands, comment, skipfooter, convert_float, mangle_dupe_cols, **kwds)\u001b[0m\n\u001b[0;32m    512\u001b[0m                     \u001b[0musecols\u001b[0m\u001b[1;33m=\u001b[0m\u001b[0musecols\u001b[0m\u001b[1;33m,\u001b[0m\u001b[1;33m\u001b[0m\u001b[1;33m\u001b[0m\u001b[0m\n\u001b[0;32m    513\u001b[0m                     \u001b[0mmangle_dupe_cols\u001b[0m\u001b[1;33m=\u001b[0m\u001b[0mmangle_dupe_cols\u001b[0m\u001b[1;33m,\u001b[0m\u001b[1;33m\u001b[0m\u001b[1;33m\u001b[0m\u001b[0m\n\u001b[1;32m--> 514\u001b[1;33m                     \u001b[1;33m**\u001b[0m\u001b[0mkwds\u001b[0m\u001b[1;33m,\u001b[0m\u001b[1;33m\u001b[0m\u001b[1;33m\u001b[0m\u001b[0m\n\u001b[0m\u001b[0;32m    515\u001b[0m                 )\n\u001b[0;32m    516\u001b[0m \u001b[1;33m\u001b[0m\u001b[0m\n",
      "\u001b[1;32m~\\Anaconda3\\lib\\site-packages\\pandas\\io\\parsers.py\u001b[0m in \u001b[0;36mTextParser\u001b[1;34m(*args, **kwds)\u001b[0m\n\u001b[0;32m   2317\u001b[0m     \"\"\"\n\u001b[0;32m   2318\u001b[0m     \u001b[0mkwds\u001b[0m\u001b[1;33m[\u001b[0m\u001b[1;34m\"engine\"\u001b[0m\u001b[1;33m]\u001b[0m \u001b[1;33m=\u001b[0m \u001b[1;34m\"python\"\u001b[0m\u001b[1;33m\u001b[0m\u001b[1;33m\u001b[0m\u001b[0m\n\u001b[1;32m-> 2319\u001b[1;33m     \u001b[1;32mreturn\u001b[0m \u001b[0mTextFileReader\u001b[0m\u001b[1;33m(\u001b[0m\u001b[1;33m*\u001b[0m\u001b[0margs\u001b[0m\u001b[1;33m,\u001b[0m \u001b[1;33m**\u001b[0m\u001b[0mkwds\u001b[0m\u001b[1;33m)\u001b[0m\u001b[1;33m\u001b[0m\u001b[1;33m\u001b[0m\u001b[0m\n\u001b[0m\u001b[0;32m   2320\u001b[0m \u001b[1;33m\u001b[0m\u001b[0m\n\u001b[0;32m   2321\u001b[0m \u001b[1;33m\u001b[0m\u001b[0m\n",
      "\u001b[1;32m~\\Anaconda3\\lib\\site-packages\\pandas\\io\\parsers.py\u001b[0m in \u001b[0;36m__init__\u001b[1;34m(self, f, engine, **kwds)\u001b[0m\n\u001b[0;32m    944\u001b[0m             \u001b[0mself\u001b[0m\u001b[1;33m.\u001b[0m\u001b[0moptions\u001b[0m\u001b[1;33m[\u001b[0m\u001b[1;34m\"has_index_names\"\u001b[0m\u001b[1;33m]\u001b[0m \u001b[1;33m=\u001b[0m \u001b[0mkwds\u001b[0m\u001b[1;33m[\u001b[0m\u001b[1;34m\"has_index_names\"\u001b[0m\u001b[1;33m]\u001b[0m\u001b[1;33m\u001b[0m\u001b[1;33m\u001b[0m\u001b[0m\n\u001b[0;32m    945\u001b[0m \u001b[1;33m\u001b[0m\u001b[0m\n\u001b[1;32m--> 946\u001b[1;33m         \u001b[0mself\u001b[0m\u001b[1;33m.\u001b[0m\u001b[0m_make_engine\u001b[0m\u001b[1;33m(\u001b[0m\u001b[0mself\u001b[0m\u001b[1;33m.\u001b[0m\u001b[0mengine\u001b[0m\u001b[1;33m)\u001b[0m\u001b[1;33m\u001b[0m\u001b[1;33m\u001b[0m\u001b[0m\n\u001b[0m\u001b[0;32m    947\u001b[0m \u001b[1;33m\u001b[0m\u001b[0m\n\u001b[0;32m    948\u001b[0m     \u001b[1;32mdef\u001b[0m \u001b[0mclose\u001b[0m\u001b[1;33m(\u001b[0m\u001b[0mself\u001b[0m\u001b[1;33m)\u001b[0m\u001b[1;33m:\u001b[0m\u001b[1;33m\u001b[0m\u001b[1;33m\u001b[0m\u001b[0m\n",
      "\u001b[1;32m~\\Anaconda3\\lib\\site-packages\\pandas\\io\\parsers.py\u001b[0m in \u001b[0;36m_make_engine\u001b[1;34m(self, engine)\u001b[0m\n\u001b[0;32m   1187\u001b[0m                     \u001b[1;34m'are \"c\", \"python\", or \"python-fwf\")'\u001b[0m\u001b[1;33m\u001b[0m\u001b[1;33m\u001b[0m\u001b[0m\n\u001b[0;32m   1188\u001b[0m                 )\n\u001b[1;32m-> 1189\u001b[1;33m             \u001b[0mself\u001b[0m\u001b[1;33m.\u001b[0m\u001b[0m_engine\u001b[0m \u001b[1;33m=\u001b[0m \u001b[0mklass\u001b[0m\u001b[1;33m(\u001b[0m\u001b[0mself\u001b[0m\u001b[1;33m.\u001b[0m\u001b[0mf\u001b[0m\u001b[1;33m,\u001b[0m \u001b[1;33m**\u001b[0m\u001b[0mself\u001b[0m\u001b[1;33m.\u001b[0m\u001b[0moptions\u001b[0m\u001b[1;33m)\u001b[0m\u001b[1;33m\u001b[0m\u001b[1;33m\u001b[0m\u001b[0m\n\u001b[0m\u001b[0;32m   1190\u001b[0m \u001b[1;33m\u001b[0m\u001b[0m\n\u001b[0;32m   1191\u001b[0m     \u001b[1;32mdef\u001b[0m \u001b[0m_failover_to_python\u001b[0m\u001b[1;33m(\u001b[0m\u001b[0mself\u001b[0m\u001b[1;33m)\u001b[0m\u001b[1;33m:\u001b[0m\u001b[1;33m\u001b[0m\u001b[1;33m\u001b[0m\u001b[0m\n",
      "\u001b[1;32m~\\Anaconda3\\lib\\site-packages\\pandas\\io\\parsers.py\u001b[0m in \u001b[0;36m__init__\u001b[1;34m(self, f, **kwds)\u001b[0m\n\u001b[0;32m   2403\u001b[0m                 \u001b[0mself\u001b[0m\u001b[1;33m.\u001b[0m\u001b[0mnum_original_columns\u001b[0m\u001b[1;33m,\u001b[0m\u001b[1;33m\u001b[0m\u001b[1;33m\u001b[0m\u001b[0m\n\u001b[0;32m   2404\u001b[0m                 \u001b[0mself\u001b[0m\u001b[1;33m.\u001b[0m\u001b[0munnamed_cols\u001b[0m\u001b[1;33m,\u001b[0m\u001b[1;33m\u001b[0m\u001b[1;33m\u001b[0m\u001b[0m\n\u001b[1;32m-> 2405\u001b[1;33m             ) = self._infer_columns()\n\u001b[0m\u001b[0;32m   2406\u001b[0m         \u001b[1;32mexcept\u001b[0m \u001b[1;33m(\u001b[0m\u001b[0mTypeError\u001b[0m\u001b[1;33m,\u001b[0m \u001b[0mValueError\u001b[0m\u001b[1;33m)\u001b[0m\u001b[1;33m:\u001b[0m\u001b[1;33m\u001b[0m\u001b[1;33m\u001b[0m\u001b[0m\n\u001b[0;32m   2407\u001b[0m             \u001b[0mself\u001b[0m\u001b[1;33m.\u001b[0m\u001b[0mclose\u001b[0m\u001b[1;33m(\u001b[0m\u001b[1;33m)\u001b[0m\u001b[1;33m\u001b[0m\u001b[1;33m\u001b[0m\u001b[0m\n",
      "\u001b[1;32m~\\Anaconda3\\lib\\site-packages\\pandas\\io\\parsers.py\u001b[0m in \u001b[0;36m_infer_columns\u001b[1;34m(self)\u001b[0m\n\u001b[0;32m   2779\u001b[0m                 \u001b[0mcolumns\u001b[0m \u001b[1;33m=\u001b[0m \u001b[1;33m[\u001b[0m\u001b[0mnames\u001b[0m\u001b[1;33m]\u001b[0m\u001b[1;33m\u001b[0m\u001b[1;33m\u001b[0m\u001b[0m\n\u001b[0;32m   2780\u001b[0m             \u001b[1;32melse\u001b[0m\u001b[1;33m:\u001b[0m\u001b[1;33m\u001b[0m\u001b[1;33m\u001b[0m\u001b[0m\n\u001b[1;32m-> 2781\u001b[1;33m                 \u001b[0mcolumns\u001b[0m \u001b[1;33m=\u001b[0m \u001b[0mself\u001b[0m\u001b[1;33m.\u001b[0m\u001b[0m_handle_usecols\u001b[0m\u001b[1;33m(\u001b[0m\u001b[0mcolumns\u001b[0m\u001b[1;33m,\u001b[0m \u001b[0mcolumns\u001b[0m\u001b[1;33m[\u001b[0m\u001b[1;36m0\u001b[0m\u001b[1;33m]\u001b[0m\u001b[1;33m)\u001b[0m\u001b[1;33m\u001b[0m\u001b[1;33m\u001b[0m\u001b[0m\n\u001b[0m\u001b[0;32m   2782\u001b[0m         \u001b[1;32melse\u001b[0m\u001b[1;33m:\u001b[0m\u001b[1;33m\u001b[0m\u001b[1;33m\u001b[0m\u001b[0m\n\u001b[0;32m   2783\u001b[0m             \u001b[1;32mtry\u001b[0m\u001b[1;33m:\u001b[0m\u001b[1;33m\u001b[0m\u001b[1;33m\u001b[0m\u001b[0m\n",
      "\u001b[1;32m~\\Anaconda3\\lib\\site-packages\\pandas\\io\\parsers.py\u001b[0m in \u001b[0;36m_handle_usecols\u001b[1;34m(self, columns, usecols_key)\u001b[0m\n\u001b[0;32m   2837\u001b[0m                             \u001b[0mcol_indices\u001b[0m\u001b[1;33m.\u001b[0m\u001b[0mappend\u001b[0m\u001b[1;33m(\u001b[0m\u001b[0musecols_key\u001b[0m\u001b[1;33m.\u001b[0m\u001b[0mindex\u001b[0m\u001b[1;33m(\u001b[0m\u001b[0mcol\u001b[0m\u001b[1;33m)\u001b[0m\u001b[1;33m)\u001b[0m\u001b[1;33m\u001b[0m\u001b[1;33m\u001b[0m\u001b[0m\n\u001b[0;32m   2838\u001b[0m                         \u001b[1;32mexcept\u001b[0m \u001b[0mValueError\u001b[0m\u001b[1;33m:\u001b[0m\u001b[1;33m\u001b[0m\u001b[1;33m\u001b[0m\u001b[0m\n\u001b[1;32m-> 2839\u001b[1;33m                             \u001b[0m_validate_usecols_names\u001b[0m\u001b[1;33m(\u001b[0m\u001b[0mself\u001b[0m\u001b[1;33m.\u001b[0m\u001b[0musecols\u001b[0m\u001b[1;33m,\u001b[0m \u001b[0musecols_key\u001b[0m\u001b[1;33m)\u001b[0m\u001b[1;33m\u001b[0m\u001b[1;33m\u001b[0m\u001b[0m\n\u001b[0m\u001b[0;32m   2840\u001b[0m                     \u001b[1;32melse\u001b[0m\u001b[1;33m:\u001b[0m\u001b[1;33m\u001b[0m\u001b[1;33m\u001b[0m\u001b[0m\n\u001b[0;32m   2841\u001b[0m                         \u001b[0mcol_indices\u001b[0m\u001b[1;33m.\u001b[0m\u001b[0mappend\u001b[0m\u001b[1;33m(\u001b[0m\u001b[0mcol\u001b[0m\u001b[1;33m)\u001b[0m\u001b[1;33m\u001b[0m\u001b[1;33m\u001b[0m\u001b[0m\n",
      "\u001b[1;32m~\\Anaconda3\\lib\\site-packages\\pandas\\io\\parsers.py\u001b[0m in \u001b[0;36m_validate_usecols_names\u001b[1;34m(usecols, names)\u001b[0m\n\u001b[0;32m   1301\u001b[0m     \u001b[1;32mif\u001b[0m \u001b[0mlen\u001b[0m\u001b[1;33m(\u001b[0m\u001b[0mmissing\u001b[0m\u001b[1;33m)\u001b[0m \u001b[1;33m>\u001b[0m \u001b[1;36m0\u001b[0m\u001b[1;33m:\u001b[0m\u001b[1;33m\u001b[0m\u001b[1;33m\u001b[0m\u001b[0m\n\u001b[0;32m   1302\u001b[0m         raise ValueError(\n\u001b[1;32m-> 1303\u001b[1;33m             \u001b[1;34mf\"Usecols do not match columns, columns expected but not found: {missing}\"\u001b[0m\u001b[1;33m\u001b[0m\u001b[1;33m\u001b[0m\u001b[0m\n\u001b[0m\u001b[0;32m   1304\u001b[0m         )\n\u001b[0;32m   1305\u001b[0m \u001b[1;33m\u001b[0m\u001b[0m\n",
      "\u001b[1;31mValueError\u001b[0m: Usecols do not match columns, columns expected but not found: ['Substance_SMILES']"
     ]
    }
   ],
   "source": [
    "properties = pd.concat([pd.read_excel(open(\"C:/Users/Simone/Desktop/Utilità Tesi Magistrale/data/DSSToxQueryWPred1.xlsx\", 'rb'),\n",
    "                  usecols =  ['Substance_CASRN', 'Structure_SMILES', 'NCCT_MP', 'NCCT_WS'], engine = 'openpyxl'),\n",
    "                  pd.read_excel(open(\"C:/Users/Simone/Desktop/Utilità Tesi Magistrale/data/DSSToxQueryWPred2.xlsx\", 'rb'),\n",
    "                  usecols =  ['Substance_CASRN', 'Structure_SMILES', 'NCCT_MP', 'NCCT_WS'], engine = 'openpyxl'),\n",
    "                  pd.read_excel(open(\"C:/Users/Simone/Desktop/Utilità Tesi Magistrale/data/DSSToxQueryWPred3.xlsx\", 'rb'),\n",
    "                  usecols =  ['Substance_CASRN', 'Structure_SMILES', 'NCCT_MP', 'NCCT_WS'], engine = 'openpyxl'),\n",
    "                  pd.read_excel(open(\"C:/Users/Simone/Desktop/Utilità Tesi Magistrale/data/DSSToxQueryWPred4.xlsx\", 'rb'),\n",
    "                  usecols =  ['Substance_CASRN', 'Structure_SMILES', 'NCCT_MP', 'NCCT_WS'], engine = 'openpyxl')], axis = 0)\n",
    "\n",
    "chemicals = chemicals.merge(prop, left_on = 'test_cas', right_on = 'Substance_CASRN')\n",
    "chemicals.drop(index = chemicals[chemicals.isnull().any(axis = 1)].index, inplace = True)\n",
    "chemicals.rename(columns = {'NCCT_MP': 'MeltingPoint', 'NCCT_WS': 'WaterSolubility'}, inplace = True)"
   ]
  },
  {
   "cell_type": "code",
   "execution_count": 75,
   "metadata": {},
   "outputs": [
    {
     "data": {
      "text/plain": [
       "array([[ 1.95994011],\n",
       "       [-0.06652033],\n",
       "       [-2.14864487],\n",
       "       ...,\n",
       "       [-0.80777871],\n",
       "       [-0.21767275],\n",
       "       [ 0.74453621]])"
      ]
     },
     "execution_count": 75,
     "metadata": {},
     "output_type": "execute_result"
    }
   ],
   "source": [
    "from sklearn.preprocessing import PowerTransformer\n",
    "\n",
    "pt = PowerTransformer(method = 'box-cox')\n",
    "\n",
    "pt.fit(chemicals.WaterSolubility.values.reshape(-1, 1))\n",
    "pt.transform(chemicals.WaterSolubility.values.reshape(-1, 1))"
   ]
  },
  {
   "cell_type": "code",
   "execution_count": 84,
   "metadata": {},
   "outputs": [],
   "source": [
    "chemicals[['WaterSolubility']] = pt.transform(chemicals.WaterSolubility.values.reshape(-1, 1)).ravel()"
   ]
  },
  {
   "cell_type": "code",
   "execution_count": 4,
   "metadata": {
    "collapsed": true
   },
   "outputs": [
    {
     "data": {
      "text/html": [
       "<div>\n",
       "<style scoped>\n",
       "    .dataframe tbody tr th:only-of-type {\n",
       "        vertical-align: middle;\n",
       "    }\n",
       "\n",
       "    .dataframe tbody tr th {\n",
       "        vertical-align: top;\n",
       "    }\n",
       "\n",
       "    .dataframe thead th {\n",
       "        text-align: right;\n",
       "    }\n",
       "</style>\n",
       "<table border=\"1\" class=\"dataframe\">\n",
       "  <thead>\n",
       "    <tr style=\"text-align: right;\">\n",
       "      <th></th>\n",
       "      <th>test_cas</th>\n",
       "      <th>smiles</th>\n",
       "      <th>pubchem2d</th>\n",
       "      <th>atom_number</th>\n",
       "      <th>alone_atom_number</th>\n",
       "      <th>bonds_number</th>\n",
       "      <th>doubleBond</th>\n",
       "      <th>tripleBond</th>\n",
       "      <th>ring_number</th>\n",
       "      <th>Mol</th>\n",
       "      <th>MorganDensity</th>\n",
       "      <th>LogP</th>\n",
       "      <th>oh_count</th>\n",
       "    </tr>\n",
       "  </thead>\n",
       "  <tbody>\n",
       "    <tr>\n",
       "      <th>0</th>\n",
       "      <td>50-00-0</td>\n",
       "      <td>C=O</td>\n",
       "      <td>0000000000000000001000000000000000000000000000...</td>\n",
       "      <td>0.217006</td>\n",
       "      <td>0</td>\n",
       "      <td>0.141094</td>\n",
       "      <td>1</td>\n",
       "      <td>0</td>\n",
       "      <td>0</td>\n",
       "      <td>0.219354</td>\n",
       "      <td>1.500000</td>\n",
       "      <td>-0.1849</td>\n",
       "      <td>0</td>\n",
       "    </tr>\n",
       "    <tr>\n",
       "      <th>1</th>\n",
       "      <td>50-06-6</td>\n",
       "      <td>CCC1(C(=O)NC(=O)NC1=O)c2ccccc2</td>\n",
       "      <td>1100000001110011001100000000000000000000000000...</td>\n",
       "      <td>0.490837</td>\n",
       "      <td>0</td>\n",
       "      <td>0.599358</td>\n",
       "      <td>3</td>\n",
       "      <td>0</td>\n",
       "      <td>2</td>\n",
       "      <td>0.610577</td>\n",
       "      <td>1.000000</td>\n",
       "      <td>0.7004</td>\n",
       "      <td>0</td>\n",
       "    </tr>\n",
       "    <tr>\n",
       "      <th>2</th>\n",
       "      <td>50-29-3</td>\n",
       "      <td>Clc1ccc(cc1)C(c2ccc(Cl)cc2)C(Cl)(Cl)Cl</td>\n",
       "      <td>1100000001110000000000000000000000000111000000...</td>\n",
       "      <td>0.410746</td>\n",
       "      <td>0</td>\n",
       "      <td>0.619731</td>\n",
       "      <td>0</td>\n",
       "      <td>0</td>\n",
       "      <td>2</td>\n",
       "      <td>0.692310</td>\n",
       "      <td>0.631579</td>\n",
       "      <td>6.4955</td>\n",
       "      <td>0</td>\n",
       "    </tr>\n",
       "    <tr>\n",
       "      <th>3</th>\n",
       "      <td>50-31-7</td>\n",
       "      <td>OC(=O)c1c(Cl)ccc(Cl)c1Cl</td>\n",
       "      <td>0000000001100000001100000000000000000110000000...</td>\n",
       "      <td>0.384370</td>\n",
       "      <td>0</td>\n",
       "      <td>0.522111</td>\n",
       "      <td>1</td>\n",
       "      <td>0</td>\n",
       "      <td>1</td>\n",
       "      <td>0.604855</td>\n",
       "      <td>1.166667</td>\n",
       "      <td>3.3450</td>\n",
       "      <td>1</td>\n",
       "    </tr>\n",
       "    <tr>\n",
       "      <th>4</th>\n",
       "      <td>51-03-6</td>\n",
       "      <td>CCCCOCCOCCOCc1cc2OCOc2cc1CCC</td>\n",
       "      <td>1110000001111000001110000000000000000000000000...</td>\n",
       "      <td>0.581607</td>\n",
       "      <td>0</td>\n",
       "      <td>0.663205</td>\n",
       "      <td>0</td>\n",
       "      <td>0</td>\n",
       "      <td>2</td>\n",
       "      <td>0.683352</td>\n",
       "      <td>0.791667</td>\n",
       "      <td>3.7177</td>\n",
       "      <td>0</td>\n",
       "    </tr>\n",
       "    <tr>\n",
       "      <th>...</th>\n",
       "      <td>...</td>\n",
       "      <td>...</td>\n",
       "      <td>...</td>\n",
       "      <td>...</td>\n",
       "      <td>...</td>\n",
       "      <td>...</td>\n",
       "      <td>...</td>\n",
       "      <td>...</td>\n",
       "      <td>...</td>\n",
       "      <td>...</td>\n",
       "      <td>...</td>\n",
       "      <td>...</td>\n",
       "      <td>...</td>\n",
       "    </tr>\n",
       "    <tr>\n",
       "      <th>2684</th>\n",
       "      <td>18268-76-3</td>\n",
       "      <td>COc1cc(C=O)c(Cl)cc1O</td>\n",
       "      <td>1000000001110000001100000000000000000100000000...</td>\n",
       "      <td>0.384370</td>\n",
       "      <td>0</td>\n",
       "      <td>0.522111</td>\n",
       "      <td>1</td>\n",
       "      <td>0</td>\n",
       "      <td>1</td>\n",
       "      <td>0.568340</td>\n",
       "      <td>1.583333</td>\n",
       "      <td>1.8667</td>\n",
       "      <td>1</td>\n",
       "    </tr>\n",
       "    <tr>\n",
       "      <th>2685</th>\n",
       "      <td>51312-24-4</td>\n",
       "      <td>[Cl-].[Hg+]</td>\n",
       "      <td>0000000000000000000000000000000000000100000000...</td>\n",
       "      <td>0.217006</td>\n",
       "      <td>2</td>\n",
       "      <td>0.000000</td>\n",
       "      <td>0</td>\n",
       "      <td>0</td>\n",
       "      <td>0</td>\n",
       "      <td>0.613714</td>\n",
       "      <td>1.000000</td>\n",
       "      <td>-2.9985</td>\n",
       "      <td>0</td>\n",
       "    </tr>\n",
       "    <tr>\n",
       "      <th>2686</th>\n",
       "      <td>8015-35-8</td>\n",
       "      <td>OC(=O)COc1ccc(Cl)cc1Cl.OC(=O)COc2cc(Cl)c(Cl)cc2Cl</td>\n",
       "      <td>1100000001111000001110000000000000000111000000...</td>\n",
       "      <td>0.547662</td>\n",
       "      <td>0</td>\n",
       "      <td>0.678290</td>\n",
       "      <td>2</td>\n",
       "      <td>0</td>\n",
       "      <td>2</td>\n",
       "      <td>0.749544</td>\n",
       "      <td>0.703704</td>\n",
       "      <td>5.5670</td>\n",
       "      <td>2</td>\n",
       "    </tr>\n",
       "    <tr>\n",
       "      <th>2687</th>\n",
       "      <td>77458-01-6</td>\n",
       "      <td>CCCS[P](=O)(OCC)Oc1cnn(c1)c2ccc(Cl)cc2</td>\n",
       "      <td>1110000001110011001100000000001001000100000000...</td>\n",
       "      <td>0.490837</td>\n",
       "      <td>1</td>\n",
       "      <td>0.646912</td>\n",
       "      <td>1</td>\n",
       "      <td>0</td>\n",
       "      <td>2</td>\n",
       "      <td>0.695724</td>\n",
       "      <td>1.318182</td>\n",
       "      <td>5.1923</td>\n",
       "      <td>0</td>\n",
       "    </tr>\n",
       "    <tr>\n",
       "      <th>2688</th>\n",
       "      <td>73989-17-0</td>\n",
       "      <td>CO[C@H]1C[C@@H](O[C@@H](C)[C@@H]1O)O[C@H]2[C@H...</td>\n",
       "      <td>1111000001111100001111000000000000000000000000...</td>\n",
       "      <td>0.836351</td>\n",
       "      <td>11</td>\n",
       "      <td>0.849721</td>\n",
       "      <td>5</td>\n",
       "      <td>0</td>\n",
       "      <td>7</td>\n",
       "      <td>0.854406</td>\n",
       "      <td>0.896552</td>\n",
       "      <td>4.1867</td>\n",
       "      <td>3</td>\n",
       "    </tr>\n",
       "  </tbody>\n",
       "</table>\n",
       "<p>2689 rows × 13 columns</p>\n",
       "</div>"
      ],
      "text/plain": [
       "        test_cas                                             smiles  \\\n",
       "0        50-00-0                                                C=O   \n",
       "1        50-06-6                     CCC1(C(=O)NC(=O)NC1=O)c2ccccc2   \n",
       "2        50-29-3             Clc1ccc(cc1)C(c2ccc(Cl)cc2)C(Cl)(Cl)Cl   \n",
       "3        50-31-7                           OC(=O)c1c(Cl)ccc(Cl)c1Cl   \n",
       "4        51-03-6                       CCCCOCCOCCOCc1cc2OCOc2cc1CCC   \n",
       "...          ...                                                ...   \n",
       "2684  18268-76-3                               COc1cc(C=O)c(Cl)cc1O   \n",
       "2685  51312-24-4                                        [Cl-].[Hg+]   \n",
       "2686   8015-35-8  OC(=O)COc1ccc(Cl)cc1Cl.OC(=O)COc2cc(Cl)c(Cl)cc2Cl   \n",
       "2687  77458-01-6             CCCS[P](=O)(OCC)Oc1cnn(c1)c2ccc(Cl)cc2   \n",
       "2688  73989-17-0  CO[C@H]1C[C@@H](O[C@@H](C)[C@@H]1O)O[C@H]2[C@H...   \n",
       "\n",
       "                                              pubchem2d  atom_number  \\\n",
       "0     0000000000000000001000000000000000000000000000...     0.217006   \n",
       "1     1100000001110011001100000000000000000000000000...     0.490837   \n",
       "2     1100000001110000000000000000000000000111000000...     0.410746   \n",
       "3     0000000001100000001100000000000000000110000000...     0.384370   \n",
       "4     1110000001111000001110000000000000000000000000...     0.581607   \n",
       "...                                                 ...          ...   \n",
       "2684  1000000001110000001100000000000000000100000000...     0.384370   \n",
       "2685  0000000000000000000000000000000000000100000000...     0.217006   \n",
       "2686  1100000001111000001110000000000000000111000000...     0.547662   \n",
       "2687  1110000001110011001100000000001001000100000000...     0.490837   \n",
       "2688  1111000001111100001111000000000000000000000000...     0.836351   \n",
       "\n",
       "      alone_atom_number  bonds_number  doubleBond  tripleBond  ring_number  \\\n",
       "0                     0      0.141094           1           0            0   \n",
       "1                     0      0.599358           3           0            2   \n",
       "2                     0      0.619731           0           0            2   \n",
       "3                     0      0.522111           1           0            1   \n",
       "4                     0      0.663205           0           0            2   \n",
       "...                 ...           ...         ...         ...          ...   \n",
       "2684                  0      0.522111           1           0            1   \n",
       "2685                  2      0.000000           0           0            0   \n",
       "2686                  0      0.678290           2           0            2   \n",
       "2687                  1      0.646912           1           0            2   \n",
       "2688                 11      0.849721           5           0            7   \n",
       "\n",
       "           Mol  MorganDensity    LogP  oh_count  \n",
       "0     0.219354       1.500000 -0.1849         0  \n",
       "1     0.610577       1.000000  0.7004         0  \n",
       "2     0.692310       0.631579  6.4955         0  \n",
       "3     0.604855       1.166667  3.3450         1  \n",
       "4     0.683352       0.791667  3.7177         0  \n",
       "...        ...            ...     ...       ...  \n",
       "2684  0.568340       1.583333  1.8667         1  \n",
       "2685  0.613714       1.000000 -2.9985         0  \n",
       "2686  0.749544       0.703704  5.5670         2  \n",
       "2687  0.695724       1.318182  5.1923         0  \n",
       "2688  0.854406       0.896552  4.1867         3  \n",
       "\n",
       "[2689 rows x 13 columns]"
      ]
     },
     "execution_count": 4,
     "metadata": {},
     "output_type": "execute_result"
    }
   ],
   "source": [
    "chemicals"
   ]
  },
  {
   "cell_type": "code",
   "execution_count": 4,
   "metadata": {
    "collapsed": true
   },
   "outputs": [
    {
     "data": {
      "text/html": [
       "<div>\n",
       "<style scoped>\n",
       "    .dataframe tbody tr th:only-of-type {\n",
       "        vertical-align: middle;\n",
       "    }\n",
       "\n",
       "    .dataframe tbody tr th {\n",
       "        vertical-align: top;\n",
       "    }\n",
       "\n",
       "    .dataframe thead th {\n",
       "        text-align: right;\n",
       "    }\n",
       "</style>\n",
       "<table border=\"1\" class=\"dataframe\">\n",
       "  <thead>\n",
       "    <tr style=\"text-align: right;\">\n",
       "      <th></th>\n",
       "      <th>test_cas</th>\n",
       "      <th>obs_duration_mean</th>\n",
       "      <th>conc1_type</th>\n",
       "      <th>fish</th>\n",
       "      <th>exposure_type</th>\n",
       "      <th>control_type</th>\n",
       "      <th>media_type</th>\n",
       "      <th>application_freq_unit</th>\n",
       "      <th>conc1_mean</th>\n",
       "      <th>class</th>\n",
       "      <th>tax_order</th>\n",
       "      <th>family</th>\n",
       "      <th>genus</th>\n",
       "      <th>species</th>\n",
       "    </tr>\n",
       "  </thead>\n",
       "  <tbody>\n",
       "    <tr>\n",
       "      <th>0</th>\n",
       "      <td>50-00-0</td>\n",
       "      <td>24.0</td>\n",
       "      <td>A</td>\n",
       "      <td>Actinopterygii Cypriniformes Cyprinidae Pimeph...</td>\n",
       "      <td>F</td>\n",
       "      <td>C</td>\n",
       "      <td>FW</td>\n",
       "      <td>CON</td>\n",
       "      <td>42.500</td>\n",
       "      <td>Actinopterygii</td>\n",
       "      <td>Cypriniformes</td>\n",
       "      <td>Cyprinidae</td>\n",
       "      <td>Pimephales</td>\n",
       "      <td>promelas</td>\n",
       "    </tr>\n",
       "    <tr>\n",
       "      <th>1</th>\n",
       "      <td>50-00-0</td>\n",
       "      <td>48.0</td>\n",
       "      <td>A</td>\n",
       "      <td>Actinopterygii Cypriniformes Cyprinidae Pimeph...</td>\n",
       "      <td>F</td>\n",
       "      <td>C</td>\n",
       "      <td>FW</td>\n",
       "      <td>CON</td>\n",
       "      <td>27.500</td>\n",
       "      <td>Actinopterygii</td>\n",
       "      <td>Cypriniformes</td>\n",
       "      <td>Cyprinidae</td>\n",
       "      <td>Pimephales</td>\n",
       "      <td>promelas</td>\n",
       "    </tr>\n",
       "    <tr>\n",
       "      <th>2</th>\n",
       "      <td>50-00-0</td>\n",
       "      <td>96.0</td>\n",
       "      <td>A</td>\n",
       "      <td>Actinopterygii Cypriniformes Cyprinidae Pimeph...</td>\n",
       "      <td>F</td>\n",
       "      <td>C</td>\n",
       "      <td>FW</td>\n",
       "      <td>CON</td>\n",
       "      <td>24.300</td>\n",
       "      <td>Actinopterygii</td>\n",
       "      <td>Cypriniformes</td>\n",
       "      <td>Cyprinidae</td>\n",
       "      <td>Pimephales</td>\n",
       "      <td>promelas</td>\n",
       "    </tr>\n",
       "    <tr>\n",
       "      <th>3</th>\n",
       "      <td>50-00-0</td>\n",
       "      <td>96.0</td>\n",
       "      <td>A</td>\n",
       "      <td>Actinopterygii Cypriniformes Cyprinidae Pimeph...</td>\n",
       "      <td>S</td>\n",
       "      <td>C</td>\n",
       "      <td>FW</td>\n",
       "      <td>X</td>\n",
       "      <td>26.300</td>\n",
       "      <td>Actinopterygii</td>\n",
       "      <td>Cypriniformes</td>\n",
       "      <td>Cyprinidae</td>\n",
       "      <td>Pimephales</td>\n",
       "      <td>promelas</td>\n",
       "    </tr>\n",
       "    <tr>\n",
       "      <th>4</th>\n",
       "      <td>50-06-6</td>\n",
       "      <td>96.0</td>\n",
       "      <td>A</td>\n",
       "      <td>Actinopterygii Cypriniformes Cyprinidae Pimeph...</td>\n",
       "      <td>F</td>\n",
       "      <td>S</td>\n",
       "      <td>FW</td>\n",
       "      <td>CON</td>\n",
       "      <td>484.000</td>\n",
       "      <td>Actinopterygii</td>\n",
       "      <td>Cypriniformes</td>\n",
       "      <td>Cyprinidae</td>\n",
       "      <td>Pimephales</td>\n",
       "      <td>promelas</td>\n",
       "    </tr>\n",
       "    <tr>\n",
       "      <th>...</th>\n",
       "      <td>...</td>\n",
       "      <td>...</td>\n",
       "      <td>...</td>\n",
       "      <td>...</td>\n",
       "      <td>...</td>\n",
       "      <td>...</td>\n",
       "      <td>...</td>\n",
       "      <td>...</td>\n",
       "      <td>...</td>\n",
       "      <td>...</td>\n",
       "      <td>...</td>\n",
       "      <td>...</td>\n",
       "      <td>...</td>\n",
       "      <td>...</td>\n",
       "    </tr>\n",
       "    <tr>\n",
       "      <th>28810</th>\n",
       "      <td>77458-01-6</td>\n",
       "      <td>48.0</td>\n",
       "      <td>A</td>\n",
       "      <td>Actinopterygii Siluriformes Bagridae Chrysicht...</td>\n",
       "      <td>R</td>\n",
       "      <td>I</td>\n",
       "      <td>FW</td>\n",
       "      <td>X</td>\n",
       "      <td>0.078</td>\n",
       "      <td>Actinopterygii</td>\n",
       "      <td>Siluriformes</td>\n",
       "      <td>Bagridae</td>\n",
       "      <td>Chrysichthys</td>\n",
       "      <td>nigrodigitatus</td>\n",
       "    </tr>\n",
       "    <tr>\n",
       "      <th>28811</th>\n",
       "      <td>77458-01-6</td>\n",
       "      <td>48.0</td>\n",
       "      <td>A</td>\n",
       "      <td>Actinopterygii Siluriformes Bagridae Chrysicht...</td>\n",
       "      <td>R</td>\n",
       "      <td>S</td>\n",
       "      <td>FW</td>\n",
       "      <td>X</td>\n",
       "      <td>0.078</td>\n",
       "      <td>Actinopterygii</td>\n",
       "      <td>Siluriformes</td>\n",
       "      <td>Bagridae</td>\n",
       "      <td>Chrysichthys</td>\n",
       "      <td>nigrodigitatus</td>\n",
       "    </tr>\n",
       "    <tr>\n",
       "      <th>28812</th>\n",
       "      <td>77458-01-6</td>\n",
       "      <td>72.0</td>\n",
       "      <td>A</td>\n",
       "      <td>Actinopterygii Siluriformes Bagridae Chrysicht...</td>\n",
       "      <td>R</td>\n",
       "      <td>I</td>\n",
       "      <td>FW</td>\n",
       "      <td>X</td>\n",
       "      <td>0.068</td>\n",
       "      <td>Actinopterygii</td>\n",
       "      <td>Siluriformes</td>\n",
       "      <td>Bagridae</td>\n",
       "      <td>Chrysichthys</td>\n",
       "      <td>nigrodigitatus</td>\n",
       "    </tr>\n",
       "    <tr>\n",
       "      <th>28813</th>\n",
       "      <td>77458-01-6</td>\n",
       "      <td>72.0</td>\n",
       "      <td>A</td>\n",
       "      <td>Actinopterygii Siluriformes Bagridae Chrysicht...</td>\n",
       "      <td>R</td>\n",
       "      <td>S</td>\n",
       "      <td>FW</td>\n",
       "      <td>X</td>\n",
       "      <td>0.068</td>\n",
       "      <td>Actinopterygii</td>\n",
       "      <td>Siluriformes</td>\n",
       "      <td>Bagridae</td>\n",
       "      <td>Chrysichthys</td>\n",
       "      <td>nigrodigitatus</td>\n",
       "    </tr>\n",
       "    <tr>\n",
       "      <th>28814</th>\n",
       "      <td>115326-86-8</td>\n",
       "      <td>24.0</td>\n",
       "      <td>F</td>\n",
       "      <td>Actinopterygii Atheriniformes Atherinidae Athe...</td>\n",
       "      <td>AQUA</td>\n",
       "      <td>K</td>\n",
       "      <td>SW</td>\n",
       "      <td>X</td>\n",
       "      <td>300.000</td>\n",
       "      <td>Actinopterygii</td>\n",
       "      <td>Atheriniformes</td>\n",
       "      <td>Atherinidae</td>\n",
       "      <td>Atherina</td>\n",
       "      <td>hepsetus</td>\n",
       "    </tr>\n",
       "  </tbody>\n",
       "</table>\n",
       "<p>28815 rows × 14 columns</p>\n",
       "</div>"
      ],
      "text/plain": [
       "          test_cas  obs_duration_mean conc1_type  \\\n",
       "0          50-00-0               24.0          A   \n",
       "1          50-00-0               48.0          A   \n",
       "2          50-00-0               96.0          A   \n",
       "3          50-00-0               96.0          A   \n",
       "4          50-06-6               96.0          A   \n",
       "...            ...                ...        ...   \n",
       "28810   77458-01-6               48.0          A   \n",
       "28811   77458-01-6               48.0          A   \n",
       "28812   77458-01-6               72.0          A   \n",
       "28813   77458-01-6               72.0          A   \n",
       "28814  115326-86-8               24.0          F   \n",
       "\n",
       "                                                    fish exposure_type  \\\n",
       "0      Actinopterygii Cypriniformes Cyprinidae Pimeph...             F   \n",
       "1      Actinopterygii Cypriniformes Cyprinidae Pimeph...             F   \n",
       "2      Actinopterygii Cypriniformes Cyprinidae Pimeph...             F   \n",
       "3      Actinopterygii Cypriniformes Cyprinidae Pimeph...             S   \n",
       "4      Actinopterygii Cypriniformes Cyprinidae Pimeph...             F   \n",
       "...                                                  ...           ...   \n",
       "28810  Actinopterygii Siluriformes Bagridae Chrysicht...             R   \n",
       "28811  Actinopterygii Siluriformes Bagridae Chrysicht...             R   \n",
       "28812  Actinopterygii Siluriformes Bagridae Chrysicht...             R   \n",
       "28813  Actinopterygii Siluriformes Bagridae Chrysicht...             R   \n",
       "28814  Actinopterygii Atheriniformes Atherinidae Athe...          AQUA   \n",
       "\n",
       "      control_type media_type application_freq_unit  conc1_mean  \\\n",
       "0                C         FW                   CON      42.500   \n",
       "1                C         FW                   CON      27.500   \n",
       "2                C         FW                   CON      24.300   \n",
       "3                C         FW                     X      26.300   \n",
       "4                S         FW                   CON     484.000   \n",
       "...            ...        ...                   ...         ...   \n",
       "28810            I         FW                     X       0.078   \n",
       "28811            S         FW                     X       0.078   \n",
       "28812            I         FW                     X       0.068   \n",
       "28813            S         FW                     X       0.068   \n",
       "28814            K         SW                     X     300.000   \n",
       "\n",
       "                class       tax_order       family         genus  \\\n",
       "0      Actinopterygii   Cypriniformes   Cyprinidae    Pimephales   \n",
       "1      Actinopterygii   Cypriniformes   Cyprinidae    Pimephales   \n",
       "2      Actinopterygii   Cypriniformes   Cyprinidae    Pimephales   \n",
       "3      Actinopterygii   Cypriniformes   Cyprinidae    Pimephales   \n",
       "4      Actinopterygii   Cypriniformes   Cyprinidae    Pimephales   \n",
       "...               ...             ...          ...           ...   \n",
       "28810  Actinopterygii    Siluriformes     Bagridae  Chrysichthys   \n",
       "28811  Actinopterygii    Siluriformes     Bagridae  Chrysichthys   \n",
       "28812  Actinopterygii    Siluriformes     Bagridae  Chrysichthys   \n",
       "28813  Actinopterygii    Siluriformes     Bagridae  Chrysichthys   \n",
       "28814  Actinopterygii  Atheriniformes  Atherinidae      Atherina   \n",
       "\n",
       "              species  \n",
       "0            promelas  \n",
       "1            promelas  \n",
       "2            promelas  \n",
       "3            promelas  \n",
       "4            promelas  \n",
       "...               ...  \n",
       "28810  nigrodigitatus  \n",
       "28811  nigrodigitatus  \n",
       "28812  nigrodigitatus  \n",
       "28813  nigrodigitatus  \n",
       "28814        hepsetus  \n",
       "\n",
       "[28815 rows x 14 columns]"
      ]
     },
     "execution_count": 4,
     "metadata": {},
     "output_type": "execute_result"
    }
   ],
   "source": [
    "import pandas as pd\n",
    "import numpy as np\n",
    "\n",
    "\n",
    "db = pd.read_csv('repeated_experiments.csv').drop(columns = 'Unnamed: 0')\n",
    "db"
   ]
  },
  {
   "cell_type": "code",
   "execution_count": 45,
   "metadata": {},
   "outputs": [],
   "source": [
    "import pandas as pd\n",
    "import numpy as np\n",
    "\n",
    "db = pd.read_csv('lc_db_processed.csv')[['test_cas', 'conc1_mean', 'fish']]\n",
    "db['conc1_mean'] = np.where(db['conc1_mean'] > 1, 0, 1)"
   ]
  },
  {
   "cell_type": "code",
   "execution_count": 46,
   "metadata": {},
   "outputs": [],
   "source": [
    "lst = list()\n",
    "lst_cas = list()\n",
    "for tc in db.test_cas.unique():\n",
    "#     print(tc)\n",
    "    tmp = db['conc1_mean'][db.test_cas == tc]\n",
    "    try:\n",
    "        lst.append(tmp.value_counts()[1]/len(tmp))\n",
    "        lst_cas.append(tc)\n",
    "    except:\n",
    "        continue"
   ]
  },
  {
   "cell_type": "code",
   "execution_count": 15,
   "metadata": {
    "collapsed": true
   },
   "outputs": [
    {
     "data": {
      "text/plain": [
       "<BarContainer object of 100 artists>"
      ]
     },
     "execution_count": 15,
     "metadata": {},
     "output_type": "execute_result"
    },
    {
     "data": {
      "image/png": "[encoded data removed]",
      "text/plain": [
       "<Figure size 432x288 with 1 Axes>"
      ]
     },
     "metadata": {
      "needs_background": "light"
     },
     "output_type": "display_data"
    }
   ],
   "source": [
    "import matplotlib.pyplot as plt\n",
    "plt.bar(lst_cas[:100], lst[:100])"
   ]
  },
  {
   "cell_type": "code",
   "execution_count": 47,
   "metadata": {},
   "outputs": [],
   "source": [
    "a = pd.DataFrame({'test_cas': lst_cas, 'frac_tox': lst})"
   ]
  },
  {
   "cell_type": "code",
   "execution_count": 49,
   "metadata": {
    "collapsed": true
   },
   "outputs": [
    {
     "data": {
      "text/plain": [
       "<BarContainer object of 691 artists>"
      ]
     },
     "execution_count": 49,
     "metadata": {},
     "output_type": "execute_result"
    },
    {
     "data": {
      "image/png": "[encoded data removed]",
      "text/plain": [
       "<Figure size 720x1080 with 1 Axes>"
      ]
     },
     "metadata": {
      "needs_background": "light"
     },
     "output_type": "display_data"
    }
   ],
   "source": [
    "a = a.sort_values('frac_tox')\n",
    "plt.figure(figsize = (10,15))\n",
    "plt.barh(a['test_cas'], a['frac_tox'])"
   ]
  },
  {
   "cell_type": "code",
   "execution_count": null,
   "metadata": {},
   "outputs": [],
   "source": []
  },
  {
   "cell_type": "code",
   "execution_count": 1,
   "metadata": {},
   "outputs": [],
   "source": [
    "import pandas as pd\n",
    "import numpy as np\n",
    "\n",
    "db = pd.read_csv('lc_db_processed.csv')[['test_cas', 'conc1_mean', 'fish']]\n",
    "db = db.groupby(['test_cas', 'fish']).agg('median').reset_index()\n",
    "db['conc1_mean'] = np.where(db['conc1_mean'] > 1, 0, 1)"
   ]
  },
  {
   "cell_type": "code",
   "execution_count": 2,
   "metadata": {},
   "outputs": [],
   "source": [
    "lst = list()\n",
    "lst_cas = list()\n",
    "for tc in db.test_cas.unique():\n",
    "    tmp = db[['conc1_mean','fish']][db.test_cas == tc]\n",
    "    if len(tmp.fish.unique()) == 1:\n",
    "        continue\n",
    "    try:\n",
    "        lst.append(tmp.conc1_mean.value_counts()[1]/len(tmp))\n",
    "        lst_cas.append(tc)\n",
    "    except:\n",
    "        lst.append(0)\n",
    "        lst_cas.append(tc)"
   ]
  },
  {
   "cell_type": "code",
   "execution_count": null,
   "metadata": {},
   "outputs": [],
   "source": []
  },
  {
   "cell_type": "code",
   "execution_count": 9,
   "metadata": {},
   "outputs": [
    {
     "data": {
      "text/plain": [
       "(0, 1)"
      ]
     },
     "execution_count": 9,
     "metadata": {},
     "output_type": "execute_result"
    },
    {
     "data": {
      "image/png": "[encoded data removed]",
      "text/plain": [
       "<Figure size 576x360 with 1 Axes>"
      ]
     },
     "metadata": {
      "needs_background": "light"
     },
     "output_type": "display_data"
    }
   ],
   "source": [
    "import matplotlib.pyplot as plt\n",
    "plt.figure(figsize = (8,5))\n",
    "plt.barh(lst_cas[:10], lst[:10])\n",
    "plt.xlim(0,1)"
   ]
  },
  {
   "cell_type": "code",
   "execution_count": 3,
   "metadata": {},
   "outputs": [
    {
     "data": {
      "image/png": "[encoded data removed]",
      "text/plain": [
       "<Figure size 432x288 with 1 Axes>"
      ]
     },
     "metadata": {
      "needs_background": "light"
     },
     "output_type": "display_data"
    }
   ],
   "source": [
    "import matplotlib.pyplot as plt\n",
    "\n",
    "plt.hist(lst, bins = 50, log = True)\n",
    "plt.xlabel('Proportion of species with toxic effects', fontsize = 15)\n",
    "plt.ylabel('Number of chemicals', fontsize = 15)\n",
    "plt.ylim(10**0, 10**3)\n",
    "plt.show()"
   ]
  },
  {
   "cell_type": "code",
   "execution_count": 18,
   "metadata": {},
   "outputs": [
    {
     "data": {
      "text/plain": [
       "1117"
      ]
     },
     "execution_count": 18,
     "metadata": {},
     "output_type": "execute_result"
    }
   ],
   "source": [
    "len(lst)"
   ]
  },
  {
   "cell_type": "code",
   "execution_count": 12,
   "metadata": {},
   "outputs": [
    {
     "name": "stdout",
     "output_type": "stream",
     "text": [
      "543\n",
      "3713\n"
     ]
    }
   ],
   "source": [
    "db = pd.read_csv('datafusion_db_processed.csv')[['test_cas', 'conc1_mean']]\n",
    "print(len(db.test_cas.unique()))\n",
    "\n",
    "print(db.shape[0])"
   ]
  },
  {
   "cell_type": "markdown",
   "metadata": {},
   "source": [
    "# Feature Importance Random Forest"
   ]
  },
  {
   "cell_type": "code",
   "execution_count": 1,
   "metadata": {},
   "outputs": [],
   "source": [
    "from sklearn.ensemble import ExtraTreesClassifier\n",
    "import pandas as pd\n",
    "import numpy as np\n",
    "import matplotlib.pyplot as plt\n",
    "from sklearn.preprocessing import OneHotEncoder, MinMaxScaler\n",
    "from sklearn.ensemble import RandomForestClassifier\n",
    "\n",
    "\n",
    "db = pd.read_csv('lc_db_processed.csv').drop(columns = 'Unnamed: 0')\n",
    "dbp = pd.concat([db,\n",
    "                pd.DataFrame(pd.DataFrame(db['pubchem2d'].values).\\\n",
    "                             apply(lambda x: x.str.replace('', ' ').str.strip().str.split(' '), \n",
    "                                                                        axis = 1)[0].to_list(),\n",
    "                   columns = ['pub'+ str(i) for i in range(1,882)])],\n",
    "               axis = 1)\n",
    "\n",
    "numerical = ['atom_number', 'bonds_number','Mol', 'MorganDensity', 'LogP',\n",
    "            'alone_atom_number', 'doubleBond', 'tripleBond', 'ring_number', 'oh_count', 'MeltingPoint', 'WaterSolubility']\n",
    "\n",
    "for nc in numerical:\n",
    "    minmax = MinMaxScaler()\n",
    "    minmax.fit(dbp[[nc]])\n",
    "    dbp[[nc]] = minmax.transform(dbp[[nc]])\n",
    "\n",
    "\n",
    "categorical = ['obs_duration_mean',\n",
    "               'conc1_type', 'exposure_type', 'control_type', 'media_type',\n",
    "               'application_freq_unit', 'species', 'class', 'tax_order', 'family', 'genus']\n",
    "\n",
    "ohe = OneHotEncoder(sparse = False)\n",
    "ohe.fit(dbp[categorical])\n",
    "\n",
    "finaldb = pd.concat([dbp.drop(columns = categorical),\n",
    "                     pd.DataFrame(ohe.transform(dbp[categorical]), columns = ohe.get_feature_names(categorical))],\n",
    "                    axis = 1)\n",
    "\n",
    "X = finaldb.drop(columns = ['test_cas','conc1_mean', 'fish', 'smiles','pubchem2d'])\n",
    "y = np.where(finaldb['conc1_mean']> 1, 0,1)"
   ]
  },
  {
   "cell_type": "code",
   "execution_count": 2,
   "metadata": {},
   "outputs": [],
   "source": [
    "import pandas as pd\n",
    "import numpy as np\n",
    "import matplotlib.pyplot as plt\n",
    "from sklearn.preprocessing import OneHotEncoder, MinMaxScaler\n",
    "from sklearn.ensemble import RandomForestClassifier\n",
    "\n",
    "def feature_importance_rf(rf_model, X, y, columns):\n",
    "    rf_model.fit(X, y)\n",
    "    importances = rf_model.feature_importances_\n",
    "    indices = np.argsort(importances)[::-1]\n",
    "    \n",
    "    d = dict()\n",
    "    for f in range(X.shape[1]):\n",
    "        d.update({X.columns[indices[f]]: [importances[indices[f]]]}) \n",
    "    imp = pd.DataFrame(d)\n",
    "    \n",
    "    varimp = pd.DataFrame(columns = ['variable','scaled_importance'])\n",
    "    \n",
    "    columns.append('pub')\n",
    "    for i in columns:\n",
    "        num = imp.iloc[0][imp.columns.str.contains(i)].sum()\n",
    "        varimp = varimp.append(pd.DataFrame([[i,num]], columns = ['variable','scaled_importance']))\n",
    "\n",
    "    varimp = varimp.sort_values(by = 'scaled_importance').reset_index(drop = True).reset_index(drop = True)\n",
    "    varimp = varimp.set_index('variable').drop(index = ['test_cas', 'smiles', 'pubchem2d', 'fish', 'conc1_mean'])\n",
    "    plt.figure(figsize = (10,8))\n",
    "\n",
    "    plt.barh(varimp.index, width = varimp.scaled_importance)\n",
    "    plt.xlabel('Relative Importance')\n",
    "    plt.tight_layout()\n",
    "    plt.show()\n",
    "    \n",
    "    return varimp, imp"
   ]
  },
  {
   "cell_type": "code",
   "execution_count": 3,
   "metadata": {},
   "outputs": [
    {
     "data": {
      "image/png": "[encoded data removed]",
      "text/plain": [
       "<Figure size 720x576 with 1 Axes>"
      ]
     },
     "metadata": {
      "needs_background": "light"
     },
     "output_type": "display_data"
    }
   ],
   "source": [
    "clf = RandomForestClassifier(n_estimators = 500, min_samples_split = 2, min_samples_leaf = 1, max_depth = 28, \n",
    "                                n_jobs = -1)\n",
    "\n",
    "importances, all_importances = feature_importance_rf(clf, X, y, db.columns.tolist())"
   ]
  },
  {
   "cell_type": "code",
   "execution_count": 13,
   "metadata": {},
   "outputs": [],
   "source": [
    "all_importances.T.reset_index().rename(columns = {'index': 'variable', 0 : 'importance'}).to_csv('importances.csv')"
   ]
  },
  {
   "cell_type": "code",
   "execution_count": 29,
   "metadata": {},
   "outputs": [
    {
     "data": {
      "image/png": "[encoded data removed]",
      "text/plain": [
       "<Figure size 432x288 with 1 Axes>"
      ]
     },
     "metadata": {
      "needs_background": "light"
     },
     "output_type": "display_data"
    }
   ],
   "source": [
    "pub = all_importances[all_importances.columns[all_importances.columns.str.contains('pub')]]\n",
    "\n",
    "plt.barh(pub.columns[:20], width = pub.iloc[0][:20])\n",
    "plt.xlabel('Relative Importance')\n",
    "plt.tight_layout()\n",
    "plt.show()"
   ]
  }
 ],
 "metadata": {
  "kernelspec": {
   "display_name": "Python 3",
   "language": "python",
   "name": "python3"
  },
  "language_info": {
   "codemirror_mode": {
    "name": "ipython",
    "version": 3
   },
   "file_extension": ".py",
   "mimetype": "text/x-python",
   "name": "python",
   "nbconvert_exporter": "python",
   "pygments_lexer": "ipython3",
   "version": "3.7.7"
  }
 },
 "nbformat": 4,
 "nbformat_minor": 4
}
