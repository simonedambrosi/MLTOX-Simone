{
 "cells": [
  {
   "cell_type": "markdown",
   "metadata": {},
   "source": [
    "# NO PUBCHEM"
   ]
  },
  {
   "cell_type": "code",
   "execution_count": 1,
   "metadata": {},
   "outputs": [],
   "source": [
    "import pandas as pd\n",
    "import numpy as np\n",
    "\n",
    "db = pd.read_csv('lc_db_processed.csv').drop(columns = ['Unnamed: 0', 'fish'])\n",
    "db['conc1_mean'] = np.where(db['conc1_mean'] > 1, 0,1)"
   ]
  },
  {
   "cell_type": "markdown",
   "metadata": {},
   "source": [
    "## Utilizzo tutte le caratteristiche con MinMax solo su train set"
   ]
  },
  {
   "cell_type": "code",
   "execution_count": 2,
   "metadata": {},
   "outputs": [
    {
     "name": "stdout",
     "output_type": "stream",
     "text": [
      "Accuracy: \t 0.7186211049224747 se: 0.0007194221373083567\n",
      "Sensitivity: 0.6298330975522243 se: 0.004245959606335624\n",
      "Specificity: 0.7735177528428461 se: 0.0018142058199968204\n"
     ]
    }
   ],
   "source": [
    "from sklearn.neighbors import KNeighborsClassifier\n",
    "from sklearn.metrics import accuracy_score, recall_score, confusion_matrix\n",
    "from scipy.stats import sem\n",
    "from sklearn.preprocessing import OneHotEncoder, MinMaxScaler\n",
    "from sklearn.model_selection import train_test_split\n",
    "\n",
    "lst = db.select_dtypes('object').columns.tolist()\n",
    "lst.remove('smiles')\n",
    "lst.remove('pubchem2d')\n",
    "lst.remove('test_cas')\n",
    "\n",
    "encoder = OneHotEncoder(sparse = False)\n",
    "encoder.fit(db[lst])\n",
    "X = pd.concat([db.drop(columns = lst), pd.DataFrame(encoder.transform(db[lst]),\n",
    "                                                    columns = encoder.get_feature_names(lst))], axis = 1)\n",
    "\n",
    "accs = []\n",
    "sens = []\n",
    "specs = []\n",
    "\n",
    "numerical = ['atom_number', 'bonds_number','Mol', 'MorganDensity', 'LogP',\n",
    "            'alone_atom_number', 'doubleBond', 'tripleBond', 'ring_number', 'oh_count', 'MeltingPoint', 'WaterSolubility']\n",
    "\n",
    "for i in range(0,5):\n",
    "    X_train, X_test, y_train, y_test = train_test_split(X.drop(columns = ['test_cas', 'conc1_mean','smiles','pubchem2d']),\n",
    "                                                    db['conc1_mean'], test_size = 0.33)\n",
    "\n",
    "    minmax = MinMaxScaler()\n",
    "    minmax.fit(X_train[numerical])\n",
    "    new_train = X_train.copy()\n",
    "    new_train.loc[:, numerical] = minmax.transform(X_train[numerical])\n",
    "    \n",
    "    new_test = X_test.copy()\n",
    "    new_test.loc[:, numerical] = minmax.transform(X_test[numerical])\n",
    "    \n",
    "    \n",
    "    knn = KNeighborsClassifier(n_neighbors = 1)\n",
    "    knn.fit(new_train, y_train) ########################## cambiare se faccio minmax\n",
    "    y_pred = knn.predict(new_test)\n",
    "    accs.append(accuracy_score(y_test, y_pred))\n",
    "    sens.append(recall_score(y_test, y_pred))\n",
    "    \n",
    "    tn, fp, fn, tp = confusion_matrix(y_test, y_pred).ravel()\n",
    "    \n",
    "    specs.append(tn/(tn+fp))\n",
    "    \n",
    "print('Accuracy: \\t', np.mean(accs), 'se:', sem(accs))\n",
    "print('Sensitivity:', np.mean(sens), 'se:', sem(sens))\n",
    "print('Specificity:', np.mean(specs), 'se:', sem(specs))"
   ]
  },
  {
   "cell_type": "markdown",
   "metadata": {},
   "source": [
    "## Senza MinMax"
   ]
  },
  {
   "cell_type": "code",
   "execution_count": 2,
   "metadata": {},
   "outputs": [
    {
     "name": "stdout",
     "output_type": "stream",
     "text": [
      "Accuracy: 0.8465151287069096 se: 0.001652179301332399\n",
      "Sensitivity: 0.8048755398420662 se: 0.00263331111249059\n",
      "Specificity: 0.8723533629717203 se: 0.002573035748697218\n"
     ]
    }
   ],
   "source": [
    "from sklearn.neighbors import KNeighborsClassifier\n",
    "from sklearn.metrics import accuracy_score, recall_score, confusion_matrix\n",
    "from scipy.stats import sem\n",
    "from sklearn.preprocessing import OneHotEncoder, MinMaxScaler\n",
    "from sklearn.model_selection import train_test_split\n",
    "\n",
    "lst = db.select_dtypes('object').columns.tolist()\n",
    "lst.remove('smiles')\n",
    "lst.remove('pubchem2d')\n",
    "lst.remove('test_cas')\n",
    "\n",
    "encoder = OneHotEncoder(sparse = False)\n",
    "encoder.fit(db[lst])\n",
    "X = pd.concat([db.drop(columns = lst), pd.DataFrame(encoder.transform(db[lst]),\n",
    "                                                    columns = encoder.get_feature_names(lst))], axis = 1)\n",
    "\n",
    "accs = []\n",
    "sens = []\n",
    "specs = []\n",
    "\n",
    "for i in range(0,5):\n",
    "    X_train, X_test, y_train, y_test = train_test_split(X.drop(columns = ['test_cas', 'conc1_mean','smiles','pubchem2d']),\n",
    "                                                    db['conc1_mean'], test_size = 0.33)\n",
    "    \n",
    "    knn = KNeighborsClassifier(n_neighbors = 1)\n",
    "    knn.fit(X_train, y_train)\n",
    "    y_pred = knn.predict(X_test)\n",
    "    accs.append(accuracy_score(y_test, y_pred))\n",
    "    sens.append(recall_score(y_test, y_pred))\n",
    "    \n",
    "    tn, fp, fn, tp = confusion_matrix(y_test, y_pred).ravel()\n",
    "    \n",
    "    specs.append(tn/(tn+fp))\n",
    "    \n",
    "print('Accuracy: \\t', np.mean(accs), 'se:', sem(accs))\n",
    "print('Sensitivity:', np.mean(sens), 'se:', sem(sens))\n",
    "print('Specificity:', np.mean(specs), 'se:', sem(specs))"
   ]
  },
  {
   "cell_type": "markdown",
   "metadata": {},
   "source": [
    "## K = 1,3,5,7,9,21,31"
   ]
  },
  {
   "cell_type": "code",
   "execution_count": 2,
   "metadata": {},
   "outputs": [
    {
     "name": "stdout",
     "output_type": "stream",
     "text": [
      "K= 1\n",
      "Accuracy: \t 0.8437452958000902 se: 0.002474906352566894\n",
      "Sensitivity: 0.7991608232058054 se: 0.002888160628217317\n",
      "Specificity: 0.8713235663004812 se: 0.003034667735990581\n",
      "K= 3\n",
      "Accuracy: \t 0.8530483215414723 se: 0.0020204161286810456\n",
      "Sensitivity: 0.7954936077048934 se: 0.002947714417339753\n",
      "Specificity: 0.888039802448958 se: 0.002703594332515464\n",
      "K= 5\n",
      "Accuracy: \t 0.8487731446635557 se: 0.001626607576003621\n",
      "Sensitivity: 0.7809563905387625 se: 0.001908825617360951\n",
      "Specificity: 0.8905722397684853 se: 0.0025376799483555505\n",
      "K= 7\n",
      "Accuracy: \t 0.8438055095589343 se: 0.0017751573708875948\n",
      "Sensitivity: 0.7660310936058166 se: 0.003059176932038515\n",
      "Specificity: 0.8918709240779028 se: 0.0016467215507962871\n",
      "K= 9\n",
      "Accuracy: \t 0.8382658437452959 se: 0.0007902697424902444\n",
      "Sensitivity: 0.7648980256053646 se: 0.0015650145751834655\n",
      "Specificity: 0.8841483175905033 se: 0.0017190440536746178\n",
      "K= 21\n",
      "Accuracy: \t 0.8154448291434593 se: 0.0007719934610843199\n",
      "Sensitivity: 0.7184053393745412 se: 0.001695682967899962\n",
      "Specificity: 0.8761576318115771 se: 0.001161250493974898\n",
      "K= 31\n",
      "Accuracy: \t 0.8042450699984947 se: 0.0018593283343844062\n",
      "Sensitivity: 0.6914207719983089 se: 0.0061005617552641455\n",
      "Specificity: 0.8740919661472976 se: 0.0011409953872527215\n"
     ]
    }
   ],
   "source": [
    "from sklearn.neighbors import KNeighborsClassifier\n",
    "from sklearn.metrics import accuracy_score, recall_score, confusion_matrix\n",
    "from scipy.stats import sem\n",
    "from sklearn.preprocessing import OneHotEncoder, MinMaxScaler\n",
    "from sklearn.model_selection import train_test_split\n",
    "\n",
    "lst = db.select_dtypes('object').columns.tolist()\n",
    "lst.remove('smiles')\n",
    "lst.remove('pubchem2d')\n",
    "lst.remove('test_cas')\n",
    "\n",
    "encoder = OneHotEncoder(sparse = False)\n",
    "encoder.fit(db[lst])\n",
    "X = pd.concat([db.drop(columns = lst), pd.DataFrame(encoder.transform(db[lst]),\n",
    "                                                    columns = encoder.get_feature_names(lst))], axis = 1)\n",
    "for k in [1,3,5,7,9,21,31]:\n",
    "    accs = []\n",
    "    sens = []\n",
    "    specs = []\n",
    "    for i in range(0,5):\n",
    "        X_train, X_test, y_train, y_test = train_test_split(\n",
    "            X.drop(columns = ['test_cas', 'conc1_mean','smiles','pubchem2d']), db['conc1_mean'], test_size = 0.33)\n",
    "\n",
    "        knn = KNeighborsClassifier(n_neighbors = k)\n",
    "        knn.fit(X_train, y_train)\n",
    "        y_pred = knn.predict(X_test)\n",
    "        accs.append(accuracy_score(y_test, y_pred))\n",
    "        sens.append(recall_score(y_test, y_pred))\n",
    "\n",
    "        tn, fp, fn, tp = confusion_matrix(y_test, y_pred).ravel()\n",
    "\n",
    "        specs.append(tn/(tn+fp))\n",
    "    print('K=',k)\n",
    "    print('Accuracy:', np.mean(accs), 'se:', sem(accs))\n",
    "    print('Sensitivity:', np.mean(sens), 'se:', sem(sens))\n",
    "    print('Specificity:', np.mean(specs), 'se:', sem(specs))"
   ]
  },
  {
   "cell_type": "markdown",
   "metadata": {},
   "source": [
    "# Con MinMax"
   ]
  },
  {
   "cell_type": "code",
   "execution_count": 3,
   "metadata": {},
   "outputs": [
    {
     "name": "stdout",
     "output_type": "stream",
     "text": [
      "K= 1\n",
      "Accuracy: 0.7187415324401626 se: 0.002063804075461544\n",
      "Sensitivity: 0.6216901863785576 se: 0.005107220834440396\n",
      "Specificity: 0.7790155420184938 se: 0.0035716763659116683\n",
      "K= 3\n",
      "Accuracy: 0.7328315520096342 se: 0.003184220622518321\n",
      "Sensitivity: 0.6076245019215643 se: 0.003943321328589471\n",
      "Specificity: 0.8100852462408576 se: 0.002670491179487638\n",
      "K= 5\n",
      "Accuracy: 0.7335240102363391 se: 0.0013074846154212632\n",
      "Sensitivity: 0.589983324067384 se: 0.004434690206336319\n",
      "Specificity: 0.8229517889748669 se: 0.0038627324484566397\n",
      "K= 7\n",
      "Accuracy: 0.7403582718651214 se: 0.001252605392907715\n",
      "Sensitivity: 0.5962162323011114 se: 0.003025056529794031\n",
      "Specificity: 0.82987722480654 se: 0.002628822430285733\n",
      "K= 9\n",
      "Accuracy: 0.7350293542074364 se: 0.002972587459077098\n",
      "Sensitivity: 0.572497006105925 se: 0.004922890231733209\n",
      "Specificity: 0.8359572593111227 se: 0.0028576338256649262\n",
      "K= 21\n",
      "Accuracy: 0.7257263284660544 se: 0.0021315372961773814\n",
      "Sensitivity: 0.5063421716726607 se: 0.0033434635000729684\n",
      "Specificity: 0.8636168603383089 se: 0.004226064418595679\n",
      "K= 31\n",
      "Accuracy: 0.7200361282553064 se: 0.0022263828680089606\n",
      "Sensitivity: 0.47194436974016823 se: 0.004768706663803323\n",
      "Specificity: 0.8768050620305387 se: 0.0033582024233391617\n"
     ]
    }
   ],
   "source": [
    "from sklearn.neighbors import KNeighborsClassifier\n",
    "from sklearn.metrics import accuracy_score, recall_score, confusion_matrix\n",
    "from scipy.stats import sem\n",
    "from sklearn.preprocessing import OneHotEncoder, MinMaxScaler\n",
    "from sklearn.model_selection import train_test_split\n",
    "\n",
    "lst = db.select_dtypes('object').columns.tolist()\n",
    "lst.remove('smiles')\n",
    "lst.remove('pubchem2d')\n",
    "lst.remove('test_cas')\n",
    "\n",
    "numerical = ['atom_number', 'bonds_number','Mol', 'MorganDensity', 'LogP',\n",
    "            'alone_atom_number', 'doubleBond', 'tripleBond', 'ring_number', 'oh_count', 'MeltingPoint', 'WaterSolubility']\n",
    "\n",
    "encoder = OneHotEncoder(sparse = False)\n",
    "encoder.fit(db[lst])\n",
    "X = pd.concat([db.drop(columns = lst), pd.DataFrame(encoder.transform(db[lst]),\n",
    "                                                    columns = encoder.get_feature_names(lst))], axis = 1)\n",
    "for k in [1,3,5,7,9,21,31]:\n",
    "    accs = []\n",
    "    sens = []\n",
    "    specs = []\n",
    "    for i in range(0,5):\n",
    "        X_train, X_test, y_train, y_test = train_test_split(\n",
    "            X.drop(columns = ['test_cas', 'conc1_mean','smiles','pubchem2d']), db['conc1_mean'], test_size = 0.33)\n",
    "        \n",
    "        minmax = MinMaxScaler()\n",
    "        minmax.fit(X_train[numerical])\n",
    "        \n",
    "        new_train = X_train.copy()\n",
    "        new_train.loc[:, numerical] = minmax.transform(X_train[numerical])\n",
    "\n",
    "        new_test = X_test.copy()\n",
    "        new_test.loc[:, numerical] = minmax.transform(X_test[numerical])\n",
    "        \n",
    "        \n",
    "        knn = KNeighborsClassifier(n_neighbors = k)\n",
    "        knn.fit(new_train, y_train)\n",
    "        y_pred = knn.predict(new_test)\n",
    "        accs.append(accuracy_score(y_test, y_pred))\n",
    "        sens.append(recall_score(y_test, y_pred))\n",
    "\n",
    "        tn, fp, fn, tp = confusion_matrix(y_test, y_pred).ravel()\n",
    "\n",
    "        specs.append(tn/(tn+fp))\n",
    "    print('K=',k)\n",
    "    print('Accuracy:', np.mean(accs), 'se:', sem(accs))\n",
    "    print('Sensitivity:', np.mean(sens), 'se:', sem(sens))\n",
    "    print('Specificity:', np.mean(specs), 'se:', sem(specs))"
   ]
  },
  {
   "cell_type": "markdown",
   "metadata": {},
   "source": [
    "## Utilizzo solo chemicals e pubchem"
   ]
  },
  {
   "cell_type": "code",
   "execution_count": 2,
   "metadata": {},
   "outputs": [],
   "source": [
    "numerical = ['atom_number', 'bonds_number','Mol', 'MorganDensity', 'LogP',\n",
    "            'alone_atom_number', 'doubleBond', 'tripleBond', 'ring_number', 'oh_count', 'MeltingPoint', 'WaterSolubility']\n",
    "\n",
    "categorical = ['obs_duration_mean', 'conc1_type', 'exposure_type', 'control_type', 'media_type',\n",
    "               'application_freq_unit', 'species', 'class', 'tax_order', 'family', 'genus']\n",
    "\n",
    "db_chem = db.drop(columns = ['test_cas', 'smiles', 'conc1_mean'] + categorical).copy()\n",
    "pub = pd.DataFrame(pd.DataFrame(db_chem['pubchem2d'].values).apply(lambda x: x.str.replace('', ' ').str.strip().str.split(' '),\n",
    "                                                        axis = 1)[0].to_list(),\n",
    "                   columns = ['pub'+ str(i) for i in range(1,882)])\n",
    "\n",
    "db_chem = pd.concat([db_chem.drop(columns = 'pubchem2d'), pub], axis = 1)\n",
    "\n",
    "y = db['conc1_mean']"
   ]
  },
  {
   "cell_type": "markdown",
   "metadata": {},
   "source": [
    "## K=1,3,5,7,9,21,31 (NO MinMax)"
   ]
  },
  {
   "cell_type": "code",
   "execution_count": 3,
   "metadata": {
    "scrolled": false
   },
   "outputs": [
    {
     "name": "stdout",
     "output_type": "stream",
     "text": [
      "K= 1\n",
      "Accuracy: 0.8346831250940839 se: 0.004222858779665728\n",
      "Sensitivity: 0.8101578006683028 se: 0.017482921665178945\n",
      "Specificity: 0.8500590283624406 se: 0.006741577575219079\n",
      "K= 3\n",
      "Accuracy: 0.8492548547343068 se: 0.0030011137847981637\n",
      "Sensitivity: 0.793059214197143 se: 0.00920258401894953\n",
      "Specificity: 0.8843256133007499 se: 0.0063573395746343775\n",
      "K= 5\n",
      "Accuracy: 0.852566611470721 se: 0.003030418562850423\n",
      "Sensitivity: 0.803792542703589 se: 0.013544666211379631\n",
      "Specificity: 0.8832261675647629 se: 0.009529731339229458\n",
      "K= 7\n",
      "Accuracy: 0.8559686888454012 se: 0.00475040383521085\n",
      "Sensitivity: 0.8025167759450534 se: 0.002668967374408196\n",
      "Specificity: 0.8887447351503281 se: 0.008002225416072118\n",
      "K= 9\n",
      "Accuracy: 0.8513924431732651 se: 0.001949638385596416\n",
      "Sensitivity: 0.8021894322195907 se: 0.00574673615694617\n",
      "Specificity: 0.8819995393162596 se: 0.0041988420065658975\n",
      "K= 21\n",
      "Accuracy: 0.8389884088514223 se: 0.002191090074491929\n",
      "Sensitivity: 0.7589654944887341 se: 0.0049965138392162566\n",
      "Specificity: 0.8891359491303789 se: 0.004720461919292942\n",
      "K= 31\n",
      "Accuracy: 0.8317025440313112 se: 0.001061240808792079\n",
      "Sensitivity: 0.7254523389510965 se: 0.011117129138419796\n",
      "Specificity: 0.8972684558251782 se: 0.007023792349237913\n"
     ]
    }
   ],
   "source": [
    "from sklearn.neighbors import KNeighborsClassifier\n",
    "from sklearn.metrics import accuracy_score, recall_score, confusion_matrix\n",
    "from scipy.stats import sem\n",
    "from sklearn.preprocessing import OneHotEncoder, MinMaxScaler\n",
    "from sklearn.model_selection import train_test_split\n",
    "\n",
    "\n",
    "for k in [1,3,5,7,9,21,31]:\n",
    "    accs = []\n",
    "    sens = []\n",
    "    specs = []\n",
    "    for i in range(0,5):\n",
    "        X_train, X_test, y_train, y_test = train_test_split(db_chem, y, test_size = 0.33)\n",
    "\n",
    "        knn = KNeighborsClassifier(n_neighbors = k)\n",
    "        knn.fit(X_train, y_train)\n",
    "        y_pred = knn.predict(X_test)\n",
    "        accs.append(accuracy_score(y_test, y_pred))\n",
    "        sens.append(recall_score(y_test, y_pred))\n",
    "\n",
    "        tn, fp, fn, tp = confusion_matrix(y_test, y_pred).ravel()\n",
    "\n",
    "        specs.append(tn/(tn+fp))\n",
    "    print('K=',k)\n",
    "    print('Accuracy:', np.mean(accs), 'se:', sem(accs))\n",
    "    print('Sensitivity:', np.mean(sens), 'se:', sem(sens))\n",
    "    print('Specificity:', np.mean(specs), 'se:', sem(specs))"
   ]
  },
  {
   "cell_type": "markdown",
   "metadata": {},
   "source": [
    "# Con MinMax"
   ]
  },
  {
   "cell_type": "code",
   "execution_count": 7,
   "metadata": {},
   "outputs": [
    {
     "name": "stdout",
     "output_type": "stream",
     "text": [
      "K= 1\n",
      "Accuracy: 0.8319735059461086 se: 0.004267431120909877\n",
      "Sensitivity: 0.8058699052847939 se: 0.012743254463908645\n",
      "Specificity: 0.8484575576447219 se: 0.011375502565391655\n",
      "K= 3\n",
      "Accuracy: 0.8545536655125696 se: 0.003998495098077015\n",
      "Sensitivity: 0.7906352041707564 se: 0.012547149691725963\n",
      "Specificity: 0.894546662474087 se: 0.0051685367866523\n",
      "K= 5\n",
      "Accuracy: 0.8556375131717597 se: 0.005499761374020667\n",
      "Sensitivity: 0.8081293787079609 se: 0.012735825707696125\n",
      "Specificity: 0.8850707609313403 se: 0.002130012717255321\n",
      "K= 7\n",
      "Accuracy: 0.8578654222489839 se: 0.0007885473944729011\n",
      "Sensitivity: 0.8049642288771028 se: 0.004497814317707801\n",
      "Specificity: 0.8911518394209361 se: 0.0018775599415625235\n",
      "K= 9\n",
      "Accuracy: 0.8563600782778865 se: 0.0017185992023498514\n",
      "Sensitivity: 0.8017340570195385 se: 0.007783766843959338\n",
      "Specificity: 0.8905794119341308 se: 0.006685004349538903\n",
      "K= 21\n",
      "Accuracy: 0.8555170856540719 se: 0.001119838320842826\n",
      "Sensitivity: 0.7768338397214845 se: 0.008570442372695872\n",
      "Specificity: 0.9041138460206696 se: 0.00463691948780822\n",
      "K= 31\n",
      "Accuracy: 0.8455517085654073 se: 0.0012404253544755458\n",
      "Sensitivity: 0.7555059495588134 se: 0.010267026992568335\n",
      "Specificity: 0.9006192403538777 se: 0.006056122786569335\n"
     ]
    }
   ],
   "source": [
    "from sklearn.neighbors import KNeighborsClassifier\n",
    "from sklearn.metrics import accuracy_score, recall_score, confusion_matrix\n",
    "from scipy.stats import sem\n",
    "from sklearn.preprocessing import OneHotEncoder, MinMaxScaler\n",
    "from sklearn.model_selection import train_test_split\n",
    "\n",
    "numerical = ['atom_number', 'bonds_number','Mol', 'MorganDensity', 'LogP',\n",
    "            'alone_atom_number', 'doubleBond', 'tripleBond', 'ring_number', 'oh_count', 'MeltingPoint', 'WaterSolubility']\n",
    "\n",
    "for k in [1,3,5,7,9,21,31]:\n",
    "    accs = []\n",
    "    sens = []\n",
    "    specs = []\n",
    "    for i in range(0,5):\n",
    "        X_train, X_test, y_train, y_test = train_test_split(db_chem, y, test_size = 0.33)\n",
    "    \n",
    "        minmax = MinMaxScaler()\n",
    "        minmax.fit(X_train[numerical])\n",
    "        \n",
    "        new_train = X_train.copy()\n",
    "        new_train.loc[:, numerical] = minmax.transform(X_train[numerical])\n",
    "\n",
    "        new_test = X_test.copy()\n",
    "        new_test.loc[:, numerical] = minmax.transform(X_test[numerical])\n",
    "        \n",
    "        knn = KNeighborsClassifier(n_neighbors = k)\n",
    "        knn.fit(new_train, y_train)\n",
    "        y_pred = knn.predict(new_test)\n",
    "        accs.append(accuracy_score(y_test, y_pred))\n",
    "        sens.append(recall_score(y_test, y_pred))\n",
    "\n",
    "        tn, fp, fn, tp = confusion_matrix(y_test, y_pred).ravel()\n",
    "\n",
    "        specs.append(tn/(tn+fp))\n",
    "    print('K=',k)\n",
    "    print('Accuracy:', np.mean(accs), 'se:', sem(accs))\n",
    "    print('Sensitivity:', np.mean(sens), 'se:', sem(sens))\n",
    "    print('Specificity:', np.mean(specs), 'se:', sem(specs))"
   ]
  },
  {
   "cell_type": "markdown",
   "metadata": {},
   "source": [
    "# TUTTO"
   ]
  },
  {
   "cell_type": "code",
   "execution_count": 1,
   "metadata": {},
   "outputs": [],
   "source": [
    "import pandas as pd\n",
    "import numpy as np\n",
    "from sklearn.preprocessing import OneHotEncoder\n",
    "from sklearn.model_selection import train_test_split\n",
    "import matplotlib.pyplot as plt\n",
    "from sklearn.preprocessing import MinMaxScaler\n",
    "\n",
    "# carico i dati\n",
    "db = pd.read_csv('lc_db_processed.csv').drop(columns = ['Unnamed: 0', 'fish'])\n",
    "\n",
    "# tolgo dal dataset info inutili\n",
    "db.drop(columns = ['test_cas', 'smiles'], inplace = True)\n",
    "\n",
    "# unisco al dataset i pub\n",
    "db = pd.concat([db,\n",
    "                pd.DataFrame(pd.DataFrame(db['pubchem2d'].values).\\\n",
    "                             apply(lambda x: x.str.replace('', ' ').str.strip().str.split(' '), \n",
    "                                                                        axis = 1)[0].to_list(),\n",
    "                   columns = ['pub'+ str(i) for i in range(1,882)])],\n",
    "               axis = 1)\n",
    "\n",
    "# one hot encoding di categoriche\n",
    "categorical = ['obs_duration_mean', 'conc1_type', 'exposure_type', 'control_type', 'media_type',\n",
    "               'application_freq_unit', 'species', 'class', 'tax_order', 'family', 'genus']\n",
    "\n",
    "ohe = OneHotEncoder(sparse = False)\n",
    "ohe.fit(db[categorical])\n",
    "\n",
    "finaldb = pd.concat([db.drop(columns =categorical), \n",
    "                     pd.DataFrame(ohe.transform(db[categorical]), columns = ohe.get_feature_names(categorical))],\n",
    "                    axis = 1)\n",
    "\n",
    "#trasformo in variabile dicotomica la target \n",
    "finaldb['conc1_mean'] = np.where(finaldb['conc1_mean'].values > 1, 0, 1)\n",
    "\n",
    "# mi preparo\n",
    "X = finaldb.drop(columns = ['conc1_mean', 'pubchem2d'])\n",
    "y = finaldb['conc1_mean'].values"
   ]
  },
  {
   "cell_type": "markdown",
   "metadata": {},
   "source": [
    "# NO MinMax"
   ]
  },
  {
   "cell_type": "code",
   "execution_count": 12,
   "metadata": {},
   "outputs": [
    {
     "name": "stdout",
     "output_type": "stream",
     "text": [
      "K= 1\n",
      "Accuracy: 0.9140995701851014 se: 0.0014541868036512522\n",
      "Sensitivity: 0.885716811157683 se: 0.0034567513587959926\n",
      "Specificity: 0.9317999922521742 se: 0.002626326772853722\n",
      "K= 3\n",
      "Accuracy: 0.9101748448747736 se: 0.0010623856935982287\n",
      "Sensitivity: 0.8737091713429848 se: 0.0014833638290170604\n",
      "Specificity: 0.9328649159017905 se: 0.0014501000843438485\n",
      "K= 5\n",
      "Accuracy: 0.8999404368499165 se: 0.0013072162565040605\n",
      "Sensitivity: 0.8569708650675677 se: 0.0014074309912032632\n",
      "Specificity: 0.9266728330681708 se: 0.0016865673050240216\n",
      "K= 7\n",
      "Accuracy: 0.8917430367209412 se: 0.0016207459039843817\n",
      "Sensitivity: 0.8420033562459086 se: 0.003645510925729025\n",
      "Specificity: 0.9225558517643397 se: 0.001001467103075792\n",
      "K= 9\n",
      "Accuracy: 0.8868741873474588 se: 0.0017912092456544542\n",
      "Sensitivity: 0.832530290045953 se: 0.0036018896586509338\n",
      "Specificity: 0.9205402471073649 se: 0.0014508442824272601\n",
      "K= 21\n",
      "Accuracy: 0.8635729991082807 se: 0.0008882576391409451\n",
      "Sensitivity: 0.7913283220035331 se: 0.002252780394520117\n",
      "Specificity: 0.9084810631618364 se: 0.0020754077370473034\n",
      "K= 31\n",
      "Accuracy: 0.8486684130789619 se: 0.0012755650544815681\n",
      "Sensitivity: 0.7646433670228103 se: 0.0022879993588150356\n",
      "Specificity: 0.9009109906158924 se: 0.0015493879456634388\n"
     ]
    }
   ],
   "source": [
    "from sklearn.neighbors import KNeighborsClassifier\n",
    "from sklearn.metrics import accuracy_score, recall_score, confusion_matrix\n",
    "from scipy.stats import sem\n",
    "from sklearn.preprocessing import OneHotEncoder, MinMaxScaler\n",
    "from sklearn.model_selection import train_test_split, KFold\n",
    "\n",
    "for k in [1,3,5,7,9,21,31]:\n",
    "    kf = KFold(n_splits=5, shuffle=True, random_state = 5645)\n",
    "    accs = []\n",
    "    sens = []\n",
    "    specs = []\n",
    "    for train_index, test_index in kf.split(X):\n",
    "        X_train = X.iloc[train_index]\n",
    "        X_test = X.iloc[test_index]\n",
    "        y_train = y[train_index]\n",
    "        y_test = y[test_index]\n",
    "\n",
    "        knn = KNeighborsClassifier(n_neighbors = k, n_jobs = -1)\n",
    "        knn.fit(X_train, y_train)\n",
    "        y_pred = knn.predict(X_test)\n",
    "\n",
    "        tn, fp, fn, tp = confusion_matrix(y_test, y_pred).ravel()\n",
    "\n",
    "        accs.append(accuracy_score(y_test, y_pred))\n",
    "        sens.append(recall_score(y_test, y_pred))\n",
    "        specs.append(tn/(tn+fp))\n",
    "    \n",
    "    print('K=', k)\n",
    "    print('Accuracy:', np.mean(accs), 'se:', sem(accs))\n",
    "    print('Sensitivity:', np.mean(sens), 'se:', sem(sens))\n",
    "    print('Specificity:', np.mean(specs), 'se:', sem(specs))"
   ]
  },
  {
   "cell_type": "markdown",
   "metadata": {},
   "source": [
    "# Con MinMax"
   ]
  },
  {
   "cell_type": "code",
   "execution_count": 2,
   "metadata": {},
   "outputs": [
    {
     "name": "stdout",
     "output_type": "stream",
     "text": [
      "K= 1\n",
      "Accuracy: 0.9103236663550278 se: 0.0010966817214079002\n",
      "Sensitivity: 0.8761944273294576 se: 0.0026436275744497364\n",
      "Specificity: 0.9315736817205504 se: 0.0018044452167607166\n",
      "K= 3\n",
      "Accuracy: 0.9095783000558482 se: 0.001991825984733374\n",
      "Sensitivity: 0.8740572890797518 se: 0.0044766233050480735\n",
      "Specificity: 0.9316329032593336 se: 0.0008666105102434687\n",
      "K= 5\n",
      "Accuracy: 0.9014306510785485 se: 0.0013535523593969576\n",
      "Sensitivity: 0.8595549448229709 se: 0.0026309507041491023\n",
      "Specificity: 0.9274611313985186 se: 0.000915749598720235\n",
      "K= 7\n",
      "Accuracy: 0.8935313135427178 se: 0.0010221333891341135\n",
      "Sensitivity: 0.8436841696866674 se: 0.0015457904087716437\n",
      "Specificity: 0.9245076112762266 se: 0.0016854417380099337\n",
      "K= 9\n",
      "Accuracy: 0.8905006032219147 se: 0.0019889892983018824\n",
      "Sensitivity: 0.833463048958359 se: 0.002504261588197031\n",
      "Specificity: 0.9259625567233698 se: 0.0021706412798334863\n",
      "K= 21\n",
      "Accuracy: 0.8700811680597853 se: 0.002194247114340109\n",
      "Sensitivity: 0.7933674060204515 se: 0.005113798172349682\n",
      "Specificity: 0.9177803892057984 se: 0.002781631636775592\n",
      "K= 31\n",
      "Accuracy: 0.8611880417040787 se: 0.0020922950906462215\n",
      "Sensitivity: 0.7784086067307785 se: 0.004316253930288424\n",
      "Specificity: 0.912678300719941 se: 0.0021945688799005687\n"
     ]
    }
   ],
   "source": [
    "from sklearn.neighbors import KNeighborsClassifier\n",
    "from sklearn.metrics import accuracy_score, recall_score, confusion_matrix\n",
    "from scipy.stats import sem\n",
    "from sklearn.preprocessing import OneHotEncoder, MinMaxScaler\n",
    "from sklearn.model_selection import train_test_split, KFold\n",
    "\n",
    "numerical = ['atom_number', 'bonds_number','Mol', 'MorganDensity', 'LogP',\n",
    "            'alone_atom_number', 'doubleBond', 'tripleBond', 'ring_number', 'oh_count', 'MeltingPoint', 'WaterSolubility']\n",
    "\n",
    "for k in [1,3,5,7,9,21,31]:\n",
    "    kf = KFold(n_splits=5, shuffle=True, random_state = 5645)\n",
    "    accs = []\n",
    "    sens = []\n",
    "    specs = []\n",
    "    for train_index, test_index in kf.split(X):\n",
    "        X_train = X.iloc[train_index]\n",
    "        X_test = X.iloc[test_index]\n",
    "        y_train = y[train_index]\n",
    "        y_test = y[test_index]\n",
    "        \n",
    "        minmax = MinMaxScaler()\n",
    "        minmax.fit(X_train[numerical])\n",
    "        \n",
    "        new_train = X_train.copy()\n",
    "        new_train.loc[:, numerical] = minmax.transform(X_train[numerical])\n",
    "\n",
    "        new_test = X_test.copy()\n",
    "        new_test.loc[:, numerical] = minmax.transform(X_test[numerical])\n",
    "        \n",
    "        knn = KNeighborsClassifier(n_neighbors = k, n_jobs = -1)\n",
    "        knn.fit(new_train, y_train)\n",
    "        y_pred = knn.predict(new_test)\n",
    "\n",
    "        tn, fp, fn, tp = confusion_matrix(y_test, y_pred).ravel()\n",
    "\n",
    "        accs.append(accuracy_score(y_test, y_pred))\n",
    "        sens.append(recall_score(y_test, y_pred))\n",
    "        specs.append(tn/(tn+fp))\n",
    "    \n",
    "    print('K=', k)\n",
    "    print('Accuracy:', np.mean(accs), 'se:', sem(accs))\n",
    "    print('Sensitivity:', np.mean(sens), 'se:', sem(sens))\n",
    "    print('Specificity:', np.mean(specs), 'se:', sem(specs))"
   ]
  },
  {
   "cell_type": "code",
   "execution_count": 2,
   "metadata": {},
   "outputs": [],
   "source": [
    "k1 = {\n",
    "'Accuracy': 0.9103236663550278,\n",
    "'Sensitivity': 0.8761944273294576,\n",
    "'Specificity': 0.9315736817205504\n",
    "}\n",
    "k3 = {\n",
    "'Accuracy': 0.9095783000558482,\n",
    "'Sensitivity': 0.8740572890797518,\n",
    "'Specificity': 0.9316329032593336\n",
    "}\n",
    "k5 = {\n",
    "'Accuracy': 0.9014306510785485,\n",
    "'Sensitivity': 0.8595549448229709,\n",
    "'Specificity': 0.9274611313985186 \n",
    "}\n",
    "\n",
    "k7 = {\n",
    "'Accuracy': 0.8935313135427178,\n",
    "'Sensitivity': 0.8436841696866674,\n",
    "'Specificity': 0.9245076112762266 \n",
    "}\n",
    "k9 = {\n",
    "'Accuracy': 0.8905006032219147,\n",
    "'Sensitivity': 0.833463048958359,\n",
    "'Specificity': 0.925962556723369863\n",
    "}\n",
    "k21 = {\n",
    "'Accuracy': 0.8700811680597853,\n",
    "'Sensitivity': 0.7933674060204515,\n",
    "'Specificity': 0.9177803892057984 \n",
    "}\n",
    "k31 = {\n",
    "'Accuracy': 0.8611880417040787 ,\n",
    "'Sensitivity': 0.7784086067307785 ,\n",
    "'Specificity': 0.912678300719941\n",
    "}"
   ]
  },
  {
   "cell_type": "code",
   "execution_count": 19,
   "metadata": {},
   "outputs": [],
   "source": [
    "accs = list()\n",
    "accs.append(k1['Accuracy'])\n",
    "accs.append(k3['Accuracy'])\n",
    "accs.append(k5['Accuracy'])\n",
    "accs.append(k7['Accuracy'])\n",
    "accs.append(k9['Accuracy'])\n",
    "accs.append(k21['Accuracy'])\n",
    "accs.append(k31['Accuracy'])"
   ]
  },
  {
   "cell_type": "code",
   "execution_count": 23,
   "metadata": {},
   "outputs": [
    {
     "data": {
      "text/plain": [
       "Text(0.5, 1.0, 'KNN Table 3')"
      ]
     },
     "execution_count": 23,
     "metadata": {},
     "output_type": "execute_result"
    },
    {
     "data": {
      "image/png": "[encoded data removed]",
      "text/plain": [
       "<Figure size 432x288 with 1 Axes>"
      ]
     },
     "metadata": {
      "needs_background": "light"
     },
     "output_type": "display_data"
    }
   ],
   "source": [
    "import matplotlib.pyplot as plt\n",
    "\n",
    "plt.plot([1,3,5,7,9,21,31], accs, '-o')\n",
    "plt.xlabel('K', fontsize = 15)\n",
    "plt.ylabel('Accuracy', fontsize = 15)\n",
    "plt.title('KNN Table 3')"
   ]
  }
 ],
 "metadata": {
  "kernelspec": {
   "display_name": "Python 3",
   "language": "python",
   "name": "python3"
  },
  "language_info": {
   "codemirror_mode": {
    "name": "ipython",
    "version": 3
   },
   "file_extension": ".py",
   "mimetype": "text/x-python",
   "name": "python",
   "nbconvert_exporter": "python",
   "pygments_lexer": "ipython3",
   "version": "3.7.7"
  }
 },
 "nbformat": 4,
 "nbformat_minor": 4
}
