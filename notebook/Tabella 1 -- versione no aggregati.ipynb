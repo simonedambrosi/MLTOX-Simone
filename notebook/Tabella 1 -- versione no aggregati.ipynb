{
 "cells": [
  {
   "cell_type": "markdown",
   "metadata": {},
   "source": [
    "# Chemicals e Pubchem"
   ]
  },
  {
   "cell_type": "code",
   "execution_count": 1,
   "metadata": {},
   "outputs": [],
   "source": [
    "from helper_knn import *\n",
    "\n",
    "db = pd.read_csv('lc_db_processed.csv').drop(columns = 'Unnamed: 0')\n",
    "db = pd.concat([db,\n",
    "                pd.DataFrame(pd.DataFrame(db['pubchem2d'].values).\\\n",
    "                             apply(lambda x: x.str.replace('', ' ').str.strip().str.split(' '), \n",
    "                                                                        axis = 1)[0].to_list(),\n",
    "                   columns = ['pub'+ str(i) for i in range(1,882)])],\n",
    "               axis = 1)\n",
    "\n",
    "numerical = ['atom_number', 'bonds_number','Mol', 'MorganDensity', 'LogP',\n",
    "            'alone_atom_number', 'doubleBond', 'tripleBond', 'ring_number', 'oh_count', 'MeltingPoint', 'WaterSolubility']\n",
    "\n",
    "categorical = ['test_cas', 'fish', 'smiles', 'pubchem2d', 'obs_duration_mean',\n",
    "               'conc1_type', 'exposure_type', 'control_type', 'media_type',\n",
    "               'application_freq_unit', 'species', 'class', 'tax_order', 'family', 'genus']\n",
    "db.drop(columns = categorical, inplace = True)\n",
    "\n",
    "X = db.drop(columns = 'conc1_mean')\n",
    "y = np.where(db['conc1_mean']> 1, 0,1)"
   ]
  },
  {
   "cell_type": "markdown",
   "metadata": {},
   "source": [
    "# Logistic Regression -- fatta\n",
    "sta nel file Regressione Logistica\n",
    "Risultati: \n",
    "\n",
    "Accuracy: 0.8548787786221854 se: 0.0014016778744102632\n",
    "\n",
    "Sensitivity: 0.7925727120942547 se: 0.006806487851100124\n",
    "\n",
    "Specificity: 0.8937571771387468 se: 0.0037625931835931054\n",
    "\n",
    "# K-NN"
   ]
  },
  {
   "cell_type": "code",
   "execution_count": 2,
   "metadata": {},
   "outputs": [
    {
     "name": "stdout",
     "output_type": "stream",
     "text": [
      "Accuracy:    0.8386822054163465 se: 0.003511490642735706\n",
      "Sensitivity: 0.7750543592155392 se: 0.013999533749634328\n",
      "Specificity: 0.8780690876469682 se: 0.005848042260615696\n",
      "Precision:   0.7980879344718407 se: 0.007086587169302267\n"
     ]
    }
   ],
   "source": [
    "accs = []\n",
    "sens = []\n",
    "specs = []\n",
    "precs = []\n",
    "\n",
    "kf = KFold(n_splits=5, shuffle=True, random_state = 5645)\n",
    "\n",
    "for train_index, test_index in kf.split(X):\n",
    "    X_train = X.iloc[train_index]\n",
    "    X_test = X.iloc[test_index]\n",
    "    y_train = y[train_index]\n",
    "    y_test = y[test_index]\n",
    "\n",
    "    minmax = MinMaxScaler()\n",
    "    minmax.fit(X_train[numerical])\n",
    "\n",
    "    new_train = X_train.copy()\n",
    "    new_train.loc[:, numerical] = minmax.transform(X_train[numerical])\n",
    "\n",
    "    new_test = X_test.copy()\n",
    "    new_test.loc[:, numerical] = minmax.transform(X_test[numerical])\n",
    "    \n",
    "    \n",
    "    knn = KNeighborsClassifier(n_neighbors = 1)\n",
    "    knn.fit(new_train, y_train)\n",
    "    y_pred = knn.predict(new_test)\n",
    "    accs.append(accuracy_score(y_test, y_pred))\n",
    "    sens.append(recall_score(y_test, y_pred))\n",
    "    \n",
    "    tn, fp, fn, tp = confusion_matrix(y_test, y_pred).ravel()\n",
    "    \n",
    "    specs.append(tn/(tn+fp))\n",
    "    precs.append(precision_score(y_test, y_pred))\n",
    "    \n",
    "print('Accuracy:   ', np.mean(accs), 'se:', sem(accs))\n",
    "print('Sensitivity:', np.mean(sens), 'se:', sem(sens))\n",
    "print('Specificity:', np.mean(specs), 'se:', sem(specs))\n",
    "print('Precision:  ', np.mean(precs), 'se:', sem(precs))"
   ]
  },
  {
   "cell_type": "markdown",
   "metadata": {},
   "source": [
    "# Random Forest"
   ]
  },
  {
   "cell_type": "code",
   "execution_count": 3,
   "metadata": {},
   "outputs": [
    {
     "name": "stdout",
     "output_type": "stream",
     "text": [
      "Accuracy:    0.8757948613515257 se: 0.0016729374973452693\n",
      "Sensitivity: 0.8223203020693493 se: 0.0038455515652337643\n",
      "Specificity: 0.9088867352418838 se: 0.003874115648592772\n",
      "Precision:   0.8486979429267368 se: 0.005058536178514889\n"
     ]
    }
   ],
   "source": [
    "from sklearn.ensemble import RandomForestClassifier\n",
    "\n",
    "accs = []\n",
    "sens = []\n",
    "specs = []\n",
    "precs = []\n",
    "\n",
    "kf = KFold(n_splits=5, shuffle=True, random_state = 5645)\n",
    "\n",
    "for train_index, test_index in kf.split(X):\n",
    "    X_train = X.iloc[train_index]\n",
    "    X_test = X.iloc[test_index]\n",
    "    y_train = y[train_index]\n",
    "    y_test = y[test_index]\n",
    "\n",
    "    minmax = MinMaxScaler()\n",
    "    minmax.fit(X_train[numerical])\n",
    "\n",
    "    new_train = X_train.copy()\n",
    "    new_train.loc[:, numerical] = minmax.transform(X_train[numerical])\n",
    "\n",
    "    new_test = X_test.copy()\n",
    "    new_test.loc[:, numerical] = minmax.transform(X_test[numerical])\n",
    "    \n",
    "    \n",
    "    rfc = RandomForestClassifier()\n",
    "    rfc.fit(new_train, y_train)\n",
    "    y_pred = rfc.predict(new_test)\n",
    "    accs.append(accuracy_score(y_test, y_pred))\n",
    "    sens.append(recall_score(y_test, y_pred))\n",
    "    \n",
    "    tn, fp, fn, tp = confusion_matrix(y_test, y_pred).ravel()\n",
    "    \n",
    "    specs.append(tn/(tn+fp))\n",
    "    precs.append(precision_score(y_test, y_pred))\n",
    "    \n",
    "print('Accuracy:   ', np.mean(accs), 'se:', sem(accs))\n",
    "print('Sensitivity:', np.mean(sens), 'se:', sem(sens))\n",
    "print('Specificity:', np.mean(specs), 'se:', sem(specs))\n",
    "print('Precision:  ', np.mean(precs), 'se:', sem(precs))"
   ]
  },
  {
   "cell_type": "markdown",
   "metadata": {},
   "source": [
    "# Simple RASAR"
   ]
  },
  {
   "cell_type": "code",
   "execution_count": 4,
   "metadata": {},
   "outputs": [],
   "source": [
    "from sklearn.linear_model import LogisticRegression\n",
    "\n",
    "def right_neighbor(neighbors, X_train, X_train_i):\n",
    "    # IDX Neighbors\n",
    "    idx_neigh_0 = pd.DataFrame(neighbors[1])[0].apply(lambda x: X_train_i.iloc[x].name)\n",
    "    idx_neigh_1 = pd.DataFrame(neighbors[1])[1].apply(lambda x: X_train_i.iloc[x].name)\n",
    "    \n",
    "    idx_neigh = idx_neigh_0.copy()\n",
    "    \n",
    "    # dove l'indice del primo vicino risulta essere uguale a se stesso lo sostituisco con il secondo vicino\n",
    "    idx_neigh[X_train.index == idx_neigh_0] = idx_neigh_1[X_train.index == idx_neigh_0].values\n",
    "    \n",
    "    # Distance from the Nearest Neighbor that is NOT itself\n",
    "    dist_0 = pd.DataFrame(neighbors[0])[0]\n",
    "    dist_1 = pd.DataFrame(neighbors[0])[1]\n",
    "    \n",
    "    distance = dist_0.copy()\n",
    "    distance[X_train.index == idx_neigh_0] = dist_1[X_train.index == idx_neigh_0].values\n",
    "    \n",
    "    return idx_neigh, distance"
   ]
  },
  {
   "cell_type": "code",
   "execution_count": 5,
   "metadata": {},
   "outputs": [
    {
     "name": "stdout",
     "output_type": "stream",
     "text": [
      "Accuracy:    0.6985793090254958 se: 0.001083627388248233\n",
      "Sensitivity: 0.9662125884843853 se: 0.0019552932698066795\n",
      "Specificity: 0.5323428798141054 se: 0.004218068777537254\n"
     ]
    }
   ],
   "source": [
    "accs = []\n",
    "sens = []\n",
    "specs = []\n",
    "precs = []\n",
    "\n",
    "kf = KFold(n_splits=5, shuffle=True, random_state = 5645)\n",
    "\n",
    "for train_index, test_index in kf.split(X):\n",
    "    \n",
    "    X_train = X.iloc[train_index]\n",
    "    X_test = X.iloc[test_index]\n",
    "    y_train = y[train_index]\n",
    "    y_test = y[test_index]\n",
    "\n",
    "    minmax = MinMaxScaler()\n",
    "    minmax.fit(X_train[numerical])\n",
    "\n",
    "    new_train = X_train.copy()\n",
    "    new_train.loc[:, numerical] = minmax.transform(X_train[numerical])\n",
    "\n",
    "    new_test = X_test.copy()\n",
    "    new_test.loc[:, numerical] = minmax.transform(X_test[numerical])\n",
    "    \n",
    "    X_train0 = X_train[y_train == 0].copy()\n",
    "    X_train1 = X_train[y_train == 1].copy()\n",
    "\n",
    "    ## DF Train\n",
    "\n",
    "    knn0 = KNeighborsClassifier(n_neighbors = 2)\n",
    "    knn0.fit(X_train0, y_train[y_train == 0])\n",
    "\n",
    "    neigh_train0 = knn0.kneighbors(X_train, return_distance = True)\n",
    "    idx_neigh0, dist0 = right_neighbor(neigh_train0, X_train, X_train0)\n",
    "\n",
    "    knn1 = KNeighborsClassifier(n_neighbors = 2)\n",
    "    knn1.fit(X_train1, y_train[y_train == 1])\n",
    "\n",
    "    neigh_train1 = knn1.kneighbors(X_train, return_distance = True)\n",
    "    idx_neigh1, dist1 = right_neighbor(neigh_train1, X_train, X_train1)\n",
    "\n",
    "    df_rasar_train = pd.DataFrame({'idx_train': X_train.index.values,\n",
    "                          'label_train': y_train,\n",
    "                          'idx_neigh0': idx_neigh0.values,\n",
    "                          'dist_neigh0': dist0,       \n",
    "                          'idx_neigh1': idx_neigh1.values,\n",
    "                          'dist_neigh1': dist1})\n",
    "\n",
    "    # DF test\n",
    "    knn0 = KNeighborsClassifier(n_neighbors = 1)\n",
    "    knn0.fit(X_train0, y_train[y_train == 0])\n",
    "    neigh_test0 = knn0.kneighbors(X_test, return_distance = True)\n",
    "    idx_neigh_test0 = pd.DataFrame(neigh_test0[1])[0].apply(lambda x: X_train0.iloc[x].name)\n",
    "\n",
    "    knn1 = KNeighborsClassifier(n_neighbors = 1)\n",
    "    knn1.fit(X_train1, y_train[y_train == 1])\n",
    "    neigh_test1 = knn1.kneighbors(X_test, return_distance = True)\n",
    "    idx_neigh_test1 = pd.DataFrame(neigh_test1[1])[0].apply(lambda x: X_train1.iloc[x].name)\n",
    "\n",
    "    df_rasar_test = pd.DataFrame({'idx_test': X_test.index.values,\n",
    "                  'label_test': y_test,\n",
    "                  'idx_neigh0': idx_neigh_test0.values,\n",
    "                  'dist_neigh0': neigh_test0[0].ravel(),\n",
    "                  'idx_neigh1': idx_neigh_test1.values,\n",
    "                  'dist_neigh1': neigh_test1[0].ravel()})\n",
    "\n",
    "\n",
    "    lrc = LogisticRegression()\n",
    "    lrc.fit(df_rasar_train[['dist_neigh0','dist_neigh1']], y_train)\n",
    "    y_pred = lrc.predict(df_rasar_test[['dist_neigh0','dist_neigh1']])\n",
    "    accs.append(accuracy_score(y_test, y_pred))\n",
    "    sens.append(recall_score(y_test, y_pred))\n",
    "    \n",
    "    tn, fp, fn, tp = confusion_matrix(y_test, y_pred).ravel()\n",
    "    \n",
    "    specs.append(tn/(tn+fp))\n",
    "    precs.append(precision_score(y_test, y_pred))\n",
    "    \n",
    "print('Accuracy:   ', np.mean(accs), 'se:', sem(accs))\n",
    "print('Sensitivity:', np.mean(sens), 'se:', sem(sens))\n",
    "print('Specificity:', np.mean(specs), 'se:', sem(specs))\n",
    "print('Precision:  ', np.mean(precs), 'se:', sem(precs))"
   ]
  }
 ],
 "metadata": {
  "kernelspec": {
   "display_name": "Python 3",
   "language": "python",
   "name": "python3"
  },
  "language_info": {
   "codemirror_mode": {
    "name": "ipython",
    "version": 3
   },
   "file_extension": ".py",
   "mimetype": "text/x-python",
   "name": "python",
   "nbconvert_exporter": "python",
   "pygments_lexer": "ipython3",
   "version": "3.7.7"
  }
 },
 "nbformat": 4,
 "nbformat_minor": 4
}
