{
 "cells": [
  {
   "cell_type": "markdown",
   "metadata": {},
   "source": [
    "## Solo chemicals -- Tabella 1"
   ]
  },
  {
   "cell_type": "code",
   "execution_count": 3,
   "metadata": {},
   "outputs": [],
   "source": [
    "from helper_knn import *\n",
    "\n",
    "db = pd.read_csv('lc_db_processed.csv').drop(columns = 'Unnamed: 0')\n",
    "db = pd.concat([db,\n",
    "                pd.DataFrame(pd.DataFrame(db['pubchem2d'].values).\\\n",
    "                             apply(lambda x: x.str.replace('', ' ').str.strip().str.split(' '), \n",
    "                                                                        axis = 1)[0].to_list(),\n",
    "                   columns = ['pub'+ str(i) for i in range(1,882)])],\n",
    "               axis = 1)\n",
    "\n",
    "numerical = ['atom_number', 'bonds_number','Mol', 'MorganDensity', 'LogP',\n",
    "            'alone_atom_number', 'doubleBond', 'tripleBond', 'ring_number', 'oh_count', 'MeltingPoint', 'WaterSolubility']\n",
    "\n",
    "categorical = ['test_cas', 'fish', 'smiles', 'pubchem2d', 'obs_duration_mean',\n",
    "               'conc1_type', 'exposure_type', 'control_type', 'media_type',\n",
    "               'application_freq_unit', 'species', 'class', 'tax_order', 'family', 'genus']\n",
    "db.drop(columns = categorical, inplace = True)\n",
    "\n",
    "X = db.drop(columns = 'conc1_mean')\n",
    "y = np.where(db['conc1_mean']> 1, 0,1)"
   ]
  },
  {
   "cell_type": "code",
   "execution_count": 6,
   "metadata": {},
   "outputs": [
    {
     "name": "stdout",
     "output_type": "stream",
     "text": [
      "Accuracy: 0.8548787786221854 se: 0.0014016778744102632\n",
      "Sensitivity: 0.7925727120942547 se: 0.006806487851100124\n",
      "Specificity: 0.8937571771387468 se: 0.0037625931835931054\n"
     ]
    }
   ],
   "source": [
    "from sklearn.linear_model import LogisticRegression\n",
    "\n",
    "numerical = ['atom_number', 'bonds_number','Mol', 'MorganDensity', 'LogP',\n",
    "            'alone_atom_number', 'doubleBond', 'tripleBond', 'ring_number', 'oh_count', 'MeltingPoint', 'WaterSolubility']\n",
    "\n",
    "kf = KFold(n_splits=5, shuffle=True, random_state = 5645)\n",
    "accs = []\n",
    "sens = []\n",
    "specs = []\n",
    "for train_index, test_index in kf.split(X):\n",
    "    X_train = X.iloc[train_index]\n",
    "    X_test = X.iloc[test_index]\n",
    "    y_train = y[train_index]\n",
    "    y_test = y[test_index]\n",
    "\n",
    "    minmax = MinMaxScaler()\n",
    "    minmax.fit(X_train[numerical])\n",
    "\n",
    "    new_train = X_train.copy()\n",
    "    new_train.loc[:, numerical] = minmax.transform(X_train[numerical])\n",
    "\n",
    "    new_test = X_test.copy()\n",
    "    new_test.loc[:, numerical] = minmax.transform(X_test[numerical])\n",
    "\n",
    "    lrc = LogisticRegression(n_jobs = -1)\n",
    "    lrc.fit(new_train, y_train)\n",
    "    y_pred = lrc.predict(new_test)\n",
    "\n",
    "    tn, fp, fn, tp = confusion_matrix(y_test, y_pred).ravel()\n",
    "\n",
    "    accs.append(accuracy_score(y_test, y_pred))\n",
    "    sens.append(recall_score(y_test, y_pred))\n",
    "    specs.append(tn/(tn+fp))\n",
    "    \n",
    "print('Accuracy:', np.mean(accs), 'se:', sem(accs))\n",
    "print('Sensitivity:', np.mean(sens), 'se:', sem(sens))\n",
    "print('Specificity:', np.mean(specs), 'se:', sem(specs))"
   ]
  },
  {
   "cell_type": "markdown",
   "metadata": {},
   "source": [
    "# Tutto -- Tabella 3"
   ]
  },
  {
   "cell_type": "code",
   "execution_count": 2,
   "metadata": {},
   "outputs": [],
   "source": [
    "from helper_knn import *\n",
    "from sklearn.preprocessing import OneHotEncoder\n",
    "\n",
    "db = pd.read_csv('lc_db_processed.csv').drop(columns = 'Unnamed: 0')\n",
    "db = pd.concat([db,\n",
    "                pd.DataFrame(pd.DataFrame(db['pubchem2d'].values).\\\n",
    "                             apply(lambda x: x.str.replace('', ' ').str.strip().str.split(' '), \n",
    "                                                                        axis = 1)[0].to_list(),\n",
    "                   columns = ['pub'+ str(i) for i in range(1,882)])],\n",
    "               axis = 1)\n",
    "\n",
    "numerical = ['atom_number', 'bonds_number','Mol', 'MorganDensity', 'LogP',\n",
    "            'alone_atom_number', 'doubleBond', 'tripleBond', 'ring_number', 'oh_count', 'MeltingPoint', 'WaterSolubility']\n",
    "\n",
    "categorical = ['obs_duration_mean',\n",
    "               'conc1_type', 'exposure_type', 'control_type', 'media_type',\n",
    "               'application_freq_unit', 'species', 'class', 'tax_order', 'family', 'genus']\n",
    "\n",
    "ohe = OneHotEncoder(sparse = False)\n",
    "ohe.fit(db[categorical])\n",
    "\n",
    "finaldb = pd.concat([db.drop(columns = categorical),\n",
    "                     pd.DataFrame(ohe.transform(db[categorical]), columns = ohe.get_feature_names(categorical))],\n",
    "                    axis = 1)\n",
    "\n",
    "X = finaldb.drop(columns = ['test_cas','conc1_mean', 'fish', 'smiles','pubchem2d'])\n",
    "y = np.where(finaldb['conc1_mean']> 1, 0,1)"
   ]
  },
  {
   "cell_type": "code",
   "execution_count": 12,
   "metadata": {},
   "outputs": [
    {
     "name": "stdout",
     "output_type": "stream",
     "text": [
      "Accuracy: 0.867994717565637 se: 0.0019192924259399985\n",
      "Sensitivity: 0.8066958429632907 se: 0.003852596267124875\n",
      "Specificity: 0.9061087437164688 se: 0.001583719938317112\n"
     ]
    }
   ],
   "source": [
    "from sklearn.linear_model import LogisticRegression\n",
    "\n",
    "kf = KFold(n_splits=5, shuffle=True, random_state = 5645)\n",
    "accs = []\n",
    "sens = []\n",
    "specs = []\n",
    "for train_index, test_index in kf.split(X):\n",
    "    X_train = X.iloc[train_index]\n",
    "    X_test = X.iloc[test_index]\n",
    "    y_train = y[train_index]\n",
    "    y_test = y[test_index]\n",
    "\n",
    "    minmax = MinMaxScaler()\n",
    "    minmax.fit(X_train[numerical])\n",
    "\n",
    "    new_train = X_train.copy()\n",
    "    new_train.loc[:, numerical] = minmax.transform(X_train[numerical])\n",
    "\n",
    "    new_test = X_test.copy()\n",
    "    new_test.loc[:, numerical] = minmax.transform(X_test[numerical])\n",
    "\n",
    "    lrc = LogisticRegression(n_jobs = -1)\n",
    "    lrc.fit(new_train, y_train)\n",
    "    y_pred = lrc.predict(new_test)\n",
    "\n",
    "    tn, fp, fn, tp = confusion_matrix(y_test, y_pred).ravel()\n",
    "\n",
    "    accs.append(accuracy_score(y_test, y_pred))\n",
    "    sens.append(recall_score(y_test, y_pred))\n",
    "    specs.append(tn/(tn+fp))\n",
    "    \n",
    "print('Accuracy:', np.mean(accs), 'se:', sem(accs))\n",
    "print('Sensitivity:', np.mean(sens), 'se:', sem(sens))\n",
    "print('Specificity:', np.mean(specs), 'se:', sem(specs))"
   ]
  }
 ],
 "metadata": {
  "finalized": {
   "timestamp": 1617479399322,
   "trusted": true
  },
  "kernelspec": {
   "display_name": "Python 3",
   "language": "python",
   "name": "python3"
  },
  "language_info": {
   "codemirror_mode": {
    "name": "ipython",
    "version": 3
   },
   "file_extension": ".py",
   "mimetype": "text/x-python",
   "name": "python",
   "nbconvert_exporter": "python",
   "pygments_lexer": "ipython3",
   "version": "3.7.7"
  }
 },
 "nbformat": 4,
 "nbformat_minor": 4
}
